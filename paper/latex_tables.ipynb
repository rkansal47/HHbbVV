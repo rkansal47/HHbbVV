{
 "cells": [
  {
   "cell_type": "code",
   "execution_count": 1,
   "metadata": {},
   "outputs": [],
   "source": [
    "import yaml"
   ]
  },
  {
   "cell_type": "code",
   "execution_count": 10,
   "metadata": {},
   "outputs": [],
   "source": [
    "years = [\"2016\", \"2017\", \"2018\"]\n",
    "years_vfp = [\"2016APV\", \"2016\", \"2017\", \"2018\"]"
   ]
  },
  {
   "attachments": {},
   "cell_type": "markdown",
   "metadata": {},
   "source": [
    "Datasets"
   ]
  },
  {
   "cell_type": "code",
   "execution_count": 19,
   "metadata": {},
   "outputs": [],
   "source": [
    "with open(\"samples/JetHT.yaml\", \"r\") as f:\n",
    "    samples = yaml.safe_load(f)[\"samples\"]\n",
    "\n",
    "lines = []\n",
    "\n",
    "for year in years:\n",
    "    datasets = list(samples[f\"JetHT{year}\"][\"datasets\"].values())\n",
    "    for i in range(len(datasets)):\n",
    "        datasets[i] = datasets[i].replace(\"_\", \"\\_\")\n",
    "\n",
    "    lend = len(datasets)\n",
    "    lines.append(rf\"\\multirow{{{lend}}}{{*}}{{ {year} }} & {datasets[0]} \\\\\" + \"\\n\")\n",
    "\n",
    "    for dataset in datasets[1:]:\n",
    "        lines.append(rf\" & {dataset} \\\\\" + \"\\n\")\n",
    "\n",
    "    lines.append(r\"\\hline\" + \"\\n\")\n",
    "\n",
    "with open(\"tables/datasets_jetht.tex\", \"w\") as f:\n",
    "    f.writelines(lines)"
   ]
  },
  {
   "cell_type": "code",
   "execution_count": 20,
   "metadata": {},
   "outputs": [],
   "source": [
    "with open(\"samples/SingleMuon.yaml\", \"r\") as f:\n",
    "    samples = yaml.safe_load(f)[\"samples\"]\n",
    "\n",
    "lines = []\n",
    "\n",
    "for year in years:\n",
    "    datasets = list(samples[f\"SingleMu{year}\"][\"datasets\"].values())\n",
    "    for i in range(len(datasets)):\n",
    "        datasets[i] = datasets[i].replace(\"_\", \"\\_\")\n",
    "\n",
    "    lend = len(datasets)\n",
    "    lines.append(rf\"\\multirow{{{lend}}}{{*}}{{ {year} }} & {datasets[0]} \\\\\" + \"\\n\")\n",
    "\n",
    "    for dataset in datasets[1:]:\n",
    "        lines.append(rf\" & {dataset} \\\\\" + \"\\n\")\n",
    "\n",
    "    lines.append(r\"\\hline\" + \"\\n\")\n",
    "\n",
    "with open(\"tables/datasets_singlemuon.tex\", \"w\") as f:\n",
    "    f.writelines(lines)"
   ]
  },
  {
   "attachments": {},
   "cell_type": "markdown",
   "metadata": {},
   "source": [
    "Triggers"
   ]
  },
  {
   "cell_type": "code",
   "execution_count": 21,
   "metadata": {},
   "outputs": [],
   "source": [
    "from triggers import muon_HLTs\n",
    "\n",
    "lines = []\n",
    "\n",
    "for year in years:\n",
    "    hlts = muon_HLTs[year]\n",
    "    for i in range(len(hlts)):\n",
    "        hlts[i] = hlts[i].replace(\"_\", \"\\_\")\n",
    "\n",
    "    lend = len(hlts)\n",
    "    lines.append(rf\"\\multirow{{{lend}}}{{*}}{{ {year} }} & {hlts[0]} \\\\\" + \"\\n\")\n",
    "\n",
    "    for hlt in hlts[1:]:\n",
    "        lines.append(rf\" & {hlt} \\\\\" + \"\\n\")\n",
    "\n",
    "    lines.append(r\"\\hline\" + \"\\n\")\n",
    "\n",
    "with open(\"tables/hlts_singlemuon.tex\", \"w\") as f:\n",
    "    f.writelines(lines)"
   ]
  },
  {
   "cell_type": "code",
   "execution_count": null,
   "metadata": {},
   "outputs": [],
   "source": []
  }
 ],
 "metadata": {
  "kernelspec": {
   "display_name": "python310",
   "language": "python",
   "name": "python3"
  },
  "language_info": {
   "codemirror_mode": {
    "name": "ipython",
    "version": 3
   },
   "file_extension": ".py",
   "mimetype": "text/x-python",
   "name": "python",
   "nbconvert_exporter": "python",
   "pygments_lexer": "ipython3",
   "version": "3.10.8"
  },
  "orig_nbformat": 4,
  "vscode": {
   "interpreter": {
    "hash": "15adc7883e707560d0d9727709639b8fe3f3cff1f197d2d643742923ff23a29c"
   }
  }
 },
 "nbformat": 4,
 "nbformat_minor": 2
}
