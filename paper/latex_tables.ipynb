{
 "cells": [
  {
   "cell_type": "code",
   "execution_count": 1,
   "metadata": {},
   "outputs": [],
   "source": [
    "import yaml\n",
    "import json\n",
    "import numpy as np\n",
    "from copy import deepcopy"
   ]
  },
  {
   "cell_type": "code",
   "execution_count": 3,
   "metadata": {},
   "outputs": [],
   "source": [
    "years = [\"2016\", \"2017\", \"2018\"]\n",
    "years_vfp = [\"2016APV\", \"2016\", \"2017\", \"2018\"]"
   ]
  },
  {
   "attachments": {},
   "cell_type": "markdown",
   "metadata": {},
   "source": [
    "### Datasets"
   ]
  },
  {
   "cell_type": "markdown",
   "metadata": {},
   "source": [
    "Data"
   ]
  },
  {
   "cell_type": "code",
   "execution_count": 17,
   "metadata": {},
   "outputs": [],
   "source": [
    "with open(\"samples/JetHT.yaml\", \"r\") as f:\n",
    "    samples = yaml.safe_load(f)[\"samples\"]\n",
    "\n",
    "lines = []\n",
    "\n",
    "for year in years:\n",
    "    datasets = list(samples[f\"JetHT{year}\"][\"datasets\"].values())\n",
    "    for i in range(len(datasets)):\n",
    "        datasets[i] = datasets[i].replace(\"_\", \"\\_\")\n",
    "\n",
    "    lend = len(datasets)\n",
    "    lines.append(rf\"\\multirow{{{lend}}}{{*}}{{ {year} }} & {datasets[0]} \\\\\" + \"\\n\")\n",
    "\n",
    "    for dataset in datasets[1:]:\n",
    "        lines.append(rf\" & {dataset} \\\\\" + \"\\n\")\n",
    "\n",
    "    lines.append(r\"\\hline\" + \"\\n\")\n",
    "\n",
    "# remove trailing \"\\\\\" and \"\\hline\"\n",
    "lines = lines[:-1]\n",
    "lines[-1] = lines[-1][:-4]\n",
    "\n",
    "with open(\"tables/datasets_jetht.tex\", \"w\") as f:\n",
    "    f.writelines(lines)"
   ]
  },
  {
   "cell_type": "code",
   "execution_count": 16,
   "metadata": {},
   "outputs": [],
   "source": [
    "with open(\"samples/SingleMuon.yaml\", \"r\") as f:\n",
    "    samples = yaml.safe_load(f)[\"samples\"]\n",
    "\n",
    "lines = []\n",
    "\n",
    "for year in years:\n",
    "    datasets = list(samples[f\"SingleMu{year}\"][\"datasets\"].values())\n",
    "    for i in range(len(datasets)):\n",
    "        datasets[i] = datasets[i].replace(\"_\", \"\\_\")\n",
    "\n",
    "    lend = len(datasets)\n",
    "    lines.append(rf\"\\multirow{{{lend}}}{{*}}{{ {year} }} & {datasets[0]} \\\\\" + \"\\n\")\n",
    "\n",
    "    for dataset in datasets[1:]:\n",
    "        lines.append(rf\" & {dataset} \\\\\" + \"\\n\")\n",
    "\n",
    "    lines.append(r\"\\hline\" + \"\\n\")\n",
    "\n",
    "# remove trailing \"\\\\\" and \"\\hline\"\n",
    "lines = lines[:-1]\n",
    "lines[-1] = lines[-1][:-4]\n",
    "\n",
    "with open(\"tables/datasets_singlemuon.tex\", \"w\") as f:\n",
    "    f.writelines(lines)"
   ]
  },
  {
   "attachments": {},
   "cell_type": "markdown",
   "metadata": {},
   "source": [
    "MC"
   ]
  },
  {
   "cell_type": "code",
   "execution_count": 14,
   "metadata": {},
   "outputs": [],
   "source": [
    "def process_xsec(xsec):\n",
    "    if isinstance(xsec, str):\n",
    "        xsec = eval(xsec)\n",
    "\n",
    "    return xsec"
   ]
  },
  {
   "cell_type": "code",
   "execution_count": 15,
   "metadata": {},
   "outputs": [],
   "source": [
    "with open(\"samples/MC_bg.yaml\", \"r\") as f:\n",
    "    samples = yaml.safe_load(f)[\"samples\"]\n",
    "\n",
    "with open(\"../data/xsecs.json\", \"r\") as f:\n",
    "    xsecs = json.load(f)\n",
    "\n",
    "lines = []\n",
    "\n",
    "for sample in np.sort(list(samples.keys())):\n",
    "    for key, dataset in samples[sample][\"datasets\"].items():\n",
    "        dname = dataset.split(\"/\")[1].replace(\"_\", \"\\_\")\n",
    "        lines.append(rf\" & {dname} & {process_xsec(xsecs[key]):.2f} \\\\\" + \"\\n\")\n",
    "\n",
    "    lend = len(samples[sample][\"datasets\"])\n",
    "    lines[-lend] = rf\"\\multirow{{{lend}}}{{*}}{{{sample}}}\" + lines[-lend]\n",
    "    lines.append(r\"\\hline\" + \"\\n\")\n",
    "\n",
    "# remove trailing \"\\\\\" and \"\\hline\"\n",
    "lines = lines[:-1]\n",
    "lines[-1] = lines[-1][:-4]\n",
    "\n",
    "with open(\"tables/datasets_mcbg.tex\", \"w\") as f:\n",
    "    f.writelines(lines)"
   ]
  },
  {
   "cell_type": "code",
   "execution_count": 12,
   "metadata": {},
   "outputs": [],
   "source": [
    "with open(\"samples/MC_sig.yaml\", \"r\") as f:\n",
    "    samples = yaml.safe_load(f)[\"samples\"]\n",
    "\n",
    "with open(\"../data/xsecs.json\", \"r\") as f:\n",
    "    xsecs = json.load(f)\n",
    "\n",
    "lines = []\n",
    "\n",
    "for sample in np.sort(list(samples.keys())):\n",
    "    for key, dataset in samples[sample][\"datasets\"].items():\n",
    "        key = key.split(\"_pn4q\")[0]\n",
    "        cl = key.split(\"cHHH\")[1].split(\"_\")[0].replace(\"p\", \".\")\n",
    "        sm = \"SM\" if cl == \"1\" else \"BSM\"\n",
    "        pname = rf\"ggHH {sm} ($\\kappa_{{\\lambda}} = {cl}$)\"\n",
    "        dname = dataset.split(\"/\")[1].replace(\"_\", \"\\_\")\n",
    "        lines.append(rf\"{pname} & {dname} & {process_xsec(xsecs[key]) * 1000:.2f} \\\\\" + \"\\n\")\n",
    "\n",
    "with open(\"tables/datasets_mcsig_nonres.tex\", \"w\") as f:\n",
    "    f.writelines(lines)"
   ]
  },
  {
   "cell_type": "code",
   "execution_count": 22,
   "metadata": {},
   "outputs": [],
   "source": [
    "def mxmy(sample):\n",
    "    mY = int(sample.split(\"-\")[-1])\n",
    "    mX = int(sample.split(\"NMSSM_XToYHTo2W2BTo4Q2B_MX-\")[1].split(\"_\")[0])\n",
    "\n",
    "    return (mX, mY)\n",
    "\n",
    "\n",
    "with open(\"../data/xhy/parsed_miniaod_2017.yaml\", \"r\") as f:\n",
    "    samples = yaml.safe_load(f)[\"samples\"][\"XHY\"][\"datasets\"]\n",
    "\n",
    "mps = [[*mxmy(sample)] for sample in samples]\n",
    "mxs = np.sort(np.unique(np.array(mps)[:, 0]))\n",
    "mys = np.sort(np.unique(np.array(mps)[:, 1]))\n",
    "\n",
    "lines = []\n",
    "\n",
    "line = r\"$M_Y$ [\\gev] & \" + \" & \".join(mxs.astype(str)) + r\"\\\\\" + \"\\n\"\n",
    "lines.append(line)\n",
    "\n",
    "for my in mys:\n",
    "    line = rf\"{my}\"\n",
    "    for mx in mxs:\n",
    "        line += \" & \"\n",
    "        if [mx, my] in mps:\n",
    "            line += r\"$\\checkmark$ \"\n",
    "    line += r\"\\\\\" + \"\\n\"\n",
    "    lines.append(line)\n",
    "\n",
    "# remove trailing \"\\\\\\n\"\n",
    "lines[-1] = lines[-1][:-3]\n",
    "\n",
    "with open(\"tables/datasets_mcsig_res.tex\", \"w\") as f:\n",
    "    f.writelines(lines)"
   ]
  },
  {
   "attachments": {},
   "cell_type": "markdown",
   "metadata": {},
   "source": [
    "### Triggers"
   ]
  },
  {
   "cell_type": "code",
   "execution_count": 4,
   "metadata": {},
   "outputs": [],
   "source": [
    "from triggers import HLTs\n",
    "\n",
    "lines = []\n",
    "\n",
    "for year in years:\n",
    "    hlts = deepcopy(HLTs[year])\n",
    "    for i in range(len(hlts)):\n",
    "        hlts[i] = hlts[i].replace(\"_\", \"\\_\")\n",
    "\n",
    "    lend = len(hlts)\n",
    "    lines.append(rf\"\\multirow{{{lend}}}{{*}}{{ {year} }} & {hlts[0]} \\\\\" + \"\\n\")\n",
    "\n",
    "    for hlt in hlts[1:]:\n",
    "        lines.append(rf\" & {hlt} \\\\\" + \"\\n\")\n",
    "\n",
    "    lines.append(r\"\\hline\" + \"\\n\")\n",
    "\n",
    "# remove trailing \"\\\\\" and \"\\hline\"\n",
    "lines = lines[:-1]\n",
    "lines[-1] = lines[-1][:-4]\n",
    "\n",
    "with open(\"tables/hlts.tex\", \"w\") as f:\n",
    "    f.writelines(lines)"
   ]
  },
  {
   "cell_type": "code",
   "execution_count": 19,
   "metadata": {},
   "outputs": [],
   "source": [
    "from triggers import muon_HLTs\n",
    "\n",
    "lines = []\n",
    "\n",
    "for year in years:\n",
    "    hlts = deepcopy(muon_HLTs[year])\n",
    "    for i in range(len(hlts)):\n",
    "        hlts[i] = hlts[i].replace(\"_\", \"\\_\")\n",
    "\n",
    "    lend = len(hlts)\n",
    "    lines.append(rf\"\\multirow{{{lend}}}{{*}}{{ {year} }} & {hlts[0]} \\\\\" + \"\\n\")\n",
    "\n",
    "    for hlt in hlts[1:]:\n",
    "        lines.append(rf\" & {hlt} \\\\\" + \"\\n\")\n",
    "\n",
    "    lines.append(r\"\\hline\" + \"\\n\")\n",
    "\n",
    "# remove trailing \"\\\\\" and \"\\hline\"\n",
    "lines = lines[:-1]\n",
    "lines[-1] = lines[-1][:-4]\n",
    "\n",
    "with open(\"tables/hlts_singlemuon.tex\", \"w\") as f:\n",
    "    f.writelines(lines)"
   ]
  },
  {
   "cell_type": "code",
   "execution_count": null,
   "metadata": {},
   "outputs": [],
   "source": []
  }
 ],
 "metadata": {
  "kernelspec": {
   "display_name": "python310",
   "language": "python",
   "name": "python3"
  },
  "language_info": {
   "codemirror_mode": {
    "name": "ipython",
    "version": 3
   },
   "file_extension": ".py",
   "mimetype": "text/x-python",
   "name": "python",
   "nbconvert_exporter": "python",
   "pygments_lexer": "ipython3",
   "version": "3.10.8"
  },
  "orig_nbformat": 4,
  "vscode": {
   "interpreter": {
    "hash": "15adc7883e707560d0d9727709639b8fe3f3cff1f197d2d643742923ff23a29c"
   }
  }
 },
 "nbformat": 4,
 "nbformat_minor": 2
}
