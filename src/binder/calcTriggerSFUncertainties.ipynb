{
 "cells": [
  {
   "cell_type": "code",
   "execution_count": 27,
   "metadata": {},
   "outputs": [],
   "source": [
    "import pickle\n",
    "from hist.intervals import clopper_pearson_interval"
   ]
  },
  {
   "cell_type": "code",
   "execution_count": 28,
   "metadata": {},
   "outputs": [],
   "source": [
    "with open(\"../outPickles/out_ak15.pickle\", \"rb\") as filehandler:\n",
    "    out = pickle.load(filehandler)\n",
    "\n",
    "intervals = clopper_pearson_interval(out[\"num\"].view(flow=False), out[\"den\"].view(flow=False))\n",
    "error = (intervals[1] - intervals[0]) / 2\n",
    "\n",
    "with open(\"../corrections/trigEffs/AK15JetHTTriggerEfficiencyError_2017.hist\", \"wb\") as filehandler:\n",
    "    pickle.dump(error, filehandler)"
   ]
  },
  {
   "cell_type": "code",
   "execution_count": 29,
   "metadata": {},
   "outputs": [],
   "source": [
    "with open(\"../outPickles/out_ak8.pickle\", \"rb\") as filehandler:\n",
    "    out = pickle.load(filehandler)\n",
    "\n",
    "intervals = clopper_pearson_interval(out[\"num\"].view(flow=False), out[\"den\"].view(flow=False))\n",
    "error = (intervals[1] - intervals[0]) / 2\n",
    "\n",
    "with open(\"../corrections/trigEffs/AK8JetHTTriggerEfficiencyError_2017.hist\", \"wb\") as filehandler:\n",
    "    pickle.dump(error, filehandler)"
   ]
  },
  {
   "cell_type": "code",
   "execution_count": 30,
   "metadata": {},
   "outputs": [],
   "source": [
    "with open(\"../outPickles/out_ak8_3d.pickle\", \"rb\") as filehandler:\n",
    "    out = pickle.load(filehandler)\n",
    "\n",
    "intervals = clopper_pearson_interval(out[\"num\"].view(flow=False), out[\"den\"].view(flow=False))\n",
    "error = (intervals[1] - intervals[0]) / 2\n",
    "\n",
    "with open(\n",
    "    \"../corrections/trigEffs/AK8JetHT3DTriggerEfficiencyError_2017.hist\", \"wb\"\n",
    ") as filehandler:\n",
    "    pickle.dump(error, filehandler)"
   ]
  },
  {
   "cell_type": "code",
   "execution_count": 31,
   "metadata": {},
   "outputs": [],
   "source": [
    "with open(\"../outPickles/out_morebins.pickle\", \"rb\") as filehandler:\n",
    "    out = pickle.load(filehandler)\n",
    "\n",
    "intervals = clopper_pearson_interval(out[\"num\"].view(flow=False), out[\"den\"].view(flow=False))\n",
    "error = (intervals[1] - intervals[0]) / 2\n",
    "\n",
    "with open(\n",
    "    \"../corrections/trigEffs/AK15JetHT3DTriggerEfficiencyError_2017.hist\", \"wb\"\n",
    ") as filehandler:\n",
    "    pickle.dump(error, filehandler)"
   ]
  },
  {
   "cell_type": "code",
   "execution_count": 32,
   "metadata": {},
   "outputs": [],
   "source": [
    "with open(\"../outPickles/out_hybrid.pickle\", \"rb\") as filehandler:\n",
    "    out = pickle.load(filehandler)\n",
    "\n",
    "intervals = clopper_pearson_interval(out[\"num\"].view(flow=False), out[\"den\"].view(flow=False))\n",
    "error = (intervals[1] - intervals[0]) / 2\n",
    "\n",
    "with open(\n",
    "    \"../corrections/trigEffs/HybridJetHT3DTriggerEfficiencyError_2017.hist\", \"wb\"\n",
    ") as filehandler:\n",
    "    pickle.dump(error, filehandler)"
   ]
  },
  {
   "cell_type": "code",
   "execution_count": null,
   "metadata": {},
   "outputs": [],
   "source": []
  }
 ],
 "metadata": {
  "kernelspec": {
   "display_name": "Python 3",
   "language": "python",
   "name": "python3"
  },
  "language_info": {
   "codemirror_mode": {
    "name": "ipython",
    "version": 3
   },
   "file_extension": ".py",
   "mimetype": "text/x-python",
   "name": "python",
   "nbconvert_exporter": "python",
   "pygments_lexer": "ipython3",
   "version": "3.8.3"
  }
 },
 "nbformat": 4,
 "nbformat_minor": 4
}
