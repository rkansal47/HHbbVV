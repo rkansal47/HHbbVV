{
 "cells": [
  {
   "cell_type": "code",
   "execution_count": null,
   "id": "fe3bbf63-2195-417f-8e52-ebcae3bb061f",
   "metadata": {},
   "outputs": [],
   "source": [
    "import awkward as ak\n",
    "import numpy as np\n",
    "from hist import Hist\n",
    "import matplotlib.pyplot as plt\n",
    "import mplhep as hep\n",
    "import pickle\n",
    "import math\n",
    "\n",
    "plt.rcParams.update({\"font.size\": 16})\n",
    "plt.style.use(hep.style.CMS)"
   ]
  },
  {
   "cell_type": "code",
   "execution_count": null,
   "id": "d0d59f13",
   "metadata": {},
   "outputs": [],
   "source": [
    "with open(\"../../outfiles/0--1.pkl\", \"rb\") as filehandler:\n",
    "    outs = pickle.load(filehandler)"
   ]
  },
  {
   "cell_type": "code",
   "execution_count": null,
   "id": "342e20fd",
   "metadata": {},
   "outputs": [],
   "source": [
    "outs[\"num\"][:, sum, :, :]"
   ]
  },
  {
   "cell_type": "code",
   "execution_count": null,
   "id": "b9e2924b",
   "metadata": {},
   "outputs": [],
   "source": [
    "effstxbb = outs[\"num\"][:, sum, :, :] / outs[\"den\"][:, sum, :, :]\n",
    "effsth4q = outs[\"num\"][sum, :, :, :] / outs[\"den\"][sum, :, :, :]"
   ]
  },
  {
   "cell_type": "code",
   "execution_count": null,
   "id": "e984e377",
   "metadata": {},
   "outputs": [],
   "source": [
    "jet1txbbbins"
   ]
  },
  {
   "cell_type": "code",
   "execution_count": null,
   "id": "34dd2634",
   "metadata": {},
   "outputs": [],
   "source": [
    "w, jet1txbbbins, jet1ptbins, jet1msdbins = effstxbb.to_numpy()\n",
    "\n",
    "for k in range(len(jet1txbbbins) - 1):\n",
    "    fig, ax = plt.subplots(figsize=(18, 14))\n",
    "    mesh = ax.pcolormesh(jet1msdbins, jet1ptbins, w[k], cmap=\"viridis\", vmin=0, vmax=1)\n",
    "    for i in range(len(jet1ptbins) - 1):\n",
    "        for j in range(len(jet1msdbins) - 1):\n",
    "            if not math.isnan(w[k][i, j]):\n",
    "                ax.text(\n",
    "                    (jet1msdbins[j] + jet1msdbins[j + 1]) / 2,\n",
    "                    (jet1ptbins[i] + jet1ptbins[i + 1]) / 2,\n",
    "                    w[k][i, j].round(2),\n",
    "                    color=\"black\",\n",
    "                    ha=\"center\",\n",
    "                    va=\"center\",\n",
    "                    fontsize=12,\n",
    "                )\n",
    "\n",
    "    ax.set_title(f\"{jet1txbbbins[k]:.2f} < Txbb Score < {jet1txbbbins[k + 1]:.2f}\")\n",
    "    ax.set_xlabel(\"Jet 1 MassSD (GeV)\")\n",
    "    ax.set_ylabel(\"Jet 1 $p_T$ (GeV)\")\n",
    "    plt.colorbar(mesh, ax=ax)\n",
    "    # plt.savefig(f\"../corrections/trigEffs/Hybrid3D/AK15Hybrid3DTriggerEfficiencies_Bin{k}.pdf\")"
   ]
  },
  {
   "cell_type": "code",
   "execution_count": null,
   "id": "8dbc5ee8",
   "metadata": {},
   "outputs": [],
   "source": [
    "w, jet1th4qbins, jet1ptbins, jet1msdbins = effsth4q.to_numpy()\n",
    "\n",
    "for k in range(len(jet1th4qbins) - 1):\n",
    "    fig, ax = plt.subplots(figsize=(18, 14))\n",
    "    mesh = ax.pcolormesh(jet1msdbins, jet1ptbins, w[k], cmap=\"viridis\", vmin=0, vmax=1)\n",
    "    for i in range(len(jet1ptbins) - 1):\n",
    "        for j in range(len(jet1msdbins) - 1):\n",
    "            if not math.isnan(w[k][i, j]):\n",
    "                ax.text(\n",
    "                    (jet1msdbins[j] + jet1msdbins[j + 1]) / 2,\n",
    "                    (jet1ptbins[i] + jet1ptbins[i + 1]) / 2,\n",
    "                    w[k][i, j].round(2),\n",
    "                    color=\"black\",\n",
    "                    ha=\"center\",\n",
    "                    va=\"center\",\n",
    "                    fontsize=12,\n",
    "                )\n",
    "\n",
    "    ax.set_title(f\"{jet1th4qbins[k]:.2f} < th4q Score < {jet1th4qbins[k + 1]:.2f}\")\n",
    "    ax.set_xlabel(\"Jet 1 MassSD (GeV)\")\n",
    "    ax.set_ylabel(\"Jet 1 $p_T$ (GeV)\")\n",
    "    plt.colorbar(mesh, ax=ax)\n",
    "    # plt.savefig(f\"../corrections/trigEffs/Hybrid3D/AK15Hybrid3DTriggerEfficiencies_Bin{k}.pdf\")"
   ]
  },
  {
   "cell_type": "code",
   "execution_count": null,
   "id": "3b5d8e21-5eba-4769-af62-f64dd63374a5",
   "metadata": {
    "tags": []
   },
   "outputs": [],
   "source": [
    "with open(\n",
    "    \"../corrections/trigEffs/AK15JetHTHybrid3DTriggerEfficiency_2017.hist\", \"rb\"\n",
    ") as filehandler:\n",
    "    effs = pickle.load(filehandler)"
   ]
  },
  {
   "cell_type": "code",
   "execution_count": null,
   "id": "c46cfbeb-05fc-4f67-b5ec-0257ed93d452",
   "metadata": {
    "tags": []
   },
   "outputs": [],
   "source": [
    "import math\n",
    "\n",
    "w, jet2ptbins, jet1ptbins, jet1msdbins = effs.to_numpy()\n",
    "\n",
    "for k in range(len(jet2ptbins) - 1):\n",
    "    fig, ax = plt.subplots(figsize=(18, 14))\n",
    "    mesh = ax.pcolormesh(jet1msdbins, jet1ptbins, w[k], cmap=\"viridis\", vmin=0, vmax=1)\n",
    "    for i in range(len(jet1ptbins) - 1):\n",
    "        for j in range(len(jet1msdbins) - 1):\n",
    "            if not math.isnan(w[k][i, j]):\n",
    "                ax.text(\n",
    "                    (jet1msdbins[j] + jet1msdbins[j + 1]) / 2,\n",
    "                    (jet1ptbins[i] + jet1ptbins[i + 1]) / 2,\n",
    "                    w[k][i, j].round(2),\n",
    "                    color=\"black\",\n",
    "                    ha=\"center\",\n",
    "                    va=\"center\",\n",
    "                    fontsize=12,\n",
    "                )\n",
    "\n",
    "    ax.set_title(f\"{jet2ptbins[k]:.0f} < Fat Jet 2 $p_T$ < {jet2ptbins[k + 1]:.0f} (GeV)\")\n",
    "    ax.set_xlabel(\"Jet 1 MassSD (GeV)\")\n",
    "    ax.set_ylabel(\"Jet 1 $p_T$ (GeV)\")\n",
    "    plt.colorbar(mesh, ax=ax)\n",
    "    plt.savefig(f\"../corrections/trigEffs/Hybrid3D/AK15Hybrid3DTriggerEfficiencies_Bin{k}.pdf\")"
   ]
  },
  {
   "cell_type": "code",
   "execution_count": null,
   "id": "28134521-7028-4b76-aa54-dc7fa8b207f3",
   "metadata": {},
   "outputs": [],
   "source": [
    "import pickle\n",
    "\n",
    "with open(\"../corrections/trigEffs/AK15JetHTTriggerEfficiency_2017_2.hist\", \"rb\") as filehandler:\n",
    "    effs = pickle.load(filehandler)"
   ]
  },
  {
   "cell_type": "code",
   "execution_count": null,
   "id": "2ded879c-ccce-46cd-979a-77b1192014e4",
   "metadata": {},
   "outputs": [],
   "source": [
    "import math\n",
    "\n",
    "w, ptbins, msdbins = effs.to_numpy()\n",
    "\n",
    "fig, ax = plt.subplots(figsize=(18, 14))\n",
    "mesh = ax.pcolormesh(msdbins, ptbins, w, cmap=\"viridis\")\n",
    "for i in range(len(ptbins) - 1):\n",
    "    for j in range(len(msdbins) - 1):\n",
    "        if not math.isnan(w[i, j]):\n",
    "            ax.text(\n",
    "                (msdbins[j] + msdbins[j + 1]) / 2,\n",
    "                (ptbins[i] + ptbins[i + 1]) / 2,\n",
    "                w[i, j].round(2),\n",
    "                color=\"black\",\n",
    "                ha=\"center\",\n",
    "                va=\"center\",\n",
    "                fontsize=12,\n",
    "            )\n",
    "ax.set_xlabel(\"MassSD (GeV)\")\n",
    "ax.set_ylabel(\"$p_T$ (GeV)\")\n",
    "fig.colorbar(mesh)\n",
    "# plt.savefig(\"../corrections/trigEffs/plots/AK8JetHTTriggerEfficiencies.pdf\")"
   ]
  },
  {
   "cell_type": "code",
   "execution_count": null,
   "id": "2f1fe0db-2ebe-4c01-af95-010b8ee5fa51",
   "metadata": {},
   "outputs": [],
   "source": []
  }
 ],
 "metadata": {
  "kernelspec": {
   "display_name": "Python 3.10.4 ('bbVV')",
   "language": "python",
   "name": "python3"
  },
  "language_info": {
   "codemirror_mode": {
    "name": "ipython",
    "version": 3
   },
   "file_extension": ".py",
   "mimetype": "text/x-python",
   "name": "python",
   "nbconvert_exporter": "python",
   "pygments_lexer": "ipython3",
   "version": "3.10.4"
  },
  "vscode": {
   "interpreter": {
    "hash": "5b9eab485576227e6cf1b964bb8855c46cbdf15c3e77cecdb2bb309145d3e8d8"
   }
  }
 },
 "nbformat": 4,
 "nbformat_minor": 5
}
