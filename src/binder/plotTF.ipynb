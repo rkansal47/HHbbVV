{
 "cells": [
  {
   "cell_type": "code",
   "execution_count": null,
   "metadata": {},
   "outputs": [],
   "source": [
    "import numpy as np\n",
    "import matplotlib.pyplot as plt"
   ]
  },
  {
   "cell_type": "code",
   "execution_count": null,
   "metadata": {},
   "outputs": [],
   "source": [
    "# Bernstein poly's:\n",
    "\n",
    "\n",
    "def bpoly10(x):\n",
    "    return 1 - x\n",
    "\n",
    "\n",
    "def bpoly11(x):\n",
    "    return x\n",
    "\n",
    "\n",
    "def bpoly20(x):\n",
    "    return np.power(1 - x, 2)\n",
    "\n",
    "\n",
    "def bpoly21(x):\n",
    "    return 2 * x * (1 - x)\n",
    "\n",
    "\n",
    "def bpoly22(x):\n",
    "    return np.power(x)\n",
    "\n",
    "\n",
    "bpoly2dlist"
   ]
  },
  {
   "cell_type": "code",
   "execution_count": null,
   "metadata": {},
   "outputs": [],
   "source": [
    "params = [[0.857, 2.31], [0.534, -7.93e-3], [-3.223e-4, -1.28e-3]]"
   ]
  },
  {
   "cell_type": "code",
   "execution_count": null,
   "metadata": {},
   "outputs": [],
   "source": [
    "def bpoly2d(x, y, params):\n",
    "    bpoly10 = 1 - y\n",
    "    bpoly11 = y\n",
    "\n",
    "    bpoly20 = np.power(1 - x, 2)\n",
    "    bpoly21 = 2 * x * (1 - x)\n",
    "    bpoly22 = np.power(x, 2)\n",
    "\n",
    "    polylist = [\n",
    "        [bpoly20 * bpoly10, bpoly20 * bpoly11],\n",
    "        [bpoly21 * bpoly10, bpoly21 * bpoly11],\n",
    "        [bpoly22 * bpoly10, bpoly22 * bpoly11],\n",
    "    ]\n",
    "\n",
    "    out = np.zeros(x.shape)\n",
    "\n",
    "    for i in range(3):\n",
    "        for j in range(2):\n",
    "            out += params[i][j] * polylist[i][j]\n",
    "\n",
    "    return out"
   ]
  },
  {
   "cell_type": "code",
   "execution_count": null,
   "metadata": {},
   "outputs": [],
   "source": [
    "xx, yy = np.meshgrid(np.linspace(0, 1, 101), np.linspace(0, 1, 101))\n",
    "zz = bpoly2d(xx, yy, params)"
   ]
  },
  {
   "cell_type": "code",
   "execution_count": null,
   "metadata": {},
   "outputs": [],
   "source": [
    "plt.contourf(xx, yy, zz, np.linspace(-0.1, 2.9, 31), cmap=\"turbo\")\n",
    "plt.colorbar(cmap=\"turbo\")"
   ]
  },
  {
   "cell_type": "code",
   "execution_count": null,
   "metadata": {},
   "outputs": [],
   "source": []
  }
 ],
 "metadata": {
  "kernelspec": {
   "display_name": "python310",
   "language": "python",
   "name": "python3"
  },
  "language_info": {
   "codemirror_mode": {
    "name": "ipython",
    "version": 3
   },
   "file_extension": ".py",
   "mimetype": "text/x-python",
   "name": "python",
   "nbconvert_exporter": "python",
   "pygments_lexer": "ipython3",
   "version": "3.10.8"
  },
  "orig_nbformat": 4
 },
 "nbformat": 4,
 "nbformat_minor": 2
}
