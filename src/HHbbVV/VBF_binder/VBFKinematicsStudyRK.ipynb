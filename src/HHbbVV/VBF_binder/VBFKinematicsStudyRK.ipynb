{
 "cells": [
  {
   "cell_type": "markdown",
   "id": "f8ffe404",
   "metadata": {},
   "source": [
    "# Studies on VBF jet selection\n",
    "\n",
    "Authors: Zichun Hao and Raghav Kansal"
   ]
  },
  {
   "cell_type": "code",
   "execution_count": null,
   "id": "7b82bb87",
   "metadata": {},
   "outputs": [],
   "source": [
    "import pandas as pd\n",
    "import matplotlib.pyplot as plt\n",
    "import mplhep as hep\n",
    "import matplotlib.ticker as mticker\n",
    "import numpy as np\n",
    "\n",
    "import uproot\n",
    "import awkward as ak\n",
    "from coffea import nanoevents\n",
    "\n",
    "from coffea.nanoevents.methods.base import NanoEventsArray\n",
    "from coffea.analysis_tools import Weights, PackedSelection\n",
    "from coffea.nanoevents.methods import nanoaod\n",
    "from coffea.nanoevents.methods import vector\n",
    "from coffea.lookup_tools.dense_lookup import dense_lookup\n",
    "from tqdm import tqdm\n",
    "\n",
    "from HHbbVV.processors.utils import pad_val\n",
    "\n",
    "plt.style.use(hep.style.CMS)\n",
    "hep.style.use(\"CMS\")\n",
    "formatter = mticker.ScalarFormatter(useMathText=True)\n",
    "formatter.set_powerlimits((-3, 3))\n",
    "plt.rcParams.update({\"font.size\": 24})"
   ]
  },
  {
   "cell_type": "markdown",
   "id": "09429b8f",
   "metadata": {},
   "source": [
    "Look at single SM VBF HH signal NanoAOD file"
   ]
  },
  {
   "cell_type": "code",
   "execution_count": null,
   "id": "121eb870",
   "metadata": {},
   "outputs": [],
   "source": [
    "# import json\n",
    "\n",
    "# with open(\"../../../data/pfnanoindex_2018.json\", \"r\") as f:\n",
    "#     files = json.load(f)\n",
    "\n",
    "# files = [\n",
    "#     \"root://cmseos.fnal.gov//\" + f + \":Events\"\n",
    "#     for f in files[\"2018\"][\"HH\"][\"VBF_HHTobbVV_CV_1_C2V_0_C3_1\"][:2]\n",
    "# ]"
   ]
  },
  {
   "cell_type": "code",
   "execution_count": null,
   "id": "42e7add7",
   "metadata": {},
   "outputs": [],
   "source": [
    "files = {\n",
    "    \"vbf\": \"root://cmseos.fnal.gov///store/user/lpcpfnano/cmantill/v2_3/2018/HH/VBF_HHTobbVV_CV_1_C2V_0_C3_1_TuneCP5_13TeV-madgraph-pythia8/VBF_HHTobbVV_CV_1_C2V_0_C3_1/220808_150000/0000/nano_mc2018_1-1.root\",\n",
    "    \"qcd\": \"root://cmseos.fnal.gov///store/user/lpcpfnano/cmantill/v2_3/2018/QCD/QCD_HT1500to2000_TuneCP5_PSWeights_13TeV-madgraph-pythia8/QCD_HT1500to2000_PSWeights_madgraph/220808_163124/0000/nano_mc2018_1-1.root\",\n",
    "    \"tt\": \"root://cmseos.fnal.gov///store/user/lpcpfnano/cmantill/v2_3/2018/TTbar/TTToHadronic_TuneCP5_13TeV-powheg-pythia8/TTToHadronic/220808_151154/0000/nano_mc2018_1-1.root\",\n",
    "}\n",
    "\n",
    "events_dict = {}\n",
    "\n",
    "for key, file in files.items():\n",
    "    events_dict[key] = nanoevents.NanoEventsFactory.from_root(\n",
    "        file, schemaclass=nanoevents.NanoAODSchema\n",
    "    ).events()\n",
    "\n",
    "# events = nanoevents.NanoEventsFactory.from_root(\n",
    "#     # \"root://cmseos.fnal.gov///store/user/lpcpfnano/cmantill/v2_3/2018/HH/VBF_HHTobbVV_CV_1_C2V__C3_1_TuneCP5_13TeV-madgraph-pythia8/VBF_HHTobbVV_CV_1_C2V_1_C3_1/220808_150149/0000/nano_mc2018_1-1.root\",\n",
    "#     # \"root://cmseos.fnal.gov///store/user/lpcpfnano/cmantill/v2_3/2018/HH/VBF_HHTobbVV_CV_1_C2V_0_C3_1_TuneCP5_13TeV-madgraph-pythia8/VBF_HHTobbVV_CV_1_C2V_0_C3_1/220808_150000/0000/nano_mc2018_1-1.root\",\n",
    "#     \"/uscms/home/rkansal/nobackup/vbf.root\",\n",
    "#     schemaclass=nanoevents.NanoAODSchema,\n",
    "# ).events()"
   ]
  },
  {
   "cell_type": "markdown",
   "id": "c65c0a81",
   "metadata": {},
   "source": [
    "## Generator Level Studies"
   ]
  },
  {
   "cell_type": "markdown",
   "id": "7f076483",
   "metadata": {},
   "source": [
    "Get generator-level Higgs and Vs"
   ]
  },
  {
   "cell_type": "code",
   "execution_count": null,
   "id": "1dfff6ce",
   "metadata": {},
   "outputs": [],
   "source": [
    "Z_PDGID = 23\n",
    "W_PDGID = 24\n",
    "HIGGS_PDGID = 25\n",
    "b_PDGID = 5\n",
    "GEN_FLAGS = [\"fromHardProcess\", \"isLastCopy\"]\n",
    "\n",
    "events = events_dict[\"vbf\"]\n",
    "\n",
    "higgs = events.GenPart[\n",
    "    (abs(events.GenPart.pdgId) == HIGGS_PDGID) * events.GenPart.hasFlags(GEN_FLAGS)\n",
    "]\n",
    "\n",
    "higgs_children = higgs.children\n",
    "\n",
    "# finding bb and VV children\n",
    "is_bb = abs(higgs_children.pdgId) == b_PDGID\n",
    "is_VV = (abs(higgs_children.pdgId) == W_PDGID) + (abs(higgs_children.pdgId) == Z_PDGID)\n",
    "\n",
    "Hbb = higgs[ak.any(is_bb, axis=2)]\n",
    "HVV = higgs[ak.any(is_VV, axis=2)]\n",
    "\n",
    "# make sure we're only getting one Higgs\n",
    "Hbb = ak.pad_none(Hbb, 1, axis=1)[:, 0]\n",
    "HVV = ak.pad_none(HVV, 1, axis=1)[:, 0]\n",
    "\n",
    "vs = events.GenPart[((abs(events.GenPart.pdgId) == 24)) * events.GenPart.hasFlags(GEN_FLAGS)]\n",
    "\n",
    "# vbf output quarks are always at index 4, 5\n",
    "gen_quarks = events.GenPart[events.GenPart.hasFlags([\"isHardProcess\"])][:, 4:6]"
   ]
  },
  {
   "cell_type": "markdown",
   "id": "e25338f9",
   "metadata": {},
   "source": [
    "Check gen-level plots"
   ]
  },
  {
   "cell_type": "code",
   "execution_count": null,
   "id": "8e2b8441",
   "metadata": {},
   "outputs": [],
   "source": [
    "plt.figure(figsize=(8, 8))\n",
    "plt.title(\"Gen Level VBF Quarks\")\n",
    "plt.hist(ak.flatten(np.abs(gen_quarks.eta)), np.arange(0, 8, 0.25), histtype=\"step\", density=True)\n",
    "plt.xlabel(r\"$|\\eta_{q}|$\")\n",
    "plt.ylabel(\"Events (A. U.)\")\n",
    "plt.show()"
   ]
  },
  {
   "cell_type": "code",
   "execution_count": null,
   "id": "ee563596",
   "metadata": {},
   "outputs": [],
   "source": [
    "plt.figure(figsize=(8, 8))\n",
    "plt.title(\"Gen Level VBF Quarks\")\n",
    "plt.hist(ak.flatten(gen_quarks.pt), np.arange(0, 300, 10), histtype=\"step\", density=True)\n",
    "plt.xlabel(r\"$p_{Tq}$\")\n",
    "plt.ylabel(\"Events (A. U.)\")\n",
    "plt.show()"
   ]
  },
  {
   "cell_type": "code",
   "execution_count": null,
   "id": "25882b47",
   "metadata": {},
   "outputs": [],
   "source": [
    "plt.figure(figsize=(8, 8))\n",
    "plt.title(\"Gen Level VBF Quarks\")\n",
    "plt.hist(ak.flatten(Hbb.delta_r(gen_quarks)), np.arange(0, 8, 0.25), histtype=\"step\", density=True)\n",
    "plt.xlabel(r\"$\\Delta R(q, Hbb)$\")\n",
    "plt.ylabel(\"Events (A. U.)\")\n",
    "plt.show()"
   ]
  },
  {
   "cell_type": "code",
   "execution_count": null,
   "id": "85531191",
   "metadata": {},
   "outputs": [],
   "source": [
    "plt.figure(figsize=(8, 8))\n",
    "plt.title(\"Gen Level VBF Quarks\")\n",
    "plt.hist(ak.flatten(HVV.delta_r(gen_quarks)), np.arange(0, 8, 0.25), histtype=\"step\", density=True)\n",
    "plt.xlabel(r\"$\\Delta R(q, HVV)$\")\n",
    "plt.ylabel(\"Events (A. U.)\")\n",
    "plt.show()"
   ]
  },
  {
   "cell_type": "markdown",
   "id": "c7ce9e7f",
   "metadata": {},
   "source": [
    "Matching efficiency calculation"
   ]
  },
  {
   "cell_type": "code",
   "execution_count": null,
   "id": "5c951ac9",
   "metadata": {},
   "outputs": [],
   "source": [
    "def matching_efficiency(gen_quarks, vbf_jets, matching_dr=0.4):\n",
    "    drs = ak.pad_none(vbf_jets, 2, axis=1)[:, :2].metric_table(gen_quarks)\n",
    "    matched = drs < matching_dr\n",
    "    # TODO: add overlap removal?\n",
    "    return np.mean(np.all(np.any(matched, axis=2), axis=1))"
   ]
  },
  {
   "cell_type": "code",
   "execution_count": null,
   "id": "eee42d64",
   "metadata": {},
   "outputs": [],
   "source": [
    "jets = events.Jet\n",
    "\n",
    "# Only consider events with two true VBF jets\n",
    "drs = jets.metric_table(gen_quarks)\n",
    "matched = ak.any(drs < 0.4, axis=2)\n",
    "# select events with two true VBF jets\n",
    "two_vbf = ak.sum(matched, axis=1) == 2\n",
    "\n",
    "true_vbf_jets = jets[matched]"
   ]
  },
  {
   "cell_type": "markdown",
   "id": "398dfc82",
   "metadata": {},
   "source": [
    "## Baseline Selections"
   ]
  },
  {
   "cell_type": "code",
   "execution_count": null,
   "id": "748e3109",
   "metadata": {},
   "outputs": [],
   "source": [
    "# ak8 jet preselection\n",
    "preselection = {  # noqa: RUF012\n",
    "    \"pt\": 300.0,\n",
    "    \"eta\": 2.4,\n",
    "    \"VVmsd\": 50,\n",
    "    # \"VVparticleNet_mass\": [50, 250],\n",
    "    # \"bbparticleNet_mass\": [92.5, 162.5],\n",
    "    \"bbparticleNet_mass\": 50,\n",
    "    \"VVparticleNet_mass\": 50,\n",
    "    \"bbFatJetParticleNetMD_Txbb\": 0.8,\n",
    "    \"jetId\": 2,  # tight ID bit\n",
    "    \"DijetMass\": 800,  # TODO\n",
    "    # \"nGoodElectrons\": 0,\n",
    "}\n",
    "\n",
    "num_jets = 2"
   ]
  },
  {
   "cell_type": "code",
   "execution_count": null,
   "id": "7b03b61b",
   "metadata": {},
   "outputs": [],
   "source": [
    "fatjets = events.FatJet\n",
    "\n",
    "fatjets = ak.pad_none(\n",
    "    fatjets[(fatjets.pt > 300) * (fatjets.isTight) * (np.abs(fatjets.eta) <= 2.4)], 2, axis=1\n",
    ")\n",
    "\n",
    "# particlenet xbb vs qcd\n",
    "\n",
    "txbb = pad_val(\n",
    "    fatjets.particleNetMD_Xbb / (fatjets.particleNetMD_QCD + fatjets.particleNetMD_Xbb),\n",
    "    num_jets,\n",
    "    axis=1,\n",
    ")\n",
    "\n",
    "# bb VV assignment\n",
    "\n",
    "bb_mask = txbb[:, 0] >= txbb[:, 1]\n",
    "bb_mask = np.stack((bb_mask, ~bb_mask)).T"
   ]
  },
  {
   "cell_type": "code",
   "execution_count": null,
   "id": "f55aef7e",
   "metadata": {},
   "outputs": [],
   "source": [
    "bbjet = fatjets[bb_mask]\n",
    "vvjet = fatjets[~bb_mask]"
   ]
  },
  {
   "cell_type": "code",
   "execution_count": null,
   "id": "db5995c5",
   "metadata": {},
   "outputs": [],
   "source": [
    "sel = ak.fill_none(\n",
    "    (\n",
    "        (txbb[bb_mask] > 0.97)\n",
    "        * (fatjets.particleNet_H4qvsQCD[~bb_mask] > 0.6)\n",
    "        * (fatjets.pt[:, 0] > 500)\n",
    "        * (fatjets.pt[:, 1] > 400)\n",
    "        * (np.abs(fatjets[:, 0].delta_phi(fatjets[:, 1])) > 2.6)\n",
    "        * (np.abs(fatjets[:, 0].eta - fatjets[:, 1].eta) < 2.0)\n",
    "    ),\n",
    "    False,\n",
    ")\n",
    "\n",
    "tsel = sel * two_vbf"
   ]
  },
  {
   "cell_type": "markdown",
   "id": "f820fb8e",
   "metadata": {},
   "source": [
    "Checking how many events have jets which match with the gen quarks"
   ]
  },
  {
   "cell_type": "code",
   "execution_count": null,
   "id": "b5c0658f",
   "metadata": {},
   "outputs": [],
   "source": [
    "np.mean(ak.all(ak.any(gen_quarks.metric_table(jets) < 0.4, axis=2), axis=1)[sel])"
   ]
  },
  {
   "cell_type": "code",
   "execution_count": null,
   "id": "7901612f",
   "metadata": {},
   "outputs": [],
   "source": [
    "plt.figure(figsize=(8, 8))\n",
    "plt.hist(\n",
    "    ak.sum(ak.any(gen_quarks.metric_table(jets) < 0.4, axis=2), axis=1),\n",
    "    [0, 1, 2, 3],\n",
    "    histtype=\"step\",\n",
    "    density=True,\n",
    ")\n",
    "plt.title(\"Fraction of Gen VBF Quarks which have\\n a matching AK4 jet in the event\")\n",
    "plt.show()"
   ]
  },
  {
   "cell_type": "markdown",
   "id": "6922c210",
   "metadata": {},
   "source": [
    "Leptons"
   ]
  },
  {
   "cell_type": "code",
   "execution_count": null,
   "id": "fa386f98",
   "metadata": {},
   "outputs": [],
   "source": [
    "electrons = events.Electron\n",
    "electrons = electrons[(electrons.pt > 5) & (electrons.cutBased >= electrons.LOOSE)]\n",
    "\n",
    "muons = events.Muon\n",
    "muons = muons[(muons.pt > 7) & (muons.looseId)]"
   ]
  },
  {
   "cell_type": "markdown",
   "id": "74dc1fad",
   "metadata": {},
   "source": [
    "## AK4 jet selections"
   ]
  },
  {
   "cell_type": "code",
   "execution_count": null,
   "id": "5da91584",
   "metadata": {},
   "outputs": [],
   "source": [
    "from typing import Dict, Tuple, Union\n",
    "\n",
    "\n",
    "def events_ak4_selected(\n",
    "    ak4_jet_selection: Dict[str, Union[float, str]],\n",
    "    jets: ak.Array,\n",
    "    fatjets: ak.Array,\n",
    "    bb_mask: ak.Array,\n",
    "    electrons: ak.Array,\n",
    "    muons: ak.Array,\n",
    "    num_jets: int = 2,\n",
    ") -> Tuple[ak.Array, ak.Array]:\n",
    "    \"\"\"\n",
    "    Make selections on AK4 jets based on AK8 jets and leptons\n",
    "    Required keys in `ak4_jet_selection`:\n",
    "        - pt_min: float\n",
    "        - pt_max: float\n",
    "        - eta_min: float\n",
    "        - eta_max: float\n",
    "        - jetId: str\n",
    "        - puId: str\n",
    "        - dR_fatjetbb: float\n",
    "        - dR_fatjetVV: float\n",
    "    \"\"\"\n",
    "    vbf_jet_mask = (\n",
    "        # jets.isTight\n",
    "        (jets.pt >= ak4_jet_selection[\"pt_min\"])\n",
    "        & (jets.pt <= ak4_jet_selection[\"pt_max\"])\n",
    "        & (np.abs(jets.eta) <= ak4_jet_selection[\"eta_max\"])\n",
    "        & (np.abs(jets.eta) >= ak4_jet_selection[\"eta_min\"])\n",
    "        # & ((jets.pt > 50) | ((jets.puId & 2) == 2))\n",
    "        & (\n",
    "            ak.pad_none(fatjets, num_jets, axis=1, clip=True)[bb_mask].delta_r(jets)\n",
    "            > ak4_jet_selection[\"dR_fatjetbb\"]\n",
    "        )\n",
    "        & (\n",
    "            ak.pad_none(fatjets, num_jets, axis=1, clip=True)[~bb_mask].delta_r(jets)\n",
    "            > ak4_jet_selection[\"dR_fatjetVV\"]\n",
    "        )\n",
    "        & ak.all(jets.metric_table(electrons) > 0.4, axis=2)\n",
    "        & ak.all(jets.metric_table(muons) > 0.4, axis=2)\n",
    "    )\n",
    "    jets_selected = jets[vbf_jet_mask]\n",
    "\n",
    "    return jets_selected, vbf_jet_mask"
   ]
  },
  {
   "cell_type": "code",
   "execution_count": null,
   "id": "629523e9",
   "metadata": {},
   "outputs": [],
   "source": [
    "ak4_jet_selection = {  # noqa: RUF012\n",
    "    \"pt\": 15,\n",
    "    \"eta_min\": 1,\n",
    "    \"eta_max\": 5.1,\n",
    "    # \"jetId\": \"tight\",\n",
    "    # \"puId\": \"medium\",\n",
    "    \"dR_fatjetbb\": 1.1,\n",
    "    \"dR_fatjetVV\": 1.0,\n",
    "}\n",
    "\n",
    "# ak4_jet_selection = {\n",
    "#     \"pt\": 25,\n",
    "#     \"eta_min\": 0,\n",
    "#     \"eta_max\": 4.7,\n",
    "#     \"jetId\": \"tight\",\n",
    "#     \"puId\": \"medium\",\n",
    "#     \"dR_fatjetbb\": 1.2,\n",
    "#     \"dR_fatjetVV\": 0.8,\n",
    "# }\n",
    "\n",
    "# dR_fatjetVV = 0.8 used from last two cells of VBFgenInfoTests.ipynb with data generated from SM signal vbf\n",
    "# https://github.com/rkansal47/HHbbVV/blob/vbf_systematics/src/HHbbVV/VBF_binder/VBFgenInfoTests.ipynb\n",
    "# (0-14R1R2study.parquet) has columns of different nGoodVBFJets corresponding to R1 and R2 cuts\n",
    "vbf_jet_mask = (\n",
    "    # jets.isTight\n",
    "    (jets.pt >= ak4_jet_selection[\"pt\"])\n",
    "    & (np.abs(jets.eta) < ak4_jet_selection[\"eta_max\"])\n",
    "    & (np.abs(jets.eta) >= ak4_jet_selection[\"eta_min\"])\n",
    "    # medium puId https://twiki.cern.ch/twiki/bin/viewauth/CMS/PileupJetIDUL\n",
    "    # & ((jets.pt > 50) | ((jets.puId & 2) == 2))\n",
    "    & (\n",
    "        ak.pad_none(fatjets, num_jets, axis=1, clip=True)[bb_mask].delta_r(jets)\n",
    "        > ak4_jet_selection[\"dR_fatjetbb\"]\n",
    "    )\n",
    "    & (\n",
    "        ak.pad_none(fatjets, num_jets, axis=1, clip=True)[~bb_mask].delta_r(jets)\n",
    "        > ak4_jet_selection[\"dR_fatjetVV\"]\n",
    "    )\n",
    "    & ak.all(jets.metric_table(electrons) > 0.4, axis=2)\n",
    "    & ak.all(jets.metric_table(muons) > 0.4, axis=2)\n",
    ")\n",
    "\n",
    "vbf_jets = jets[vbf_jet_mask]"
   ]
  },
  {
   "cell_type": "code",
   "execution_count": null,
   "id": "32bd7710",
   "metadata": {},
   "outputs": [],
   "source": [
    "matching_efficiency(gen_quarks[sel], vbf_jets[sel])"
   ]
  },
  {
   "cell_type": "markdown",
   "id": "75ed9767",
   "metadata": {},
   "source": [
    "## Optimizing Selections"
   ]
  },
  {
   "cell_type": "markdown",
   "id": "f8dfd930",
   "metadata": {},
   "source": [
    "Fatjet dR"
   ]
  },
  {
   "cell_type": "code",
   "execution_count": null,
   "id": "b1d37b52",
   "metadata": {},
   "outputs": [],
   "source": [
    "vbf_jet_mask = (\n",
    "    ak.all(jets.metric_table(electrons) > 0.4, axis=2)\n",
    "    & ak.all(jets.metric_table(muons) > 0.4, axis=2)\n",
    ")[tsel]\n",
    "\n",
    "max_matching = [0.8, 0.8, 0]\n",
    "tbbjet = bbjet[tsel]\n",
    "tvvjet = vvjet[tsel]\n",
    "tjets = jets[tsel]\n",
    "\n",
    "\n",
    "for bbdr in tqdm(np.arange(0.6, 1.4, 0.01)):\n",
    "    for vvdr in np.arange(0.6, 1.4, 0.01):\n",
    "        vbf_jet_mask_dr = (\n",
    "            vbf_jet_mask & (tbbjet.delta_r(tjets) > bbdr) & (tvvjet.delta_r(tjets) > vvdr)\n",
    "        )\n",
    "        vbf_jets = tjets[vbf_jet_mask_dr]\n",
    "        me = matching_efficiency(gen_quarks[tsel], vbf_jets, verbose=False)\n",
    "        if me > max_matching[-1]:\n",
    "            max_matching = [bbdr, vvdr, me]\n",
    "\n",
    "print(max_matching)"
   ]
  },
  {
   "cell_type": "markdown",
   "id": "112384b9",
   "metadata": {},
   "source": [
    "Minimum eta"
   ]
  },
  {
   "cell_type": "code",
   "execution_count": null,
   "id": "7492b63a",
   "metadata": {},
   "outputs": [],
   "source": [
    "max_matching = [0.8, 0.8, 0]\n",
    "tbbjet = bbjet[tsel]\n",
    "tvvjet = vvjet[tsel]\n",
    "tjets = jets[tsel]\n",
    "\n",
    "vbf_jet_mask = (\n",
    "    ak.all(jets.metric_table(electrons) > 0.4, axis=2)\n",
    "    & ak.all(jets.metric_table(muons) > 0.4, axis=2)\n",
    "    & (bbjet.delta_r(jets) > 1.1)\n",
    "    & (vvjet.delta_r(jets) > 1.0)\n",
    ")[tsel]\n",
    "\n",
    "\n",
    "max_matching = [0, 0]\n",
    "for etamin in np.arange(0, 2, 0.05):\n",
    "    vbf_jet_mask_dr = vbf_jet_mask & (np.abs(tjets.eta) > etamin)\n",
    "    vbf_jets = tjets[vbf_jet_mask_dr]\n",
    "    me = matching_efficiency(gen_quarks[tsel], vbf_jets)\n",
    "    if me > max_matching[-1]:\n",
    "        max_matching = [etamin, me]\n",
    "\n",
    "print(max_matching)"
   ]
  },
  {
   "cell_type": "code",
   "execution_count": null,
   "id": "e6cf5baa",
   "metadata": {},
   "outputs": [],
   "source": [
    "# selected VBF jets\n",
    "vbf_jets_selected = jets[vbf_jet_mask][:, :2][matched[vbf_jet_mask][:, :2]][tsel]\n",
    "# VBF jets that were not selected by AK4 selection\n",
    "vbf_jets_unselected_ak4 = jets[~vbf_jet_mask][matched[~vbf_jet_mask]][tsel]\n",
    "# VBF jets that were selected by AK4 selection but unselected by pT selection\n",
    "vbf_jets_unselected_pt = jets[vbf_jet_mask][:, 2:][matched[vbf_jet_mask][:, 2:]][tsel]\n",
    "# Fake VBF jets that were selected\n",
    "fake_jets_selected = jets[vbf_jet_mask][:, :2][~matched[vbf_jet_mask][:, :2]][tsel]\n",
    "\n",
    "tot = np.sum(tsel)\n",
    "twosel = ak.count(vbf_jets_selected.pt, axis=1) == 2\n",
    "onesel = ak.count(vbf_jets_selected.pt, axis=1) == 1\n",
    "unsak4 = ak.count(vbf_jets_unselected_ak4.pt, axis=1) == 1\n",
    "unspt = ak.count(vbf_jets_unselected_pt.pt, axis=1) == 1\n",
    "zsel = ak.count(vbf_jets_selected.pt, axis=1) == 0\n",
    "\n",
    "print(\n",
    "    \"Events with two true VBF jets selected:\", np.sum(twosel), f\"({np.sum(twosel)/ tot * 100:.1f}%)\"\n",
    ")\n",
    "print(\n",
    "    \"Events with 1 VBF jet unselected because ak4 selections:\",\n",
    "    np.sum(unsak4),\n",
    "    f\"({np.sum(unsak4)/ tot * 100:.1f}%)\",\n",
    ")\n",
    "print(\n",
    "    \"Events with 1 VBF jet unselected because pt:\",\n",
    "    np.sum(unspt),\n",
    "    f\"({np.sum(unspt)/ tot * 100:.1f}%)\",\n",
    ")\n",
    "print(\"Events with 0 true VBF jets selected:\", np.sum(zsel), f\"({np.sum(zsel)/ tot * 100:.1f}%)\")"
   ]
  },
  {
   "cell_type": "markdown",
   "id": "04ee137a",
   "metadata": {},
   "source": [
    "Choosing highest eta_jj pair of jets"
   ]
  },
  {
   "cell_type": "code",
   "execution_count": null,
   "id": "f90bc735",
   "metadata": {},
   "outputs": [],
   "source": [
    "def highest_etajj_pair(jets, num_jets=3):\n",
    "    jets = ak.pad_none(jets, num_jets, clip=True)\n",
    "    etas = jets.eta\n",
    "    # etas = ak.pad_none(jets.eta, num_jets, clip=True)\n",
    "    ed = ak.fill_none(np.abs(etas[:, :, None] - etas[:, None]), 0)\n",
    "    am = np.argmax(ak.flatten(ed, axis=2), axis=1)\n",
    "    i1 = am // num_jets\n",
    "    i2 = am % num_jets\n",
    "\n",
    "    j1 = jets[np.arange(len(jets)), i1.to_numpy()]\n",
    "    j2 = jets[np.arange(len(jets)), i2.to_numpy()]\n",
    "\n",
    "    matched1 = ak.pad_none(matched[vbf_jet_mask][tsel], num_jets, clip=True)[\n",
    "        np.arange(ak.sum(tsel)), i1.to_numpy()\n",
    "    ]\n",
    "    matched2 = ak.pad_none(matched[vbf_jet_mask][tsel], num_jets, clip=True)[\n",
    "        np.arange(ak.sum(tsel)), i2.to_numpy()\n",
    "    ]\n",
    "\n",
    "    return ak.concatenate([ak.unflatten(j1, 1), ak.unflatten(j2, 1)], axis=1), ak.concatenate(\n",
    "        [ak.unflatten(matched1, 1), ak.unflatten(matched2, 1)], axis=1\n",
    "    )"
   ]
  },
  {
   "cell_type": "code",
   "execution_count": null,
   "id": "280ca16e",
   "metadata": {},
   "outputs": [],
   "source": [
    "sjets, matchedsel = highest_etajj_pair(vbf_jets[tsel])\n",
    "matching_efficiency(gen_quarks[tsel], sjets)"
   ]
  },
  {
   "cell_type": "markdown",
   "id": "bf5a8917",
   "metadata": {},
   "source": [
    "Choosing highest pT pair of jets with a minimum eta_jj value"
   ]
  },
  {
   "cell_type": "code",
   "execution_count": null,
   "id": "ec4e7a27",
   "metadata": {},
   "outputs": [],
   "source": [
    "def top_pt_eta_min(jets, eta_jj_min=2.0, num_jets=3):\n",
    "    \"\"\"Find highest pt pair of jets with |eta_jj| > 2\"\"\"\n",
    "    jets = ak.pad_none(jets, num_jets, clip=True)\n",
    "    eta = jets.eta\n",
    "\n",
    "    etas = []\n",
    "    i_s = []\n",
    "    for i in range(num_jets):\n",
    "        for j in range(i + 1, num_jets):\n",
    "            etajj = ak.fill_none(np.abs(eta[:, i] - eta[:, j]) >= eta_jj_min, False)\n",
    "            etas.append(etajj)\n",
    "            i_s.append([i, j])\n",
    "\n",
    "    inds = np.zeros((len(jets), 2))\n",
    "    inds[:, 1] += 1\n",
    "\n",
    "    eta_jj_cache = ~etas[0]\n",
    "    for n in range(1, len(etas)):\n",
    "        inds[eta_jj_cache * etas[n]] = i_s[n]\n",
    "        eta_jj_cache = eta_jj_cache * ~etas[n]\n",
    "\n",
    "    i1 = inds[:, 0].astype(int)\n",
    "    i2 = inds[:, 1].astype(int)\n",
    "\n",
    "    j1 = jets[np.arange(len(jets)), i1]\n",
    "    j2 = jets[np.arange(len(jets)), i2]\n",
    "\n",
    "    matched1 = ak.pad_none(matched[vbf_jet_mask][tsel], num_jets, clip=True)[\n",
    "        np.arange(ak.sum(tsel)), i1\n",
    "    ]\n",
    "    matched2 = ak.pad_none(matched[vbf_jet_mask][tsel], num_jets, clip=True)[\n",
    "        np.arange(ak.sum(tsel)), i2\n",
    "    ]\n",
    "\n",
    "    return ak.concatenate([ak.unflatten(j1, 1), ak.unflatten(j2, 1)], axis=1), ak.concatenate(\n",
    "        [ak.unflatten(matched1, 1), ak.unflatten(matched2, 1)], axis=1\n",
    "    )"
   ]
  },
  {
   "cell_type": "code",
   "execution_count": null,
   "id": "c331fa30",
   "metadata": {},
   "outputs": [],
   "source": [
    "sjets, matchedsel = top_pt_eta_min(vbf_jets[tsel], eta_jj_min=2.8, num_jets=3)\n",
    "matching_efficiency(gen_quarks[tsel], sjets)"
   ]
  },
  {
   "cell_type": "code",
   "execution_count": null,
   "id": "c9673517",
   "metadata": {},
   "outputs": [],
   "source": [
    "max_matching = [0, 0]\n",
    "for etamin in np.arange(2, 5, 0.05):\n",
    "    sjets, matchedsel = top_pt_eta_min(vbf_jets[tsel], eta_jj_min=etamin, num_jets=4)\n",
    "    me = matching_efficiency(gen_quarks[tsel], sjets)\n",
    "    if me > max_matching[-1]:\n",
    "        max_matching = [etamin, me]\n",
    "\n",
    "print(max_matching)"
   ]
  },
  {
   "cell_type": "code",
   "execution_count": null,
   "id": "6d169391",
   "metadata": {},
   "outputs": [],
   "source": [
    "twosel = ak.sum(matchedsel, axis=1) == 2\n",
    "onesel = ak.sum(matchedsel, axis=1) == 1\n",
    "zsel = ak.sum(matchedsel, axis=1) == 0\n",
    "\n",
    "print(\n",
    "    \"Events with two true VBF jets selected:\", np.sum(twosel), f\"({np.sum(twosel)/ tot * 100:.1f}%)\"\n",
    ")\n",
    "print(\"Events with 1 true VBF selected:\", np.sum(onesel), f\"({np.sum(onesel)/ tot * 100:.1f}%)\")\n",
    "print(\"Events with 0 true VBF jets selected:\", np.sum(zsel), f\"({np.sum(zsel)/ tot * 100:.1f}%)\")"
   ]
  },
  {
   "cell_type": "code",
   "execution_count": null,
   "id": "8cf8834b",
   "metadata": {},
   "outputs": [],
   "source": [
    "fake_jets_selected = vbf_jets[tsel][onesel][~matchedsel[onesel]]\n",
    "true_jets_selected = vbf_jets[tsel][onesel][matchedsel[onesel]]\n",
    "true_jets_unselected = vbf_jets[tsel][onesel][matched[vbf_jet_mask][tsel][onesel]][:, 1:]"
   ]
  },
  {
   "cell_type": "markdown",
   "id": "91bc954d",
   "metadata": {},
   "source": [
    "eta_jj cut efficiency"
   ]
  },
  {
   "cell_type": "code",
   "execution_count": null,
   "id": "ba2bb8a7",
   "metadata": {},
   "outputs": [],
   "source": [
    "etas = pad_val(vbf_jets[sel].eta, 2, axis=1)\n",
    "eta_jj = np.abs(etas[:, 0] - etas[:, 1])\n",
    "np.mean(eta_jj > 4)"
   ]
  },
  {
   "cell_type": "code",
   "execution_count": null,
   "id": "d2998910",
   "metadata": {},
   "outputs": [],
   "source": [
    "etas = pad_val(\n",
    "    vbf_jets[ak.fill_none(sel & (ak.count(vbf_jets.pt, axis=1) >= 2), False)].eta, 2, axis=1\n",
    ")\n",
    "\n",
    "etas = pad_val(vbf_jets[sel].eta, 2, axis=1)\n",
    "\n",
    "plt.rcParams.update({\"font.size\": 24})\n",
    "plt.figure(figsize=(12, 12))\n",
    "plt.hist(np.abs(etas[:, 0] - etas[:, 1]), np.arange(0, 10, 0.25), histtype=\"step\", density=True)\n",
    "plt.xlabel(r\"$\\eta_{jj}$\")\n",
    "plt.ylabel(\"Events (A. U.)\")\n",
    "plt.show()"
   ]
  }
 ],
 "metadata": {
  "kernelspec": {
   "display_name": "Python 3 (ipykernel)",
   "language": "python",
   "name": "python3"
  },
  "language_info": {
   "codemirror_mode": {
    "name": "ipython",
    "version": 3
   },
   "file_extension": ".py",
   "mimetype": "text/x-python",
   "name": "python",
   "nbconvert_exporter": "python",
   "pygments_lexer": "ipython3",
   "version": "3.9.15"
  }
 },
 "nbformat": 4,
 "nbformat_minor": 5
}
