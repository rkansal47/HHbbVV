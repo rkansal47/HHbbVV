{
 "cells": [
  {
   "cell_type": "code",
   "execution_count": null,
   "metadata": {},
   "outputs": [],
   "source": [
    "import uproot\n",
    "import awkward as ak\n",
    "from coffea import nanoevents\n",
    "from coffea.nanoevents.methods.base import NanoEventsArray\n",
    "from coffea.analysis_tools import Weights, PackedSelection\n",
    "from coffea.nanoevents.methods import nanoaod\n",
    "from coffea.nanoevents.methods import vector\n",
    "from coffea.lookup_tools.dense_lookup import dense_lookup\n",
    "\n",
    "ak.behavior.update(vector.behavior)\n",
    "\n",
    "import pickle, json, gzip\n",
    "import numpy as np\n",
    "\n",
    "from typing import Optional, List, Dict\n",
    "from copy import copy\n",
    "\n",
    "import matplotlib.pyplot as plt\n",
    "import mplhep as hep\n",
    "from matplotlib import colors\n",
    "\n",
    "from tqdm import tqdm\n",
    "\n",
    "import os\n",
    "\n",
    "# import corrections\n",
    "import correctionlib\n",
    "\n",
    "# import utils"
   ]
  },
  {
   "cell_type": "code",
   "execution_count": null,
   "metadata": {},
   "outputs": [],
   "source": [
    "%load_ext autoreload\n",
    "%autoreload 2"
   ]
  },
  {
   "cell_type": "code",
   "execution_count": null,
   "metadata": {},
   "outputs": [],
   "source": [
    "d_PDGID = 1\n",
    "u_PDGID = 2\n",
    "s_PDGID = 3\n",
    "c_PDGID = 4\n",
    "b_PDGID = 5\n",
    "g_PDGID = 21\n",
    "TOP_PDGID = 6\n",
    "\n",
    "ELE_PDGID = 11\n",
    "vELE_PDGID = 12\n",
    "MU_PDGID = 13\n",
    "vMU_PDGID = 14\n",
    "TAU_PDGID = 15\n",
    "vTAU_PDGID = 16\n",
    "\n",
    "G_PDGID = 22\n",
    "Z_PDGID = 23\n",
    "W_PDGID = 24\n",
    "HIGGS_PDGID = 25\n",
    "Y_PDGID = 35\n",
    "\n",
    "b_PDGIDS = [511, 521, 523]\n",
    "\n",
    "GRAV_PDGID = 39\n",
    "\n",
    "GEN_FLAGS = [\"fromHardProcess\", \"isLastCopy\"]"
   ]
  },
  {
   "cell_type": "code",
   "execution_count": null,
   "metadata": {},
   "outputs": [],
   "source": [
    "plot_dir = \"../../../plots/ScaleFactors/Nov23\"\n",
    "_ = os.system(f\"mkdir -p {plot_dir}\")"
   ]
  },
  {
   "cell_type": "code",
   "execution_count": null,
   "metadata": {},
   "outputs": [],
   "source": [
    "P4 = {\n",
    "    \"eta\": \"Eta\",\n",
    "    \"phi\": \"Phi\",\n",
    "    \"mass\": \"Mass\",\n",
    "    \"pt\": \"Pt\",\n",
    "}\n",
    "\n",
    "\n",
    "PAD_VAL = -99999\n",
    "\n",
    "\n",
    "skim_vars = {\n",
    "    \"FatJet\": {\n",
    "        **P4,\n",
    "        \"msoftdrop\": \"Msd\",\n",
    "        \"particleNetMD_QCD\": \"ParticleNetMD_QCD\",\n",
    "        \"particleNetMD_Xbb\": \"ParticleNetMD_Xbb\",\n",
    "        \"particleNet_H4qvsQCD\": \"ParticleNet_Th4q\",\n",
    "        \"particleNet_mass\": \"ParticleNetMass\",\n",
    "    },\n",
    "    \"GenHiggs\": P4,\n",
    "    \"other\": {\"MET_pt\": \"MET_pt\"},\n",
    "}\n",
    "\n",
    "\n",
    "def pad_val(\n",
    "    arr: ak.Array,\n",
    "    target: int,\n",
    "    value: float = PAD_VAL,\n",
    "    axis: int = 0,\n",
    "    to_numpy: bool = True,\n",
    "    clip: bool = True,\n",
    "):\n",
    "    \"\"\"\n",
    "    pads awkward array up to ``target`` index along axis ``axis`` with value ``value``,\n",
    "    optionally converts to numpy array\n",
    "    \"\"\"\n",
    "    ret = ak.fill_none(ak.pad_none(arr, target, axis=axis, clip=clip), value, axis=axis)\n",
    "    return ret.to_numpy() if to_numpy else ret\n",
    "\n",
    "\n",
    "def add_selection(\n",
    "    name: str,\n",
    "    sel: np.ndarray,\n",
    "    selection: PackedSelection,\n",
    "    cutflow: dict,\n",
    "    isData: bool,\n",
    "    genWeights: ak.Array = None,\n",
    "):\n",
    "    \"\"\"adds selection to PackedSelection object and the cutflow dictionary\"\"\"\n",
    "    if isinstance(sel, ak.Array):\n",
    "        sel = sel.to_numpy()\n",
    "\n",
    "    selection.add(name, sel.astype(bool))\n",
    "    cutflow[name] = (\n",
    "        np.sum(selection.all(*selection.names))\n",
    "        if isData\n",
    "        # add up genWeights for MC\n",
    "        else np.sum(genWeights[selection.all(*selection.names)])\n",
    "    )"
   ]
  },
  {
   "cell_type": "code",
   "execution_count": null,
   "metadata": {},
   "outputs": [],
   "source": [
    "events = nanoevents.NanoEventsFactory.from_root(\n",
    "    # \"../../../../data/2017_UL_nano/NMSSM_XToYH_MX1000_MY400_HTo2bYTo2W_hadronicDecay/nano_mc2017_101.root\",\n",
    "    # \"../../../../data/2017_UL_nano/NMSSM_XToYHTo2W2BTo4Q2B_MX-3000_MY-190/nano_mc2016pre_13.root\",\n",
    "    # \"/eos/uscms//store/user/lpcpfnano/rkansal/v2_3/2016APV/XHY/NMSSM_XToYHTo2W2BTo4Q2B_MX-3000_MY-190_TuneCP5_13TeV-madgraph-pythia8/NMSSM_XToYHTo2W2BTo4Q2B_MX-3000_MY-190/230323_173705/0000/nano_mc2016pre_13.root\",\n",
    "    # \"/eos/uscms//store/user/lpcpfnano/rkansal/v2_3/2016/XHY/NMSSM_XToYHTo2W2BTo4Q2B_MX-3000_MY-190_TuneCP5_13TeV-madgraph-pythia8/NMSSM_XToYHTo2W2BTo4Q2B_MX-3000_MY-190/230323_193051/0000/nano_mc2016post_1-3.root\",\n",
    "    \"/eos/uscms/store/user/lpcpfnano/ammitra/v2_3/2017/XHY/NMSSM_XToYHTo2W2BTo4Q2B_MX-1600_MY-125_TuneCP5_13TeV-madgraph-pythia8/NMSSM_XToYHTo2W2BTo4Q2B_MX-1600_MY-125/230323_184451/0000/nano_mc2017_23.root\",\n",
    "    schemaclass=nanoevents.NanoAODSchema,\n",
    ").events()"
   ]
  },
  {
   "cell_type": "code",
   "execution_count": null,
   "metadata": {},
   "outputs": [],
   "source": [
    "isData = False\n",
    "signGenWeights = None if isData else np.sign(events[\"genWeight\"])\n",
    "n_events = len(events) if isData else int(np.sum(signGenWeights))\n",
    "selection = PackedSelection()\n",
    "\n",
    "cutflow = {}\n",
    "cutflow[\"all\"] = len(events)"
   ]
  },
  {
   "cell_type": "code",
   "execution_count": null,
   "metadata": {},
   "outputs": [],
   "source": [
    "skim_vars = P4\n",
    "fatjets = events.FatJet\n",
    "\n",
    "higgs = events.GenPart[\n",
    "    (abs(events.GenPart.pdgId) == HIGGS_PDGID) * events.GenPart.hasFlags(GEN_FLAGS)\n",
    "]\n",
    "GenHiggsVars = {f\"GenHiggs{key}\": higgs[var].to_numpy() for (var, key) in skim_vars.items()}\n",
    "is_bb = abs(higgs.children.pdgId) == b_PDGID\n",
    "has_bb = ak.sum(ak.flatten(is_bb, axis=2), axis=1) == 2\n",
    "\n",
    "bb = ak.flatten(higgs.children[is_bb], axis=2)\n",
    "GenbbVars = {f\"Genbb{key}\": pad_val(bb[var], 2, axis=1) for (var, key) in skim_vars.items()}\n",
    "\n",
    "# gen Y and kids\n",
    "Ys = events.GenPart[(abs(events.GenPart.pdgId) == Y_PDGID) * events.GenPart.hasFlags(GEN_FLAGS)]\n",
    "GenYVars = {f\"GenY{key}\": Ys[var].to_numpy() for (var, key) in skim_vars.items()}\n",
    "is_VV = (abs(Ys.children.pdgId) == W_PDGID) + (abs(Ys.children.pdgId) == Z_PDGID)\n",
    "has_VV = ak.sum(ak.flatten(is_VV, axis=2), axis=1) == 2\n",
    "\n",
    "add_selection(\"has_bbVV\", has_bb * has_VV, selection, cutflow, False, signGenWeights)\n",
    "\n",
    "VV = ak.flatten(Ys.children[is_VV], axis=2)\n",
    "GenVVVars = {f\"GenVV{key}\": VV[var][:, :2].to_numpy() for (var, key) in skim_vars.items()}\n",
    "\n",
    "VV_children = VV.children\n",
    "\n",
    "# iterate through the children in photon scattering events to get final daughter quarks\n",
    "for i in range(5):\n",
    "    photon_mask = ak.any(ak.flatten(abs(VV_children.pdgId), axis=2) == G_PDGID, axis=1)\n",
    "    if not np.any(photon_mask):\n",
    "        break\n",
    "\n",
    "    # use a where condition to get next layer of children for photon scattering events\n",
    "    VV_children = ak.where(photon_mask, ak.flatten(VV_children.children, axis=3), VV_children)\n",
    "\n",
    "quarks = abs(VV_children.pdgId) <= b_PDGID\n",
    "all_q = ak.all(ak.all(quarks, axis=2), axis=1)\n",
    "add_selection(\"all_q\", all_q, selection, cutflow, False, signGenWeights)\n",
    "\n",
    "V_has_2q = ak.count(VV_children.pdgId, axis=2) == 2\n",
    "has_4q = ak.values_astype(ak.prod(V_has_2q, axis=1), bool)\n",
    "add_selection(\"has_4q\", has_4q, selection, cutflow, False, signGenWeights)\n",
    "\n",
    "Gen4qVars = {\n",
    "    f\"Gen4q{key}\": ak.to_numpy(\n",
    "        ak.fill_none(\n",
    "            ak.pad_none(ak.pad_none(VV_children[var], 2, axis=1, clip=True), 2, axis=2, clip=True),\n",
    "            PAD_VAL,\n",
    "        )\n",
    "    )\n",
    "    for (var, key) in skim_vars.items()\n",
    "}\n",
    "\n",
    "# fatjet gen matching\n",
    "Hbb = ak.pad_none(higgs, 1, axis=1, clip=True)[:, 0]\n",
    "HVV = ak.pad_none(Ys, 1, axis=1, clip=True)[:, 0]\n",
    "\n",
    "bbdr = fatjets[:, :2].delta_r(Hbb)\n",
    "vvdr = fatjets[:, :2].delta_r(HVV)\n",
    "\n",
    "match_dR = 0.8\n",
    "Hbb_match = bbdr <= match_dR\n",
    "HVV_match = vvdr <= match_dR\n",
    "\n",
    "# overlap removal - in the case where fatjet is matched to both, match it only to the closest Higgs\n",
    "Hbb_match = (Hbb_match * ~HVV_match) + (bbdr <= vvdr) * (Hbb_match * HVV_match)\n",
    "HVV_match = (HVV_match * ~Hbb_match) + (bbdr > vvdr) * (Hbb_match * HVV_match)\n",
    "\n",
    "VVJets = ak.pad_none(fatjets[HVV_match], 1, axis=1)[:, 0]\n",
    "quarkdrs = ak.flatten(VVJets.delta_r(VV_children), axis=2)\n",
    "num_prongs = ak.sum(quarkdrs < match_dR, axis=1)\n",
    "\n",
    "GenMatchingVars = {\n",
    "    \"ak8FatJetHbb\": pad_val(Hbb_match, 2, axis=1),\n",
    "    \"ak8FatJetHVV\": pad_val(HVV_match, 2, axis=1),\n",
    "    \"ak8FatJetHVVNumProngs\": ak.fill_none(num_prongs, PAD_VAL).to_numpy(),\n",
    "}\n",
    "\n",
    "genbb, gen4q = bb, ak.flatten(VV_children, axis=2)"
   ]
  },
  {
   "cell_type": "code",
   "execution_count": null,
   "metadata": {},
   "outputs": [],
   "source": [
    "fatjet_idx = 0\n",
    "ak8_pfcands = events.FatJetPFCands\n",
    "ak8_pfcands = ak8_pfcands[ak8_pfcands.jetIdx == fatjet_idx]\n",
    "pfcands0 = events.PFCands[ak8_pfcands.pFCandsIdx]\n",
    "\n",
    "fatjet_idx = 1\n",
    "ak8_pfcands = events.FatJetPFCands\n",
    "ak8_pfcands = ak8_pfcands[ak8_pfcands.jetIdx == fatjet_idx]\n",
    "pfcands1 = events.PFCands[ak8_pfcands.pFCandsIdx]"
   ]
  },
  {
   "cell_type": "code",
   "execution_count": null,
   "metadata": {},
   "outputs": [],
   "source": [
    "sel = np.prod(\n",
    "    pad_val(\n",
    "        (fatjets.pt > 250) * (np.abs(fatjets.eta) < 2.4) * (fatjets.particleNet_mass >= 50),\n",
    "        2,\n",
    "        False,\n",
    "        axis=1,\n",
    "    ),\n",
    "    axis=1,\n",
    ").astype(bool)"
   ]
  },
  {
   "cell_type": "code",
   "execution_count": null,
   "metadata": {},
   "outputs": [],
   "source": [
    "pfcands0[sel]"
   ]
  },
  {
   "cell_type": "code",
   "execution_count": null,
   "metadata": {},
   "outputs": [],
   "source": [
    "_ = plt.hist(\n",
    "    ak.sum(pfcands1[sel].pdgId == 22, axis=1) / ak.count(pfcands1[sel].pdgId, axis=1),\n",
    "    np.linspace(0.8, 1, 101),\n",
    "    histtype=\"step\",\n",
    ")"
   ]
  },
  {
   "cell_type": "code",
   "execution_count": null,
   "metadata": {},
   "outputs": [],
   "source": [
    "_ = plt.hist(\n",
    "    ak.sum(pfcands0.pdgId == 22, axis=1) / ak.count(pfcands0.pdgId, axis=1),\n",
    "    np.linspace(0, 1, 101),\n",
    "    histtype=\"step\",\n",
    ")"
   ]
  },
  {
   "cell_type": "code",
   "execution_count": null,
   "metadata": {},
   "outputs": [],
   "source": [
    "_ = plt.hist(ak.count(pfcands0[sel].pdgId, axis=1), np.linspace(-0.5, 20.5, 22), histtype=\"step\")"
   ]
  },
  {
   "cell_type": "code",
   "execution_count": null,
   "metadata": {},
   "outputs": [],
   "source": [
    "_ = plt.hist(ak.count(pfcands1[sel].pdgId, axis=1), np.linspace(-0.5, 20.5, 22), histtype=\"step\")"
   ]
  },
  {
   "cell_type": "code",
   "execution_count": null,
   "metadata": {},
   "outputs": [],
   "source": [
    "np.where(ak.count(pfcands0[sel].pdgId, axis=1) == 3)"
   ]
  },
  {
   "cell_type": "code",
   "execution_count": null,
   "metadata": {},
   "outputs": [],
   "source": [
    "event_idx = np.where(ak.count(pfcands0[sel].pdgId, axis=1) == 3)[0][0]"
   ]
  },
  {
   "cell_type": "code",
   "execution_count": null,
   "metadata": {},
   "outputs": [],
   "source": [
    "pfcands0[sel][event_idx].pdgId"
   ]
  },
  {
   "cell_type": "code",
   "execution_count": null,
   "metadata": {},
   "outputs": [],
   "source": [
    "pfcands0[sel][event_idx].pt"
   ]
  },
  {
   "cell_type": "code",
   "execution_count": null,
   "metadata": {},
   "outputs": [],
   "source": [
    "VV_children[sel][event_idx].pdgId"
   ]
  },
  {
   "cell_type": "code",
   "execution_count": null,
   "metadata": {},
   "outputs": [],
   "source": [
    "VV_children[sel][event_idx].children.children.pdgId"
   ]
  },
  {
   "cell_type": "code",
   "execution_count": null,
   "metadata": {},
   "outputs": [],
   "source": [
    "ak.flatten(ak.flatten(VV_children[sel][event_idx].children.pdgId, axis=-1), axis=-1)"
   ]
  },
  {
   "cell_type": "code",
   "execution_count": null,
   "metadata": {},
   "outputs": [],
   "source": [
    "ak.flatten(\n",
    "    ak.flatten(ak.flatten(VV_children[sel][event_idx].children.children.pdgId, axis=-1), axis=-1),\n",
    "    axis=-1,\n",
    ")"
   ]
  },
  {
   "cell_type": "code",
   "execution_count": null,
   "metadata": {},
   "outputs": [],
   "source": [
    "ak.flatten(\n",
    "    ak.flatten(\n",
    "        ak.flatten(\n",
    "            ak.flatten(VV_children[sel][event_idx].children.children.children.pdgId, axis=-1),\n",
    "            axis=-1,\n",
    "        ),\n",
    "        axis=-1,\n",
    "    ),\n",
    "    axis=-1,\n",
    ")"
   ]
  },
  {
   "cell_type": "code",
   "execution_count": null,
   "metadata": {},
   "outputs": [],
   "source": [
    "for i in events.FatJet[597][1].delta_r(events.PFCands[597][events.FatJetPFCands[597].pFCandsIdx]):\n",
    "    print(i)"
   ]
  },
  {
   "cell_type": "code",
   "execution_count": null,
   "metadata": {},
   "outputs": [],
   "source": [
    "events.FatJet[sel][event_idx][1].delta_r(VV_children[sel][event_idx])"
   ]
  },
  {
   "cell_type": "code",
   "execution_count": null,
   "metadata": {},
   "outputs": [],
   "source": [
    "events.FatJet[597][1].delta_r(Hbb[597])"
   ]
  },
  {
   "cell_type": "code",
   "execution_count": null,
   "metadata": {},
   "outputs": [],
   "source": [
    "events.FatJet[597][1].delta_r(HVV[597])"
   ]
  },
  {
   "cell_type": "code",
   "execution_count": null,
   "metadata": {},
   "outputs": [],
   "source": [
    "events.FatJet[597][1].delta_r(VV_children[597])"
   ]
  },
  {
   "cell_type": "code",
   "execution_count": null,
   "metadata": {},
   "outputs": [],
   "source": [
    "events.FatJet[597][1].delta_r(pfcands1[597])"
   ]
  },
  {
   "cell_type": "code",
   "execution_count": null,
   "metadata": {},
   "outputs": [],
   "source": [
    "gen4q"
   ]
  },
  {
   "cell_type": "code",
   "execution_count": null,
   "metadata": {},
   "outputs": [],
   "source": [
    "fatjet_idx = 0\n",
    "ak8_pfcands = events.FatJetPFCands\n",
    "ak8_pfcands = ak8_pfcands[ak8_pfcands.jetIdx == fatjet_idx]\n",
    "pfcands0 = events.PFCands[ak8_pfcands.pFCandsIdx]\n",
    "\n",
    "fatjet_idx = 1\n",
    "ak8_pfcands = events.FatJetPFCands\n",
    "ak8_pfcands = ak8_pfcands[ak8_pfcands.jetIdx == fatjet_idx]\n",
    "pfcands1 = events.PFCands[ak8_pfcands.pFCandsIdx]"
   ]
  },
  {
   "cell_type": "code",
   "execution_count": null,
   "metadata": {},
   "outputs": [],
   "source": [
    "sel = np.prod(\n",
    "    pad_val(\n",
    "        (fatjets.pt > 250) * (np.abs(fatjets.eta) < 2.4) * (fatjets.particleNet_mass >= 50),\n",
    "        2,\n",
    "        False,\n",
    "        axis=1,\n",
    "    ),\n",
    "    axis=1,\n",
    ")"
   ]
  },
  {
   "cell_type": "code",
   "execution_count": null,
   "metadata": {},
   "outputs": [],
   "source": [
    "np.min(ak.count(pfcands1[sel].pt, axis=1))"
   ]
  },
  {
   "cell_type": "code",
   "execution_count": null,
   "metadata": {},
   "outputs": [],
   "source": [
    "fatjet_idx = 0\n",
    "ak8_pfcands = events.FatJetPFCands\n",
    "ak8_pfcands = ak8_pfcands[ak8_pfcands.jetIdx == fatjet_idx]\n",
    "pfcands0 = events.PFCands[ak8_pfcands.pFCandsIdx]\n",
    "\n",
    "fatjet_idx = 1\n",
    "ak8_pfcands = events.FatJetPFCands\n",
    "ak8_pfcands = ak8_pfcands[ak8_pfcands.jetIdx == fatjet_idx]\n",
    "pfcands1 = events.PFCands[ak8_pfcands.pFCandsIdx]"
   ]
  }
 ],
 "metadata": {
  "kernelspec": {
   "display_name": "python310",
   "language": "python",
   "name": "python3"
  },
  "language_info": {
   "codemirror_mode": {
    "name": "ipython",
    "version": 3
   },
   "file_extension": ".py",
   "mimetype": "text/x-python",
   "name": "python",
   "nbconvert_exporter": "python",
   "pygments_lexer": "ipython3",
   "version": "3.9.15"
  },
  "orig_nbformat": 4,
  "vscode": {
   "interpreter": {
    "hash": "15adc7883e707560d0d9727709639b8fe3f3cff1f197d2d643742923ff23a29c"
   }
  }
 },
 "nbformat": 4,
 "nbformat_minor": 2
}
