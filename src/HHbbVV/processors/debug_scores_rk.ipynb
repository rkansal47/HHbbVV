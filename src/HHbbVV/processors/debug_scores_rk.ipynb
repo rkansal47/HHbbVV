{
 "cells": [
  {
   "cell_type": "code",
   "execution_count": 51,
   "id": "7e82e085",
   "metadata": {},
   "outputs": [],
   "source": [
    "import uproot\n",
    "import awkward as ak\n",
    "import numpy as np\n",
    "from coffea import nanoevents\n",
    "import matplotlib.pyplot as plt\n"
   ]
  },
  {
   "cell_type": "code",
   "execution_count": 12,
   "metadata": {},
   "outputs": [],
   "source": [
    "%load_ext autoreload\n",
    "%autoreload 2"
   ]
  },
  {
   "cell_type": "code",
   "execution_count": 16,
   "metadata": {},
   "outputs": [],
   "source": [
    "import TaggerInference\n"
   ]
  },
  {
   "cell_type": "code",
   "execution_count": 22,
   "metadata": {},
   "outputs": [],
   "source": [
    "nanoevents.PFNanoAODSchema.nested_index_items[\"FatJetAK15_pFCandsIdxG\"] = (\n",
    "    \"FatJetAK15_nConstituents\",\n",
    "    \"JetPFCandsAK15\",\n",
    ")\n",
    "nanoevents.PFNanoAODSchema.mixins[\"FatJetAK15\"] = \"FatJet\"\n",
    "nanoevents.PFNanoAODSchema.mixins[\"FatJetAK15SubJet\"] = \"FatJet\"\n",
    "nanoevents.PFNanoAODSchema.mixins[\"SubJet\"] = \"FatJet\"\n",
    "nanoevents.PFNanoAODSchema.mixins[\"PFCands\"] = \"PFCand\"\n",
    "nanoevents.PFNanoAODSchema.mixins[\"SV\"] = \"PFCand\"\n"
   ]
  },
  {
   "cell_type": "code",
   "execution_count": 17,
   "metadata": {},
   "outputs": [],
   "source": [
    "pf_variables = [\n",
    "    \"pfcand_pt_log_nopuppi\",\n",
    "    \"pfcand_e_log_nopuppi\",\n",
    "    \"pfcand_etarel\",\n",
    "    \"pfcand_phirel\",\n",
    "    \"pfcand_isEl\",\n",
    "    \"pfcand_isMu\",\n",
    "    \"pfcand_isGamma\",\n",
    "    \"pfcand_isChargedHad\",\n",
    "    \"pfcand_isNeutralHad\",\n",
    "    \"pfcand_abseta\",\n",
    "    \"pfcand_charge\",\n",
    "    \"pfcand_VTX_ass\",\n",
    "    \"pfcand_lostInnerHits\",\n",
    "    \"pfcand_normchi2\",\n",
    "    \"pfcand_quality\",\n",
    "    \"pfcand_dz\",\n",
    "    \"pfcand_dzsig\",\n",
    "    \"pfcand_dxy\",\n",
    "    \"pfcand_dxysig\",\n",
    "    \"pfcand_btagEtaRel\",\n",
    "    \"pfcand_btagPtRatio\",\n",
    "    \"pfcand_btagPParRatio\",\n",
    "    \"pfcand_btagSip3dVal\",\n",
    "    \"pfcand_btagSip3dSig\",\n",
    "    \"pfcand_btagJetDistVal\",\n",
    "]\n",
    "\n",
    "sv_variables = [\n",
    "    \"sv_pt_log\",\n",
    "    \"sv_mass\",\n",
    "    \"sv_etarel\",\n",
    "    \"sv_phirel\",\n",
    "    \"sv_abseta\",\n",
    "    \"sv_ntracks\",\n",
    "    \"sv_normchi2\",\n",
    "    \"sv_dxy\",\n",
    "    \"sv_dxysig\",\n",
    "    \"sv_d3d\",\n",
    "    \"sv_d3dsig\",\n",
    "    \"sv_costhetasvpv\",\n",
    "]\n"
   ]
  },
  {
   "cell_type": "code",
   "execution_count": 6,
   "metadata": {},
   "outputs": [],
   "source": [
    "data_dir = \"../../../../data/pku_inputs_debug/\"\n",
    "\n",
    "events_dnn = uproot.open(f\"{data_dir}/output_numEvent40.root:deepntuplizer/tree\").arrays()\n",
    "\n",
    "fname = f\"{data_dir}/nano_skim_0-1.root\"\n",
    "events_coffea = uproot.open(f\"{fname}:Events\").arrays(library=\"np\")\n"
   ]
  },
  {
   "cell_type": "code",
   "execution_count": 24,
   "metadata": {},
   "outputs": [
    {
     "name": "stderr",
     "output_type": "stream",
     "text": [
      "/Users/raghav/mambaforge/envs/python310/lib/python3.10/site-packages/coffea/nanoevents/mapping/uproot.py:86: UserWarning: Found duplicate branch FatJetAK15SubJet_nBHadrons in <TTree 'Events' (1929 branches) at 0x7fe65984bcd0>, taking first instance\n",
      "  warnings.warn(\n",
      "/Users/raghav/mambaforge/envs/python310/lib/python3.10/site-packages/coffea/nanoevents/mapping/uproot.py:86: UserWarning: Found duplicate branch FatJetAK15SubJet_nCHadrons in <TTree 'Events' (1929 branches) at 0x7fe65984bcd0>, taking first instance\n",
      "  warnings.warn(\n",
      "/Users/raghav/mambaforge/envs/python310/lib/python3.10/site-packages/coffea/nanoevents/mapping/uproot.py:86: UserWarning: Found duplicate branch FatJetAK15_nBHadrons in <TTree 'Events' (1929 branches) at 0x7fe65984bcd0>, taking first instance\n",
      "  warnings.warn(\n",
      "/Users/raghav/mambaforge/envs/python310/lib/python3.10/site-packages/coffea/nanoevents/mapping/uproot.py:86: UserWarning: Found duplicate branch FatJetAK15_nCHadrons in <TTree 'Events' (1929 branches) at 0x7fe65984bcd0>, taking first instance\n",
      "  warnings.warn(\n",
      "/Users/raghav/mambaforge/envs/python310/lib/python3.10/site-packages/coffea/nanoevents/mapping/uproot.py:86: UserWarning: Found duplicate branch FatJet_btagDDBvLV2 in <TTree 'Events' (1929 branches) at 0x7fe65984bcd0>, taking first instance\n",
      "  warnings.warn(\n",
      "/Users/raghav/mambaforge/envs/python310/lib/python3.10/site-packages/coffea/nanoevents/mapping/uproot.py:86: UserWarning: Found duplicate branch FatJet_btagDDCvBV2 in <TTree 'Events' (1929 branches) at 0x7fe65984bcd0>, taking first instance\n",
      "  warnings.warn(\n",
      "/Users/raghav/mambaforge/envs/python310/lib/python3.10/site-packages/coffea/nanoevents/mapping/uproot.py:86: UserWarning: Found duplicate branch FatJet_btagDDCvLV2 in <TTree 'Events' (1929 branches) at 0x7fe65984bcd0>, taking first instance\n",
      "  warnings.warn(\n",
      "/Users/raghav/mambaforge/envs/python310/lib/python3.10/site-packages/coffea/nanoevents/mapping/uproot.py:86: UserWarning: Found duplicate branch FatJet_nBHadrons in <TTree 'Events' (1929 branches) at 0x7fe65984bcd0>, taking first instance\n",
      "  warnings.warn(\n",
      "/Users/raghav/mambaforge/envs/python310/lib/python3.10/site-packages/coffea/nanoevents/mapping/uproot.py:86: UserWarning: Found duplicate branch FatJet_nCHadrons in <TTree 'Events' (1929 branches) at 0x7fe65984bcd0>, taking first instance\n",
      "  warnings.warn(\n",
      "/Users/raghav/mambaforge/envs/python310/lib/python3.10/site-packages/coffea/nanoevents/mapping/uproot.py:86: UserWarning: Found duplicate branch SubJet_nBHadrons in <TTree 'Events' (1929 branches) at 0x7fe65984bcd0>, taking first instance\n",
      "  warnings.warn(\n",
      "/Users/raghav/mambaforge/envs/python310/lib/python3.10/site-packages/coffea/nanoevents/mapping/uproot.py:86: UserWarning: Found duplicate branch SubJet_nCHadrons in <TTree 'Events' (1929 branches) at 0x7fe65984bcd0>, taking first instance\n",
      "  warnings.warn(\n",
      "/Users/raghav/mambaforge/envs/python310/lib/python3.10/site-packages/coffea/nanoevents/schemas/nanoaod.py:193: RuntimeWarning: Missing cross-reference index for GenFatJetCands_jetIdx => GenJetAK8\n",
      "  warnings.warn(\n",
      "/Users/raghav/mambaforge/envs/python310/lib/python3.10/site-packages/coffea/nanoevents/schemas/nanoaod.py:193: RuntimeWarning: Missing cross-reference index for GenFatJetCands_pFCandsIdx => GenCands\n",
      "  warnings.warn(\n",
      "/Users/raghav/mambaforge/envs/python310/lib/python3.10/site-packages/coffea/nanoevents/schemas/nanoaod.py:193: RuntimeWarning: Missing cross-reference index for GenFatJetSVs_jetIdx => GenJetAK8\n",
      "  warnings.warn(\n",
      "/Users/raghav/mambaforge/envs/python310/lib/python3.10/site-packages/coffea/nanoevents/schemas/nanoaod.py:193: RuntimeWarning: Missing cross-reference index for GenFatJetSVs_sVIdx => SV\n",
      "  warnings.warn(\n",
      "/Users/raghav/mambaforge/envs/python310/lib/python3.10/site-packages/coffea/nanoevents/schemas/nanoaod.py:193: RuntimeWarning: Missing cross-reference index for GenJetCands_jetIdx => GenJet\n",
      "  warnings.warn(\n",
      "/Users/raghav/mambaforge/envs/python310/lib/python3.10/site-packages/coffea/nanoevents/schemas/nanoaod.py:193: RuntimeWarning: Missing cross-reference index for GenJetCands_pFCandsIdx => GenCands\n",
      "  warnings.warn(\n",
      "/Users/raghav/mambaforge/envs/python310/lib/python3.10/site-packages/coffea/nanoevents/schemas/nanoaod.py:193: RuntimeWarning: Missing cross-reference index for GenJetSVs_jetIdx => GenJet\n",
      "  warnings.warn(\n",
      "/Users/raghav/mambaforge/envs/python310/lib/python3.10/site-packages/coffea/nanoevents/schemas/nanoaod.py:193: RuntimeWarning: Missing cross-reference index for GenJetSVs_sVIdx => SV\n",
      "  warnings.warn(\n",
      "/Users/raghav/mambaforge/envs/python310/lib/python3.10/site-packages/coffea/nanoevents/schemas/nanoaod.py:193: RuntimeWarning: Missing cross-reference index for JetPFCands_jetIdx => Jet\n",
      "  warnings.warn(\n",
      "/Users/raghav/mambaforge/envs/python310/lib/python3.10/site-packages/coffea/nanoevents/schemas/nanoaod.py:193: RuntimeWarning: Missing cross-reference index for JetPFCands_pFCandsIdx => PFCands\n",
      "  warnings.warn(\n",
      "/Users/raghav/mambaforge/envs/python310/lib/python3.10/site-packages/coffea/nanoevents/schemas/nanoaod.py:193: RuntimeWarning: Missing cross-reference index for JetSVs_jetIdx => Jet\n",
      "  warnings.warn(\n",
      "/Users/raghav/mambaforge/envs/python310/lib/python3.10/site-packages/coffea/nanoevents/schemas/nanoaod.py:193: RuntimeWarning: Missing cross-reference index for JetSVs_sVIdx => SV\n",
      "  warnings.warn(\n"
     ]
    }
   ],
   "source": [
    "events_pf = nanoevents.NanoEventsFactory.from_root(\n",
    "    f\"{data_dir}/miniaod_20ul_35914-0.root\",\n",
    "    schemaclass=nanoevents.PFNanoAODSchema,\n",
    ").events()\n"
   ]
  },
  {
   "cell_type": "code",
   "execution_count": 85,
   "metadata": {},
   "outputs": [
    {
     "name": "stdout",
     "output_type": "stream",
     "text": [
      "Running inference for Jet 1\n",
      "size of input = 500\n"
     ]
    },
    {
     "name": "stderr",
     "output_type": "stream",
     "text": [
      "100%|██████████| 2/2 [00:07<00:00,  3.83s/it]\n"
     ]
    },
    {
     "name": "stdout",
     "output_type": "stream",
     "text": [
      "Inference took 7.7s\n",
      "Running inference for Jet 2\n",
      "size of input = 500\n"
     ]
    },
    {
     "name": "stderr",
     "output_type": "stream",
     "text": [
      "100%|██████████| 2/2 [00:08<00:00,  4.05s/it]"
     ]
    },
    {
     "name": "stdout",
     "output_type": "stream",
     "text": [
      "Inference took 8.1s\n",
      "Total time taken: 16.3s\n"
     ]
    },
    {
     "name": "stderr",
     "output_type": "stream",
     "text": [
      "\n"
     ]
    }
   ],
   "source": [
    "pnet_vars = TaggerInference.runInferenceTriton(\n",
    "    \"./tagger_resources/\",\n",
    "    events_pf,\n",
    "    ak15=False,\n",
    "    all_outputs=True,\n",
    ")\n"
   ]
  },
  {
   "cell_type": "code",
   "execution_count": null,
   "metadata": {},
   "outputs": [],
   "source": [
    "tagger_inputs, tagger_outputs, pnet_vars_list = TaggerInference.runInferenceTriton(\n",
    "    \"./tagger_resources/\",\n",
    "    events_pf,\n",
    "    ak15=False,\n",
    "    all_outputs=True,\n",
    ")\n"
   ]
  },
  {
   "cell_type": "code",
   "execution_count": 34,
   "metadata": {},
   "outputs": [],
   "source": [
    "npfs = 128\n",
    "nsvs = 10\n",
    "idx_pfnano = 7\n",
    "idx_dnn = 20\n",
    "\n",
    "\n",
    "def pad_val(array, var_length):\n",
    "    return (\n",
    "        ak.pad_none(array, var_length, axis=1, clip=True).to_numpy().filled(fill_value=0)\n",
    "    ).astype(np.float32)\n",
    "\n",
    "\n",
    "def get_dnn(branch, idx=idx_dnn):\n",
    "    if \"pfcand\" in branch:\n",
    "        x = pad_val(events_dnn[branch], npfs)\n",
    "        y = x[idx]\n",
    "        # y = np.delete(y,28)\n",
    "        # y = np.append(y,0.)\n",
    "    elif \"sv\" in branch:\n",
    "        y = pad_val(events_dnn[branch], nsvs)[idx]\n",
    "    else:\n",
    "        y = events_dnn[branch][idx]\n",
    "    return y\n",
    "\n",
    "\n",
    "def get_coffea(branch, idx=idx_pfnano):\n",
    "    x = events_coffea[branch][idx]\n",
    "    if \"pfcand\" in branch:\n",
    "        sorter = np.copy(events_coffea[\"pfcand_pt_log_nopuppi\"][idx])\n",
    "        sorter[sorter == 0] = -100\n",
    "        x = x[ak.argsort(sorter, ascending=False)]\n",
    "\n",
    "    elif \"sv\" in branch:\n",
    "        x = x[ak.argsort(events_coffea[\"sv_dxysig\"][idx], ascending=False)]\n",
    "\n",
    "    return x\n"
   ]
  },
  {
   "cell_type": "code",
   "execution_count": 174,
   "metadata": {},
   "outputs": [
    {
     "name": "stdout",
     "output_type": "stream",
     "text": [
      "pfcand_phirel [-0.00747986 -0.00318325 -0.00660122  0.01332091  0.03255197] [-0.0078125  -0.00341797 -0.00683594  0.01318359  0.03222656]\n",
      "pfcand_normchi2 [999. 999. 999. 999. 999. 999. 999. 999. 999. 999.] [-1. -1. -1. -1. -1. -1. -1. -1. -1. -1.]\n",
      "pfcand_dz [0. 0. 0. 0. 0. 0. 0. 0. 0. 0.] [-1. -1. -1. -1. -1. -1. -1. -1. -1. -1.]\n",
      "pfcand_dzsig [0. 0. 0. 0. 0. 0. 0. 0. 0. 0.] [1. 1. 1. 1. 1. 1. 1. 1. 1. 1.]\n",
      "pfcand_dxy [-0. -0. -0. -0. -0. -0. -0. -0. -0. -0.] [-1. -1. -1. -1. -1. -1. -1. -1. -1. -1.]\n",
      "pfcand_dxysig [0. 0. 0. 0. 0. 0. 0. 0. 0. 0.] [1. 1. 1. 1. 1. 1. 1. 1. 1. 1.]\n"
     ]
    }
   ],
   "source": [
    "for var in pf_variables:\n",
    "    x = get_dnn(var)\n",
    "    y = get_coffea(var)\n",
    "\n",
    "    if not np.allclose(x, y, rtol=1e-2):\n",
    "        not_close = np.isclose(x, y, rtol=1e-2) == False\n",
    "        # print(x[not_close],y[not_close])\n",
    "        print(var, x[not_close], y[not_close])\n"
   ]
  },
  {
   "cell_type": "code",
   "execution_count": 62,
   "metadata": {},
   "outputs": [],
   "source": [
    "for var in sv_variables:\n",
    "    x = get_dnn(var)\n",
    "    y = get_coffea(var)\n",
    "\n",
    "    if not np.allclose(x, y, rtol=1e-2):\n",
    "        not_close = np.isclose(x, y, rtol=1e-2) == False\n",
    "        # print(x[not_close],y[not_close])\n",
    "        print(var, x[not_close], y[not_close])\n"
   ]
  },
  {
   "cell_type": "code",
   "execution_count": 43,
   "metadata": {},
   "outputs": [],
   "source": [
    "pf_pt_unc = pad_val((events_pf.FatJet.pt * (1.0 - events_pf.FatJet.rawFactor)), 2)\n",
    "pf_eta = pad_val(events_pf.FatJet.eta, 2)\n"
   ]
  },
  {
   "cell_type": "code",
   "execution_count": 56,
   "metadata": {},
   "outputs": [
    {
     "data": {
      "text/plain": [
       "(array([25.,  6.,  2.,  6.,  4.,  5.,  3.,  7.,  9., 13.]),\n",
       " array([4.77424968e-04, 9.90266949e-02, 1.97575971e-01, 2.96125233e-01,\n",
       "        3.94674510e-01, 4.93223786e-01, 5.91773033e-01, 6.90322340e-01,\n",
       "        7.88871586e-01, 8.87420893e-01, 9.85970140e-01]),\n",
       " <BarContainer object of 10 artists>)"
      ]
     },
     "execution_count": 56,
     "metadata": {},
     "output_type": "execute_result"
    },
    {
     "data": {
      "image/png": "[encoded data removed]",
      "text/plain": [
       "<Figure size 640x480 with 1 Axes>"
      ]
     },
     "metadata": {},
     "output_type": "display_data"
    }
   ],
   "source": [
    "# plt.hist(events_dnn[\"pfMassDecorrelatedInclParticleTransformerV1JetTags_probHWqqWqq2c\"])\n",
    "plt.hist(\n",
    "    events_dnn[\"pfMassDecorrelatedInclParticleTransformerV1DiscriminatorsJetTags_HWW4q3qvsQCD\"]\n",
    ")\n"
   ]
  },
  {
   "cell_type": "code",
   "execution_count": 87,
   "metadata": {},
   "outputs": [
    {
     "data": {
      "text/plain": [
       "(array([178.,  68.,  43.,  56.,  59.,  65.,  77.,  97., 130., 194.]),\n",
       " array([4.38614807e-04, 1.00302897e-01, 2.00167179e-01, 3.00031453e-01,\n",
       "        3.99895728e-01, 4.99760032e-01, 5.99624276e-01, 6.99488580e-01,\n",
       "        7.99352884e-01, 8.99217129e-01, 9.99081433e-01]),\n",
       " <BarContainer object of 10 artists>)"
      ]
     },
     "execution_count": 87,
     "metadata": {},
     "output_type": "execute_result"
    },
    {
     "data": {
      "image/png": "[encoded data removed]",
      "text/plain": [
       "<Figure size 640x480 with 1 Axes>"
      ]
     },
     "metadata": {},
     "output_type": "display_data"
    }
   ],
   "source": [
    "plt.hist(pnet_vars[\"ak8FatJetParTMD_THWW4q\"].reshape(-1))\n"
   ]
  },
  {
   "cell_type": "code",
   "execution_count": 95,
   "metadata": {},
   "outputs": [
    {
     "name": "stdout",
     "output_type": "stream",
     "text": [
      "[0.09782160073518753, 0.1337427]\n",
      "[0.0580739788711071, 0.052580483]\n",
      "[0.0922127515077591, 0.081338435]\n"
     ]
    }
   ],
   "source": [
    "matches = []\n",
    "scores = []\n",
    "\n",
    "for i, (dnn_pt, dnn_eta) in enumerate(zip(events_dnn[\"fj_pt\"], events_dnn[\"fj_eta\"])):\n",
    "    find_match = np.isclose(dnn_pt, pf_pt_unc, rtol=0.001) * np.isclose(dnn_eta, pf_eta, rtol=0.001)\n",
    "    if np.any(find_match):\n",
    "        where = np.where(find_match)\n",
    "        matches.append([i, [where[0][0], where[1][0]]])\n",
    "        scores.append(\n",
    "            [\n",
    "                events_dnn[\n",
    "                    \"pfMassDecorrelatedInclParticleTransformerV1DiscriminatorsJetTags_HWW4q3qvsQCD\"\n",
    "                ][i],\n",
    "                pnet_vars[\"ak8FatJetParTMD_THWW4q\"][matches[-1][1][0], matches[-1][1][1]],\n",
    "            ]\n",
    "        )\n",
    "\n",
    "        if not np.isclose(scores[-1][0], scores[-1][1], rtol=0.1):\n",
    "            print(scores[-1])\n",
    "\n",
    "scores = np.array(scores)\n"
   ]
  },
  {
   "cell_type": "code",
   "execution_count": null,
   "metadata": {},
   "outputs": [],
   "source": []
  }
 ],
 "metadata": {
  "kernelspec": {
   "display_name": "python310",
   "language": "python",
   "name": "python3"
  },
  "language_info": {
   "codemirror_mode": {
    "name": "ipython",
    "version": 3
   },
   "file_extension": ".py",
   "mimetype": "text/x-python",
   "name": "python",
   "nbconvert_exporter": "python",
   "pygments_lexer": "ipython3",
   "version": "3.10.8"
  },
  "orig_nbformat": 4,
  "vscode": {
   "interpreter": {
    "hash": "15adc7883e707560d0d9727709639b8fe3f3cff1f197d2d643742923ff23a29c"
   }
  }
 },
 "nbformat": 4,
 "nbformat_minor": 2
}
