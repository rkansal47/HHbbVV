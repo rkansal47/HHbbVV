{
 "cells": [
  {
   "cell_type": "code",
   "execution_count": 1,
   "metadata": {},
   "outputs": [],
   "source": [
    "from HHbbVV.postprocessing import utils, plotting\n",
    "import json\n",
    "from pathlib import Path\n",
    "import numpy as np"
   ]
  },
  {
   "cell_type": "code",
   "execution_count": 2,
   "metadata": {},
   "outputs": [],
   "source": [
    "%load_ext autoreload\n",
    "%autoreload 2"
   ]
  },
  {
   "cell_type": "code",
   "execution_count": 21,
   "metadata": {},
   "outputs": [],
   "source": [
    "plot_dir = Path(\"../../../plots/XHY/25Feb4XHYPoints\")\n",
    "plot_dir.mkdir(parents=True, exist_ok=True)"
   ]
  },
  {
   "cell_type": "code",
   "execution_count": 3,
   "metadata": {},
   "outputs": [],
   "source": [
    "# from https://gitlab.cern.ch/cms-b2g/b-2-g-m-csample-requests/-/issues/6\n",
    "m_X_HY_full = [\n",
    "    240,\n",
    "    280,\n",
    "    300,\n",
    "    320,\n",
    "    350,\n",
    "    400,\n",
    "    450,\n",
    "    500,\n",
    "    550,\n",
    "    600,\n",
    "    650,\n",
    "    700,\n",
    "    750,\n",
    "    800,\n",
    "    850,\n",
    "    900,\n",
    "    950,\n",
    "    1000,\n",
    "    1200,\n",
    "    1400,\n",
    "    1600,\n",
    "    1800,\n",
    "    2000,\n",
    "    2200,\n",
    "    2400,\n",
    "    2500,\n",
    "    2600,\n",
    "    2800,\n",
    "    3000,\n",
    "    3500,\n",
    "    4000,\n",
    "]\n",
    "m_Y_full = [\n",
    "    50,\n",
    "    60,\n",
    "    70,\n",
    "    80,\n",
    "    90,\n",
    "    95,\n",
    "    100,\n",
    "    125,\n",
    "    150,\n",
    "    170,\n",
    "    200,\n",
    "    250,\n",
    "    300,\n",
    "    350,\n",
    "    400,\n",
    "    450,\n",
    "    500,\n",
    "    550,\n",
    "    600,\n",
    "    650,\n",
    "    700,\n",
    "    800,\n",
    "    1000,\n",
    "    1200,\n",
    "    1400,\n",
    "    1600,\n",
    "    1800,\n",
    "    2000,\n",
    "    2200,\n",
    "    2300,\n",
    "    2400,\n",
    "    2600,\n",
    "    2800,\n",
    "    3000,\n",
    "    3300,\n",
    "    3500,\n",
    "    3800,\n",
    "]"
   ]
  },
  {
   "cell_type": "code",
   "execution_count": 2,
   "metadata": {},
   "outputs": [],
   "source": [
    "# open json\n",
    "with Path(\"../../../data/pfnanoindex_2018.json\").open(\"r\") as json_file:\n",
    "    samples = json.load(json_file)"
   ]
  },
  {
   "cell_type": "code",
   "execution_count": null,
   "metadata": {},
   "outputs": [],
   "source": []
  },
  {
   "cell_type": "code",
   "execution_count": 4,
   "metadata": {},
   "outputs": [],
   "source": [
    "xhypoints = [utils.mxmy(s) for s in list(samples[\"2018\"][\"XHY\"].keys())]"
   ]
  },
  {
   "cell_type": "code",
   "execution_count": null,
   "metadata": {},
   "outputs": [],
   "source": [
    "xhypoints"
   ]
  },
  {
   "cell_type": "code",
   "execution_count": null,
   "metadata": {},
   "outputs": [],
   "source": [
    "# check what's missing with respect to the full grid\n",
    "our_mx = np.unique(np.array(xhypoints)[:, 0])\n",
    "our_my = np.unique(np.array(xhypoints)[:, 1])\n",
    "\n",
    "missing_mx = [m for m in m_X_HY_full if m not in our_mx]\n",
    "missing_my = [m for m in m_Y_full if m not in our_my]\n",
    "\n",
    "print(f\"Missing m_X: {missing_mx}\")\n",
    "print(f\"Missing m_Y: {missing_my}\")"
   ]
  },
  {
   "cell_type": "code",
   "execution_count": null,
   "metadata": {},
   "outputs": [],
   "source": [
    "plotting.XHYscatter2d(\n",
    "    xhypoints, year=\"2018\", title=\"All Points\", name=plot_dir / \"all_points.pdf\", show=True\n",
    ")"
   ]
  },
  {
   "cell_type": "code",
   "execution_count": 8,
   "metadata": {},
   "outputs": [],
   "source": [
    "xhypoints_below700 = [p for p in xhypoints if (p[0] >= 600 and p[1] < 700)]\n",
    "xhysamples_below700 = [utils.inverse_mxmy(p) for p in xhypoints_below700]"
   ]
  },
  {
   "cell_type": "code",
   "execution_count": null,
   "metadata": {},
   "outputs": [],
   "source": [
    "np.array(xhysamples_below700).shape"
   ]
  },
  {
   "cell_type": "code",
   "execution_count": null,
   "metadata": {},
   "outputs": [],
   "source": [
    "xhysamples_below700"
   ]
  }
 ],
 "metadata": {
  "kernelspec": {
   "display_name": "python39",
   "language": "python",
   "name": "python3"
  },
  "language_info": {
   "codemirror_mode": {
    "name": "ipython",
    "version": 3
   },
   "file_extension": ".py",
   "mimetype": "text/x-python",
   "name": "python",
   "nbconvert_exporter": "python",
   "pygments_lexer": "ipython3",
   "version": "3.9.15"
  }
 },
 "nbformat": 4,
 "nbformat_minor": 2
}
