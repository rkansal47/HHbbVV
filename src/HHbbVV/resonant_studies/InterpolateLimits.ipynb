{
 "cells": [
  {
   "cell_type": "code",
   "execution_count": null,
   "metadata": {},
   "outputs": [],
   "source": [
    "import pickle\n",
    "import os\n",
    "\n",
    "import numpy as np\n",
    "from scipy import interpolate\n",
    "\n",
    "import matplotlib\n",
    "import matplotlib.pyplot as plt\n",
    "import mplhep as hep\n",
    "import matplotlib.ticker as mticker\n",
    "\n",
    "from tqdm import tqdm\n",
    "\n",
    "plt.style.use(hep.style.CMS)\n",
    "hep.style.use(\"CMS\")\n",
    "formatter = mticker.ScalarFormatter(useMathText=True)\n",
    "formatter.set_powerlimits((-3, 3))\n",
    "plt.rcParams.update({\"font.size\": 20})"
   ]
  },
  {
   "cell_type": "code",
   "execution_count": null,
   "metadata": {},
   "outputs": [],
   "source": [
    "def mxmy(sample):\n",
    "    mY = int(sample.split(\"-\")[-1])\n",
    "    mX = int(sample.split(\"NMSSM_XToYHTo2W2BTo4Q2B_MX-\")[1].split(\"_\")[0])\n",
    "\n",
    "    return (mX, mY)"
   ]
  },
  {
   "cell_type": "code",
   "execution_count": null,
   "metadata": {},
   "outputs": [],
   "source": [
    "def scatter2d(arr, title, name):\n",
    "    fig, ax = plt.subplots(figsize=(14, 12))\n",
    "    mappable = plt.scatter(\n",
    "        arr[:, 0],\n",
    "        arr[:, 1],\n",
    "        s=150,\n",
    "        c=arr[:, 2],\n",
    "        cmap=\"turbo\",\n",
    "        norm=matplotlib.colors.LogNorm(vmin=0.01, vmax=100),\n",
    "    )\n",
    "    plt.title(title)\n",
    "    plt.xlabel(r\"$m_X$ (GeV)\")\n",
    "    plt.ylabel(r\"$m_Y$ (GeV)\")\n",
    "    plt.colorbar(mappable)\n",
    "    plt.savefig(name, bbox_inches=\"tight\")"
   ]
  },
  {
   "cell_type": "code",
   "execution_count": null,
   "metadata": {},
   "outputs": [],
   "source": [
    "plot_dir = \"../../../plots/XHY/Limits/Apr14\"\n",
    "_ = os.system(f\"mkdir -p {plot_dir}\")"
   ]
  },
  {
   "cell_type": "code",
   "execution_count": null,
   "metadata": {},
   "outputs": [],
   "source": [
    "cards_dir = \"/eos/uscms/store/user/rkansal/bbVV/cards/Apr11\"\n",
    "samples = os.listdir(cards_dir)"
   ]
  },
  {
   "cell_type": "code",
   "execution_count": null,
   "metadata": {},
   "outputs": [],
   "source": [
    "limits = {\" 2.5\": [], \"16.0\": [], \"50.0\": [], \"84.0\": [], \"97.5\": []}\n",
    "\n",
    "for sample in tqdm(samples):\n",
    "    limits_path = f\"{cards_dir}/{sample}/AsymptoticLimits.txt\"\n",
    "    if os.path.exists(limits_path):\n",
    "        mx, my = mxmy(sample)\n",
    "        with open(limits_path, \"r\") as f:\n",
    "            lines = f.readlines()\n",
    "\n",
    "        nums = 0\n",
    "        for i in np.arange(len(lines) - 1, -1, -1):\n",
    "            line = lines[i][:-1]\n",
    "            for key in limits:\n",
    "                start_str = f\"Expected {key}%: r < \"\n",
    "                if line.startswith(start_str):\n",
    "                    limits[key].append([mx, my, float(line.split(start_str)[1])])\n",
    "                    nums += 1\n",
    "\n",
    "            if nums == 5:\n",
    "                break"
   ]
  },
  {
   "cell_type": "code",
   "execution_count": null,
   "metadata": {},
   "outputs": [],
   "source": [
    "limits[\"50.0\"]"
   ]
  },
  {
   "cell_type": "code",
   "execution_count": null,
   "metadata": {},
   "outputs": [],
   "source": [
    "len(limits[\"50.0\"])"
   ]
  },
  {
   "cell_type": "code",
   "execution_count": null,
   "metadata": {},
   "outputs": [],
   "source": [
    "for key in limits:\n",
    "    limits[key] = np.array(limits[key])"
   ]
  },
  {
   "cell_type": "code",
   "execution_count": null,
   "metadata": {},
   "outputs": [],
   "source": [
    "interpolated = {}\n",
    "\n",
    "for key, val in limits.items():\n",
    "    interpolated[key] = interpolate.LinearNDInterpolator(val[:, :2], np.log(val[:, 2]))"
   ]
  },
  {
   "cell_type": "code",
   "execution_count": null,
   "metadata": {},
   "outputs": [],
   "source": [
    "mxs = np.logspace(np.log10(600), np.log10(3999), 100, base=10)\n",
    "mys = np.logspace(np.log10(60), np.log10(250), 100, base=10)\n",
    "\n",
    "xx, yy = np.meshgrid(mxs, mys)"
   ]
  },
  {
   "cell_type": "code",
   "execution_count": null,
   "metadata": {},
   "outputs": [],
   "source": [
    "grids = {}\n",
    "\n",
    "for key, interp in interpolated.items():\n",
    "    grids[key] = np.exp(interp(xx, yy))"
   ]
  },
  {
   "cell_type": "code",
   "execution_count": null,
   "metadata": {},
   "outputs": [],
   "source": [
    "grids[key]"
   ]
  },
  {
   "cell_type": "code",
   "execution_count": null,
   "metadata": {},
   "outputs": [],
   "source": [
    "def colormesh(xx, yy, lims, title, name):\n",
    "    fig, ax = plt.subplots(figsize=(12, 8))\n",
    "    # _ = plt.pcolormesh(xx, yy, lims, norm=matplotlib.colors.LogNorm(vmin=0.01, vmax=100))\n",
    "    _ = plt.pcolormesh(xx, yy, lims, norm=matplotlib.colors.LogNorm(), cmap=\"turbo\")\n",
    "    # plt.title(title)\n",
    "    plt.xlabel(r\"$m_X$ (GeV)\")\n",
    "    plt.ylabel(r\"$m_Y$ (GeV)\")\n",
    "    plt.colorbar(label=\"Expected exclusion limits (fb)\")\n",
    "    plt.savefig(name, bbox_inches=\"tight\")\n",
    "    hep.cms.label(\"Work in Progress\", data=True, lumi=\"138.0\", ax=ax)"
   ]
  },
  {
   "cell_type": "code",
   "execution_count": null,
   "metadata": {},
   "outputs": [],
   "source": [
    "key = \"50.0\"\n",
    "colormesh(xx, yy, grids[key], f\"Expected {key}% Limits\", f\"{plot_dir}/mesh_{key}_turbo.pdf\")"
   ]
  },
  {
   "cell_type": "code",
   "execution_count": null,
   "metadata": {},
   "outputs": [],
   "source": [
    "key = \"50.0\"\n",
    "val = limits[key]\n",
    "scatter2d(val, f\"Expected {key}% Limit\", f\"{plot_dir}/scatter_{key}.pdf\")"
   ]
  },
  {
   "cell_type": "code",
   "execution_count": null,
   "metadata": {},
   "outputs": [],
   "source": [
    "key = \"50.0\"\n",
    "arr = limits[key]\n",
    "plt.figure(figsize=(12, 8))\n",
    "_ = plt.pcolormesh(xx, yy, grids[key], norm=matplotlib.colors.LogNorm(vmin=0.01, vmax=100))\n",
    "plt.scatter(\n",
    "    arr[:, 0],\n",
    "    arr[:, 1],\n",
    "    s=150,\n",
    "    c=arr[:, 2],\n",
    "    # cmap=\"turbo\",\n",
    "    norm=matplotlib.colors.LogNorm(vmin=0.01, vmax=100),\n",
    ")\n",
    "plt.xlabel(r\"$m_X$ (GeV)\")\n",
    "plt.ylabel(r\"$m_Y$ (GeV)\")\n",
    "plt.colorbar()"
   ]
  },
  {
   "cell_type": "code",
   "execution_count": null,
   "metadata": {},
   "outputs": [],
   "source": []
  }
 ],
 "metadata": {
  "kernelspec": {
   "display_name": "python39",
   "language": "python",
   "name": "python3"
  },
  "language_info": {
   "codemirror_mode": {
    "name": "ipython",
    "version": 3
   },
   "file_extension": ".py",
   "mimetype": "text/x-python",
   "name": "python",
   "nbconvert_exporter": "python",
   "pygments_lexer": "ipython3",
   "version": "3.9.15"
  },
  "orig_nbformat": 4
 },
 "nbformat": 4,
 "nbformat_minor": 2
}
