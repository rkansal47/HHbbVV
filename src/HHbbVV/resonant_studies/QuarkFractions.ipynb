{
 "cells": [
  {
   "cell_type": "code",
   "execution_count": null,
   "metadata": {},
   "outputs": [],
   "source": [
    "import pickle\n",
    "import os\n",
    "\n",
    "import numpy as np\n",
    "\n",
    "import matplotlib\n",
    "import matplotlib.pyplot as plt\n",
    "import mplhep as hep\n",
    "import matplotlib.ticker as mticker\n",
    "\n",
    "plt.style.use(hep.style.CMS)\n",
    "hep.style.use(\"CMS\")\n",
    "formatter = mticker.ScalarFormatter(useMathText=True)\n",
    "formatter.set_powerlimits((-3, 3))\n",
    "plt.rcParams.update({\"font.size\": 20})"
   ]
  },
  {
   "cell_type": "code",
   "execution_count": null,
   "metadata": {},
   "outputs": [],
   "source": [
    "plot_dir = \"../../../plots/XHY/Apr12\"\n",
    "_ = os.system(f\"mkdir -p {plot_dir}\")"
   ]
  },
  {
   "cell_type": "code",
   "execution_count": null,
   "metadata": {},
   "outputs": [],
   "source": [
    "year = \"2017\"\n",
    "\n",
    "with open(f\"/eos/uscms/store/user/rkansal/bbVV/xhy/Apr4/{year}_combined.pkl\", \"rb\") as f:\n",
    "    out = pickle.load(f)"
   ]
  },
  {
   "cell_type": "code",
   "execution_count": null,
   "metadata": {},
   "outputs": [],
   "source": [
    "def mxmy(sample):\n",
    "    mY = int(sample.split(\"-\")[-1])\n",
    "    mX = int(sample.split(\"NMSSM_XToYHTo2W2BTo4Q2B_MX-\")[1].split(\"_\")[0])\n",
    "\n",
    "    return mX, mY"
   ]
  },
  {
   "cell_type": "code",
   "execution_count": null,
   "metadata": {},
   "outputs": [],
   "source": [
    "out[year][\"NMSSM_XToYHTo2W2BTo4Q2B_MX-1000_MY-100\"][\"2017\"]"
   ]
  },
  {
   "cell_type": "code",
   "execution_count": null,
   "metadata": {},
   "outputs": [],
   "source": [
    "acceptances = np.array(\n",
    "    [\n",
    "        [\n",
    "            *mxmy(s),\n",
    "            sdict[year][s][\"cutflow\"][\"ak8bb_txbb\"] / sdict[year][s][\"cutflow\"][\"has_4q\"],\n",
    "        ]\n",
    "        for s, sdict in out[year].items()\n",
    "    ]\n",
    ")\n",
    "\n",
    "fraction_4qs = np.array(\n",
    "    [\n",
    "        [\n",
    "            *mxmy(s),\n",
    "            sdict[year][s][\"h\"].values()[4] / sdict[year][s][\"h\"].sum(flow=True),\n",
    "        ]\n",
    "        for s, sdict in out[year].items()\n",
    "    ]\n",
    ")\n",
    "\n",
    "fraction_3q4qs = np.array(\n",
    "    [\n",
    "        [\n",
    "            *mxmy(s),\n",
    "            sum(sdict[year][s][\"h\"].values()[3:]) / sdict[year][s][\"h\"].sum(flow=True),\n",
    "        ]\n",
    "        for s, sdict in out[year].items()\n",
    "    ]\n",
    ")"
   ]
  },
  {
   "cell_type": "code",
   "execution_count": null,
   "metadata": {},
   "outputs": [],
   "source": [
    "def scatter2d(arr, title, name):\n",
    "    fig, ax = plt.subplots(figsize=(14, 12))\n",
    "    mappable = plt.scatter(arr[:, 1], arr[:, 0], s=150, c=arr[:, 2], cmap=\"turbo\")\n",
    "    plt.title(title)\n",
    "    plt.xlabel(r\"$m_Y$ (GeV)\")\n",
    "    plt.ylabel(r\"$m_X$ (GeV)\")\n",
    "    plt.colorbar(mappable)\n",
    "    plt.savefig(name, bbox_inches=\"tight\")"
   ]
  },
  {
   "cell_type": "code",
   "execution_count": null,
   "metadata": {},
   "outputs": [],
   "source": [
    "scatter2d(acceptances, \"Preselection Acceptance\", f\"{plot_dir}/acceptance.pdf\")"
   ]
  },
  {
   "cell_type": "code",
   "execution_count": null,
   "metadata": {},
   "outputs": [],
   "source": [
    "scatter2d(fraction_4qs, \"Fraction of Y(VV) jets containing 4 quarks\", f\"{plot_dir}/fraction_4q.pdf\")"
   ]
  },
  {
   "cell_type": "code",
   "execution_count": null,
   "metadata": {},
   "outputs": [],
   "source": [
    "f4q_gt50 = np.copy(fraction_4qs)\n",
    "f4q_gt50[:, 2][f4q_gt50[:, 2] < 0.5] = 0\n",
    "scatter2d(\n",
    "    fraction_4qs[fraction_4qs[:, 2] >= 0.5],\n",
    "    \"Fraction of Y(VV) jets containing 4 quarks > 0.5\",\n",
    "    f\"{plot_dir}/fraction_4q_gt50.pdf\",\n",
    ")"
   ]
  },
  {
   "cell_type": "code",
   "execution_count": null,
   "metadata": {},
   "outputs": [],
   "source": [
    "scatter2d(\n",
    "    fraction_3q4qs,\n",
    "    \"Fraction of Y(VV) jets containing 3 or 4 quarks\",\n",
    "    f\"{plot_dir}/fraction_3q4q.pdf\",\n",
    ")"
   ]
  },
  {
   "cell_type": "code",
   "execution_count": null,
   "metadata": {},
   "outputs": [],
   "source": [
    "target_samples = [\n",
    "    f\"NMSSM_XToYH_MX{int(mx)}_MY{int(my)}_HTo2bYTo2W_hadronicDecay\"\n",
    "    for mx, my, frac in fraction_4qs\n",
    "    if (frac >= 0.5 and my >= 120)\n",
    "]"
   ]
  },
  {
   "cell_type": "code",
   "execution_count": null,
   "metadata": {},
   "outputs": [],
   "source": [
    "target_samples"
   ]
  },
  {
   "cell_type": "code",
   "execution_count": null,
   "metadata": {},
   "outputs": [],
   "source": []
  }
 ],
 "metadata": {
  "kernelspec": {
   "display_name": "python310",
   "language": "python",
   "name": "python3"
  },
  "language_info": {
   "codemirror_mode": {
    "name": "ipython",
    "version": 3
   },
   "file_extension": ".py",
   "mimetype": "text/x-python",
   "name": "python",
   "nbconvert_exporter": "python",
   "pygments_lexer": "ipython3",
   "version": "3.10.8"
  },
  "orig_nbformat": 4
 },
 "nbformat": 4,
 "nbformat_minor": 2
}
