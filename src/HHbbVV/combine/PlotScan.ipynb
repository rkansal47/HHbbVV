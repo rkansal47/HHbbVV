{
 "cells": [
  {
   "cell_type": "code",
   "execution_count": null,
   "metadata": {},
   "outputs": [],
   "source": [
    "import pandas as pd\n",
    "import numpy as np\n",
    "\n",
    "import matplotlib.pyplot as plt\n",
    "import mplhep as hep\n",
    "import matplotlib.ticker as mticker\n",
    "from matplotlib.colors import LogNorm\n",
    "\n",
    "plt.rcParams.update({\"font.size\": 16})\n",
    "plt.style.use(hep.style.CMS)\n",
    "hep.style.use(\"CMS\")\n",
    "formatter = mticker.ScalarFormatter(useMathText=True)\n",
    "formatter.set_powerlimits((-3, 3))\n",
    "\n",
    "from typing import List\n",
    "import os\n",
    "\n",
    "from tqdm import tqdm\n",
    "import itertools\n",
    "\n",
    "import warnings\n",
    "\n",
    "warnings.filterwarnings(\"ignore\", message=\"invalid value encountered in log10*\")"
   ]
  },
  {
   "cell_type": "code",
   "execution_count": null,
   "metadata": {},
   "outputs": [],
   "source": [
    "nonres_scan_cuts = [\"txbb\", \"bdt\"]\n",
    "res_scan_cuts = [\"txbb\", \"thww\"]\n",
    "scan_labels = {\"txbb\": r\"$T_{Xbb}$ WP\", \"thww\": r\"$T_{HWW}$ WP\", \"bdt\": \"BDT\"}\n",
    "\n",
    "scan_txbb_wps = [\"LP\", \"MP\", \"HP\"]\n",
    "scan_thww_wps = [0.4, 0.6, 0.8, 0.9, 0.94, 0.96, 0.98]\n",
    "scan_bdt_wps = [0.6, 0.9, 0.96, 0.99, 0.997, 0.998, 0.999]\n",
    "\n",
    "plot_dir = \"../../../plots/Scans/23May13/\"\n",
    "_ = os.system(f\"mkdir -p {plot_dir}\")\n",
    "\n",
    "# cards_dir = \"/eos/uscms/store/user/rkansal/bbVV/cards/23May13NonresScan/\"\n",
    "cards_dir = \"/uscms/home/rkansal/hhcombine/cards/23May14NonresScan/\""
   ]
  },
  {
   "cell_type": "code",
   "execution_count": null,
   "metadata": {},
   "outputs": [],
   "source": [
    "resonant = False\n",
    "\n",
    "if resonant:\n",
    "    scan_wps = list(itertools.product(scan_txbb_wps, scan_thww_wps))\n",
    "    scan1_wps, scan2_wps = scan_txbb_wps, scan_thww_wps\n",
    "    scan_cuts = res_scan_cuts\n",
    "\n",
    "    res_mps = [\n",
    "        (900, 80),\n",
    "        (1200, 190),\n",
    "        (2000, 125),\n",
    "        (3000, 250),\n",
    "        (4000, 150),\n",
    "    ]\n",
    "\n",
    "    scan_samples = []\n",
    "\n",
    "    for mX, mY in res_mps:\n",
    "        scan_samples.append(f\"NMSSM_XToYHTo2W2BTo4Q2B_MX-{mX}_MY-{mY}\")\n",
    "else:\n",
    "    scan_wps = list(itertools.product(scan_txbb_wps, scan_bdt_wps))\n",
    "    scan1_wps, scan2_wps = scan_txbb_wps, scan_bdt_wps\n",
    "    scan_cuts = nonres_scan_cuts\n",
    "    scan_samples = [\"HHbbVV\"]"
   ]
  },
  {
   "cell_type": "code",
   "execution_count": null,
   "metadata": {},
   "outputs": [],
   "source": [
    "def mxmy(sample):\n",
    "    mY = int(sample.split(\"-\")[-1])\n",
    "    mX = int(sample.split(\"NMSSM_XToYHTo2W2BTo4Q2B_MX-\")[1].split(\"_\")[0])\n",
    "\n",
    "    return (mX, mY)"
   ]
  },
  {
   "cell_type": "code",
   "execution_count": null,
   "metadata": {},
   "outputs": [],
   "source": [
    "limits = {}\n",
    "\n",
    "# parse limits\n",
    "for sample in tqdm(scan_samples):\n",
    "    limits[sample] = {\" 2.5\": [], \"16.0\": [], \"50.0\": [], \"84.0\": [], \"97.5\": []}\n",
    "\n",
    "    for wps in scan_wps:\n",
    "        cutstr = \"_\".join([f\"{cut}_{wp}\" for cut, wp in zip(scan_cuts, wps)])\n",
    "        sample_dir = \"outs\" if not resonant else sample\n",
    "        limits_path = f\"{cards_dir}/{cutstr}/{sample_dir}/AsymptoticLimits.txt\"\n",
    "\n",
    "        if os.path.exists(limits_path):\n",
    "            with open(limits_path, \"r\") as f:\n",
    "                lines = f.readlines()\n",
    "\n",
    "            nums = 0\n",
    "            for i in np.arange(len(lines) - 1, -1, -1):\n",
    "                line = lines[i][:-1]\n",
    "                for key in limits[sample]:\n",
    "                    start_str = f\"Expected {key}%: r < \"\n",
    "                    if line.startswith(start_str):\n",
    "                        limits[sample][key].append([*wps, float(line.split(start_str)[1])])\n",
    "                        nums += 1\n",
    "\n",
    "                if nums == 5:\n",
    "                    break\n",
    "\n",
    "            if nums != 5:\n",
    "                print(f\"{cutstr}/{sample} Limits not found!\")\n",
    "        else:\n",
    "            print(f\"{cutstr}/{sample_dir} Limits don't exist!\")"
   ]
  },
  {
   "cell_type": "code",
   "execution_count": null,
   "metadata": {},
   "outputs": [],
   "source": [
    "def plot_limits(lim, sample):\n",
    "    # convert to image\n",
    "    im = np.zeros((len(scan1_wps), len(scan2_wps)))\n",
    "    for wp1, wp2, l in lim:\n",
    "        im[scan1_wps.index(wp1), scan2_wps.index(float(wp2))] = l\n",
    "\n",
    "    im = im[::-1]\n",
    "\n",
    "    plt.figure(figsize=(len(scan2_wps) * 2 + 2, 6))\n",
    "    plt.imshow(im, cmap=\"turbo\")\n",
    "    if resonant:\n",
    "        plt.colorbar(label=\"Expected exclusion limit (fb)\")\n",
    "    else:\n",
    "        plt.colorbar(label=r\"Expected exclusion limit $\\times$SM\")\n",
    "\n",
    "    for wp1, wp2, l in lim:\n",
    "        plt.text(\n",
    "            scan2_wps.index(float(wp2)),\n",
    "            len(scan1_wps) - scan1_wps.index(wp1) - 1,\n",
    "            f\"{l:.2f}\",\n",
    "            fontsize=18,\n",
    "            color=\"white\",\n",
    "            ha=\"center\",\n",
    "            va=\"center\",\n",
    "        )\n",
    "\n",
    "    plt.xlabel(rf\"{scan_labels[scan_cuts[1]]} WP\")\n",
    "    plt.ylabel(rf\"{scan_labels[scan_cuts[0]]} WP\")\n",
    "\n",
    "    plt.yticks(np.arange(len(scan1_wps))[::-1], scan1_wps)\n",
    "    plt.xticks(np.arange(len(scan2_wps)), scan2_wps)\n",
    "\n",
    "    if resonant:\n",
    "        mx, my = mxmy(sample)\n",
    "        plt.title(f\"$(M_X, M_Y) = ({mx}, {my})$ GeV\", y=1.12)\n",
    "\n",
    "    hep.cms.label(\"Work in Progress\", data=True, lumi=\"138.0\")\n",
    "\n",
    "    # plt.title(\"Signifance Scan\")\n",
    "    plt.savefig(f\"{plot_dir}/{sample}_limscan.pdf\", bbox_inches=\"tight\")"
   ]
  },
  {
   "cell_type": "code",
   "execution_count": null,
   "metadata": {},
   "outputs": [],
   "source": [
    "for sample, lim in limits.items():\n",
    "    plot_limits(lim[\"50.0\"], sample)"
   ]
  },
  {
   "attachments": {},
   "cell_type": "markdown",
   "metadata": {},
   "source": [
    "Old significance scan:"
   ]
  },
  {
   "cell_type": "code",
   "execution_count": null,
   "metadata": {},
   "outputs": [],
   "source": [
    "def to_image(x_range: List[float], y_range: List[float], pixels: np.ndarray):\n",
    "    \"\"\"\n",
    "    ranges: [x_min, x_max (exclusive), # bins]\n",
    "    \"\"\"\n",
    "\n",
    "    im = np.zeros((x_range[2], y_range[2])) - 1  # missing values will show up blank in the image\n",
    "\n",
    "    for pixel in pixels:\n",
    "        x = (pixel[0] - x_range[0]) / (x_range[1] - x_range[0]) * x_range[2]\n",
    "        y = x_range[2] - ((pixel[1] - y_range[0]) / (y_range[1] - y_range[0]) * y_range[2]) - 1\n",
    "        if x >= x_range[2] or y < 0:\n",
    "            continue\n",
    "        im[int(y)][int(x)] = pixel[2] + 1e-12\n",
    "\n",
    "    return im"
   ]
  },
  {
   "cell_type": "code",
   "execution_count": null,
   "metadata": {},
   "outputs": [],
   "source": [
    "ak8_signs = to_image(BDT_RANGE, BB_RANGE, signs.values[:, :3])\n",
    "ak8_limits = to_image(\n",
    "    BDT_RANGE, BB_RANGE, np.concatenate((signs.values[:, :2], signs.values[:, 3:4]), axis=1)\n",
    ")"
   ]
  },
  {
   "cell_type": "code",
   "execution_count": null,
   "metadata": {},
   "outputs": [],
   "source": [
    "plt.figure(figsize=(16, 12))\n",
    "plt.imshow(\n",
    "    ak8_signs,\n",
    "    extent=[BDT_RANGE[0], BDT_RANGE[1], BB_RANGE[0], BB_RANGE[1]],\n",
    "    norm=LogNorm(vmin=0.0001, vmax=0.1),\n",
    "    cmap=\"jet\",\n",
    ")\n",
    "plt.colorbar(label=\"Significance\")\n",
    "plt.xlabel(\"BDT Cut\")\n",
    "plt.ylabel(\"Txbb Cut\")\n",
    "plt.title(\"Signifance Scan\")\n",
    "plt.savefig(f\"{plot_dir}/sigscan.pdf\", bbox_inches=\"tight\")"
   ]
  },
  {
   "cell_type": "code",
   "execution_count": null,
   "metadata": {},
   "outputs": [],
   "source": [
    "plt.figure(figsize=(16, 12))\n",
    "plt.imshow(\n",
    "    ak8_limits,\n",
    "    extent=[BDT_RANGE[0], BDT_RANGE[1], BB_RANGE[0], BB_RANGE[1]],\n",
    "    norm=LogNorm(vmin=10, vmax=1000),\n",
    "    cmap=\"jet\",\n",
    ")\n",
    "plt.colorbar(label=\"Limit\")\n",
    "plt.xlabel(\"BDT Cut\")\n",
    "plt.ylabel(\"Txbb Cut\")\n",
    "plt.title(\"Median xSM Expected Limits\")\n",
    "plt.savefig(f\"{plot_dir}/limits.pdf\", bbox_inches=\"tight\")"
   ]
  },
  {
   "cell_type": "code",
   "execution_count": null,
   "metadata": {},
   "outputs": [],
   "source": []
  }
 ],
 "metadata": {
  "kernelspec": {
   "display_name": "Python 3.10.4 ('bbVV')",
   "language": "python",
   "name": "python3"
  },
  "language_info": {
   "codemirror_mode": {
    "name": "ipython",
    "version": 3
   },
   "file_extension": ".py",
   "mimetype": "text/x-python",
   "name": "python",
   "nbconvert_exporter": "python",
   "pygments_lexer": "ipython3",
   "version": "3.10.4"
  },
  "orig_nbformat": 4,
  "vscode": {
   "interpreter": {
    "hash": "5b9eab485576227e6cf1b964bb8855c46cbdf15c3e77cecdb2bb309145d3e8d8"
   }
  }
 },
 "nbformat": 4,
 "nbformat_minor": 2
}
