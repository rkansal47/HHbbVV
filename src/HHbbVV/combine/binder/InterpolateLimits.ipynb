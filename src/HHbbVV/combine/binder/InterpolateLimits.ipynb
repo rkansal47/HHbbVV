{
 "cells": [
  {
   "cell_type": "code",
   "execution_count": null,
   "metadata": {},
   "outputs": [],
   "source": [
    "from __future__ import annotations\n",
    "\n",
    "import os\n",
    "from pathlib import Path\n",
    "\n",
    "import matplotlib\n",
    "import matplotlib.pyplot as plt\n",
    "import matplotlib.ticker as mticker\n",
    "import mplhep as hep\n",
    "import numpy as np\n",
    "import pandas as pd\n",
    "from scipy import interpolate\n",
    "from tqdm import tqdm\n",
    "\n",
    "plt.style.use(hep.style.CMS)\n",
    "hep.style.use(\"CMS\")\n",
    "formatter = mticker.ScalarFormatter(useMathText=True)\n",
    "formatter.set_powerlimits((-3, 3))\n",
    "plt.rcParams.update({\"font.size\": 20})"
   ]
  },
  {
   "cell_type": "code",
   "execution_count": null,
   "metadata": {},
   "outputs": [],
   "source": [
    "def mxmy(sample):\n",
    "    mY = int(sample.split(\"-\")[-1])\n",
    "    mX = int(sample.split(\"NMSSM_XToYHTo2W2BTo4Q2B_MX-\")[1].split(\"_\")[0])\n",
    "\n",
    "    return (mX, mY)"
   ]
  },
  {
   "cell_type": "code",
   "execution_count": null,
   "metadata": {},
   "outputs": [],
   "source": [
    "plot_dir = Path(\"../../../../plots/XHY/Limits/25Feb13\")\n",
    "plot_dir.mkdir(parents=True, exist_ok=True)"
   ]
  },
  {
   "cell_type": "code",
   "execution_count": null,
   "metadata": {},
   "outputs": [],
   "source": [
    "cards_dir = Path(\"/eos/uscms/store/user/rkansal/bbVV/cards/25Feb12ResFixes\")\n",
    "# temporary backup directory while jobs are still running\n",
    "backup_dir = Path(\"/eos/uscms/store/user/rkansal/bbVV/cards/25Feb12Res_31\")\n",
    "samples = [d.name for d in cards_dir.iterdir() if d.is_dir()]"
   ]
  },
  {
   "cell_type": "markdown",
   "metadata": {},
   "source": [
    "Load / process limits"
   ]
  },
  {
   "cell_type": "code",
   "execution_count": null,
   "metadata": {},
   "outputs": [],
   "source": [
    "def _parse_limits(lines, limits):\n",
    "    nums = 0\n",
    "    for i in np.arange(len(lines) - 1, -1, -1):\n",
    "        line = lines[i][:-1]\n",
    "        for key in limits:\n",
    "            start_str = f\"Expected {key}%: r < \"\n",
    "            if line.startswith(start_str):\n",
    "                limits[key].append([mx, my, float(line.split(start_str)[1])])\n",
    "                nums += 1\n",
    "\n",
    "        if nums == 5:\n",
    "            break\n",
    "\n",
    "\n",
    "limits = {\" 2.5\": [], \"16.0\": [], \"50.0\": [], \"84.0\": [], \"97.5\": []}\n",
    "\n",
    "for sample in tqdm(samples):\n",
    "    limits_path = Path(f\"{cards_dir}/{sample}/AsymptoticLimits.txt\")\n",
    "    backup_path = Path(f\"{backup_dir}/{sample}/AsymptoticLimits.txt\")\n",
    "    mx, my = mxmy(sample)\n",
    "    if limits_path.exists():\n",
    "        with limits_path.open() as f:\n",
    "            lines = f.readlines()\n",
    "    elif backup_path.exists():\n",
    "        print(f\"Using backup path for {sample}\")\n",
    "        with backup_path.open() as f:\n",
    "            lines = f.readlines()\n",
    "    else:\n",
    "        print(f\"Missing {sample}\")\n",
    "        continue\n",
    "\n",
    "    _parse_limits(lines, limits)\n",
    "\n",
    "for key in limits:\n",
    "    limits[key] = np.array(limits[key])"
   ]
  },
  {
   "cell_type": "code",
   "execution_count": null,
   "metadata": {},
   "outputs": [],
   "source": [
    "limit_dir = plot_dir / \"limits\"\n",
    "limit_dir.mkdir(exist_ok=True)\n",
    "\n",
    "for key, limit in limits.items():\n",
    "    df = pd.DataFrame(limit, columns=[\"MX\", \"MY\", \"Limit (fb)\"])\n",
    "    df.to_csv(f\"{limit_dir}/limits_{key}.csv\")"
   ]
  },
  {
   "cell_type": "markdown",
   "metadata": {},
   "source": [
    "Plot"
   ]
  },
  {
   "cell_type": "code",
   "execution_count": null,
   "metadata": {},
   "outputs": [],
   "source": [
    "def scatter2d(arr, title, name):\n",
    "    fig, ax = plt.subplots(figsize=(14, 12))\n",
    "    mappable = plt.scatter(\n",
    "        arr[:, 0],\n",
    "        arr[:, 1],\n",
    "        s=150,\n",
    "        c=arr[:, 2],\n",
    "        cmap=\"turbo\",\n",
    "        norm=matplotlib.colors.LogNorm(vmin=0.01, vmax=100),\n",
    "    )\n",
    "    plt.title(title)\n",
    "    plt.xlabel(r\"$m_X$ (GeV)\")\n",
    "    plt.ylabel(r\"$m_Y$ (GeV)\")\n",
    "    plt.colorbar(mappable)\n",
    "    plt.savefig(name, bbox_inches=\"tight\")"
   ]
  },
  {
   "cell_type": "code",
   "execution_count": null,
   "metadata": {},
   "outputs": [],
   "source": [
    "def scatter2d_overlay(arr, overlay_arr, title, name):\n",
    "    fig, ax = plt.subplots(figsize=(14, 12))\n",
    "    mappable = ax.scatter(\n",
    "        arr[:, 0],\n",
    "        arr[:, 1],\n",
    "        s=150,\n",
    "        c=arr[:, 2],\n",
    "        cmap=\"turbo\",\n",
    "        norm=matplotlib.colors.LogNorm(vmin=0.01, vmax=100),\n",
    "    )\n",
    "    _ = ax.scatter(\n",
    "        overlay_arr[:, 0],\n",
    "        overlay_arr[:, 1],\n",
    "        s=150,\n",
    "        marker=\"s\",\n",
    "        alpha=0.5,\n",
    "        c=np.ones(overlay_arr.shape[0]),\n",
    "        vmax=1,\n",
    "    )\n",
    "    plt.title(title)\n",
    "    plt.xlabel(r\"$m_X$ (GeV)\")\n",
    "    plt.ylabel(r\"$m_Y$ (GeV)\")\n",
    "    plt.colorbar(mappable)\n",
    "    plt.savefig(name, bbox_inches=\"tight\")"
   ]
  },
  {
   "cell_type": "code",
   "execution_count": null,
   "metadata": {},
   "outputs": [],
   "source": [
    "def colormesh(xx, yy, lims, label, name, figsize=(12, 8)):\n",
    "    fig, ax = plt.subplots(figsize=figsize)\n",
    "    _ = plt.pcolormesh(\n",
    "        xx, yy, lims, norm=matplotlib.colors.LogNorm(vmin=0.05, vmax=1e4), cmap=\"turbo\"\n",
    "    )\n",
    "    # plt.title(title)\n",
    "    plt.xlabel(r\"$m_X$ (GeV)\")\n",
    "    plt.ylabel(r\"$m_Y$ (GeV)\")\n",
    "    plt.colorbar(label=label)\n",
    "    hep.cms.label(\"Work in Progress\", data=True, lumi=\"138\", ax=ax)\n",
    "    plt.savefig(name, bbox_inches=\"tight\")"
   ]
  },
  {
   "cell_type": "code",
   "execution_count": null,
   "metadata": {},
   "outputs": [],
   "source": [
    "np.min(limits[\"50.0\"][:, 2])"
   ]
  },
  {
   "cell_type": "code",
   "execution_count": null,
   "metadata": {},
   "outputs": [],
   "source": [
    "with Path(\"amitav_limits.csv\").open() as f:\n",
    "    alimits = pd.read_csv(f)"
   ]
  },
  {
   "cell_type": "code",
   "execution_count": null,
   "metadata": {},
   "outputs": [],
   "source": [
    "sb_better = []\n",
    "\n",
    "for mx, my, lim in limits[\"50.0\"]:\n",
    "    match = (alimits[\"MX\"] == mx) * (alimits[\"MY\"] == my)\n",
    "    if np.any(match):\n",
    "        alim = alimits[\"Limit (fb)\"][match].values[0]\n",
    "\n",
    "    if alim < lim:\n",
    "        pbetter = (lim - alim) / lim * 100\n",
    "        print(f\"Semiboosted better for ({mx}, {my}) by {pbetter:.2f}%\")\n",
    "        sb_better.append([mx, my])\n",
    "\n",
    "sb_better = np.array(sb_better)"
   ]
  },
  {
   "cell_type": "code",
   "execution_count": null,
   "metadata": {},
   "outputs": [],
   "source": [
    "mymax = 250\n",
    "mxs = np.logspace(np.log10(600), np.log10(3999), 100, base=10)\n",
    "mys = np.logspace(np.log10(60), np.log10(mymax), 100, base=10)\n",
    "\n",
    "xx, yy = np.meshgrid(mxs, mys)\n",
    "\n",
    "interpolated = {}\n",
    "grids = {}\n",
    "\n",
    "for key, val in limits.items():\n",
    "    interpolated[key] = interpolate.LinearNDInterpolator(val[:, :2], np.log(val[:, 2]))\n",
    "    grids[key] = np.exp(interpolated[key](xx, yy))"
   ]
  },
  {
   "cell_type": "code",
   "execution_count": null,
   "metadata": {},
   "outputs": [],
   "source": [
    "for key, grid in grids.items():\n",
    "    label = (\n",
    "        f\"{key}% expected exclusion limits (fb)\"\n",
    "        if key != \"50.0\"\n",
    "        else \"Median expected exclusion limits (fb)\"\n",
    "    )\n",
    "    colormesh(xx, yy, grid, label, f\"{plot_dir}/upper{mymax}_mesh_{key}_turbo.pdf\")"
   ]
  },
  {
   "cell_type": "code",
   "execution_count": null,
   "metadata": {},
   "outputs": [],
   "source": [
    "key = \"50.0\"\n",
    "val = limits[key]\n",
    "scatter2d(val, f\"Median expected exclusion limits (fb)\", f\"{plot_dir}/scatter_{key}.pdf\")"
   ]
  },
  {
   "cell_type": "code",
   "execution_count": null,
   "metadata": {},
   "outputs": [],
   "source": [
    "scatter2d_overlay(\n",
    "    limits[key],\n",
    "    sb_better,\n",
    "    f\"Median expected exclusion limits (fb)\",\n",
    "    f\"{plot_dir}/scatter_overlay.pdf\",\n",
    ")"
   ]
  },
  {
   "cell_type": "code",
   "execution_count": null,
   "metadata": {},
   "outputs": [],
   "source": [
    "combined_limits = []\n",
    "\n",
    "\n",
    "for mx, my, alim in alimits.values[:, 1:]:\n",
    "    match = (limits[\"50.0\"][:, 0] == mx) * (limits[\"50.0\"][:, 1] == my)\n",
    "    if np.any(match):\n",
    "        blim = limits[\"50.0\"][:, 2][match].squeeze()\n",
    "        lim = np.minimum(alim, blim)\n",
    "    else:\n",
    "        lim = alim\n",
    "\n",
    "    combined_limits.append([mx, my, lim])\n",
    "\n",
    "\n",
    "combined_limits = np.array(combined_limits)"
   ]
  },
  {
   "cell_type": "code",
   "execution_count": null,
   "metadata": {},
   "outputs": [],
   "source": [
    "mxs = np.logspace(np.log10(600), np.log10(3999), 300, base=10)\n",
    "mys = np.logspace(np.log10(60), np.log10(2800), 300, base=10)\n",
    "cxx, cyy = np.meshgrid(mxs, mys)\n",
    "\n",
    "val = combined_limits\n",
    "combined_interp = interpolate.LinearNDInterpolator(val[:, :2], np.log(val[:, 2]))\n",
    "combined_grid = np.exp(combined_interp(cxx, cyy))"
   ]
  },
  {
   "cell_type": "code",
   "execution_count": null,
   "metadata": {},
   "outputs": [],
   "source": [
    "colormesh(\n",
    "    cxx,\n",
    "    cyy,\n",
    "    combined_grid,\n",
    "    \"Median expected exclusion limits (fb)\",\n",
    "    f\"{plot_dir}/combined_mesh_{key}_turbo.pdf\",\n",
    "    figsize=(12, 8),\n",
    ")"
   ]
  },
  {
   "cell_type": "code",
   "execution_count": null,
   "metadata": {},
   "outputs": [],
   "source": []
  }
 ],
 "metadata": {
  "kernelspec": {
   "display_name": "python39",
   "language": "python",
   "name": "python3"
  },
  "language_info": {
   "codemirror_mode": {
    "name": "ipython",
    "version": 3
   },
   "file_extension": ".py",
   "mimetype": "text/x-python",
   "name": "python",
   "nbconvert_exporter": "python",
   "pygments_lexer": "ipython3",
   "version": "3.9.15"
  },
  "orig_nbformat": 4
 },
 "nbformat": 4,
 "nbformat_minor": 2
}
