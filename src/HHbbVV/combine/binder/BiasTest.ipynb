{
 "cells": [
  {
   "cell_type": "code",
   "execution_count": null,
   "metadata": {},
   "outputs": [],
   "source": [
    "from typing import List\n",
    "import uproot\n",
    "import numpy as np\n",
    "import matplotlib.pyplot as plt\n",
    "import mplhep as hep\n",
    "import matplotlib.ticker as mticker\n",
    "import os\n",
    "\n",
    "plt.style.use(hep.style.CMS)\n",
    "hep.style.use(\"CMS\")\n",
    "formatter = mticker.ScalarFormatter(useMathText=True)\n",
    "formatter.set_powerlimits((-3, 3))\n",
    "plt.rcParams.update({\"font.size\": 20})"
   ]
  },
  {
   "cell_type": "code",
   "execution_count": null,
   "metadata": {},
   "outputs": [],
   "source": [
    "MAIN_DIR = \"../../../../\"\n",
    "\n",
    "plot_dir = f\"{MAIN_DIR}/plots/BiasTest/23Jul10Res\"\n",
    "_ = os.system(f\"mkdir -p {plot_dir}\")"
   ]
  },
  {
   "cell_type": "code",
   "execution_count": null,
   "metadata": {},
   "outputs": [],
   "source": [
    "cards_dir = \"f_tests/23May2/nTF1_2_nTF2_1\"\n",
    "biases = [0.0, 0.15, 0.3, 1.0]\n",
    "r_dict = {}\n",
    "\n",
    "for bias in biases:\n",
    "    file = uproot.concatenate(\n",
    "        f\"/uscms/home/rkansal/hhcombine/cards/{cards_dir}/higgsCombinebias{bias}.FitDiagnostics.mH125.*.root\"\n",
    "    )\n",
    "\n",
    "    r_dict[bias] = {\n",
    "        \"r\": np.array(file[\"trackedParam_r\"])[::4],\n",
    "        \"rerr\": np.array(file[\"trackedError_r\"])[::4],\n",
    "    }"
   ]
  },
  {
   "cell_type": "code",
   "execution_count": null,
   "metadata": {},
   "outputs": [],
   "source": [
    "from scipy import stats\n",
    "\n",
    "xrange = 4\n",
    "x = np.linspace(-xrange, xrange, 101)\n",
    "\n",
    "fig, ax = plt.subplots(len(biases), 1, figsize=(12, 40))\n",
    "\n",
    "for i, bias in enumerate(biases):\n",
    "    r = r_dict[bias][\"r\"]\n",
    "    rerr = r_dict[bias][\"rerr\"]\n",
    "    reldiff = (r - bias) / rerr\n",
    "    reldiff = reldiff[(reldiff > -4) * (reldiff < 4)]\n",
    "    # reldiff = (r - bias)\n",
    "    mu, sigma = np.mean(reldiff), np.std(reldiff)\n",
    "    ax[i].hist(reldiff, np.linspace(-xrange, xrange, 21), histtype=\"step\")\n",
    "    ax[i].plot(\n",
    "        x,\n",
    "        stats.norm.pdf(x, loc=mu, scale=sigma) * len(r) * xrange / 10,\n",
    "        label=rf\"$\\mu = {mu:.2f}, \\sigma = {sigma:.2f}$\",\n",
    "    )\n",
    "    ax[i].set_xlabel(rf\"$\\frac{{\\hat{{r}} - {bias}}}{{\\Delta \\hat r}}$\")\n",
    "    ax[i].set_ylabel(\"Number of toys\")\n",
    "    ax[i].set_title(f\"r = {bias}\")\n",
    "    ax[i].legend()\n",
    "\n",
    "plt.show()"
   ]
  },
  {
   "cell_type": "code",
   "execution_count": null,
   "metadata": {},
   "outputs": [],
   "source": [
    "np.mean()"
   ]
  },
  {
   "cell_type": "code",
   "execution_count": null,
   "metadata": {},
   "outputs": [],
   "source": [
    "np.std((r - bias) / rerr)"
   ]
  },
  {
   "cell_type": "code",
   "execution_count": null,
   "metadata": {},
   "outputs": [],
   "source": [
    "res.params"
   ]
  },
  {
   "cell_type": "code",
   "execution_count": null,
   "metadata": {},
   "outputs": [],
   "source": [
    "r_dict[0.3]"
   ]
  },
  {
   "cell_type": "code",
   "execution_count": null,
   "metadata": {},
   "outputs": [],
   "source": [
    "def plot_tests(\n",
    "    data_ts: float,\n",
    "    toy_ts: np.ndarray,\n",
    "    name: str,\n",
    "    title: str = None,\n",
    "    bins: int = 15,\n",
    "    fit: str = None,\n",
    "    fdof2: int = None,\n",
    "):\n",
    "    plot_max = max(np.max(toy_ts), data_ts)\n",
    "    # plot_max = max(np.max(toy_ts), data_ts) if fit != \"chi2\" else 200\n",
    "    # plot_min = min(np.min(toy_ts), data_ts, 0)\n",
    "    plot_min = 0\n",
    "    pval = p_value(data_ts, toy_ts)\n",
    "\n",
    "    plt.figure(figsize=(12, 8))\n",
    "    h = plt.hist(\n",
    "        toy_ts,\n",
    "        np.linspace(plot_min, plot_max, bins + 1),\n",
    "        color=\"#8C8C8C\",\n",
    "        histtype=\"step\",\n",
    "        label=f\"{len(toy_ts)} Toys\",\n",
    "    )\n",
    "    plt.axvline(data_ts, color=\"#FF502E\", linestyle=\":\", label=rf\"Data ($p$-value = {pval:.2f})\")\n",
    "\n",
    "    if fit is not None:\n",
    "        x = np.linspace(plot_min + 0.01, plot_max, 100)\n",
    "\n",
    "        if fit == \"chi2\":\n",
    "            res = stats.fit(stats.chi2, toy_ts, [(0, 200)])\n",
    "            pdf = stats.chi2.pdf(x, res.params.df)\n",
    "            label = rf\"$\\chi^2_{{DoF = {res.params.df:.2f}}}$ Fit\"\n",
    "        elif fit == \"f\":\n",
    "            pdf = stats.f.pdf(x, 1, fdof2)\n",
    "            label = rf\"$F-dist_{{DoF = (1, {fdof2})}}$\"\n",
    "        else:\n",
    "            raise ValueError(\"Invalid fit\")\n",
    "\n",
    "        plt.plot(\n",
    "            x,\n",
    "            pdf * (np.max(h[0]) / np.max(pdf)),\n",
    "            color=\"#1f78b4\",\n",
    "            linestyle=\"--\",\n",
    "            # alpha=0.6,\n",
    "            label=label,\n",
    "        )\n",
    "\n",
    "    hep.cms.label(\n",
    "        \"Work in Progress\",\n",
    "        data=True,\n",
    "        lumi=138,\n",
    "        year=None,\n",
    "    )\n",
    "\n",
    "    _ = plt.legend()\n",
    "    plt.title(title)\n",
    "    plt.ylabel(\"Number of Toys\")\n",
    "    plt.xlabel(\"Test Statistics\")\n",
    "\n",
    "    plt.savefig(f\"{plot_dir}/{name}.pdf\", bbox_inches=\"tight\")"
   ]
  },
  {
   "attachments": {},
   "cell_type": "markdown",
   "metadata": {},
   "source": [
    "Nonresonant"
   ]
  },
  {
   "cell_type": "code",
   "execution_count": null,
   "metadata": {},
   "outputs": [],
   "source": [
    "o1 = 0  # order being tested\n",
    "tlabel = f\"{o1}\"\n",
    "\n",
    "data_ts, toy_ts = test_statistics[tlabel][\"data\"][tlabel], test_statistics[tlabel][\"toys\"][tlabel]\n",
    "plot_tests(data_ts, toy_ts, \"gof\" + tlabel, fit=\"chi2\", bins=20)\n",
    "\n",
    "ord1 = 1\n",
    "tflabel = f\"{ord1}\"\n",
    "data_ts, toy_ts = pval = (\n",
    "    test_statistics[tlabel][\"fdata\"][tflabel],\n",
    "    test_statistics[tlabel][\"ftoys\"][tflabel],\n",
    ")\n",
    "plot_tests(data_ts, toy_ts, f\"f{tlabel}_{tflabel}\", title=f\"{o1} vs. {ord1}\")"
   ]
  },
  {
   "attachments": {},
   "cell_type": "markdown",
   "metadata": {},
   "source": [
    "Resonant"
   ]
  },
  {
   "cell_type": "code",
   "execution_count": null,
   "metadata": {},
   "outputs": [],
   "source": [
    "o1, o2 = 2, 0  # order being tested\n",
    "tlabel = f\"{o1}{o2}\"\n",
    "\n",
    "data_ts, toy_ts = test_statistics[tlabel][\"data\"][tlabel], test_statistics[tlabel][\"toys\"][tlabel]\n",
    "plot_tests(data_ts, toy_ts, \"gof\" + tlabel, fit=\"chi2\", bins=20)\n",
    "\n",
    "for ord1, ord2 in [[o1 + 1, o2], [o1, o2 + 1]]:\n",
    "    tflabel = f\"{ord1}{ord2}\"\n",
    "    data_ts, toy_ts = pval = (\n",
    "        test_statistics[tlabel][\"fdata\"][tflabel],\n",
    "        test_statistics[tlabel][\"ftoys\"][tflabel],\n",
    "    )\n",
    "    plot_tests(data_ts, toy_ts, f\"f{tlabel}_{tflabel}\", title=f\"({o1}, {o2}) vs. ({ord1}, {ord2})\")"
   ]
  },
  {
   "cell_type": "code",
   "execution_count": null,
   "metadata": {},
   "outputs": [],
   "source": []
  }
 ],
 "metadata": {
  "kernelspec": {
   "display_name": "python39",
   "language": "python",
   "name": "python3"
  },
  "language_info": {
   "codemirror_mode": {
    "name": "ipython",
    "version": 3
   },
   "file_extension": ".py",
   "mimetype": "text/x-python",
   "name": "python",
   "nbconvert_exporter": "python",
   "pygments_lexer": "ipython3",
   "version": "3.9.15"
  },
  "orig_nbformat": 4
 },
 "nbformat": 4,
 "nbformat_minor": 2
}
