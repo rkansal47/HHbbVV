{
 "cells": [
  {
   "cell_type": "code",
   "execution_count": null,
   "metadata": {},
   "outputs": [],
   "source": [
    "from typing import List\n",
    "import uproot\n",
    "import numpy as np\n",
    "import matplotlib.pyplot as plt\n",
    "import mplhep as hep\n",
    "import matplotlib.ticker as mticker\n",
    "import os\n",
    "\n",
    "plt.style.use(hep.style.CMS)\n",
    "hep.style.use(\"CMS\")\n",
    "formatter = mticker.ScalarFormatter(useMathText=True)\n",
    "formatter.set_powerlimits((-3, 3))\n",
    "plt.rcParams.update({\"font.size\": 20})"
   ]
  },
  {
   "cell_type": "code",
   "execution_count": null,
   "metadata": {},
   "outputs": [],
   "source": [
    "MAIN_DIR = \"../../../../\"\n",
    "\n",
    "plot_dir = f\"{MAIN_DIR}/plots/BiasTest/23Sep15\"\n",
    "_ = os.system(f\"mkdir -p {plot_dir}\")"
   ]
  },
  {
   "cell_type": "code",
   "execution_count": null,
   "metadata": {},
   "outputs": [],
   "source": [
    "cards_dir = \"23Sep14_hww0.6_pt_400_350Scale1\"\n",
    "bias_dir = \"23Sep14\"\n",
    "\n",
    "# r_bounds = [-1, 20]\n",
    "r_bounds = [-20, 50]\n",
    "\n",
    "samples = [\n",
    "    \"NMSSM_XToYHTo2W2BTo4Q2B_MX-1200_MY-190\",\n",
    "    \"NMSSM_XToYHTo2W2BTo4Q2B_MX-2000_MY-125\",\n",
    "    \"NMSSM_XToYHTo2W2BTo4Q2B_MX-3000_MY-250\",\n",
    "]\n",
    "\n",
    "biases = [0.0, 0.15, 0.3, 1.0]\n",
    "r_dict = {}\n",
    "\n",
    "for sample in samples:\n",
    "    if sample not in r_dict:\n",
    "        r_dict[sample] = {}\n",
    "\n",
    "    for bias in biases:\n",
    "        if bias in r_dict[sample]:\n",
    "            continue\n",
    "\n",
    "        print(sample, bias)\n",
    "        file = uproot.concatenate(\n",
    "            f\"/uscms/home/rkansal/hhcombine/cards/biastests/{cards_dir}/{sample}/bias/{bias_dir}/higgsCombinebias{bias}.FitDiagnostics.mH125.*.root\"\n",
    "        )\n",
    "\n",
    "        r = np.array(file.limit)[::4]\n",
    "        neg_lim = np.array(file.limit)[1::4]\n",
    "        pos_lim = np.array(file.limit)[2::4]\n",
    "        r_negerr = r - neg_lim\n",
    "        r_poserr = pos_lim - r\n",
    "        reldiff = r - bias\n",
    "        reldiff[reldiff < 0] = (reldiff / r_poserr)[reldiff < 0]\n",
    "        reldiff[reldiff > 0] = (reldiff / r_negerr)[reldiff > 0]\n",
    "\n",
    "        r_dict[sample][bias] = {\n",
    "            \"r\": r,\n",
    "            \"reldiff\": reldiff,\n",
    "            \"neg_lim\": neg_lim,\n",
    "            \"pos_lim\": pos_lim,\n",
    "        }"
   ]
  },
  {
   "cell_type": "code",
   "execution_count": null,
   "metadata": {},
   "outputs": [],
   "source": [
    "for sample in samples:\n",
    "    print(sample)\n",
    "    for i, bias in enumerate(biases):\n",
    "        num_toys = len(r_dict[sample][bias][\"r\"])\n",
    "\n",
    "        print(\n",
    "            f\"For r = {bias}, # of successful fits: = {num_toys}, {np.sum(r_dict[sample][bias]['neg_lim'] == r_bounds[0]) / num_toys * 100:.0f}% of these with r- = -5, {np.sum(r_dict[sample][bias]['pos_lim'] == r_bounds[1]) / num_toys * 100 :.0f}% with r+ = 40\"\n",
    "        )"
   ]
  },
  {
   "cell_type": "code",
   "execution_count": null,
   "metadata": {},
   "outputs": [],
   "source": [
    "for sample in samples:\n",
    "    print(sample)\n",
    "    for i, bias in enumerate(biases):\n",
    "        num_toys = len(r_dict[sample][bias][\"r\"])\n",
    "        pfail = (\n",
    "            (r_dict[sample][bias][\"reldiff\"] < 0) * (r_dict[sample][bias][\"pos_lim\"] == r_bounds[1])\n",
    "        ) + (\n",
    "            (r_dict[sample][bias][\"reldiff\"] > 0) * (r_dict[sample][bias][\"neg_lim\"] == r_bounds[0])\n",
    "        )\n",
    "        r_lims_wrong = r_dict[sample][bias][\"pos_lim\"] == r_dict[sample][bias][\"neg_lim\"]\n",
    "\n",
    "        tot_pfail = np.sum(pfail + r_lims_wrong)\n",
    "\n",
    "        print(\n",
    "            f\"For r = {bias}, # of successful fits: = {num_toys}, {tot_pfail / num_toys * 100:.0f}% of these with r-lim at boundary\"\n",
    "        )"
   ]
  },
  {
   "cell_type": "code",
   "execution_count": null,
   "metadata": {},
   "outputs": [],
   "source": [
    "from scipy import stats\n",
    "\n",
    "xrange = 3\n",
    "bins = 21\n",
    "x = np.linspace(-xrange, xrange, 101)\n",
    "\n",
    "for sample in samples:\n",
    "    # if sample != \"NMSSM_XToYHTo2W2BTo4Q2B_MX-3000_MY-250\":\n",
    "    #     continue\n",
    "    fig, ax = plt.subplots(len(biases), 1, figsize=(12, 40))\n",
    "\n",
    "    for i, bias in enumerate(biases):\n",
    "        # fit_fail = r_dict[sample][bias][\"pos_lim\"] == 40\n",
    "        # fit_fail = r_dict[sample][bias]['pos_lim'] == 2000000\n",
    "\n",
    "        r_lims_bounds = (\n",
    "            (r_dict[sample][bias][\"reldiff\"] < 0) * (r_dict[sample][bias][\"pos_lim\"] == r_bounds[1])\n",
    "        ) + (\n",
    "            (r_dict[sample][bias][\"reldiff\"] > 0) * (r_dict[sample][bias][\"neg_lim\"] == r_bounds[0])\n",
    "        )\n",
    "\n",
    "        # r_lims_bounds = (\n",
    "        #     (r_dict[sample][bias][\"neg_lim\"] == r_bounds[0]) + (r_dict[sample][bias][\"pos_lim\"] == r_bounds[1])\n",
    "        # )\n",
    "\n",
    "        r_lims_same = r_dict[sample][bias][\"pos_lim\"] == r_dict[sample][bias][\"neg_lim\"]\n",
    "\n",
    "        fit_fail = r_lims_bounds + r_lims_same\n",
    "\n",
    "        r = r_dict[sample][bias][\"r\"][~fit_fail]\n",
    "        reldiff = r_dict[sample][bias][\"reldiff\"][~fit_fail]\n",
    "        reldiff = reldiff[(reldiff > -xrange) * (reldiff < xrange)]\n",
    "\n",
    "        mu, sigma = np.mean(reldiff), np.std(reldiff)\n",
    "        ax[i].hist(reldiff, np.linspace(-xrange, xrange, bins + 1), histtype=\"step\")\n",
    "        ax[i].plot(\n",
    "            x,\n",
    "            # scale by bin width\n",
    "            stats.norm.pdf(x, loc=mu, scale=sigma) * len(r) * (2 * xrange / bins),\n",
    "            label=rf\"$\\mu = {mu:.2f}, \\sigma = {sigma:.2f}$\",\n",
    "        )\n",
    "        ax[i].set_xlabel(rf\"$\\frac{{\\hat{{r}} - {bias}}}{{\\Delta \\hat r}}$\")\n",
    "        ax[i].set_ylabel(\"Number of toys\")\n",
    "        ax[i].set_title(f\"r = {bias}\")\n",
    "        ax[i].legend()\n",
    "\n",
    "        hep.cms.label(\n",
    "            \"Work in Progress\",\n",
    "            ax=ax[i],\n",
    "            data=True,\n",
    "            lumi=138,\n",
    "            year=None,\n",
    "        )\n",
    "\n",
    "    plt.savefig(f\"{plot_dir}/{sample}.pdf\", bbox_inches=\"tight\")\n",
    "    plt.show()\n",
    "\n",
    "    # break"
   ]
  },
  {
   "cell_type": "code",
   "execution_count": null,
   "metadata": {},
   "outputs": [],
   "source": [
    "sample = \"NMSSM_XToYHTo2W2BTo4Q2B_MX-3000_MY-250\"\n",
    "bias = 0.0\n",
    "\n",
    "r_lims_bounds = (\n",
    "    (r_dict[sample][bias][\"reldiff\"] < 0) * (r_dict[sample][bias][\"pos_lim\"] == r_bounds[1])\n",
    ") + ((r_dict[sample][bias][\"reldiff\"] > 0) * (r_dict[sample][bias][\"neg_lim\"] == r_bounds[0]))\n",
    "\n",
    "r_lims_same = r_dict[sample][bias][\"pos_lim\"] == r_dict[sample][bias][\"neg_lim\"]\n",
    "\n",
    "fit_fail = r_lims_bounds + r_lims_same\n",
    "\n",
    "preldiff = r_dict[sample][bias][\"reldiff\"][~fit_fail]\n",
    "pposlim = r_dict[sample][bias][\"pos_lim\"][~fit_fail]\n",
    "pneglim = r_dict[sample][bias][\"neg_lim\"][~fit_fail]\n",
    "pr = r_dict[sample][bias][\"r\"][~fit_fail]\n",
    "\n",
    "select = preldiff > 1.5\n",
    "\n",
    "pos_lim = pposlim[select]\n",
    "pos_lim"
   ]
  },
  {
   "cell_type": "code",
   "execution_count": null,
   "metadata": {},
   "outputs": [],
   "source": [
    "r = pr[select]\n",
    "r"
   ]
  },
  {
   "cell_type": "code",
   "execution_count": null,
   "metadata": {},
   "outputs": [],
   "source": [
    "plt.hist(r)"
   ]
  },
  {
   "cell_type": "code",
   "execution_count": null,
   "metadata": {},
   "outputs": [],
   "source": [
    "neg_lim = pneglim[select]\n",
    "neg_lim"
   ]
  },
  {
   "cell_type": "code",
   "execution_count": null,
   "metadata": {},
   "outputs": [],
   "source": [
    "plt.hist(neg_lim)"
   ]
  },
  {
   "cell_type": "code",
   "execution_count": null,
   "metadata": {},
   "outputs": [],
   "source": [
    "from ipywidgets import interact, FloatSlider\n",
    "\n",
    "\n",
    "def phist(cut):\n",
    "    plt.hist(pneglim[preldiff > cut], np.linspace(-0.5, 0.5, 21), histtype=\"step\")\n",
    "\n",
    "\n",
    "interact(phist, cut=FloatSlider(min=-1, max=5, step=0.1))"
   ]
  },
  {
   "cell_type": "code",
   "execution_count": null,
   "metadata": {},
   "outputs": [],
   "source": [
    "reldiff = r_dict[sample][bias][\"reldiff\"][~fit_fail][select]\n",
    "reldiff"
   ]
  },
  {
   "cell_type": "code",
   "execution_count": null,
   "metadata": {},
   "outputs": [],
   "source": []
  }
 ],
 "metadata": {
  "kernelspec": {
   "display_name": "python39",
   "language": "python",
   "name": "python3"
  },
  "language_info": {
   "codemirror_mode": {
    "name": "ipython",
    "version": 3
   },
   "file_extension": ".py",
   "mimetype": "text/x-python",
   "name": "python",
   "nbconvert_exporter": "python",
   "pygments_lexer": "ipython3",
   "version": "3.10.4"
  },
  "orig_nbformat": 4
 },
 "nbformat": 4,
 "nbformat_minor": 2
}
