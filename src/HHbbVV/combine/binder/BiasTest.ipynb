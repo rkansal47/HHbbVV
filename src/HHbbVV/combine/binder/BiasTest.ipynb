{
 "cells": [
  {
   "cell_type": "code",
   "execution_count": null,
   "metadata": {},
   "outputs": [],
   "source": [
    "from typing import List\n",
    "import uproot\n",
    "import numpy as np\n",
    "import matplotlib.pyplot as plt\n",
    "import mplhep as hep\n",
    "import matplotlib.ticker as mticker\n",
    "import os\n",
    "\n",
    "plt.style.use(hep.style.CMS)\n",
    "hep.style.use(\"CMS\")\n",
    "formatter = mticker.ScalarFormatter(useMathText=True)\n",
    "formatter.set_powerlimits((-3, 3))\n",
    "plt.rcParams.update({\"font.size\": 20})"
   ]
  },
  {
   "cell_type": "code",
   "execution_count": null,
   "metadata": {},
   "outputs": [],
   "source": [
    "MAIN_DIR = \"../../../../\"\n",
    "\n",
    "plot_dir = f\"{MAIN_DIR}/plots/BiasTest/23Jul18Res\"\n",
    "_ = os.system(f\"mkdir -p {plot_dir}\")"
   ]
  },
  {
   "cell_type": "code",
   "execution_count": null,
   "metadata": {},
   "outputs": [],
   "source": [
    "cards_dir = \"23Jul17ResClipTFScale1\"\n",
    "samples = [\n",
    "    \"NMSSM_XToYHTo2W2BTo4Q2B_MX-1200_MY-190\",\n",
    "    \"NMSSM_XToYHTo2W2BTo4Q2B_MX-2000_MY-125\",\n",
    "    \"NMSSM_XToYHTo2W2BTo4Q2B_MX-3000_MY-250\",\n",
    "]\n",
    "\n",
    "biases = [0.0, 0.15, 0.3, 1.0]\n",
    "r_dict = {}\n",
    "\n",
    "for sample in samples:\n",
    "    r_dict[sample] = {}\n",
    "    for bias in biases:\n",
    "        file = uproot.concatenate(\n",
    "            f\"/uscms/home/rkansal/hhcombine/cards/biastests/{cards_dir}/{sample}/higgsCombinebias{bias}.FitDiagnostics.mH125.*.root\"\n",
    "        )\n",
    "\n",
    "        r = np.array(file.limit)[::4]\n",
    "        r_negerr = r - np.array(file.limit)[1::4]\n",
    "        r_poserr = np.array(file.limit)[2::4] - r\n",
    "        reldiff = r - bias\n",
    "        reldiff[reldiff < 0] = (reldiff / r_poserr)[reldiff < 0]\n",
    "        reldiff[reldiff > 0] = (reldiff / r_negerr)[reldiff > 0]\n",
    "\n",
    "        r_dict[sample][bias] = {\n",
    "            \"r\": r,\n",
    "            \"reldiff\": reldiff,\n",
    "        }"
   ]
  },
  {
   "cell_type": "code",
   "execution_count": null,
   "metadata": {},
   "outputs": [],
   "source": [
    "from scipy import stats\n",
    "\n",
    "xrange = 4\n",
    "x = np.linspace(-xrange, xrange, 101)\n",
    "\n",
    "for sample in samples:\n",
    "    fig, ax = plt.subplots(len(biases), 1, figsize=(12, 40))\n",
    "\n",
    "    for i, bias in enumerate(biases):\n",
    "        r = r_dict[sample][bias][\"r\"]\n",
    "        reldiff = r_dict[sample][bias][\"reldiff\"]\n",
    "        reldiff = reldiff[(reldiff > -4) * (reldiff < 4)]\n",
    "\n",
    "        mu, sigma = np.mean(reldiff), np.std(reldiff)\n",
    "        ax[i].hist(reldiff, np.linspace(-xrange, xrange, 21), histtype=\"step\")\n",
    "        ax[i].plot(\n",
    "            x,\n",
    "            stats.norm.pdf(x, loc=mu, scale=sigma) * len(r) * xrange / 10,\n",
    "            label=rf\"$\\mu = {mu:.2f}, \\sigma = {sigma:.2f}$\",\n",
    "        )\n",
    "        ax[i].set_xlabel(rf\"$\\frac{{\\hat{{r}} - {bias}}}{{\\Delta \\hat r}}$\")\n",
    "        ax[i].set_ylabel(\"Number of toys\")\n",
    "        ax[i].set_title(f\"r = {bias}\")\n",
    "        ax[i].legend()\n",
    "\n",
    "        hep.cms.label(\n",
    "            \"Work in Progress\",\n",
    "            ax=ax[i],\n",
    "            data=True,\n",
    "            lumi=138,\n",
    "            year=None,\n",
    "        )\n",
    "\n",
    "    plt.savefig(f\"{plot_dir}/{sample}.pdf\", bbox_inches=\"tight\")\n",
    "    plt.show()"
   ]
  }
 ],
 "metadata": {
  "kernelspec": {
   "display_name": "python39",
   "language": "python",
   "name": "python3"
  },
  "language_info": {
   "codemirror_mode": {
    "name": "ipython",
    "version": 3
   },
   "file_extension": ".py",
   "mimetype": "text/x-python",
   "name": "python",
   "nbconvert_exporter": "python",
   "pygments_lexer": "ipython3",
   "version": "3.9.15"
  },
  "orig_nbformat": 4
 },
 "nbformat": 4,
 "nbformat_minor": 2
}
