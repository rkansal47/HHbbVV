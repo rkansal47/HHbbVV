{
 "cells": [
  {
   "cell_type": "code",
   "execution_count": 1,
   "metadata": {},
   "outputs": [],
   "source": [
    "import pickle\n",
    "import datacardHelpers as helpers\n",
    "from pathlib import Path\n",
    "from HHbbVV.hh_vars import years, bg_keys\n",
    "from HHbbVV.postprocessing.postprocessing import res_shape_vars\n",
    "import plotting"
   ]
  },
  {
   "cell_type": "code",
   "execution_count": 2,
   "metadata": {},
   "outputs": [],
   "source": [
    "%load_ext autoreload\n",
    "%autoreload 2"
   ]
  },
  {
   "cell_type": "code",
   "execution_count": 3,
   "metadata": {},
   "outputs": [],
   "source": [
    "with Path(\n",
    "    \"/ceph/cms/store/user/rkansal/bbVV/templates/25Feb8XHYFix/backgrounds/2016_templates.pkl\"\n",
    ").open(\"rb\") as f:\n",
    "    templates = pickle.load(f)"
   ]
  },
  {
   "cell_type": "code",
   "execution_count": 4,
   "metadata": {},
   "outputs": [],
   "source": [
    "templates_path = Path(\"/ceph/cms/store/user/rkansal/bbVV/templates/25Feb8XHYFix/\")\n",
    "sample = \"NMSSM_XToYHTo2W2BTo4Q2B_MX-3000_MY-250\"\n",
    "templates_dict, templates_summed = helpers.get_templates(\n",
    "    templates_path / \"backgrounds\", templates_path / sample, years, [sample], sig_separate=True\n",
    ")"
   ]
  },
  {
   "cell_type": "code",
   "execution_count": null,
   "metadata": {},
   "outputs": [],
   "source": [
    "h.project(0, 1)"
   ]
  },
  {
   "cell_type": "code",
   "execution_count": null,
   "metadata": {},
   "outputs": [],
   "source": [
    "h.project(0, 1)[\"Z+Jets\", ...]"
   ]
  },
  {
   "cell_type": "code",
   "execution_count": null,
   "metadata": {},
   "outputs": [],
   "source": [
    "h.project(0, 1)[\"Z+Jets_L1EcalPrefiring_down\", ...]"
   ]
  },
  {
   "cell_type": "code",
   "execution_count": null,
   "metadata": {},
   "outputs": [
    {
     "ename": "TypeError",
     "evalue": "'>' not supported between instances of 'numpy.ndarray' and 'int'",
     "output_type": "error",
     "traceback": [
      "\u001b[0;31m---------------------------------------------------------------------------\u001b[0m",
      "\u001b[0;31mTypeError\u001b[0m                                 Traceback (most recent call last)",
      "Cell \u001b[0;32mIn[6], line 15\u001b[0m\n\u001b[1;32m      4\u001b[0m \u001b[38;5;28;01mfor\u001b[39;00m i, shape_var \u001b[38;5;129;01min\u001b[39;00m \u001b[38;5;28menumerate\u001b[39m(res_shape_vars):\n\u001b[1;32m      5\u001b[0m     plot_params \u001b[38;5;241m=\u001b[39m {\n\u001b[1;32m      6\u001b[0m         \u001b[38;5;124m\"\u001b[39m\u001b[38;5;124mhists\u001b[39m\u001b[38;5;124m\"\u001b[39m: h\u001b[38;5;241m.\u001b[39mproject(\u001b[38;5;241m0\u001b[39m, i \u001b[38;5;241m+\u001b[39m \u001b[38;5;241m1\u001b[39m),\n\u001b[1;32m      7\u001b[0m         \u001b[38;5;124m\"\u001b[39m\u001b[38;5;124msig_keys\u001b[39m\u001b[38;5;124m\"\u001b[39m: [sig_key],\n\u001b[0;32m   (...)\u001b[0m\n\u001b[1;32m     12\u001b[0m         \u001b[38;5;124m\"\u001b[39m\u001b[38;5;124mplot_data\u001b[39m\u001b[38;5;124m\"\u001b[39m: \u001b[38;5;28;01mTrue\u001b[39;00m,\n\u001b[1;32m     13\u001b[0m     }\n\u001b[0;32m---> 15\u001b[0m     \u001b[43mplotting\u001b[49m\u001b[38;5;241;43m.\u001b[39;49m\u001b[43mratioHistPlot\u001b[49m\u001b[43m(\u001b[49m\n\u001b[1;32m     16\u001b[0m \u001b[43m        \u001b[49m\u001b[38;5;241;43m*\u001b[39;49m\u001b[38;5;241;43m*\u001b[39;49m\u001b[43mplot_params\u001b[49m\u001b[43m,\u001b[49m\n\u001b[1;32m     17\u001b[0m \u001b[43m        \u001b[49m\u001b[43mbg_keys\u001b[49m\u001b[38;5;241;43m=\u001b[39;49m\u001b[43mbg_keys\u001b[49m\u001b[43m,\u001b[49m\n\u001b[1;32m     18\u001b[0m \u001b[43m        \u001b[49m\u001b[43mdivide_bin_width\u001b[49m\u001b[38;5;241;43m=\u001b[39;49m\u001b[38;5;28;43;01mTrue\u001b[39;49;00m\u001b[43m,\u001b[49m\n\u001b[1;32m     19\u001b[0m \u001b[43m        \u001b[49m\u001b[38;5;66;43;03m# title=title,\u001b[39;49;00m\n\u001b[1;32m     20\u001b[0m \u001b[43m        \u001b[49m\u001b[38;5;66;43;03m# name=f\"{plot_name}{jlabel}.pdf\",\u001b[39;49;00m\n\u001b[1;32m     21\u001b[0m \u001b[43m    \u001b[49m\u001b[43m)\u001b[49m\n\u001b[1;32m     23\u001b[0m     \u001b[38;5;66;03m# if not do_jshift and plot_shifts:\u001b[39;00m\n\u001b[1;32m     24\u001b[0m     \u001b[38;5;66;03m#     plot_name = (\u001b[39;00m\n\u001b[1;32m     25\u001b[0m     \u001b[38;5;66;03m#         f\"{plot_dir}/wshifts/\" f\"{split_str}{rname}_region_{shape_var.var}\"\u001b[39;00m\n\u001b[0;32m   (...)\u001b[0m\n\u001b[1;32m     54\u001b[0m     \u001b[38;5;66;03m#             name=f\"{plot_name}_txbb.pdf\",\u001b[39;00m\n\u001b[1;32m     55\u001b[0m     \u001b[38;5;66;03m#         )\u001b[39;00m\n",
      "File \u001b[0;32m~/HHbbVV/src/HHbbVV/postprocessing/plotting.py:334\u001b[0m, in \u001b[0;36mratioHistPlot\u001b[0;34m(hists, year, sig_keys, bg_keys, sig_colours, bg_colours, sig_err, bg_err, data_err, title, name, sig_scale_dict, ylim, show, syst, variation, bg_err_type, plot_data, bg_order, log, ratio_ylims, divide_bin_width, plot_significance, significance_dir, plot_ratio, axrax, ncol, cmslabel)\u001b[0m\n\u001b[1;32m    332\u001b[0m pre_divide_hists \u001b[38;5;241m=\u001b[39m hists\n\u001b[1;32m    333\u001b[0m \u001b[38;5;28;01mif\u001b[39;00m divide_bin_width:\n\u001b[0;32m--> 334\u001b[0m     hists, data_err \u001b[38;5;241m=\u001b[39m \u001b[43m_divide_bin_widths\u001b[49m\u001b[43m(\u001b[49m\u001b[43mhists\u001b[49m\u001b[43m,\u001b[49m\u001b[43m \u001b[49m\u001b[43mdata_err\u001b[49m\u001b[43m)\u001b[49m\n\u001b[1;32m    336\u001b[0m \u001b[38;5;66;03m# set up plots\u001b[39;00m\n\u001b[1;32m    337\u001b[0m \u001b[38;5;28;01mif\u001b[39;00m axrax \u001b[38;5;129;01mis\u001b[39;00m \u001b[38;5;129;01mnot\u001b[39;00m \u001b[38;5;28;01mNone\u001b[39;00m:\n",
      "File \u001b[0;32m~/HHbbVV/src/HHbbVV/postprocessing/plotting.py:189\u001b[0m, in \u001b[0;36m_divide_bin_widths\u001b[0;34m(hists, data_err)\u001b[0m\n\u001b[1;32m    185\u001b[0m bin_widths \u001b[38;5;241m=\u001b[39m edges[\u001b[38;5;241m1\u001b[39m:] \u001b[38;5;241m-\u001b[39m edges[:\u001b[38;5;241m-\u001b[39m\u001b[38;5;241m1\u001b[39m]\n\u001b[1;32m    187\u001b[0m \u001b[38;5;28;01mif\u001b[39;00m data_err \u001b[38;5;129;01mis\u001b[39;00m \u001b[38;5;28;01mNone\u001b[39;00m:\n\u001b[1;32m    188\u001b[0m     data_err \u001b[38;5;241m=\u001b[39m (\n\u001b[0;32m--> 189\u001b[0m         np\u001b[38;5;241m.\u001b[39mabs(\u001b[43mpoisson_interval\u001b[49m\u001b[43m(\u001b[49m\u001b[43mhists\u001b[49m\u001b[43m[\u001b[49m\u001b[43mdata_key\u001b[49m\u001b[43m,\u001b[49m\u001b[43m \u001b[49m\u001b[38;5;241;43m.\u001b[39;49m\u001b[38;5;241;43m.\u001b[39;49m\u001b[38;5;241;43m.\u001b[39;49m\u001b[43m]\u001b[49m\u001b[43m)\u001b[49m \u001b[38;5;241m-\u001b[39m hists[data_key, \u001b[38;5;241m.\u001b[39m\u001b[38;5;241m.\u001b[39m\u001b[38;5;241m.\u001b[39m]) \u001b[38;5;241m/\u001b[39m bin_widths\n\u001b[1;32m    190\u001b[0m     )\n\u001b[1;32m    192\u001b[0m hists \u001b[38;5;241m=\u001b[39m hists \u001b[38;5;241m/\u001b[39m bin_widths[np\u001b[38;5;241m.\u001b[39mnewaxis, :]\n\u001b[1;32m    193\u001b[0m \u001b[38;5;28;01mreturn\u001b[39;00m hists, data_err\n",
      "File \u001b[0;32m~/mambaforge/envs/python39/lib/python3.9/site-packages/hist/intervals.py:63\u001b[0m, in \u001b[0;36mpoisson_interval\u001b[0;34m(values, variances, coverage)\u001b[0m\n\u001b[1;32m     61\u001b[0m     coverage \u001b[38;5;241m=\u001b[39m stats\u001b[38;5;241m.\u001b[39mnorm\u001b[38;5;241m.\u001b[39mcdf(\u001b[38;5;241m1\u001b[39m) \u001b[38;5;241m-\u001b[39m stats\u001b[38;5;241m.\u001b[39mnorm\u001b[38;5;241m.\u001b[39mcdf(\u001b[38;5;241m-\u001b[39m\u001b[38;5;241m1\u001b[39m)\n\u001b[1;32m     62\u001b[0m \u001b[38;5;28;01mif\u001b[39;00m variances \u001b[38;5;129;01mis\u001b[39;00m \u001b[38;5;28;01mNone\u001b[39;00m:\n\u001b[0;32m---> 63\u001b[0m     interval_min \u001b[38;5;241m=\u001b[39m \u001b[43mstats\u001b[49m\u001b[38;5;241;43m.\u001b[39;49m\u001b[43mchi2\u001b[49m\u001b[38;5;241;43m.\u001b[39;49m\u001b[43mppf\u001b[49m\u001b[43m(\u001b[49m\u001b[43m(\u001b[49m\u001b[38;5;241;43m1\u001b[39;49m\u001b[43m \u001b[49m\u001b[38;5;241;43m-\u001b[39;49m\u001b[43m \u001b[49m\u001b[43mcoverage\u001b[49m\u001b[43m)\u001b[49m\u001b[43m \u001b[49m\u001b[38;5;241;43m/\u001b[39;49m\u001b[43m \u001b[49m\u001b[38;5;241;43m2\u001b[39;49m\u001b[43m,\u001b[49m\u001b[43m \u001b[49m\u001b[38;5;241;43m2\u001b[39;49m\u001b[43m \u001b[49m\u001b[38;5;241;43m*\u001b[39;49m\u001b[43m \u001b[49m\u001b[43mvalues\u001b[49m\u001b[43m)\u001b[49m \u001b[38;5;241m/\u001b[39m \u001b[38;5;241m2.0\u001b[39m\n\u001b[1;32m     64\u001b[0m     interval_min[values \u001b[38;5;241m==\u001b[39m \u001b[38;5;241m0.0\u001b[39m] \u001b[38;5;241m=\u001b[39m \u001b[38;5;241m0.0\u001b[39m  \u001b[38;5;66;03m# chi2.ppf produces NaN for values=0\u001b[39;00m\n\u001b[1;32m     65\u001b[0m     interval_max \u001b[38;5;241m=\u001b[39m stats\u001b[38;5;241m.\u001b[39mchi2\u001b[38;5;241m.\u001b[39mppf((\u001b[38;5;241m1\u001b[39m \u001b[38;5;241m+\u001b[39m coverage) \u001b[38;5;241m/\u001b[39m \u001b[38;5;241m2\u001b[39m, \u001b[38;5;241m2\u001b[39m \u001b[38;5;241m*\u001b[39m (values \u001b[38;5;241m+\u001b[39m \u001b[38;5;241m1\u001b[39m)) \u001b[38;5;241m/\u001b[39m \u001b[38;5;241m2.0\u001b[39m\n",
      "File \u001b[0;32m~/mambaforge/envs/python39/lib/python3.9/site-packages/scipy/stats/_distn_infrastructure.py:2336\u001b[0m, in \u001b[0;36mrv_continuous.ppf\u001b[0;34m(self, q, *args, **kwds)\u001b[0m\n\u001b[1;32m   2334\u001b[0m args \u001b[38;5;241m=\u001b[39m \u001b[38;5;28mtuple\u001b[39m(\u001b[38;5;28mmap\u001b[39m(asarray, args))\n\u001b[1;32m   2335\u001b[0m _a, _b \u001b[38;5;241m=\u001b[39m \u001b[38;5;28mself\u001b[39m\u001b[38;5;241m.\u001b[39m_get_support(\u001b[38;5;241m*\u001b[39margs)\n\u001b[0;32m-> 2336\u001b[0m cond0 \u001b[38;5;241m=\u001b[39m \u001b[38;5;28;43mself\u001b[39;49m\u001b[38;5;241;43m.\u001b[39;49m\u001b[43m_argcheck\u001b[49m\u001b[43m(\u001b[49m\u001b[38;5;241;43m*\u001b[39;49m\u001b[43margs\u001b[49m\u001b[43m)\u001b[49m \u001b[38;5;241m&\u001b[39m (scale \u001b[38;5;241m>\u001b[39m \u001b[38;5;241m0\u001b[39m) \u001b[38;5;241m&\u001b[39m (loc \u001b[38;5;241m==\u001b[39m loc)\n\u001b[1;32m   2337\u001b[0m cond1 \u001b[38;5;241m=\u001b[39m (\u001b[38;5;241m0\u001b[39m \u001b[38;5;241m<\u001b[39m q) \u001b[38;5;241m&\u001b[39m (q \u001b[38;5;241m<\u001b[39m \u001b[38;5;241m1\u001b[39m)\n\u001b[1;32m   2338\u001b[0m cond2 \u001b[38;5;241m=\u001b[39m cond0 \u001b[38;5;241m&\u001b[39m (q \u001b[38;5;241m==\u001b[39m \u001b[38;5;241m0\u001b[39m)\n",
      "File \u001b[0;32m~/mambaforge/envs/python39/lib/python3.9/site-packages/scipy/stats/_distn_infrastructure.py:961\u001b[0m, in \u001b[0;36mrv_generic._argcheck\u001b[0;34m(self, *args)\u001b[0m\n\u001b[1;32m    959\u001b[0m cond \u001b[38;5;241m=\u001b[39m \u001b[38;5;241m1\u001b[39m\n\u001b[1;32m    960\u001b[0m \u001b[38;5;28;01mfor\u001b[39;00m arg \u001b[38;5;129;01min\u001b[39;00m args:\n\u001b[0;32m--> 961\u001b[0m     cond \u001b[38;5;241m=\u001b[39m logical_and(cond, (\u001b[43masarray\u001b[49m\u001b[43m(\u001b[49m\u001b[43marg\u001b[49m\u001b[43m)\u001b[49m\u001b[43m \u001b[49m\u001b[38;5;241;43m>\u001b[39;49m\u001b[43m \u001b[49m\u001b[38;5;241;43m0\u001b[39;49m))\n\u001b[1;32m    962\u001b[0m \u001b[38;5;28;01mreturn\u001b[39;00m cond\n",
      "\u001b[0;31mTypeError\u001b[0m: '>' not supported between instances of 'numpy.ndarray' and 'int'"
     ]
    }
   ],
   "source": [
    "sig_key = \"X[3000]->H(bb)Y[250](VV)\"\n",
    "h = templates_dict[\"2016\"][\"pass\"]\n",
    "year = \"2016\"\n",
    "for i, shape_var in enumerate(res_shape_vars):\n",
    "    plot_params = {\n",
    "        \"hists\": h.project(0, i + 1),\n",
    "        \"sig_keys\": [sig_key],\n",
    "        \"sig_scale_dict\": {sig_key: 10},\n",
    "        \"show\": True,\n",
    "        \"year\": year,\n",
    "        \"ylim\": 20,\n",
    "        \"plot_data\": False,\n",
    "    }\n",
    "\n",
    "    plotting.ratioHistPlot(\n",
    "        **plot_params,\n",
    "        bg_keys=bg_keys,\n",
    "        divide_bin_width=True,\n",
    "        # title=title,\n",
    "        # name=f\"{plot_name}{jlabel}.pdf\",\n",
    "    )\n",
    "\n",
    "    # if not do_jshift and plot_shifts:\n",
    "    #     plot_name = (\n",
    "    #         f\"{plot_dir}/wshifts/\" f\"{split_str}{rname}_region_{shape_var.var}\"\n",
    "    #     )\n",
    "\n",
    "    #     for wshift, wsyst in weight_shifts.items():\n",
    "    #         plotting.ratioHistPlot(\n",
    "    #             **plot_params,\n",
    "    #             bg_keys=bg_keys,\n",
    "    #             syst=(wshift, wsyst.samples),\n",
    "    #             title=f\"{region.label} Region {wsyst.label} Unc.\",\n",
    "    #             name=f\"{plot_name}_{wshift}.pdf\",\n",
    "    #         )\n",
    "\n",
    "    #         for skey, shift in [(\"Down\", \"down\"), (\"Up\", \"up\")]:\n",
    "    #             plotting.ratioHistPlot(\n",
    "    #                 **plot_params,\n",
    "    #                 bg_keys=p_bg_keys,  # don't plot QCD\n",
    "    #                 syst=(wshift, wsyst.samples),\n",
    "    #                 variation=shift,\n",
    "    #                 title=f\"{region.label} Region {wsyst.label} Unc. {skey} Shapes\",\n",
    "    #                 name=f\"{plot_name}_{wshift}_{shift}.pdf\",\n",
    "    #                 plot_ratio=False,\n",
    "    #             )\n",
    "\n",
    "    #     if region.signal:\n",
    "    #         plotting.ratioHistPlot(\n",
    "    #             **plot_params,\n",
    "    #             bg_keys=bg_keys,\n",
    "    #             sig_err=\"txbb\",\n",
    "    #             title=rf\"{region.label} Region $T_{{Xbb}}$ Shapes\",\n",
    "    #             name=f\"{plot_name}_txbb.pdf\",\n",
    "    #         )"
   ]
  },
  {
   "cell_type": "code",
   "execution_count": null,
   "metadata": {},
   "outputs": [],
   "source": [
    "print(f\"Plotting templates: {time.time() - start:.2f}\")\n",
    "if plot_sig_keys is None:\n",
    "    plot_sig_keys = sig_keys\n",
    "\n",
    "if sig_scale_dict is None:\n",
    "    sig_scale_dict = {\n",
    "        **{skey: 1 for skey in nonres_sig_keys if skey in plot_sig_keys},\n",
    "        **{skey: 1 for skey in res_sig_keys if skey in plot_sig_keys},\n",
    "    }\n",
    "\n",
    "title = (\n",
    "    f\"{region.label} Region Pre-Fit Shapes\"\n",
    "    if not do_jshift\n",
    "    else f\"{region.label} Region {jshift} Shapes\"\n",
    ")\n",
    "\n",
    "if sig_splits is None:\n",
    "    sig_splits = [plot_sig_keys]\n",
    "\n",
    "# don't plot qcd in the pass regions\n",
    "if pass_region:\n",
    "    p_bg_keys = [key for key in bg_keys if key != qcd_key]\n",
    "else:\n",
    "    p_bg_keys = bg_keys\n",
    "\n",
    "for i, shape_var in enumerate(shape_vars):\n",
    "    for j, p_sig_keys in enumerate(sig_splits):\n",
    "        split_str = \"\" if len(sig_splits) == 1 else f\"sigs{j}_\"\n",
    "        plot_params = {\n",
    "            \"hists\": h.project(0, i + 1),\n",
    "            \"sig_keys\": p_sig_keys,\n",
    "            \"sig_scale_dict\": (\n",
    "                {key: sig_scale_dict[key] for key in p_sig_keys} if region.signal else None\n",
    "            ),\n",
    "            \"show\": show,\n",
    "            \"year\": year,\n",
    "            \"ylim\": pass_ylim if pass_region else fail_ylim,\n",
    "            \"plot_data\": not (rname == \"pass\" and blind_pass),\n",
    "        }\n",
    "\n",
    "        plot_name = (\n",
    "            f\"{plot_dir}/\"\n",
    "            f\"{'jshifts/' if do_jshift else ''}\"\n",
    "            f\"{split_str}{rname}_region_{shape_var.var}\"\n",
    "        )\n",
    "\n",
    "        plotting.ratioHistPlot(\n",
    "            **plot_params,\n",
    "            bg_keys=bg_keys,\n",
    "            title=title,\n",
    "            name=f\"{plot_name}{jlabel}.pdf\",\n",
    "        )\n",
    "\n",
    "        if not do_jshift and plot_shifts:\n",
    "            plot_name = f\"{plot_dir}/wshifts/\" f\"{split_str}{rname}_region_{shape_var.var}\"\n",
    "\n",
    "            for wshift, wsyst in weight_shifts.items():\n",
    "                plotting.ratioHistPlot(\n",
    "                    **plot_params,\n",
    "                    bg_keys=bg_keys,\n",
    "                    syst=(wshift, wsyst.samples),\n",
    "                    title=f\"{region.label} Region {wsyst.label} Unc.\",\n",
    "                    name=f\"{plot_name}_{wshift}.pdf\",\n",
    "                )\n",
    "\n",
    "                for skey, shift in [(\"Down\", \"down\"), (\"Up\", \"up\")]:\n",
    "                    plotting.ratioHistPlot(\n",
    "                        **plot_params,\n",
    "                        bg_keys=p_bg_keys,  # don't plot QCD\n",
    "                        syst=(wshift, wsyst.samples),\n",
    "                        variation=shift,\n",
    "                        title=f\"{region.label} Region {wsyst.label} Unc. {skey} Shapes\",\n",
    "                        name=f\"{plot_name}_{wshift}_{shift}.pdf\",\n",
    "                        plot_ratio=False,\n",
    "                    )\n",
    "\n",
    "            if region.signal:\n",
    "                plotting.ratioHistPlot(\n",
    "                    **plot_params,\n",
    "                    bg_keys=bg_keys,\n",
    "                    sig_err=\"txbb\",\n",
    "                    title=rf\"{region.label} Region $T_{{Xbb}}$ Shapes\",\n",
    "                    name=f\"{plot_name}_txbb.pdf\",\n",
    "                )"
   ]
  }
 ],
 "metadata": {
  "kernelspec": {
   "display_name": "python39",
   "language": "python",
   "name": "python3"
  },
  "language_info": {
   "codemirror_mode": {
    "name": "ipython",
    "version": 3
   },
   "file_extension": ".py",
   "mimetype": "text/x-python",
   "name": "python",
   "nbconvert_exporter": "python",
   "pygments_lexer": "ipython3",
   "version": "3.9.15"
  }
 },
 "nbformat": 4,
 "nbformat_minor": 2
}
