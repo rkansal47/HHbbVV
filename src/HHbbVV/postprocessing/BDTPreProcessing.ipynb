{
 "cells": [
  {
   "cell_type": "code",
   "execution_count": 1,
   "metadata": {},
   "outputs": [],
   "source": [
    "import utils\n",
    "import plotting\n",
    "import postprocessing\n",
    "import numpy as np\n",
    "import warnings\n",
    "import pandas as pd\n",
    "from pandas.errors import SettingWithCopyWarning\n",
    "from hh_vars import samples, sig_key, data_key, jec_shifts, jmsr_shifts, jec_vars, jmsr_vars\n",
    "import os\n",
    "\n",
    "# ignore these because they don't seem to apply\n",
    "warnings.simplefilter(action=\"ignore\", category=SettingWithCopyWarning)\n",
    "\n",
    "from PyPDF2 import PdfFileMerger\n",
    "\n",
    "from copy import deepcopy\n",
    "\n",
    "import matplotlib.pyplot as plt\n",
    "import mplhep as hep\n",
    "import matplotlib.ticker as mticker\n",
    "\n",
    "plt.style.use(hep.style.CMS)\n",
    "hep.style.use(\"CMS\")\n",
    "formatter = mticker.ScalarFormatter(useMathText=True)\n",
    "formatter.set_powerlimits((-3, 3))\n",
    "plt.rcParams.update({\"font.size\": 16})"
   ]
  },
  {
   "cell_type": "code",
   "execution_count": 2,
   "metadata": {},
   "outputs": [],
   "source": [
    "%load_ext autoreload\n",
    "%autoreload 2"
   ]
  },
  {
   "cell_type": "code",
   "execution_count": 3,
   "metadata": {},
   "outputs": [],
   "source": [
    "plot_dir = \"../../../plots/BDTPreProcessing/Feb26\"\n",
    "_ = os.system(f\"mkdir -p {plot_dir}\")"
   ]
  },
  {
   "cell_type": "code",
   "execution_count": 10,
   "metadata": {},
   "outputs": [
    {
     "name": "stdout",
     "output_type": "stream",
     "text": [
      "Loaded GluGluToHHTobbVV_node_cHHH1                       : 149308 entries\n",
      "Loaded WJetsToQQ_HT-200to400                             : 0 entries\n",
      "Loaded ZJetsToQQ_HT-200to400                             : 1 entries\n",
      "Loaded ZJetsToQQ_HT-400to600                             : 1306 entries\n",
      "Loaded WJetsToQQ_HT-800toInf                             : 158899 entries\n",
      "Loaded ZJetsToQQ_HT-600to800                             : 76154 entries\n",
      "Loaded WJetsToQQ_HT-600to800                             : 34310 entries\n",
      "Loaded ZJetsToQQ_HT-800toInf                             : 333582 entries\n",
      "Loaded WJetsToQQ_HT-400to600                             : 258 entries\n",
      "Loaded JetHT_Run2017D                                    : 130200 entries\n",
      "Loaded JetHT_Run2017C                                    : 272452 entries\n",
      "Loaded JetHT_Run2017B                                    : 95093 entries\n",
      "Loaded JetHT_Run2017E                                    : 187074 entries\n",
      "Loaded JetHT_Run2017F                                    : 460408 entries\n",
      "Loaded WW                                                : 992 entries\n",
      "Loaded ZZ                                                : 1521 entries\n",
      "Loaded WZ                                                : 2385 entries\n",
      "Loaded QCD_HT300to500                                    : 15 entries\n",
      "Loaded QCD_HT200to300                                    : 0 entries\n",
      "Loaded QCD_HT700to1000                                   : 157942 entries\n",
      "Loaded QCD_HT1000to1500                                  : 99662 entries\n",
      "Loaded QCD_HT2000toInf                                   : 54150 entries\n",
      "Loaded QCD_HT1500to2000                                  : 97063 entries\n",
      "Loaded QCD_HT500to700                                    : 17600 entries\n",
      "Loaded TTToSemiLeptonic                                  : 558851 entries\n",
      "Loaded TTToHadronic                                      : 805878 entries\n",
      "Loaded ST_s-channel_4f_hadronicDecays                    : 20639 entries\n",
      "Loaded ST_tW_top_5f_inclusiveDecays                      : 18192 entries\n",
      "Loaded ST_tW_antitop_5f_inclusiveDecays                  : 13394 entries\n",
      "Loaded ST_s-channel_4f_leptonDecays                      : 14888 entries\n",
      "Loaded ST_t-channel_antitop_4f_InclusiveDecays           : 34920 entries\n",
      "Pre-selection HHbbVV yield: 3.13\n",
      "Pre-selection V+Jets yield: 66030.77\n",
      "Pre-selection Data yield: 1145227.00\n",
      "Pre-selection Diboson yield: 1009.59\n",
      "Pre-selection QCD yield: 2432299.35\n",
      "Pre-selection TT yield: 158732.71\n",
      "Pre-selection ST yield: 11138.87\n"
     ]
    }
   ],
   "source": [
    "MAIN_DIR = \"../../../\"\n",
    "samples_dir = f\"{MAIN_DIR}/../data/skimmer/Feb24\"\n",
    "signal_samples_dir = f\"{MAIN_DIR}/../data/skimmer/Feb24\"\n",
    "year = \"2017\"\n",
    "\n",
    "# Both Jet's Msds > 50 & at least one jet with Txbb > 0.8\n",
    "# filters = [\n",
    "#     [\n",
    "#         (\"('ak8FatJetMsd', '0')\", \">=\", 50),\n",
    "#         (\"('ak8FatJetMsd', '1')\", \">=\", 50),\n",
    "#         (\"('ak8FatJetParticleNetMD_Txbb', '0')\", \">=\", 0.8),\n",
    "#     ],\n",
    "#     [\n",
    "#         (\"('ak8FatJetMsd', '0')\", \">=\", 50),\n",
    "#         (\"('ak8FatJetMsd', '1')\", \">=\", 50),\n",
    "#         (\"('ak8FatJetParticleNetMD_Txbb', '1')\", \">=\", 0.8),\n",
    "#     ],\n",
    "# ]\n",
    "filters = None\n",
    "\n",
    "# save cutflow as pandas table\n",
    "cutflow = pd.DataFrame(index=list(samples.keys()))\n",
    "\n",
    "# utils.remove_empty_parquets(samples_dir, year)\n",
    "events_dict = utils.load_samples(signal_samples_dir, {sig_key: samples[sig_key]}, year, filters)\n",
    "events_dict |= utils.load_samples(\n",
    "    samples_dir, {k: samples[k] for k in samples.keys() - [sig_key]}, year, filters\n",
    ")\n",
    "\n",
    "utils.add_to_cutflow(events_dict, \"BDTPreselection\", \"weight\", cutflow)\n",
    "\n",
    "# print weighted sample yields\n",
    "for sample in events_dict:\n",
    "    tot_weight = np.sum(events_dict[sample][\"weight\"].values)\n",
    "    print(f\"Pre-selection {sample} yield: {tot_weight:.2f}\")"
   ]
  },
  {
   "cell_type": "code",
   "execution_count": 11,
   "metadata": {},
   "outputs": [
    {
     "name": "stdout",
     "output_type": "stream",
     "text": [
      "QCD_SCALE_FACTOR = 0.7929526717333836\n"
     ]
    },
    {
     "data": {
      "text/html": [
       "<div>\n",
       "<style scoped>\n",
       "    .dataframe tbody tr th:only-of-type {\n",
       "        vertical-align: middle;\n",
       "    }\n",
       "\n",
       "    .dataframe tbody tr th {\n",
       "        vertical-align: top;\n",
       "    }\n",
       "\n",
       "    .dataframe thead th {\n",
       "        text-align: right;\n",
       "    }\n",
       "</style>\n",
       "<table border=\"1\" class=\"dataframe\">\n",
       "  <thead>\n",
       "    <tr style=\"text-align: right;\">\n",
       "      <th></th>\n",
       "      <th>BDTPreselection</th>\n",
       "      <th>TriggerEffs</th>\n",
       "      <th>QCD SF</th>\n",
       "    </tr>\n",
       "  </thead>\n",
       "  <tbody>\n",
       "    <tr>\n",
       "      <th>HHbbVV</th>\n",
       "      <td>3.127295e+00</td>\n",
       "      <td>1.799148e+00</td>\n",
       "      <td>1.799148e+00</td>\n",
       "    </tr>\n",
       "    <tr>\n",
       "      <th>QCD</th>\n",
       "      <td>2.432299e+06</td>\n",
       "      <td>1.254014e+06</td>\n",
       "      <td>9.943734e+05</td>\n",
       "    </tr>\n",
       "    <tr>\n",
       "      <th>TT</th>\n",
       "      <td>1.587327e+05</td>\n",
       "      <td>1.025350e+05</td>\n",
       "      <td>1.025350e+05</td>\n",
       "    </tr>\n",
       "    <tr>\n",
       "      <th>ST</th>\n",
       "      <td>1.113887e+04</td>\n",
       "      <td>7.486989e+03</td>\n",
       "      <td>7.486989e+03</td>\n",
       "    </tr>\n",
       "    <tr>\n",
       "      <th>V+Jets</th>\n",
       "      <td>6.603077e+04</td>\n",
       "      <td>4.019325e+04</td>\n",
       "      <td>4.019325e+04</td>\n",
       "    </tr>\n",
       "    <tr>\n",
       "      <th>Diboson</th>\n",
       "      <td>1.009588e+03</td>\n",
       "      <td>6.383493e+02</td>\n",
       "      <td>6.383493e+02</td>\n",
       "    </tr>\n",
       "    <tr>\n",
       "      <th>Data</th>\n",
       "      <td>1.145227e+06</td>\n",
       "      <td>1.145227e+06</td>\n",
       "      <td>1.145227e+06</td>\n",
       "    </tr>\n",
       "  </tbody>\n",
       "</table>\n",
       "</div>"
      ],
      "text/plain": [
       "         BDTPreselection   TriggerEffs        QCD SF\n",
       "HHbbVV      3.127295e+00  1.799148e+00  1.799148e+00\n",
       "QCD         2.432299e+06  1.254014e+06  9.943734e+05\n",
       "TT          1.587327e+05  1.025350e+05  1.025350e+05\n",
       "ST          1.113887e+04  7.486989e+03  7.486989e+03\n",
       "V+Jets      6.603077e+04  4.019325e+04  4.019325e+04\n",
       "Diboson     1.009588e+03  6.383493e+02  6.383493e+02\n",
       "Data        1.145227e+06  1.145227e+06  1.145227e+06"
      ]
     },
     "execution_count": 11,
     "metadata": {},
     "output_type": "execute_result"
    }
   ],
   "source": [
    "postprocessing.apply_weights(events_dict, year, cutflow)\n",
    "bb_masks = postprocessing.bb_VV_assignment(events_dict)\n",
    "_ = postprocessing.postprocess_lpsfs(events_dict[sig_key], save_all=False)\n",
    "cutflow"
   ]
  },
  {
   "cell_type": "code",
   "execution_count": 12,
   "metadata": {},
   "outputs": [],
   "source": [
    "hists = {}"
   ]
  },
  {
   "cell_type": "code",
   "execution_count": 14,
   "metadata": {},
   "outputs": [
    {
     "name": "stdout",
     "output_type": "stream",
     "text": [
      "sig_scale = 273131.6483914272\n"
     ]
    }
   ],
   "source": [
    "control_plot_vars = postprocessing.control_plot_vars\n",
    "del control_plot_vars[\"BDTScore\"]\n",
    "\n",
    "hists = postprocessing.control_plots(\n",
    "    events_dict, bb_masks, control_plot_vars, plot_dir, hists=hists\n",
    ")"
   ]
  },
  {
   "cell_type": "code",
   "execution_count": 84,
   "metadata": {},
   "outputs": [],
   "source": [
    "BDT_samples = list(samples.keys())\n",
    "\n",
    "\n",
    "# TODO: Change VV msd to regressed mass?\n",
    "BDT_data_vars = [\n",
    "    \"MET_pt\",\n",
    "    \"DijetEta\",\n",
    "    \"DijetPt\",\n",
    "    \"DijetMass\",\n",
    "    \"bbFatJetPt\",\n",
    "    \"VVFatJetEta\",\n",
    "    \"VVFatJetPt\",\n",
    "    \"VVFatJetMsd\",\n",
    "    \"VVFatJetParTMD_THWW4q\",\n",
    "    \"VVFatJetParTMD_probQCD\",\n",
    "    \"VVFatJetParTMD_probHWW3q\",\n",
    "    \"VVFatJetParTMD_probHWW4q\",\n",
    "    \"VVFatJetParTMD_probT\",\n",
    "    \"bbFatJetParticleNetMD_Txbb\",\n",
    "    \"bbFatJetPtOverDijetPt\",\n",
    "    \"VVFatJetPtOverDijetPt\",\n",
    "    \"VVFatJetPtOverbbFatJetPt\",\n",
    "    \"finalWeight\",\n",
    "]\n",
    "\n",
    "jec_jmsr_vars = []\n",
    "\n",
    "for var in BDT_data_vars:\n",
    "    if var in jec_vars:\n",
    "        for jshift in jec_shifts:\n",
    "            jec_jmsr_vars.append(f\"{var}_{jshift}\")\n",
    "\n",
    "    if var in jmsr_vars:\n",
    "        for jshift in jmsr_shifts:\n",
    "            jec_jmsr_vars.append(f\"{var}_{jshift}\")\n",
    "\n",
    "\n",
    "bdt_events_dict = []\n",
    "\n",
    "for sample in BDT_samples:\n",
    "    save_vars = BDT_data_vars + jec_jmsr_vars if sample != \"Data\" else BDT_data_vars\n",
    "    events = pd.DataFrame(\n",
    "        {var: utils.get_feat(events_dict[sample], var, bb_masks[sample]) for var in save_vars}\n",
    "    )\n",
    "    events[\"Dataset\"] = sample\n",
    "    bdt_events_dict.append(events)\n",
    "\n",
    "bdt_events = pd.concat(bdt_events_dict, axis=0)\n",
    "\n",
    "import pyarrow.parquet as pq\n",
    "import pyarrow as pa\n",
    "\n",
    "table = pa.Table.from_pandas(bdt_events)\n",
    "pq.write_table(table, f\"{samples_dir}/{year}_bdt_data.parquet\")"
   ]
  },
  {
   "cell_type": "code",
   "execution_count": null,
   "metadata": {},
   "outputs": [],
   "source": []
  }
 ],
 "metadata": {
  "kernelspec": {
   "display_name": "python310",
   "language": "python",
   "name": "python3"
  },
  "language_info": {
   "codemirror_mode": {
    "name": "ipython",
    "version": 3
   },
   "file_extension": ".py",
   "mimetype": "text/x-python",
   "name": "python",
   "nbconvert_exporter": "python",
   "pygments_lexer": "ipython3",
   "version": "3.10.8"
  },
  "orig_nbformat": 4,
  "vscode": {
   "interpreter": {
    "hash": "15adc7883e707560d0d9727709639b8fe3f3cff1f197d2d643742923ff23a29c"
   }
  }
 },
 "nbformat": 4,
 "nbformat_minor": 2
}
