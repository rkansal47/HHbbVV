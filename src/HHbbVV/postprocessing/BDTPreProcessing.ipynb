{
 "cells": [
  {
   "cell_type": "code",
   "execution_count": 82,
   "metadata": {},
   "outputs": [],
   "source": [
    "import utils\n",
    "import plotting\n",
    "import postprocessing\n",
    "import numpy as np\n",
    "import warnings\n",
    "import pandas as pd\n",
    "from pandas.errors import SettingWithCopyWarning\n",
    "from hh_vars import samples, sig_key, data_key, jec_shifts, jmsr_shifts, jec_vars, jmsr_vars\n",
    "import os\n",
    "\n",
    "# ignore these because they don't seem to apply\n",
    "warnings.simplefilter(action=\"ignore\", category=SettingWithCopyWarning)\n",
    "\n",
    "from PyPDF2 import PdfFileMerger\n",
    "\n",
    "from copy import deepcopy\n",
    "\n",
    "import matplotlib.pyplot as plt\n",
    "import mplhep as hep\n",
    "import matplotlib.ticker as mticker\n",
    "\n",
    "plt.style.use(hep.style.CMS)\n",
    "hep.style.use(\"CMS\")\n",
    "formatter = mticker.ScalarFormatter(useMathText=True)\n",
    "formatter.set_powerlimits((-3, 3))\n",
    "plt.rcParams.update({\"font.size\": 16})"
   ]
  },
  {
   "cell_type": "code",
   "execution_count": null,
   "metadata": {},
   "outputs": [],
   "source": [
    "%load_ext autoreload\n",
    "%autoreload 2"
   ]
  },
  {
   "cell_type": "code",
   "execution_count": null,
   "metadata": {},
   "outputs": [],
   "source": [
    "plot_dir = \"../../../plots/BDTPreProcessing/Feb21\"\n",
    "_ = os.system(f\"mkdir -p {plot_dir}\")"
   ]
  },
  {
   "cell_type": "code",
   "execution_count": null,
   "metadata": {},
   "outputs": [],
   "source": [
    "MAIN_DIR = \"../../../\"\n",
    "samples_dir = f\"{MAIN_DIR}/../data/skimmer/Feb20\"\n",
    "signal_samples_dir = f\"{MAIN_DIR}/../data/skimmer/Feb20\"\n",
    "year = \"2017\"\n",
    "\n",
    "# Both Jet's Msds > 50 & at least one jet with Txbb > 0.8\n",
    "# filters = [\n",
    "#     [\n",
    "#         (\"('ak8FatJetMsd', '0')\", \">=\", 50),\n",
    "#         (\"('ak8FatJetMsd', '1')\", \">=\", 50),\n",
    "#         (\"('ak8FatJetParticleNetMD_Txbb', '0')\", \">=\", 0.8),\n",
    "#     ],\n",
    "#     [\n",
    "#         (\"('ak8FatJetMsd', '0')\", \">=\", 50),\n",
    "#         (\"('ak8FatJetMsd', '1')\", \">=\", 50),\n",
    "#         (\"('ak8FatJetParticleNetMD_Txbb', '1')\", \">=\", 0.8),\n",
    "#     ],\n",
    "# ]\n",
    "filters = None\n",
    "\n",
    "# save cutflow as pandas table\n",
    "cutflow = pd.DataFrame(index=list(samples.keys()))\n",
    "\n",
    "# utils.remove_empty_parquets(samples_dir, year)\n",
    "events_dict = utils.load_samples(signal_samples_dir, {sig_key: samples[sig_key]}, year, filters)\n",
    "events_dict |= utils.load_samples(\n",
    "    samples_dir, {k: samples[k] for k in samples.keys() - [sig_key]}, year, filters\n",
    ")\n",
    "\n",
    "utils.add_to_cutflow(events_dict, \"BDTPreselection\", \"weight\", cutflow)\n",
    "\n",
    "# print weighted sample yields\n",
    "for sample in events_dict:\n",
    "    tot_weight = np.sum(events_dict[sample][\"weight\"].values)\n",
    "    print(f\"Pre-selection {sample} yield: {tot_weight:.2f}\")"
   ]
  },
  {
   "cell_type": "code",
   "execution_count": null,
   "metadata": {},
   "outputs": [],
   "source": [
    "postprocessing.apply_weights(events_dict, year, cutflow)\n",
    "bb_masks = postprocessing.bb_VV_assignment(events_dict)\n",
    "_ = postprocessing.postprocess_lpsfs(events_dict[sig_key], save_all=False)\n",
    "cutflow"
   ]
  },
  {
   "cell_type": "code",
   "execution_count": null,
   "metadata": {},
   "outputs": [],
   "source": [
    "hists = {}"
   ]
  },
  {
   "cell_type": "code",
   "execution_count": null,
   "metadata": {},
   "outputs": [],
   "source": [
    "control_plot_vars = postprocessing.control_plot_vars\n",
    "del control_plot_vars[\"BDTScore\"]\n",
    "\n",
    "hists = postprocessing.control_plots(\n",
    "    events_dict, bb_masks, control_plot_vars, plot_dir, hists=hists\n",
    ")"
   ]
  },
  {
   "cell_type": "code",
   "execution_count": 84,
   "metadata": {},
   "outputs": [],
   "source": [
    "BDT_samples = list(samples.keys())\n",
    "\n",
    "\n",
    "# TODO: Change VV msd to regressed mass?\n",
    "BDT_data_vars = [\n",
    "    \"MET_pt\",\n",
    "    \"DijetEta\",\n",
    "    \"DijetPt\",\n",
    "    \"DijetMass\",\n",
    "    \"bbFatJetPt\",\n",
    "    \"VVFatJetEta\",\n",
    "    \"VVFatJetPt\",\n",
    "    \"VVFatJetMsd\",\n",
    "    \"VVFatJetParTMD_THWW4q\",\n",
    "    \"VVFatJetParTMD_probQCD\",\n",
    "    \"VVFatJetParTMD_probHWW3q\",\n",
    "    \"VVFatJetParTMD_probHWW4q\",\n",
    "    \"VVFatJetParTMD_probT\",\n",
    "    \"bbFatJetParticleNetMD_Txbb\",\n",
    "    \"bbFatJetPtOverDijetPt\",\n",
    "    \"VVFatJetPtOverDijetPt\",\n",
    "    \"VVFatJetPtOverbbFatJetPt\",\n",
    "    \"finalWeight\",\n",
    "]\n",
    "\n",
    "jec_jmsr_vars = []\n",
    "\n",
    "for var in BDT_data_vars:\n",
    "    if var in jec_vars:\n",
    "        for jshift in jec_shifts:\n",
    "            jec_jmsr_vars.append(f\"{var}_{jshift}\")\n",
    "\n",
    "    if var in jmsr_vars:\n",
    "        for jshift in jmsr_shifts:\n",
    "            jec_jmsr_vars.append(f\"{var}_{jshift}\")\n",
    "\n",
    "\n",
    "bdt_events_dict = []\n",
    "\n",
    "for sample in BDT_samples:\n",
    "    save_vars = BDT_data_vars + jec_jmsr_vars if sample != \"Data\" else BDT_data_vars\n",
    "    events = pd.DataFrame(\n",
    "        {var: utils.get_feat(events_dict[sample], var, bb_masks[sample]) for var in save_vars}\n",
    "    )\n",
    "    events[\"Dataset\"] = sample\n",
    "    bdt_events_dict.append(events)\n",
    "\n",
    "bdt_events = pd.concat(bdt_events_dict, axis=0)\n",
    "\n",
    "import pyarrow.parquet as pq\n",
    "import pyarrow as pa\n",
    "\n",
    "table = pa.Table.from_pandas(bdt_events)\n",
    "pq.write_table(table, f\"{samples_dir}/{year}_bdt_data.parquet\")"
   ]
  },
  {
   "cell_type": "code",
   "execution_count": null,
   "metadata": {},
   "outputs": [],
   "source": []
  }
 ],
 "metadata": {
  "kernelspec": {
   "display_name": "python310",
   "language": "python",
   "name": "python3"
  },
  "language_info": {
   "codemirror_mode": {
    "name": "ipython",
    "version": 3
   },
   "file_extension": ".py",
   "mimetype": "text/x-python",
   "name": "python",
   "nbconvert_exporter": "python",
   "pygments_lexer": "ipython3",
   "version": "3.10.8"
  },
  "orig_nbformat": 4,
  "vscode": {
   "interpreter": {
    "hash": "15adc7883e707560d0d9727709639b8fe3f3cff1f197d2d643742923ff23a29c"
   }
  }
 },
 "nbformat": 4,
 "nbformat_minor": 2
}
