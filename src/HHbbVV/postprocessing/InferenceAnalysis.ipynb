{
 "cells": [
  {
   "attachments": {},
   "cell_type": "markdown",
   "metadata": {},
   "source": [
    "Takes the skimmed parquet files (output of bbVVSkimmer) and evaluates the HWW Tagger.\n",
    "\n",
    "Author(s): Raghav Kansal"
   ]
  },
  {
   "cell_type": "code",
   "execution_count": null,
   "metadata": {},
   "outputs": [],
   "source": [
    "import numpy as np\n",
    "import pandas as pd\n",
    "import matplotlib.pyplot as plt\n",
    "import mplhep as hep\n",
    "\n",
    "plt.rcParams.update({\"font.size\": 16})\n",
    "plt.style.use(hep.style.CMS)\n",
    "hep.style.use(\"CMS\")\n",
    "\n",
    "import os\n",
    "from os import listdir\n",
    "from os.path import exists\n",
    "import pickle\n",
    "\n",
    "import utils\n",
    "from hh_vars import samples, sig_key\n",
    "\n",
    "MAIN_DIR = \"../../../\""
   ]
  },
  {
   "cell_type": "code",
   "execution_count": null,
   "metadata": {},
   "outputs": [],
   "source": [
    "%load_ext autoreload\n",
    "%autoreload 2"
   ]
  },
  {
   "cell_type": "code",
   "execution_count": null,
   "metadata": {},
   "outputs": [],
   "source": [
    "plot_dir = f\"{MAIN_DIR}/plots/TaggerAnalysis/23Feb7\"\n",
    "os.system(f\"mkdir -p {plot_dir}\")\n",
    "\n",
    "samples_dir = f\"{MAIN_DIR}/../data/skimmer/Jan31\"\n",
    "signal_samples_dir = f\"{MAIN_DIR}/../data/skimmer/Feb3\"\n",
    "# samples_dir = f\"/eos/uscms/store/user/rkansal/bbVV/skimmer/Jan31/\"\n",
    "\n",
    "year = \"2017\""
   ]
  },
  {
   "cell_type": "code",
   "execution_count": null,
   "metadata": {},
   "outputs": [],
   "source": [
    "events_dict = utils.load_samples(signal_samples_dir, {sig_key: samples[sig_key]}, year)\n",
    "# events_dict[\"HHbbVV\"] = pd.read_parquet(\"../../../0-1.parquet\")\n",
    "# events_dict[\"HHbbVV\"] = utils.load_samples(samples_dir, {sig_key: samples[sig_key]}, year)[\"HHbbVV\"]"
   ]
  },
  {
   "cell_type": "code",
   "execution_count": null,
   "metadata": {},
   "outputs": [],
   "source": [
    "# (column name, number of subcolumns)\n",
    "save_columns = [\n",
    "    (\"weight\", 1),\n",
    "    (\"ak8FatJetPt\", 2),\n",
    "    (\"ak8FatJetMsd\", 2),\n",
    "    (\"ak8FatJetParTMD_THWW4q\", 2),\n",
    "    (\"ak8FatJetParticleNet_Th4q\", 2),\n",
    "]"
   ]
  },
  {
   "attachments": {},
   "cell_type": "markdown",
   "metadata": {},
   "source": [
    "### Signal Processing"
   ]
  },
  {
   "cell_type": "code",
   "execution_count": null,
   "metadata": {},
   "outputs": [],
   "source": [
    "events = events_dict[sig_key]\n",
    "\n",
    "# get 4-vectors\n",
    "vec_keys = [\"ak8FatJet\", \"GenHiggs\", \"Genbb\", \"GenVV\", \"Gen4q\"]\n",
    "vectors = {vec_key: utils.make_vector(events, vec_key) for vec_key in vec_keys}\n",
    "\n",
    "is_HVV = utils.getParticles(utils.get_feat(events, \"GenHiggsChildren\"), \"V\")\n",
    "is_Hbb = utils.getParticles(utils.get_feat(events, \"GenHiggsChildren\"), \"b\")\n",
    "\n",
    "genHVV = vectors[\"GenHiggs\"][is_HVV]\n",
    "genHbb = vectors[\"GenHiggs\"][is_Hbb]\n",
    "\n",
    "masks = (vectors[\"ak8FatJet\"][:, 0].deltaR(genHVV) < vectors[\"ak8FatJet\"][:, 1].deltaR(genHVV))\n",
    "masks = np.stack([masks, ~masks]).T\n",
    "# dR = 1.0\n",
    "# masks = np.stack([vectors[\"ak8FatJet\"][:, i].deltaR(genHVV) < dR for i in range(2)]).T"
   ]
  },
  {
   "cell_type": "code",
   "execution_count": null,
   "metadata": {},
   "outputs": [],
   "source": [
    "sig_dict = {}\n",
    "\n",
    "for column, num_idx in save_columns:\n",
    "    if num_idx == 1:\n",
    "        sig_dict[column] = np.tile(events[column].values, 2)[masks]\n",
    "    else:\n",
    "        sig_dict[column] = np.nan_to_num(events[column].values[masks], copy=True, nan=0)\n",
    "\n",
    "events_dict[sig_key] = sig_dict"
   ]
  },
  {
   "attachments": {},
   "cell_type": "markdown",
   "metadata": {},
   "source": [
    "### Background Processing"
   ]
  },
  {
   "cell_type": "code",
   "execution_count": null,
   "metadata": {},
   "outputs": [],
   "source": [
    "full_samples_list = listdir(f\"{samples_dir}/{year}\")\n",
    "\n",
    "# reformat into (\"column name\", \"idx\") format for reading multiindex columns\n",
    "bg_column_labels = []\n",
    "for key, num_columns in save_columns:\n",
    "    for i in range(num_columns):\n",
    "        bg_column_labels.append(f\"('{key}', '{i}')\")\n",
    "\n",
    "\n",
    "# bg_keys = [\"TT\", \"QCD\"]\n",
    "bg_keys = [\"QCD\"]\n",
    "\n",
    "for bg_key in bg_keys:\n",
    "    events_dict[bg_key] = {}\n",
    "    for sample in full_samples_list:\n",
    "        if bg_key not in sample:\n",
    "            continue\n",
    "\n",
    "        if \"HH\" in sample or \"GluGluH\" in sample:\n",
    "            continue\n",
    "\n",
    "        if not exists(f\"{samples_dir}/{year}/{sample}/parquet\"):\n",
    "            print(f\"No parquet file for {sample}\")\n",
    "            continue\n",
    "\n",
    "        print(sample)\n",
    "\n",
    "        with utils.timer():\n",
    "            events = pd.read_parquet(\n",
    "                f\"{samples_dir}/{year}/{sample}/parquet\",\n",
    "                columns=bg_column_labels,\n",
    "            )\n",
    "\n",
    "        pickles_path = f\"{samples_dir}/{year}/{sample}/pickles\"\n",
    "        n_events = utils.get_nevents(pickles_path, year, sample)\n",
    "        events[\"weight\"] /= n_events\n",
    "\n",
    "        for var, num_idx in save_columns:\n",
    "            if num_idx == 1:\n",
    "                values = np.tile(events[var].values, 2).reshape(-1)\n",
    "            else:\n",
    "                values = np.reshape(events[var].values, -1)\n",
    "\n",
    "            if var in events_dict[bg_key]:\n",
    "                events_dict[bg_key][var] = np.concatenate(\n",
    "                    (events_dict[bg_key][var], values), axis=0\n",
    "                )\n",
    "            else:\n",
    "                events_dict[bg_key][var] = values\n"
   ]
  },
  {
   "cell_type": "code",
   "execution_count": null,
   "metadata": {},
   "outputs": [],
   "source": [
    "# print weighted sample yields\n",
    "for sample in events_dict:\n",
    "    tot_weight = np.sum(events_dict[sample][\"weight\"])\n",
    "    print(f\"Pre-selection {sample} yield: {tot_weight:.2f}\")"
   ]
  },
  {
   "attachments": {},
   "cell_type": "markdown",
   "metadata": {},
   "source": [
    "### Cuts"
   ]
  },
  {
   "cell_type": "code",
   "execution_count": null,
   "metadata": {},
   "outputs": [],
   "source": [
    "\"\"\"\n",
    "``cuts_dict`` will be of format:\n",
    "{\n",
    "    sample1: {\n",
    "        \"cut1var1_min_max_cut1var2...\": cut1,\n",
    "        \"cut2var2...\": cut2,\n",
    "        ...\n",
    "    },\n",
    "    sample2...\n",
    "}\n",
    "\"\"\"\n",
    "pt_key = \"Pt\"\n",
    "msd_key = \"Msd\"\n",
    "var_prefix = \"ak8FatJet\"\n",
    "\n",
    "cutvars_dict = {\"Pt\": \"pt\", \"Msd\": \"msoftdrop\"}\n",
    "\n",
    "all_cuts = [\n",
    "    {pt_key: [300, 1500], msd_key: [20, 320]},\n",
    "    {pt_key: [400, 600], msd_key: [60, 150]},\n",
    "    # {pt_key: [300, 1500], msd_key: [110, 140]},\n",
    "]\n",
    "\n",
    "var_labels = {pt_key: \"pT\", msd_key: \"mSD\"}\n",
    "\n",
    "cuts_dict = {}\n",
    "cut_labels = {}  # labels for plot titles, formatted as \"var1label: [min, max] var2label...\"\n",
    "\n",
    "for sample, events in events_dict.items():\n",
    "    # print(sample)\n",
    "    cuts_dict[sample] = {}\n",
    "    for cutvars in all_cuts:\n",
    "        cutstrs = []\n",
    "        cutlabel = []\n",
    "        cuts = []\n",
    "        for cutvar, (cutmin, cutmax) in cutvars.items():\n",
    "            cutstrs.append(f\"{cutvars_dict[cutvar]}_{cutmin}_{cutmax}\")\n",
    "            cutlabel.append(f\"{var_labels[cutvar]}: [{cutmin}, {cutmax}]\")\n",
    "            cuts.append(events[f\"{var_prefix}{cutvar}\"] >= cutmin)\n",
    "            cuts.append(events[f\"{var_prefix}{cutvar}\"] < cutmax)\n",
    "\n",
    "        cutstr = \"_\".join(cutstrs)\n",
    "        cut = np.prod(cuts, axis=0)\n",
    "        cuts_dict[sample][cutstr] = cut.astype(bool)\n",
    "\n",
    "        if cutstr not in cut_labels:\n",
    "            cut_labels[cutstr] = \" \".join(cutlabel)"
   ]
  },
  {
   "cell_type": "markdown",
   "metadata": {},
   "source": [
    "### Histograms"
   ]
  },
  {
   "cell_type": "code",
   "execution_count": null,
   "metadata": {},
   "outputs": [],
   "source": [
    "plot_vars = {\n",
    "    \"th4q\": {\n",
    "        \"title\": \"ParticleNet Non-MD Th4q\",\n",
    "        \"score_label\": \"ak8FatJetParticleNet_Th4q\",\n",
    "        \"colour\": \"orange\",\n",
    "    },\n",
    "    \"thvv4q\": {\n",
    "        \"title\": \"ParT MD THVV4q\",\n",
    "        \"score_label\": \"ak8FatJetParTMD_THWW4q\",\n",
    "        \"colour\": \"green\",\n",
    "    },\n",
    "}\n",
    "\n",
    "samples = {\"qcd\": \"QCD\", \"HHbbVV\": \"HHbbVV\"}\n",
    "\n",
    "plt.rcParams.update({\"font.size\": 16})\n",
    "plt.style.use(hep.style.CMS)\n",
    "hep.style.use(\"CMS\")\n",
    "\n",
    "for t, pvars in plot_vars.items():\n",
    "    for cutstr in cut_labels:\n",
    "        plt.figure(figsize=(16, 12))\n",
    "        plt.suptitle(f\"HVV FatJet {pvars['title']} Scores\", y=0.95)\n",
    "        plt.title(cut_labels[cutstr], fontsize=20)\n",
    "\n",
    "        for sample, colour, skip in [(\"HHbbVV\", \"red\", 1), (\"QCD\", \"deepskyblue\", 4)]:\n",
    "            _ = plt.hist(\n",
    "                events_dict[sample][pvars[\"score_label\"]][cuts_dict[sample][cutstr]][::skip],\n",
    "                histtype=\"step\",\n",
    "                bins=np.linspace(0, 1, 101),\n",
    "                label=f\"{sample}\",\n",
    "                linewidth=2,\n",
    "                color=colour,\n",
    "                density=True,\n",
    "                weights=events_dict[sample][\"weight\"][cuts_dict[sample][cutstr]][::skip],\n",
    "            )\n",
    "\n",
    "        plt.ylabel(\"Normalized # Jets\")\n",
    "        plt.xlabel(f\"{pvars['title']} Score\")\n",
    "        plt.legend()\n",
    "        plt.savefig(\n",
    "            f\"{plot_dir}/{t}_hist_{cutstr}.pdf\",\n",
    "            bbox_inches=\"tight\",\n",
    "        )"
   ]
  },
  {
   "attachments": {},
   "cell_type": "markdown",
   "metadata": {},
   "source": [
    "### ROCs"
   ]
  },
  {
   "cell_type": "code",
   "execution_count": null,
   "metadata": {},
   "outputs": [],
   "source": [
    "from sklearn.metrics import roc_curve, auc\n",
    "\n",
    "rocs = {}\n",
    "sig_key = \"HHbbVV\"\n",
    "bg_key = \"QCD\"\n",
    "bg_skip = 4\n",
    "\n",
    "for cutstr in cut_labels:\n",
    "    rocs[cutstr] = {}\n",
    "\n",
    "    sig_cut = cuts_dict[sig_key][cutstr]\n",
    "    bg_cut = cuts_dict[bg_key][cutstr]\n",
    "\n",
    "    y_true = np.concatenate(\n",
    "        [\n",
    "            np.ones(np.sum(sig_cut)),\n",
    "            np.zeros(int(np.ceil(np.sum(bg_cut) / bg_skip))),\n",
    "        ]\n",
    "    )\n",
    "\n",
    "    weights = np.concatenate(\n",
    "        (events_dict[sig_key][\"weight\"][sig_cut], events_dict[bg_key][\"weight\"][bg_cut][::bg_skip])\n",
    "    )\n",
    "\n",
    "    for t, pvars in plot_vars.items():\n",
    "        print(t)\n",
    "        score_label = pvars[\"score_label\"]\n",
    "        scores = np.concatenate(\n",
    "            (\n",
    "                events_dict[sig_key][score_label][sig_cut],\n",
    "                events_dict[bg_key][score_label][bg_cut][::bg_skip],\n",
    "            )\n",
    "        )\n",
    "        fpr, tpr, thresholds = roc_curve(y_true, scores, sample_weight=weights)\n",
    "        rocs[cutstr][t] = {\"fpr\": fpr, \"tpr\": tpr, \"thresholds\": thresholds, \"auc\": auc(fpr, tpr)}"
   ]
  },
  {
   "cell_type": "code",
   "execution_count": null,
   "metadata": {},
   "outputs": [],
   "source": [
    "xlim = [0, 0.6]\n",
    "ylim = [1e-6, 1]\n",
    "\n",
    "for cutstr in cut_labels:\n",
    "    plt.figure(figsize=(12, 12))\n",
    "    for t, pvars in plot_vars.items():\n",
    "        plt.plot(\n",
    "            rocs[cutstr][t][\"tpr\"][::10],\n",
    "            rocs[cutstr][t][\"fpr\"][::10],\n",
    "            label=f\"{pvars['title']} AUC: {rocs[cutstr][t]['auc']:.2f}\",\n",
    "            linewidth=2,\n",
    "            color=pvars[\"colour\"],\n",
    "        )\n",
    "        plt.vlines(\n",
    "            x=rocs[cutstr][t][\"tpr\"][np.searchsorted(rocs[cutstr][t][\"fpr\"], 0.01)],\n",
    "            ymin=0,\n",
    "            ymax=0.01,\n",
    "            colors=pvars[\"colour\"],\n",
    "            linestyles=\"dashed\",\n",
    "        )\n",
    "    plt.hlines(y=0.01, xmin=0, xmax=1, colors=\"lightgrey\", linestyles=\"dashed\")\n",
    "    plt.yscale(\"log\")\n",
    "    plt.xlabel(\"Signal Eff.\")\n",
    "    plt.ylabel(\"BG Eff.\")\n",
    "    plt.suptitle(\"HVV FatJet ROC Curves\", y=0.95)\n",
    "    plt.title(cut_labels[cutstr], fontsize=20)\n",
    "    plt.xlim(*xlim)\n",
    "    plt.ylim(*ylim)\n",
    "    plt.legend()\n",
    "    plt.savefig(f\"{plot_dir}/roccurve_{cutstr}.pdf\", bbox_inches=\"tight\")\n"
   ]
  },
  {
   "cell_type": "code",
   "execution_count": null,
   "metadata": {},
   "outputs": [],
   "source": []
  }
 ],
 "metadata": {
  "kernelspec": {
   "display_name": "Python 3",
   "language": "python",
   "name": "python3"
  },
  "language_info": {
   "codemirror_mode": {
    "name": "ipython",
    "version": 3
   },
   "file_extension": ".py",
   "mimetype": "text/x-python",
   "name": "python",
   "nbconvert_exporter": "python",
   "pygments_lexer": "ipython3",
   "version": "3.10.4"
  },
  "orig_nbformat": 4,
  "vscode": {
   "interpreter": {
    "hash": "31a7b1cb5f073f7a7d37b3db504c6954ce2b88e0f82e412b65ad0b5f2dd17394"
   }
  }
 },
 "nbformat": 4,
 "nbformat_minor": 2
}
