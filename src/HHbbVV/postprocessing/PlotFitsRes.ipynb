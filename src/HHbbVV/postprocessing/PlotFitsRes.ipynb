{
 "cells": [
  {
   "cell_type": "markdown",
   "metadata": {},
   "source": [
    "# Resonant Post-fit Plots"
   ]
  },
  {
   "cell_type": "code",
   "execution_count": 1,
   "metadata": {},
   "outputs": [],
   "source": [
    "from __future__ import annotations\n",
    "\n",
    "import os\n",
    "from collections import OrderedDict\n",
    "import pickle\n",
    "\n",
    "import hist\n",
    "import matplotlib.pyplot as plt\n",
    "import numpy as np\n",
    "import plotting\n",
    "import uproot\n",
    "from HHbbVV.hh_vars import data_key, bg_keys, years\n",
    "from hist import Hist\n",
    "from HHbbVV.postprocessing.postprocessing import res_shape_vars\n",
    "from HHbbVV.postprocessing import PlotFitsRes\n",
    "from pathlib import Path\n",
    "\n",
    "from datacardHelpers import sum_templates"
   ]
  },
  {
   "cell_type": "code",
   "execution_count": 2,
   "metadata": {},
   "outputs": [],
   "source": [
    "%load_ext autoreload\n",
    "%autoreload 2"
   ]
  },
  {
   "cell_type": "code",
   "execution_count": 3,
   "metadata": {},
   "outputs": [],
   "source": [
    "MAIN_DIR = \"../../../\"\n",
    "\n",
    "plot_dir = Path(f\"{MAIN_DIR}/plots/PostFit/25Jul3Approval\")\n",
    "plot_dir.mkdir(exist_ok=True, parents=True)"
   ]
  },
  {
   "cell_type": "code",
   "execution_count": 4,
   "metadata": {},
   "outputs": [],
   "source": [
    "cards_dir = \"25Mar11nTFQCD11nTF21\"\n",
    "file = uproot.open(\n",
    "    # f\"/uscms/home/rkansal/hhcombine/cards/{cards_dir}/FitShapesB.root\"\n",
    "    f\"/home/users/rkansal/combineenv/CMSSW_11_3_4/src/cards/{cards_dir}/FitShapesS.root\"\n",
    "    # f\"/uscms/home/rkansal/eos/bbVV/cards/{cards_dir}/FitShapes.root\"\n",
    ")"
   ]
  },
  {
   "cell_type": "code",
   "execution_count": null,
   "metadata": {},
   "outputs": [],
   "source": [
    "fitd_file = uproot.open(\n",
    "    f\"/home/users/rkansal/combineenv/CMSSW_11_3_4/src/cards/{cards_dir}/higgsCombine.FitDiagnostics.mH125.root\"\n",
    ")\n",
    "sig_strength = fitd_file[\"limit\"][\"limit\"].array()[0]\n",
    "print(sig_strength)"
   ]
  },
  {
   "cell_type": "code",
   "execution_count": 6,
   "metadata": {},
   "outputs": [],
   "source": [
    "templates_dir = Path(\"templates/25Feb6ResBackgrounds\")\n",
    "\n",
    "templates_dict = {}\n",
    "for year in years:\n",
    "    with (templates_dir / f\"{year}_templates.pkl\").open(\"rb\") as f:\n",
    "        templates_dict[year] = pickle.load(f)\n",
    "pre_templates = sum_templates(templates_dict, years)"
   ]
  },
  {
   "cell_type": "code",
   "execution_count": 7,
   "metadata": {},
   "outputs": [],
   "source": [
    "# mx, my = 3000, 250\n",
    "mx, my = 900, 80\n",
    "\n",
    "bg_keys = [k for k in bg_keys if k != \"HWW\"]\n",
    "sig_key = f\"X[{mx}]->HY[{my}]\"\n",
    "\n",
    "# (name in templates, name in cards)\n",
    "hist_label_map_inverse = OrderedDict(\n",
    "    [\n",
    "        (\"QCD\", \"CMS_XHYbbWW_boosted_qcd_datadriven\"),\n",
    "        # (\"Diboson\", \"diboson\"),\n",
    "        (\"TT\", \"ttbar\"),\n",
    "        (\"ST\", \"singletop\"),\n",
    "        (\"Z+Jets\", \"zjets\"),\n",
    "        (\"W+Jets\", \"wjets\"),\n",
    "        # (\"X[3000]->H(bb)Y[190](VV)\", \"xhy_mx3000_my190\"),\n",
    "        (f\"X[{mx}]->HY[{my}]\", f\"xhy_mx{mx}_my{my}\"),\n",
    "        (data_key, \"data_obs\"),\n",
    "    ]\n",
    ")\n",
    "\n",
    "hist_label_map = {val: key for key, val in hist_label_map_inverse.items()}\n",
    "samples = bg_keys + [sig_key, data_key]"
   ]
  },
  {
   "cell_type": "code",
   "execution_count": 23,
   "metadata": {},
   "outputs": [],
   "source": [
    "sig_templates_dir = Path(\n",
    "    f\"/ceph/cms/store/user/rkansal/bbVV/templates/25Feb8XHYFix/NMSSM_XToYHTo2W2BTo4Q2B_MX-{mx}_MY-{my}/\"\n",
    ")\n",
    "\n",
    "sig_templates = {}\n",
    "for year in years:\n",
    "    with (sig_templates_dir / f\"{year}_templates.pkl\").open(\"rb\") as f:\n",
    "        sig_templates[year] = pickle.load(f)\n",
    "pre_sig_templates = sum_templates(sig_templates, years)"
   ]
  },
  {
   "cell_type": "code",
   "execution_count": 8,
   "metadata": {},
   "outputs": [],
   "source": [
    "shapes = {\n",
    "    \"prefit\": \"Pre-Fit\",\n",
    "    # \"shapes_fit_s\": \"S+B Post-Fit\",\n",
    "    \"postfit\": \"B-only Post-Fit\",\n",
    "}\n",
    "\n",
    "shape_vars = res_shape_vars\n",
    "\n",
    "selection_regions = OrderedDict(\n",
    "    [\n",
    "        (\"fail\", \"FM SF\"),\n",
    "        (\"pass\", \"FM SP\"),\n",
    "        (\"failBlinded\", \"FM VF\"),\n",
    "        (\"passBlinded\", \"FM VP\"),\n",
    "    ]\n",
    ")"
   ]
  },
  {
   "cell_type": "code",
   "execution_count": 9,
   "metadata": {},
   "outputs": [],
   "source": [
    "hists = {}\n",
    "bgerrs = {}\n",
    "bgtots = {}\n",
    "\n",
    "bins = list(shape_vars[0].axis)\n",
    "binsize = np.array([b[1] - b[0] for b in bins])\n",
    "\n",
    "for shape in shapes:\n",
    "    hists[shape] = {\n",
    "        region: Hist(\n",
    "            hist.axis.StrCategory(samples, name=\"Sample\"),\n",
    "            *[shape_var.axis for shape_var in shape_vars],\n",
    "            storage=\"double\",\n",
    "        )\n",
    "        for region in selection_regions\n",
    "    }\n",
    "    bgerrs[shape] = {}\n",
    "    bgtots[shape] = {}\n",
    "\n",
    "    for region in selection_regions:\n",
    "        h = hists[shape][region]\n",
    "        bgerrs[shape][region] = []\n",
    "        bgtots[shape][region] = []\n",
    "\n",
    "        for i in range(len(shape_vars[1].axis)):  # mX bins\n",
    "            # templates = file[shape][f\"mXbin{i}{region}\"]\n",
    "            templates = file[f\"mXbin{i}{region}_{shape}\"]\n",
    "            for key, file_key in hist_label_map_inverse.items():\n",
    "                if key != data_key:\n",
    "                    if file_key not in templates:\n",
    "                        # print(f\"No {key} in mXbin{i}{region}\")\n",
    "                        continue\n",
    "\n",
    "                    data_key_index = np.where(np.array(list(h.axes[0])) == key)[0][0]\n",
    "                    # h.view(flow=False)[data_key_index, :, i] = (\n",
    "                    #     templates[file_key].values() * binsize\n",
    "                    # )\n",
    "                    h.view(flow=False)[data_key_index, :, i] = templates[file_key].values()\n",
    "\n",
    "            # if key not in fit output, take from templates\n",
    "            for key in bg_keys:\n",
    "                if key not in hist_label_map_inverse:\n",
    "                    data_key_index = np.where(np.array(list(h.axes[0])) == key)[0][0]\n",
    "                    h.view(flow=False)[data_key_index, :] = pre_templates[region][key, ...].values()\n",
    "\n",
    "            data_key_index = np.where(np.array(list(h.axes[0])) == data_key)[0][0]\n",
    "            # h.view(flow=False)[data_key_index, :, i] = (\n",
    "            #     templates[hist_label_map_inverse[data_key]].values()[1] * binsize\n",
    "            # )\n",
    "            h.view(flow=False)[data_key_index, :, i] = np.nan_to_num(\n",
    "                templates[hist_label_map_inverse[data_key]].values()\n",
    "            )\n",
    "\n",
    "            bgerrs[shape][region].append(templates[\"TotalBkg\"].errors())\n",
    "            bgtots[shape][region].append(templates[\"TotalBkg\"].values())\n",
    "\n",
    "        bgerrs[shape][region] = np.array(bgerrs[shape][region])\n",
    "        bgtots[shape][region] = np.array(bgtots[shape][region])\n",
    "        bgerrs[shape][region] = np.minimum(bgerrs[shape][region], bgtots[shape][region])"
   ]
  },
  {
   "cell_type": "markdown",
   "metadata": {},
   "source": [
    "## 1D Projected plots"
   ]
  },
  {
   "cell_type": "code",
   "execution_count": null,
   "metadata": {},
   "outputs": [],
   "source": [
    "pass_ylims = [50, 8]\n",
    "fail_ylims = [14000, 1700]\n",
    "scale = 1\n",
    "sig_scale = 2\n",
    "preliminary = True\n",
    "\n",
    "for shape, shape_label in shapes.items():\n",
    "    if \"postfit\" not in shape:\n",
    "        continue\n",
    "    for i, shape_var in enumerate(shape_vars):\n",
    "        # add \"invisible\" subplots between main plots to add spacing\n",
    "        # https://stackoverflow.com/a/53643819/3759946\n",
    "        fig, axs = plt.subplots(\n",
    "            5,\n",
    "            3,\n",
    "            figsize=(25, 30),\n",
    "            gridspec_kw=dict(\n",
    "                height_ratios=[3, 1, 0.3, 3, 1], width_ratios=[1, 0.12, 1], hspace=0.1, wspace=0\n",
    "            ),\n",
    "        )\n",
    "\n",
    "        for ax in axs[2]:\n",
    "            ax.set_visible(False)\n",
    "\n",
    "        for ax in axs[:, 1]:\n",
    "            ax.set_visible(False)\n",
    "\n",
    "        for j, (region, region_label) in enumerate(selection_regions.items()):\n",
    "            row = (j // 2) * 3\n",
    "            col = (j % 2) * 2\n",
    "\n",
    "            plot_params = PlotFitsRes.get_1d_plot_params(\n",
    "                i,\n",
    "                region,\n",
    "                bgerrs,\n",
    "                shape,\n",
    "                hists,\n",
    "                sig_key,\n",
    "                bg_keys,\n",
    "                sig_scale,\n",
    "                region_label,\n",
    "                preliminary,\n",
    "            )\n",
    "            plot_params[\"axrax\"] = (axs[row, col], axs[row + 1, col])\n",
    "\n",
    "            plotting.ratioHistPlot(**plot_params)\n",
    "\n",
    "        plt.savefig(f\"{plot_dir}/{shape}_{shape_var.var}.pdf\", bbox_inches=\"tight\")\n",
    "        plt.show()\n",
    "        # break\n",
    "    break"
   ]
  },
  {
   "cell_type": "markdown",
   "metadata": {},
   "source": [
    "## 2D Plots"
   ]
  },
  {
   "cell_type": "code",
   "execution_count": null,
   "metadata": {},
   "outputs": [],
   "source": [
    "for prelim, plabel in zip([True, False], [\"prelim_\", \"\"]):\n",
    "    pulls = plotting.hist2dPullPlot(\n",
    "        hists[\"postfit\"][\"pass\"],\n",
    "        bgerrs[\"postfit\"][\"pass\"],\n",
    "        sig_key,\n",
    "        bg_keys,\n",
    "        \"FM SP\",\n",
    "        preliminary=prelim,\n",
    "        name=f\"{plot_dir}/{plabel}pull2d.pdf\",\n",
    "        show=True,\n",
    "    )\n",
    "    break"
   ]
  },
  {
   "cell_type": "code",
   "execution_count": null,
   "metadata": {},
   "outputs": [],
   "source": [
    "for shape, shape_label in shapes.items():\n",
    "    _ = os.system(f\"mkdir -p {plot_dir}/{shape}\")\n",
    "    samples = (\n",
    "        [\"Data\", \"TT\", \"V+Jets\", \"QCD\", \"X[3000]->H(bb)Y[190](VV)\"]\n",
    "        if shape == \"shapes_prefit\"\n",
    "        else [\"TT\", \"V+Jets\", \"QCD\"]\n",
    "    )\n",
    "\n",
    "    plotting.hist2ds(\n",
    "        hists[shape],\n",
    "        f\"{plot_dir}/{shape}/\",\n",
    "        regions=[\"pass\", \"fail\", \"passBlinded\", \"failBlinded\"],\n",
    "        region_labels=selection_regions,\n",
    "        samples=samples,\n",
    "        # fail_zlim=5e3,\n",
    "        # pass_zlim=1.0,\n",
    "    )"
   ]
  },
  {
   "cell_type": "markdown",
   "metadata": {},
   "source": [
    "## Transfer factor"
   ]
  },
  {
   "cell_type": "code",
   "execution_count": null,
   "metadata": {},
   "outputs": [],
   "source": [
    "tftot = hists[\"postfit\"][\"pass\"][\"QCD\", ...] / hists[\"postfit\"][\"fail\"][\"QCD\", ...]\n",
    "with Path(f\"{MAIN_DIR}/plots/QCDTF/25Apr22TF/qcdtf.pkl\").open(\"rb\") as f:\n",
    "    tfqcd = pickle.load(f)\n",
    "    for i in range(2):\n",
    "        tfqcd.axes[i].label = res_shape_vars[i].label\n",
    "\n",
    "for prelim, plabel in zip([True, False], [\"prelim_\", \"\"]):\n",
    "    plotting.plot_tf(\n",
    "        tfqcd,\n",
    "        label=r\"$R^\\mathrm{Sim}$\",\n",
    "        data=False,\n",
    "        vmax=6.5e-3,\n",
    "        plot_dir=plot_dir,\n",
    "        name=f\"{plabel}tfqcd\",\n",
    "        prelim=prelim,\n",
    "        show=prelim,\n",
    "    )\n",
    "    plotting.plot_tf(\n",
    "        tftot / tfqcd.values(),\n",
    "        label=r\"$R^\\mathrm{Data}$\",\n",
    "        plot_dir=plot_dir,\n",
    "        name=f\"{plabel}tfdata\",\n",
    "        prelim=prelim,\n",
    "        show=prelim,\n",
    "    )\n",
    "    plotting.plot_tf(\n",
    "        tftot,\n",
    "        label=r\"$R$\",\n",
    "        vmax=6.5e-3,\n",
    "        plot_dir=plot_dir,\n",
    "        name=f\"{plabel}tftot\",\n",
    "        prelim=prelim,\n",
    "        show=prelim,\n",
    "    )"
   ]
  },
  {
   "cell_type": "code",
   "execution_count": null,
   "metadata": {},
   "outputs": [],
   "source": []
  }
 ],
 "metadata": {
  "kernelspec": {
   "display_name": "python39",
   "language": "python",
   "name": "python3"
  },
  "language_info": {
   "codemirror_mode": {
    "name": "ipython",
    "version": 3
   },
   "file_extension": ".py",
   "mimetype": "text/x-python",
   "name": "python",
   "nbconvert_exporter": "python",
   "pygments_lexer": "ipython3",
   "version": "3.9.15"
  },
  "orig_nbformat": 4
 },
 "nbformat": 4,
 "nbformat_minor": 2
}
