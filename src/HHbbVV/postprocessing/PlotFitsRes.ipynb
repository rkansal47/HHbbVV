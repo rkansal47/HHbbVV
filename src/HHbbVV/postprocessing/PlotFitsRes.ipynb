{
 "cells": [
  {
   "cell_type": "code",
   "execution_count": null,
   "metadata": {},
   "outputs": [],
   "source": [
    "from collections import OrderedDict\n",
    "\n",
    "import uproot\n",
    "import numpy as np\n",
    "import matplotlib.pyplot as plt\n",
    "\n",
    "import hist\n",
    "from hist import Hist\n",
    "\n",
    "import plotting\n",
    "from hh_vars import data_key\n",
    "from postprocessing import res_shape_vars, get_res_selection_regions\n",
    "\n",
    "import os"
   ]
  },
  {
   "cell_type": "code",
   "execution_count": null,
   "metadata": {},
   "outputs": [],
   "source": [
    "%load_ext autoreload\n",
    "%autoreload 2"
   ]
  },
  {
   "cell_type": "code",
   "execution_count": null,
   "metadata": {},
   "outputs": [],
   "source": [
    "MAIN_DIR = \"../../../\"\n",
    "\n",
    "plot_dir = \"../../../plots/PostFit/23May2NewWP\"\n",
    "_ = os.system(f\"mkdir -p {plot_dir}\")"
   ]
  },
  {
   "cell_type": "code",
   "execution_count": null,
   "metadata": {},
   "outputs": [],
   "source": [
    "# cards_dir = \"f_tests/Apr26/nTF1_0_nTF2_0\"\n",
    "cards_dir = \"23May1Scan/txbb_HP_thww_0.8/NMSSM_XToYHTo2W2BTo4Q2B_MX-3000_MY-250/\"\n",
    "file = uproot.open(\n",
    "    # f\"/uscms/home/rkansal/nobackup/CMSSW_11_2_0/src/cards/{cards_dir}/FitShapes.root\"\n",
    "    f\"/uscms/home/rkansal/eos/bbVV/cards/{cards_dir}/FitShapes.root\"\n",
    ")"
   ]
  },
  {
   "cell_type": "code",
   "execution_count": null,
   "metadata": {},
   "outputs": [],
   "source": [
    "mx, my = 3000, 250\n",
    "\n",
    "# (name in templates, name in cards)\n",
    "hist_label_map_inverse = OrderedDict(\n",
    "    [\n",
    "        (\"QCD\", \"XHYbbWW_boosted_qcd_datadriven\"),\n",
    "        # (\"Diboson\", \"diboson\"),\n",
    "        (\"TT\", \"ttbar\"),\n",
    "        (\"ST\", \"singletop\"),\n",
    "        (\"V+Jets\", \"vjets\"),\n",
    "        # (\"X[3000]->H(bb)Y[190](VV)\", \"xhy_mx3000_my190\"),\n",
    "        (f\"X[{mx}]->H(bb)Y[{my}](VV)\", f\"xhy_mx{mx}_my{my}\"),\n",
    "        (data_key, \"data_obs\"),\n",
    "    ]\n",
    ")\n",
    "\n",
    "hist_label_map = {val: key for key, val in hist_label_map_inverse.items()}\n",
    "samples = list(hist_label_map.values())"
   ]
  },
  {
   "cell_type": "code",
   "execution_count": null,
   "metadata": {},
   "outputs": [],
   "source": [
    "shapes = {\n",
    "    \"prefit\": \"Pre-Fit\",\n",
    "    # \"shapes_fit_s\": \"S+B Post-Fit\",\n",
    "    \"postfit\": \"B-only Post-Fit\",\n",
    "}\n",
    "\n",
    "shape_vars = res_shape_vars\n",
    "\n",
    "selection_regions = {\n",
    "    \"pass\": \"Pass\",\n",
    "    \"fail\": \"Fail\",\n",
    "    \"passBlinded\": \"Validation Pass\",\n",
    "    \"failBlinded\": \"Validation Fail\",\n",
    "}"
   ]
  },
  {
   "cell_type": "code",
   "execution_count": null,
   "metadata": {},
   "outputs": [],
   "source": [
    "hists = {}\n",
    "\n",
    "bins = list(shape_vars[0].axis)\n",
    "binsize = np.array([b[1] - b[0] for b in bins])\n",
    "\n",
    "for shape in shapes:\n",
    "    hists[shape] = {\n",
    "        region: Hist(\n",
    "            hist.axis.StrCategory(samples, name=\"Sample\"),\n",
    "            *[shape_var.axis for shape_var in shape_vars],\n",
    "            storage=\"double\",\n",
    "        )\n",
    "        for region in selection_regions\n",
    "    }\n",
    "\n",
    "    for region in selection_regions:\n",
    "        h = hists[shape][region]\n",
    "\n",
    "        for i in range(len(shape_vars[1].axis)):  # mX bins\n",
    "            # templates = file[shape][f\"mXbin{i}{region}\"]\n",
    "            templates = file[f\"mXbin{i}{region}_{shape}\"]\n",
    "            for key, file_key in hist_label_map_inverse.items():\n",
    "                if key != data_key:\n",
    "                    if file_key not in templates:\n",
    "                        # print(f\"No {key} in mXbin{i}{region}\")\n",
    "                        continue\n",
    "\n",
    "                    data_key_index = np.where(np.array(list(h.axes[0])) == key)[0][0]\n",
    "                    # h.view(flow=False)[data_key_index, :, i] = (\n",
    "                    #     templates[file_key].values() * binsize\n",
    "                    # )\n",
    "                    h.view(flow=False)[data_key_index, :, i] = templates[file_key].values()\n",
    "\n",
    "            data_key_index = np.where(np.array(list(h.axes[0])) == data_key)[0][0]\n",
    "            # h.view(flow=False)[data_key_index, :, i] = (\n",
    "            #     templates[hist_label_map_inverse[data_key]].values()[1] * binsize\n",
    "            # )\n",
    "            h.view(flow=False)[data_key_index, :, i] = np.nan_to_num(\n",
    "                templates[hist_label_map_inverse[data_key]].values()\n",
    "            )"
   ]
  },
  {
   "cell_type": "code",
   "execution_count": null,
   "metadata": {},
   "outputs": [],
   "source": [
    "pass_ylim = 300\n",
    "fail_ylim = 170000\n",
    "for shape, shape_label in shapes.items():\n",
    "    for region, region_label in selection_regions.items():\n",
    "        pass_region = region.startswith(\"pass\")\n",
    "        for i, shape_var in enumerate(shape_vars):\n",
    "            plot_params = {\n",
    "                \"hists\": hists[shape][region].project(0, i + 1),\n",
    "                \"sig_keys\": [f\"X[{mx}]->H(bb)Y[{my}](VV)\"],\n",
    "                \"bg_keys\": [\"QCD\", \"V+Jets\", \"TT\", \"ST\"],\n",
    "                \"sig_scale_dict\": None,\n",
    "                \"show\": True,\n",
    "                \"year\": \"all\",\n",
    "                \"ylim\": pass_ylim if pass_region else fail_ylim,\n",
    "                \"plot_data\": region != \"pass\",\n",
    "                \"title\": f\"{shape_label} {region_label} Region\",\n",
    "                \"name\": f\"{plot_dir}/{shape}_{region}_{shape_var.var}.pdf\",\n",
    "            }\n",
    "\n",
    "            plotting.ratioHistPlot(**plot_params)"
   ]
  },
  {
   "cell_type": "code",
   "execution_count": null,
   "metadata": {},
   "outputs": [],
   "source": [
    "for shape, shape_label in shapes.items():\n",
    "    _ = os.system(f\"mkdir -p {plot_dir}/{shape}\")\n",
    "    samples = (\n",
    "        [\"Data\", \"TT\", \"V+Jets\", \"QCD\", \"X[3000]->H(bb)Y[190](VV)\"]\n",
    "        if shape == \"shapes_prefit\"\n",
    "        else [\"TT\", \"V+Jets\", \"QCD\"]\n",
    "    )\n",
    "\n",
    "    plotting.hist2ds(\n",
    "        hists[shape],\n",
    "        f\"{plot_dir}/{shape}/\",\n",
    "        regions=[\"pass\", \"fail\", \"passBlinded\", \"failBlinded\"],\n",
    "        region_labels=selection_regions,\n",
    "        samples=samples,\n",
    "        # fail_zlim=5e3,\n",
    "        # pass_zlim=1.0,\n",
    "    )"
   ]
  },
  {
   "cell_type": "code",
   "execution_count": null,
   "metadata": {},
   "outputs": [],
   "source": []
  }
 ],
 "metadata": {
  "kernelspec": {
   "display_name": "bbVV",
   "language": "python",
   "name": "python3"
  },
  "language_info": {
   "codemirror_mode": {
    "name": "ipython",
    "version": 3
   },
   "file_extension": ".py",
   "mimetype": "text/x-python",
   "name": "python",
   "nbconvert_exporter": "python",
   "pygments_lexer": "ipython3",
   "version": "3.9.15"
  },
  "orig_nbformat": 4,
  "vscode": {
   "interpreter": {
    "hash": "5b9eab485576227e6cf1b964bb8855c46cbdf15c3e77cecdb2bb309145d3e8d8"
   }
  }
 },
 "nbformat": 4,
 "nbformat_minor": 2
}
