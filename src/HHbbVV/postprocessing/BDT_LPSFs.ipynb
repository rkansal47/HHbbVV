{
 "cells": [
  {
   "cell_type": "code",
   "execution_count": null,
   "metadata": {},
   "outputs": [],
   "source": [
    "import utils\n",
    "import plotting\n",
    "import postprocessing\n",
    "import numpy as np\n",
    "import warnings\n",
    "import pandas as pd\n",
    "from pandas.errors import SettingWithCopyWarning\n",
    "from sample_labels import samples, sig_key, qcd_key, data_key\n",
    "import os\n",
    "from utils import CUT_MAX_VAL\n",
    "\n",
    "# ignore these because they don't seem to apply\n",
    "warnings.simplefilter(action=\"ignore\", category=SettingWithCopyWarning)\n",
    "\n",
    "from PyPDF2 import PdfFileMerger\n",
    "\n",
    "from copy import deepcopy\n",
    "\n",
    "import matplotlib.pyplot as plt\n",
    "import mplhep as hep\n",
    "import matplotlib.ticker as mticker\n",
    "\n",
    "plt.style.use(hep.style.CMS)\n",
    "hep.style.use(\"CMS\")\n",
    "formatter = mticker.ScalarFormatter(useMathText=True)\n",
    "formatter.set_powerlimits((-3, 3))\n",
    "plt.rcParams.update({\"font.size\": 16})"
   ]
  },
  {
   "cell_type": "code",
   "execution_count": null,
   "metadata": {},
   "outputs": [],
   "source": [
    "%load_ext autoreload\n",
    "%autoreload 2"
   ]
  },
  {
   "cell_type": "code",
   "execution_count": null,
   "metadata": {},
   "outputs": [],
   "source": [
    "MAIN_DIR = \"../../../\"\n",
    "samples_dir = f\"{MAIN_DIR}/../data/skimmer/Jan31\"\n",
    "signal_samples_dir = f\"{MAIN_DIR}/../data/skimmer/Feb3\"\n",
    "year = \"2017\"\n",
    "\n",
    "plot_dir = \"../../../plots/PostProcessing/Feb15\"\n",
    "templates_dir = \"templates/Jan31/\"\n",
    "_ = os.system(f\"mkdir -p {plot_dir}\")\n",
    "_ = os.system(f\"mkdir -p {templates_dir}\")"
   ]
  },
  {
   "cell_type": "code",
   "execution_count": null,
   "metadata": {},
   "outputs": [],
   "source": [
    "# Both Jet's Msds > 50 & at least one jet with Txbb > 0.8\n",
    "filters = [\n",
    "    [\n",
    "        (\"('ak8FatJetMsd', '0')\", \">=\", 50),\n",
    "        (\"('ak8FatJetMsd', '1')\", \">=\", 50),\n",
    "        (\"('ak8FatJetParticleNetMD_Txbb', '0')\", \">=\", 0.8),\n",
    "    ],\n",
    "    [\n",
    "        (\"('ak8FatJetMsd', '0')\", \">=\", 50),\n",
    "        (\"('ak8FatJetMsd', '1')\", \">=\", 50),\n",
    "        (\"('ak8FatJetParticleNetMD_Txbb', '1')\", \">=\", 0.8),\n",
    "    ],\n",
    "]\n",
    "\n",
    "# {label: {cutvar: [min, max], ...}, ...}\n",
    "selection_regions = {\n",
    "    \"passCat1\": {\n",
    "        \"BDTScore\": [0.986, CUT_MAX_VAL],\n",
    "        \"bbFatJetParticleNetMD_Txbb\": [0.976, CUT_MAX_VAL],\n",
    "    },\n",
    "    \"BDTOnly\": {\n",
    "        \"BDTScore\": [0.986, CUT_MAX_VAL],\n",
    "    },\n",
    "    \"fail\": {\n",
    "        \"bbFatJetParticleNetMD_Txbb\": [0.8, 0.976],\n",
    "    },\n",
    "}\n",
    "\n",
    "# bb msd is final shape var\n",
    "shape_var = (\"bbFatJetMsd\", r\"$m^{bb}$ (GeV)\")\n",
    "shape_bins = [20, 50, 250]  # num bins, min, max\n",
    "blind_window = [100, 150]"
   ]
  },
  {
   "attachments": {},
   "cell_type": "markdown",
   "metadata": {},
   "source": [
    "Load samples"
   ]
  },
  {
   "cell_type": "code",
   "execution_count": null,
   "metadata": {},
   "outputs": [],
   "source": [
    "cutflow = pd.DataFrame(index=list(samples.keys()))\n",
    "events_dict = utils.load_samples(signal_samples_dir, {sig_key: samples[sig_key]}, year, filters)\n",
    "events_dict |= utils.load_samples(samples_dir, {k: samples[k] for k in samples.keys() - [sig_key]}, year, filters)\n",
    "utils.add_to_cutflow(events_dict, \"BDTPreselection\", \"weight\", cutflow)\n",
    "\n",
    "# print weighted sample yields\n",
    "for sample in events_dict:\n",
    "    tot_weight = np.sum(events_dict[sample][\"weight\"].values)\n",
    "    print(f\"Pre-selection {sample} yield: {tot_weight:.2f}\")"
   ]
  },
  {
   "attachments": {},
   "cell_type": "markdown",
   "metadata": {},
   "source": [
    "Scale factors, bb VV assignment, derive variables"
   ]
  },
  {
   "cell_type": "code",
   "execution_count": null,
   "metadata": {},
   "outputs": [],
   "source": [
    "postprocessing.apply_weights(events_dict, year, cutflow)\n",
    "bb_masks = postprocessing.bb_VV_assignment(events_dict)\n",
    "postprocessing.derive_variables(events_dict, bb_masks)"
   ]
  },
  {
   "attachments": {},
   "cell_type": "markdown",
   "metadata": {},
   "source": [
    "Lund plane SFs"
   ]
  },
  {
   "cell_type": "code",
   "execution_count": null,
   "metadata": {},
   "outputs": [],
   "source": [
    "events = events_dict[sig_key]\n",
    "events = postprocessing.postprocess_lpsfs(events)\n",
    "events[\"finalWeight_preLP\"] = events[\"finalWeight\"]\n",
    "events[\"finalWeight\"] = events[\"finalWeight\"] * events[\"VV_lp_sf_nom\"][0]\n",
    "events_dict[sig_key] = events"
   ]
  },
  {
   "cell_type": "code",
   "execution_count": null,
   "metadata": {},
   "outputs": [],
   "source": [
    "postprocessing.load_bdt_preds(events_dict, f\"{samples_dir}/{year}/preds.npy\", list(samples.keys()))"
   ]
  },
  {
   "cell_type": "code",
   "execution_count": null,
   "metadata": {},
   "outputs": [],
   "source": [
    "# {var: (bins, label)}\n",
    "control_plot_vars = {\n",
    "    \"BDTScore\": ([50, 0, 1], r\"BDT Score\"),\n",
    "}\n",
    "\n",
    "postprocessing.control_plots(events_dict, bb_masks, control_plot_vars, plot_dir)"
   ]
  },
  {
   "attachments": {},
   "cell_type": "markdown",
   "metadata": {},
   "source": [
    "Overall BDT SF"
   ]
  },
  {
   "cell_type": "code",
   "execution_count": null,
   "metadata": {},
   "outputs": [],
   "source": [
    "sel, cf = utils.make_selection(selection_regions[\"BDTOnly\"], events_dict, bb_masks, prev_cutflow=cutflow)\n",
    "lp_sf, unc, uncs = postprocessing.get_lpsf(events_dict[sig_key], sel[sig_key])\n",
    "print(f\"LP SF: {lp_sf:.2f} ± {unc:.2f}\")\n",
    "print(\"Uncs: \", uncs)\n",
    "# events_dict[sig_key][\"finalWeight\"] = events_dict[sig_key][\"finalWeight_preLP\"] * lp_sf"
   ]
  },
  {
   "cell_type": "code",
   "execution_count": null,
   "metadata": {},
   "outputs": [],
   "source": [
    "del events_dict[\"W+Jets\"]"
   ]
  },
  {
   "cell_type": "code",
   "execution_count": null,
   "metadata": {},
   "outputs": [],
   "source": [
    "templates = postprocessing.get_templates(\n",
    "    events_dict,\n",
    "    bb_masks,\n",
    "    selection_regions,\n",
    "    shape_var,\n",
    "    shape_bins,\n",
    "    blind_window,\n",
    "    plot_dir=plot_dir,\n",
    "    prev_cutflow=cutflow,\n",
    ")\n",
    "postprocessing.save_templates(templates, blind_window, f\"{templates_dir}/templates.pkl\")"
   ]
  },
  {
   "attachments": {},
   "cell_type": "markdown",
   "metadata": {},
   "source": [
    "Mass Shape SFs"
   ]
  },
  {
   "cell_type": "code",
   "execution_count": null,
   "metadata": {},
   "outputs": [],
   "source": [
    "label = \"BDTOnly\"\n",
    "region = selection_regions[label]\n",
    "weight_key = \"finalWeight\"\n",
    "sel, cf = utils.make_selection(region, events_dict, bb_masks, prev_cutflow=cutflow)\n",
    "\n",
    "template = utils.singleVarHist(\n",
    "    events_dict,\n",
    "    shape_var[0],\n",
    "    shape_bins,\n",
    "    shape_var[1],\n",
    "    bb_masks,\n",
    "    weight_key=weight_key,\n",
    "    selection=sel,\n",
    "    blind_region=blind_window,\n",
    ")"
   ]
  },
  {
   "cell_type": "code",
   "execution_count": null,
   "metadata": {},
   "outputs": [],
   "source": [
    "events = events_dict[sig_key][sel[sig_key]]\n",
    "\n",
    "toy_hists = []\n",
    "for i in range(events[\"VV_lp_sf_toys\"].shape[1]):\n",
    "    toy_hists.append(\n",
    "        np.histogram(\n",
    "            utils.get_feat(events, shape_var[0], bb_masks[sig_key][sel[sig_key]]),\n",
    "            np.linspace(*shape_bins[1:], shape_bins[0] + 1),\n",
    "            weights=events[\"finalWeight_preLP\"] * events[\"VV_lp_sf_toys\"][i].values,\n",
    "        )[0]\n",
    "    )\n",
    "\n",
    "sys_up_down = []\n",
    "for key in [\"VV_lp_sf_sys_up\", \"VV_lp_sf_sys_down\"]:\n",
    "    sys_up_down.append(\n",
    "        np.histogram(\n",
    "            utils.get_feat(events, shape_var[0], bb_masks[sig_key][sel[sig_key]]),\n",
    "            np.linspace(*shape_bins[1:], shape_bins[0] + 1),\n",
    "            weights=events[\"finalWeight_preLP\"] * events[key][0].values,\n",
    "        )[0]\n",
    "    )\n",
    "\n",
    "nom_vals = template[\"HHbbVV\", :].values()\n",
    "\n",
    "uncs = {\n",
    "    \"stat_unc\": np.minimum(nom_vals, np.std(toy_hists[1:], axis=0)) / nom_vals,  # cap at 100% unc\n",
    "    \"syst_rat_unc\": np.minimum(nom_vals, (np.abs(sys_up_down[0] - sys_up_down[1])) / 2) / nom_vals,\n",
    "}\n",
    "\n",
    "tot_matched = np.sum(np.sum(events[f\"ak8FatJetHVV\"].astype(bool)))\n",
    "\n",
    "# fraction of subjets > 350 * 0.21 measured by CASE\n",
    "uncs[\"sj_pt_unc\"] = (np.sum(events[f\"VV_lp_sf_num_sjpt_gt350\"][0]) / tot_matched) * 0.21\n",
    "\n",
    "num_prongs = events[\"ak8FatJetHVVNumProngs\"][0]\n",
    "\n",
    "sj_matching_unc = np.sum(events[f\"VV_lp_sf_double_matched_event\"][0])\n",
    "for nump in range(2, 5):\n",
    "    sj_matching_unc += (\n",
    "        np.sum(events[f\"VV_lp_sf_unmatched_quarks\"][0][num_prongs == nump]) / nump\n",
    "    )\n",
    "\n",
    "uncs[\"sj_matching_unc\"] = sj_matching_unc / tot_matched"
   ]
  },
  {
   "cell_type": "code",
   "execution_count": null,
   "metadata": {},
   "outputs": [],
   "source": [
    "tot_uncs = np.linalg.norm([val for val in uncs.values()], axis=0)"
   ]
  },
  {
   "cell_type": "code",
   "execution_count": null,
   "metadata": {},
   "outputs": [],
   "source": [
    "print(uncs)\n",
    "print(tot_uncs)"
   ]
  },
  {
   "cell_type": "code",
   "execution_count": null,
   "metadata": {},
   "outputs": [],
   "source": [
    "plt.figure(figsize=(12, 8))\n",
    "plt.scatter(np.arange(1, 21), tot_uncs)\n",
    "plt.ylim([0, 1.2])\n",
    "plt.xlabel(\"Mass Bin\")\n",
    "plt.ylabel(\"Relative Uncertainty\")\n",
    "plt.title(\"Uncertainties from BDT Cut\")\n",
    "plt.savefig(f\"{plot_dir}/rel_uncs.pdf\")"
   ]
  },
  {
   "cell_type": "code",
   "execution_count": null,
   "metadata": {},
   "outputs": [],
   "source": [
    "templates = postprocessing.get_templates(\n",
    "    events_dict,\n",
    "    bb_masks,\n",
    "    selection_regions,\n",
    "    shape_var,\n",
    "    shape_bins,\n",
    "    blind_window,\n",
    "    sig_err=tot_uncs,\n",
    "    plot_dir=plot_dir,\n",
    "    prev_cutflow=cutflow,\n",
    "    show=True,\n",
    ")"
   ]
  },
  {
   "cell_type": "code",
   "execution_count": null,
   "metadata": {},
   "outputs": [],
   "source": [
    "tot_rel_unc = np.linalg.norm([val for val in uncs.values()])"
   ]
  }
 ],
 "metadata": {
  "kernelspec": {
   "display_name": "python310",
   "language": "python",
   "name": "python3"
  },
  "language_info": {
   "codemirror_mode": {
    "name": "ipython",
    "version": 3
   },
   "file_extension": ".py",
   "mimetype": "text/x-python",
   "name": "python",
   "nbconvert_exporter": "python",
   "pygments_lexer": "ipython3",
   "version": "3.10.8"
  },
  "orig_nbformat": 4,
  "vscode": {
   "interpreter": {
    "hash": "15adc7883e707560d0d9727709639b8fe3f3cff1f197d2d643742923ff23a29c"
   }
  }
 },
 "nbformat": 4,
 "nbformat_minor": 2
}
