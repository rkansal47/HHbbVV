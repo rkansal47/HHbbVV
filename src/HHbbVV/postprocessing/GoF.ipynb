{
 "cells": [
  {
   "cell_type": "code",
   "execution_count": null,
   "metadata": {},
   "outputs": [],
   "source": [
    "import uproot\n",
    "import numpy as np\n",
    "import matplotlib.pyplot as plt\n",
    "import mplhep as hep\n",
    "import matplotlib.ticker as mticker\n",
    "import os\n",
    "\n",
    "plt.style.use(hep.style.CMS)\n",
    "hep.style.use(\"CMS\")\n",
    "formatter = mticker.ScalarFormatter(useMathText=True)\n",
    "formatter.set_powerlimits((-3, 3))\n",
    "plt.rcParams.update({\"font.size\": 20})"
   ]
  },
  {
   "cell_type": "code",
   "execution_count": null,
   "metadata": {},
   "outputs": [],
   "source": [
    "MAIN_DIR = \"../../../\"\n",
    "\n",
    "plot_dir = f\"{MAIN_DIR}/plots/GoF/Apr7\"\n",
    "_ = os.system(f\"mkdir -p {plot_dir}\")"
   ]
  },
  {
   "cell_type": "code",
   "execution_count": null,
   "metadata": {},
   "outputs": [],
   "source": [
    "cards_dir = \"Apr7\"\n",
    "\n",
    "file = uproot.concatenate(\n",
    "    f\"/uscms/home/rkansal/nobackup/CMSSW_11_2_0/src/cards/{cards_dir}/higgsCombinepassData.GoodnessOfFit.mH125.root\"\n",
    ")\n",
    "\n",
    "data_ts = file[\"limit\"][0]  # data test statistic\n",
    "\n",
    "file = uproot.concatenate(\n",
    "    f\"/uscms/home/rkansal/nobackup/CMSSW_11_2_0/src/cards/{cards_dir}/higgsCombinepassToys.GoodnessOfFit.mH125.*.root\"\n",
    ")\n",
    "\n",
    "toy_ts = np.array(file[\"limit\"])  # toy test statistics"
   ]
  },
  {
   "cell_type": "code",
   "execution_count": null,
   "metadata": {},
   "outputs": [],
   "source": [
    "pval = np.sum(toy_ts > data_ts) / len(toy_ts)\n",
    "pval"
   ]
  },
  {
   "cell_type": "code",
   "execution_count": null,
   "metadata": {},
   "outputs": [],
   "source": [
    "plot_max = max(np.max(toy_ts), data_ts)\n",
    "plot_min = min(np.min(toy_ts), data_ts)"
   ]
  },
  {
   "cell_type": "code",
   "execution_count": null,
   "metadata": {},
   "outputs": [],
   "source": [
    "plt.figure(figsize=(12, 8))\n",
    "_ = plt.hist(\n",
    "    toy_ts, np.linspace(plot_min, plot_max, 10), color=\"dimgrey\", histtype=\"step\", label=\"Toys\"\n",
    ")\n",
    "plt.axvline(data_ts, color=\"red\", linestyle=\":\", label=rf\"Data ($p$-value = {pval:.2f})\")\n",
    "_ = plt.legend()\n",
    "plt.title(\"Goodness of Fit\")\n",
    "plt.ylabel(\"Number of Toys\")\n",
    "plt.xlabel(\"Test Statistics\")\n",
    "plt.savefig(f\"{plot_dir}/gof.pdf\")"
   ]
  },
  {
   "cell_type": "code",
   "execution_count": null,
   "metadata": {},
   "outputs": [],
   "source": [
    "from scipy.stats import chi2\n",
    "\n",
    "chi2_df = 100\n",
    "\n",
    "plt.figure(figsize=(12, 8))\n",
    "x = np.linspace(plot_min, plot_max, 101)\n",
    "plt.plot(\n",
    "    x,\n",
    "    chi2.pdf(x, chi2_df) * 1.3,\n",
    "    color=\"blue\",\n",
    "    linestyle=\"--\",\n",
    "    alpha=0.6,\n",
    "    label=rf\"$\\chi^2_{{DoF = {chi2_df}}}$\",\n",
    ")\n",
    "_ = plt.hist(\n",
    "    toy_ts,\n",
    "    np.linspace(plot_min, plot_max, 10),\n",
    "    density=True,\n",
    "    color=\"dimgrey\",\n",
    "    histtype=\"step\",\n",
    "    label=\"Toys\",\n",
    ")\n",
    "plt.axvline(data_ts, color=\"red\", linestyle=\":\", label=rf\"Data ($p$-value = {pval:.2f})\")\n",
    "_ = plt.legend()\n",
    "plt.title(\"Goodness of Fit\")\n",
    "plt.ylabel(\"Number of Toys (A.U.)\")\n",
    "plt.xlabel(\"Test Statistics\")\n",
    "plt.savefig(f\"{plot_dir}/gof_chi2.pdf\")"
   ]
  },
  {
   "cell_type": "code",
   "execution_count": null,
   "metadata": {},
   "outputs": [],
   "source": []
  }
 ],
 "metadata": {
  "kernelspec": {
   "display_name": "bbVV",
   "language": "python",
   "name": "python3"
  },
  "language_info": {
   "codemirror_mode": {
    "name": "ipython",
    "version": 3
   },
   "file_extension": ".py",
   "mimetype": "text/x-python",
   "name": "python",
   "nbconvert_exporter": "python",
   "pygments_lexer": "ipython3",
   "version": "3.9.15"
  },
  "orig_nbformat": 4,
  "vscode": {
   "interpreter": {
    "hash": "5b9eab485576227e6cf1b964bb8855c46cbdf15c3e77cecdb2bb309145d3e8d8"
   }
  }
 },
 "nbformat": 4,
 "nbformat_minor": 2
}
