{
 "cells": [
  {
   "cell_type": "code",
   "execution_count": null,
   "metadata": {},
   "outputs": [],
   "source": [
    "import utils\n",
    "import plotting\n",
    "import postprocessing\n",
    "import corrections\n",
    "from collections import OrderedDict\n",
    "\n",
    "from utils import CUT_MAX_VAL, ShapeVar\n",
    "from hh_vars import (\n",
    "    years,\n",
    "    data_key,\n",
    "    qcd_key,\n",
    "    bg_keys,\n",
    "    samples,\n",
    "    nonres_sig_keys,\n",
    "    nonres_samples,\n",
    "    txbb_wps,\n",
    "    jec_shifts,\n",
    "    jmsr_shifts,\n",
    "    LUMI,\n",
    ")\n",
    "from postprocessing import nonres_shape_vars\n",
    "\n",
    "import numpy as np\n",
    "import pandas as pd\n",
    "import pickle\n",
    "from pandas.errors import SettingWithCopyWarning\n",
    "import hist\n",
    "from hist import Hist\n",
    "\n",
    "import os\n",
    "from copy import deepcopy\n",
    "from inspect import cleandoc\n",
    "import warnings\n",
    "\n",
    "import matplotlib.pyplot as plt\n",
    "import mplhep as hep\n",
    "import matplotlib.ticker as mticker\n",
    "\n",
    "plt.style.use(hep.style.CMS)\n",
    "hep.style.use(\"CMS\")\n",
    "formatter = mticker.ScalarFormatter(useMathText=True)\n",
    "formatter.set_powerlimits((-3, 3))\n",
    "plt.rcParams.update({\"font.size\": 16})\n",
    "\n",
    "# ignore these because they don't seem to apply\n",
    "warnings.simplefilter(action=\"ignore\", category=SettingWithCopyWarning)"
   ]
  },
  {
   "cell_type": "code",
   "execution_count": null,
   "metadata": {},
   "outputs": [],
   "source": [
    "%load_ext autoreload\n",
    "%autoreload 2"
   ]
  },
  {
   "cell_type": "code",
   "execution_count": null,
   "metadata": {},
   "outputs": [],
   "source": [
    "MAIN_DIR = \"../../../\"\n",
    "samples_dir = f\"{MAIN_DIR}/../data/skimmer/Feb24\"\n",
    "signal_samples_dir = f\"{MAIN_DIR}/../data/skimmer/Jun10\"\n",
    "bdt_preds_dir = f\"{MAIN_DIR}/../data/skimmer/Feb24/23_05_12_multiclass_rem_feats_3/inferences/\"\n",
    "# samples_dir = \"/eos/uscms/store/user/rkansal/bbVV/skimmer/Feb24/\"\n",
    "# signal_samples_dir = \"/eos/uscms/store/user/cmantill/bbVV/skimmer/Jun10/\"\n",
    "# bdt_data_dir = \"/eos/uscms/store/user/cmantill/bbVV/skimmer/Jun10/bdt_data/\"\n",
    "year = \"2018\"\n",
    "\n",
    "date = \"24Feb14\"\n",
    "plot_dir = f\"../../../plots/PostProcessing/{date}/\"\n",
    "templates_dir = f\"templates/{date}\"\n",
    "_ = os.system(f\"mkdir -p {plot_dir}\")\n",
    "_ = os.system(f\"mkdir -p {plot_dir}/cutflows/\")\n",
    "_ = os.system(f\"mkdir -p {plot_dir}/ControlPlots/{year}/\")\n",
    "# _ = os.system(f\"mkdir -p {plot_dir}/templates/\")\n",
    "# _ = os.system(f\"mkdir -p {plot_dir}/templates/wshifts\")\n",
    "# _ = os.system(f\"mkdir -p {plot_dir}/templates/jshifts\")\n",
    "# _ = os.system(f\"mkdir -p {templates_dir}\")\n",
    "\n",
    "selection_regions = postprocessing.get_nonres_selection_regions(year)"
   ]
  },
  {
   "cell_type": "code",
   "execution_count": null,
   "metadata": {},
   "outputs": [],
   "source": [
    "# add both VBF keys just in case (the unused one will be removed below)\n",
    "nonres_samples[\"qqHH_CV_1_C2V_1_kl_1_HHbbVV\"] = \"VBF_HHTobbVV_CV_1_C2V_1_C3_1\"\n",
    "\n",
    "with open(f\"{bdt_preds_dir}/{year}/sample_order.txt\", \"r\") as f:\n",
    "    BDT_sample_order = list(eval(f.read()).keys())\n",
    "\n",
    "for key in nonres_sig_keys.copy():\n",
    "    if key not in BDT_sample_order:\n",
    "        del nonres_samples[key]\n",
    "        nonres_sig_keys.remove(key)\n",
    "\n",
    "for key in bg_keys.copy():\n",
    "    if key not in BDT_sample_order:\n",
    "        del samples[key]\n",
    "        bg_keys.remove(key)"
   ]
  },
  {
   "attachments": {},
   "cell_type": "markdown",
   "metadata": {},
   "source": [
    "Load samples"
   ]
  },
  {
   "cell_type": "code",
   "execution_count": null,
   "metadata": {},
   "outputs": [],
   "source": [
    "filters = postprocessing.new_filters\n",
    "systematics = {year: {}}\n",
    "\n",
    "# save cutflow as pandas table\n",
    "cutflow = pd.DataFrame(index=list(samples.keys()) + list(nonres_samples.keys()))\n",
    "\n",
    "# utils.remove_empty_parquets(samples_dir, year)\n",
    "\n",
    "# no HEM cleaning for now because it wasn't done for BDT samples\n",
    "events_dict = utils.load_samples(\n",
    "    signal_samples_dir, nonres_samples, year, filters, hem_cleaning=False\n",
    ")\n",
    "events_dict |= utils.load_samples(samples_dir, samples, year, filters, hem_cleaning=False)\n",
    "\n",
    "utils.add_to_cutflow(events_dict, \"BDTPreselection\", \"weight\", cutflow)\n",
    "cutflow"
   ]
  },
  {
   "attachments": {},
   "cell_type": "markdown",
   "metadata": {},
   "source": [
    "Scale factors and bb VV assignment"
   ]
  },
  {
   "cell_type": "code",
   "execution_count": null,
   "metadata": {},
   "outputs": [],
   "source": [
    "postprocessing.apply_weights(events_dict, year, cutflow)\n",
    "bb_masks = postprocessing.bb_VV_assignment(events_dict)\n",
    "postprocessing.derive_variables(events_dict)\n",
    "# events_dict[sig_key] = postprocessing.postprocess_lpsfs(events_dict[sig_key])\n",
    "cutflow"
   ]
  },
  {
   "cell_type": "code",
   "execution_count": null,
   "metadata": {},
   "outputs": [],
   "source": [
    "postprocessing.load_bdt_preds(events_dict, year, bdt_preds_dir, jec_jmsr_shifts=True)"
   ]
  },
  {
   "cell_type": "markdown",
   "metadata": {},
   "source": [
    "Aside: checking if regressed mass is actually saving useful jets"
   ]
  },
  {
   "cell_type": "code",
   "execution_count": null,
   "metadata": {},
   "outputs": [],
   "source": [
    "bbmsd = utils.get_feat(events_dict[\"HHbbVV\"], \"bbFatJetMsd\", bb_masks[\"HHbbVV\"])\n",
    "vvmsd = utils.get_feat(events_dict[\"HHbbVV\"], \"VVFatJetMsd\", bb_masks[\"HHbbVV\"])\n",
    "bbpnetm = utils.get_feat(events_dict[\"HHbbVV\"], \"bbFatJetParticleNetMass\", bb_masks[\"HHbbVV\"])\n",
    "vvpnetm = utils.get_feat(events_dict[\"HHbbVV\"], \"VVFatJetParticleNetMass\", bb_masks[\"HHbbVV\"])\n",
    "bbpnet = utils.get_feat(events_dict[\"HHbbVV\"], \"bbFatJetParticleNetMD_Xbb\", bb_masks[\"HHbbVV\"])\n",
    "vvpart = utils.get_feat(events_dict[\"HHbbVV\"], \"VVFatJetParTMD_THWW4q\", bb_masks[\"HHbbVV\"])"
   ]
  },
  {
   "cell_type": "code",
   "execution_count": null,
   "metadata": {},
   "outputs": [],
   "source": [
    "bbreg = (bbmsd < 50) * (bbpnetm > 50)\n",
    "plt.title(\"Jets with Msd < 50 GeV and PNet Mass > 50 GeV\")\n",
    "plt.hist(bbpnet[bbreg], np.linspace(0, 1, 50), histtype=\"step\", label=\"bb\")\n",
    "plt.xlabel(\"Txbb\")\n",
    "plt.show()"
   ]
  },
  {
   "cell_type": "markdown",
   "metadata": {},
   "source": [
    "Check signal jet matching with bb VV assignment"
   ]
  },
  {
   "cell_type": "code",
   "execution_count": null,
   "metadata": {},
   "outputs": [],
   "source": [
    "events = events_dict[\"HHbbVV\"]\n",
    "bb_mask = bb_masks[\"HHbbVV\"]\n",
    "list(events.columns)"
   ]
  },
  {
   "cell_type": "code",
   "execution_count": null,
   "metadata": {},
   "outputs": [],
   "source": [
    "print(np.mean(utils.get_feat(events, \"bbFatJetHbb\", bb_mask)))\n",
    "print(np.mean(utils.get_feat(events, \"bbFatJetHVV\", bb_mask)))\n",
    "print(np.mean(utils.get_feat(events, \"VVFatJetHbb\", bb_mask)))\n",
    "print(np.mean(utils.get_feat(events, \"VVFatJetHVV\", bb_mask)))"
   ]
  },
  {
   "cell_type": "code",
   "execution_count": null,
   "metadata": {},
   "outputs": [],
   "source": [
    "scores"
   ]
  },
  {
   "cell_type": "code",
   "execution_count": null,
   "metadata": {},
   "outputs": [],
   "source": [
    "events = events_dict[\"HHbbVV\"]\n",
    "bb_mask = bb_masks[\"HHbbVV\"]\n",
    "weight_key = \"finalWeight\"\n",
    "\n",
    "bbpnet_shape_var = ShapeVar(\n",
    "    var=\"bbFatJetParticleNetMD_Txbb\", label=r\"$T^{bb}_{Xbb}$\", bins=[20, 0.8, 1]\n",
    ")\n",
    "vvpnet_shape_var = ShapeVar(\n",
    "    var=\"VVFatJetParticleNetMD_Txbb\", label=r\"$T^{VV}_{Xbb}$\", bins=[20, 0, 1]\n",
    ")\n",
    "\n",
    "match_labels = [r\"$bb$-matched\", r\"$VV$-matched\", \"Unmatched\"]\n",
    "colours = [plotting.colours[\"red\"], plotting.colours[\"forestgreen\"], plotting.colours[\"orange\"]]\n",
    "\n",
    "for jet, shape_var in [(\"bb\", bbpnet_shape_var), (\"VV\", vvpnet_shape_var)]:\n",
    "    h = Hist(\n",
    "        hist.axis.StrCategory(match_labels, name=\"Sample\"),\n",
    "        shape_var.axis,\n",
    "        storage=\"weight\",\n",
    "    )\n",
    "\n",
    "    is_bb = utils.get_feat(events, f\"{jet}FatJetHbb\", bb_mask).astype(bool)\n",
    "    is_VV = utils.get_feat(events, f\"{jet}FatJetHVV\", bb_mask).astype(bool)\n",
    "    is_unmatched = ~(is_bb | is_VV)\n",
    "\n",
    "    scores = utils.get_feat(events, shape_var.var, bb_mask)\n",
    "\n",
    "    h.fill(match_labels[0], scores[is_bb], weight=events[weight_key][is_bb])\n",
    "    h.fill(match_labels[1], scores[is_VV], weight=events[weight_key][is_VV])\n",
    "    h.fill(match_labels[2], scores[is_unmatched], weight=events[weight_key][is_unmatched])\n",
    "\n",
    "    fig, ax = plt.subplots(1, 1, figsize=(12, 12))\n",
    "    plt.rcParams.update({\"font.size\": 24})\n",
    "    hep.histplot(\n",
    "        [h[label, :] for label in match_labels],\n",
    "        color=colours,\n",
    "        sort=\"yield\",\n",
    "        histtype=\"fill\",\n",
    "        stack=True,\n",
    "        label=match_labels,\n",
    "        ax=ax,\n",
    "        yerr=True,\n",
    "        # alpha=0.8,\n",
    "        # hatch=\"//\",\n",
    "        edgecolor=\"black\",\n",
    "        linewidth=2,\n",
    "    )\n",
    "    ax.set_xlim(shape_var.bins[1], shape_var.bins[2])\n",
    "    ax.legend(loc=\"upper left\" if jet == \"bb\" else \"upper right\")\n",
    "    ax.set_yscale(\"log\")\n",
    "    ax.set_xlabel(shape_var.label)\n",
    "    ax.set_ylabel(\"Events\")\n",
    "    hep.cms.label(ax=ax, data=False, rlabel=None)\n",
    "    plt.savefig(f\"{plot_dir}/Xbb_{jet}_matching.pdf\", bbox_inches=\"tight\")\n",
    "    plt.show()"
   ]
  },
  {
   "attachments": {},
   "cell_type": "markdown",
   "metadata": {},
   "source": [
    "Control plots"
   ]
  },
  {
   "cell_type": "code",
   "execution_count": null,
   "metadata": {},
   "outputs": [],
   "source": [
    "control_plot_vars = [\n",
    "    # ShapeVar(var=\"MET_pt\", label=r\"$p^{miss}_T$ (GeV)\", bins=[50, 0, 300]),\n",
    "    # ShapeVar(var=\"DijetEta\", label=r\"$\\eta^{jj}$\", bins=[30, -8, 8]),\n",
    "    # ShapeVar(var=\"DijetPt\", label=r\"$p_T^{jj}$ (GeV)\", bins=[30, 0, 750]),\n",
    "    # ShapeVar(var=\"DijetMass\", label=r\"$m^{jj}$ (GeV)\", bins=[30, 600, 4000]),\n",
    "    # ShapeVar(var=\"bbFatJetEta\", label=r\"$\\eta^{bb}$\", bins=[30, -2.4, 2.4]),\n",
    "    # ShapeVar(\n",
    "    #     var=\"bbFatJetPt\", label=r\"$p^{bb}_T$ (GeV)\", bins=[30, 300, 1500], significance_dir=\"right\"\n",
    "    # ),\n",
    "    # ShapeVar(\n",
    "    #     var=\"bbFatJetParticleNetMass\",\n",
    "    #     label=r\"$m^{bb}_{reg}$ (GeV)\",\n",
    "    #     bins=[20, 50, 250],\n",
    "    #     significance_dir=\"bin\",\n",
    "    # ),\n",
    "    # ShapeVar(var=\"bbFatJetMsd\", label=r\"$m^{bb}_{msd}$ (GeV)\", bins=[50, 0, 300]),\n",
    "    # ShapeVar(var=\"bbFatJetParticleNetMD_Txbb\", label=r\"$T^{bb}_{Xbb}$\", bins=[50, 0.8, 1]),\n",
    "    # ShapeVar(var=\"VVFatJetEta\", label=r\"$\\eta^{VV}$\", bins=[30, -2.4, 2.4]),\n",
    "    # ShapeVar(var=\"VVFatJetPt\", label=r\"$p^{VV}_T$ (GeV)\", bins=[30, 300, 1500]),\n",
    "    # ShapeVar(var=\"VVParticleNetMass\", label=r\"$m^{VV}_{reg}$ (GeV)\", bins=[20, 50, 250]),\n",
    "    # ShapeVar(var=\"VVFatJetMsd\", label=r\"$m^{VV}_{msd}$ (GeV)\", bins=[40, 50, 250]),\n",
    "    # ShapeVar(var=\"VVFatJetParticleNet_Th4q\", label=r\"Prob($H \\to 4q$) vs Prob(QCD) (Non-MD)\", bins=[50, 0, 1]),\n",
    "    # ShapeVar(\n",
    "    #     var=\"VVFatJetParTMD_THWW4q\",\n",
    "    #     label=r\"Prob($H \\to VV \\to 4q$) vs Prob(QCD) (Mass-Decorrelated)\",\n",
    "    #     bins=[50, 0, 1],\n",
    "    # ),\n",
    "    # ShapeVar(var=\"VVFatJetParTMD_probT\", label=r\"Prob(Top) (Mass-Decorrelated)\", bins=[50, 0, 1]),\n",
    "    # ShapeVar(var=\"VVFatJetParTMD_THWWvsT\", label=r\"$T^{VV}_{HWW}$\", bins=[50, 0, 1]),\n",
    "    # ShapeVar(var=\"bbFatJetPtOverDijetPt\", label=r\"$p^{bb}_T / p_T^{jj}$\", bins=[50, 0, 40]),\n",
    "    # ShapeVar(var=\"VVFatJetPtOverDijetPt\", label=r\"$p^{VV}_T / p_T^{jj}$\", bins=[50, 0, 40]),\n",
    "    # ShapeVar(var=\"VVFatJetPtOverbbFatJetPt\", label=r\"$p^{VV}_T / p^{bb}_T$\", bins=[50, 0.4, 2.0]),\n",
    "    # ShapeVar(var=\"nGoodMuons\", label=r\"# of Muons\", bins=[3, 0, 3]),\n",
    "    # ShapeVar(var=\"nGoodElectrons\", label=r\"# of Electrons\", bins=[3, 0, 3]),\n",
    "    # ShapeVar(var=\"nGoodJets\", label=r\"# of AK4 B-Jets\", bins=[5, 0, 5]),\n",
    "    ShapeVar(var=\"BDTScore\", label=r\"BDT Score\", bins=[50, 0, 1]),\n",
    "]\n",
    "\n",
    "hists = postprocessing.control_plots(\n",
    "    events_dict,\n",
    "    bb_masks,\n",
    "    [\"HHbbVV\", \"qqHH_CV_1_C2V_1_kl_1_HHbbVV\"],\n",
    "    control_plot_vars,\n",
    "    f\"{plot_dir}/ControlPlots/{year}/\",\n",
    "    year,\n",
    "    bg_keys=[\"QCD\", \"TT\", \"ST\", \"V+Jets\", \"Diboson\"],\n",
    "    # bg_keys=[\"QCD\", \"TT\", \"ST\", \"V+Jets\", \"Hbb\"],\n",
    "    sig_scale_dict={\"HHbbVV\": 2e5, \"qqHH_CV_1_C2V_1_kl_1_HHbbVV\": 2e6},\n",
    "    show=True,\n",
    ")"
   ]
  },
  {
   "cell_type": "code",
   "execution_count": null,
   "metadata": {},
   "outputs": [],
   "source": [
    "sel, _ = utils.make_selection(\n",
    "    {\"VVFatJetParTMD_THWWvsT\": [0, 0.6], \"bbFatJetParticleNetMD_Txbb\": [0.999, CUT_MAX_VAL]},\n",
    "    events_dict,\n",
    "    bb_masks,\n",
    ")\n",
    "\n",
    "\n",
    "hists = postprocessing.control_plots(\n",
    "    events_dict,\n",
    "    bb_masks,\n",
    "    [\"HHbbVV\", \"qqHH_CV_1_C2V_1_kl_1_HHbbVV\"],\n",
    "    [\n",
    "        ShapeVar(\n",
    "            var=\"bbFatJetParticleNetMass\",\n",
    "            label=r\"$m^{bb}_{reg}$ (GeV)\",\n",
    "            bins=[20, 50, 250],\n",
    "            significance_dir=\"bin\",\n",
    "        )\n",
    "    ],\n",
    "    f\"{plot_dir}/ControlPlots/{year}/\",\n",
    "    year,\n",
    "    hists={},\n",
    "    bg_keys=[\"QCD\", \"TT\", \"ST\", \"WJets\", \"ZJets\", \"Diboson\"],\n",
    "    selection=sel,\n",
    "    sig_scale_dict={\"HHbbVV\": 1},\n",
    "    combine_pdf=False,\n",
    "    show=True,\n",
    ")"
   ]
  },
  {
   "cell_type": "markdown",
   "metadata": {},
   "source": [
    "Check BDT Sculpting"
   ]
  },
  {
   "cell_type": "code",
   "execution_count": null,
   "metadata": {},
   "outputs": [],
   "source": [
    "postprocessing.plot_bdt_sculpting(events_dict, bb_masks, plot_dir, year, show=True)"
   ]
  },
  {
   "cell_type": "code",
   "execution_count": null,
   "metadata": {},
   "outputs": [],
   "source": [
    "cuts = [0, 0.1, 0.5, 0.9, 0.95]\n",
    "# bdtvars = [\"\", \"TT\", \"VJets\"]\n",
    "bdtvars = [\"\"]\n",
    "plot_keys = [\"TT\"]\n",
    "\n",
    "shape_var = ShapeVar(\n",
    "    var=\"bbFatJetParticleNetMass\", label=r\"$m^{bb}_{reg}$ (GeV)\", bins=[20, 50, 250]\n",
    ")\n",
    "\n",
    "for var in bdtvars:\n",
    "    for key in plot_keys:\n",
    "        ed_key = {key: events_dict[key]}\n",
    "        bbm_key = {key: bb_masks[key]}\n",
    "\n",
    "        fig, ax = plt.subplots(1, 1, figsize=(12, 12))\n",
    "        plt.rcParams.update({\"font.size\": 24})\n",
    "\n",
    "        for i, cut in enumerate(cuts):\n",
    "            sel, _ = utils.make_selection({f\"BDTScore{var}\": [cut, CUT_MAX_VAL]}, ed_key, bbm_key)\n",
    "            h = utils.singleVarHist(ed_key, shape_var, bbm_key, selection=sel)\n",
    "\n",
    "            hep.histplot(\n",
    "                h[key, ...] / np.sum(h[key, ...].values()),\n",
    "                yerr=True,\n",
    "                label=f\"BDTScore >= {cut}\",\n",
    "                # density=True,\n",
    "                ax=ax,\n",
    "                linewidth=2,\n",
    "                alpha=0.8,\n",
    "            )\n",
    "\n",
    "        ax.set_xlabel(shape_var.label)\n",
    "        ax.set_ylabel(\"Fraction of Events\")\n",
    "        ax.legend()\n",
    "\n",
    "        hep.cms.label(ax=ax, data=False, year=year, lumi=round(LUMI[year] / 1e3))\n",
    "        plt.show()"
   ]
  },
  {
   "cell_type": "code",
   "execution_count": null,
   "metadata": {},
   "outputs": [],
   "source": [
    "cuts = [0.01, 0.1, 0.5, 0.9, 0.99]\n",
    "# bdtvars = [\"\", \"TT\", \"VJets\"]\n",
    "bdtvars = [\"\"]\n",
    "sig_scales = [1e5, 5e4, 2e4, 1e4, 2e3]\n",
    "\n",
    "# for ttcut in [0.01, 0.1, 0.5, 0.9, 0.99]:\n",
    "#     ttsel, _ = utils.make_selection({\"BDTScoreTT\": [ttcut, CUT_MAX_VAL]}, events_dict, bb_masks)\n",
    "#     cutstr = f\"tt{ttcut}\"\n",
    "\n",
    "#     hists = postprocessing.control_plots(\n",
    "#         events_dict,\n",
    "#         bb_masks,\n",
    "#         nonres_sig_keys,\n",
    "#         control_plot_vars,\n",
    "#         f\"{plot_dir}/ControlPlots/{year}/\",\n",
    "#         year,\n",
    "#         hists={},\n",
    "#         bg_keys=[\"QCD\", \"TT\", \"ST\", \"V+Jets\", \"Diboson\"],\n",
    "#         selection=ttsel,\n",
    "#         cutstr=cutstr,\n",
    "#         show=True,\n",
    "#     )\n",
    "\n",
    "for var in bdtvars:\n",
    "    for i, cut in enumerate(cuts):\n",
    "        sel, _ = utils.make_selection({f\"BDTScore{var}\": [cut, CUT_MAX_VAL]}, events_dict, bb_masks)\n",
    "        cutstr = f\"bdt{var}{cut}\"\n",
    "        sig_scale = sig_scales[i]\n",
    "\n",
    "        hists = postprocessing.control_plots(\n",
    "            events_dict,\n",
    "            bb_masks,\n",
    "            nonres_sig_keys,\n",
    "            control_plot_vars,\n",
    "            f\"{plot_dir}/ControlPlots/{year}/\",\n",
    "            year,\n",
    "            hists={},\n",
    "            bg_keys=[\"QCD\", \"TT\", \"ST\", \"V+Jets\", \"Diboson\"],\n",
    "            selection=sel,\n",
    "            cutstr=cutstr,\n",
    "            sig_scale_dict={\"HHbbVV\": sig_scale},\n",
    "            combine_pdf=False,\n",
    "            show=True,\n",
    "        )"
   ]
  },
  {
   "attachments": {},
   "cell_type": "markdown",
   "metadata": {},
   "source": [
    "Overall BDT SF"
   ]
  },
  {
   "cell_type": "code",
   "execution_count": null,
   "metadata": {},
   "outputs": [],
   "source": [
    "nonres_sig_keys"
   ]
  },
  {
   "cell_type": "code",
   "execution_count": null,
   "metadata": {},
   "outputs": [],
   "source": [
    "postprocessing.lpsfs(\n",
    "    events_dict,\n",
    "    bb_masks,\n",
    "    nonres_sig_keys,\n",
    "    nonres_samples,\n",
    "    cutflow,\n",
    "    selection_regions[\"lpsf\"],\n",
    "    systematics,\n",
    "    all_years=False,\n",
    ")"
   ]
  },
  {
   "cell_type": "code",
   "execution_count": null,
   "metadata": {},
   "outputs": [],
   "source": [
    "events = events_dict[\"HHbbVV\"]\n",
    "bb_mask = bb_masks[\"HHbbVV\"]\n",
    "weight = events[\"finalWeight\"].values.squeeze()\n",
    "weight_lp = weight * events[\"VV_lp_sf_nom\"].values.squeeze()\n",
    "weight_lp_sys_up = weight * events[\"VV_lp_sf_sys_up\"].values.squeeze()\n",
    "weight_lp_sys_down = weight * events[\"VV_lp_sf_sys_down\"].values.squeeze()\n",
    "\n",
    "plt.hist(\n",
    "    utils.get_feat(events, \"bbFatJetPt\", bb_mask),\n",
    "    np.linspace(250, 1200, 31),\n",
    "    weights=weight,\n",
    "    histtype=\"step\",\n",
    "    label=\"Pre-LP\",\n",
    ")\n",
    "plt.hist(\n",
    "    utils.get_feat(events, \"bbFatJetPt\", bb_mask),\n",
    "    np.linspace(250, 1200, 31),\n",
    "    weights=weight_lp,\n",
    "    histtype=\"step\",\n",
    "    label=\"Post-LP\",\n",
    ")\n",
    "plt.title(\"2018 HHbbVV\")\n",
    "plt.xlabel(r\"$p_T^{VV}$ (GeV)\")\n",
    "plt.ylabel(\"Events\")\n",
    "# plt.hist(utils.get_feat(events, \"VVFatJetPt\", bb_mask), np.linspace(250, 2000, 31), weights=weight_lp_sys_up, histtype=\"step\", label=\"Post-LP Sys Up\")\n",
    "# plt.hist(utils.get_feat(events, \"VVFatJetPt\", bb_mask), np.linspace(250, 2000, 31), weights=weight_lp_sys_down, histtype=\"step\", label=\"Post-LP Sys Down\")\n",
    "plt.legend()"
   ]
  },
  {
   "cell_type": "code",
   "execution_count": null,
   "metadata": {},
   "outputs": [],
   "source": [
    "list(events_dict[\"HHbbVV\"].columns)"
   ]
  },
  {
   "attachments": {},
   "cell_type": "markdown",
   "metadata": {},
   "source": [
    "Templates"
   ]
  },
  {
   "cell_type": "code",
   "execution_count": null,
   "metadata": {},
   "outputs": [],
   "source": [
    "h, tsysts = postprocessing.get_templates(\n",
    "    events_dict,\n",
    "    bb_masks,\n",
    "    year,\n",
    "    nonres_sig_keys,\n",
    "    selection_regions,\n",
    "    nonres_shape_vars,\n",
    "    systematics,\n",
    "    bg_keys=bg_keys,\n",
    "    plot_dir=f\"{plot_dir}/templates\",\n",
    "    prev_cutflow=cutflow,\n",
    "    weight_shifts={},\n",
    "    jshift=\"\",\n",
    "    plot_shifts=False,\n",
    "    show=True,\n",
    ")"
   ]
  },
  {
   "cell_type": "code",
   "execution_count": null,
   "metadata": {},
   "outputs": [],
   "source": [
    "templates = {}\n",
    "\n",
    "for jshift in [\"\"] + jec_shifts + jmsr_shifts:\n",
    "    print(jshift)\n",
    "    ttemps, tsyst = postprocessing.get_templates(\n",
    "        events_dict,\n",
    "        bb_masks,\n",
    "        year,\n",
    "        selection_regions[year],\n",
    "        shape_var,\n",
    "        shape_bins,\n",
    "        blind_window,\n",
    "        plot_dir=plot_dir,\n",
    "        prev_cutflow=cutflow,\n",
    "        weight_shifts=postprocessing.weight_shifts,\n",
    "        jshift=jshift,\n",
    "        show=False,\n",
    "    )\n",
    "\n",
    "    templates = {**templates, **ttemps}\n",
    "    systematics = {**systematics, **tsyst}"
   ]
  },
  {
   "cell_type": "code",
   "execution_count": null,
   "metadata": {},
   "outputs": [],
   "source": [
    "systematics"
   ]
  },
  {
   "cell_type": "code",
   "execution_count": null,
   "metadata": {},
   "outputs": [],
   "source": [
    "templates_dict = {}\n",
    "\n",
    "for year in years:\n",
    "    with open(f\"templates/Feb28/{year}_templates.pkl\", \"rb\") as f:\n",
    "        templates_dict[year] = pickle.load(f)"
   ]
  }
 ],
 "metadata": {
  "kernelspec": {
   "display_name": "python310",
   "language": "python",
   "name": "python3"
  },
  "language_info": {
   "codemirror_mode": {
    "name": "ipython",
    "version": 3
   },
   "file_extension": ".py",
   "mimetype": "text/x-python",
   "name": "python",
   "nbconvert_exporter": "python",
   "pygments_lexer": "ipython3",
   "version": "3.10.11"
  },
  "orig_nbformat": 4,
  "vscode": {
   "interpreter": {
    "hash": "15adc7883e707560d0d9727709639b8fe3f3cff1f197d2d643742923ff23a29c"
   }
  }
 },
 "nbformat": 4,
 "nbformat_minor": 2
}
