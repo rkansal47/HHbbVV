{
 "cells": [
  {
   "cell_type": "code",
   "execution_count": 14,
   "metadata": {},
   "outputs": [],
   "source": [
    "import numpy as np\n",
    "import pandas as pd"
   ]
  },
  {
   "cell_type": "code",
   "execution_count": 2,
   "metadata": {},
   "outputs": [],
   "source": [
    "df = pd.read_parquet(\"../../../0-1.parquet\")"
   ]
  },
  {
   "cell_type": "code",
   "execution_count": 3,
   "metadata": {},
   "outputs": [
    {
     "data": {
      "text/plain": [
       "0       87.703466\n",
       "1      112.267220\n",
       "2      226.914213\n",
       "3       40.016640\n",
       "4      141.620213\n",
       "          ...    \n",
       "697     91.043407\n",
       "698    411.384886\n",
       "699     44.365678\n",
       "700     68.834194\n",
       "701     51.242398\n",
       "Name: (DijetPt, 0), Length: 702, dtype: float64"
      ]
     },
     "execution_count": 3,
     "metadata": {},
     "output_type": "execute_result"
    }
   ],
   "source": [
    "df[(\"DijetPt\", 0)]"
   ]
  },
  {
   "cell_type": "code",
   "execution_count": 4,
   "metadata": {},
   "outputs": [
    {
     "data": {
      "text/html": [
       "<div>\n",
       "<style scoped>\n",
       "    .dataframe tbody tr th:only-of-type {\n",
       "        vertical-align: middle;\n",
       "    }\n",
       "\n",
       "    .dataframe tbody tr th {\n",
       "        vertical-align: top;\n",
       "    }\n",
       "\n",
       "    .dataframe thead th {\n",
       "        text-align: right;\n",
       "    }\n",
       "</style>\n",
       "<table border=\"1\" class=\"dataframe\">\n",
       "  <thead>\n",
       "    <tr style=\"text-align: right;\">\n",
       "      <th></th>\n",
       "      <th>0</th>\n",
       "      <th>1</th>\n",
       "    </tr>\n",
       "  </thead>\n",
       "  <tbody>\n",
       "    <tr>\n",
       "      <th>0</th>\n",
       "      <td>121.684950</td>\n",
       "      <td>104.636199</td>\n",
       "    </tr>\n",
       "    <tr>\n",
       "      <th>1</th>\n",
       "      <td>113.792016</td>\n",
       "      <td>3.936330</td>\n",
       "    </tr>\n",
       "    <tr>\n",
       "      <th>2</th>\n",
       "      <td>103.741621</td>\n",
       "      <td>115.359435</td>\n",
       "    </tr>\n",
       "    <tr>\n",
       "      <th>3</th>\n",
       "      <td>98.031661</td>\n",
       "      <td>110.867741</td>\n",
       "    </tr>\n",
       "    <tr>\n",
       "      <th>4</th>\n",
       "      <td>127.274553</td>\n",
       "      <td>131.867805</td>\n",
       "    </tr>\n",
       "    <tr>\n",
       "      <th>...</th>\n",
       "      <td>...</td>\n",
       "      <td>...</td>\n",
       "    </tr>\n",
       "    <tr>\n",
       "      <th>697</th>\n",
       "      <td>141.357199</td>\n",
       "      <td>168.901449</td>\n",
       "    </tr>\n",
       "    <tr>\n",
       "      <th>698</th>\n",
       "      <td>109.457064</td>\n",
       "      <td>107.874160</td>\n",
       "    </tr>\n",
       "    <tr>\n",
       "      <th>699</th>\n",
       "      <td>90.489762</td>\n",
       "      <td>123.436558</td>\n",
       "    </tr>\n",
       "    <tr>\n",
       "      <th>700</th>\n",
       "      <td>79.155652</td>\n",
       "      <td>142.973935</td>\n",
       "    </tr>\n",
       "    <tr>\n",
       "      <th>701</th>\n",
       "      <td>5.571892</td>\n",
       "      <td>108.896937</td>\n",
       "    </tr>\n",
       "  </tbody>\n",
       "</table>\n",
       "<p>702 rows × 2 columns</p>\n",
       "</div>"
      ],
      "text/plain": [
       "              0           1\n",
       "0    121.684950  104.636199\n",
       "1    113.792016    3.936330\n",
       "2    103.741621  115.359435\n",
       "3     98.031661  110.867741\n",
       "4    127.274553  131.867805\n",
       "..          ...         ...\n",
       "697  141.357199  168.901449\n",
       "698  109.457064  107.874160\n",
       "699   90.489762  123.436558\n",
       "700   79.155652  142.973935\n",
       "701    5.571892  108.896937\n",
       "\n",
       "[702 rows x 2 columns]"
      ]
     },
     "execution_count": 4,
     "metadata": {},
     "output_type": "execute_result"
    }
   ],
   "source": [
    "df[\"ak8FatJetMsd\"]"
   ]
  },
  {
   "cell_type": "code",
   "execution_count": 15,
   "metadata": {},
   "outputs": [],
   "source": [
    "preds = {\"\": np.load(\"testBDT/2017_preds.npy\")}\n",
    "\n",
    "from hh_vars import jec_shifts, jmsr_shifts\n",
    "\n",
    "for jshift in jec_shifts + jmsr_shifts:\n",
    "    preds[jshift] = np.load(f\"testBDT/2017_preds_{jshift}.npy\")"
   ]
  },
  {
   "cell_type": "code",
   "execution_count": 23,
   "metadata": {},
   "outputs": [],
   "source": [
    "vals = [val[:150] for val in preds.values()]\n",
    "diffs = [np.abs(val - vals[0]) for val in vals[1:]]\n",
    "stds = np.std(vals, axis=0)\n",
    "max_diffs = np.max(diffs, axis=0)"
   ]
  },
  {
   "cell_type": "code",
   "execution_count": 22,
   "metadata": {},
   "outputs": [
    {
     "data": {
      "image/png": "[encoded data removed]",
      "text/plain": [
       "<Figure size 640x480 with 1 Axes>"
      ]
     },
     "metadata": {},
     "output_type": "display_data"
    }
   ],
   "source": [
    "import matplotlib.pyplot as plt\n",
    "\n",
    "_ = plt.hist(stds, np.linspace(0, 0.125, 101), histtype=\"step\")"
   ]
  },
  {
   "cell_type": "code",
   "execution_count": 27,
   "metadata": {},
   "outputs": [
    {
     "data": {
      "image/png": "[encoded data removed]",
      "text/plain": [
       "<Figure size 640x480 with 1 Axes>"
      ]
     },
     "metadata": {},
     "output_type": "display_data"
    }
   ],
   "source": [
    "_ = plt.hist(max_diffs, np.linspace(0, 0.3, 101), histtype=\"step\")"
   ]
  },
  {
   "cell_type": "code",
   "execution_count": 33,
   "metadata": {},
   "outputs": [
    {
     "data": {
      "text/plain": [
       "(array([  0,  13,  21,  58, 107]),)"
      ]
     },
     "execution_count": 33,
     "metadata": {},
     "output_type": "execute_result"
    }
   ],
   "source": [
    "np.where(max_diffs > 0.25)"
   ]
  },
  {
   "cell_type": "code",
   "execution_count": 32,
   "metadata": {},
   "outputs": [
    {
     "data": {
      "text/plain": [
       "{'': array([[[0.69032097, 0.8181396 , 0.55155754, 0.46796584, 0.50105894]]],\n",
       "       dtype=float32),\n",
       " 'JES_up': array([[[0.8856665 , 0.8181396 , 0.8181396 , 0.46796584, 0.7772715 ]]],\n",
       "       dtype=float32),\n",
       " 'JES_down': array([[[0.41815436, 0.55155754, 0.3239958 , 0.2019883 , 0.2710255 ]]],\n",
       "       dtype=float32),\n",
       " 'JER_up': array([[[0.69032097, 0.8181396 , 0.55155754, 0.46796584, 0.50105894]]],\n",
       "       dtype=float32),\n",
       " 'JER_down': array([[[0.64841515, 0.8181396 , 0.55155754, 0.46796584, 0.50105894]]],\n",
       "       dtype=float32),\n",
       " 'JMS_up': array([[[0.69032097, 0.8181396 , 0.55155754, 0.46796584, 0.50105894]]],\n",
       "       dtype=float32),\n",
       " 'JMS_down': array([[[0.69032097, 0.8181396 , 0.55155754, 0.46796584, 0.50105894]]],\n",
       "       dtype=float32),\n",
       " 'JMR_up': array([[[0.69032097, 0.8181396 , 0.55155754, 0.46796584, 0.50105894]]],\n",
       "       dtype=float32),\n",
       " 'JMR_down': array([[[0.69032097, 0.8181396 , 0.55155754, 0.46796584, 0.50105894]]],\n",
       "       dtype=float32)}"
      ]
     },
     "execution_count": 32,
     "metadata": {},
     "output_type": "execute_result"
    }
   ],
   "source": [
    "{key: val[[np.where(max_diffs > 0.25)]] for key, val in preds.items()}"
   ]
  },
  {
   "cell_type": "code",
   "execution_count": null,
   "metadata": {},
   "outputs": [],
   "source": []
  }
 ],
 "metadata": {
  "kernelspec": {
   "display_name": "python310",
   "language": "python",
   "name": "python3"
  },
  "language_info": {
   "codemirror_mode": {
    "name": "ipython",
    "version": 3
   },
   "file_extension": ".py",
   "mimetype": "text/x-python",
   "name": "python",
   "nbconvert_exporter": "python",
   "pygments_lexer": "ipython3",
   "version": "3.10.8"
  },
  "orig_nbformat": 4,
  "vscode": {
   "interpreter": {
    "hash": "15adc7883e707560d0d9727709639b8fe3f3cff1f197d2d643742923ff23a29c"
   }
  }
 },
 "nbformat": 4,
 "nbformat_minor": 2
}
