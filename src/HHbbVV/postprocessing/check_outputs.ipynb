{
 "cells": [
  {
   "cell_type": "code",
   "execution_count": 9,
   "metadata": {},
   "outputs": [],
   "source": [
    "import numpy as np\n",
    "import pandas as pd\n",
    "import pickle"
   ]
  },
  {
   "cell_type": "code",
   "execution_count": null,
   "metadata": {},
   "outputs": [],
   "source": [
    "df = pd.read_parquet(\"../../../0-1.parquet\")"
   ]
  },
  {
   "cell_type": "code",
   "execution_count": null,
   "metadata": {},
   "outputs": [],
   "source": [
    "df[(\"DijetPt\", 0)]"
   ]
  },
  {
   "cell_type": "code",
   "execution_count": null,
   "metadata": {},
   "outputs": [],
   "source": [
    "df[\"DijetPt_JES_up\"]"
   ]
  },
  {
   "cell_type": "code",
   "execution_count": 11,
   "metadata": {},
   "outputs": [],
   "source": [
    "with open(\"../../../outfiles/0-1.pkl\", \"rb\") as f:\n",
    "    hists = pickle.load(f)"
   ]
  },
  {
   "cell_type": "code",
   "execution_count": 12,
   "metadata": {},
   "outputs": [
    {
     "data": {
      "text/plain": [
       "{'den': Hist(\n",
       "   Variable([0, 0.9, 0.95, 0.98, 1], name='jet1txbb', label='$T_{Xbb}$ Score'),\n",
       "   Variable([0, 0.9, 0.95, 0.98, 1], name='jet1th4q', label='$T_{H4q}$ Score'),\n",
       "   Variable([250, 275, 300, 325, 350, 375, 400, 450, 500, 600, 800, 1000], name='jet1pt', label='$p_T$ (GeV)'),\n",
       "   Regular(15, 0, 300, name='jet1msd', label='$m_{SD}$ (GeV)'),\n",
       "   storage=Double()) # Sum: 227.0 (749.0 with flow),\n",
       " 'num': Hist(\n",
       "   Variable([0, 0.9, 0.95, 0.98, 1], name='jet1txbb', label='$T_{Xbb}$ Score'),\n",
       "   Variable([0, 0.9, 0.95, 0.98, 1], name='jet1th4q', label='$T_{H4q}$ Score'),\n",
       "   Variable([250, 275, 300, 325, 350, 375, 400, 450, 500, 600, 800, 1000], name='jet1pt', label='$p_T$ (GeV)'),\n",
       "   Regular(15, 0, 300, name='jet1msd', label='$m_{SD}$ (GeV)'),\n",
       "   storage=Double()) # Sum: 23.0,\n",
       " 'cutflow': OrderedDict([('all', 140826), ('muon', 67443), ('ak8_jet', 792)])}"
      ]
     },
     "execution_count": 12,
     "metadata": {},
     "output_type": "execute_result"
    }
   ],
   "source": [
    "hists"
   ]
  },
  {
   "cell_type": "code",
   "execution_count": null,
   "metadata": {},
   "outputs": [],
   "source": [
    "preds = {\"\": np.load(\"../../../../data/skimmer/Feb20//2017_preds.npy\")}\n",
    "\n",
    "from hh_vars import jec_shifts, jmsr_shifts\n",
    "\n",
    "for jshift in jec_shifts + jmsr_shifts:\n",
    "    preds[jshift] = np.load(f\"../../../../data/skimmer/Feb20//2017_preds_{jshift}.npy\")"
   ]
  },
  {
   "cell_type": "code",
   "execution_count": null,
   "metadata": {},
   "outputs": [],
   "source": [
    "preds[\"JES_up\"].shape[0]"
   ]
  },
  {
   "cell_type": "code",
   "execution_count": null,
   "metadata": {},
   "outputs": [],
   "source": [
    "vals = [val[: preds[\"JES_up\"].shape[0]] for val in preds.values()]\n",
    "diffs = [np.abs(val - vals[0]) for val in vals[1:]]\n",
    "stds = np.std(vals, axis=0)\n",
    "max_diffs = np.max(diffs, axis=0)"
   ]
  },
  {
   "cell_type": "code",
   "execution_count": null,
   "metadata": {},
   "outputs": [],
   "source": [
    "import matplotlib.pyplot as plt\n",
    "\n",
    "_ = plt.hist(stds, np.linspace(0, 0.125, 101), histtype=\"step\")"
   ]
  },
  {
   "cell_type": "code",
   "execution_count": null,
   "metadata": {},
   "outputs": [],
   "source": [
    "_ = plt.hist(max_diffs, np.linspace(0, 0.3, 101), histtype=\"step\")"
   ]
  },
  {
   "cell_type": "code",
   "execution_count": null,
   "metadata": {},
   "outputs": [],
   "source": [
    "np.where(max_diffs > 0.25)"
   ]
  },
  {
   "cell_type": "code",
   "execution_count": null,
   "metadata": {},
   "outputs": [],
   "source": [
    "{key: val[[np.where(max_diffs > 0.25)]] for key, val in preds.items()}"
   ]
  },
  {
   "cell_type": "code",
   "execution_count": null,
   "metadata": {},
   "outputs": [],
   "source": []
  }
 ],
 "metadata": {
  "kernelspec": {
   "display_name": "bbVV",
   "language": "python",
   "name": "python3"
  },
  "language_info": {
   "codemirror_mode": {
    "name": "ipython",
    "version": 3
   },
   "file_extension": ".py",
   "mimetype": "text/x-python",
   "name": "python",
   "nbconvert_exporter": "python",
   "pygments_lexer": "ipython3",
   "version": "3.10.4"
  },
  "orig_nbformat": 4,
  "vscode": {
   "interpreter": {
    "hash": "5b9eab485576227e6cf1b964bb8855c46cbdf15c3e77cecdb2bb309145d3e8d8"
   }
  }
 },
 "nbformat": 4,
 "nbformat_minor": 2
}
