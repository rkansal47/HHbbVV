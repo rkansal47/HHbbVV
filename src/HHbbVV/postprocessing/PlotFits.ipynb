{
 "cells": [
  {
   "cell_type": "code",
   "execution_count": 1,
   "metadata": {},
   "outputs": [],
   "source": [
    "from __future__ import annotations\n",
    "\n",
    "import pickle\n",
    "from collections import OrderedDict\n",
    "from pathlib import Path\n",
    "\n",
    "import hist\n",
    "import matplotlib.pyplot as plt\n",
    "import numpy as np\n",
    "import plotting\n",
    "import uproot\n",
    "from datacardHelpers import sum_templates\n",
    "from hist import Hist\n",
    "from postprocessing import nonres_shape_vars\n",
    "\n",
    "from HHbbVV.hh_vars import bg_keys, data_key, years\n",
    "from HHbbVV.postprocessing import utils"
   ]
  },
  {
   "cell_type": "code",
   "execution_count": 2,
   "metadata": {},
   "outputs": [],
   "source": [
    "%load_ext autoreload\n",
    "%autoreload 2"
   ]
  },
  {
   "cell_type": "code",
   "execution_count": 3,
   "metadata": {},
   "outputs": [],
   "source": [
    "MAIN_DIR = Path(\"../../../\")\n",
    "nTF = 0\n",
    "\n",
    "vbf_only = False\n",
    "ggf_only = False\n",
    "k2v0sig = False\n",
    "unblinded = True\n",
    "\n",
    "plot_dir = MAIN_DIR / \"plots/PostFit/25Apr11Combination\"\n",
    "# plot_dir = (\n",
    "#     MAIN_DIR\n",
    "#     / \"plots/PostFit/24Apr9ggFScan/nTF1/ggf_txbb_MP_ggf_bdt_0.9965_vbf_txbb_HP_vbf_bdt_0.999_lepton_veto_Hbb\"\n",
    "# )\n",
    "plot_dir.mkdir(exist_ok=True, parents=True)"
   ]
  },
  {
   "cell_type": "code",
   "execution_count": 4,
   "metadata": {},
   "outputs": [],
   "source": [
    "cards_dir = \"25Mar15NonresUpdateLPSFs/ggf-sig-only\"\n",
    "# cards_dir = f\"f_tests/24Apr26NonresBDT995/ggf/nTF_{nTF}\"\n",
    "asimov = False\n",
    "\n",
    "asimov_label = \"Asimov\" if asimov else \"\"\n",
    "file = uproot.open(\n",
    "    # f\"/uscms/home/rkansal/hhcombine/cards/{cards_dir}/FitShapesB{asimov_label}.root\"\n",
    "    f\"/home/users/rkansal/HHbbVV/cards//{cards_dir}/FitShapesB{asimov_label}.root\"\n",
    "    # f\"/uscms/home/rkansal/eos/bbVV/cards/{cards_dir}/FitShapes.root\"\n",
    ")"
   ]
  },
  {
   "cell_type": "code",
   "execution_count": 5,
   "metadata": {},
   "outputs": [],
   "source": [
    "# templates_dir = Path(f\"templates/{cards_dir}\")\n",
    "sig_templates_dir = Path(\"templates/25Feb6NonresMatchingFix\")\n",
    "bg_templates_dir = Path(\"templates/24Aug26BDT995AllSigs\")\n",
    "# templates_dir = Path(\n",
    "#     f\"templates/24Apr9ggFScan/ggf_txbb_HP_ggf_bdt_0.996_vbf_txbb_HP_vbf_bdt_0.999_lepton_veto_Hbb\"\n",
    "# )\n",
    "templates_dict = {}\n",
    "for year in years:\n",
    "    with (sig_templates_dir / f\"{year}_templates.pkl\").open(\"rb\") as f:\n",
    "        templates_dict[year] = pickle.load(f)\n",
    "\n",
    "sig_pre_templates = sum_templates(templates_dict, years)\n",
    "\n",
    "templates_dict = {}\n",
    "for year in years:\n",
    "    with (bg_templates_dir / f\"{year}_templates.pkl\").open(\"rb\") as f:\n",
    "        templates_dict[year] = pickle.load(f)\n",
    "\n",
    "bg_pre_templates = sum_templates(templates_dict, years)"
   ]
  },
  {
   "cell_type": "code",
   "execution_count": 6,
   "metadata": {},
   "outputs": [],
   "source": [
    "workspace_data_key = \"data_obs\"  # if not asimov else \"toy_asimov\"\n",
    "\n",
    "# (name in templates, name in cards)\n",
    "hist_label_map_inverse = OrderedDict(\n",
    "    [\n",
    "        (\"QCD\", \"CMS_bbWW_hadronic_qcd_datadriven\"),\n",
    "        # (\"Diboson\", \"diboson\"),\n",
    "        (\"TT\", \"ttbar\"),\n",
    "        (\"ST\", \"singletop\"),\n",
    "        (\"Z+Jets\", \"zjets\"),\n",
    "        (\"W+Jets\", \"wjets\"),\n",
    "        # (\"HHbbVV\", \"ggHH_kl_1_kt_1_hbbhww4q\"),\n",
    "        # (\"VBFHHbbVV\", \"qqHH_CV_1_C2V_1_kl_1_HHbbww\"),  # change to hbbhww future\n",
    "        (data_key, workspace_data_key),\n",
    "    ]\n",
    ")\n",
    "\n",
    "hist_label_map = {val: key for key, val in hist_label_map_inverse.items()}\n",
    "\n",
    "sig_keys = [\"HHbbVV\", \"VBFHHbbVV\", \"qqHH_CV_1_C2V_0_kl_1_HHbbVV\", \"qqHH_CV_1_C2V_2_kl_1_HHbbVV\"]\n",
    "# sig_keys = [\"qqHH_CV_1_C2V_0_kl_1_HHbbVV\"] if k2v0sig else [\"HHbbVV\"]\n",
    "\n",
    "pbg_keys = [bk for bk in bg_keys if bk not in [\"Diboson\", \"Hbb\", \"HWW\"]]\n",
    "samples = pbg_keys + sig_keys + [data_key]"
   ]
  },
  {
   "cell_type": "code",
   "execution_count": 7,
   "metadata": {},
   "outputs": [],
   "source": [
    "shapes = {\n",
    "    \"prefit\": \"Pre-Fit\",\n",
    "    # \"shapes_fit_s\": \"S+B Post-Fit\",\n",
    "    \"postfit\": \"B-only Post-Fit\",\n",
    "}\n",
    "\n",
    "# if unblinded:\n",
    "#     shapes[\"postfit\"] = \"Post-Fit\"\n",
    "\n",
    "shape_vars = nonres_shape_vars\n",
    "\n",
    "selection_regions = {\n",
    "    \"passvbf\": \"VBF\",\n",
    "    \"passggf\": \"ggF\",\n",
    "    \"fail\": \"Fail\",\n",
    "}\n",
    "\n",
    "if vbf_only:\n",
    "    selection_regions.pop(\"passggf\")\n",
    "\n",
    "if ggf_only:\n",
    "    selection_regions.pop(\"passvbf\")"
   ]
  },
  {
   "cell_type": "code",
   "execution_count": 8,
   "metadata": {},
   "outputs": [
    {
     "name": "stdout",
     "output_type": "stream",
     "text": [
      "prefit\n",
      "No ST in passvbf\n",
      "No ST in passggf\n",
      "postfit\n",
      "No ST in passvbf\n",
      "No ST in passggf\n"
     ]
    }
   ],
   "source": [
    "hists = {}\n",
    "bgerrs = {}\n",
    "\n",
    "for shape in shapes:\n",
    "    print(shape)\n",
    "    hists[shape] = {\n",
    "        region: Hist(\n",
    "            hist.axis.StrCategory(samples, name=\"Sample\"),\n",
    "            *[shape_var.axis for shape_var in shape_vars],\n",
    "            storage=\"double\",\n",
    "        )\n",
    "        for region in selection_regions\n",
    "    }\n",
    "    bgerrs[shape] = {}\n",
    "\n",
    "    for region in selection_regions:\n",
    "        h = hists[shape][region]\n",
    "        templates = file[f\"{region}_{shape}\"]\n",
    "        for key, file_key in hist_label_map_inverse.items():\n",
    "            if key != data_key:\n",
    "                if file_key not in templates:\n",
    "                    print(f\"No {key} in {region}\")\n",
    "                    continue\n",
    "\n",
    "                data_key_index = np.where(np.array(list(h.axes[0])) == key)[0][0]\n",
    "                h.view(flow=False)[data_key_index, :] = templates[file_key].values()\n",
    "\n",
    "        # if key not in fit output, take from templates\n",
    "        for key in pbg_keys:\n",
    "            if key not in hist_label_map_inverse:\n",
    "                data_key_index = np.where(np.array(list(h.axes[0])) == key)[0][0]\n",
    "                h.view(flow=False)[data_key_index, :] = bg_pre_templates[region][key, ...].values()\n",
    "\n",
    "        # if key not in fit output, take from templates\n",
    "        for key in sig_keys:\n",
    "            if key not in hist_label_map_inverse:\n",
    "                data_key_index = np.where(np.array(list(h.axes[0])) == key)[0][0]\n",
    "                h.view(flow=False)[data_key_index, :] = sig_pre_templates[region][key, ...].values()\n",
    "\n",
    "        data_key_index = np.where(np.array(list(h.axes[0])) == data_key)[0][0]\n",
    "        h.view(flow=False)[data_key_index, :] = np.nan_to_num(\n",
    "            templates[hist_label_map_inverse[data_key]].values()\n",
    "        )\n",
    "\n",
    "        bgerrs[shape][region] = templates[\"TotalBkg\"].errors()"
   ]
  },
  {
   "cell_type": "code",
   "execution_count": 9,
   "metadata": {},
   "outputs": [],
   "source": [
    "if not unblinded:\n",
    "    for shapeh in hists.values():\n",
    "        for region, h in shapeh.items():\n",
    "            if region != \"fail\":\n",
    "                utils.blindBins(h, [100, 150], data_key, axis=0)"
   ]
  },
  {
   "cell_type": "code",
   "execution_count": 19,
   "metadata": {},
   "outputs": [],
   "source": [
    "ylims = {\"passggf\": 60, \"passvbf\": 11, \"fail\": 7e5}\n",
    "title_label = \" Asimov Dataset\" if asimov else \"\"\n",
    "sig_scale_dict = {\n",
    "    \"HHbbVV\": 100,\n",
    "    \"VBFHHbbVV\": 2000,\n",
    "    \"qqHH_CV_1_C2V_0_kl_1_HHbbVV\": 1,\n",
    "    \"qqHH_CV_1_C2V_2_kl_1_HHbbVV\": 1,\n",
    "}\n",
    "sig_scale_dict = {key: val for key, val in sig_scale_dict.items() if key in sig_keys}\n",
    "\n",
    "(plot_dir / \"preliminary\").mkdir(exist_ok=True, parents=True)\n",
    "(plot_dir / \"final\").mkdir(exist_ok=True, parents=True)\n",
    "\n",
    "for prelim, plabel, pplotdir in zip([True, False], [\"Preliminary\", \"\"], [\"preliminary\", \"final\"]):\n",
    "    for shape, shape_label in shapes.items():\n",
    "        # if shape != \"postfit\":\n",
    "        #     continue\n",
    "        for region, region_label in selection_regions.items():\n",
    "            pass_region = region.startswith(\"pass\")\n",
    "            for i, shape_var in enumerate(shape_vars):\n",
    "                plot_params = {\n",
    "                    \"hists\": hists[shape][region],\n",
    "                    \"sig_keys\": sig_keys,\n",
    "                    \"bg_keys\": pbg_keys,\n",
    "                    \"bg_err\": bgerrs[shape][region],\n",
    "                    \"resonant\": False,\n",
    "                    \"sig_scale_dict\": sig_scale_dict if pass_region else None,\n",
    "                    \"show\": False,\n",
    "                    \"year\": \"all\",\n",
    "                    \"ylim\": ylims[region],\n",
    "                    # \"title\": f\"{shape_label} {region_label} Region{title_label}\",\n",
    "                    \"region_label\": f\"{region_label} Region\",\n",
    "                    \"name\": f\"{plot_dir}/{pplotdir}/{shape}_{region}_{shape_var.var}.pdf\",\n",
    "                    \"ratio_ylims\": [0, 10] if region == \"passvbf\" else [0, 5],\n",
    "                    \"cmslabel\": plabel,\n",
    "                    \"leg_args\": {\"fontsize\": 22, \"ncol\": 2},\n",
    "                }\n",
    "\n",
    "                plotting.ratioHistPlot(**plot_params, data_err=True)\n",
    "\n",
    "    #     break\n",
    "    # break"
   ]
  },
  {
   "cell_type": "markdown",
   "metadata": {},
   "source": [
    "## QCD Transfer Factor"
   ]
  },
  {
   "cell_type": "code",
   "execution_count": null,
   "metadata": {},
   "outputs": [],
   "source": [
    "import matplotlib.ticker as mticker\n",
    "import mplhep as hep\n",
    "\n",
    "plt.style.use(hep.style.CMS)\n",
    "hep.style.use(\"CMS\")\n",
    "formatter = mticker.ScalarFormatter(useMathText=True)\n",
    "formatter.set_powerlimits((-3, 3))"
   ]
  },
  {
   "cell_type": "code",
   "execution_count": null,
   "metadata": {},
   "outputs": [],
   "source": [
    "ylims = {\"passggf\": 1e-4, \"passvbf\": 1e-5}\n",
    "tfs = {}\n",
    "\n",
    "for region, region_label in selection_regions.items():\n",
    "    if region == \"fail\":\n",
    "        continue\n",
    "\n",
    "    tf = hists[\"postfit\"][region][\"QCD\", ...] / hists[\"postfit\"][\"fail\"][\"QCD\", ...]\n",
    "    tfs[region] = tf\n",
    "\n",
    "    hep.histplot(tf)\n",
    "    plt.title(f\"{region_label} Region\")\n",
    "    plt.ylabel(\"QCD Transfer Factor\")\n",
    "    plt.xlim([50, 250])\n",
    "    plt.ylim([0, ylims[region]])\n",
    "    plt.ticklabel_format(style=\"sci\", axis=\"y\", scilimits=(0, 0))\n",
    "    plt.savefig(f\"{plot_dir}/{region}_QCDTF.pdf\", bbox_inches=\"tight\")\n",
    "    plt.show()"
   ]
  },
  {
   "cell_type": "code",
   "execution_count": null,
   "metadata": {},
   "outputs": [],
   "source": [
    "tf = tfs[\"passvbf\"]\n",
    "slope = (tf.view()[-1] - tf.view()[0]) / (245 - 55)\n",
    "yint = tf.view()[0] - slope * 55\n",
    "print(slope, yint)"
   ]
  }
 ],
 "metadata": {
  "kernelspec": {
   "display_name": "python39",
   "language": "python",
   "name": "python3"
  },
  "language_info": {
   "codemirror_mode": {
    "name": "ipython",
    "version": 3
   },
   "file_extension": ".py",
   "mimetype": "text/x-python",
   "name": "python",
   "nbconvert_exporter": "python",
   "pygments_lexer": "ipython3",
   "version": "3.9.15"
  },
  "orig_nbformat": 4
 },
 "nbformat": 4,
 "nbformat_minor": 2
}
