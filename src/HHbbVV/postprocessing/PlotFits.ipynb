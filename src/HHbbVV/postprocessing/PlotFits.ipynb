{
 "cells": [
  {
   "cell_type": "code",
   "execution_count": null,
   "metadata": {},
   "outputs": [],
   "source": [
    "import uproot\n",
    "import numpy as np\n",
    "import matplotlib.pyplot as plt\n",
    "from hist import Hist\n",
    "\n",
    "import plotting\n",
    "from hh_vars import sig_key, data_key\n",
    "\n",
    "import os"
   ]
  },
  {
   "cell_type": "code",
   "execution_count": null,
   "metadata": {},
   "outputs": [],
   "source": [
    "%load_ext autoreload\n",
    "%autoreload 2"
   ]
  },
  {
   "cell_type": "code",
   "execution_count": null,
   "metadata": {},
   "outputs": [],
   "source": [
    "MAIN_DIR = \"../../../\"\n",
    "\n",
    "plot_dir = \"../../../plots/PostFit/Feb28\"\n",
    "_ = os.system(f\"mkdir -p {plot_dir}\")"
   ]
  },
  {
   "cell_type": "code",
   "execution_count": null,
   "metadata": {},
   "outputs": [],
   "source": [
    "file = uproot.open(\n",
    "    \"/uscms/home/rkansal/nobackup/CMSSW_11_2_0/src/cards/Feb28/fitDiagnosticsBlinded.root\"\n",
    ")"
   ]
  },
  {
   "cell_type": "code",
   "execution_count": null,
   "metadata": {},
   "outputs": [],
   "source": [
    "hist_label_map = {\n",
    "    \"data\": data_key,\n",
    "    \"bbWW_boosted_ggf_qcd_datadriven\": \"QCD\",\n",
    "    \"vjets\": \"V+Jets\",\n",
    "    \"singletop\": \"ST\",\n",
    "    \"diboson\": \"Diboson\",\n",
    "    \"ttbar\": \"TT\",\n",
    "    \"ggHH_kl_1_kt_1_hbbhww4q\": \"HHbbVV\",\n",
    "}\n",
    "\n",
    "hist_label_map_inverse = {val: key for key, val in hist_label_map.items()}\n",
    "samples = list(hist_label_map.values())"
   ]
  },
  {
   "cell_type": "code",
   "execution_count": null,
   "metadata": {},
   "outputs": [],
   "source": [
    "# bb msd is final shape var\n",
    "shape_var = (\"bbFatJetMsd\", r\"$m^{bb}$ (GeV)\")\n",
    "shape_bins = [20, 50, 250]  # num bins, min, max\n",
    "blind_window = [100, 150]\n",
    "regions = {\"fail\": \"Fail\", \"pass\": \"Pass\"}\n",
    "shapes = {\n",
    "    \"shapes_prefit\": \"Pre-Fit\",\n",
    "    \"shapes_fit_s\": \"S+B Post-Fit\",\n",
    "    \"shapes_fit_b\": \"B-only Post-Fit\",\n",
    "}"
   ]
  },
  {
   "cell_type": "code",
   "execution_count": null,
   "metadata": {},
   "outputs": [],
   "source": [
    "hists = {}\n",
    "data_errs = {}\n",
    "\n",
    "for shape in shapes:\n",
    "    hists[shape] = {\n",
    "        region: Hist.new.StrCat(samples, name=\"Sample\")\n",
    "        .Reg(*shape_bins, name=shape_var[0], label=shape_var[1])\n",
    "        .Double()\n",
    "        for region in regions\n",
    "    }\n",
    "\n",
    "    data_errs[shape] = {}\n",
    "\n",
    "    for region in regions:\n",
    "        h = hists[shape][region]\n",
    "        for key, file_key in hist_label_map_inverse.items():\n",
    "            if key != data_key:\n",
    "                data_key_index = np.where(np.array(list(h.axes[0])) == key)[0][0]\n",
    "                h.view(flow=False)[data_key_index] = file[shape][region][file_key].values() * 10\n",
    "\n",
    "        data_key_index = np.where(np.array(list(h.axes[0])) == data_key)[0][0]\n",
    "        h.view(flow=False)[data_key_index] = file[shape][region][\"data\"].values()[1] * 10\n",
    "\n",
    "        data_errs[shape][region] = np.stack(\n",
    "            (\n",
    "                file[shape][region][\"data\"].errors(which=\"low\")[1] * 10,\n",
    "                file[shape][region][\"data\"].errors(which=\"high\")[1] * 10,\n",
    "            )\n",
    "        )"
   ]
  },
  {
   "cell_type": "code",
   "execution_count": null,
   "metadata": {},
   "outputs": [],
   "source": [
    "for shape, slabel in shapes.items():\n",
    "    for region, rlabel in regions.items():\n",
    "        plotting.ratioHistPlot(\n",
    "            hists[shape][region],\n",
    "            \"all\",\n",
    "            [\"QCD\", \"ST\", \"V+Jets\", \"TT\", \"Diboson\"],\n",
    "            data_err=data_errs[shape][region],\n",
    "            title=f\"{rlabel} Region {slabel} Shapes\",\n",
    "            name=f\"{plot_dir}/{region}_{shape}.pdf\",\n",
    "        )"
   ]
  },
  {
   "cell_type": "code",
   "execution_count": null,
   "metadata": {},
   "outputs": [],
   "source": []
  }
 ],
 "metadata": {
  "kernelspec": {
   "display_name": "bbVV",
   "language": "python",
   "name": "python3"
  },
  "language_info": {
   "codemirror_mode": {
    "name": "ipython",
    "version": 3
   },
   "file_extension": ".py",
   "mimetype": "text/x-python",
   "name": "python",
   "nbconvert_exporter": "python",
   "pygments_lexer": "ipython3",
   "version": "3.10.4"
  },
  "orig_nbformat": 4,
  "vscode": {
   "interpreter": {
    "hash": "5b9eab485576227e6cf1b964bb8855c46cbdf15c3e77cecdb2bb309145d3e8d8"
   }
  }
 },
 "nbformat": 4,
 "nbformat_minor": 2
}
