{
 "cells": [
  {
   "cell_type": "code",
   "execution_count": 17,
   "metadata": {},
   "outputs": [],
   "source": [
    "import utils\n",
    "import plotting\n",
    "import postprocessing\n",
    "import numpy as np\n",
    "import warnings\n",
    "import pandas as pd\n",
    "from pandas.errors import SettingWithCopyWarning\n",
    "from sample_labels import samples, sig_key, qcd_key, data_key\n",
    "import os\n",
    "from utils import CUT_MAX_VAL\n",
    "\n",
    "# ignore these because they don't seem to apply\n",
    "warnings.simplefilter(action=\"ignore\", category=SettingWithCopyWarning)\n",
    "\n",
    "from PyPDF2 import PdfFileMerger\n",
    "\n",
    "import pickle\n",
    "\n",
    "from copy import deepcopy\n",
    "\n",
    "import matplotlib.pyplot as plt\n",
    "import mplhep as hep\n",
    "import matplotlib.ticker as mticker\n",
    "\n",
    "plt.style.use(hep.style.CMS)\n",
    "hep.style.use(\"CMS\")\n",
    "formatter = mticker.ScalarFormatter(useMathText=True)\n",
    "formatter.set_powerlimits((-3, 3))\n",
    "plt.rcParams.update({\"font.size\": 16})"
   ]
  },
  {
   "cell_type": "code",
   "execution_count": 2,
   "metadata": {},
   "outputs": [],
   "source": [
    "%load_ext autoreload\n",
    "%autoreload 2"
   ]
  },
  {
   "cell_type": "code",
   "execution_count": 3,
   "metadata": {},
   "outputs": [],
   "source": [
    "MAIN_DIR = \"../../../\"\n",
    "samples_dir = f\"{MAIN_DIR}/../data/skimmer/Jan31\"\n",
    "signal_samples_dir = f\"{MAIN_DIR}/../data/skimmer/Feb3\"\n",
    "year = \"2017\"\n",
    "\n",
    "# plot_dir = \"../../../plots/PostProcessing/Feb15\"\n",
    "# templates_dir = \"templates/Jan31/\"\n",
    "# _ = os.system(f\"mkdir -p {plot_dir}\")\n",
    "# _ = os.system(f\"mkdir -p {templates_dir}\")"
   ]
  },
  {
   "cell_type": "code",
   "execution_count": 4,
   "metadata": {},
   "outputs": [],
   "source": [
    "# Both Jet's Msds > 50 & at least one jet with Txbb > 0.8\n",
    "filters = [\n",
    "    [\n",
    "        (\"('ak8FatJetMsd', '0')\", \">=\", 50),\n",
    "        (\"('ak8FatJetMsd', '1')\", \">=\", 50),\n",
    "        (\"('ak8FatJetParticleNetMD_Txbb', '0')\", \">=\", 0.8),\n",
    "    ],\n",
    "    [\n",
    "        (\"('ak8FatJetMsd', '0')\", \">=\", 50),\n",
    "        (\"('ak8FatJetMsd', '1')\", \">=\", 50),\n",
    "        (\"('ak8FatJetParticleNetMD_Txbb', '1')\", \">=\", 0.8),\n",
    "    ],\n",
    "]\n",
    "\n",
    "# {label: {cutvar: [min, max], ...}, ...}\n",
    "selection_regions = {\n",
    "    \"passCat1\": {\n",
    "        \"BDTScore\": [0.986, CUT_MAX_VAL],\n",
    "        \"bbFatJetParticleNetMD_Txbb\": [0.976, CUT_MAX_VAL],\n",
    "    },\n",
    "    \"BDTOnly\": {\n",
    "        \"BDTScore\": [0.986, CUT_MAX_VAL],\n",
    "    },\n",
    "    \"fail\": {\n",
    "        \"bbFatJetParticleNetMD_Txbb\": [0.8, 0.976],\n",
    "    },\n",
    "}\n",
    "\n",
    "# bb msd is final shape var\n",
    "shape_var = (\"bbFatJetMsd\", r\"$m^{bb}$ (GeV)\")\n",
    "shape_bins = [20, 50, 250]  # num bins, min, max\n",
    "blind_window = [100, 150]"
   ]
  },
  {
   "attachments": {},
   "cell_type": "markdown",
   "metadata": {},
   "source": [
    "Load samples"
   ]
  },
  {
   "cell_type": "code",
   "execution_count": 5,
   "metadata": {},
   "outputs": [
    {
     "name": "stdout",
     "output_type": "stream",
     "text": [
      "Pre-selection HHbbVV yield: 3.93\n",
      "Pre-selection QCD yield: 3225080.38\n",
      "Pre-selection W+Jets yield: 22355.24\n",
      "Pre-selection Data yield: 869653.00\n",
      "Pre-selection TT yield: 219865.36\n"
     ]
    }
   ],
   "source": [
    "cutflow = pd.DataFrame(index=list(samples.keys()))\n",
    "events_dict = utils.load_samples(signal_samples_dir, {sig_key: samples[sig_key]}, year, filters)\n",
    "events_dict |= utils.load_samples(samples_dir, {k: samples[k] for k in samples.keys() - [sig_key]}, year, filters)\n",
    "utils.add_to_cutflow(events_dict, \"BDTPreselection\", \"weight\", cutflow)\n",
    "\n",
    "# print weighted sample yields\n",
    "for sample in events_dict:\n",
    "    tot_weight = np.sum(events_dict[sample][\"weight\"].values)\n",
    "    print(f\"Pre-selection {sample} yield: {tot_weight:.2f}\")"
   ]
  },
  {
   "attachments": {},
   "cell_type": "markdown",
   "metadata": {},
   "source": [
    "Load Trigger SFs"
   ]
  },
  {
   "cell_type": "code",
   "execution_count": 8,
   "metadata": {},
   "outputs": [],
   "source": [
    "combined = {}\n",
    "years = [\"2017\"]\n",
    "\n",
    "for year in years:\n",
    "    with open(\n",
    "        f\"../corrections/trigEffs/{year}_combined.pkl\", \"rb\"\n",
    "    ) as filehandler:\n",
    "        combined[year] = pickle.load(filehandler)"
   ]
  },
  {
   "cell_type": "code",
   "execution_count": 12,
   "metadata": {},
   "outputs": [],
   "source": [
    "effs = {\n",
    "    year: combined[year][\"num\"][:, :, :, :] / combined[year][\"den\"][:, :, :, :]\n",
    "    for year in years\n",
    "}\n",
    "effs_txbb = {\n",
    "    year: combined[year][\"num\"][:, sum, :, :] / combined[year][\"den\"][:, sum, :, :]\n",
    "    for year in years\n",
    "}\n",
    "effs_th4q = {\n",
    "    year: combined[year][\"num\"][sum, :, :, :] / combined[year][\"den\"][sum, :, :, :]\n",
    "    for year in years\n",
    "}"
   ]
  },
  {
   "cell_type": "code",
   "execution_count": 23,
   "metadata": {},
   "outputs": [
    {
     "data": {
      "text/plain": [
       "Hist(\n",
       "  Variable([0, 0.9, 0.95, 0.98, 1], name='jet1txbb', label='$T_{Xbb}$ Score'),\n",
       "  Regular(50, 0, 1000, name='jet1pt', label='$p_T$ (GeV)'),\n",
       "  Regular(15, 0, 300, name='jet1msd', label='$m_{SD}$ (GeV)'),\n",
       "  storage=Double()) # Sum: nan (nan with flow)"
      ]
     },
     "execution_count": 23,
     "metadata": {},
     "output_type": "execute_result"
    }
   ],
   "source": [
    "effs_txbb[year]"
   ]
  },
  {
   "cell_type": "code",
   "execution_count": 18,
   "metadata": {},
   "outputs": [],
   "source": [
    "from hist.intervals import clopper_pearson_interval\n",
    "from coffea.lookup_tools.dense_lookup import dense_lookup\n",
    "\n",
    "trig_errors = {}\n",
    "trig_intervals = {}\n",
    "errors_txbb = {}\n",
    "intervals_txbb = {}\n",
    "errors_th4q = {}\n",
    "intervals_th4q = {}\n",
    "\n",
    "for year in years:\n",
    "    intervals = clopper_pearson_interval(\n",
    "        combined[year][\"num\"].view(flow=False),\n",
    "        combined[year][\"den\"].view(flow=False),\n",
    "    )\n",
    "    trig_errors[year] = (intervals[1] - intervals[0]) / 2\n",
    "    trig_intervals[year] = intervals\n",
    "\n",
    "    intervals = clopper_pearson_interval(\n",
    "        combined[year][\"num\"][:, sum, :, :].view(flow=False),\n",
    "        combined[year][\"den\"][:, sum, :, :].view(flow=False),\n",
    "    )\n",
    "    errors_txbb[year] = (intervals[1] - intervals[0]) / 2\n",
    "    intervals_txbb[year] = intervals\n",
    "\n",
    "    intervals = clopper_pearson_interval(\n",
    "        combined[year][\"num\"][sum, :, :, :].view(flow=False),\n",
    "        combined[year][\"den\"][sum, :, :, :].view(flow=False),\n",
    "    )\n",
    "    errors_th4q[year] = (intervals[1] - intervals[0]) / 2\n",
    "    intervals_th4q[year] = intervals"
   ]
  },
  {
   "cell_type": "code",
   "execution_count": 22,
   "metadata": {},
   "outputs": [
    {
     "data": {
      "text/plain": [
       "(2, 4, 4, 50, 15)"
      ]
     },
     "execution_count": 22,
     "metadata": {},
     "output_type": "execute_result"
    }
   ],
   "source": [
    "trig_intervals[year].shape"
   ]
  },
  {
   "cell_type": "code",
   "execution_count": 24,
   "metadata": {},
   "outputs": [],
   "source": [
    "ak8TrigEffsLookup = dense_lookup(\n",
    "    np.nan_to_num(effs[year].view(flow=False), 0), np.squeeze(effs[year].axes.edges)\n",
    ")\n",
    "\n",
    "weight_key = \"weight_4d\"\n",
    "\n",
    "for sample in events_dict:\n",
    "    events = events_dict[sample]\n",
    "    if sample == data_key:\n",
    "        events[weight_key] = events[\"weight\"]\n",
    "    else:\n",
    "        fj_trigeffs = ak8TrigEffsLookup(\n",
    "            events[\"ak8FatJetParticleNetMD_Txbb\"].values,\n",
    "            events[\"ak8FatJetParticleNet_Th4q\"].values,\n",
    "            events[\"ak8FatJetPt\"].values,\n",
    "            events[\"ak8FatJetMsd\"].values,\n",
    "        )\n",
    "        # combined eff = 1 - (1 - fj1_eff) * (1 - fj2_eff)\n",
    "        combined_trigEffs = 1 - np.prod(1 - fj_trigeffs, axis=1, keepdims=True)\n",
    "        events[weight_key] = events[\"weight\"] * combined_trigEffs\n"
   ]
  },
  {
   "cell_type": "code",
   "execution_count": 25,
   "metadata": {},
   "outputs": [],
   "source": [
    "ak8TrigEffsLookup = dense_lookup(\n",
    "    np.nan_to_num(effs_txbb[year].view(flow=False), 0), np.squeeze(effs_txbb[year].axes.edges)\n",
    ")\n",
    "\n",
    "weight_key = \"weight_3d\"\n",
    "\n",
    "for sample in events_dict:\n",
    "    events = events_dict[sample]\n",
    "    if sample == data_key:\n",
    "        events[weight_key] = events[\"weight\"]\n",
    "    else:\n",
    "        fj_trigeffs = ak8TrigEffsLookup(\n",
    "            events[\"ak8FatJetParticleNetMD_Txbb\"].values,\n",
    "            events[\"ak8FatJetPt\"].values,\n",
    "            events[\"ak8FatJetMsd\"].values,\n",
    "        )\n",
    "        # combined eff = 1 - (1 - fj1_eff) * (1 - fj2_eff)\n",
    "        combined_trigEffs = 1 - np.prod(1 - fj_trigeffs, axis=1, keepdims=True)\n",
    "        events[weight_key] = events[\"weight\"] * combined_trigEffs\n"
   ]
  },
  {
   "cell_type": "code",
   "execution_count": 26,
   "metadata": {},
   "outputs": [
    {
     "name": "stdout",
     "output_type": "stream",
     "text": [
      "Pre-selection HHbbVV yield: 1.58\n",
      "Pre-selection QCD yield: 886995.23\n",
      "Pre-selection W+Jets yield: 8973.01\n",
      "Pre-selection Data yield: 869653.00\n",
      "Pre-selection TT yield: 97296.24\n"
     ]
    }
   ],
   "source": [
    "# print weighted sample yields\n",
    "for sample in events_dict:\n",
    "    tot_weight = np.sum(events_dict[sample][\"weight_4d\"].values)\n",
    "    print(f\"Pre-selection {sample} yield: {tot_weight:.2f}\")"
   ]
  },
  {
   "cell_type": "code",
   "execution_count": 27,
   "metadata": {},
   "outputs": [
    {
     "name": "stdout",
     "output_type": "stream",
     "text": [
      "Pre-selection HHbbVV yield: 1.56\n",
      "Pre-selection QCD yield: 887113.86\n",
      "Pre-selection W+Jets yield: 8972.77\n",
      "Pre-selection Data yield: 869653.00\n",
      "Pre-selection TT yield: 97386.16\n"
     ]
    }
   ],
   "source": [
    "# print weighted sample yields\n",
    "for sample in events_dict:\n",
    "    tot_weight = np.sum(events_dict[sample][\"weight_3d\"].values)\n",
    "    print(f\"Pre-selection {sample} yield: {tot_weight:.2f}\")"
   ]
  }
 ],
 "metadata": {
  "kernelspec": {
   "display_name": "python310",
   "language": "python",
   "name": "python3"
  },
  "language_info": {
   "codemirror_mode": {
    "name": "ipython",
    "version": 3
   },
   "file_extension": ".py",
   "mimetype": "text/x-python",
   "name": "python",
   "nbconvert_exporter": "python",
   "pygments_lexer": "ipython3",
   "version": "3.10.8"
  },
  "orig_nbformat": 4,
  "vscode": {
   "interpreter": {
    "hash": "15adc7883e707560d0d9727709639b8fe3f3cff1f197d2d643742923ff23a29c"
   }
  }
 },
 "nbformat": 4,
 "nbformat_minor": 2
}
