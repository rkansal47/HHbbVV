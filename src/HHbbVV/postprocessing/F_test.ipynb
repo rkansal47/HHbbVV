{
 "cells": [
  {
   "cell_type": "code",
   "execution_count": null,
   "metadata": {},
   "outputs": [],
   "source": [
    "from typing import List\n",
    "import uproot\n",
    "import numpy as np\n",
    "import matplotlib.pyplot as plt\n",
    "import mplhep as hep\n",
    "import matplotlib.ticker as mticker\n",
    "import os\n",
    "\n",
    "plt.style.use(hep.style.CMS)\n",
    "hep.style.use(\"CMS\")\n",
    "formatter = mticker.ScalarFormatter(useMathText=True)\n",
    "formatter.set_powerlimits((-3, 3))\n",
    "plt.rcParams.update({\"font.size\": 20})"
   ]
  },
  {
   "cell_type": "code",
   "execution_count": null,
   "metadata": {},
   "outputs": [],
   "source": [
    "MAIN_DIR = \"../../../\"\n",
    "\n",
    "plot_dir = f\"{MAIN_DIR}/plots/GoF/Apr27\"\n",
    "_ = os.system(f\"mkdir -p {plot_dir}\")"
   ]
  },
  {
   "cell_type": "code",
   "execution_count": null,
   "metadata": {},
   "outputs": [],
   "source": [
    "def p_value(data_ts: float, toy_ts: List[float]):\n",
    "    return np.mean(toy_ts >= data_ts)\n",
    "\n",
    "\n",
    "def F_statistic(\n",
    "    ts_low: List[float], ts_high: list[float], ord_low: int, ord_high: int, num_bins: int = 10 * 14\n",
    "):\n",
    "    numerator = -2.0 * np.log(ts_low / ts_high) / (ord_high - ord_low)\n",
    "    denominator = -2.0 * np.log(ts_high) / (num_bins - ord_high)\n",
    "\n",
    "    return numerator / denominator"
   ]
  },
  {
   "cell_type": "code",
   "execution_count": null,
   "metadata": {},
   "outputs": [],
   "source": [
    "cards_dir = \"f_tests/Apr26/\"\n",
    "toy_tests = {}  # toy test statistics\n",
    "data_tests = {}  # data test statistics\n",
    "f_toy_tests = {}\n",
    "f_data_tests = {}\n",
    "f_toy_tests = {}\n",
    "\n",
    "for nTF1 in range(2):\n",
    "    toy_tests[nTF1] = {}\n",
    "    data_tests[nTF1] = {}\n",
    "    f_toy_tests[nTF1] = {}\n",
    "    f_data_tests[nTF1] = {}\n",
    "    for nTF2 in range(2):\n",
    "        file = uproot.concatenate(\n",
    "            f\"/uscms/home/rkansal/nobackup/CMSSW_11_2_0/src/cards/{cards_dir}/nTF1_{nTF1}_nTF2_{nTF2}/higgsCombineValidationToys.GoodnessOfFit.mH125.*.root\"\n",
    "        )\n",
    "        toy_tests[nTF1][nTF2] = np.array(file[\"limit\"])  # toy test statistics\n",
    "\n",
    "        file = uproot.concatenate(\n",
    "            f\"/uscms/home/rkansal/nobackup/CMSSW_11_2_0/src/cards/{cards_dir}/nTF1_{nTF1}_nTF2_{nTF2}/higgsCombinepassData.GoodnessOfFit.mH125.root\"\n",
    "        )\n",
    "\n",
    "        data_tests[nTF1][nTF2] = file[\"limit\"][0]  # data test statistic\n",
    "\n",
    "        if not (nTF1 == 0 and nTF2 == 0):\n",
    "            f_toy_tests[nTF1][nTF2] = F_statistic(\n",
    "                toy_tests[nTF1][nTF2], toy_tests[0][0], nTF1 + nTF2, 0\n",
    "            )\n",
    "            f_data_tests[nTF1][nTF2] = F_statistic(\n",
    "                data_tests[nTF1][nTF2], data_tests[0][0], nTF1 + nTF2, 0\n",
    "            )"
   ]
  },
  {
   "cell_type": "code",
   "execution_count": null,
   "metadata": {},
   "outputs": [],
   "source": [
    "data_ts, toy_ts = data_tests[0][0], toy_tests[0][0]\n",
    "plot_max = max(np.max(toy_ts), data_ts)\n",
    "plot_min = min(np.min(toy_ts), data_ts)\n",
    "gof_pval = p_value(data_ts, toy_ts)\n",
    "gof_pval"
   ]
  },
  {
   "cell_type": "code",
   "execution_count": null,
   "metadata": {},
   "outputs": [],
   "source": [
    "plt.figure(figsize=(12, 8))\n",
    "_ = plt.hist(\n",
    "    toy_ts, np.linspace(plot_min, plot_max, 10), color=\"dimgrey\", histtype=\"step\", label=\"Toys\"\n",
    ")\n",
    "plt.axvline(data_ts, color=\"red\", linestyle=\":\", label=rf\"Data ($p$-value = {gof_pval:.2f})\")\n",
    "_ = plt.legend()\n",
    "plt.title(\"Goodness of Fit\")\n",
    "plt.ylabel(\"Number of Toys\")\n",
    "plt.xlabel(\"Test Statistics\")\n",
    "plt.savefig(f\"{plot_dir}/gof00.pdf\")"
   ]
  },
  {
   "cell_type": "code",
   "execution_count": null,
   "metadata": {},
   "outputs": [],
   "source": [
    "for ord1, ord2 in [[0, 1], [1, 0]]:\n",
    "    pval = p_value(f_data_tests[ord1][ord2], f_toy_tests[ord1][ord2])\n",
    "    plot_min = min(np.min(f_toy_tests[ord1][ord2]), f_data_tests[ord1][ord2])\n",
    "    plot_max = max(np.max(f_toy_tests[ord1][ord2]), f_data_tests[ord1][ord2])\n",
    "\n",
    "    plt.figure(figsize=(12, 8))\n",
    "    _ = plt.hist(\n",
    "        f_toy_tests[ord1][ord2],\n",
    "        np.linspace(plot_min, plot_max, 10),\n",
    "        color=\"dimgrey\",\n",
    "        histtype=\"step\",\n",
    "        label=\"Toys\",\n",
    "    )\n",
    "    plt.axvline(\n",
    "        f_data_tests[ord1][ord2],\n",
    "        color=\"red\",\n",
    "        linestyle=\":\",\n",
    "        label=rf\"Data ($p$-value = {pval:.2f})\",\n",
    "    )\n",
    "    _ = plt.legend()\n",
    "    plt.title(\"F-test\")\n",
    "    plt.ylabel(\"Number of Toys\")\n",
    "    plt.xlabel(\"Test Statistics\")\n",
    "    plt.savefig(f\"{plot_dir}/ftest{ord1}{ord2}.pdf\")"
   ]
  },
  {
   "cell_type": "code",
   "execution_count": null,
   "metadata": {},
   "outputs": [],
   "source": []
  }
 ],
 "metadata": {
  "kernelspec": {
   "display_name": "python39",
   "language": "python",
   "name": "python3"
  },
  "language_info": {
   "codemirror_mode": {
    "name": "ipython",
    "version": 3
   },
   "file_extension": ".py",
   "mimetype": "text/x-python",
   "name": "python",
   "nbconvert_exporter": "python",
   "pygments_lexer": "ipython3",
   "version": "3.9.15"
  },
  "orig_nbformat": 4
 },
 "nbformat": 4,
 "nbformat_minor": 2
}
