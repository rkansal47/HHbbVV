{
 "cells": [
  {
   "cell_type": "code",
   "execution_count": null,
   "metadata": {},
   "outputs": [],
   "source": [
    "import utils\n",
    "import plotting\n",
    "import numpy as np\n",
    "import warnings\n",
    "import pandas as pd\n",
    "from pathlib import Path\n",
    "\n",
    "from pandas.errors import SettingWithCopyWarning\n",
    "from HHbbVV.hh_vars import data_key\n",
    "import postprocessing\n",
    "\n",
    "# ignore these because they don't seem to apply\n",
    "warnings.simplefilter(action=\"ignore\", category=SettingWithCopyWarning)\n",
    "\n",
    "from PyPDF2 import PdfMerger\n",
    "\n",
    "from copy import deepcopy\n",
    "\n",
    "import matplotlib.pyplot as plt\n",
    "import mplhep as hep\n",
    "import matplotlib.ticker as mticker\n",
    "\n",
    "plt.style.use(hep.style.CMS)\n",
    "hep.style.use(\"CMS\")\n",
    "formatter = mticker.ScalarFormatter(useMathText=True)\n",
    "formatter.set_powerlimits((-3, 3))\n",
    "plt.rcParams.update({\"font.size\": 16})"
   ]
  },
  {
   "cell_type": "code",
   "execution_count": null,
   "metadata": {},
   "outputs": [],
   "source": [
    "%load_ext autoreload\n",
    "%autoreload 2"
   ]
  },
  {
   "cell_type": "code",
   "execution_count": null,
   "metadata": {},
   "outputs": [],
   "source": [
    "plot_dir = Path(\"../../../plots/ttsfs/24Jul24BLDistortion\")\n",
    "plot_dir.mkdir(parents=True, exist_ok=True)"
   ]
  },
  {
   "cell_type": "markdown",
   "metadata": {},
   "source": [
    "## Load samples"
   ]
  },
  {
   "cell_type": "code",
   "execution_count": null,
   "metadata": {},
   "outputs": [],
   "source": [
    "bg_samples = {\n",
    "    \"QCD\": \"QCD\",\n",
    "    \"SingleTop\": [\"ST\"],\n",
    "    \"TTbar\": [\"TTTo2L2Nu\", \"TTToHadronic\"],\n",
    "    \"W+Jets\": \"WJets\",\n",
    "    \"Diboson\": [\"WW\", \"WZ\", \"ZZ\"],\n",
    "    \"Data\": \"SingleMuon\",\n",
    "}\n",
    "\n",
    "sig_samples = {\"Top\": [\"TTToSemiLeptonic\"]}\n",
    "\n",
    "samples = {**bg_samples, **sig_samples}\n",
    "\n",
    "top_matched_key = \"TT Top Matched\"\n",
    "\n",
    "# data_dir = \"../../../../data/ttsfs/24Feb28_update_lp/\"\n",
    "data_dir = \"/ceph/cms/store/user/rkansal/bbVV/ttsfs/24Feb28_update_lp/\"\n",
    "signal_data_dir = \"/ceph/cms/store/user/rkansal/bbVV/ttsfs/24Jul23BLDistortion/\"\n",
    "year = \"2018\"\n",
    "\n",
    "# filters = [(\"('ak8FatJetPt', '0')\", \">=\", 500)]\n",
    "filters = None\n",
    "\n",
    "events_dict = postprocessing.load_samples(data_dir, bg_samples, year, hem_cleaning=False)\n",
    "events_dict |= postprocessing.load_samples(signal_data_dir, sig_samples, year, hem_cleaning=False)\n",
    "\n",
    "cutflow = pd.DataFrame(index=list(samples.keys()))\n",
    "utils.add_to_cutflow(events_dict, \"Selection\", \"weight\", cutflow)\n",
    "cutflow"
   ]
  },
  {
   "cell_type": "markdown",
   "metadata": {},
   "source": [
    "HEM Veto Efficiency"
   ]
  },
  {
   "cell_type": "code",
   "execution_count": null,
   "metadata": {},
   "outputs": [],
   "source": [
    "tot_pre = 0\n",
    "tot_hem = 0\n",
    "for run in [\"A\", \"B\", \"C\", \"D\"]:\n",
    "    cf = utils.get_pickles(\n",
    "        f\"{data_dir}/{year}/SingleMuon_Run2018{run}/pickles\", year, f\"SingleMuon_Run2018{run}\"\n",
    "    )[\"cutflow\"]\n",
    "    tot_pre += cf[\"ak4_jet\"]\n",
    "    tot_hem += cf[\"hem_cleaning\"]\n",
    "\n",
    "print(tot_hem / tot_pre)"
   ]
  },
  {
   "cell_type": "markdown",
   "metadata": {},
   "source": [
    "### Normalization"
   ]
  },
  {
   "cell_type": "code",
   "execution_count": null,
   "metadata": {},
   "outputs": [],
   "source": [
    "scale_samples = [\"Top\", \"TTbar\", \"SingleTop\", \"W+Jets\"]  # normalizations are off\n",
    "\n",
    "total_scale = 0\n",
    "total_noscale = 0\n",
    "for sample, events in events_dict.items():\n",
    "    if sample in scale_samples:\n",
    "        total_scale += events[\"weight\"].sum().values[0]\n",
    "    elif sample != \"Data\":\n",
    "        total_noscale += events[\"weight\"].sum().values[0]\n",
    "\n",
    "print(f\"Total MC: {total_scale + total_noscale}\")\n",
    "\n",
    "sf = (events_dict[\"Data\"][\"weight\"].sum().values[0] - total_noscale) / total_scale\n",
    "for sample, events in events_dict.items():\n",
    "    if sample in scale_samples:\n",
    "        events[\"weight\"] *= sf\n",
    "\n",
    "total = 0\n",
    "for sample, events in events_dict.items():\n",
    "    if sample != \"Data\":\n",
    "        total += events[\"weight\"].sum().values[0]\n",
    "\n",
    "print(f\"New Total MC: {total}\")"
   ]
  },
  {
   "cell_type": "code",
   "execution_count": null,
   "metadata": {},
   "outputs": [],
   "source": [
    "utils.add_to_cutflow(events_dict, \"Scale\", \"weight\", cutflow)\n",
    "cutflow"
   ]
  },
  {
   "cell_type": "markdown",
   "metadata": {},
   "source": [
    "### Selection"
   ]
  },
  {
   "cell_type": "code",
   "execution_count": null,
   "metadata": {},
   "outputs": [],
   "source": [
    "for key in events_dict:\n",
    "    events_dict[key] = events_dict[key][events_dict[key][\"ak8FatJetPt\"][0] >= 500]\n",
    "    events_dict[key] = events_dict[key][events_dict[key][\"ak8FatJetMsd\"][0] >= 125]\n",
    "    events_dict[key] = events_dict[key][events_dict[key][\"ak8FatJetMsd\"][0] <= 225]"
   ]
  },
  {
   "cell_type": "code",
   "execution_count": null,
   "metadata": {},
   "outputs": [],
   "source": [
    "events_dict[top_matched_key] = events_dict[\"Top\"].loc[events_dict[\"Top\"][\"top_matched\"][0] == 1]\n",
    "events_dict[\"TT W Matched\"] = events_dict[\"Top\"].loc[events_dict[\"Top\"][\"w_matched\"][0] == 1]\n",
    "events_dict[\"TT Unmatched\"] = pd.concat(\n",
    "    [\n",
    "        events_dict[\"TTbar\"],\n",
    "        # events_dict[\"SingleTop\"],\n",
    "        events_dict[\"Top\"].loc[events_dict[\"Top\"][\"unmatched\"][0] == 1],\n",
    "    ]\n",
    ")\n",
    "# del events_dict[\"Top\"]\n",
    "# del events_dict[\"TTbar\"]"
   ]
  },
  {
   "cell_type": "code",
   "execution_count": null,
   "metadata": {},
   "outputs": [],
   "source": [
    "print(np.sum(events_dict[top_matched_key][\"weight\"]))\n",
    "print(np.sum(events_dict[\"TT W Matched\"][\"weight\"]))\n",
    "print(np.sum(events_dict[\"TT Unmatched\"][\"weight\"]))"
   ]
  },
  {
   "cell_type": "markdown",
   "metadata": {},
   "source": [
    "## LP SF Processing"
   ]
  },
  {
   "cell_type": "code",
   "execution_count": null,
   "metadata": {},
   "outputs": [],
   "source": [
    "CLIP = 5.0\n",
    "\n",
    "events = events_dict[top_matched_key]\n",
    "\n",
    "up_prong_rc = (\n",
    "    (events[\"lp_sf_outside_boundary_quarks\"][0] > 0)\n",
    "    | (events[\"lp_sf_double_matched_event\"][0] > 0)\n",
    "    | (events[\"lp_sf_unmatched_quarks\"][0] > 0)\n",
    ").to_numpy()\n",
    "\n",
    "down_prong_rc = (\n",
    "    (events[\"lp_sf_inside_boundary_quarks\"][0] > 0)\n",
    "    | (events[\"lp_sf_double_matched_event\"][0] > 0)\n",
    "    | (events[\"lp_sf_unmatched_quarks\"][0] > 0)\n",
    ").to_numpy()\n",
    "\n",
    "rc_unmatched = events[\"lp_sf_rc_unmatched_quarks\"][0] > 0\n",
    "\n",
    "for shift, prong_rc in [(\"up\", up_prong_rc), (\"down\", down_prong_rc)]:\n",
    "    np_sfs = events[\"lp_sf_lnN\"][0].to_numpy()\n",
    "    np_sfs[prong_rc] = events[f\"lp_sf_np_{shift}\"][0][prong_rc]\n",
    "    np_sfs = np.nan_to_num(np.clip(np_sfs, 1.0 / CLIP, CLIP))\n",
    "    events.loc[:, (f\"lp_sf_np_{shift}\", 0)] = np_sfs / np.mean(np_sfs, axis=0)\n",
    "\n",
    "for shift in [\"up\", \"down\"]:\n",
    "    np_sfs = events[\"lp_sf_lnN\"][0].to_numpy()\n",
    "    np_sfs[rc_unmatched] = CLIP if shift == \"up\" else 1.0 / CLIP\n",
    "    np_sfs = np.nan_to_num(np.clip(np_sfs, 1.0 / CLIP, CLIP))\n",
    "    events[f\"lp_sf_unmatched_{shift}\"] = np_sfs / np.mean(np_sfs, axis=0)"
   ]
  },
  {
   "cell_type": "code",
   "execution_count": null,
   "metadata": {},
   "outputs": [],
   "source": [
    "print(np.mean(rc_unmatched))\n",
    "print(np.mean(events[\"lp_sf_unmatched_quarks\"][0] > 0))"
   ]
  },
  {
   "cell_type": "markdown",
   "metadata": {},
   "source": [
    "### Normalization"
   ]
  },
  {
   "cell_type": "code",
   "execution_count": null,
   "metadata": {},
   "outputs": [],
   "source": [
    "# normalize scale factors to average to 1\n",
    "for key in [\n",
    "    # \"lp_sf\",\n",
    "    \"lp_sf_lnN\",\n",
    "    \"lp_sf_sys_down\",\n",
    "    \"lp_sf_sys_up\",\n",
    "    \"lp_sf_dist_down\",\n",
    "    \"lp_sf_dist_up\",\n",
    "    \"lp_sf_pt_extrap_vars\",\n",
    "    \"lp_sfs_bl_ratio\",\n",
    "]:\n",
    "    # cut off at 5\n",
    "    events_dict[top_matched_key].loc[:, key] = np.clip(\n",
    "        events_dict[top_matched_key].loc[:, key].values, 1.0 / 5.0, 5.0\n",
    "    )\n",
    "\n",
    "    if key == \"lp_sfs_bl_ratio\":\n",
    "        mean_lp_sfs = np.mean(\n",
    "            np.nan_to_num(\n",
    "                events_dict[top_matched_key][key][0] * events_dict[top_matched_key][\"lp_sf_lnN\"][0]\n",
    "            ),\n",
    "            axis=0,\n",
    "        )\n",
    "    else:\n",
    "        mean_lp_sfs = np.mean(np.nan_to_num(events_dict[top_matched_key][key]), axis=0)\n",
    "\n",
    "    events_dict[top_matched_key].loc[:, key] = (\n",
    "        np.nan_to_num(events_dict[top_matched_key].loc[:, key]) / mean_lp_sfs\n",
    "    )"
   ]
  },
  {
   "cell_type": "code",
   "execution_count": null,
   "metadata": {},
   "outputs": [],
   "source": [
    "plt.rcParams.update({\"font.size\": 24})\n",
    "plt.figure(figsize=(12, 12))\n",
    "_ = plt.hist(\n",
    "    events_dict[top_matched_key][\"lp_sf_lnN\"][10].values,\n",
    "    np.logspace(-4, 2, 101, base=10),\n",
    "    histtype=\"step\",\n",
    ")\n",
    "plt.xscale(\"log\")\n",
    "# plt.yscale(\"log\")\n",
    "plt.xlabel(\"LP SF\")\n",
    "plt.title(\"Scale factor distribution\")\n",
    "plt.show()"
   ]
  },
  {
   "cell_type": "code",
   "execution_count": null,
   "metadata": {},
   "outputs": [],
   "source": [
    "# events = events_dict[top_matched_key]\n",
    "# sj_matching_unc = (\n",
    "#     (np.sum(events[\"lp_sf_unmatched_quarks\"]) / (len(events) * 3))\n",
    "#     # OR of double matched and boundary quarks\n",
    "#     # >0.1 to avoid floating point errors\n",
    "#     + (\n",
    "#         np.sum((events[\"lp_sf_double_matched_event\"] + events[\"lp_sf_boundary_quarks\"]) > 0.1)\n",
    "#         / (len(events))\n",
    "#     )\n",
    "# ).values[0]\n",
    "# sj_matching_unc"
   ]
  },
  {
   "cell_type": "markdown",
   "metadata": {},
   "source": [
    "### Tesing distortion uncertainty"
   ]
  },
  {
   "cell_type": "code",
   "execution_count": null,
   "metadata": {},
   "outputs": [],
   "source": [
    "import pickle\n",
    "\n",
    "# package_path = Path(__file__).parent.parent.resolve()\n",
    "package_path = Path(\"../\").resolve()\n",
    "\n",
    "# for key in [\n",
    "#     \"TTToSemiLeptonic\",\n",
    "#     # \"ST_tW_antitop_5f_NoFullyHadronicDecays\",\n",
    "#     # \"ST_tW_top_5f_NoFullyHadronicDecays\",\n",
    "#     # \"ST_s-channel_4f_leptonDecays\",\n",
    "#     # \"ST_t-channel_antitop_4f_InclusiveDecays\",\n",
    "#     # \"ST_t-channel_top_4f_InclusiveDecays\",\n",
    "# ]:\n",
    "#     sig_lp_hist = utils.get_pickles(f\"{signal_data_dir}/{year}/{key}/pickles\", year, key)[\"lp_hist\"]\n",
    "\n",
    "#     # remove negatives\n",
    "#     sig_lp_hist.values()[sig_lp_hist.values() < 0] = 0\n",
    "\n",
    "#     with (package_path / f\"corrections/lp_ratios/signals/{year}_{key}.hist\").open(\"wb\") as f:\n",
    "#         pickle.dump(sig_lp_hist, f)"
   ]
  },
  {
   "cell_type": "code",
   "execution_count": null,
   "metadata": {},
   "outputs": [],
   "source": [
    "sig_lp_hist.values()[sig_lp_hist.values() <= 0] = 1"
   ]
  },
  {
   "cell_type": "code",
   "execution_count": null,
   "metadata": {},
   "outputs": [],
   "source": [
    "sig_mc_ratio = np.nan_to_num((sig_lp_hist.values() / sig_tot) / (mc_nom / mc_tot), nan=1.0)\n",
    "sig_mc_ratio[sig_mc_ratio == 0] = 1.0\n",
    "sig_mc_ratio = np.clip(sig_mc_ratio, 0.5, 2.0)"
   ]
  },
  {
   "cell_type": "code",
   "execution_count": null,
   "metadata": {},
   "outputs": [],
   "source": [
    "import uproot\n",
    "\n",
    "# initialize lund plane scale factors lookups\n",
    "# f = uproot.open(package_path / f\"corrections/lp_ratios/ratio_{year[:4]}.root\")\n",
    "f = uproot.open(package_path / f\"corrections/lp_ratios/ratio_2018.root\")\n",
    "\n",
    "# 3D histogram: [subjet_pt, ln(0.8/Delta), ln(kT/GeV)]\n",
    "mc_nom = f[\"mc_nom\"].to_numpy()\n",
    "ratio_edges = mc_nom[1:]\n",
    "mc_nom = mc_nom[0]\n",
    "\n",
    "ratio_nom = f[\"ratio_nom\"].to_numpy()[0]"
   ]
  },
  {
   "cell_type": "code",
   "execution_count": null,
   "metadata": {},
   "outputs": [],
   "source": [
    "np.min(ratio_nom[ratio_nom > 0])"
   ]
  },
  {
   "cell_type": "code",
   "execution_count": null,
   "metadata": {},
   "outputs": [],
   "source": [
    "with (package_path / f\"corrections/lp_ratios/signals/2018_GluGluToHHTobbVV_node_cHHH1.hist\").open(\n",
    "    \"rb\"\n",
    ") as f:\n",
    "    sig_lp_hist = pickle.load(f)"
   ]
  },
  {
   "cell_type": "code",
   "execution_count": null,
   "metadata": {},
   "outputs": [],
   "source": [
    "plt.imshow(sig_lp_hist.values()[0])"
   ]
  },
  {
   "cell_type": "code",
   "execution_count": null,
   "metadata": {},
   "outputs": [],
   "source": [
    "plt.imshow(mc_nom[0])"
   ]
  },
  {
   "cell_type": "code",
   "execution_count": null,
   "metadata": {},
   "outputs": [],
   "source": [
    "mc_tot = np.sum(mc_nom)\n",
    "sig_tot = sig_lp_hist.sum()\n",
    "sig_mc_ratio = np.clip(\n",
    "    np.nan_to_num((sig_lp_hist.values() / sig_tot) / (mc_nom / mc_tot), nan=1), 0.5, 2.0\n",
    ")"
   ]
  },
  {
   "cell_type": "code",
   "execution_count": 23,
   "metadata": {},
   "outputs": [
    {
     "name": "stderr",
     "output_type": "stream",
     "text": [
      "/tmp/ipykernel_3540521/2098904483.py:3: RuntimeWarning: divide by zero encountered in divide\n",
      "  mc_sig_ratio_pt = np.nan_to_num((mc_nom / mc_tot_pt) / (sig_lp_hist.values() / sig_tot_pt), nan=1.0)\n",
      "/tmp/ipykernel_3540521/2098904483.py:3: RuntimeWarning: invalid value encountered in divide\n",
      "  mc_sig_ratio_pt = np.nan_to_num((mc_nom / mc_tot_pt) / (sig_lp_hist.values() / sig_tot_pt), nan=1.0)\n"
     ]
    }
   ],
   "source": [
    "sig_tot_pt = np.sum(sig_lp_hist.values(), axis=(1, 2), keepdims=True)\n",
    "mc_tot_pt = np.sum(mc_nom, axis=(1, 2), keepdims=True)\n",
    "mc_sig_ratio_pt = np.nan_to_num((mc_nom / mc_tot_pt) / (sig_lp_hist.values() / sig_tot_pt), nan=1.0)\n",
    "mc_sig_ratio_pt[mc_sig_ratio_pt == 0] = 1.0\n",
    "sig_mc_ratio_pt = np.clip(mc_sig_ratio_pt, 0.5, 2.0)"
   ]
  },
  {
   "cell_type": "code",
   "execution_count": 26,
   "metadata": {},
   "outputs": [
    {
     "name": "stderr",
     "output_type": "stream",
     "text": [
      "/home/users/rkansal/mambaforge/envs/python39/lib/python3.9/site-packages/matplotlib/colorbar.py:1100: RuntimeWarning: overflow encountered in add\n",
      "  self._values = 0.5 * (self._boundaries[:-1] + self._boundaries[1:])\n"
     ]
    },
    {
     "data": {
      "text/plain": [
       "<matplotlib.colorbar.Colorbar at 0x7f40e5c79f70>"
      ]
     },
     "execution_count": 26,
     "metadata": {},
     "output_type": "execute_result"
    },
    {
     "name": "stderr",
     "output_type": "stream",
     "text": [
      "/home/users/rkansal/mambaforge/envs/python39/lib/python3.9/site-packages/matplotlib/image.py:463: RuntimeWarning: overflow encountered in double_scalars\n",
      "  newmin = vmid - dv * fact\n",
      "/home/users/rkansal/mambaforge/envs/python39/lib/python3.9/site-packages/matplotlib/image.py:468: RuntimeWarning: overflow encountered in double_scalars\n",
      "  newmax = vmid + dv * fact\n",
      "/home/users/rkansal/mambaforge/envs/python39/lib/python3.9/site-packages/matplotlib/image.py:513: RuntimeWarning: invalid value encountered in multiply\n",
      "  A_resampled *= ((a_max - a_min) / frac)\n",
      "/home/users/rkansal/mambaforge/envs/python39/lib/python3.9/site-packages/matplotlib/image.py:514: RuntimeWarning: invalid value encountered in multiply\n",
      "  vrange *= ((a_max - a_min) / frac)\n",
      "/home/users/rkansal/mambaforge/envs/python39/lib/python3.9/site-packages/matplotlib/ticker.py:2096: RuntimeWarning: overflow encountered in multiply\n",
      "  steps = self._extended_steps * scale\n",
      "/home/users/rkansal/mambaforge/envs/python39/lib/python3.9/site-packages/matplotlib/ticker.py:2131: RuntimeWarning: overflow encountered in multiply\n",
      "  ticks = np.arange(low, high + 1) * step + best_vmin\n",
      "/home/users/rkansal/mambaforge/envs/python39/lib/python3.9/site-packages/matplotlib/ticker.py:733: RuntimeWarning: overflow encountered in double_scalars\n",
      "  if abs_min // 10 ** oom != abs_max // 10 ** oom)\n",
      "/home/users/rkansal/mambaforge/envs/python39/lib/python3.9/site-packages/matplotlib/ticker.py:734: RuntimeWarning: overflow encountered in double_scalars\n",
      "  if (abs_max - abs_min) / 10 ** oom <= 1e-2:\n",
      "/home/users/rkansal/mambaforge/envs/python39/lib/python3.9/site-packages/matplotlib/ticker.py:740: RuntimeWarning: overflow encountered in double_scalars\n",
      "  if abs_max // 10 ** oom - abs_min // 10 ** oom > 1)\n"
     ]
    },
    {
     "name": "stdout",
     "output_type": "stream",
     "text": [
      "Error in callback <function _draw_all_if_interactive at 0x7f4179ad3160> (for post_execute):\n"
     ]
    },
    {
     "ename": "OverflowError",
     "evalue": "cannot convert float infinity to integer",
     "output_type": "error",
     "traceback": [
      "\u001b[0;31m---------------------------------------------------------------------------\u001b[0m",
      "\u001b[0;31mOverflowError\u001b[0m                             Traceback (most recent call last)",
      "File \u001b[0;32m~/mambaforge/envs/python39/lib/python3.9/site-packages/matplotlib/pyplot.py:197\u001b[0m, in \u001b[0;36m_draw_all_if_interactive\u001b[0;34m()\u001b[0m\n\u001b[1;32m    195\u001b[0m \u001b[38;5;28;01mdef\u001b[39;00m \u001b[38;5;21m_draw_all_if_interactive\u001b[39m() \u001b[38;5;241m-\u001b[39m\u001b[38;5;241m>\u001b[39m \u001b[38;5;28;01mNone\u001b[39;00m:\n\u001b[1;32m    196\u001b[0m     \u001b[38;5;28;01mif\u001b[39;00m matplotlib\u001b[38;5;241m.\u001b[39mis_interactive():\n\u001b[0;32m--> 197\u001b[0m         \u001b[43mdraw_all\u001b[49m\u001b[43m(\u001b[49m\u001b[43m)\u001b[49m\n",
      "File \u001b[0;32m~/mambaforge/envs/python39/lib/python3.9/site-packages/matplotlib/_pylab_helpers.py:132\u001b[0m, in \u001b[0;36mGcf.draw_all\u001b[0;34m(cls, force)\u001b[0m\n\u001b[1;32m    130\u001b[0m \u001b[38;5;28;01mfor\u001b[39;00m manager \u001b[38;5;129;01min\u001b[39;00m \u001b[38;5;28mcls\u001b[39m\u001b[38;5;241m.\u001b[39mget_all_fig_managers():\n\u001b[1;32m    131\u001b[0m     \u001b[38;5;28;01mif\u001b[39;00m force \u001b[38;5;129;01mor\u001b[39;00m manager\u001b[38;5;241m.\u001b[39mcanvas\u001b[38;5;241m.\u001b[39mfigure\u001b[38;5;241m.\u001b[39mstale:\n\u001b[0;32m--> 132\u001b[0m         \u001b[43mmanager\u001b[49m\u001b[38;5;241;43m.\u001b[39;49m\u001b[43mcanvas\u001b[49m\u001b[38;5;241;43m.\u001b[39;49m\u001b[43mdraw_idle\u001b[49m\u001b[43m(\u001b[49m\u001b[43m)\u001b[49m\n",
      "File \u001b[0;32m~/mambaforge/envs/python39/lib/python3.9/site-packages/matplotlib/backend_bases.py:1893\u001b[0m, in \u001b[0;36mFigureCanvasBase.draw_idle\u001b[0;34m(self, *args, **kwargs)\u001b[0m\n\u001b[1;32m   1891\u001b[0m \u001b[38;5;28;01mif\u001b[39;00m \u001b[38;5;129;01mnot\u001b[39;00m \u001b[38;5;28mself\u001b[39m\u001b[38;5;241m.\u001b[39m_is_idle_drawing:\n\u001b[1;32m   1892\u001b[0m     \u001b[38;5;28;01mwith\u001b[39;00m \u001b[38;5;28mself\u001b[39m\u001b[38;5;241m.\u001b[39m_idle_draw_cntx():\n\u001b[0;32m-> 1893\u001b[0m         \u001b[38;5;28;43mself\u001b[39;49m\u001b[38;5;241;43m.\u001b[39;49m\u001b[43mdraw\u001b[49m\u001b[43m(\u001b[49m\u001b[38;5;241;43m*\u001b[39;49m\u001b[43margs\u001b[49m\u001b[43m,\u001b[49m\u001b[43m \u001b[49m\u001b[38;5;241;43m*\u001b[39;49m\u001b[38;5;241;43m*\u001b[39;49m\u001b[43mkwargs\u001b[49m\u001b[43m)\u001b[49m\n",
      "File \u001b[0;32m~/mambaforge/envs/python39/lib/python3.9/site-packages/matplotlib/backends/backend_agg.py:388\u001b[0m, in \u001b[0;36mFigureCanvasAgg.draw\u001b[0;34m(self)\u001b[0m\n\u001b[1;32m    385\u001b[0m \u001b[38;5;66;03m# Acquire a lock on the shared font cache.\u001b[39;00m\n\u001b[1;32m    386\u001b[0m \u001b[38;5;28;01mwith\u001b[39;00m (\u001b[38;5;28mself\u001b[39m\u001b[38;5;241m.\u001b[39mtoolbar\u001b[38;5;241m.\u001b[39m_wait_cursor_for_draw_cm() \u001b[38;5;28;01mif\u001b[39;00m \u001b[38;5;28mself\u001b[39m\u001b[38;5;241m.\u001b[39mtoolbar\n\u001b[1;32m    387\u001b[0m       \u001b[38;5;28;01melse\u001b[39;00m nullcontext()):\n\u001b[0;32m--> 388\u001b[0m     \u001b[38;5;28;43mself\u001b[39;49m\u001b[38;5;241;43m.\u001b[39;49m\u001b[43mfigure\u001b[49m\u001b[38;5;241;43m.\u001b[39;49m\u001b[43mdraw\u001b[49m\u001b[43m(\u001b[49m\u001b[38;5;28;43mself\u001b[39;49m\u001b[38;5;241;43m.\u001b[39;49m\u001b[43mrenderer\u001b[49m\u001b[43m)\u001b[49m\n\u001b[1;32m    389\u001b[0m     \u001b[38;5;66;03m# A GUI class may be need to update a window using this draw, so\u001b[39;00m\n\u001b[1;32m    390\u001b[0m     \u001b[38;5;66;03m# don't forget to call the superclass.\u001b[39;00m\n\u001b[1;32m    391\u001b[0m     \u001b[38;5;28msuper\u001b[39m()\u001b[38;5;241m.\u001b[39mdraw()\n",
      "File \u001b[0;32m~/mambaforge/envs/python39/lib/python3.9/site-packages/matplotlib/artist.py:95\u001b[0m, in \u001b[0;36m_finalize_rasterization.<locals>.draw_wrapper\u001b[0;34m(artist, renderer, *args, **kwargs)\u001b[0m\n\u001b[1;32m     93\u001b[0m \u001b[38;5;129m@wraps\u001b[39m(draw)\n\u001b[1;32m     94\u001b[0m \u001b[38;5;28;01mdef\u001b[39;00m \u001b[38;5;21mdraw_wrapper\u001b[39m(artist, renderer, \u001b[38;5;241m*\u001b[39margs, \u001b[38;5;241m*\u001b[39m\u001b[38;5;241m*\u001b[39mkwargs):\n\u001b[0;32m---> 95\u001b[0m     result \u001b[38;5;241m=\u001b[39m \u001b[43mdraw\u001b[49m\u001b[43m(\u001b[49m\u001b[43martist\u001b[49m\u001b[43m,\u001b[49m\u001b[43m \u001b[49m\u001b[43mrenderer\u001b[49m\u001b[43m,\u001b[49m\u001b[43m \u001b[49m\u001b[38;5;241;43m*\u001b[39;49m\u001b[43margs\u001b[49m\u001b[43m,\u001b[49m\u001b[43m \u001b[49m\u001b[38;5;241;43m*\u001b[39;49m\u001b[38;5;241;43m*\u001b[39;49m\u001b[43mkwargs\u001b[49m\u001b[43m)\u001b[49m\n\u001b[1;32m     96\u001b[0m     \u001b[38;5;28;01mif\u001b[39;00m renderer\u001b[38;5;241m.\u001b[39m_rasterizing:\n\u001b[1;32m     97\u001b[0m         renderer\u001b[38;5;241m.\u001b[39mstop_rasterizing()\n",
      "File \u001b[0;32m~/mambaforge/envs/python39/lib/python3.9/site-packages/matplotlib/artist.py:72\u001b[0m, in \u001b[0;36mallow_rasterization.<locals>.draw_wrapper\u001b[0;34m(artist, renderer)\u001b[0m\n\u001b[1;32m     69\u001b[0m     \u001b[38;5;28;01mif\u001b[39;00m artist\u001b[38;5;241m.\u001b[39mget_agg_filter() \u001b[38;5;129;01mis\u001b[39;00m \u001b[38;5;129;01mnot\u001b[39;00m \u001b[38;5;28;01mNone\u001b[39;00m:\n\u001b[1;32m     70\u001b[0m         renderer\u001b[38;5;241m.\u001b[39mstart_filter()\n\u001b[0;32m---> 72\u001b[0m     \u001b[38;5;28;01mreturn\u001b[39;00m \u001b[43mdraw\u001b[49m\u001b[43m(\u001b[49m\u001b[43martist\u001b[49m\u001b[43m,\u001b[49m\u001b[43m \u001b[49m\u001b[43mrenderer\u001b[49m\u001b[43m)\u001b[49m\n\u001b[1;32m     73\u001b[0m \u001b[38;5;28;01mfinally\u001b[39;00m:\n\u001b[1;32m     74\u001b[0m     \u001b[38;5;28;01mif\u001b[39;00m artist\u001b[38;5;241m.\u001b[39mget_agg_filter() \u001b[38;5;129;01mis\u001b[39;00m \u001b[38;5;129;01mnot\u001b[39;00m \u001b[38;5;28;01mNone\u001b[39;00m:\n",
      "File \u001b[0;32m~/mambaforge/envs/python39/lib/python3.9/site-packages/matplotlib/figure.py:3154\u001b[0m, in \u001b[0;36mFigure.draw\u001b[0;34m(self, renderer)\u001b[0m\n\u001b[1;32m   3151\u001b[0m         \u001b[38;5;66;03m# ValueError can occur when resizing a window.\u001b[39;00m\n\u001b[1;32m   3153\u001b[0m \u001b[38;5;28mself\u001b[39m\u001b[38;5;241m.\u001b[39mpatch\u001b[38;5;241m.\u001b[39mdraw(renderer)\n\u001b[0;32m-> 3154\u001b[0m \u001b[43mmimage\u001b[49m\u001b[38;5;241;43m.\u001b[39;49m\u001b[43m_draw_list_compositing_images\u001b[49m\u001b[43m(\u001b[49m\n\u001b[1;32m   3155\u001b[0m \u001b[43m    \u001b[49m\u001b[43mrenderer\u001b[49m\u001b[43m,\u001b[49m\u001b[43m \u001b[49m\u001b[38;5;28;43mself\u001b[39;49m\u001b[43m,\u001b[49m\u001b[43m \u001b[49m\u001b[43martists\u001b[49m\u001b[43m,\u001b[49m\u001b[43m \u001b[49m\u001b[38;5;28;43mself\u001b[39;49m\u001b[38;5;241;43m.\u001b[39;49m\u001b[43msuppressComposite\u001b[49m\u001b[43m)\u001b[49m\n\u001b[1;32m   3157\u001b[0m \u001b[38;5;28;01mfor\u001b[39;00m sfig \u001b[38;5;129;01min\u001b[39;00m \u001b[38;5;28mself\u001b[39m\u001b[38;5;241m.\u001b[39msubfigs:\n\u001b[1;32m   3158\u001b[0m     sfig\u001b[38;5;241m.\u001b[39mdraw(renderer)\n",
      "File \u001b[0;32m~/mambaforge/envs/python39/lib/python3.9/site-packages/matplotlib/image.py:132\u001b[0m, in \u001b[0;36m_draw_list_compositing_images\u001b[0;34m(renderer, parent, artists, suppress_composite)\u001b[0m\n\u001b[1;32m    130\u001b[0m \u001b[38;5;28;01mif\u001b[39;00m not_composite \u001b[38;5;129;01mor\u001b[39;00m \u001b[38;5;129;01mnot\u001b[39;00m has_images:\n\u001b[1;32m    131\u001b[0m     \u001b[38;5;28;01mfor\u001b[39;00m a \u001b[38;5;129;01min\u001b[39;00m artists:\n\u001b[0;32m--> 132\u001b[0m         \u001b[43ma\u001b[49m\u001b[38;5;241;43m.\u001b[39;49m\u001b[43mdraw\u001b[49m\u001b[43m(\u001b[49m\u001b[43mrenderer\u001b[49m\u001b[43m)\u001b[49m\n\u001b[1;32m    133\u001b[0m \u001b[38;5;28;01melse\u001b[39;00m:\n\u001b[1;32m    134\u001b[0m     \u001b[38;5;66;03m# Composite any adjacent images together\u001b[39;00m\n\u001b[1;32m    135\u001b[0m     image_group \u001b[38;5;241m=\u001b[39m []\n",
      "File \u001b[0;32m~/mambaforge/envs/python39/lib/python3.9/site-packages/matplotlib/artist.py:72\u001b[0m, in \u001b[0;36mallow_rasterization.<locals>.draw_wrapper\u001b[0;34m(artist, renderer)\u001b[0m\n\u001b[1;32m     69\u001b[0m     \u001b[38;5;28;01mif\u001b[39;00m artist\u001b[38;5;241m.\u001b[39mget_agg_filter() \u001b[38;5;129;01mis\u001b[39;00m \u001b[38;5;129;01mnot\u001b[39;00m \u001b[38;5;28;01mNone\u001b[39;00m:\n\u001b[1;32m     70\u001b[0m         renderer\u001b[38;5;241m.\u001b[39mstart_filter()\n\u001b[0;32m---> 72\u001b[0m     \u001b[38;5;28;01mreturn\u001b[39;00m \u001b[43mdraw\u001b[49m\u001b[43m(\u001b[49m\u001b[43martist\u001b[49m\u001b[43m,\u001b[49m\u001b[43m \u001b[49m\u001b[43mrenderer\u001b[49m\u001b[43m)\u001b[49m\n\u001b[1;32m     73\u001b[0m \u001b[38;5;28;01mfinally\u001b[39;00m:\n\u001b[1;32m     74\u001b[0m     \u001b[38;5;28;01mif\u001b[39;00m artist\u001b[38;5;241m.\u001b[39mget_agg_filter() \u001b[38;5;129;01mis\u001b[39;00m \u001b[38;5;129;01mnot\u001b[39;00m \u001b[38;5;28;01mNone\u001b[39;00m:\n",
      "File \u001b[0;32m~/mambaforge/envs/python39/lib/python3.9/site-packages/matplotlib/axes/_base.py:3070\u001b[0m, in \u001b[0;36m_AxesBase.draw\u001b[0;34m(self, renderer)\u001b[0m\n\u001b[1;32m   3067\u001b[0m \u001b[38;5;28;01mif\u001b[39;00m artists_rasterized:\n\u001b[1;32m   3068\u001b[0m     _draw_rasterized(\u001b[38;5;28mself\u001b[39m\u001b[38;5;241m.\u001b[39mfigure, artists_rasterized, renderer)\n\u001b[0;32m-> 3070\u001b[0m \u001b[43mmimage\u001b[49m\u001b[38;5;241;43m.\u001b[39;49m\u001b[43m_draw_list_compositing_images\u001b[49m\u001b[43m(\u001b[49m\n\u001b[1;32m   3071\u001b[0m \u001b[43m    \u001b[49m\u001b[43mrenderer\u001b[49m\u001b[43m,\u001b[49m\u001b[43m \u001b[49m\u001b[38;5;28;43mself\u001b[39;49m\u001b[43m,\u001b[49m\u001b[43m \u001b[49m\u001b[43martists\u001b[49m\u001b[43m,\u001b[49m\u001b[43m \u001b[49m\u001b[38;5;28;43mself\u001b[39;49m\u001b[38;5;241;43m.\u001b[39;49m\u001b[43mfigure\u001b[49m\u001b[38;5;241;43m.\u001b[39;49m\u001b[43msuppressComposite\u001b[49m\u001b[43m)\u001b[49m\n\u001b[1;32m   3073\u001b[0m renderer\u001b[38;5;241m.\u001b[39mclose_group(\u001b[38;5;124m'\u001b[39m\u001b[38;5;124maxes\u001b[39m\u001b[38;5;124m'\u001b[39m)\n\u001b[1;32m   3074\u001b[0m \u001b[38;5;28mself\u001b[39m\u001b[38;5;241m.\u001b[39mstale \u001b[38;5;241m=\u001b[39m \u001b[38;5;28;01mFalse\u001b[39;00m\n",
      "File \u001b[0;32m~/mambaforge/envs/python39/lib/python3.9/site-packages/matplotlib/image.py:132\u001b[0m, in \u001b[0;36m_draw_list_compositing_images\u001b[0;34m(renderer, parent, artists, suppress_composite)\u001b[0m\n\u001b[1;32m    130\u001b[0m \u001b[38;5;28;01mif\u001b[39;00m not_composite \u001b[38;5;129;01mor\u001b[39;00m \u001b[38;5;129;01mnot\u001b[39;00m has_images:\n\u001b[1;32m    131\u001b[0m     \u001b[38;5;28;01mfor\u001b[39;00m a \u001b[38;5;129;01min\u001b[39;00m artists:\n\u001b[0;32m--> 132\u001b[0m         \u001b[43ma\u001b[49m\u001b[38;5;241;43m.\u001b[39;49m\u001b[43mdraw\u001b[49m\u001b[43m(\u001b[49m\u001b[43mrenderer\u001b[49m\u001b[43m)\u001b[49m\n\u001b[1;32m    133\u001b[0m \u001b[38;5;28;01melse\u001b[39;00m:\n\u001b[1;32m    134\u001b[0m     \u001b[38;5;66;03m# Composite any adjacent images together\u001b[39;00m\n\u001b[1;32m    135\u001b[0m     image_group \u001b[38;5;241m=\u001b[39m []\n",
      "File \u001b[0;32m~/mambaforge/envs/python39/lib/python3.9/site-packages/matplotlib/artist.py:72\u001b[0m, in \u001b[0;36mallow_rasterization.<locals>.draw_wrapper\u001b[0;34m(artist, renderer)\u001b[0m\n\u001b[1;32m     69\u001b[0m     \u001b[38;5;28;01mif\u001b[39;00m artist\u001b[38;5;241m.\u001b[39mget_agg_filter() \u001b[38;5;129;01mis\u001b[39;00m \u001b[38;5;129;01mnot\u001b[39;00m \u001b[38;5;28;01mNone\u001b[39;00m:\n\u001b[1;32m     70\u001b[0m         renderer\u001b[38;5;241m.\u001b[39mstart_filter()\n\u001b[0;32m---> 72\u001b[0m     \u001b[38;5;28;01mreturn\u001b[39;00m \u001b[43mdraw\u001b[49m\u001b[43m(\u001b[49m\u001b[43martist\u001b[49m\u001b[43m,\u001b[49m\u001b[43m \u001b[49m\u001b[43mrenderer\u001b[49m\u001b[43m)\u001b[49m\n\u001b[1;32m     73\u001b[0m \u001b[38;5;28;01mfinally\u001b[39;00m:\n\u001b[1;32m     74\u001b[0m     \u001b[38;5;28;01mif\u001b[39;00m artist\u001b[38;5;241m.\u001b[39mget_agg_filter() \u001b[38;5;129;01mis\u001b[39;00m \u001b[38;5;129;01mnot\u001b[39;00m \u001b[38;5;28;01mNone\u001b[39;00m:\n",
      "File \u001b[0;32m~/mambaforge/envs/python39/lib/python3.9/site-packages/matplotlib/axis.py:1387\u001b[0m, in \u001b[0;36mAxis.draw\u001b[0;34m(self, renderer, *args, **kwargs)\u001b[0m\n\u001b[1;32m   1384\u001b[0m     \u001b[38;5;28;01mreturn\u001b[39;00m\n\u001b[1;32m   1385\u001b[0m renderer\u001b[38;5;241m.\u001b[39mopen_group(\u001b[38;5;18m__name__\u001b[39m, gid\u001b[38;5;241m=\u001b[39m\u001b[38;5;28mself\u001b[39m\u001b[38;5;241m.\u001b[39mget_gid())\n\u001b[0;32m-> 1387\u001b[0m ticks_to_draw \u001b[38;5;241m=\u001b[39m \u001b[38;5;28;43mself\u001b[39;49m\u001b[38;5;241;43m.\u001b[39;49m\u001b[43m_update_ticks\u001b[49m\u001b[43m(\u001b[49m\u001b[43m)\u001b[49m\n\u001b[1;32m   1388\u001b[0m tlb1, tlb2 \u001b[38;5;241m=\u001b[39m \u001b[38;5;28mself\u001b[39m\u001b[38;5;241m.\u001b[39m_get_ticklabel_bboxes(ticks_to_draw, renderer)\n\u001b[1;32m   1390\u001b[0m \u001b[38;5;28;01mfor\u001b[39;00m tick \u001b[38;5;129;01min\u001b[39;00m ticks_to_draw:\n",
      "File \u001b[0;32m~/mambaforge/envs/python39/lib/python3.9/site-packages/matplotlib/axis.py:1276\u001b[0m, in \u001b[0;36mAxis._update_ticks\u001b[0;34m(self)\u001b[0m\n\u001b[1;32m   1271\u001b[0m \u001b[38;5;250m\u001b[39m\u001b[38;5;124;03m\"\"\"\u001b[39;00m\n\u001b[1;32m   1272\u001b[0m \u001b[38;5;124;03mUpdate ticks (position and labels) using the current data interval of\u001b[39;00m\n\u001b[1;32m   1273\u001b[0m \u001b[38;5;124;03mthe axes.  Return the list of ticks that will be drawn.\u001b[39;00m\n\u001b[1;32m   1274\u001b[0m \u001b[38;5;124;03m\"\"\"\u001b[39;00m\n\u001b[1;32m   1275\u001b[0m major_locs \u001b[38;5;241m=\u001b[39m \u001b[38;5;28mself\u001b[39m\u001b[38;5;241m.\u001b[39mget_majorticklocs()\n\u001b[0;32m-> 1276\u001b[0m major_labels \u001b[38;5;241m=\u001b[39m \u001b[38;5;28;43mself\u001b[39;49m\u001b[38;5;241;43m.\u001b[39;49m\u001b[43mmajor\u001b[49m\u001b[38;5;241;43m.\u001b[39;49m\u001b[43mformatter\u001b[49m\u001b[38;5;241;43m.\u001b[39;49m\u001b[43mformat_ticks\u001b[49m\u001b[43m(\u001b[49m\u001b[43mmajor_locs\u001b[49m\u001b[43m)\u001b[49m\n\u001b[1;32m   1277\u001b[0m major_ticks \u001b[38;5;241m=\u001b[39m \u001b[38;5;28mself\u001b[39m\u001b[38;5;241m.\u001b[39mget_major_ticks(\u001b[38;5;28mlen\u001b[39m(major_locs))\n\u001b[1;32m   1278\u001b[0m \u001b[38;5;28;01mfor\u001b[39;00m tick, loc, label \u001b[38;5;129;01min\u001b[39;00m \u001b[38;5;28mzip\u001b[39m(major_ticks, major_locs, major_labels):\n",
      "File \u001b[0;32m~/mambaforge/envs/python39/lib/python3.9/site-packages/matplotlib/ticker.py:215\u001b[0m, in \u001b[0;36mFormatter.format_ticks\u001b[0;34m(self, values)\u001b[0m\n\u001b[1;32m    213\u001b[0m \u001b[38;5;28;01mdef\u001b[39;00m \u001b[38;5;21mformat_ticks\u001b[39m(\u001b[38;5;28mself\u001b[39m, values):\n\u001b[1;32m    214\u001b[0m \u001b[38;5;250m    \u001b[39m\u001b[38;5;124;03m\"\"\"Return the tick labels for all the ticks at once.\"\"\"\u001b[39;00m\n\u001b[0;32m--> 215\u001b[0m     \u001b[38;5;28;43mself\u001b[39;49m\u001b[38;5;241;43m.\u001b[39;49m\u001b[43mset_locs\u001b[49m\u001b[43m(\u001b[49m\u001b[43mvalues\u001b[49m\u001b[43m)\u001b[49m\n\u001b[1;32m    216\u001b[0m     \u001b[38;5;28;01mreturn\u001b[39;00m [\u001b[38;5;28mself\u001b[39m(value, i) \u001b[38;5;28;01mfor\u001b[39;00m i, value \u001b[38;5;129;01min\u001b[39;00m \u001b[38;5;28menumerate\u001b[39m(values)]\n",
      "File \u001b[0;32m~/mambaforge/envs/python39/lib/python3.9/site-packages/matplotlib/ticker.py:706\u001b[0m, in \u001b[0;36mScalarFormatter.set_locs\u001b[0;34m(self, locs)\u001b[0m\n\u001b[1;32m    704\u001b[0m     \u001b[38;5;28mself\u001b[39m\u001b[38;5;241m.\u001b[39m_compute_offset()\n\u001b[1;32m    705\u001b[0m \u001b[38;5;28mself\u001b[39m\u001b[38;5;241m.\u001b[39m_set_order_of_magnitude()\n\u001b[0;32m--> 706\u001b[0m \u001b[38;5;28;43mself\u001b[39;49m\u001b[38;5;241;43m.\u001b[39;49m\u001b[43m_set_format\u001b[49m\u001b[43m(\u001b[49m\u001b[43m)\u001b[49m\n",
      "File \u001b[0;32m~/mambaforge/envs/python39/lib/python3.9/site-packages/matplotlib/ticker.py:799\u001b[0m, in \u001b[0;36mScalarFormatter._set_format\u001b[0;34m(self)\u001b[0m\n\u001b[1;32m    796\u001b[0m \u001b[38;5;28;01mif\u001b[39;00m \u001b[38;5;28mlen\u001b[39m(\u001b[38;5;28mself\u001b[39m\u001b[38;5;241m.\u001b[39mlocs) \u001b[38;5;241m<\u001b[39m \u001b[38;5;241m2\u001b[39m:\n\u001b[1;32m    797\u001b[0m     \u001b[38;5;66;03m# We needed the end points only for the loc_range calculation.\u001b[39;00m\n\u001b[1;32m    798\u001b[0m     locs \u001b[38;5;241m=\u001b[39m locs[:\u001b[38;5;241m-\u001b[39m\u001b[38;5;241m2\u001b[39m]\n\u001b[0;32m--> 799\u001b[0m loc_range_oom \u001b[38;5;241m=\u001b[39m \u001b[38;5;28mint\u001b[39m(\u001b[43mmath\u001b[49m\u001b[38;5;241;43m.\u001b[39;49m\u001b[43mfloor\u001b[49m\u001b[43m(\u001b[49m\u001b[43mmath\u001b[49m\u001b[38;5;241;43m.\u001b[39;49m\u001b[43mlog10\u001b[49m\u001b[43m(\u001b[49m\u001b[43mloc_range\u001b[49m\u001b[43m)\u001b[49m\u001b[43m)\u001b[49m)\n\u001b[1;32m    800\u001b[0m \u001b[38;5;66;03m# first estimate:\u001b[39;00m\n\u001b[1;32m    801\u001b[0m sigfigs \u001b[38;5;241m=\u001b[39m \u001b[38;5;28mmax\u001b[39m(\u001b[38;5;241m0\u001b[39m, \u001b[38;5;241m3\u001b[39m \u001b[38;5;241m-\u001b[39m loc_range_oom)\n",
      "\u001b[0;31mOverflowError\u001b[0m: cannot convert float infinity to integer"
     ]
    },
    {
     "ename": "OverflowError",
     "evalue": "cannot convert float infinity to integer",
     "output_type": "error",
     "traceback": [
      "\u001b[0;31m---------------------------------------------------------------------------\u001b[0m",
      "\u001b[0;31mOverflowError\u001b[0m                             Traceback (most recent call last)",
      "File \u001b[0;32m~/mambaforge/envs/python39/lib/python3.9/site-packages/IPython/core/formatters.py:340\u001b[0m, in \u001b[0;36mBaseFormatter.__call__\u001b[0;34m(self, obj)\u001b[0m\n\u001b[1;32m    338\u001b[0m     \u001b[38;5;28;01mpass\u001b[39;00m\n\u001b[1;32m    339\u001b[0m \u001b[38;5;28;01melse\u001b[39;00m:\n\u001b[0;32m--> 340\u001b[0m     \u001b[38;5;28;01mreturn\u001b[39;00m \u001b[43mprinter\u001b[49m\u001b[43m(\u001b[49m\u001b[43mobj\u001b[49m\u001b[43m)\u001b[49m\n\u001b[1;32m    341\u001b[0m \u001b[38;5;66;03m# Finally look for special method names\u001b[39;00m\n\u001b[1;32m    342\u001b[0m method \u001b[38;5;241m=\u001b[39m get_real_method(obj, \u001b[38;5;28mself\u001b[39m\u001b[38;5;241m.\u001b[39mprint_method)\n",
      "File \u001b[0;32m~/mambaforge/envs/python39/lib/python3.9/site-packages/IPython/core/pylabtools.py:152\u001b[0m, in \u001b[0;36mprint_figure\u001b[0;34m(fig, fmt, bbox_inches, base64, **kwargs)\u001b[0m\n\u001b[1;32m    149\u001b[0m     \u001b[38;5;28;01mfrom\u001b[39;00m \u001b[38;5;21;01mmatplotlib\u001b[39;00m\u001b[38;5;21;01m.\u001b[39;00m\u001b[38;5;21;01mbackend_bases\u001b[39;00m \u001b[38;5;28;01mimport\u001b[39;00m FigureCanvasBase\n\u001b[1;32m    150\u001b[0m     FigureCanvasBase(fig)\n\u001b[0;32m--> 152\u001b[0m \u001b[43mfig\u001b[49m\u001b[38;5;241;43m.\u001b[39;49m\u001b[43mcanvas\u001b[49m\u001b[38;5;241;43m.\u001b[39;49m\u001b[43mprint_figure\u001b[49m\u001b[43m(\u001b[49m\u001b[43mbytes_io\u001b[49m\u001b[43m,\u001b[49m\u001b[43m \u001b[49m\u001b[38;5;241;43m*\u001b[39;49m\u001b[38;5;241;43m*\u001b[39;49m\u001b[43mkw\u001b[49m\u001b[43m)\u001b[49m\n\u001b[1;32m    153\u001b[0m data \u001b[38;5;241m=\u001b[39m bytes_io\u001b[38;5;241m.\u001b[39mgetvalue()\n\u001b[1;32m    154\u001b[0m \u001b[38;5;28;01mif\u001b[39;00m fmt \u001b[38;5;241m==\u001b[39m \u001b[38;5;124m'\u001b[39m\u001b[38;5;124msvg\u001b[39m\u001b[38;5;124m'\u001b[39m:\n",
      "File \u001b[0;32m~/mambaforge/envs/python39/lib/python3.9/site-packages/matplotlib/backend_bases.py:2164\u001b[0m, in \u001b[0;36mFigureCanvasBase.print_figure\u001b[0;34m(self, filename, dpi, facecolor, edgecolor, orientation, format, bbox_inches, pad_inches, bbox_extra_artists, backend, **kwargs)\u001b[0m\n\u001b[1;32m   2161\u001b[0m     \u001b[38;5;66;03m# we do this instead of `self.figure.draw_without_rendering`\u001b[39;00m\n\u001b[1;32m   2162\u001b[0m     \u001b[38;5;66;03m# so that we can inject the orientation\u001b[39;00m\n\u001b[1;32m   2163\u001b[0m     \u001b[38;5;28;01mwith\u001b[39;00m \u001b[38;5;28mgetattr\u001b[39m(renderer, \u001b[38;5;124m\"\u001b[39m\u001b[38;5;124m_draw_disabled\u001b[39m\u001b[38;5;124m\"\u001b[39m, nullcontext)():\n\u001b[0;32m-> 2164\u001b[0m         \u001b[38;5;28;43mself\u001b[39;49m\u001b[38;5;241;43m.\u001b[39;49m\u001b[43mfigure\u001b[49m\u001b[38;5;241;43m.\u001b[39;49m\u001b[43mdraw\u001b[49m\u001b[43m(\u001b[49m\u001b[43mrenderer\u001b[49m\u001b[43m)\u001b[49m\n\u001b[1;32m   2165\u001b[0m \u001b[38;5;28;01mif\u001b[39;00m bbox_inches:\n\u001b[1;32m   2166\u001b[0m     \u001b[38;5;28;01mif\u001b[39;00m bbox_inches \u001b[38;5;241m==\u001b[39m \u001b[38;5;124m\"\u001b[39m\u001b[38;5;124mtight\u001b[39m\u001b[38;5;124m\"\u001b[39m:\n",
      "File \u001b[0;32m~/mambaforge/envs/python39/lib/python3.9/site-packages/matplotlib/artist.py:95\u001b[0m, in \u001b[0;36m_finalize_rasterization.<locals>.draw_wrapper\u001b[0;34m(artist, renderer, *args, **kwargs)\u001b[0m\n\u001b[1;32m     93\u001b[0m \u001b[38;5;129m@wraps\u001b[39m(draw)\n\u001b[1;32m     94\u001b[0m \u001b[38;5;28;01mdef\u001b[39;00m \u001b[38;5;21mdraw_wrapper\u001b[39m(artist, renderer, \u001b[38;5;241m*\u001b[39margs, \u001b[38;5;241m*\u001b[39m\u001b[38;5;241m*\u001b[39mkwargs):\n\u001b[0;32m---> 95\u001b[0m     result \u001b[38;5;241m=\u001b[39m \u001b[43mdraw\u001b[49m\u001b[43m(\u001b[49m\u001b[43martist\u001b[49m\u001b[43m,\u001b[49m\u001b[43m \u001b[49m\u001b[43mrenderer\u001b[49m\u001b[43m,\u001b[49m\u001b[43m \u001b[49m\u001b[38;5;241;43m*\u001b[39;49m\u001b[43margs\u001b[49m\u001b[43m,\u001b[49m\u001b[43m \u001b[49m\u001b[38;5;241;43m*\u001b[39;49m\u001b[38;5;241;43m*\u001b[39;49m\u001b[43mkwargs\u001b[49m\u001b[43m)\u001b[49m\n\u001b[1;32m     96\u001b[0m     \u001b[38;5;28;01mif\u001b[39;00m renderer\u001b[38;5;241m.\u001b[39m_rasterizing:\n\u001b[1;32m     97\u001b[0m         renderer\u001b[38;5;241m.\u001b[39mstop_rasterizing()\n",
      "File \u001b[0;32m~/mambaforge/envs/python39/lib/python3.9/site-packages/matplotlib/artist.py:72\u001b[0m, in \u001b[0;36mallow_rasterization.<locals>.draw_wrapper\u001b[0;34m(artist, renderer)\u001b[0m\n\u001b[1;32m     69\u001b[0m     \u001b[38;5;28;01mif\u001b[39;00m artist\u001b[38;5;241m.\u001b[39mget_agg_filter() \u001b[38;5;129;01mis\u001b[39;00m \u001b[38;5;129;01mnot\u001b[39;00m \u001b[38;5;28;01mNone\u001b[39;00m:\n\u001b[1;32m     70\u001b[0m         renderer\u001b[38;5;241m.\u001b[39mstart_filter()\n\u001b[0;32m---> 72\u001b[0m     \u001b[38;5;28;01mreturn\u001b[39;00m \u001b[43mdraw\u001b[49m\u001b[43m(\u001b[49m\u001b[43martist\u001b[49m\u001b[43m,\u001b[49m\u001b[43m \u001b[49m\u001b[43mrenderer\u001b[49m\u001b[43m)\u001b[49m\n\u001b[1;32m     73\u001b[0m \u001b[38;5;28;01mfinally\u001b[39;00m:\n\u001b[1;32m     74\u001b[0m     \u001b[38;5;28;01mif\u001b[39;00m artist\u001b[38;5;241m.\u001b[39mget_agg_filter() \u001b[38;5;129;01mis\u001b[39;00m \u001b[38;5;129;01mnot\u001b[39;00m \u001b[38;5;28;01mNone\u001b[39;00m:\n",
      "File \u001b[0;32m~/mambaforge/envs/python39/lib/python3.9/site-packages/matplotlib/figure.py:3154\u001b[0m, in \u001b[0;36mFigure.draw\u001b[0;34m(self, renderer)\u001b[0m\n\u001b[1;32m   3151\u001b[0m         \u001b[38;5;66;03m# ValueError can occur when resizing a window.\u001b[39;00m\n\u001b[1;32m   3153\u001b[0m \u001b[38;5;28mself\u001b[39m\u001b[38;5;241m.\u001b[39mpatch\u001b[38;5;241m.\u001b[39mdraw(renderer)\n\u001b[0;32m-> 3154\u001b[0m \u001b[43mmimage\u001b[49m\u001b[38;5;241;43m.\u001b[39;49m\u001b[43m_draw_list_compositing_images\u001b[49m\u001b[43m(\u001b[49m\n\u001b[1;32m   3155\u001b[0m \u001b[43m    \u001b[49m\u001b[43mrenderer\u001b[49m\u001b[43m,\u001b[49m\u001b[43m \u001b[49m\u001b[38;5;28;43mself\u001b[39;49m\u001b[43m,\u001b[49m\u001b[43m \u001b[49m\u001b[43martists\u001b[49m\u001b[43m,\u001b[49m\u001b[43m \u001b[49m\u001b[38;5;28;43mself\u001b[39;49m\u001b[38;5;241;43m.\u001b[39;49m\u001b[43msuppressComposite\u001b[49m\u001b[43m)\u001b[49m\n\u001b[1;32m   3157\u001b[0m \u001b[38;5;28;01mfor\u001b[39;00m sfig \u001b[38;5;129;01min\u001b[39;00m \u001b[38;5;28mself\u001b[39m\u001b[38;5;241m.\u001b[39msubfigs:\n\u001b[1;32m   3158\u001b[0m     sfig\u001b[38;5;241m.\u001b[39mdraw(renderer)\n",
      "File \u001b[0;32m~/mambaforge/envs/python39/lib/python3.9/site-packages/matplotlib/image.py:132\u001b[0m, in \u001b[0;36m_draw_list_compositing_images\u001b[0;34m(renderer, parent, artists, suppress_composite)\u001b[0m\n\u001b[1;32m    130\u001b[0m \u001b[38;5;28;01mif\u001b[39;00m not_composite \u001b[38;5;129;01mor\u001b[39;00m \u001b[38;5;129;01mnot\u001b[39;00m has_images:\n\u001b[1;32m    131\u001b[0m     \u001b[38;5;28;01mfor\u001b[39;00m a \u001b[38;5;129;01min\u001b[39;00m artists:\n\u001b[0;32m--> 132\u001b[0m         \u001b[43ma\u001b[49m\u001b[38;5;241;43m.\u001b[39;49m\u001b[43mdraw\u001b[49m\u001b[43m(\u001b[49m\u001b[43mrenderer\u001b[49m\u001b[43m)\u001b[49m\n\u001b[1;32m    133\u001b[0m \u001b[38;5;28;01melse\u001b[39;00m:\n\u001b[1;32m    134\u001b[0m     \u001b[38;5;66;03m# Composite any adjacent images together\u001b[39;00m\n\u001b[1;32m    135\u001b[0m     image_group \u001b[38;5;241m=\u001b[39m []\n",
      "File \u001b[0;32m~/mambaforge/envs/python39/lib/python3.9/site-packages/matplotlib/artist.py:72\u001b[0m, in \u001b[0;36mallow_rasterization.<locals>.draw_wrapper\u001b[0;34m(artist, renderer)\u001b[0m\n\u001b[1;32m     69\u001b[0m     \u001b[38;5;28;01mif\u001b[39;00m artist\u001b[38;5;241m.\u001b[39mget_agg_filter() \u001b[38;5;129;01mis\u001b[39;00m \u001b[38;5;129;01mnot\u001b[39;00m \u001b[38;5;28;01mNone\u001b[39;00m:\n\u001b[1;32m     70\u001b[0m         renderer\u001b[38;5;241m.\u001b[39mstart_filter()\n\u001b[0;32m---> 72\u001b[0m     \u001b[38;5;28;01mreturn\u001b[39;00m \u001b[43mdraw\u001b[49m\u001b[43m(\u001b[49m\u001b[43martist\u001b[49m\u001b[43m,\u001b[49m\u001b[43m \u001b[49m\u001b[43mrenderer\u001b[49m\u001b[43m)\u001b[49m\n\u001b[1;32m     73\u001b[0m \u001b[38;5;28;01mfinally\u001b[39;00m:\n\u001b[1;32m     74\u001b[0m     \u001b[38;5;28;01mif\u001b[39;00m artist\u001b[38;5;241m.\u001b[39mget_agg_filter() \u001b[38;5;129;01mis\u001b[39;00m \u001b[38;5;129;01mnot\u001b[39;00m \u001b[38;5;28;01mNone\u001b[39;00m:\n",
      "File \u001b[0;32m~/mambaforge/envs/python39/lib/python3.9/site-packages/matplotlib/axes/_base.py:3070\u001b[0m, in \u001b[0;36m_AxesBase.draw\u001b[0;34m(self, renderer)\u001b[0m\n\u001b[1;32m   3067\u001b[0m \u001b[38;5;28;01mif\u001b[39;00m artists_rasterized:\n\u001b[1;32m   3068\u001b[0m     _draw_rasterized(\u001b[38;5;28mself\u001b[39m\u001b[38;5;241m.\u001b[39mfigure, artists_rasterized, renderer)\n\u001b[0;32m-> 3070\u001b[0m \u001b[43mmimage\u001b[49m\u001b[38;5;241;43m.\u001b[39;49m\u001b[43m_draw_list_compositing_images\u001b[49m\u001b[43m(\u001b[49m\n\u001b[1;32m   3071\u001b[0m \u001b[43m    \u001b[49m\u001b[43mrenderer\u001b[49m\u001b[43m,\u001b[49m\u001b[43m \u001b[49m\u001b[38;5;28;43mself\u001b[39;49m\u001b[43m,\u001b[49m\u001b[43m \u001b[49m\u001b[43martists\u001b[49m\u001b[43m,\u001b[49m\u001b[43m \u001b[49m\u001b[38;5;28;43mself\u001b[39;49m\u001b[38;5;241;43m.\u001b[39;49m\u001b[43mfigure\u001b[49m\u001b[38;5;241;43m.\u001b[39;49m\u001b[43msuppressComposite\u001b[49m\u001b[43m)\u001b[49m\n\u001b[1;32m   3073\u001b[0m renderer\u001b[38;5;241m.\u001b[39mclose_group(\u001b[38;5;124m'\u001b[39m\u001b[38;5;124maxes\u001b[39m\u001b[38;5;124m'\u001b[39m)\n\u001b[1;32m   3074\u001b[0m \u001b[38;5;28mself\u001b[39m\u001b[38;5;241m.\u001b[39mstale \u001b[38;5;241m=\u001b[39m \u001b[38;5;28;01mFalse\u001b[39;00m\n",
      "File \u001b[0;32m~/mambaforge/envs/python39/lib/python3.9/site-packages/matplotlib/image.py:132\u001b[0m, in \u001b[0;36m_draw_list_compositing_images\u001b[0;34m(renderer, parent, artists, suppress_composite)\u001b[0m\n\u001b[1;32m    130\u001b[0m \u001b[38;5;28;01mif\u001b[39;00m not_composite \u001b[38;5;129;01mor\u001b[39;00m \u001b[38;5;129;01mnot\u001b[39;00m has_images:\n\u001b[1;32m    131\u001b[0m     \u001b[38;5;28;01mfor\u001b[39;00m a \u001b[38;5;129;01min\u001b[39;00m artists:\n\u001b[0;32m--> 132\u001b[0m         \u001b[43ma\u001b[49m\u001b[38;5;241;43m.\u001b[39;49m\u001b[43mdraw\u001b[49m\u001b[43m(\u001b[49m\u001b[43mrenderer\u001b[49m\u001b[43m)\u001b[49m\n\u001b[1;32m    133\u001b[0m \u001b[38;5;28;01melse\u001b[39;00m:\n\u001b[1;32m    134\u001b[0m     \u001b[38;5;66;03m# Composite any adjacent images together\u001b[39;00m\n\u001b[1;32m    135\u001b[0m     image_group \u001b[38;5;241m=\u001b[39m []\n",
      "File \u001b[0;32m~/mambaforge/envs/python39/lib/python3.9/site-packages/matplotlib/artist.py:72\u001b[0m, in \u001b[0;36mallow_rasterization.<locals>.draw_wrapper\u001b[0;34m(artist, renderer)\u001b[0m\n\u001b[1;32m     69\u001b[0m     \u001b[38;5;28;01mif\u001b[39;00m artist\u001b[38;5;241m.\u001b[39mget_agg_filter() \u001b[38;5;129;01mis\u001b[39;00m \u001b[38;5;129;01mnot\u001b[39;00m \u001b[38;5;28;01mNone\u001b[39;00m:\n\u001b[1;32m     70\u001b[0m         renderer\u001b[38;5;241m.\u001b[39mstart_filter()\n\u001b[0;32m---> 72\u001b[0m     \u001b[38;5;28;01mreturn\u001b[39;00m \u001b[43mdraw\u001b[49m\u001b[43m(\u001b[49m\u001b[43martist\u001b[49m\u001b[43m,\u001b[49m\u001b[43m \u001b[49m\u001b[43mrenderer\u001b[49m\u001b[43m)\u001b[49m\n\u001b[1;32m     73\u001b[0m \u001b[38;5;28;01mfinally\u001b[39;00m:\n\u001b[1;32m     74\u001b[0m     \u001b[38;5;28;01mif\u001b[39;00m artist\u001b[38;5;241m.\u001b[39mget_agg_filter() \u001b[38;5;129;01mis\u001b[39;00m \u001b[38;5;129;01mnot\u001b[39;00m \u001b[38;5;28;01mNone\u001b[39;00m:\n",
      "File \u001b[0;32m~/mambaforge/envs/python39/lib/python3.9/site-packages/matplotlib/axis.py:1387\u001b[0m, in \u001b[0;36mAxis.draw\u001b[0;34m(self, renderer, *args, **kwargs)\u001b[0m\n\u001b[1;32m   1384\u001b[0m     \u001b[38;5;28;01mreturn\u001b[39;00m\n\u001b[1;32m   1385\u001b[0m renderer\u001b[38;5;241m.\u001b[39mopen_group(\u001b[38;5;18m__name__\u001b[39m, gid\u001b[38;5;241m=\u001b[39m\u001b[38;5;28mself\u001b[39m\u001b[38;5;241m.\u001b[39mget_gid())\n\u001b[0;32m-> 1387\u001b[0m ticks_to_draw \u001b[38;5;241m=\u001b[39m \u001b[38;5;28;43mself\u001b[39;49m\u001b[38;5;241;43m.\u001b[39;49m\u001b[43m_update_ticks\u001b[49m\u001b[43m(\u001b[49m\u001b[43m)\u001b[49m\n\u001b[1;32m   1388\u001b[0m tlb1, tlb2 \u001b[38;5;241m=\u001b[39m \u001b[38;5;28mself\u001b[39m\u001b[38;5;241m.\u001b[39m_get_ticklabel_bboxes(ticks_to_draw, renderer)\n\u001b[1;32m   1390\u001b[0m \u001b[38;5;28;01mfor\u001b[39;00m tick \u001b[38;5;129;01min\u001b[39;00m ticks_to_draw:\n",
      "File \u001b[0;32m~/mambaforge/envs/python39/lib/python3.9/site-packages/matplotlib/axis.py:1276\u001b[0m, in \u001b[0;36mAxis._update_ticks\u001b[0;34m(self)\u001b[0m\n\u001b[1;32m   1271\u001b[0m \u001b[38;5;250m\u001b[39m\u001b[38;5;124;03m\"\"\"\u001b[39;00m\n\u001b[1;32m   1272\u001b[0m \u001b[38;5;124;03mUpdate ticks (position and labels) using the current data interval of\u001b[39;00m\n\u001b[1;32m   1273\u001b[0m \u001b[38;5;124;03mthe axes.  Return the list of ticks that will be drawn.\u001b[39;00m\n\u001b[1;32m   1274\u001b[0m \u001b[38;5;124;03m\"\"\"\u001b[39;00m\n\u001b[1;32m   1275\u001b[0m major_locs \u001b[38;5;241m=\u001b[39m \u001b[38;5;28mself\u001b[39m\u001b[38;5;241m.\u001b[39mget_majorticklocs()\n\u001b[0;32m-> 1276\u001b[0m major_labels \u001b[38;5;241m=\u001b[39m \u001b[38;5;28;43mself\u001b[39;49m\u001b[38;5;241;43m.\u001b[39;49m\u001b[43mmajor\u001b[49m\u001b[38;5;241;43m.\u001b[39;49m\u001b[43mformatter\u001b[49m\u001b[38;5;241;43m.\u001b[39;49m\u001b[43mformat_ticks\u001b[49m\u001b[43m(\u001b[49m\u001b[43mmajor_locs\u001b[49m\u001b[43m)\u001b[49m\n\u001b[1;32m   1277\u001b[0m major_ticks \u001b[38;5;241m=\u001b[39m \u001b[38;5;28mself\u001b[39m\u001b[38;5;241m.\u001b[39mget_major_ticks(\u001b[38;5;28mlen\u001b[39m(major_locs))\n\u001b[1;32m   1278\u001b[0m \u001b[38;5;28;01mfor\u001b[39;00m tick, loc, label \u001b[38;5;129;01min\u001b[39;00m \u001b[38;5;28mzip\u001b[39m(major_ticks, major_locs, major_labels):\n",
      "File \u001b[0;32m~/mambaforge/envs/python39/lib/python3.9/site-packages/matplotlib/ticker.py:215\u001b[0m, in \u001b[0;36mFormatter.format_ticks\u001b[0;34m(self, values)\u001b[0m\n\u001b[1;32m    213\u001b[0m \u001b[38;5;28;01mdef\u001b[39;00m \u001b[38;5;21mformat_ticks\u001b[39m(\u001b[38;5;28mself\u001b[39m, values):\n\u001b[1;32m    214\u001b[0m \u001b[38;5;250m    \u001b[39m\u001b[38;5;124;03m\"\"\"Return the tick labels for all the ticks at once.\"\"\"\u001b[39;00m\n\u001b[0;32m--> 215\u001b[0m     \u001b[38;5;28;43mself\u001b[39;49m\u001b[38;5;241;43m.\u001b[39;49m\u001b[43mset_locs\u001b[49m\u001b[43m(\u001b[49m\u001b[43mvalues\u001b[49m\u001b[43m)\u001b[49m\n\u001b[1;32m    216\u001b[0m     \u001b[38;5;28;01mreturn\u001b[39;00m [\u001b[38;5;28mself\u001b[39m(value, i) \u001b[38;5;28;01mfor\u001b[39;00m i, value \u001b[38;5;129;01min\u001b[39;00m \u001b[38;5;28menumerate\u001b[39m(values)]\n",
      "File \u001b[0;32m~/mambaforge/envs/python39/lib/python3.9/site-packages/matplotlib/ticker.py:706\u001b[0m, in \u001b[0;36mScalarFormatter.set_locs\u001b[0;34m(self, locs)\u001b[0m\n\u001b[1;32m    704\u001b[0m     \u001b[38;5;28mself\u001b[39m\u001b[38;5;241m.\u001b[39m_compute_offset()\n\u001b[1;32m    705\u001b[0m \u001b[38;5;28mself\u001b[39m\u001b[38;5;241m.\u001b[39m_set_order_of_magnitude()\n\u001b[0;32m--> 706\u001b[0m \u001b[38;5;28;43mself\u001b[39;49m\u001b[38;5;241;43m.\u001b[39;49m\u001b[43m_set_format\u001b[49m\u001b[43m(\u001b[49m\u001b[43m)\u001b[49m\n",
      "File \u001b[0;32m~/mambaforge/envs/python39/lib/python3.9/site-packages/matplotlib/ticker.py:799\u001b[0m, in \u001b[0;36mScalarFormatter._set_format\u001b[0;34m(self)\u001b[0m\n\u001b[1;32m    796\u001b[0m \u001b[38;5;28;01mif\u001b[39;00m \u001b[38;5;28mlen\u001b[39m(\u001b[38;5;28mself\u001b[39m\u001b[38;5;241m.\u001b[39mlocs) \u001b[38;5;241m<\u001b[39m \u001b[38;5;241m2\u001b[39m:\n\u001b[1;32m    797\u001b[0m     \u001b[38;5;66;03m# We needed the end points only for the loc_range calculation.\u001b[39;00m\n\u001b[1;32m    798\u001b[0m     locs \u001b[38;5;241m=\u001b[39m locs[:\u001b[38;5;241m-\u001b[39m\u001b[38;5;241m2\u001b[39m]\n\u001b[0;32m--> 799\u001b[0m loc_range_oom \u001b[38;5;241m=\u001b[39m \u001b[38;5;28mint\u001b[39m(\u001b[43mmath\u001b[49m\u001b[38;5;241;43m.\u001b[39;49m\u001b[43mfloor\u001b[49m\u001b[43m(\u001b[49m\u001b[43mmath\u001b[49m\u001b[38;5;241;43m.\u001b[39;49m\u001b[43mlog10\u001b[49m\u001b[43m(\u001b[49m\u001b[43mloc_range\u001b[49m\u001b[43m)\u001b[49m\u001b[43m)\u001b[49m)\n\u001b[1;32m    800\u001b[0m \u001b[38;5;66;03m# first estimate:\u001b[39;00m\n\u001b[1;32m    801\u001b[0m sigfigs \u001b[38;5;241m=\u001b[39m \u001b[38;5;28mmax\u001b[39m(\u001b[38;5;241m0\u001b[39m, \u001b[38;5;241m3\u001b[39m \u001b[38;5;241m-\u001b[39m loc_range_oom)\n",
      "\u001b[0;31mOverflowError\u001b[0m: cannot convert float infinity to integer"
     ]
    },
    {
     "data": {
      "text/plain": [
       "<Figure size 1000x1000 with 2 Axes>"
      ]
     },
     "metadata": {},
     "output_type": "display_data"
    }
   ],
   "source": [
    "plt.imshow(mc_sig_ratio_pt[1])\n",
    "plt.colorbar()"
   ]
  },
  {
   "cell_type": "markdown",
   "metadata": {},
   "source": [
    "## Plots"
   ]
  },
  {
   "cell_type": "code",
   "execution_count": null,
   "metadata": {},
   "outputs": [],
   "source": [
    "plot_samples = [\n",
    "    \"QCD\",\n",
    "    \"Diboson\",\n",
    "    # \"Single Top\",\n",
    "    \"W+Jets\",\n",
    "    \"TT Unmatched\",\n",
    "    \"TT W Matched\",\n",
    "    top_matched_key,\n",
    "]\n",
    "\n",
    "bg_colours = {\n",
    "    \"QCD\": \"lightblue\",\n",
    "    \"Single Top\": \"darkblue\",\n",
    "    \"TT Unmatched\": \"darkgreen\",\n",
    "    \"TT W Matched\": \"green\",\n",
    "    \"TT Top Matched\": \"orange\",\n",
    "    \"W+Jets\": \"darkred\",\n",
    "    \"Diboson\": \"red\",\n",
    "}"
   ]
  },
  {
   "attachments": {},
   "cell_type": "markdown",
   "metadata": {},
   "source": [
    "### Pre plots"
   ]
  },
  {
   "cell_type": "code",
   "execution_count": null,
   "metadata": {},
   "outputs": [],
   "source": [
    "# {var: (bins, label)}\n",
    "plot_vars = {\n",
    "    # \"ak8FatJetMsd\": ([20, 125, 225], r\"$m_{SD}$ (GeV)\"),\n",
    "    # \"ak8FatJetParticleNetMass\": ([30, 50, 200], r\"$m_{reg}$ (GeV)\"),\n",
    "    # \"ak8FatJetPt\": ([30, 0, 1200], r\"$p_T$ (GeV)\"),\n",
    "    # \"MET_pt\": ([30, 0, 200], r\"MET (GeV)\"),\n",
    "    # \"ak8FatJetnPFCands\": ([20, 0, 120], r\"# of PF Candidates\"),\n",
    "    # \"ak8FatJetParticleNet_Th4q\": ([20, 0.6, 1], r\"ParticleNet $T_{H4q}$ Non-MD\"),\n",
    "    \"ak8FatJetParTMD_THWW4q\": ([20, 0.2, 1], r\"$T_{HVV}$\"),\n",
    "    # \"tau21\": ([20, 0.04, 0.8], r\"$\\tau_{21}$\"),\n",
    "    # \"tau32\": ([20, 0.2, 1], r\"$\\tau_{32}$\"),\n",
    "    # \"tau43\": ([20, 0.42, 1], r\"$\\tau_{43}$\"),\n",
    "    # \"tau42\": ([20, 0, 1], r\"$\\tau_{42}$\"),\n",
    "    # \"tau41\": ([20, 0, 1], r\"$\\tau_{41}$\"),\n",
    "}\n",
    "\n",
    "pre_hists = {}\n",
    "\n",
    "for var, (bins, label) in plot_vars.items():\n",
    "    if var not in pre_hists:\n",
    "        pre_hists[var] = utils.singleVarHistNoMask(\n",
    "            events_dict, var, bins, label, weight_key=\"weight\"\n",
    "        )\n",
    "\n",
    "merger_pre_plots = PdfMerger()\n",
    "\n",
    "for var, var_hist in pre_hists.items():\n",
    "    name = f\"{plot_dir}/pre_{var}.pdf\"\n",
    "    plotting.ratioLinePlot(\n",
    "        var_hist,\n",
    "        plot_samples,\n",
    "        year,\n",
    "        # bg_err=None,\n",
    "        name=name,\n",
    "        bg_colours=bg_colours,\n",
    "        # bg_order=plot_samples,\n",
    "        # ratio_ylims=[0.6, 1.3],\n",
    "    )\n",
    "    merger_pre_plots.append(name)\n",
    "\n",
    "merger_pre_plots.write(f\"{plot_dir}/PrePlots.pdf\")\n",
    "merger_pre_plots.close()"
   ]
  },
  {
   "attachments": {},
   "cell_type": "markdown",
   "metadata": {},
   "source": [
    "### Post plots"
   ]
  },
  {
   "cell_type": "code",
   "execution_count": null,
   "metadata": {},
   "outputs": [],
   "source": [
    "post_hists = {}\n",
    "post_hists_err = {}\n",
    "uncs_dict = {}\n",
    "\n",
    "events = events_dict[top_matched_key]\n",
    "\n",
    "for var, (bins, label) in plot_vars.items():\n",
    "    # if var not in post_hists:\n",
    "    toy_hists = []\n",
    "    for i in range(events[\"lp_sf\"].shape[1]):\n",
    "        toy_hists.append(\n",
    "            np.histogram(\n",
    "                events[var][0].values.squeeze(),\n",
    "                np.linspace(*bins[1:], bins[0] + 1),\n",
    "                weights=events[\"weight\"][0].values * events[\"lp_sf\"][i].values,\n",
    "            )[0]\n",
    "        )\n",
    "\n",
    "    sys_up_down = []\n",
    "    for key in [\"lp_sf_sys_up\", \"lp_sf_sys_down\"]:\n",
    "        sys_up_down.append(\n",
    "            np.histogram(\n",
    "                events[var][0].values.squeeze(),\n",
    "                np.linspace(*bins[1:], bins[0] + 1),\n",
    "                weights=events[\"weight\"][0].values * events[key][0].values,\n",
    "            )[0]\n",
    "        )\n",
    "\n",
    "    np_up_down = []\n",
    "    for key in [\"lp_sf_np_up\", \"lp_sf_np_down\"]:\n",
    "        np_up_down.append(\n",
    "            np.histogram(\n",
    "                events[var][0].values.squeeze(),\n",
    "                np.linspace(*bins[1:], bins[0] + 1),\n",
    "                weights=events[\"weight\"][0].values * events[key][0].values,\n",
    "            )[0]\n",
    "        )\n",
    "\n",
    "    um_up_down = []\n",
    "    for key in [\"lp_sf_unmatched_up\", \"lp_sf_unmatched_down\"]:\n",
    "        um_up_down.append(\n",
    "            np.histogram(\n",
    "                events[var][0].values.squeeze(),\n",
    "                np.linspace(*bins[1:], bins[0] + 1),\n",
    "                weights=events[\"weight\"][0].values * events[key].values,\n",
    "            )[0]\n",
    "        )\n",
    "\n",
    "    nom_vals = toy_hists[0]  # first column are nominal values\n",
    "\n",
    "    pt_toy_hists = []\n",
    "    for i in range(events[\"lp_sf_pt_extrap_vars\"].shape[1]):\n",
    "        pt_toy_hists.append(\n",
    "            np.histogram(\n",
    "                events[var][0].values.squeeze(),\n",
    "                np.linspace(*bins[1:], bins[0] + 1),\n",
    "                weights=events[\"weight\"][0].values * events[\"lp_sf_pt_extrap_vars\"][i].values,\n",
    "            )[0]\n",
    "        )\n",
    "\n",
    "    b_ratio_hist = np.histogram(\n",
    "        events[var][0].values.squeeze(),\n",
    "        np.linspace(*bins[1:], bins[0] + 1),\n",
    "        weights=events[\"weight\"][0].values\n",
    "        * events[\"lp_sfs_bl_ratio\"][0].values\n",
    "        * events[\"lp_sf_lnN\"][0].values,\n",
    "    )[0]\n",
    "\n",
    "    uncs = {\n",
    "        \"stat_unc\": np.minimum(nom_vals, np.std(toy_hists[1:], axis=0)),  # cap at 100% unc\n",
    "        \"syst_rat_unc\": np.minimum(nom_vals, (np.abs(sys_up_down[0] - sys_up_down[1])) / 2),\n",
    "        \"np_unc\": np.minimum(nom_vals, (np.abs(np_up_down[0] - np_up_down[1])) / 2),\n",
    "        \"um_unc\": np.minimum(nom_vals, (np.abs(um_up_down[0] - um_up_down[1])) / 2),\n",
    "        # \"syst_sjm_unc\": nom_vals * sj_matching_unc,\n",
    "        \"syst_sjpt_unc\": np.minimum(nom_vals, np.std(pt_toy_hists, axis=0)),\n",
    "        \"syst_b_unc\": np.abs(1 - (b_ratio_hist / nom_vals)) * nom_vals,\n",
    "    }\n",
    "\n",
    "    # uncs = {}\n",
    "\n",
    "    # for i, shift in enumerate([\"up\", \"down\"]):\n",
    "    #     uncs[shift] = {\n",
    "    #         \"syst_rat_unc\": np.clip(sys_up_down[i], 0, 2 * nom_vals),\n",
    "    #         \"np_unc\": np.clip(np_up_down[i], 0, 2 * nom_vals),\n",
    "    #         \"um_unc\": np.clip(um_up_down[i], 0, 2 * nom_vals),\n",
    "    #     }\n",
    "\n",
    "    #     uncs[shift]\n",
    "\n",
    "    #     for key, val in uncs_symm.items():\n",
    "    #         if shift == \"up\":\n",
    "    #             uncs[shift][key] = nom_vals + val\n",
    "    #         else:\n",
    "    #             uncs[shift][key] = nom_vals - val\n",
    "\n",
    "    uncs_dict[var] = uncs\n",
    "\n",
    "    unc = np.linalg.norm(list(uncs.values()), axis=0)\n",
    "\n",
    "    thist = deepcopy(pre_hists[var])\n",
    "    top_matched_key_index = np.where(np.array(list(thist.axes[0])) == top_matched_key)[0][0]\n",
    "    thist.view(flow=False)[top_matched_key_index, :].value = nom_vals\n",
    "    post_hists[var] = thist\n",
    "    post_hists_err[var] = unc\n",
    "\n",
    "\n",
    "merger_post_plots = PdfMerger()\n",
    "\n",
    "for var, var_hist in post_hists.items():\n",
    "    name = f\"{plot_dir}/post_{var}.pdf\"\n",
    "    plotting.ratioLinePlot(\n",
    "        var_hist,\n",
    "        plot_samples,\n",
    "        year,\n",
    "        bg_colours=bg_colours,\n",
    "        bg_err=post_hists_err[var],\n",
    "        name=name,\n",
    "    )\n",
    "    merger_post_plots.append(name)\n",
    "\n",
    "merger_post_plots.write(f\"{plot_dir}/PostPlots.pdf\")\n",
    "merger_post_plots.close()"
   ]
  },
  {
   "attachments": {},
   "cell_type": "markdown",
   "metadata": {},
   "source": [
    "### Post LnN Plots"
   ]
  },
  {
   "cell_type": "code",
   "execution_count": null,
   "metadata": {},
   "outputs": [],
   "source": [
    "post_lnN_hists = {}\n",
    "post_lnN_hists_err = {}\n",
    "uncs_lnN_dict = {}\n",
    "\n",
    "events = events_dict[top_matched_key]\n",
    "\n",
    "for var, (bins, label) in plot_vars.items():\n",
    "    if var not in post_lnN_hists:\n",
    "        toy_hists = []\n",
    "        for i in range(events[\"lp_sf_lnN\"].shape[1]):\n",
    "            toy_hists.append(\n",
    "                np.histogram(\n",
    "                    events[var][0].values.squeeze(),\n",
    "                    np.linspace(*bins[1:], bins[0] + 1),\n",
    "                    weights=events[\"weight\"][0].values * events[\"lp_sf_lnN\"][i].values,\n",
    "                )[0]\n",
    "            )\n",
    "\n",
    "        sys_up_down = []\n",
    "        for key in [\"lp_sf_sys_up\", \"lp_sf_sys_down\"]:\n",
    "            sys_up_down.append(\n",
    "                np.histogram(\n",
    "                    events[var][0].values.squeeze(),\n",
    "                    np.linspace(*bins[1:], bins[0] + 1),\n",
    "                    weights=events[\"weight\"][0].values * events[key][0].values,\n",
    "                )[0]\n",
    "            )\n",
    "\n",
    "        np_up_down = []\n",
    "        for key in [\"lp_sf_np_up\", \"lp_sf_np_down\"]:\n",
    "            np_up_down.append(\n",
    "                np.histogram(\n",
    "                    events[var][0].values.squeeze(),\n",
    "                    np.linspace(*bins[1:], bins[0] + 1),\n",
    "                    weights=events[\"weight\"][0].values * np.nan_to_num(events[key][0].values),\n",
    "                )[0]\n",
    "            )\n",
    "\n",
    "        dist_up_down = []\n",
    "        for key in [\"lp_sf_dist_up\", \"lp_sf_dist_down\"]:\n",
    "            dist_up_down.append(\n",
    "                np.histogram(\n",
    "                    events[var][0].values.squeeze(),\n",
    "                    np.linspace(*bins[1:], bins[0] + 1),\n",
    "                    weights=events[\"weight\"][0].values * np.nan_to_num(events[key][0].values),\n",
    "                )[0]\n",
    "            )\n",
    "\n",
    "        um_up_down = []\n",
    "        for key in [\"lp_sf_unmatched_up\", \"lp_sf_unmatched_down\"]:\n",
    "            um_up_down.append(\n",
    "                np.histogram(\n",
    "                    events[var][0].values.squeeze(),\n",
    "                    np.linspace(*bins[1:], bins[0] + 1),\n",
    "                    weights=events[\"weight\"][0].values * np.nan_to_num(events[key].values),\n",
    "                )[0]\n",
    "            )\n",
    "\n",
    "        nom_vals = toy_hists[0]  # first column are nominal values\n",
    "\n",
    "        pt_toy_hists = []\n",
    "        for i in range(events[\"lp_sf_pt_extrap_vars\"].shape[1]):\n",
    "            pt_toy_hists.append(\n",
    "                np.histogram(\n",
    "                    events[var][0].values.squeeze(),\n",
    "                    np.linspace(*bins[1:], bins[0] + 1),\n",
    "                    weights=events[\"weight\"][0].values * events[\"lp_sf_pt_extrap_vars\"][i].values,\n",
    "                )[0]\n",
    "            )\n",
    "\n",
    "        b_ratio_hist = np.histogram(\n",
    "            events[var][0].values.squeeze(),\n",
    "            np.linspace(*bins[1:], bins[0] + 1),\n",
    "            weights=events[\"weight\"][0].values\n",
    "            * events[\"lp_sfs_bl_ratio\"][0].values\n",
    "            * events[\"lp_sf_lnN\"][0].values,\n",
    "        )[0]\n",
    "\n",
    "        uncs = {\n",
    "            \"stat_unc\": np.minimum(nom_vals, np.std(toy_hists[1:], axis=0)),  # cap at 100% unc\n",
    "            \"syst_rat_unc\": np.minimum(nom_vals, (np.abs(sys_up_down[0] - sys_up_down[1])) / 2),\n",
    "            \"np_unc\": np.minimum(nom_vals, (np.abs(np_up_down[0] - np_up_down[1])) / 2),\n",
    "            \"dist_unc\": np.minimum(nom_vals, (np.abs(dist_up_down[0] - dist_up_down[1])) / 2),\n",
    "            \"um_unc\": np.minimum(nom_vals, (np.abs(um_up_down[0] - um_up_down[1])) / 2),\n",
    "            # \"syst_sjm_unc\": nom_vals * sj_matching_unc,\n",
    "            \"syst_sjpt_unc\": np.minimum(nom_vals, np.std(pt_toy_hists, axis=0)),\n",
    "            \"syst_b_unc\": np.abs(1 - (b_ratio_hist / nom_vals)) * nom_vals,\n",
    "        }\n",
    "\n",
    "        uncs_lnN_dict[var] = uncs\n",
    "\n",
    "        unc = np.linalg.norm(list(uncs.values()), axis=0)\n",
    "\n",
    "        thist = deepcopy(pre_hists[var])\n",
    "        top_matched_key_index = np.where(np.array(list(thist.axes[0])) == top_matched_key)[0][0]\n",
    "        thist.view(flow=False)[top_matched_key_index, :].value = nom_vals\n",
    "        post_lnN_hists[var] = thist\n",
    "\n",
    "        post_lnN_hists_err[var] = unc\n",
    "\n",
    "\n",
    "merger_post_plots = PdfMerger()\n",
    "\n",
    "for var, var_hist in post_lnN_hists.items():\n",
    "    name = f\"{plot_dir}/postlnN_{var}.pdf\"\n",
    "    plotting.ratioLinePlot(\n",
    "        var_hist,\n",
    "        plot_samples,\n",
    "        year,\n",
    "        bg_colours=bg_colours,\n",
    "        bg_err=post_lnN_hists_err[var],\n",
    "        name=name,\n",
    "    )\n",
    "    merger_post_plots.append(name)\n",
    "\n",
    "merger_post_plots.write(f\"{plot_dir}/PostLnNPlots.pdf\")\n",
    "merger_post_plots.close()"
   ]
  },
  {
   "cell_type": "markdown",
   "metadata": {},
   "source": [
    "## SF Analysis"
   ]
  },
  {
   "cell_type": "code",
   "execution_count": null,
   "metadata": {},
   "outputs": [],
   "source": [
    "binn = -1\n",
    "tvar = \"ak8FatJetParTMD_THWW4q\"\n",
    "pre_vals = pre_hists[tvar].view(flow=False)[top_matched_key_index, :].value\n",
    "nom_vals = post_hists[tvar].view(flow=False)[top_matched_key_index, :].value\n",
    "unc = post_hists_err[tvar]\n",
    "print(\"SF: \", nom_vals[binn] / pre_vals[binn])\n",
    "print(\"Uncs: \", {key: val[binn] / nom_vals[binn] * 100 for key, val in uncs_dict[tvar].items()})\n",
    "print(\"Combined: \", unc[binn] / nom_vals[binn] * 100)\n",
    "print(\"Abs: \", unc[binn] / pre_vals[binn])"
   ]
  },
  {
   "cell_type": "code",
   "execution_count": null,
   "metadata": {},
   "outputs": [],
   "source": [
    "binn = -1\n",
    "tvar = \"ak8FatJetParTMD_THWW4q\"\n",
    "pre_vals = pre_hists[tvar].view(flow=False)[top_matched_key_index, :].value\n",
    "nom_vals = post_lnN_hists[tvar].view(flow=False)[top_matched_key_index, :].value\n",
    "unc = post_lnN_hists_err[tvar]\n",
    "print(\"SF: \", nom_vals[binn] / pre_vals[binn])\n",
    "print(\"Uncs: \", {key: val[binn] / nom_vals[binn] * 100 for key, val in uncs_lnN_dict[tvar].items()})\n",
    "print(\"Combined: \", unc[binn] / nom_vals[binn] * 100)\n",
    "print(\"Abs: \", unc[binn] / pre_vals[binn])"
   ]
  },
  {
   "cell_type": "markdown",
   "metadata": {},
   "source": [
    "### Chi^2 improvement"
   ]
  },
  {
   "cell_type": "code",
   "execution_count": null,
   "metadata": {},
   "outputs": [],
   "source": [
    "def chisquare(mc, data):\n",
    "    return np.sum(np.square(data - mc) / data)"
   ]
  },
  {
   "cell_type": "code",
   "execution_count": null,
   "metadata": {},
   "outputs": [],
   "source": [
    "data_vals = pre_hists[tvar][\"Data\", ...].values()\n",
    "pre_MC_vals = (\n",
    "    pre_hists[tvar][sum, :].values()\n",
    "    - data_vals\n",
    "    - pre_hists[tvar][\"TTbar\", :].values()  # remove repeated data\n",
    "    - pre_hists[tvar][\"Top\", :].values()\n",
    "    - pre_hists[tvar][\"SingleTop\", :].values()\n",
    ")\n",
    "post_lnN_MC_vals = (\n",
    "    post_lnN_hists[tvar][sum, :].values()\n",
    "    - data_vals\n",
    "    - post_lnN_hists[tvar][\"TTbar\", :].values()  # remove repeated data\n",
    "    - post_lnN_hists[tvar][\"Top\", :].values()\n",
    "    - post_lnN_hists[tvar][\"SingleTop\", :].values()\n",
    ")"
   ]
  },
  {
   "cell_type": "code",
   "execution_count": null,
   "metadata": {},
   "outputs": [],
   "source": [
    "lb = 10\n",
    "print(\"Pre chi2:\", chisquare(pre_MC_vals[-lb:], data_vals[-lb:]))\n",
    "print(\"Post chi2:\", chisquare(post_lnN_MC_vals[-lb:], data_vals[-lb:]))"
   ]
  },
  {
   "cell_type": "code",
   "execution_count": null,
   "metadata": {},
   "outputs": [],
   "source": [
    "lb = 5\n",
    "print(\"Pre chi2:\", chisquare(pre_MC_vals[-lb:], data_vals[-lb:]))\n",
    "print(\"Post chi2:\", chisquare(post_lnN_MC_vals[-lb:], data_vals[-lb:]))"
   ]
  },
  {
   "attachments": {},
   "cell_type": "markdown",
   "metadata": {},
   "source": [
    "### Ratio plots"
   ]
  },
  {
   "cell_type": "code",
   "execution_count": null,
   "metadata": {},
   "outputs": [],
   "source": [
    "tvar = \"ak8FatJetParTMD_THWW4q\"\n",
    "\n",
    "# plt.figure(figsize=(12, 12))\n",
    "# hists = pre_hists[tvar]\n",
    "# bg_tot = np.sum(hists[plot_samples, :].values(), axis=0)\n",
    "# mcdata_ratio = (bg_tot + 1e-5) / hists[data_key, :].values()\n",
    "# _ = plt.hist(mcdata_ratio - 1, np.linspace(-0.5, 0.5, 10), histtype='step')\n",
    "\n",
    "plt.figure(figsize=(12, 12))\n",
    "hists = post_hists[tvar]\n",
    "bg_tot = np.sum(hists[plot_samples, :].values(), axis=0)\n",
    "data_tot = hists[data_key, :].values()\n",
    "unc = post_hists_err[tvar]\n",
    "mcdata_ratio = (bg_tot) / data_tot\n",
    "_ = plt.hist(((bg_tot - data_tot) / (unc))[10:], np.linspace(-6.5, 4.5, 23), histtype=\"step\")\n",
    "plt.xlabel(\"(MC - Data) / Unc.\")\n",
    "plt.savefig(f\"{plot_dir}/pull_hist.pdf\")"
   ]
  },
  {
   "cell_type": "code",
   "execution_count": null,
   "metadata": {},
   "outputs": [],
   "source": [
    "plotting.ratioLinePlot(\n",
    "    post_hists[tvar],\n",
    "    plot_samples,\n",
    "    year,\n",
    "    bg_err=post_hists_err[tvar],\n",
    "    name=f\"{plot_dir}/post_ak8FatJetParTMD_THWW4q_pulls.pdf\",\n",
    "    pulls=True,\n",
    ")"
   ]
  },
  {
   "cell_type": "code",
   "execution_count": null,
   "metadata": {},
   "outputs": [],
   "source": [
    "cut_dict = {}\n",
    "\n",
    "for key in events_dict:\n",
    "    cut_dict[key] = events_dict[key][events_dict[key][\"tau42\"][0] <= 0.3]"
   ]
  },
  {
   "cell_type": "code",
   "execution_count": null,
   "metadata": {},
   "outputs": [],
   "source": [
    "# {var: (bins, label)}\n",
    "plot_vars = {\n",
    "    \"ak8FatJetParTMD_THWW4q\": ([20, 0.6, 1], r\"ParT $T_{HWW4q}$ MD\"),\n",
    "}\n",
    "\n",
    "pre_hists_cut = {}\n",
    "\n",
    "for var, (bins, label) in plot_vars.items():\n",
    "    if var not in pre_hists_cut:\n",
    "        pre_hists_cut[var] = utils.singleVarHistNoMask(\n",
    "            cut_dict, var, bins, label, weight_key=\"weight\"\n",
    "        )\n",
    "\n",
    "merger_pre_plots = PdfFileMerger()\n",
    "\n",
    "for var, var_hist in pre_hists_cut.items():\n",
    "    name = f\"{plot_dir}/pre_{var}_tau42_cut.pdf\"\n",
    "    plotting.ratioLinePlot(\n",
    "        var_hist,\n",
    "        plot_samples,\n",
    "        year,\n",
    "        bg_err=None,\n",
    "        name=name,\n",
    "    )\n",
    "    merger_pre_plots.append(name)"
   ]
  },
  {
   "cell_type": "code",
   "execution_count": null,
   "metadata": {},
   "outputs": [],
   "source": [
    "post_lnN_cut_hists = {}\n",
    "post_lnN_cut_hists_err = {}\n",
    "uncs_lnN_cut_dict = {}\n",
    "\n",
    "events = cut_dict[top_matched_key]\n",
    "\n",
    "for var, (bins, label) in plot_vars.items():\n",
    "    if var not in post_lnN_cut_hists:\n",
    "        toy_hists = []\n",
    "        for i in range(events[\"lp_sf_lnN\"].shape[1]):\n",
    "            toy_hists.append(\n",
    "                np.histogram(\n",
    "                    events[var][0].values.squeeze(),\n",
    "                    np.linspace(*bins[1:], bins[0] + 1),\n",
    "                    weights=events[\"weight\"][0].values * events[\"lp_sf_lnN\"][i].values,\n",
    "                )[0]\n",
    "            )\n",
    "\n",
    "        sys_up_down = []\n",
    "        for key in [\"lp_sf_sys_up\", \"lp_sf_sys_down\"]:\n",
    "            sys_up_down.append(\n",
    "                np.histogram(\n",
    "                    events[var][0].values.squeeze(),\n",
    "                    np.linspace(*bins[1:], bins[0] + 1),\n",
    "                    weights=events[\"weight\"][0].values * events[key][0].values,\n",
    "                )[0]\n",
    "            )\n",
    "\n",
    "        nom_vals = toy_hists[0]  # first column are nominal values\n",
    "\n",
    "        uncs = {\n",
    "            \"stat_unc\": np.minimum(nom_vals, np.std(toy_hists[1:], axis=0)),  # cap at 100% unc\n",
    "            \"syst_rat_unc\": np.minimum(nom_vals, (np.abs(sys_up_down[0] - sys_up_down[1])) / 2),\n",
    "            \"syst_sjm_unc\": nom_vals * sj_matching_unc,\n",
    "            \"syst_sjpt_unc\": nom_vals * sj_pt_unc,\n",
    "        }\n",
    "\n",
    "        uncs_lnN_cut_dict[var] = uncs\n",
    "\n",
    "        unc = np.linalg.norm(list(uncs.values()), axis=0)\n",
    "\n",
    "        thist = deepcopy(pre_hists[var])\n",
    "        top_matched_key_index = np.where(np.array(list(thist.axes[0])) == top_matched_key)[0][0]\n",
    "        thist.view(flow=False)[top_matched_key_index, :].value = nom_vals\n",
    "        post_lnN_cut_hists[var] = thist\n",
    "\n",
    "        post_lnN_cut_hists_err[var] = unc\n",
    "\n",
    "\n",
    "merger_post_plots = PdfFileMerger()\n",
    "\n",
    "for var, var_hist in post_lnN_cut_hists.items():\n",
    "    name = f\"{plot_dir}/postlnN_{var}_cut.pdf\"\n",
    "    plotting.ratioLinePlot(\n",
    "        var_hist,\n",
    "        plot_samples,\n",
    "        year,\n",
    "        bg_err=post_lnN_cut_hists_err[var],\n",
    "        name=name,\n",
    "    )\n",
    "    merger_post_plots.append(name)"
   ]
  },
  {
   "cell_type": "code",
   "execution_count": null,
   "metadata": {},
   "outputs": [],
   "source": [
    "mass_hist = utils.singleVarHistNoMask(\n",
    "    events_dict, \"ak8FatJetMass\", [20, 125, 225], r\"$m_{SD}$\", weight_key=\"weight\"\n",
    ")"
   ]
  },
  {
   "cell_type": "code",
   "execution_count": null,
   "metadata": {},
   "outputs": [],
   "source": [
    "plotting.ratioHistPlot(\n",
    "    mass_hist,\n",
    "    [\"QCD\", \"Diboson\", \"Single Top\", \"W+Jets\", \"TT Unmatched\", \"TT W Matched\", top_matched_key],\n",
    "    f\"{plot_dir}/\",\n",
    ")"
   ]
  }
 ],
 "metadata": {
  "kernelspec": {
   "display_name": "Python 3.10.4 ('python310')",
   "language": "python",
   "name": "python3"
  },
  "language_info": {
   "codemirror_mode": {
    "name": "ipython",
    "version": 3
   },
   "file_extension": ".py",
   "mimetype": "text/x-python",
   "name": "python",
   "nbconvert_exporter": "python",
   "pygments_lexer": "ipython3",
   "version": "3.9.15"
  },
  "orig_nbformat": 4,
  "vscode": {
   "interpreter": {
    "hash": "31a7b1cb5f073f7a7d37b3db504c6954ce2b88e0f82e412b65ad0b5f2dd17394"
   }
  }
 },
 "nbformat": 4,
 "nbformat_minor": 2
}
