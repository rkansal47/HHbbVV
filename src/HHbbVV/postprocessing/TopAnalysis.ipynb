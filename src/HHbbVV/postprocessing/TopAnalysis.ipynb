{
 "cells": [
  {
   "cell_type": "code",
   "execution_count": null,
   "metadata": {},
   "outputs": [],
   "source": [
    "import numpy as np\n",
    "import warnings\n",
    "import pandas as pd\n",
    "from pandas.errors import SettingWithCopyWarning\n",
    "from pathlib import Path\n",
    "import pickle\n",
    "\n",
    "from HHbbVV.hh_vars import data_key, years\n",
    "import plotting\n",
    "import postprocessing\n",
    "import utils\n",
    "import TTCalibration\n",
    "\n",
    "from copy import deepcopy\n",
    "\n",
    "import matplotlib.pyplot as plt\n",
    "import matplotlib.ticker as mticker\n",
    "import mplhep as hep\n",
    "from PyPDF2 import PdfMerger\n",
    "\n",
    "# ignore these because they don't seem to apply\n",
    "warnings.simplefilter(action=\"ignore\", category=SettingWithCopyWarning)\n",
    "\n",
    "plt.style.use(hep.style.CMS)\n",
    "hep.style.use(\"CMS\")\n",
    "formatter = mticker.ScalarFormatter(useMathText=True)\n",
    "formatter.set_powerlimits((-3, 3))\n",
    "plt.rcParams.update({\"font.size\": 16})"
   ]
  },
  {
   "cell_type": "code",
   "execution_count": null,
   "metadata": {},
   "outputs": [],
   "source": [
    "%load_ext autoreload\n",
    "%autoreload 2"
   ]
  },
  {
   "cell_type": "code",
   "execution_count": null,
   "metadata": {},
   "outputs": [],
   "source": [
    "plot_dir = Path(\"../../../plots/ttsfs/25Mar26_2017\")\n",
    "plot_dir.mkdir(parents=True, exist_ok=True)"
   ]
  },
  {
   "cell_type": "markdown",
   "metadata": {},
   "source": [
    "## Load samples"
   ]
  },
  {
   "cell_type": "code",
   "execution_count": null,
   "metadata": {},
   "outputs": [],
   "source": [
    "from TTCalibration import (\n",
    "    bg_samples,\n",
    "    sig_samples,\n",
    "    samples,\n",
    "    top_matched_key,\n",
    "    top_wmatched_key,\n",
    "    top_unmatched_key,\n",
    ")\n",
    "\n",
    "year = \"2017\"\n",
    "\n",
    "# data_dir = \"/ceph/cms/store/user/rkansal/bbVV/ttsfs/24Feb28_update_lp/\"\n",
    "data_dir = \"/ceph/cms/store/user/rkansal/bbVV/ttsfs/25Mar25DeepAK8/\"\n",
    "# signal_data_dir = \"/ceph/cms/store/user/rkansal/bbVV/ttsfs/25Jan30GenSelFix/\"\n",
    "signal_data_dir = \"/ceph/cms/store/user/rkansal/bbVV/ttsfs/25Mar25DeepAK8/\"\n",
    "\n",
    "events_dict = postprocessing.load_samples(data_dir, bg_samples, year, hem_cleaning=False)\n",
    "events_dict |= postprocessing.load_samples(signal_data_dir, sig_samples, year, hem_cleaning=False)\n",
    "\n",
    "cutflow = pd.DataFrame(index=list(samples.keys()))\n",
    "utils.add_to_cutflow(events_dict, \"Selection\", \"weight\", cutflow)\n",
    "cutflow"
   ]
  },
  {
   "cell_type": "code",
   "execution_count": null,
   "metadata": {},
   "outputs": [],
   "source": [
    "TTCalibration.normalize_events(events_dict)\n",
    "utils.add_to_cutflow(events_dict, \"Scale\", \"weight\", cutflow)\n",
    "\n",
    "TTCalibration.fatjet_selection(events_dict)\n",
    "utils.add_to_cutflow(events_dict, \"FatJetSelection\", \"weight\", cutflow)\n",
    "\n",
    "TTCalibration.top_matching(events_dict)\n",
    "cutflow"
   ]
  },
  {
   "cell_type": "code",
   "execution_count": null,
   "metadata": {},
   "outputs": [],
   "source": [
    "print(np.sum(events_dict[top_matched_key][\"weight\"]))\n",
    "print(np.sum(events_dict[top_wmatched_key][\"weight\"]))\n",
    "print(np.sum(events_dict[top_unmatched_key][\"weight\"]))"
   ]
  },
  {
   "cell_type": "markdown",
   "metadata": {},
   "source": [
    "## LP SF Processing"
   ]
  },
  {
   "cell_type": "code",
   "execution_count": null,
   "metadata": {},
   "outputs": [],
   "source": [
    "events = events_dict[top_matched_key]\n",
    "TTCalibration.lp_sf_processing(events)\n",
    "TTCalibration.lp_sf_normalization(events)"
   ]
  },
  {
   "cell_type": "code",
   "execution_count": null,
   "metadata": {},
   "outputs": [],
   "source": [
    "plt.rcParams.update({\"font.size\": 24})\n",
    "plt.figure(figsize=(12, 12))\n",
    "_ = plt.hist(\n",
    "    events_dict[top_matched_key][\"lp_sf_lnN\"][10].values,\n",
    "    np.logspace(-4, 2, 101, base=10),\n",
    "    histtype=\"step\",\n",
    ")\n",
    "plt.xscale(\"log\")\n",
    "# plt.yscale(\"log\")\n",
    "plt.xlabel(\"LP SF\")\n",
    "plt.title(\"Scale factor distribution\")\n",
    "plt.show()"
   ]
  },
  {
   "cell_type": "code",
   "execution_count": null,
   "metadata": {},
   "outputs": [],
   "source": [
    "# events = events_dict[top_matched_key]\n",
    "# sj_matching_unc = (\n",
    "#     (np.sum(events[\"lp_sf_unmatched_quarks\"]) / (len(events) * 3))\n",
    "#     # OR of double matched and boundary quarks\n",
    "#     # >0.1 to avoid floating point errors\n",
    "#     + (\n",
    "#         np.sum((events[\"lp_sf_double_matched_event\"] + events[\"lp_sf_boundary_quarks\"]) > 0.1)\n",
    "#         / (len(events))\n",
    "#     )\n",
    "# ).values[0]\n",
    "# sj_matching_unc"
   ]
  },
  {
   "cell_type": "markdown",
   "metadata": {},
   "source": [
    "### Testing distortion uncertainty"
   ]
  },
  {
   "cell_type": "code",
   "execution_count": null,
   "metadata": {},
   "outputs": [],
   "source": [
    "import uproot\n",
    "from tqdm import tqdm\n",
    "import pickle\n",
    "\n",
    "package_path = Path(\"../\")\n",
    "\n",
    "for dist_year in tqdm(years[-1:]):\n",
    "    f = uproot.open(package_path / f\"corrections/lp_ratios/ratio_{dist_year}.root\")\n",
    "\n",
    "    # 3D histogram: [subjet_pt, ln(0.8/Delta), ln(kT/GeV)]\n",
    "    mc_nom = f[\"mc_nom\"].to_numpy()\n",
    "    ratio_edges = mc_nom[1:]\n",
    "    mc_nom = mc_nom[0]\n",
    "\n",
    "    mc_tot = np.sum(mc_nom, axis=(1, 2), keepdims=True)\n",
    "    mc_density = mc_nom / mc_tot\n",
    "    # plotting.plot_lund_plane_six(\n",
    "    #     mc_density, ratio_edges, name=f\"{plot_dir}/{dist_year}_MC.pdf\", show=True\n",
    "    # )\n",
    "\n",
    "    # ratio_nom = f[\"ratio_nom\"].to_numpy()[0]\n",
    "\n",
    "    for sig in [\"GluGluToHHTobbVV_node_cHHH1\", \"VBF_HHTobbVV_CV_1_C2V_2_C3_1\", \"TTToSemiLeptonic\"]:\n",
    "        if sig != \"TTToSemiLeptonic\" or dist_year != \"2018\":\n",
    "            continue\n",
    "\n",
    "        with (package_path / f\"corrections/lp_ratios/signals/{dist_year}_{sig}.hist\").open(\n",
    "            \"rb\"\n",
    "        ) as f:\n",
    "            sig_lp_hist = pickle.load(f)\n",
    "\n",
    "        sig_tot = np.sum(sig_lp_hist.values(), axis=(1, 2), keepdims=True)\n",
    "\n",
    "        # 0s -> 1 in the ratio\n",
    "        mc_sig_ratio = np.nan_to_num((mc_nom / mc_tot) / (sig_lp_hist.values() / sig_tot), nan=1.0)\n",
    "\n",
    "        # too low stats\n",
    "        mc_sig_ratio[mc_sig_ratio <= 0.5] = 1.0\n",
    "        mc_sig_ratio[mc_sig_ratio >= 2] = 1.0\n",
    "\n",
    "        sig_density = sig_lp_hist.values() / sig_tot\n",
    "\n",
    "        # mc_sig_ratio = np.clip(mc_sig_ratio, 0.5, 2.0)\n",
    "\n",
    "        # plotting.plot_lund_plane_six(\n",
    "        #     sig_density,\n",
    "        #     ratio_edges,\n",
    "        #     name=f\"{plot_dir}/{dist_year}_{sig}_tt_reweighted.pdf\",\n",
    "        #     show=True,\n",
    "        # )\n",
    "\n",
    "        plotting.plot_lund_plane_six(\n",
    "            mc_sig_ratio,\n",
    "            ratio_edges,\n",
    "            name=f\"{plot_dir}/{dist_year}_{sig}_ratio_tt_reweighted.pdf\",\n",
    "            log=True,\n",
    "            show=True,\n",
    "        )\n",
    "\n",
    "        # break"
   ]
  },
  {
   "cell_type": "code",
   "execution_count": null,
   "metadata": {},
   "outputs": [],
   "source": [
    "plotting.plot_lund_plane_six(\n",
    "    top_mc_sig_ratio,\n",
    "    ratio_edges,\n",
    "    name=f\"{plot_dir}/tt_ratio.pdf\",\n",
    "    show=True,\n",
    ")"
   ]
  },
  {
   "cell_type": "code",
   "execution_count": null,
   "metadata": {},
   "outputs": [],
   "source": [
    "f = uproot.open(package_path / f\"corrections/lp_ratios/top_RW_2018_june17_ratio.root\")\n",
    "\n",
    "mc_nom = f[\"mc_nom\"].to_numpy()\n",
    "ratio_edges = mc_nom[1:]\n",
    "mc_nom = mc_nom[0]\n",
    "\n",
    "mc_tot_pt = np.sum(mc_nom, axis=(1, 2), keepdims=True)\n",
    "mc_density = mc_nom / mc_tot_pt\n",
    "plotting.plot_lund_plane_six(\n",
    "    mc_density, ratio_edges, name=f\"{plot_dir}/2018_top_MC.pdf\", show=False\n",
    ")\n",
    "\n",
    "with (package_path / f\"corrections/lp_ratios/signals/2018_TTToSemiLeptonic.hist\").open(\"rb\") as f:\n",
    "    sig_lp_hist = pickle.load(f)\n",
    "\n",
    "    sig_tot_pt = np.sum(sig_lp_hist.values(), axis=(1, 2), keepdims=True)\n",
    "    sig_density = sig_lp_hist.values() / sig_tot_pt\n",
    "\n",
    "    top_mc_sig_ratio = np.nan_to_num(mc_density / sig_density, nan=1.0)\n",
    "    top_mc_sig_ratio[top_mc_sig_ratio == 0] = 1.0\n",
    "    top_mc_sig_ratio = np.clip(mc_sig_ratio, 0.05, 20.0)"
   ]
  },
  {
   "cell_type": "code",
   "execution_count": null,
   "metadata": {},
   "outputs": [],
   "source": [
    "sig_lp_hist.values()"
   ]
  },
  {
   "cell_type": "code",
   "execution_count": null,
   "metadata": {},
   "outputs": [],
   "source": [
    "import hist\n",
    "\n",
    "h = hist.Hist(\n",
    "    hist.axis.Variable(ratio_edges[0], name=\"subjet_pt\", label=\"Subjet pT [GeV]\"),\n",
    "    hist.axis.Variable(ratio_edges[1], name=\"logD\", label=\"ln(0.8/Delta)\"),\n",
    "    hist.axis.Variable(ratio_edges[2], name=\"logkt\", label=\"ln(kT/GeV)\"),\n",
    "    storage=hist.storage.Weight(),\n",
    ")"
   ]
  },
  {
   "cell_type": "code",
   "execution_count": null,
   "metadata": {},
   "outputs": [],
   "source": [
    "mc_tot = np.sum(mc_nom)\n",
    "sig_tot = sig_lp_hist.sum()\n",
    "sig_mc_ratio = np.clip(\n",
    "    np.nan_to_num((sig_lp_hist.values() / sig_tot) / (mc_nom / mc_tot), nan=1), 0.5, 2.0\n",
    ")"
   ]
  },
  {
   "cell_type": "code",
   "execution_count": null,
   "metadata": {},
   "outputs": [],
   "source": [
    "sig_tot_pt = np.sum(sig_lp_hist.values(), axis=(1, 2), keepdims=True)\n",
    "mc_tot_pt = np.sum(mc_nom, axis=(1, 2), keepdims=True)\n",
    "mc_sig_ratio_pt = np.nan_to_num((mc_nom / mc_tot_pt) / (sig_lp_hist.values() / sig_tot_pt), nan=1.0)\n",
    "mc_sig_ratio_pt[mc_sig_ratio_pt == 0] = 1.0\n",
    "mc_sig_ratio_pt = np.clip(mc_sig_ratio_pt, 0.5, 2.0)\n",
    "plt.imshow(mc_sig_ratio_pt[0])"
   ]
  },
  {
   "cell_type": "code",
   "execution_count": null,
   "metadata": {},
   "outputs": [],
   "source": [
    "sig_tot_pt = np.sum(sig_old_lp_hist.values(), axis=(1, 2), keepdims=True)\n",
    "mc_tot_pt = np.sum(mc_nom, axis=(1, 2), keepdims=True)\n",
    "mc_sig_old_ratio_pt = np.nan_to_num(\n",
    "    (mc_nom / mc_tot_pt) / (sig_old_lp_hist.values() / sig_tot_pt), nan=1.0\n",
    ")\n",
    "mc_sig_old_ratio_pt[mc_sig_old_ratio_pt == 0] = 1.0\n",
    "mc_sig_old_ratio_pt = np.clip(mc_sig_old_ratio_pt, 0.5, 2.0)\n",
    "plt.imshow(mc_sig_old_ratio_pt[0])"
   ]
  },
  {
   "cell_type": "markdown",
   "metadata": {},
   "source": [
    "## Plots"
   ]
  },
  {
   "cell_type": "code",
   "execution_count": null,
   "metadata": {},
   "outputs": [],
   "source": [
    "from TTCalibration import plot_samples, bg_colours, plot_vars\n",
    "\n",
    "pre_hists = TTCalibration.plot_pre_hists(events_dict, plot_dir, year, show=True)\n",
    "post_lnN_hists, uncs_lnN_dict, post_lnN_hists_err = TTCalibration.plot_post_hists(\n",
    "    events_dict, pre_hists, plot_dir, year, show=True\n",
    ")\n",
    "\n",
    "TTCalibration.bin_sf(\n",
    "    pre_hists, post_lnN_hists, uncs_lnN_dict, post_lnN_hists_err, plot_dir, binn=-1\n",
    ")\n",
    "TTCalibration.chisq_diff(pre_hists, post_lnN_hists, plot_dir, lb=20)"
   ]
  },
  {
   "cell_type": "markdown",
   "metadata": {},
   "source": [
    "### Same plot"
   ]
  },
  {
   "cell_type": "code",
   "execution_count": null,
   "metadata": {},
   "outputs": [],
   "source": [
    "for var, var_hist in post_lnN_hists.items():\n",
    "    name = f\"{plot_dir}/PrePostlnN_{var}.pdf\"\n",
    "    plotting.ratioLinePlotPrePost(\n",
    "        var_hist,\n",
    "        pre_hists[var],\n",
    "        plot_samples,\n",
    "        year,\n",
    "        bg_colours=bg_colours,\n",
    "        bg_err=post_lnN_hists_err[var],\n",
    "        name=name,\n",
    "    )"
   ]
  },
  {
   "cell_type": "markdown",
   "metadata": {},
   "source": [
    "## Old stuff"
   ]
  },
  {
   "attachments": {},
   "cell_type": "markdown",
   "metadata": {},
   "source": [
    "### Post plots with truncated Gaussians (ignore now!)"
   ]
  },
  {
   "cell_type": "code",
   "execution_count": null,
   "metadata": {},
   "outputs": [],
   "source": [
    "post_hists = {}\n",
    "post_hists_err = {}\n",
    "uncs_dict = {}\n",
    "\n",
    "events = events_dict[top_matched_key]\n",
    "\n",
    "for var, (bins, label) in plot_vars.items():\n",
    "    # if var not in post_hists:\n",
    "    toy_hists = []\n",
    "    for i in range(events[\"lp_sf\"].shape[1]):\n",
    "        toy_hists.append(\n",
    "            np.histogram(\n",
    "                events[var][0].values.squeeze(),\n",
    "                np.linspace(*bins[1:], bins[0] + 1),\n",
    "                weights=events[\"weight\"][0].values * events[\"lp_sf\"][i].values,\n",
    "            )[0]\n",
    "        )\n",
    "\n",
    "    sys_up_down = []\n",
    "    for key in [\"lp_sf_sys_up\", \"lp_sf_sys_down\"]:\n",
    "        sys_up_down.append(\n",
    "            np.histogram(\n",
    "                events[var][0].values.squeeze(),\n",
    "                np.linspace(*bins[1:], bins[0] + 1),\n",
    "                weights=events[\"weight\"][0].values * events[key][0].values,\n",
    "            )[0]\n",
    "        )\n",
    "\n",
    "    np_up_down = []\n",
    "    for key in [\"lp_sf_np_up\", \"lp_sf_np_down\"]:\n",
    "        np_up_down.append(\n",
    "            np.histogram(\n",
    "                events[var][0].values.squeeze(),\n",
    "                np.linspace(*bins[1:], bins[0] + 1),\n",
    "                weights=events[\"weight\"][0].values * events[key][0].values,\n",
    "            )[0]\n",
    "        )\n",
    "\n",
    "    um_up_down = []\n",
    "    for key in [\"lp_sf_unmatched_up\", \"lp_sf_unmatched_down\"]:\n",
    "        um_up_down.append(\n",
    "            np.histogram(\n",
    "                events[var][0].values.squeeze(),\n",
    "                np.linspace(*bins[1:], bins[0] + 1),\n",
    "                weights=events[\"weight\"][0].values * events[key].values,\n",
    "            )[0]\n",
    "        )\n",
    "\n",
    "    nom_vals = toy_hists[0]  # first column are nominal values\n",
    "\n",
    "    pt_toy_hists = []\n",
    "    for i in range(events[\"lp_sf_pt_extrap_vars\"].shape[1]):\n",
    "        pt_toy_hists.append(\n",
    "            np.histogram(\n",
    "                events[var][0].values.squeeze(),\n",
    "                np.linspace(*bins[1:], bins[0] + 1),\n",
    "                weights=events[\"weight\"][0].values * events[\"lp_sf_pt_extrap_vars\"][i].values,\n",
    "            )[0]\n",
    "        )\n",
    "\n",
    "    b_ratio_hist = np.histogram(\n",
    "        events[var][0].values.squeeze(),\n",
    "        np.linspace(*bins[1:], bins[0] + 1),\n",
    "        weights=events[\"weight\"][0].values\n",
    "        * events[\"lp_sfs_bl_ratio\"][0].values\n",
    "        * events[\"lp_sf_lnN\"][0].values,\n",
    "    )[0]\n",
    "\n",
    "    uncs = {\n",
    "        \"stat_unc\": np.minimum(nom_vals, np.std(toy_hists[1:], axis=0)),  # cap at 100% unc\n",
    "        \"syst_rat_unc\": np.minimum(nom_vals, (np.abs(sys_up_down[0] - sys_up_down[1])) / 2),\n",
    "        \"np_unc\": np.minimum(nom_vals, (np.abs(np_up_down[0] - np_up_down[1])) / 2),\n",
    "        \"um_unc\": np.minimum(nom_vals, (np.abs(um_up_down[0] - um_up_down[1])) / 2),\n",
    "        # \"syst_sjm_unc\": nom_vals * sj_matching_unc,\n",
    "        \"syst_sjpt_unc\": np.minimum(nom_vals, np.std(pt_toy_hists, axis=0)),\n",
    "        \"syst_b_unc\": np.abs(1 - (b_ratio_hist / nom_vals)) * nom_vals,\n",
    "    }\n",
    "\n",
    "    # uncs = {}\n",
    "\n",
    "    # for i, shift in enumerate([\"up\", \"down\"]):\n",
    "    #     uncs[shift] = {\n",
    "    #         \"syst_rat_unc\": np.clip(sys_up_down[i], 0, 2 * nom_vals),\n",
    "    #         \"np_unc\": np.clip(np_up_down[i], 0, 2 * nom_vals),\n",
    "    #         \"um_unc\": np.clip(um_up_down[i], 0, 2 * nom_vals),\n",
    "    #     }\n",
    "\n",
    "    #     uncs[shift]\n",
    "\n",
    "    #     for key, val in uncs_symm.items():\n",
    "    #         if shift == \"up\":\n",
    "    #             uncs[shift][key] = nom_vals + val\n",
    "    #         else:\n",
    "    #             uncs[shift][key] = nom_vals - val\n",
    "\n",
    "    uncs_dict[var] = uncs\n",
    "\n",
    "    unc = np.linalg.norm(list(uncs.values()), axis=0)\n",
    "\n",
    "    thist = deepcopy(pre_hists[var])\n",
    "    top_matched_key_index = np.where(np.array(list(thist.axes[0])) == top_matched_key)[0][0]\n",
    "    thist.view(flow=False)[top_matched_key_index, :].value = nom_vals\n",
    "    post_hists[var] = thist\n",
    "    post_hists_err[var] = unc\n",
    "\n",
    "\n",
    "merger_post_plots = PdfMerger()\n",
    "\n",
    "for var, var_hist in post_hists.items():\n",
    "    name = f\"{plot_dir}/post_{var}.pdf\"\n",
    "    plotting.ratioLinePlot(\n",
    "        var_hist,\n",
    "        plot_samples,\n",
    "        year,\n",
    "        bg_colours=bg_colours,\n",
    "        bg_err=post_hists_err[var],\n",
    "        name=name,\n",
    "    )\n",
    "    merger_post_plots.append(name)\n",
    "\n",
    "merger_post_plots.write(f\"{plot_dir}/PostPlots.pdf\")\n",
    "merger_post_plots.close()"
   ]
  },
  {
   "cell_type": "markdown",
   "metadata": {},
   "source": [
    "### Truncated Gaussians (ignore again)"
   ]
  },
  {
   "cell_type": "code",
   "execution_count": null,
   "metadata": {},
   "outputs": [],
   "source": [
    "binn = -1\n",
    "tvar = \"ak8FatJetParTMD_THWW4q\"\n",
    "pre_vals = pre_hists[tvar].view(flow=False)[top_matched_key_index, :].value\n",
    "nom_vals = post_hists[tvar].view(flow=False)[top_matched_key_index, :].value\n",
    "unc = post_hists_err[tvar]\n",
    "print(\"SF: \", nom_vals[binn] / pre_vals[binn])\n",
    "print(\"Uncs: \", {key: val[binn] / nom_vals[binn] * 100 for key, val in uncs_dict[tvar].items()})\n",
    "print(\"Combined: \", unc[binn] / nom_vals[binn] * 100)\n",
    "print(\"Abs: \", unc[binn] / pre_vals[binn])"
   ]
  },
  {
   "attachments": {},
   "cell_type": "markdown",
   "metadata": {},
   "source": [
    "### Ratio plots"
   ]
  },
  {
   "cell_type": "code",
   "execution_count": null,
   "metadata": {},
   "outputs": [],
   "source": [
    "tvar = \"ak8FatJetParTMD_THWW4q\"\n",
    "\n",
    "# plt.figure(figsize=(12, 12))\n",
    "# hists = pre_hists[tvar]\n",
    "# bg_tot = np.sum(hists[plot_samples, :].values(), axis=0)\n",
    "# mcdata_ratio = (bg_tot + 1e-5) / hists[data_key, :].values()\n",
    "# _ = plt.hist(mcdata_ratio - 1, np.linspace(-0.5, 0.5, 10), histtype='step')\n",
    "\n",
    "plt.figure(figsize=(12, 12))\n",
    "hists = post_hists[tvar]\n",
    "bg_tot = np.sum(hists[plot_samples, :].values(), axis=0)\n",
    "data_tot = hists[data_key, :].values()\n",
    "unc = post_hists_err[tvar]\n",
    "mcdata_ratio = (bg_tot) / data_tot\n",
    "_ = plt.hist(((bg_tot - data_tot) / (unc))[10:], np.linspace(-6.5, 4.5, 23), histtype=\"step\")\n",
    "plt.xlabel(\"(MC - Data) / Unc.\")\n",
    "plt.savefig(f\"{plot_dir}/pull_hist.pdf\")"
   ]
  },
  {
   "cell_type": "code",
   "execution_count": null,
   "metadata": {},
   "outputs": [],
   "source": [
    "plotting.ratioLinePlot(\n",
    "    post_hists[tvar],\n",
    "    plot_samples,\n",
    "    year,\n",
    "    bg_err=post_hists_err[tvar],\n",
    "    name=f\"{plot_dir}/post_ak8FatJetParTMD_THWW4q_pulls.pdf\",\n",
    "    pulls=True,\n",
    ")"
   ]
  },
  {
   "cell_type": "code",
   "execution_count": null,
   "metadata": {},
   "outputs": [],
   "source": [
    "cut_dict = {}\n",
    "\n",
    "for key in events_dict:\n",
    "    cut_dict[key] = events_dict[key][events_dict[key][\"tau42\"][0] <= 0.3]"
   ]
  },
  {
   "cell_type": "code",
   "execution_count": null,
   "metadata": {},
   "outputs": [],
   "source": [
    "# {var: (bins, label)}\n",
    "plot_vars = {\n",
    "    \"ak8FatJetParTMD_THWW4q\": ([20, 0.6, 1], r\"ParT $T_{HWW4q}$ MD\"),\n",
    "}\n",
    "\n",
    "pre_hists_cut = {}\n",
    "\n",
    "for var, (bins, label) in plot_vars.items():\n",
    "    if var not in pre_hists_cut:\n",
    "        pre_hists_cut[var] = utils.singleVarHistNoMask(\n",
    "            cut_dict, var, bins, label, weight_key=\"weight\"\n",
    "        )\n",
    "\n",
    "merger_pre_plots = PdfFileMerger()\n",
    "\n",
    "for var, var_hist in pre_hists_cut.items():\n",
    "    name = f\"{plot_dir}/pre_{var}_tau42_cut.pdf\"\n",
    "    plotting.ratioLinePlot(\n",
    "        var_hist,\n",
    "        plot_samples,\n",
    "        year,\n",
    "        bg_err=None,\n",
    "        name=name,\n",
    "    )\n",
    "    merger_pre_plots.append(name)"
   ]
  },
  {
   "cell_type": "code",
   "execution_count": null,
   "metadata": {},
   "outputs": [],
   "source": [
    "post_lnN_cut_hists = {}\n",
    "post_lnN_cut_hists_err = {}\n",
    "uncs_lnN_cut_dict = {}\n",
    "\n",
    "events = cut_dict[top_matched_key]\n",
    "\n",
    "for var, (bins, label) in plot_vars.items():\n",
    "    if var not in post_lnN_cut_hists:\n",
    "        toy_hists = []\n",
    "        for i in range(events[\"lp_sf_lnN\"].shape[1]):\n",
    "            toy_hists.append(\n",
    "                np.histogram(\n",
    "                    events[var][0].values.squeeze(),\n",
    "                    np.linspace(*bins[1:], bins[0] + 1),\n",
    "                    weights=events[\"weight\"][0].values * events[\"lp_sf_lnN\"][i].values,\n",
    "                )[0]\n",
    "            )\n",
    "\n",
    "        sys_up_down = []\n",
    "        for key in [\"lp_sf_sys_up\", \"lp_sf_sys_down\"]:\n",
    "            sys_up_down.append(\n",
    "                np.histogram(\n",
    "                    events[var][0].values.squeeze(),\n",
    "                    np.linspace(*bins[1:], bins[0] + 1),\n",
    "                    weights=events[\"weight\"][0].values * events[key][0].values,\n",
    "                )[0]\n",
    "            )\n",
    "\n",
    "        nom_vals = toy_hists[0]  # first column are nominal values\n",
    "\n",
    "        uncs = {\n",
    "            \"stat_unc\": np.minimum(nom_vals, np.std(toy_hists[1:], axis=0)),  # cap at 100% unc\n",
    "            \"syst_rat_unc\": np.minimum(nom_vals, (np.abs(sys_up_down[0] - sys_up_down[1])) / 2),\n",
    "            \"syst_sjm_unc\": nom_vals * sj_matching_unc,\n",
    "            \"syst_sjpt_unc\": nom_vals * sj_pt_unc,\n",
    "        }\n",
    "\n",
    "        uncs_lnN_cut_dict[var] = uncs\n",
    "\n",
    "        unc = np.linalg.norm(list(uncs.values()), axis=0)\n",
    "\n",
    "        thist = deepcopy(pre_hists[var])\n",
    "        top_matched_key_index = np.where(np.array(list(thist.axes[0])) == top_matched_key)[0][0]\n",
    "        thist.view(flow=False)[top_matched_key_index, :].value = nom_vals\n",
    "        post_lnN_cut_hists[var] = thist\n",
    "\n",
    "        post_lnN_cut_hists_err[var] = unc\n",
    "\n",
    "\n",
    "merger_post_plots = PdfFileMerger()\n",
    "\n",
    "for var, var_hist in post_lnN_cut_hists.items():\n",
    "    name = f\"{plot_dir}/postlnN_{var}_cut.pdf\"\n",
    "    plotting.ratioLinePlot(\n",
    "        var_hist,\n",
    "        plot_samples,\n",
    "        year,\n",
    "        bg_err=post_lnN_cut_hists_err[var],\n",
    "        name=name,\n",
    "    )\n",
    "    merger_post_plots.append(name)"
   ]
  },
  {
   "cell_type": "code",
   "execution_count": null,
   "metadata": {},
   "outputs": [],
   "source": [
    "mass_hist = utils.singleVarHistNoMask(\n",
    "    events_dict, \"ak8FatJetMass\", [20, 125, 225], r\"$m_{SD}$\", weight_key=\"weight\"\n",
    ")"
   ]
  },
  {
   "cell_type": "code",
   "execution_count": null,
   "metadata": {},
   "outputs": [],
   "source": [
    "plotting.ratioHistPlot(\n",
    "    mass_hist,\n",
    "    [\n",
    "        \"QCD\",\n",
    "        \"Diboson\",\n",
    "        \"Single Top\",\n",
    "        \"W+Jets\",\n",
    "        top_unmatched_key,\n",
    "        top_wmatched_key,\n",
    "        top_matched_key,\n",
    "    ],\n",
    "    f\"{plot_dir}/\",\n",
    ")"
   ]
  }
 ],
 "metadata": {
  "kernelspec": {
   "display_name": "python39",
   "language": "python",
   "name": "python3"
  },
  "language_info": {
   "codemirror_mode": {
    "name": "ipython",
    "version": 3
   },
   "file_extension": ".py",
   "mimetype": "text/x-python",
   "name": "python",
   "nbconvert_exporter": "python",
   "pygments_lexer": "ipython3",
   "version": "3.9.15"
  },
  "orig_nbformat": 4
 },
 "nbformat": 4,
 "nbformat_minor": 2
}
