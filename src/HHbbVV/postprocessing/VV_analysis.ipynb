{
 "cells": [
  {
   "cell_type": "code",
   "execution_count": 2,
   "metadata": {},
   "outputs": [],
   "source": [
    "import utils\n",
    "import plotting\n",
    "import postprocessing\n",
    "import numpy as np\n",
    "import warnings\n",
    "import pandas as pd\n",
    "from pandas.errors import SettingWithCopyWarning\n",
    "from sample_labels import samples, sig_key, data_key\n",
    "\n",
    "# ignore these because they don't seem to apply\n",
    "warnings.simplefilter(action=\"ignore\", category=SettingWithCopyWarning)\n",
    "\n",
    "from PyPDF2 import PdfFileMerger\n",
    "\n",
    "from copy import deepcopy\n",
    "\n",
    "import matplotlib.pyplot as plt\n",
    "import mplhep as hep\n",
    "import matplotlib.ticker as mticker\n",
    "\n",
    "plt.style.use(hep.style.CMS)\n",
    "hep.style.use(\"CMS\")\n",
    "formatter = mticker.ScalarFormatter(useMathText=True)\n",
    "formatter.set_powerlimits((-3, 3))\n",
    "plt.rcParams.update({\"font.size\": 16})"
   ]
  },
  {
   "cell_type": "code",
   "execution_count": 3,
   "metadata": {},
   "outputs": [],
   "source": [
    "%load_ext autoreload\n",
    "%autoreload 2"
   ]
  },
  {
   "cell_type": "code",
   "execution_count": 4,
   "metadata": {},
   "outputs": [
    {
     "name": "stdout",
     "output_type": "stream",
     "text": [
      "Finding HHbbVV samples\n",
      "Loading GluGluToHHTobbVV_node_cHHH1\n",
      "Loaded 236504 entries\n",
      "Pre-selection GluGluToHHTobbVV yield: 5.12\n"
     ]
    }
   ],
   "source": [
    "MAIN_DIR = \"../../../\"\n",
    "signal_samples_dir = f\"{MAIN_DIR}/../data/skimmer/Feb3\"\n",
    "year = \"2017\"\n",
    "\n",
    "# Both Jet's Msds > 50\n",
    "filters = [\n",
    "    [\n",
    "        (\"('ak8FatJetMsd', '0')\", \">=\", 50),\n",
    "        (\"('ak8FatJetMsd', '1')\", \">=\", 50),\n",
    "    ],\n",
    "]\n",
    "\n",
    "events_dict = utils.load_samples(signal_samples_dir, {sig_key: samples[sig_key]}, year, filters)\n",
    "tot_weight = np.sum(events_dict[sig_key][\"weight\"]).values[0]\n",
    "print(f\"Pre-selection {samples[sig_key]} yield: {tot_weight:.2f}\")\n",
    "\n",
    "cutflow = pd.DataFrame(index=[sig_key])\n"
   ]
  },
  {
   "cell_type": "code",
   "execution_count": 5,
   "metadata": {},
   "outputs": [],
   "source": [
    "postprocessing.apply_weights(events_dict, year, cutflow)\n",
    "bb_masks = postprocessing.bb_VV_assignment(events_dict)[sig_key]\n",
    "events = events_dict[sig_key]"
   ]
  },
  {
   "cell_type": "code",
   "execution_count": 6,
   "metadata": {},
   "outputs": [
    {
     "name": "stderr",
     "output_type": "stream",
     "text": [
      "/Users/raghav/Documents/CERN/hhbbww/HHbbVV/src/HHbbVV/postprocessing/postprocessing.py:339: PerformanceWarning: DataFrame is highly fragmented.  This is usually the result of calling `frame.insert` many times, which has poor performance.  Consider joining all columns at once using pd.concat(axis=1) instead. To get a de-fragmented frame, use `newframe = frame.copy()`\n",
      "  events[[(f\"{jet}_{key}\", i) for i in range(num_lp_sf_toys)]] = td[key]\n",
      "/Users/raghav/Documents/CERN/hhbbww/HHbbVV/src/HHbbVV/postprocessing/postprocessing.py:339: PerformanceWarning: DataFrame is highly fragmented.  This is usually the result of calling `frame.insert` many times, which has poor performance.  Consider joining all columns at once using pd.concat(axis=1) instead. To get a de-fragmented frame, use `newframe = frame.copy()`\n",
      "  events[[(f\"{jet}_{key}\", i) for i in range(num_lp_sf_toys)]] = td[key]\n"
     ]
    }
   ],
   "source": [
    "postprocessing.postprocess_lpsfs(events)"
   ]
  },
  {
   "cell_type": "code",
   "execution_count": 23,
   "metadata": {},
   "outputs": [],
   "source": [
    "VV_cut_events = events[utils.get_feat(events, \"VVFatJetParTMD_THWW4q\", bb_masks) > 0.975]\n",
    "VV_pt_cut_events = events[(utils.get_feat(events, \"VVFatJetParTMD_THWW4q\", bb_masks) > 0.975) * (utils.get_feat(events, \"VVFatJetPt\", bb_masks) > 500)]\n",
    "bb_cut_events = events[utils.get_feat(events, \"bbFatJetParticleNetMD_Txbb\", bb_masks) > 0.975]"
   ]
  },
  {
   "cell_type": "code",
   "execution_count": 10,
   "metadata": {},
   "outputs": [
    {
     "name": "stdout",
     "output_type": "stream",
     "text": [
      "SF: 0.77 ± 0.23\n",
      "syst_unc: 0.28\n",
      "stat_unc: 0.04\n",
      "sj_pt_unc: 0.00\n",
      "sj_matching_unc: 0.12\n",
      "Combined: 0.30\n"
     ]
    }
   ],
   "source": [
    "vvsf, uncs = postprocessing.get_lpsf(VV_cut_events)\n",
    "tot_rel_unc = np.linalg.norm([val for val in uncs.values()])\n",
    "tot_unc = vvsf * tot_rel_unc\n",
    "\n",
    "print(f\"SF: {vvsf:.2f} ± {tot_unc:.2f}\")\n",
    "for key, val in uncs.items():\n",
    "    print(f\"{key}: {val:.2f}\")\n",
    "print(f\"Combined: {tot_rel_unc:.2f}\")"
   ]
  },
  {
   "cell_type": "code",
   "execution_count": 24,
   "metadata": {},
   "outputs": [
    {
     "name": "stdout",
     "output_type": "stream",
     "text": [
      "SF: 0.73 ± 0.33\n",
      "syst_unc: 0.43\n",
      "stat_unc: 0.07\n",
      "sj_pt_unc: 0.02\n",
      "sj_matching_unc: 0.10\n",
      "Combined: 0.45\n"
     ]
    }
   ],
   "source": [
    "vvsf, uncs = postprocessing.get_lpsf(VV_pt_cut_events)\n",
    "tot_rel_unc = np.linalg.norm([val for val in uncs.values()])\n",
    "tot_unc = vvsf * tot_rel_unc\n",
    "\n",
    "print(f\"SF: {vvsf:.2f} ± {tot_unc:.2f}\")\n",
    "for key, val in uncs.items():\n",
    "    print(f\"{key}: {val:.2f}\")\n",
    "print(f\"Combined: {tot_rel_unc:.2f}\")"
   ]
  },
  {
   "cell_type": "code",
   "execution_count": 20,
   "metadata": {},
   "outputs": [
    {
     "name": "stdout",
     "output_type": "stream",
     "text": [
      "SF: 0.91 ± 0.35\n",
      "syst_unc: 0.38\n",
      "stat_unc: 0.04\n",
      "sj_pt_unc: 0.02\n",
      "sj_matching_unc: 0.03\n",
      "Combined: 0.38\n"
     ]
    }
   ],
   "source": [
    "vvsf, uncs = postprocessing.get_lpsf(bb_cut_events, VV=False)\n",
    "tot_rel_unc = np.linalg.norm([val for val in uncs.values()])\n",
    "tot_unc = vvsf * tot_rel_unc\n",
    "\n",
    "print(f\"SF: {vvsf:.2f} ± {tot_unc:.2f}\")\n",
    "for key, val in uncs.items():\n",
    "    print(f\"{key}: {val:.2f}\")\n",
    "print(f\"Combined: {tot_rel_unc:.2f}\")"
   ]
  }
 ],
 "metadata": {
  "kernelspec": {
   "display_name": "python310",
   "language": "python",
   "name": "python3"
  },
  "language_info": {
   "codemirror_mode": {
    "name": "ipython",
    "version": 3
   },
   "file_extension": ".py",
   "mimetype": "text/x-python",
   "name": "python",
   "nbconvert_exporter": "python",
   "pygments_lexer": "ipython3",
   "version": "3.10.8"
  },
  "orig_nbformat": 4,
  "vscode": {
   "interpreter": {
    "hash": "15adc7883e707560d0d9727709639b8fe3f3cff1f197d2d643742923ff23a29c"
   }
  }
 },
 "nbformat": 4,
 "nbformat_minor": 2
}
