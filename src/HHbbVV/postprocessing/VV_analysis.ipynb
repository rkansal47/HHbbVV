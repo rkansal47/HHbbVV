{
 "cells": [
  {
   "attachments": {},
   "cell_type": "markdown",
   "metadata": {},
   "source": [
    "# Investigating LP Reweighting"
   ]
  },
  {
   "cell_type": "code",
   "execution_count": 5,
   "metadata": {},
   "outputs": [],
   "source": [
    "import utils\n",
    "import plotting\n",
    "import postprocessing\n",
    "import numpy as np\n",
    "import warnings\n",
    "import pandas as pd\n",
    "from pandas.errors import SettingWithCopyWarning\n",
    "from hh_vars import nonres_samples, samples, nonres_sig_keys, data_key\n",
    "\n",
    "# ignore these because they don't seem to apply\n",
    "warnings.simplefilter(action=\"ignore\", category=SettingWithCopyWarning)\n",
    "\n",
    "from PyPDF2 import PdfFileMerger\n",
    "\n",
    "from copy import deepcopy\n",
    "\n",
    "import matplotlib.pyplot as plt\n",
    "import mplhep as hep\n",
    "import matplotlib.ticker as mticker\n",
    "\n",
    "plt.style.use(hep.style.CMS)\n",
    "hep.style.use(\"CMS\")\n",
    "formatter = mticker.ScalarFormatter(useMathText=True)\n",
    "formatter.set_powerlimits((-3, 3))\n",
    "plt.rcParams.update({\"font.size\": 16})"
   ]
  },
  {
   "cell_type": "code",
   "execution_count": 4,
   "metadata": {},
   "outputs": [],
   "source": [
    "%load_ext autoreload\n",
    "%autoreload 2"
   ]
  },
  {
   "cell_type": "code",
   "execution_count": 6,
   "metadata": {},
   "outputs": [
    {
     "name": "stdout",
     "output_type": "stream",
     "text": [
      "Loaded GluGluToHHTobbVV_node_cHHH1                       : 236504 entries\n",
      "Pre-selection GluGluToHHTobbVV yield: 5.12\n"
     ]
    }
   ],
   "source": [
    "MAIN_DIR = \"../../../\"\n",
    "signal_samples_dir = f\"{MAIN_DIR}/../data/skimmer/Feb3\"\n",
    "year = \"2017\"\n",
    "\n",
    "# Both Jet's Msds > 50\n",
    "filters = [\n",
    "    [\n",
    "        (\"('ak8FatJetMsd', '0')\", \">=\", 50),\n",
    "        (\"('ak8FatJetMsd', '1')\", \">=\", 50),\n",
    "    ],\n",
    "]\n",
    "\n",
    "sig_key = nonres_sig_keys[0]\n",
    "events_dict = utils.load_samples(\n",
    "    signal_samples_dir, {sig_key: nonres_samples[sig_key]}, year, filters\n",
    ")\n",
    "tot_weight = np.sum(events_dict[sig_key][\"weight\"]).values[0]\n",
    "print(f\"Pre-selection {nonres_samples[sig_key]} yield: {tot_weight:.2f}\")\n",
    "\n",
    "cutflow = pd.DataFrame(index=[sig_key])"
   ]
  },
  {
   "cell_type": "code",
   "execution_count": 7,
   "metadata": {},
   "outputs": [],
   "source": [
    "postprocessing.apply_weights(events_dict, year, cutflow)\n",
    "bb_masks = postprocessing.bb_VV_assignment(events_dict)[sig_key]\n",
    "events = events_dict[sig_key]"
   ]
  },
  {
   "cell_type": "code",
   "execution_count": 10,
   "metadata": {},
   "outputs": [],
   "source": [
    "events_dict[sig_key] = postprocessing.postprocess_lpsfs(events)\n",
    "events = events_dict[sig_key]\n",
    "events[\"finalWeight_preLP\"] = events[\"finalWeight\"]\n",
    "events[\"finalWeight\"] = events[\"finalWeight\"] * events[\"VV_lp_sf_nom\"][0]"
   ]
  },
  {
   "cell_type": "code",
   "execution_count": 11,
   "metadata": {},
   "outputs": [],
   "source": [
    "events[\"finalWeight_preLP\"] = events[\"finalWeight\"]\n",
    "events[\"finalWeight\"] = events[\"finalWeight\"] * events[\"VV_lp_sf_nom\"][0]"
   ]
  },
  {
   "cell_type": "code",
   "execution_count": 36,
   "metadata": {},
   "outputs": [],
   "source": [
    "VV_cut_events = events[utils.get_feat(events, \"VVFatJetParTMD_THWW4q\", bb_masks) > 0.975]\n",
    "VV_pt_cut_events = events[\n",
    "    (utils.get_feat(events, \"VVFatJetParTMD_THWW4q\", bb_masks) > 0.975)\n",
    "    * (utils.get_feat(events, \"VVFatJetPt\", bb_masks) > 500)\n",
    "]\n",
    "bb_cut_events = events[\n",
    "    utils.get_feat(events, \"bbFatJetParticleNetMD_Txbb\", bb_masks)\n",
    "    > postprocessing.txbb_wps[year][\"HP\"]\n",
    "]"
   ]
  },
  {
   "cell_type": "code",
   "execution_count": 35,
   "metadata": {},
   "outputs": [
    {
     "name": "stdout",
     "output_type": "stream",
     "text": [
      "pT extrapolation unc. for > 1TeV jets: 0.23\n"
     ]
    }
   ],
   "source": [
    "ptcut = events[utils.get_feat(events, \"VVFatJetPt\", bb_masks) > 1000]\n",
    "ptunc = np.sum(ptcut[\"VV_lp_sf_num_sjpt_gt350\"]) / np.sum(np.sum(ptcut[\"ak8FatJetHVV\"])) * 0.21\n",
    "print(f\"pT extrapolation unc. for > 1TeV jets: {ptunc.values[0]:.2f}\")"
   ]
  },
  {
   "cell_type": "code",
   "execution_count": 14,
   "metadata": {},
   "outputs": [
    {
     "name": "stdout",
     "output_type": "stream",
     "text": [
      "SF: 0.77 ± 0.14\n",
      "syst_unc: 0.14\n",
      "stat_unc: 0.04\n",
      "sj_pt_unc: 0.00\n",
      "sj_matching_unc: 0.12\n",
      "Combined: 0.19\n"
     ]
    }
   ],
   "source": [
    "vvsf, unc, uncs = postprocessing.get_lpsf(VV_cut_events)\n",
    "tot_rel_unc = np.linalg.norm([val for val in uncs.values()])\n",
    "# tot_unc = vvsf * tot_rel_unc\n",
    "\n",
    "print(f\"SF: {vvsf:.2f} ± {unc:.2f}\")\n",
    "for key, val in uncs.items():\n",
    "    print(f\"{key}: {val:.2f}\")\n",
    "print(f\"Combined: {tot_rel_unc:.2f}\")"
   ]
  },
  {
   "cell_type": "code",
   "execution_count": 20,
   "metadata": {},
   "outputs": [
    {
     "name": "stdout",
     "output_type": "stream",
     "text": [
      "SF: 0.73 ± 0.18\n",
      "syst_unc: 0.22\n",
      "stat_unc: 0.07\n",
      "sj_pt_unc: 0.02\n",
      "sj_matching_unc: 0.10\n",
      "Combined: 0.25\n"
     ]
    }
   ],
   "source": [
    "vvsf, unc, uncs = postprocessing.get_lpsf(VV_pt_cut_events)\n",
    "tot_rel_unc = np.linalg.norm([val for val in uncs.values()])\n",
    "# tot_unc = vvsf * tot_rel_unc\n",
    "\n",
    "print(f\"SF: {vvsf:.2f} ± {unc:.2f}\")\n",
    "for key, val in uncs.items():\n",
    "    print(f\"{key}: {val:.2f}\")\n",
    "print(f\"Combined: {tot_rel_unc:.2f}\")"
   ]
  },
  {
   "cell_type": "code",
   "execution_count": 37,
   "metadata": {},
   "outputs": [
    {
     "name": "stdout",
     "output_type": "stream",
     "text": [
      "SF: 0.87 ± 0.17\n",
      "syst_unc: 0.19\n",
      "stat_unc: 0.05\n",
      "sj_pt_unc: 0.02\n",
      "sj_matching_unc: 0.02\n",
      "Combined: 0.20\n"
     ]
    }
   ],
   "source": [
    "vvsf, unc, uncs = postprocessing.get_lpsf(bb_cut_events, VV=False)\n",
    "tot_rel_unc = np.linalg.norm([val for val in uncs.values()])\n",
    "# tot_unc = vvsf * tot_rel_unc\n",
    "\n",
    "print(f\"SF: {vvsf:.2f} ± {unc:.2f}\")\n",
    "for key, val in uncs.items():\n",
    "    print(f\"{key}: {val:.2f}\")\n",
    "print(f\"Combined: {tot_rel_unc:.2f}\")"
   ]
  },
  {
   "cell_type": "code",
   "execution_count": 46,
   "metadata": {},
   "outputs": [],
   "source": [
    "pt_bins = np.array([450, 500, 600, 100000])\n",
    "bbsfs = []\n",
    "\n",
    "for wp in [\"HP\", \"MP\", \"LP\"]:\n",
    "    tarr = []\n",
    "    for i, (low, high) in enumerate(zip(pt_bins[:-1], pt_bins[1:])):\n",
    "        cut_events = events[\n",
    "            (utils.get_feat(events, \"bbFatJetPt\", bb_masks) >= low)\n",
    "            * (utils.get_feat(events, \"bbFatJetPt\", bb_masks) < high)\n",
    "        ]\n",
    "\n",
    "        cut_bb_masks = bb_masks[\n",
    "            (utils.get_feat(events, \"bbFatJetPt\", bb_masks) >= low)\n",
    "            * (utils.get_feat(events, \"bbFatJetPt\", bb_masks) < high)\n",
    "        ]\n",
    "\n",
    "        for key in [\"lp_sf_nom\", \"lp_sf_toys\", \"lp_sf_sys_down\", \"lp_sf_sys_up\"]:\n",
    "            # normalise\n",
    "            cut_events[f\"bb_{key}\"] = cut_events[f\"bb_{key}\"] / np.mean(\n",
    "                cut_events[f\"bb_{key}\"], axis=0\n",
    "            )\n",
    "\n",
    "        cut_events = cut_events[\n",
    "            (\n",
    "                utils.get_feat(cut_events, \"bbFatJetParticleNetMD_Txbb\", cut_bb_masks)\n",
    "                > postprocessing.txbb_wps[year][wp]\n",
    "            )\n",
    "        ]\n",
    "\n",
    "        sf, unc, uncs = postprocessing.get_lpsf(cut_events, VV=False)\n",
    "\n",
    "        tarr.append(f\"{sf:.2f} ± {unc:.2f}\")\n",
    "\n",
    "    bbsfs.append(tarr)"
   ]
  },
  {
   "cell_type": "code",
   "execution_count": 47,
   "metadata": {},
   "outputs": [
    {
     "data": {
      "text/html": [
       "<div>\n",
       "<style scoped>\n",
       "    .dataframe tbody tr th:only-of-type {\n",
       "        vertical-align: middle;\n",
       "    }\n",
       "\n",
       "    .dataframe tbody tr th {\n",
       "        vertical-align: top;\n",
       "    }\n",
       "\n",
       "    .dataframe thead th {\n",
       "        text-align: right;\n",
       "    }\n",
       "</style>\n",
       "<table border=\"1\" class=\"dataframe\">\n",
       "  <thead>\n",
       "    <tr style=\"text-align: right;\">\n",
       "      <th></th>\n",
       "      <th>0</th>\n",
       "      <th>1</th>\n",
       "      <th>2</th>\n",
       "    </tr>\n",
       "  </thead>\n",
       "  <tbody>\n",
       "    <tr>\n",
       "      <th>0</th>\n",
       "      <td>0.82 ± 0.04</td>\n",
       "      <td>0.86 ± 0.13</td>\n",
       "      <td>0.84 ± 0.28</td>\n",
       "    </tr>\n",
       "    <tr>\n",
       "      <th>1</th>\n",
       "      <td>0.85 ± 0.05</td>\n",
       "      <td>0.88 ± 0.15</td>\n",
       "      <td>0.88 ± 0.29</td>\n",
       "    </tr>\n",
       "    <tr>\n",
       "      <th>2</th>\n",
       "      <td>0.91 ± 0.07</td>\n",
       "      <td>0.93 ± 0.15</td>\n",
       "      <td>0.89 ± 0.29</td>\n",
       "    </tr>\n",
       "  </tbody>\n",
       "</table>\n",
       "</div>"
      ],
      "text/plain": [
       "             0            1            2\n",
       "0  0.82 ± 0.04  0.86 ± 0.13  0.84 ± 0.28\n",
       "1  0.85 ± 0.05  0.88 ± 0.15  0.88 ± 0.29\n",
       "2  0.91 ± 0.07  0.93 ± 0.15  0.89 ± 0.29"
      ]
     },
     "execution_count": 47,
     "metadata": {},
     "output_type": "execute_result"
    }
   ],
   "source": [
    "pd.DataFrame(bbsfs)"
   ]
  }
 ],
 "metadata": {
  "kernelspec": {
   "display_name": "python310",
   "language": "python",
   "name": "python3"
  },
  "language_info": {
   "codemirror_mode": {
    "name": "ipython",
    "version": 3
   },
   "file_extension": ".py",
   "mimetype": "text/x-python",
   "name": "python",
   "nbconvert_exporter": "python",
   "pygments_lexer": "ipython3",
   "version": "3.10.8"
  },
  "orig_nbformat": 4,
  "vscode": {
   "interpreter": {
    "hash": "15adc7883e707560d0d9727709639b8fe3f3cff1f197d2d643742923ff23a29c"
   }
  }
 },
 "nbformat": 4,
 "nbformat_minor": 2
}
