{
 "cells": [
  {
   "cell_type": "code",
   "execution_count": null,
   "metadata": {},
   "outputs": [],
   "source": [
    "from __future__ import annotations\n",
    "\n",
    "import matplotlib.pyplot as plt\n",
    "import matplotlib.ticker as mticker\n",
    "import mplhep as hep\n",
    "import numpy as np\n",
    "\n",
    "plt.style.use(hep.style.CMS)\n",
    "hep.style.use(\"CMS\")\n",
    "formatter = mticker.ScalarFormatter(useMathText=True)\n",
    "formatter.set_powerlimits((-3, 3))\n",
    "plt.rcParams.update({\"font.size\": 24})"
   ]
  },
  {
   "cell_type": "markdown",
   "metadata": {},
   "source": [
    "Smearing using TWiki formula"
   ]
  },
  {
   "cell_type": "code",
   "execution_count": null,
   "metadata": {},
   "outputs": [],
   "source": [
    "rng = np.random.default_rng()\n",
    "N = 100_000\n",
    "x = rng.normal(125, 11.4, N)\n",
    "\n",
    "jmr = 1.03\n",
    "jmr_up = 1.07\n",
    "\n",
    "smearing = np.random.normal(scale=0.09, size=N)\n",
    "# gaussian with\n",
    "jmr_nom = (smearing * max(np.sqrt(jmr**2 - 1), 0)) + 1\n",
    "jmr_up = (smearing * max(np.sqrt(jmr_up**2 - 1), 0)) + 1\n",
    "\n",
    "plt.hist(x, bins=np.linspace(100, 150, 20), histtype=\"step\", label=r\"$N(\\mu=0, \\sigma=1)$\")\n",
    "plt.hist(x * jmr_nom, bins=np.linspace(100, 150, 20), histtype=\"step\", label=r\"1.03 smearing\")\n",
    "plt.hist(x * jmr_up, bins=np.linspace(100, 150, 20), histtype=\"step\", label=r\"1.07 smearing\")\n",
    "plt.legend()\n",
    "plt.show()"
   ]
  },
  {
   "cell_type": "markdown",
   "metadata": {},
   "source": [
    "Smearing using current Gaussian method"
   ]
  },
  {
   "cell_type": "code",
   "execution_count": null,
   "metadata": {},
   "outputs": [],
   "source": [
    "rng = np.random.default_rng()\n",
    "N = 100_000\n",
    "x = rng.normal(125, 11.4, N)\n",
    "\n",
    "jmr = 1.03\n",
    "jmr_up = 1.07\n",
    "\n",
    "smearing = np.random.normal(size=N)\n",
    "# gaussian with\n",
    "jmr_nom = (smearing * max(jmr - 1, 0)) + 1\n",
    "jmr_up = (smearing * max(jmr_up - 1, 0)) + 1\n",
    "\n",
    "plt.hist(x, bins=np.linspace(100, 150, 20), histtype=\"step\", label=r\"$N(\\mu=0, \\sigma=1)$\")\n",
    "plt.hist(x * jmr_nom, bins=np.linspace(100, 150, 20), histtype=\"step\", label=r\"1.03 smearing\")\n",
    "plt.hist(x * jmr_up, bins=np.linspace(100, 150, 20), histtype=\"step\", label=r\"1.07 smearing\")\n",
    "plt.legend()\n",
    "plt.show()"
   ]
  }
 ],
 "metadata": {
  "kernelspec": {
   "display_name": "python310",
   "language": "python",
   "name": "python3"
  },
  "language_info": {
   "codemirror_mode": {
    "name": "ipython",
    "version": 3
   },
   "file_extension": ".py",
   "mimetype": "text/x-python",
   "name": "python",
   "nbconvert_exporter": "python",
   "pygments_lexer": "ipython3",
   "version": "3.10.11"
  }
 },
 "nbformat": 4,
 "nbformat_minor": 2
}
