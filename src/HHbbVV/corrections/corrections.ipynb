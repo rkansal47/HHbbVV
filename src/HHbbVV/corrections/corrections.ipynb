{
 "cells": [
  {
   "cell_type": "code",
   "execution_count": 1,
   "metadata": {},
   "outputs": [],
   "source": [
    "import pickle"
   ]
  },
  {
   "cell_type": "code",
   "execution_count": 2,
   "metadata": {},
   "outputs": [
    {
     "name": "stderr",
     "output_type": "stream",
     "text": [
      "/var/folders/fh/cwyrvktn5bz76x4cpy_lbgnh0000gn/T/ipykernel_40544/1077085208.py:2: DeprecationWarning: Please use `interp1d` from the `scipy.interpolate` namespace, the `scipy.interpolate.interpolate` namespace is deprecated.\n",
      "  jec_compiled = pickle.load(f)\n"
     ]
    }
   ],
   "source": [
    "with open(\"jec_compiled.pkl\", \"rb\") as f:\n",
    "    jec_compiled = pickle.load(f)"
   ]
  },
  {
   "cell_type": "code",
   "execution_count": 11,
   "metadata": {},
   "outputs": [
    {
     "data": {
      "text/plain": [
       "{'_jec': campaign   : Summer19UL16\n",
       " data era   : V7\n",
       " data type  : MC\n",
       " jet type   : AK4PFchs\n",
       " levels     : L1FastJet,L2Relative\n",
       " signature  : (JetEta,Rho,JetPt,JetA),\n",
       " '_junc': campaign   : Summer19UL16\n",
       " data era   : V7\n",
       " data type  : MC\n",
       " jet type   : AK4PFchs\n",
       " levels     : AbsoluteStat,AbsoluteScale,AbsoluteFlavMap,AbsoluteMPFBias,Fragmentation,SinglePionECAL,SinglePionHCAL,FlavorQCD,TimePtEta,RelativeJEREC1,RelativeJEREC2,RelativeJERHF,RelativePtBB,RelativePtEC1,RelativePtEC2,RelativePtHF,RelativeBal,RelativeSample,RelativeFSR,RelativeStatFSR,RelativeStatEC,RelativeStatHF,PileUpDataMC,PileUpPtRef,PileUpPtBB,PileUpPtEC1,PileUpPtEC2,PileUpPtHF,PileUpMuZero,PileUpEnvelope,SubTotalPileUp,SubTotalRelative,SubTotalPt,SubTotalScale,SubTotalAbsolute,SubTotalMC,Total,TotalNoFlavor,TotalNoTime,TotalNoFlavorNoTime,FlavorZJet,FlavorPhotonJet,FlavorPureGluon,FlavorPureQuark,FlavorPureCharm,FlavorPureBottom,TimeRunBCD,TimeRunEF,TimeRunGH,CorrelationGroupMPFInSitu,CorrelationGroupIntercalibration,CorrelationGroupbJES,CorrelationGroupFlavor,CorrelationGroupUncorrelated,jes\n",
       " signature  : (JetEta,JetPt),\n",
       " '_jer': campaign   : Summer20UL16\n",
       " data era   : JRV3\n",
       " data type  : MC\n",
       " jet type   : AK4PFchs\n",
       " levels     : PtResolution\n",
       " signature  : (JetEta,Rho,JetPt),\n",
       " '_jersf': campaign   : Summer20UL16\n",
       " data era   : JRV3\n",
       " data type  : MC\n",
       " jet type   : AK4PFchs\n",
       " levels     : SF\n",
       " signature  : (JetEta)}"
      ]
     },
     "execution_count": 11,
     "metadata": {},
     "output_type": "execute_result"
    }
   ],
   "source": [
    "jec_compiled[\"jet_factory\"][\"2016postVFPmc\"].jec_stack.__dict__"
   ]
  },
  {
   "cell_type": "code",
   "execution_count": null,
   "metadata": {},
   "outputs": [],
   "source": [
    "jec_compiled[\"fatjet_factory\"][\"2016preVFPmc\"].jec_stack.__dict__"
   ]
  },
  {
   "cell_type": "code",
   "execution_count": null,
   "metadata": {},
   "outputs": [],
   "source": [
    "pog_correction_path = \"/cvmfs/cms.cern.ch/rsync/cms-nanoAOD/jsonpog-integration/\"\n",
    "pog_jsons = {\n",
    "    \"muon\": [\"MUO\", \"muon_Z.json.gz\"],\n",
    "    \"electron\": [\"EGM\", \"electron.json.gz\"],\n",
    "    \"pileup\": [\"LUM\", \"puWeights.json.gz\"],\n",
    "    \"jec\": [\"JME\", \"fatJet_jerc.json.gz\"],\n",
    "}\n",
    "\n",
    "\n",
    "def get_jec_key(year: str):\n",
    "    thekey = f\"{year}mc\"\n",
    "    if year == \"2016\":\n",
    "        thekey = \"2016postVFPmc\"\n",
    "    elif year == \"2016APV\":\n",
    "        thekey = \"2016preVFPmc\"\n",
    "    return thekey\n",
    "\n",
    "\n",
    "def get_vfp_year(year: str) -> str:\n",
    "    if year == \"2016\":\n",
    "        year = \"2016postVFP\"\n",
    "    elif year == \"2016APV\":\n",
    "        year = \"2016preVFP\"\n",
    "\n",
    "    return year\n",
    "\n",
    "\n",
    "def get_UL_year(year: str) -> str:\n",
    "    return f\"{get_vfp_year(year)}_UL\"\n",
    "\n",
    "\n",
    "def get_pog_json(obj: str, year: str) -> str:\n",
    "    try:\n",
    "        pog_json = pog_jsons[obj]\n",
    "    except:\n",
    "        print(f\"No json for {obj}\")\n",
    "\n",
    "    year = get_UL_year(year)\n",
    "    return f\"{pog_correction_path}/POG/{pog_json[0]}/{year}/{pog_json[1]}\""
   ]
  },
  {
   "cell_type": "code",
   "execution_count": null,
   "metadata": {},
   "outputs": [],
   "source": [
    "import json, gzip\n",
    "\n",
    "with gzip.open(get_pog_json(\"jec\", \"2017\"), \"r\") as fin:\n",
    "    jec = json.loads(fin.read().decode(\"utf-8\"))\n",
    "\n",
    "# for corr in jec[\"corrections\"]:\n",
    "#     print(corr[\"name\"])"
   ]
  },
  {
   "cell_type": "code",
   "execution_count": null,
   "metadata": {},
   "outputs": [],
   "source": []
  },
  {
   "cell_type": "code",
   "execution_count": null,
   "metadata": {},
   "outputs": [],
   "source": []
  }
 ],
 "metadata": {
  "kernelspec": {
   "display_name": "python39",
   "language": "python",
   "name": "python3"
  },
  "language_info": {
   "codemirror_mode": {
    "name": "ipython",
    "version": 3
   },
   "file_extension": ".py",
   "mimetype": "text/x-python",
   "name": "python",
   "nbconvert_exporter": "python",
   "pygments_lexer": "ipython3",
   "version": "3.10.8"
  },
  "orig_nbformat": 4
 },
 "nbformat": 4,
 "nbformat_minor": 2
}
