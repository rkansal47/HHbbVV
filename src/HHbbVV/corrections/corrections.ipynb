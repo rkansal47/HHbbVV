{
 "cells": [
  {
   "cell_type": "code",
   "execution_count": null,
   "metadata": {},
   "outputs": [],
   "source": [
    "import pickle"
   ]
  },
  {
   "cell_type": "code",
   "execution_count": null,
   "metadata": {},
   "outputs": [],
   "source": [
    "with open(\"jec_compiled.pkl\", \"rb\") as f:\n",
    "    jec_compiled = pickle.load(f)"
   ]
  },
  {
   "cell_type": "code",
   "execution_count": null,
   "metadata": {},
   "outputs": [],
   "source": [
    "jec_compiled[\"jet_factory\"][\"2016postVFPmc\"].jec_stack.__dict__"
   ]
  },
  {
   "cell_type": "code",
   "execution_count": null,
   "metadata": {},
   "outputs": [],
   "source": [
    "jec_compiled[\"fatjet_factory\"][\"2016preVFPmc\"].jec_stack.__dict__"
   ]
  },
  {
   "cell_type": "code",
   "execution_count": null,
   "metadata": {},
   "outputs": [],
   "source": [
    "pog_correction_path = \"/cvmfs/cms.cern.ch/rsync/cms-nanoAOD/jsonpog-integration/\"\n",
    "pog_jsons = {\n",
    "    \"muon\": [\"MUO\", \"muon_Z.json.gz\"],\n",
    "    \"electron\": [\"EGM\", \"electron.json.gz\"],\n",
    "    \"pileup\": [\"LUM\", \"puWeights.json.gz\"],\n",
    "    \"jec\": [\"JME\", \"fatJet_jerc.json.gz\"],\n",
    "}\n",
    "\n",
    "\n",
    "def get_jec_key(year: str):\n",
    "    thekey = f\"{year}mc\"\n",
    "    if year == \"2016\":\n",
    "        thekey = \"2016postVFPmc\"\n",
    "    elif year == \"2016APV\":\n",
    "        thekey = \"2016preVFPmc\"\n",
    "    return thekey\n",
    "\n",
    "\n",
    "def get_vfp_year(year: str) -> str:\n",
    "    if year == \"2016\":\n",
    "        year = \"2016postVFP\"\n",
    "    elif year == \"2016APV\":\n",
    "        year = \"2016preVFP\"\n",
    "\n",
    "    return year\n",
    "\n",
    "\n",
    "def get_UL_year(year: str) -> str:\n",
    "    return f\"{get_vfp_year(year)}_UL\"\n",
    "\n",
    "\n",
    "def get_pog_json(obj: str, year: str) -> str:\n",
    "    try:\n",
    "        pog_json = pog_jsons[obj]\n",
    "    except:\n",
    "        print(f\"No json for {obj}\")\n",
    "\n",
    "    year = get_UL_year(year)\n",
    "    return f\"{pog_correction_path}/POG/{pog_json[0]}/{year}/{pog_json[1]}\""
   ]
  },
  {
   "cell_type": "code",
   "execution_count": null,
   "metadata": {},
   "outputs": [],
   "source": [
    "import json, gzip\n",
    "\n",
    "with gzip.open(get_pog_json(\"jec\", \"2017\"), \"r\") as fin:\n",
    "    jec = json.loads(fin.read().decode(\"utf-8\"))\n",
    "\n",
    "# for corr in jec[\"corrections\"]:\n",
    "#     print(corr[\"name\"])"
   ]
  },
  {
   "cell_type": "code",
   "execution_count": null,
   "metadata": {},
   "outputs": [],
   "source": []
  },
  {
   "cell_type": "code",
   "execution_count": null,
   "metadata": {},
   "outputs": [],
   "source": []
  }
 ],
 "metadata": {
  "kernelspec": {
   "display_name": "python39",
   "language": "python",
   "name": "python3"
  },
  "language_info": {
   "codemirror_mode": {
    "name": "ipython",
    "version": 3
   },
   "file_extension": ".py",
   "mimetype": "text/x-python",
   "name": "python",
   "nbconvert_exporter": "python",
   "pygments_lexer": "ipython3",
   "version": "3.10.11"
  },
  "orig_nbformat": 4
 },
 "nbformat": 4,
 "nbformat_minor": 2
}
