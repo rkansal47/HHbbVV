{
 "cells": [
  {
   "cell_type": "code",
   "execution_count": null,
   "metadata": {},
   "outputs": [],
   "source": [
    "import awkward as ak\n",
    "import numpy as np\n",
    "import hist\n",
    "from hist import Hist\n",
    "import matplotlib.pyplot as plt\n",
    "import mplhep as hep\n",
    "import pickle\n",
    "import math\n",
    "import os\n",
    "from hist.intervals import clopper_pearson_interval\n",
    "import utils\n",
    "\n",
    "plt.rcParams.update({\"font.size\": 16})\n",
    "plt.style.use(hep.style.CMS)"
   ]
  },
  {
   "cell_type": "code",
   "execution_count": null,
   "metadata": {},
   "outputs": [],
   "source": [
    "%load_ext autoreload\n",
    "%autoreload 2"
   ]
  },
  {
   "cell_type": "code",
   "execution_count": null,
   "metadata": {},
   "outputs": [],
   "source": [
    "plot_dir = \"../../../plots/TriggerSFs/24Feb15\"\n",
    "_ = os.system(f\"mkdir -p {plot_dir}\")"
   ]
  },
  {
   "cell_type": "code",
   "execution_count": null,
   "metadata": {},
   "outputs": [],
   "source": [
    "combined = {}\n",
    "years = [\"2016APV\", \"2016\", \"2017\", \"2018\"]\n",
    "\n",
    "for year in years:\n",
    "    with open(f\"trigEffs/{year}_combined.pkl\", \"rb\") as filehandler:\n",
    "        combined[year] = pickle.load(filehandler)"
   ]
  },
  {
   "cell_type": "markdown",
   "metadata": {},
   "source": [
    "Merge highest two pT bins and re-save (comment from Higgs conveners)"
   ]
  },
  {
   "cell_type": "code",
   "execution_count": null,
   "metadata": {},
   "outputs": [],
   "source": [
    "# for year in years:\n",
    "#     for h in [\"den\", \"num\"]:\n",
    "#         combined[year][h] = utils.rebin_hist(\n",
    "#             combined[year][h], \"jet1pt\", [250, 275, 300, 325, 350, 375, 400, 450, 500, 600, 1000]\n",
    "#         )\n",
    "#         combined[year][h] = utils.rebin_hist(\n",
    "#             combined[year][h], \"jet1msd\", list(range(0, 241, 20)) + [300]\n",
    "#         )\n",
    "\n",
    "#     with open(f\"trigEffs/{year}_combined.pkl\", \"wb\") as filehandler:\n",
    "#         pickle.dump(combined[year], filehandler)"
   ]
  },
  {
   "cell_type": "code",
   "execution_count": null,
   "metadata": {},
   "outputs": [],
   "source": [
    "effs_txbb = {\n",
    "    year: combined[year][\"num\"][:, sum, :, :] / combined[year][\"den\"][:, sum, :, :]\n",
    "    for year in years\n",
    "}\n",
    "effs_th4q = {\n",
    "    year: combined[year][\"num\"][sum, :, :, :] / combined[year][\"den\"][sum, :, :, :]\n",
    "    for year in years\n",
    "}"
   ]
  },
  {
   "cell_type": "code",
   "execution_count": null,
   "metadata": {},
   "outputs": [],
   "source": [
    "errors_txbb = {}\n",
    "intervals_txbb = {}\n",
    "errors_th4q = {}\n",
    "intervals_th4q = {}\n",
    "\n",
    "for year in years:\n",
    "    intervals = clopper_pearson_interval(\n",
    "        combined[year][\"num\"][:, sum, :, :].view(flow=False),\n",
    "        combined[year][\"den\"][:, sum, :, :].view(flow=False),\n",
    "    )\n",
    "    errors_txbb[year] = (intervals[1] - intervals[0]) / 2\n",
    "    intervals_txbb[year] = intervals\n",
    "\n",
    "    intervals = clopper_pearson_interval(\n",
    "        combined[year][\"num\"][sum, :, :, :].view(flow=False),\n",
    "        combined[year][\"den\"][sum, :, :, :].view(flow=False),\n",
    "    )\n",
    "    errors_th4q[year] = (intervals[1] - intervals[0]) / 2\n",
    "    intervals_th4q[year] = intervals"
   ]
  },
  {
   "cell_type": "markdown",
   "metadata": {},
   "source": [
    "## Plotting"
   ]
  },
  {
   "cell_type": "code",
   "execution_count": null,
   "metadata": {},
   "outputs": [],
   "source": [
    "def mesh2d(\n",
    "    ax,\n",
    "    xbins,\n",
    "    ybins,\n",
    "    vals,\n",
    "    vmax,\n",
    "    title,\n",
    "    year,\n",
    "    xlabel=r\"Jet 1 MassSD (GeV)\",\n",
    "    ylabel=r\"Jet 1 $p_T$ (GeV)\",\n",
    "    fontsize=28,\n",
    "):\n",
    "    mesh = ax.pcolormesh(xbins, ybins, vals, cmap=\"turbo\", vmin=0, vmax=vmax)\n",
    "    for i in range(len(ybins) - 1):\n",
    "        for j in range(len(xbins) - 1):\n",
    "            if not math.isnan(vals[i, j]):\n",
    "                ax.text(\n",
    "                    (xbins[j] + xbins[j + 1]) / 2,\n",
    "                    (ybins[i] + ybins[i + 1]) / 2,\n",
    "                    vals[i, j].round(2),\n",
    "                    color=\"black\" if 0.1 * vmax < vals[i, j] < 0.9 * vmax else \"white\",\n",
    "                    ha=\"center\",\n",
    "                    va=\"center\",\n",
    "                    fontsize=fontsize,\n",
    "                )\n",
    "\n",
    "    ax.set_title(title, x=0.35, y=1.005)\n",
    "    ax.set_xlabel(xlabel)\n",
    "    ax.set_ylabel(ylabel)\n",
    "    hep.cms.label(ax=ax, data=True, year=year, lumi=utils.LUMI[year] / 1e3)\n",
    "\n",
    "    return mesh\n",
    "\n",
    "\n",
    "def plot_all_wrapper(tbins, xbins, ybins, w, vmax, year, name, bins=\"txbb\"):\n",
    "    plt.rcParams.update({\"font.size\": 36})\n",
    "    fig, axs = plt.subplots(2, 2, figsize=(18 * 2, 17 * 2), constrained_layout=True)\n",
    "\n",
    "    for k in range(4):\n",
    "        row = k // 2\n",
    "        col = k % 2\n",
    "        ax = axs[row][col]\n",
    "\n",
    "        match bins:\n",
    "            case \"txbb\":\n",
    "                title = rf\"{tbins[k]:.2f} < $T_{{Xbb}}$ < {tbins[k + 1]:.2f}\"\n",
    "            case \"pt\":\n",
    "                title = rf\"{tbins[k]:.0f} < Jet 2 $p_T$ < {tbins[k + 1]:.0f} GeV\"\n",
    "\n",
    "        mesh = mesh2d(ax, xbins, ybins, w[k], vmax, title, year, fontsize=28)\n",
    "\n",
    "    for i in range(2):\n",
    "        fig.colorbar(mesh, ax=axs[i].ravel().tolist(), pad=0.01)\n",
    "\n",
    "    plt.savefig(f\"{plot_dir}/{name}.pdf\", bbox_inches=\"tight\")"
   ]
  },
  {
   "cell_type": "markdown",
   "metadata": {},
   "source": [
    "### Plot all tagger bins in the same figure"
   ]
  },
  {
   "cell_type": "markdown",
   "metadata": {},
   "source": [
    "Txbb bins"
   ]
  },
  {
   "cell_type": "code",
   "execution_count": null,
   "metadata": {},
   "outputs": [],
   "source": [
    "# Efficiencies\n",
    "for year in years:\n",
    "    w, jet1txbbbins, jet1ptbins, jet1msdbins = effs_txbb[year].to_numpy()\n",
    "    plot_all_wrapper(jet1txbbbins, jet1msdbins, jet1ptbins, w, 1, year, f\"{year}_txbb_effs\")\n",
    "    # break\n",
    "    plt.close()"
   ]
  },
  {
   "cell_type": "code",
   "execution_count": null,
   "metadata": {},
   "outputs": [],
   "source": [
    "# Errors\n",
    "for year in years:\n",
    "    _, jet1txbbbins, jet1ptbins, jet1msdbins = effs_txbb[year].to_numpy()\n",
    "    w = errors_txbb[year]\n",
    "    plot_all_wrapper(jet1txbbbins, jet1msdbins, jet1ptbins, w, 0.5, year, f\"{year}_txbb_errs\")\n",
    "    # break\n",
    "    plt.close()"
   ]
  },
  {
   "cell_type": "markdown",
   "metadata": {},
   "source": [
    "TH4q bins"
   ]
  },
  {
   "cell_type": "code",
   "execution_count": null,
   "metadata": {},
   "outputs": [],
   "source": [
    "for year in years:\n",
    "    w, jet1th4qbins, jet1ptbins, jet1msdbins = effs_th4q[year].to_numpy()\n",
    "\n",
    "    fig, axs = plt.subplots(2, 2, figsize=(18 * 2, 14 * 2))\n",
    "\n",
    "    for k in range(len(jet1th4qbins) - 1):\n",
    "        row = k // 2\n",
    "        col = k % 2\n",
    "        ax = axs[row][col]\n",
    "\n",
    "        mesh = ax.pcolormesh(jet1msdbins, jet1ptbins, w[k], cmap=\"turbo\", vmin=0, vmax=1)\n",
    "        for i in range(len(jet1ptbins) - 1):\n",
    "            for j in range(len(jet1msdbins) - 1):\n",
    "                if not math.isnan(w[k][i, j]):\n",
    "                    ax.text(\n",
    "                        (jet1msdbins[j] + jet1msdbins[j + 1]) / 2,\n",
    "                        (jet1ptbins[i] + jet1ptbins[i + 1]) / 2,\n",
    "                        w[k][i, j].round(2),\n",
    "                        color=\"black\" if 0.1 < w[k][i, j] < 0.9 else \"white\",\n",
    "                        ha=\"center\",\n",
    "                        va=\"center\",\n",
    "                        fontsize=12,\n",
    "                    )\n",
    "\n",
    "        ax.set_title(\n",
    "            f\"{year}: {jet1th4qbins[k]:.2f} < $T_{{H4q}}$ Score < {jet1th4qbins[k + 1]:.2f}\"\n",
    "        )\n",
    "        ax.set_xlabel(\"Jet 1 MassSD (GeV)\")\n",
    "        ax.set_ylabel(\"Jet 1 $p_T$ (GeV)\")\n",
    "        plt.colorbar(mesh, ax=ax)\n",
    "\n",
    "    plt.savefig(\n",
    "        f\"{plot_dir}/{year}_th4q_effs.pdf\",\n",
    "        bbox_inches=\"tight\",\n",
    "    )\n",
    "    # plt.close()"
   ]
  },
  {
   "cell_type": "code",
   "execution_count": null,
   "metadata": {},
   "outputs": [],
   "source": [
    "fig, axs = plt.subplots(1, 4, figsize=(18 * 4, 14), gridspec_kw={\"wspace\": 0.05})\n",
    "\n",
    "for i, year in enumerate(years):\n",
    "    ax = axs[i]\n",
    "    w, jet1txbbbins, jet1ptbins, jet1msdbins = effs_txbb[year].to_numpy()\n",
    "    overlap = (intervals_txbb[year][0, 3] <= intervals_txbb[year][1, 2]) * (\n",
    "        intervals_txbb[year][1, 3] >= intervals_txbb[year][0, 2]\n",
    "    )\n",
    "\n",
    "    mesh = ax.pcolormesh(jet1msdbins, jet1ptbins, w[3], cmap=\"turbo\", vmin=0, vmax=1)\n",
    "    for i in range(len(jet1ptbins) - 1):\n",
    "        for j in range(len(jet1msdbins) - 1):\n",
    "            if not math.isnan(w[3][i, j]):\n",
    "                if overlap[i, j] == 0:\n",
    "                    ax.text(\n",
    "                        (jet1msdbins[j] + jet1msdbins[j + 1]) / 2,\n",
    "                        (jet1ptbins[i] + jet1ptbins[i + 1]) / 2,\n",
    "                        \"X\",\n",
    "                        color=\"black\" if 0.1 < w[k][i, j] < 0.9 else \"white\",\n",
    "                        ha=\"center\",\n",
    "                        va=\"center\",\n",
    "                        fontsize=12,\n",
    "                    )\n",
    "\n",
    "    ax.set_title(f\"{year}: $T_{{Xbb}}$ Intervals Overlap\")\n",
    "    ax.set_xlabel(\"Jet 1 MassSD (GeV)\")\n",
    "    ax.set_ylabel(\"Jet 1 $p_T$ (GeV)\")\n",
    "    plt.colorbar(mesh, ax=ax)\n",
    "\n",
    "plt.savefig(f\"{plot_dir}/txbb_overlap.pdf\", bbox_inches=\"tight\")"
   ]
  },
  {
   "cell_type": "code",
   "execution_count": null,
   "metadata": {},
   "outputs": [],
   "source": [
    "fig, axs = plt.subplots(1, 4, figsize=(18 * 4, 14), gridspec_kw={\"wspace\": 0.05})\n",
    "\n",
    "for i, year in enumerate(years):\n",
    "    ax = axs[i]\n",
    "    w, jet1th4qbins, jet1ptbins, jet1msdbins = effs_th4q[year].to_numpy()\n",
    "    overlap = (intervals_th4q[year][0, 3] <= intervals_th4q[year][1, 2]) * (\n",
    "        intervals_th4q[year][1, 3] >= intervals_th4q[year][0, 2]\n",
    "    )\n",
    "\n",
    "    mesh = ax.pcolormesh(jet1msdbins, jet1ptbins, w[3], cmap=\"turbo\", vmin=0, vmax=1)\n",
    "    for i in range(len(jet1ptbins) - 1):\n",
    "        for j in range(len(jet1msdbins) - 1):\n",
    "            if not math.isnan(w[3][i, j]):\n",
    "                if overlap[i, j] == 0:\n",
    "                    ax.text(\n",
    "                        (jet1msdbins[j] + jet1msdbins[j + 1]) / 2,\n",
    "                        (jet1ptbins[i] + jet1ptbins[i + 1]) / 2,\n",
    "                        \"X\",\n",
    "                        color=\"black\" if 0.1 < w[k][i, j] < 0.9 else \"white\",\n",
    "                        ha=\"center\",\n",
    "                        va=\"center\",\n",
    "                        fontsize=12,\n",
    "                    )\n",
    "\n",
    "    ax.set_title(f\"{year}: $T_{{H4q}}$ Intervals Overlap\")\n",
    "    ax.set_xlabel(\"Jet 1 MassSD (GeV)\")\n",
    "    ax.set_ylabel(\"Jet 1 $p_T$ (GeV)\")\n",
    "    plt.colorbar(mesh, ax=ax)\n",
    "\n",
    "plt.savefig(f\"{plot_dir}/th4q_overlap.pdf\", bbox_inches=\"tight\")"
   ]
  },
  {
   "cell_type": "markdown",
   "metadata": {},
   "source": [
    "### Plot per Txbb bin"
   ]
  },
  {
   "cell_type": "code",
   "execution_count": null,
   "metadata": {},
   "outputs": [],
   "source": [
    "for year in years:\n",
    "    w, jet1txbbbins, jet1ptbins, jet1msdbins = effs_txbb[year].to_numpy()\n",
    "\n",
    "    for k in range(len(jet1txbbbins) - 1):\n",
    "        fig, ax = plt.subplots(figsize=(18, 14))\n",
    "        mesh = ax.pcolormesh(jet1msdbins, jet1ptbins, w[k], cmap=\"turbo\", vmin=0, vmax=1)\n",
    "        for i in range(len(jet1ptbins) - 1):\n",
    "            for j in range(len(jet1msdbins) - 1):\n",
    "                if not math.isnan(w[k][i, j]):\n",
    "                    ax.text(\n",
    "                        (jet1msdbins[j] + jet1msdbins[j + 1]) / 2,\n",
    "                        (jet1ptbins[i] + jet1ptbins[i + 1]) / 2,\n",
    "                        w[k][i, j].round(2),\n",
    "                        color=\"black\" if 0.1 < w[k][i, j] < 0.9 else \"white\",\n",
    "                        ha=\"center\",\n",
    "                        va=\"center\",\n",
    "                        fontsize=12,\n",
    "                    )\n",
    "\n",
    "        ax.set_title(\n",
    "            f\"{year}: {jet1txbbbins[k]:.2f} < $T_{{Xbb}}$ Score < {jet1txbbbins[k + 1]:.2f}\"\n",
    "        )\n",
    "        ax.set_xlabel(\"Jet 1 MassSD (GeV)\")\n",
    "        ax.set_ylabel(\"Jet 1 $p_T$ (GeV)\")\n",
    "        plt.colorbar(mesh, ax=ax)\n",
    "        plt.savefig(\n",
    "            f\"{plot_dir}/{year}_txbb_{jet1txbbbins[k]:.2f}_{jet1txbbbins[k + 1]:.2f}_effs.pdf\",\n",
    "            bbox_inches=\"tight\",\n",
    "        )\n",
    "        plt.close()"
   ]
  },
  {
   "cell_type": "code",
   "execution_count": null,
   "metadata": {},
   "outputs": [],
   "source": [
    "for year in years:\n",
    "    w, jet1th4qbins, jet1ptbins, jet1msdbins = effs_th4q[year].to_numpy()\n",
    "\n",
    "    for k in range(len(jet1th4qbins) - 1):\n",
    "        fig, ax = plt.subplots(figsize=(18, 14))\n",
    "        mesh = ax.pcolormesh(jet1msdbins, jet1ptbins, w[k], cmap=\"turbo\", vmin=0, vmax=1)\n",
    "        for i in range(len(jet1ptbins) - 1):\n",
    "            for j in range(len(jet1msdbins) - 1):\n",
    "                if not math.isnan(w[k][i, j]):\n",
    "                    ax.text(\n",
    "                        (jet1msdbins[j] + jet1msdbins[j + 1]) / 2,\n",
    "                        (jet1ptbins[i] + jet1ptbins[i + 1]) / 2,\n",
    "                        w[k][i, j].round(2),\n",
    "                        color=\"black\" if 0.1 < w[k][i, j] < 0.9 else \"white\",\n",
    "                        ha=\"center\",\n",
    "                        va=\"center\",\n",
    "                        fontsize=12,\n",
    "                    )\n",
    "\n",
    "        ax.set_title(\n",
    "            f\"{year}: {jet1th4qbins[k]:.2f} < $T_{{H4q}}$ Score < {jet1th4qbins[k + 1]:.2f}\"\n",
    "        )\n",
    "        ax.set_xlabel(\"Jet 1 MassSD (GeV)\")\n",
    "        ax.set_ylabel(\"Jet 1 $p_T$ (GeV)\")\n",
    "        plt.colorbar(mesh, ax=ax)\n",
    "        plt.savefig(\n",
    "            f\"{plot_dir}/{year}_th4q_{jet1th4qbins[k]:.2f}_{jet1th4qbins[k + 1]:.2f}_effs.pdf\",\n",
    "            bbox_inches=\"tight\",\n",
    "        )\n",
    "        plt.close()"
   ]
  },
  {
   "cell_type": "markdown",
   "metadata": {},
   "source": [
    "## 3D efficiencies"
   ]
  },
  {
   "cell_type": "code",
   "execution_count": null,
   "metadata": {},
   "outputs": [],
   "source": [
    "combined = {}\n",
    "years = [\"2018\"]\n",
    "\n",
    "for year in years:\n",
    "    with open(f\"trigEffs/{year}_4d_combined.pkl\", \"rb\") as filehandler:\n",
    "        combined[year] = pickle.load(filehandler)"
   ]
  },
  {
   "cell_type": "code",
   "execution_count": null,
   "metadata": {},
   "outputs": [],
   "source": [
    "rebin_pt = [250, 300, 400, 600, 800, 1000]\n",
    "c_rebinned = {\n",
    "    key: utils.rebin_hist(combined[year][key][:, :, :, sum, :, sum], \"jet2pt\", rebin_pt)\n",
    "    for key in [\"num\", \"den\"]\n",
    "}"
   ]
  },
  {
   "cell_type": "code",
   "execution_count": null,
   "metadata": {},
   "outputs": [],
   "source": [
    "effs = {year: c_rebinned[\"num\"] / c_rebinned[\"den\"] for year in years}\n",
    "\n",
    "errors = {}\n",
    "intervals_pt = {}\n",
    "\n",
    "for year in years:\n",
    "    intervals = clopper_pearson_interval(\n",
    "        c_rebinned[\"num\"].view(flow=False),\n",
    "        c_rebinned[\"den\"].view(flow=False),\n",
    "    )\n",
    "    errors[year] = (intervals[1] - intervals[0]) / 2\n",
    "    intervals_pt[year] = intervals"
   ]
  },
  {
   "cell_type": "code",
   "execution_count": null,
   "metadata": {},
   "outputs": [],
   "source": [
    "w, jet1ptbins, jet1msdbins, jet2ptbins = effs[year][-1, :, :, 1:].to_numpy()\n",
    "plot_all_wrapper(\n",
    "    jet2ptbins, jet1msdbins, jet1ptbins, np.moveaxis(w, 2, 0), 1, year, f\"{year}_jet2pt\", bins=\"pt\"\n",
    ")"
   ]
  },
  {
   "cell_type": "code",
   "execution_count": null,
   "metadata": {},
   "outputs": [],
   "source": [
    "for i in range(4):\n",
    "    w, jet1txbbbins, jet1ptbins, jet1msdbins = effs[year][:, :, :, i + 1].to_numpy()\n",
    "    plot_all_wrapper(\n",
    "        jet1txbbbins, jet1msdbins, jet1ptbins, w, 1, year, f\"{year}_jet2pt_{i}\", bins=\"txbb\"\n",
    "    )"
   ]
  },
  {
   "cell_type": "code",
   "execution_count": null,
   "metadata": {},
   "outputs": [],
   "source": [
    "for i in range(4):\n",
    "    _, jet1txbbbins, jet1ptbins, jet1msdbins = effs[year][:, :, :, i + 1].to_numpy()\n",
    "    w = errors[year][:, :, :, i + 1]\n",
    "    plot_all_wrapper(\n",
    "        jet1txbbbins, jet1msdbins, jet1ptbins, w, 1, year, f\"{year}_errs_jet2pt_{i}\", bins=\"txbb\"\n",
    "    )"
   ]
  },
  {
   "cell_type": "markdown",
   "metadata": {},
   "source": [
    "Check statistical compatibility"
   ]
  },
  {
   "cell_type": "code",
   "execution_count": null,
   "metadata": {},
   "outputs": [],
   "source": [
    "comp = (intervals_txbb[year][0][..., None] <= intervals_pt[year][1][..., 1:]) & (\n",
    "    intervals_txbb[year][1][..., None] >= intervals_pt[year][0][..., 1:]\n",
    ")"
   ]
  },
  {
   "cell_type": "code",
   "execution_count": null,
   "metadata": {},
   "outputs": [],
   "source": [
    "np.mean(comp)"
   ]
  },
  {
   "cell_type": "code",
   "execution_count": null,
   "metadata": {},
   "outputs": [],
   "source": []
  }
 ],
 "metadata": {
  "kernelspec": {
   "display_name": "python310",
   "language": "python",
   "name": "python3"
  },
  "language_info": {
   "codemirror_mode": {
    "name": "ipython",
    "version": 3
   },
   "file_extension": ".py",
   "mimetype": "text/x-python",
   "name": "python",
   "nbconvert_exporter": "python",
   "pygments_lexer": "ipython3",
   "version": "3.10.11"
  },
  "orig_nbformat": 4,
  "vscode": {
   "interpreter": {
    "hash": "15adc7883e707560d0d9727709639b8fe3f3cff1f197d2d643742923ff23a29c"
   }
  }
 },
 "nbformat": 4,
 "nbformat_minor": 2
}
