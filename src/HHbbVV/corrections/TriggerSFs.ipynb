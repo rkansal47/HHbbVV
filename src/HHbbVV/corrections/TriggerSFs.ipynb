{
 "cells": [
  {
   "cell_type": "code",
   "execution_count": 1,
   "metadata": {},
   "outputs": [],
   "source": [
    "import awkward as ak\n",
    "import numpy as np\n",
    "from hist import Hist\n",
    "import matplotlib.pyplot as plt\n",
    "import mplhep as hep\n",
    "import pickle\n",
    "import math\n",
    "import os\n",
    "from hist.intervals import clopper_pearson_interval\n",
    "\n",
    "plt.rcParams.update({\"font.size\": 16})\n",
    "plt.style.use(hep.style.CMS)"
   ]
  },
  {
   "cell_type": "code",
   "execution_count": 10,
   "metadata": {},
   "outputs": [],
   "source": [
    "plot_dir = \"../../../plots/TriggerSFs/23Jul20\"\n",
    "_ = os.system(f\"mkdir -p {plot_dir}\")"
   ]
  },
  {
   "cell_type": "code",
   "execution_count": 2,
   "metadata": {},
   "outputs": [],
   "source": [
    "combined = {}\n",
    "years = [\"2016APV\", \"2016\", \"2017\", \"2018\"]\n",
    "\n",
    "for year in years:\n",
    "    with open(f\"trigEffs/{year}_combined.pkl\", \"rb\") as filehandler:\n",
    "        combined[year] = pickle.load(filehandler)"
   ]
  },
  {
   "cell_type": "code",
   "execution_count": 7,
   "metadata": {},
   "outputs": [],
   "source": [
    "effs_txbb = {\n",
    "    year: combined[year][\"num\"][:, sum, :, :] / combined[year][\"den\"][:, sum, :, :]\n",
    "    for year in years\n",
    "}\n",
    "effs_th4q = {\n",
    "    year: combined[year][\"num\"][sum, :, :, :] / combined[year][\"den\"][sum, :, :, :]\n",
    "    for year in years\n",
    "}"
   ]
  },
  {
   "cell_type": "code",
   "execution_count": 8,
   "metadata": {},
   "outputs": [],
   "source": [
    "errors_txbb = {}\n",
    "intervals_txbb = {}\n",
    "errors_th4q = {}\n",
    "intervals_th4q = {}\n",
    "\n",
    "for year in years:\n",
    "    intervals = clopper_pearson_interval(\n",
    "        combined[year][\"num\"][:, sum, :, :].view(flow=False),\n",
    "        combined[year][\"den\"][:, sum, :, :].view(flow=False),\n",
    "    )\n",
    "    errors_txbb[year] = (intervals[1] - intervals[0]) / 2\n",
    "    intervals_txbb[year] = intervals\n",
    "\n",
    "    intervals = clopper_pearson_interval(\n",
    "        combined[year][\"num\"][sum, :, :, :].view(flow=False),\n",
    "        combined[year][\"den\"][sum, :, :, :].view(flow=False),\n",
    "    )\n",
    "    errors_th4q[year] = (intervals[1] - intervals[0]) / 2\n",
    "    intervals_th4q[year] = intervals"
   ]
  },
  {
   "cell_type": "markdown",
   "metadata": {},
   "source": [
    "## Plotting"
   ]
  },
  {
   "cell_type": "code",
   "execution_count": 32,
   "metadata": {},
   "outputs": [],
   "source": [
    "def mesh2d(\n",
    "    ax,\n",
    "    xbins,\n",
    "    ybins,\n",
    "    vals,\n",
    "    vmax,\n",
    "    title,\n",
    "    xlabel=r\"Jet 1 MassSD (GeV)\",\n",
    "    ylabel=r\"Jet 1 $p_T$ (GeV)\",\n",
    "    fontsize=28,\n",
    "):\n",
    "    mesh = ax.pcolormesh(xbins, ybins, vals, cmap=\"turbo\", vmin=0, vmax=vmax)\n",
    "    for i in range(len(ybins) - 1):\n",
    "        for j in range(len(xbins) - 1):\n",
    "            if not math.isnan(vals[i, j]):\n",
    "                ax.text(\n",
    "                    (xbins[j] + xbins[j + 1]) / 2,\n",
    "                    (ybins[i] + ybins[i + 1]) / 2,\n",
    "                    vals[i, j].round(2),\n",
    "                    color=\"black\" if 0.1 * vmax < vals[i, j] < 0.9 * vmax else \"white\",\n",
    "                    ha=\"center\",\n",
    "                    va=\"center\",\n",
    "                    fontsize=fontsize,\n",
    "                )\n",
    "\n",
    "    ax.set_title(title)\n",
    "    ax.set_xlabel(xlabel)\n",
    "    ax.set_ylabel(ylabel)\n",
    "\n",
    "    return mesh"
   ]
  },
  {
   "cell_type": "markdown",
   "metadata": {},
   "source": [
    "### Plot all tagger bins in the same figure"
   ]
  },
  {
   "cell_type": "code",
   "execution_count": 33,
   "metadata": {},
   "outputs": [],
   "source": [
    "plt.rcParams.update({\"font.size\": 36})\n",
    "\n",
    "\n",
    "def plot_wrapper(tbins, xbins, ybins, w, vmax, name):\n",
    "    fig, axs = plt.subplots(2, 2, figsize=(18 * 2, 17 * 2), constrained_layout=True)\n",
    "\n",
    "    for k in range(len(tbins) - 1):\n",
    "        row = k // 2\n",
    "        col = k % 2\n",
    "        ax = axs[row][col]\n",
    "        title = rf\"{year}: {tbins[k]:.2f} < $T_{{Xbb}}$ Score < {tbins[k + 1]:.2f}\"\n",
    "        mesh = mesh2d(ax, xbins, ybins, w[k], vmax, title, fontsize=28)\n",
    "\n",
    "    for i in range(2):\n",
    "        fig.colorbar(mesh, ax=axs[i].ravel().tolist(), pad=0.01)\n",
    "\n",
    "    plt.savefig(f\"{plot_dir}/{name}.pdf\", bbox_inches=\"tight\")"
   ]
  },
  {
   "cell_type": "markdown",
   "metadata": {},
   "source": [
    "Txbb bins"
   ]
  },
  {
   "cell_type": "code",
   "execution_count": 36,
   "metadata": {},
   "outputs": [],
   "source": [
    "# Efficiencies\n",
    "for year in years:\n",
    "    w, jet1txbbbins, jet1ptbins, jet1msdbins = effs_txbb[year].to_numpy()\n",
    "    plot_wrapper(jet1txbbbins, jet1msdbins, jet1ptbins, w, 1, f\"{year}_txbb_effs\")\n",
    "    # break\n",
    "    plt.close()"
   ]
  },
  {
   "cell_type": "code",
   "execution_count": 37,
   "metadata": {},
   "outputs": [],
   "source": [
    "# Errors\n",
    "for year in years:\n",
    "    _, jet1txbbbins, jet1ptbins, jet1msdbins = effs_txbb[year].to_numpy()\n",
    "    w = errors_txbb[year]\n",
    "    plot_wrapper(jet1txbbbins, jet1msdbins, jet1ptbins, w, 0.5, f\"{year}_txbb_errs\")\n",
    "    # break\n",
    "    plt.close()"
   ]
  },
  {
   "cell_type": "markdown",
   "metadata": {},
   "source": [
    "TH4q bins"
   ]
  },
  {
   "cell_type": "code",
   "execution_count": null,
   "metadata": {},
   "outputs": [],
   "source": [
    "for year in years:\n",
    "    w, jet1th4qbins, jet1ptbins, jet1msdbins = effs_th4q[year].to_numpy()\n",
    "\n",
    "    fig, axs = plt.subplots(2, 2, figsize=(18 * 2, 14 * 2))\n",
    "\n",
    "    for k in range(len(jet1th4qbins) - 1):\n",
    "        row = k // 2\n",
    "        col = k % 2\n",
    "        ax = axs[row][col]\n",
    "\n",
    "        mesh = ax.pcolormesh(jet1msdbins, jet1ptbins, w[k], cmap=\"turbo\", vmin=0, vmax=1)\n",
    "        for i in range(len(jet1ptbins) - 1):\n",
    "            for j in range(len(jet1msdbins) - 1):\n",
    "                if not math.isnan(w[k][i, j]):\n",
    "                    ax.text(\n",
    "                        (jet1msdbins[j] + jet1msdbins[j + 1]) / 2,\n",
    "                        (jet1ptbins[i] + jet1ptbins[i + 1]) / 2,\n",
    "                        w[k][i, j].round(2),\n",
    "                        color=\"black\" if 0.1 < w[k][i, j] < 0.9 else \"white\",\n",
    "                        ha=\"center\",\n",
    "                        va=\"center\",\n",
    "                        fontsize=12,\n",
    "                    )\n",
    "\n",
    "        ax.set_title(\n",
    "            f\"{year}: {jet1th4qbins[k]:.2f} < $T_{{H4q}}$ Score < {jet1th4qbins[k + 1]:.2f}\"\n",
    "        )\n",
    "        ax.set_xlabel(\"Jet 1 MassSD (GeV)\")\n",
    "        ax.set_ylabel(\"Jet 1 $p_T$ (GeV)\")\n",
    "        plt.colorbar(mesh, ax=ax)\n",
    "\n",
    "    plt.savefig(\n",
    "        f\"{plot_dir}/{year}_th4q_effs.pdf\",\n",
    "        bbox_inches=\"tight\",\n",
    "    )\n",
    "    # plt.close()"
   ]
  },
  {
   "cell_type": "code",
   "execution_count": null,
   "metadata": {},
   "outputs": [],
   "source": [
    "fig, axs = plt.subplots(1, 4, figsize=(18 * 4, 14), gridspec_kw={\"wspace\": 0.05})\n",
    "\n",
    "for i, year in enumerate(years):\n",
    "    ax = axs[i]\n",
    "    w, jet1txbbbins, jet1ptbins, jet1msdbins = effs_txbb[year].to_numpy()\n",
    "    overlap = (intervals_txbb[year][0, 3] <= intervals_txbb[year][1, 2]) * (\n",
    "        intervals_txbb[year][1, 3] >= intervals_txbb[year][0, 2]\n",
    "    )\n",
    "\n",
    "    mesh = ax.pcolormesh(jet1msdbins, jet1ptbins, w[3], cmap=\"turbo\", vmin=0, vmax=1)\n",
    "    for i in range(len(jet1ptbins) - 1):\n",
    "        for j in range(len(jet1msdbins) - 1):\n",
    "            if not math.isnan(w[3][i, j]):\n",
    "                if overlap[i, j] == 0:\n",
    "                    ax.text(\n",
    "                        (jet1msdbins[j] + jet1msdbins[j + 1]) / 2,\n",
    "                        (jet1ptbins[i] + jet1ptbins[i + 1]) / 2,\n",
    "                        \"X\",\n",
    "                        color=\"black\" if 0.1 < w[k][i, j] < 0.9 else \"white\",\n",
    "                        ha=\"center\",\n",
    "                        va=\"center\",\n",
    "                        fontsize=12,\n",
    "                    )\n",
    "\n",
    "    ax.set_title(f\"{year}: $T_{{Xbb}}$ Intervals Overlap\")\n",
    "    ax.set_xlabel(\"Jet 1 MassSD (GeV)\")\n",
    "    ax.set_ylabel(\"Jet 1 $p_T$ (GeV)\")\n",
    "    plt.colorbar(mesh, ax=ax)\n",
    "\n",
    "plt.savefig(f\"{plot_dir}/txbb_overlap.pdf\", bbox_inches=\"tight\")"
   ]
  },
  {
   "cell_type": "code",
   "execution_count": null,
   "metadata": {},
   "outputs": [],
   "source": [
    "fig, axs = plt.subplots(1, 4, figsize=(18 * 4, 14), gridspec_kw={\"wspace\": 0.05})\n",
    "\n",
    "for i, year in enumerate(years):\n",
    "    ax = axs[i]\n",
    "    w, jet1th4qbins, jet1ptbins, jet1msdbins = effs_th4q[year].to_numpy()\n",
    "    overlap = (intervals_th4q[year][0, 3] <= intervals_th4q[year][1, 2]) * (\n",
    "        intervals_th4q[year][1, 3] >= intervals_th4q[year][0, 2]\n",
    "    )\n",
    "\n",
    "    mesh = ax.pcolormesh(jet1msdbins, jet1ptbins, w[3], cmap=\"turbo\", vmin=0, vmax=1)\n",
    "    for i in range(len(jet1ptbins) - 1):\n",
    "        for j in range(len(jet1msdbins) - 1):\n",
    "            if not math.isnan(w[3][i, j]):\n",
    "                if overlap[i, j] == 0:\n",
    "                    ax.text(\n",
    "                        (jet1msdbins[j] + jet1msdbins[j + 1]) / 2,\n",
    "                        (jet1ptbins[i] + jet1ptbins[i + 1]) / 2,\n",
    "                        \"X\",\n",
    "                        color=\"black\" if 0.1 < w[k][i, j] < 0.9 else \"white\",\n",
    "                        ha=\"center\",\n",
    "                        va=\"center\",\n",
    "                        fontsize=12,\n",
    "                    )\n",
    "\n",
    "    ax.set_title(f\"{year}: $T_{{H4q}}$ Intervals Overlap\")\n",
    "    ax.set_xlabel(\"Jet 1 MassSD (GeV)\")\n",
    "    ax.set_ylabel(\"Jet 1 $p_T$ (GeV)\")\n",
    "    plt.colorbar(mesh, ax=ax)\n",
    "\n",
    "plt.savefig(f\"{plot_dir}/th4q_overlap.pdf\", bbox_inches=\"tight\")"
   ]
  },
  {
   "cell_type": "markdown",
   "metadata": {},
   "source": [
    "### Plot per Txbb bin"
   ]
  },
  {
   "cell_type": "code",
   "execution_count": null,
   "metadata": {},
   "outputs": [],
   "source": [
    "for year in years:\n",
    "    w, jet1txbbbins, jet1ptbins, jet1msdbins = effs_txbb[year].to_numpy()\n",
    "\n",
    "    for k in range(len(jet1txbbbins) - 1):\n",
    "        fig, ax = plt.subplots(figsize=(18, 14))\n",
    "        mesh = ax.pcolormesh(jet1msdbins, jet1ptbins, w[k], cmap=\"turbo\", vmin=0, vmax=1)\n",
    "        for i in range(len(jet1ptbins) - 1):\n",
    "            for j in range(len(jet1msdbins) - 1):\n",
    "                if not math.isnan(w[k][i, j]):\n",
    "                    ax.text(\n",
    "                        (jet1msdbins[j] + jet1msdbins[j + 1]) / 2,\n",
    "                        (jet1ptbins[i] + jet1ptbins[i + 1]) / 2,\n",
    "                        w[k][i, j].round(2),\n",
    "                        color=\"black\" if 0.1 < w[k][i, j] < 0.9 else \"white\",\n",
    "                        ha=\"center\",\n",
    "                        va=\"center\",\n",
    "                        fontsize=12,\n",
    "                    )\n",
    "\n",
    "        ax.set_title(\n",
    "            f\"{year}: {jet1txbbbins[k]:.2f} < $T_{{Xbb}}$ Score < {jet1txbbbins[k + 1]:.2f}\"\n",
    "        )\n",
    "        ax.set_xlabel(\"Jet 1 MassSD (GeV)\")\n",
    "        ax.set_ylabel(\"Jet 1 $p_T$ (GeV)\")\n",
    "        plt.colorbar(mesh, ax=ax)\n",
    "        plt.savefig(\n",
    "            f\"{plot_dir}/{year}_txbb_{jet1txbbbins[k]:.2f}_{jet1txbbbins[k + 1]:.2f}_effs.pdf\",\n",
    "            bbox_inches=\"tight\",\n",
    "        )\n",
    "        plt.close()"
   ]
  },
  {
   "cell_type": "code",
   "execution_count": null,
   "metadata": {},
   "outputs": [],
   "source": [
    "for year in years:\n",
    "    w, jet1th4qbins, jet1ptbins, jet1msdbins = effs_th4q[year].to_numpy()\n",
    "\n",
    "    for k in range(len(jet1th4qbins) - 1):\n",
    "        fig, ax = plt.subplots(figsize=(18, 14))\n",
    "        mesh = ax.pcolormesh(jet1msdbins, jet1ptbins, w[k], cmap=\"turbo\", vmin=0, vmax=1)\n",
    "        for i in range(len(jet1ptbins) - 1):\n",
    "            for j in range(len(jet1msdbins) - 1):\n",
    "                if not math.isnan(w[k][i, j]):\n",
    "                    ax.text(\n",
    "                        (jet1msdbins[j] + jet1msdbins[j + 1]) / 2,\n",
    "                        (jet1ptbins[i] + jet1ptbins[i + 1]) / 2,\n",
    "                        w[k][i, j].round(2),\n",
    "                        color=\"black\" if 0.1 < w[k][i, j] < 0.9 else \"white\",\n",
    "                        ha=\"center\",\n",
    "                        va=\"center\",\n",
    "                        fontsize=12,\n",
    "                    )\n",
    "\n",
    "        ax.set_title(\n",
    "            f\"{year}: {jet1th4qbins[k]:.2f} < $T_{{H4q}}$ Score < {jet1th4qbins[k + 1]:.2f}\"\n",
    "        )\n",
    "        ax.set_xlabel(\"Jet 1 MassSD (GeV)\")\n",
    "        ax.set_ylabel(\"Jet 1 $p_T$ (GeV)\")\n",
    "        plt.colorbar(mesh, ax=ax)\n",
    "        plt.savefig(\n",
    "            f\"{plot_dir}/{year}_th4q_{jet1th4qbins[k]:.2f}_{jet1th4qbins[k + 1]:.2f}_effs.pdf\",\n",
    "            bbox_inches=\"tight\",\n",
    "        )\n",
    "        plt.close()"
   ]
  },
  {
   "cell_type": "markdown",
   "metadata": {},
   "source": [
    "## 3D efficiencies"
   ]
  },
  {
   "cell_type": "code",
   "execution_count": null,
   "metadata": {},
   "outputs": [],
   "source": [
    "import pickle\n",
    "\n",
    "with open(\"trigEffs/\")"
   ]
  }
 ],
 "metadata": {
  "kernelspec": {
   "display_name": "python310",
   "language": "python",
   "name": "python3"
  },
  "language_info": {
   "codemirror_mode": {
    "name": "ipython",
    "version": 3
   },
   "file_extension": ".py",
   "mimetype": "text/x-python",
   "name": "python",
   "nbconvert_exporter": "python",
   "pygments_lexer": "ipython3",
   "version": "3.10.8"
  },
  "orig_nbformat": 4,
  "vscode": {
   "interpreter": {
    "hash": "15adc7883e707560d0d9727709639b8fe3f3cff1f197d2d643742923ff23a29c"
   }
  }
 },
 "nbformat": 4,
 "nbformat_minor": 2
}
