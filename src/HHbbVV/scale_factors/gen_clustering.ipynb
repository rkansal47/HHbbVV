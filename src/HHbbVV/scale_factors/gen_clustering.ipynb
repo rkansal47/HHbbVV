{
 "cells": [
  {
   "cell_type": "code",
   "execution_count": 27,
   "metadata": {},
   "outputs": [],
   "source": [
    "import awkward as ak\n",
    "from coffea import nanoevents\n",
    "from coffea.nanoevents.methods.base import NanoEventsArray\n",
    "\n",
    "# from coffea.nanoevents import NanoEventsFactory, NanoAODSchema\n",
    "import pickle\n",
    "import matplotlib.pyplot as plt\n",
    "import numpy as np\n",
    "\n",
    "from typing import Optional, List, Dict\n",
    "from copy import copy\n",
    "\n",
    "import mplhep as hep\n",
    "from matplotlib import colors\n",
    "from tqdm import tqdm\n",
    "import uproot\n",
    "\n",
    "import jetnet"
   ]
  },
  {
   "cell_type": "code",
   "execution_count": 46,
   "metadata": {},
   "outputs": [
    {
     "name": "stderr",
     "output_type": "stream",
     "text": [
      "/opt/anaconda3/envs/python310/lib/python3.10/site-packages/coffea/nanoevents/mapping/uproot.py:75: UserWarning: Found duplicate branch FatJetAK15SubJet_nBHadrons in <TTree 'Events' (1915 branches) at 0x000160e47d30>, taking first instance\n",
      "  warnings.warn(\n",
      "/opt/anaconda3/envs/python310/lib/python3.10/site-packages/coffea/nanoevents/mapping/uproot.py:75: UserWarning: Found duplicate branch FatJetAK15SubJet_nCHadrons in <TTree 'Events' (1915 branches) at 0x000160e47d30>, taking first instance\n",
      "  warnings.warn(\n",
      "/opt/anaconda3/envs/python310/lib/python3.10/site-packages/coffea/nanoevents/mapping/uproot.py:75: UserWarning: Found duplicate branch FatJetAK15_nBHadrons in <TTree 'Events' (1915 branches) at 0x000160e47d30>, taking first instance\n",
      "  warnings.warn(\n",
      "/opt/anaconda3/envs/python310/lib/python3.10/site-packages/coffea/nanoevents/mapping/uproot.py:75: UserWarning: Found duplicate branch FatJetAK15_nCHadrons in <TTree 'Events' (1915 branches) at 0x000160e47d30>, taking first instance\n",
      "  warnings.warn(\n",
      "/opt/anaconda3/envs/python310/lib/python3.10/site-packages/coffea/nanoevents/mapping/uproot.py:75: UserWarning: Found duplicate branch FatJet_btagDDBvLV2 in <TTree 'Events' (1915 branches) at 0x000160e47d30>, taking first instance\n",
      "  warnings.warn(\n",
      "/opt/anaconda3/envs/python310/lib/python3.10/site-packages/coffea/nanoevents/mapping/uproot.py:75: UserWarning: Found duplicate branch FatJet_btagDDCvBV2 in <TTree 'Events' (1915 branches) at 0x000160e47d30>, taking first instance\n",
      "  warnings.warn(\n",
      "/opt/anaconda3/envs/python310/lib/python3.10/site-packages/coffea/nanoevents/mapping/uproot.py:75: UserWarning: Found duplicate branch FatJet_btagDDCvLV2 in <TTree 'Events' (1915 branches) at 0x000160e47d30>, taking first instance\n",
      "  warnings.warn(\n",
      "/opt/anaconda3/envs/python310/lib/python3.10/site-packages/coffea/nanoevents/mapping/uproot.py:75: UserWarning: Found duplicate branch FatJet_nBHadrons in <TTree 'Events' (1915 branches) at 0x000160e47d30>, taking first instance\n",
      "  warnings.warn(\n",
      "/opt/anaconda3/envs/python310/lib/python3.10/site-packages/coffea/nanoevents/mapping/uproot.py:75: UserWarning: Found duplicate branch FatJet_nCHadrons in <TTree 'Events' (1915 branches) at 0x000160e47d30>, taking first instance\n",
      "  warnings.warn(\n",
      "/opt/anaconda3/envs/python310/lib/python3.10/site-packages/coffea/nanoevents/mapping/uproot.py:75: UserWarning: Found duplicate branch SubJet_nBHadrons in <TTree 'Events' (1915 branches) at 0x000160e47d30>, taking first instance\n",
      "  warnings.warn(\n",
      "/opt/anaconda3/envs/python310/lib/python3.10/site-packages/coffea/nanoevents/mapping/uproot.py:75: UserWarning: Found duplicate branch SubJet_nCHadrons in <TTree 'Events' (1915 branches) at 0x000160e47d30>, taking first instance\n",
      "  warnings.warn(\n"
     ]
    }
   ],
   "source": [
    "nanoevents.NanoAODSchema.nested_index_items[\"FatJetAK15_pFCandsIdxG\"] = (\n",
    "    \"FatJetAK15_nConstituents\",\n",
    "    \"JetPFCandsAK15\",\n",
    ")\n",
    "nanoevents.NanoAODSchema.mixins[\"FatJetAK15\"] = \"FatJet\"\n",
    "nanoevents.NanoAODSchema.mixins[\"PFCands\"] = \"PFCand\"\n",
    "\n",
    "events = nanoevents.NanoEventsFactory.from_root(\n",
    "    \"../../../../data/2017_UL_nano/GluGluHToWWTo4q_M-125_TuneCP5/nano_mc_2017_ULv1_NANO_100.root\",\n",
    "    schemaclass=nanoevents.NanoAODSchema,\n",
    ").events()"
   ]
  },
  {
   "cell_type": "code",
   "execution_count": 29,
   "metadata": {},
   "outputs": [],
   "source": [
    "events = uproot.concatenate(\"../../../../../hwwtagger/sample_data/tagger_input_outs/GluGluToHHTobbVV_node_cHHH1/*.root:Events\")\n"
   ]
  },
  {
   "cell_type": "code",
   "execution_count": 3,
   "metadata": {},
   "outputs": [
    {
     "data": {
      "text/plain": [
       "<NanoEventsArray [<event 1:922:92106>, ... ] type='1200 * event'>"
      ]
     },
     "execution_count": 3,
     "metadata": {},
     "output_type": "execute_result"
    }
   ],
   "source": [
    "events"
   ]
  },
  {
   "cell_type": "code",
   "execution_count": 30,
   "metadata": {},
   "outputs": [
    {
     "data": {
      "text/plain": [
       "['fj_H_VV_4q',\n",
       " 'fj_H_VV_elenuqq',\n",
       " 'fj_H_VV_munuqq',\n",
       " 'fj_H_VV_taunuqq',\n",
       " 'fj_H_VV_unmatched',\n",
       " 'fj_PN_XbbvsQCD',\n",
       " 'fj_dR_V',\n",
       " 'fj_dR_Vstar',\n",
       " 'fj_eta',\n",
       " 'fj_genRes_eta',\n",
       " 'fj_genRes_mass',\n",
       " 'fj_genRes_phi',\n",
       " 'fj_genRes_pt',\n",
       " 'fj_genV_eta',\n",
       " 'fj_genV_mass',\n",
       " 'fj_genV_phi',\n",
       " 'fj_genV_pt',\n",
       " 'fj_genVstar_eta',\n",
       " 'fj_genVstar_mass',\n",
       " 'fj_genVstar_phi',\n",
       " 'fj_genVstar_pt',\n",
       " 'fj_genX_eta',\n",
       " 'fj_genX_mass',\n",
       " 'fj_genX_phi',\n",
       " 'fj_genX_pt',\n",
       " 'fj_genjetmass',\n",
       " 'fj_genjetmsd',\n",
       " 'fj_isQCDb',\n",
       " 'fj_isQCDbb',\n",
       " 'fj_isQCDc',\n",
       " 'fj_isQCDcc',\n",
       " 'fj_isQCDlep',\n",
       " 'fj_isQCDothers',\n",
       " 'fj_mass',\n",
       " 'fj_msoftdrop',\n",
       " 'fj_nprongs',\n",
       " 'fj_phi',\n",
       " 'fj_pt',\n",
       " 'pfcand_VTX_ass',\n",
       " 'pfcand_abseta',\n",
       " 'pfcand_charge',\n",
       " 'pfcand_dxy',\n",
       " 'pfcand_dxysig',\n",
       " 'pfcand_dz',\n",
       " 'pfcand_dzsig',\n",
       " 'pfcand_e_log_nopuppi',\n",
       " 'pfcand_etarel',\n",
       " 'pfcand_isChargedHad',\n",
       " 'pfcand_isEl',\n",
       " 'pfcand_isGamma',\n",
       " 'pfcand_isMu',\n",
       " 'pfcand_isNeutralHad',\n",
       " 'pfcand_lostInnerHits',\n",
       " 'pfcand_mask',\n",
       " 'pfcand_normchi2',\n",
       " 'pfcand_phirel',\n",
       " 'pfcand_pt_log_nopuppi',\n",
       " 'pfcand_quality',\n",
       " 'sv_abseta',\n",
       " 'sv_costhetasvpv',\n",
       " 'sv_d3d',\n",
       " 'sv_d3dsig',\n",
       " 'sv_dxy',\n",
       " 'sv_dxysig',\n",
       " 'sv_etarel',\n",
       " 'sv_mask',\n",
       " 'sv_mass',\n",
       " 'sv_normchi2',\n",
       " 'sv_ntracks',\n",
       " 'sv_phirel',\n",
       " 'sv_pt_log']"
      ]
     },
     "execution_count": 30,
     "metadata": {},
     "output_type": "execute_result"
    }
   ],
   "source": [
    "events.fields"
   ]
  },
  {
   "cell_type": "code",
   "execution_count": 15,
   "metadata": {},
   "outputs": [
    {
     "data": {
      "text/plain": [
       "array([ 21,  21,  25,  21,  25,  25,  25,  25,  24, -24, -24,  22,  24,\n",
       "        -1,   2,   1,  -2,   1,  -2,   2,  -1,  21,  21,  21,  21,  21,\n",
       "        21,  21,  21], dtype=int32)"
      ]
     },
     "execution_count": 15,
     "metadata": {},
     "output_type": "execute_result"
    }
   ],
   "source": [
    "events.GenPart[0].pdgId.to_numpy()"
   ]
  },
  {
   "cell_type": "code",
   "execution_count": 34,
   "metadata": {},
   "outputs": [
    {
     "data": {
      "text/plain": [
       "<Record ... 2.37, 0.233, 0.197, -0.596, 0, 0]} type='{\"fj_H_VV_4q\": 1 * int32, \"...'>"
      ]
     },
     "execution_count": 34,
     "metadata": {},
     "output_type": "execute_result"
    }
   ],
   "source": [
    "events[i]"
   ]
  },
  {
   "cell_type": "code",
   "execution_count": 45,
   "metadata": {},
   "outputs": [
    {
     "name": "stdout",
     "output_type": "stream",
     "text": [
      "[0.0239]\n",
      "[-0.0291]\n",
      "[-0.14]\n",
      "[-0.0213]\n",
      "[0.0562]\n",
      "[0.05]\n",
      "[-0.264]\n",
      "[-0.323]\n",
      "[0.0564]\n",
      "[-0.0828]\n",
      "[0.0564]\n",
      "[-0.0828]\n",
      "[-0.339]\n",
      "[-0.134]\n",
      "[-0.339]\n",
      "[-0.134]\n",
      "[-0.147]\n",
      "[-0.211]\n",
      "[0.0869]\n",
      "[0.317]\n",
      "[-0.501]\n",
      "[-0.31]\n",
      "[-0.501]\n",
      "[-0.31]\n"
     ]
    },
    {
     "data": {
      "image/png": "[encoded data removed]",
      "text/plain": [
       "<Figure size 3456x576 with 7 Axes>"
      ]
     },
     "metadata": {
      "needs_background": "light"
     },
     "output_type": "display_data"
    }
   ],
   "source": [
    "average_images = {}\n",
    "\n",
    "cm = copy(plt.cm.jet)\n",
    "cm.set_under(color=\"white\")\n",
    "\n",
    "plt.rcParams.update({\"font.size\": 16})\n",
    "plt.style.use(hep.style.CMS)\n",
    "\n",
    "\n",
    "maxR = 1.5\n",
    "im_size = 45\n",
    "\n",
    "\n",
    "def del_phi(a, b):\n",
    "    return (a - b + np.pi) % (2 * np.pi) - np.pi\n",
    "\n",
    "\n",
    "def event_to_image(event, maxR, im_size):\n",
    "    num_parts = np.sum(event[\"pfcand_etarel\"] != 0)\n",
    "    return jetnet.utils.to_image(\n",
    "        np.vstack(\n",
    "            (\n",
    "                event[\"pfcand_etarel\"].to_numpy()[:num_parts],\n",
    "                event[\"pfcand_phirel\"].to_numpy()[:num_parts],\n",
    "                np.exp(event[\"pfcand_pt_log_nopuppi\"].to_numpy()[:num_parts]),\n",
    "            )\n",
    "        ).T,\n",
    "        im_size,\n",
    "        maxR=maxR,\n",
    "    ).T\n",
    "\n",
    "\n",
    "num_images = 6\n",
    "\n",
    "vmin = 1e-2\n",
    "vmax = 200\n",
    "\n",
    "fig, axes = plt.subplots(1, num_images, figsize=(num_images*8, 8))\n",
    "\n",
    "for i in range(num_images):\n",
    "    im = axes[i].imshow(\n",
    "        event_to_image(events[i], maxR=maxR, im_size=im_size),\n",
    "        cmap=cm,\n",
    "        interpolation=\"nearest\",\n",
    "        extent=[-maxR, maxR, -maxR, maxR],\n",
    "        norm=colors.LogNorm(vmin, vmax),\n",
    "    )\n",
    "    # plot Ws\n",
    "    axes[i].plot(\n",
    "        del_phi(events[i][\"fj_genV_phi\"], events[i][\"fj_phi\"]),\n",
    "        events[i][\"fj_genV_eta\"] - events[i][\"fj_eta\"],\n",
    "        \"+\",\n",
    "        color=\"brown\",\n",
    "        ms=30,\n",
    "        mew=4,\n",
    "    )\n",
    "    print(del_phi(events[i][\"fj_genV_phi\"], events[i][\"fj_phi\"]))\n",
    "    print(events[i][\"fj_genV_eta\"] - events[i][\"fj_eta\"])\n",
    "    axes[i].plot(\n",
    "        del_phi(events[i][\"fj_genVstar_phi\"], events[i][\"fj_phi\"]),\n",
    "        events[i][\"fj_genVstar_eta\"] - events[i][\"fj_eta\"],\n",
    "        \"b+\",\n",
    "        ms=30,\n",
    "        mew=4,\n",
    "    )\n",
    "    print(del_phi(events[i][\"fj_genVstar_phi\"], events[i][\"fj_phi\"]))\n",
    "    print(events[i][\"fj_genVstar_eta\"] - events[i][\"fj_eta\"])\n",
    "    axes[i].tick_params(which=\"both\", bottom=False, top=False, left=False, right=False)\n",
    "    axes[i].set_xlabel(\"$\\phi^{rel}$\")\n",
    "    axes[i].set_ylabel(\"$\\eta^{rel}$\")\n",
    "\n",
    "cbar = fig.colorbar(im, ax=axes.ravel().tolist(), fraction=0.007)\n",
    "cbar.set_label(\"$p_T$ (GeV)\")\n",
    "\n",
    "# fig.tight_layout()\n",
    "# plt.savefig(f\"{plot_dir}/jet_images_qcd.pdf\", bbox_inches=\"tight\")\n",
    "plt.show()"
   ]
  },
  {
   "cell_type": "code",
   "execution_count": 39,
   "metadata": {},
   "outputs": [
    {
     "data": {
      "text/plain": [
       "<Array [-0.116] type='1 * float64'>"
      ]
     },
     "execution_count": 39,
     "metadata": {},
     "output_type": "execute_result"
    }
   ],
   "source": [
    "events[i][\"fj_genV_phi\"]"
   ]
  },
  {
   "cell_type": "code",
   "execution_count": 40,
   "metadata": {},
   "outputs": [
    {
     "data": {
      "text/plain": [
       "<Array [0.385] type='1 * float64'>"
      ]
     },
     "execution_count": 40,
     "metadata": {},
     "output_type": "execute_result"
    }
   ],
   "source": [
    "events[i][\"fj_phi\"]"
   ]
  },
  {
   "cell_type": "code",
   "execution_count": 41,
   "metadata": {},
   "outputs": [
    {
     "data": {
      "text/plain": [
       "<Array [-1.68] type='1 * float64'>"
      ]
     },
     "execution_count": 41,
     "metadata": {},
     "output_type": "execute_result"
    }
   ],
   "source": [
    "events[i][\"fj_genV_eta\"]"
   ]
  },
  {
   "cell_type": "code",
   "execution_count": 42,
   "metadata": {},
   "outputs": [
    {
     "data": {
      "text/plain": [
       "<Array [-1.37] type='1 * float64'>"
      ]
     },
     "execution_count": 42,
     "metadata": {},
     "output_type": "execute_result"
    }
   ],
   "source": [
    "events[i][\"fj_eta\"]"
   ]
  },
  {
   "cell_type": "code",
   "execution_count": null,
   "metadata": {},
   "outputs": [],
   "source": []
  }
 ],
 "metadata": {
  "kernelspec": {
   "display_name": "Python 3.10.4 ('python310')",
   "language": "python",
   "name": "python3"
  },
  "language_info": {
   "codemirror_mode": {
    "name": "ipython",
    "version": 3
   },
   "file_extension": ".py",
   "mimetype": "text/x-python",
   "name": "python",
   "nbconvert_exporter": "python",
   "pygments_lexer": "ipython3",
   "version": "3.10.4"
  },
  "orig_nbformat": 4,
  "vscode": {
   "interpreter": {
    "hash": "31a7b1cb5f073f7a7d37b3db504c6954ce2b88e0f82e412b65ad0b5f2dd17394"
   }
  }
 },
 "nbformat": 4,
 "nbformat_minor": 2
}
