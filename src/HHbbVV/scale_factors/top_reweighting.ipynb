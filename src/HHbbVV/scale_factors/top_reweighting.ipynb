{
 "cells": [
  {
   "cell_type": "code",
   "execution_count": 57,
   "metadata": {},
   "outputs": [],
   "source": [
    "import uproot\n",
    "import awkward as ak\n",
    "from coffea import nanoevents\n",
    "from coffea.nanoevents.methods.base import NanoEventsArray\n",
    "from coffea.analysis_tools import PackedSelection\n",
    "\n",
    "from coffea.nanoevents.methods import vector\n",
    "from coffea.lookup_tools.dense_lookup import dense_lookup\n",
    "\n",
    "ak.behavior.update(vector.behavior)\n",
    "\n",
    "import pickle\n",
    "import numpy as np\n",
    "\n",
    "from typing import Optional, List, Dict\n",
    "from copy import copy\n",
    "\n",
    "import matplotlib.pyplot as plt\n",
    "import mplhep as hep\n",
    "from matplotlib import colors\n",
    "\n",
    "from tqdm import tqdm\n",
    "import fastjet\n",
    "import jetnet\n",
    "\n",
    "import os\n"
   ]
  },
  {
   "cell_type": "code",
   "execution_count": 2,
   "metadata": {},
   "outputs": [],
   "source": [
    "plot_dir = \"../../../plots/ScaleFactors/Nov16\"\n",
    "_ = os.system(f\"mkdir -p {plot_dir}\")\n"
   ]
  },
  {
   "cell_type": "code",
   "execution_count": 3,
   "metadata": {},
   "outputs": [
    {
     "name": "stderr",
     "output_type": "stream",
     "text": [
      "/uscms_data/d3/rkansal/mambaforge/envs/python39/lib/python3.9/site-packages/coffea/nanoevents/mapping/uproot.py:75: UserWarning: Found duplicate branch FatJetAK15SubJet_nBHadrons in <TTree 'Events' (1950 branches) at 0x7f2c8441b850>, taking first instance\n",
      "  warnings.warn(\n",
      "/uscms_data/d3/rkansal/mambaforge/envs/python39/lib/python3.9/site-packages/coffea/nanoevents/mapping/uproot.py:75: UserWarning: Found duplicate branch FatJetAK15SubJet_nCHadrons in <TTree 'Events' (1950 branches) at 0x7f2c8441b850>, taking first instance\n",
      "  warnings.warn(\n",
      "/uscms_data/d3/rkansal/mambaforge/envs/python39/lib/python3.9/site-packages/coffea/nanoevents/mapping/uproot.py:75: UserWarning: Found duplicate branch FatJetAK15_nBHadrons in <TTree 'Events' (1950 branches) at 0x7f2c8441b850>, taking first instance\n",
      "  warnings.warn(\n",
      "/uscms_data/d3/rkansal/mambaforge/envs/python39/lib/python3.9/site-packages/coffea/nanoevents/mapping/uproot.py:75: UserWarning: Found duplicate branch FatJetAK15_nCHadrons in <TTree 'Events' (1950 branches) at 0x7f2c8441b850>, taking first instance\n",
      "  warnings.warn(\n",
      "/uscms_data/d3/rkansal/mambaforge/envs/python39/lib/python3.9/site-packages/coffea/nanoevents/mapping/uproot.py:75: UserWarning: Found duplicate branch FatJet_btagDDBvLV2 in <TTree 'Events' (1950 branches) at 0x7f2c8441b850>, taking first instance\n",
      "  warnings.warn(\n",
      "/uscms_data/d3/rkansal/mambaforge/envs/python39/lib/python3.9/site-packages/coffea/nanoevents/mapping/uproot.py:75: UserWarning: Found duplicate branch FatJet_btagDDCvBV2 in <TTree 'Events' (1950 branches) at 0x7f2c8441b850>, taking first instance\n",
      "  warnings.warn(\n",
      "/uscms_data/d3/rkansal/mambaforge/envs/python39/lib/python3.9/site-packages/coffea/nanoevents/mapping/uproot.py:75: UserWarning: Found duplicate branch FatJet_btagDDCvLV2 in <TTree 'Events' (1950 branches) at 0x7f2c8441b850>, taking first instance\n",
      "  warnings.warn(\n",
      "/uscms_data/d3/rkansal/mambaforge/envs/python39/lib/python3.9/site-packages/coffea/nanoevents/mapping/uproot.py:75: UserWarning: Found duplicate branch FatJet_nBHadrons in <TTree 'Events' (1950 branches) at 0x7f2c8441b850>, taking first instance\n",
      "  warnings.warn(\n",
      "/uscms_data/d3/rkansal/mambaforge/envs/python39/lib/python3.9/site-packages/coffea/nanoevents/mapping/uproot.py:75: UserWarning: Found duplicate branch FatJet_nCHadrons in <TTree 'Events' (1950 branches) at 0x7f2c8441b850>, taking first instance\n",
      "  warnings.warn(\n",
      "/uscms_data/d3/rkansal/mambaforge/envs/python39/lib/python3.9/site-packages/coffea/nanoevents/mapping/uproot.py:75: UserWarning: Found duplicate branch SubJet_nBHadrons in <TTree 'Events' (1950 branches) at 0x7f2c8441b850>, taking first instance\n",
      "  warnings.warn(\n",
      "/uscms_data/d3/rkansal/mambaforge/envs/python39/lib/python3.9/site-packages/coffea/nanoevents/mapping/uproot.py:75: UserWarning: Found duplicate branch SubJet_nCHadrons in <TTree 'Events' (1950 branches) at 0x7f2c8441b850>, taking first instance\n",
      "  warnings.warn(\n"
     ]
    }
   ],
   "source": [
    "events = nanoevents.NanoEventsFactory.from_root(\n",
    "    # \"/eos/uscms/store/user/lpcpfnano/cmantill/v2_3/2017/HH_gen/GluGluToHHTobbVV_node_cHHH1_TuneCP5_13TeV-powheg-pythia8/GluGluToHHTobbVV_node_cHHH1/221017_221918/0000/nano_mc2017_100.root\",\n",
    "    \"/eos/uscms/store/user/lpcpfnano/drankin/v2_2/2017/TTbar/TTToSemiLeptonic_TuneCP5_13TeV-powheg-pythia8/TTToSemiLeptonic_ext1/211112_132937/0000/nano_mc2017_100.root\",\n",
    "    schemaclass=nanoevents.NanoAODSchema,\n",
    ").events()\n"
   ]
  },
  {
   "cell_type": "markdown",
   "metadata": {},
   "source": [
    "### Boosted Top Pre-selection\n",
    "\n",
    "Based on selection in https://indico.cern.ch/event/1208247/#10-lund-plane-reweighting-for"
   ]
  },
  {
   "cell_type": "code",
   "execution_count": 4,
   "metadata": {},
   "outputs": [],
   "source": [
    "def pad_val(\n",
    "    arr: ak.Array,\n",
    "    target: int,\n",
    "    value: float,\n",
    "    axis: int = 0,\n",
    "    to_numpy: bool = True,\n",
    "    clip: bool = True,\n",
    "):\n",
    "    \"\"\"\n",
    "    pads awkward array up to ``target`` index along axis ``axis`` with value ``value``,\n",
    "    optionally converts to numpy array\n",
    "    \"\"\"\n",
    "    ret = ak.fill_none(ak.pad_none(arr, target, axis=axis, clip=clip), value, axis=axis)\n",
    "    return ret.to_numpy() if to_numpy else ret\n",
    "\n",
    "\n",
    "def add_selection(\n",
    "    name: str,\n",
    "    sel: np.ndarray,\n",
    "    selection: PackedSelection,\n",
    "    cutflow: dict = None,\n",
    "    isData: bool = False,\n",
    "    signGenWeights: ak.Array = None,\n",
    "):\n",
    "    \"\"\"adds selection to PackedSelection object and the cutflow dictionary\"\"\"\n",
    "    selection.add(name, sel)\n",
    "    if cutflow is not None:\n",
    "        cutflow[name] = (\n",
    "            np.sum(selection.all(*selection.names))\n",
    "            if isData\n",
    "            # add up sign of genWeights for MC\n",
    "            else np.sum(signGenWeights[selection.all(*selection.names)])\n",
    "        )\n",
    "\n",
    "\n",
    "preselection_cut_vals = {\"pt\": 250, \"msd\": 20}\n",
    "num_jets = 1\n",
    "\n",
    "preselection_cut = np.prod(\n",
    "    pad_val(\n",
    "        (events.FatJet.pt > preselection_cut_vals[\"pt\"])\n",
    "        * (events.FatJet.msoftdrop > preselection_cut_vals[\"msd\"]),\n",
    "        num_jets,\n",
    "        False,\n",
    "        axis=1,\n",
    "    ),\n",
    "    axis=1,\n",
    ").astype(bool)\n",
    "\n",
    "presel_events = events[preselection_cut]\n"
   ]
  },
  {
   "cell_type": "code",
   "execution_count": 5,
   "metadata": {},
   "outputs": [],
   "source": [
    "isData = False\n",
    "signGenWeights = None if isData else np.sign(presel_events[\"genWeight\"])\n",
    "n_events = len(presel_events) if isData else int(np.sum(signGenWeights))\n",
    "selection = PackedSelection()\n",
    "\n",
    "cutflow = {}\n",
    "cutflow[\"presel\"] = len(presel_events)\n"
   ]
  },
  {
   "cell_type": "code",
   "execution_count": 6,
   "metadata": {},
   "outputs": [],
   "source": [
    "d_PDGID = 1\n",
    "b_PDGID = 5\n",
    "g_PDGID = 21\n",
    "TOP_PDGID = 6\n",
    "\n",
    "ELE_PDGID = 11\n",
    "vELE_PDGID = 12\n",
    "MU_PDGID = 13\n",
    "vMU_PDGID = 14\n",
    "TAU_PDGID = 15\n",
    "vTAU_PDGID = 16\n",
    "\n",
    "Z_PDGID = 23\n",
    "W_PDGID = 24\n",
    "HIGGS_PDGID = 25\n",
    "\n",
    "b_PDGIDS = [511, 521, 523]\n",
    "\n",
    "GRAV_PDGID = 39\n",
    "\n",
    "GEN_FLAGS = [\"fromHardProcess\", \"isLastCopy\"]\n",
    "\n",
    "FILL_NONE_VALUE = -99999\n",
    "\n",
    "\n",
    "skim_vars = {\n",
    "    \"eta\": \"eta\",\n",
    "    \"phi\": \"phi\",\n",
    "    \"mass\": \"mass\",\n",
    "    \"pt\": \"pt\",\n",
    "}\n",
    "\n",
    "# finding the two gen tops\n",
    "tops = presel_events.GenPart[\n",
    "    (abs(presel_events.GenPart.pdgId) == TOP_PDGID) * presel_events.GenPart.hasFlags(GEN_FLAGS)\n",
    "]\n"
   ]
  },
  {
   "cell_type": "code",
   "execution_count": 7,
   "metadata": {},
   "outputs": [],
   "source": [
    "deltaR = 0.8\n"
   ]
  },
  {
   "cell_type": "code",
   "execution_count": 8,
   "metadata": {},
   "outputs": [],
   "source": [
    "tops_children = tops.distinctChildren\n",
    "tops_children = tops_children[tops_children.hasFlags(GEN_FLAGS)]\n",
    "ws = ak.flatten(tops_children[np.abs(tops_children.pdgId) == W_PDGID], axis=2)\n",
    "had_top_sel = np.all(np.abs(ws.children.pdgId) <= 5, axis=2)\n",
    "had_ws = ak.flatten(ws[had_top_sel])\n",
    "had_tops = ak.flatten(tops[had_top_sel])\n",
    "had_top_children = ak.flatten(tops_children[had_top_sel], axis=1)\n",
    "had_bs = had_top_children[np.abs(had_top_children.pdgId) == 5]\n",
    "add_selection(\n",
    "    \"hadronic bs\", np.any(had_bs.pdgId, axis=1), selection, cutflow, isData, signGenWeights\n",
    ")\n"
   ]
  },
  {
   "cell_type": "code",
   "execution_count": 9,
   "metadata": {},
   "outputs": [],
   "source": [
    "had_w_jet_match = ak.all(had_ws.children.delta_r(presel_events.FatJet[:, 0]) < deltaR, axis=1)\n",
    "had_b_jet_match = ak.flatten(\n",
    "    pad_val(had_bs.delta_r(presel_events.FatJet[:, 0]) < deltaR, 1, False, axis=1, to_numpy=False)\n",
    ")\n",
    "merged_top_jet_match = had_w_jet_match * had_b_jet_match\n"
   ]
  },
  {
   "cell_type": "code",
   "execution_count": null,
   "metadata": {},
   "outputs": [],
   "source": [
    "# had_top_jet_match = presel_events.FatJet[:, 0].delta_r(hadronic_tops) < deltaR\n",
    "# add_selection(\"jet not matched\", ~had_top_jet_match, unmatched_selection)\n"
   ]
  },
  {
   "cell_type": "code",
   "execution_count": 10,
   "metadata": {},
   "outputs": [],
   "source": [
    "merged_top_events = presel_events[merged_top_jet_match]\n",
    "had_top_jets = merged_top_events.FatJet[:, 0]\n",
    "\n",
    "merged_ak8_pfcands = merged_top_events.FatJetPFCands\n",
    "merged_ak8_pfcands = merged_ak8_pfcands[merged_ak8_pfcands.jetIdx == 0]\n",
    "merged_pfcands = merged_top_events.PFCands[merged_ak8_pfcands.pFCandsIdx]\n"
   ]
  },
  {
   "cell_type": "code",
   "execution_count": 11,
   "metadata": {},
   "outputs": [],
   "source": [
    "merged_pfcands_vector_ptetaphi = ak.Array(\n",
    "    [\n",
    "        [{kin_key: cand[kin_key] for kin_key in skim_vars} for cand in event_cands]\n",
    "        for event_cands in merged_pfcands\n",
    "    ],\n",
    "    with_name=\"PtEtaPhiMLorentzVector\",\n",
    ")\n"
   ]
  },
  {
   "cell_type": "code",
   "execution_count": 12,
   "metadata": {},
   "outputs": [],
   "source": [
    "# jet definitions\n",
    "dR = 0.8\n",
    "cadef = fastjet.JetDefinition(fastjet.cambridge_algorithm, dR)\n",
    "ktdef = fastjet.JetDefinition(fastjet.kt_algorithm, dR)\n"
   ]
  },
  {
   "cell_type": "code",
   "execution_count": 35,
   "metadata": {},
   "outputs": [
    {
     "name": "stderr",
     "output_type": "stream",
     "text": [
      "UserWarning: dcut and exclusive jets for jet-finders other than kt, C/A or genkt with p>=0 should be interpreted with care.\n"
     ]
    }
   ],
   "source": [
    "# cluster first with kT\n",
    "kt_clustering = fastjet.ClusterSequence(merged_pfcands_vector_ptetaphi, ktdef)\n",
    "kt_subjets = kt_clustering.exclusive_jets(3)\n",
    "kt_subjets_pt = np.sqrt(kt_subjets.px ** 2 + kt_subjets.py ** 2)\n",
    "kt_subjet_consts = kt_clustering.exclusive_jets_constituents(3)\n",
    "\n",
    "# then re-cluster with CA\n",
    "# won't need to flatten once https://github.com/scikit-hep/fastjet/pull/145 is released\n",
    "ca_clustering = fastjet.ClusterSequence(ak.flatten(kt_subjet_consts, axis=1), cadef)\n",
    "lds = ak.flatten(ca_clustering.exclusive_jets_lund_declusterings(1), axis=1)\n"
   ]
  },
  {
   "cell_type": "code",
   "execution_count": 120,
   "metadata": {},
   "outputs": [],
   "source": [
    "def get_ld_indices(vals, edges):\n",
    "    indices = []\n",
    "\n",
    "    for val, edge in zip(vals, edges):\n",
    "        indices.append(\n",
    "            np.clip(\n",
    "                np.searchsorted(edge, val, side=\"right\")\n",
    "                - 1,\n",
    "                0,\n",
    "                len(edge) - 2,\n",
    "            )\n",
    "        )\n",
    "\n",
    "    return indices"
   ]
  },
  {
   "cell_type": "code",
   "execution_count": 129,
   "metadata": {},
   "outputs": [],
   "source": [
    "f = uproot.open(\"/uscms_data/d3/oamram/Misc/LundReweighting/ratio_ktjets_nov7.root\")\n",
    "\n",
    "# 3D histogram: [subjet_pt, ln(0.8/Delta), ln(kT/GeV)]\n",
    "ratio_nom = f['ratio_nom'].to_numpy()\n",
    "ratio_nom_edges = ratio_nom[1:]\n",
    "ratio_nom = ratio_nom[0]\n",
    "ratio_nom_lookup = dense_lookup(ratio_nom, ratio_nom_edges)\n",
    "ratio_nom_errs_lookup = dense_lookup(f['ratio_nom'].errors(), ratio_nom_edges)"
   ]
  },
  {
   "cell_type": "code",
   "execution_count": 118,
   "metadata": {},
   "outputs": [],
   "source": [
    "# save offsets to \n",
    "ld_offsets = lds.kt.layout.offsets\n",
    "flat_logD = np.log(0.8/ak.flatten(lds).Delta).to_numpy()\n",
    "flat_logkt = np.log(ak.flatten(lds).kt).to_numpy()\n",
    "# repeat subjet pt for each lund declustering\n",
    "flat_subjet_pt = np.repeat(ak.flatten(kt_subjets_pt), ak.count(lds.kt, axis=1)).to_numpy()"
   ]
  },
  {
   "cell_type": "code",
   "execution_count": 121,
   "metadata": {},
   "outputs": [],
   "source": [
    "# get lund plane bins\n",
    "inds = get_ld_indices((flat_subjet_pt, flat_logD, flat_logkt), ratio_nom_edges)\n",
    "# convert 3D indices to single scalar\n",
    "scalar_inds = np.ravel_multi_index(inds, ratio_nom.shape)"
   ]
  },
  {
   "cell_type": "code",
   "execution_count": null,
   "metadata": {},
   "outputs": [],
   "source": []
  },
  {
   "cell_type": "code",
   "execution_count": 130,
   "metadata": {},
   "outputs": [
    {
     "data": {
      "text/plain": [
       "array([0.92324436, 0.90136653, 0.97770345, ..., 0.9449471 , 1.0411583 ,\n",
       "       1.0922482 ], dtype=float32)"
      ]
     },
     "execution_count": 130,
     "metadata": {},
     "output_type": "execute_result"
    }
   ],
   "source": [
    "ratio_nom[tuple(inds)]"
   ]
  },
  {
   "cell_type": "code",
   "execution_count": 132,
   "metadata": {},
   "outputs": [
    {
     "data": {
      "text/plain": [
       "array([0.92324436, 0.90136653, 0.97770345, ..., 0.9449471 , 1.0411583 ,\n",
       "       1.0922482 ], dtype=float32)"
      ]
     },
     "execution_count": 132,
     "metadata": {},
     "output_type": "execute_result"
    }
   ],
   "source": [
    "ratio_nom.reshape(-1)[]"
   ]
  },
  {
   "cell_type": "code",
   "execution_count": 111,
   "metadata": {},
   "outputs": [
    {
     "data": {
      "text/plain": [
       "(6, 20, 20)"
      ]
     },
     "execution_count": 111,
     "metadata": {},
     "output_type": "execute_result"
    }
   ],
   "source": [
    "ratio_nom[0].shape"
   ]
  },
  {
   "cell_type": "code",
   "execution_count": 110,
   "metadata": {},
   "outputs": [
    {
     "data": {
      "text/plain": [
       "7"
      ]
     },
     "execution_count": 110,
     "metadata": {},
     "output_type": "execute_result"
    }
   ],
   "source": [
    "len(ratio_nom[1])"
   ]
  },
  {
   "cell_type": "code",
   "execution_count": 88,
   "metadata": {},
   "outputs": [],
   "source": [
    "ld_offsets = lds.kt.layout.offsets"
   ]
  },
  {
   "cell_type": "code",
   "execution_count": 82,
   "metadata": {},
   "outputs": [
    {
     "data": {
      "text/plain": [
       "array([1.48361689, 0.60492159, 0.25005975, ..., 0.270007  , 0.34943345,\n",
       "       0.02051957])"
      ]
     },
     "execution_count": 82,
     "metadata": {},
     "output_type": "execute_result"
    }
   ],
   "source": [
    "ak.flatten(lds).kt.to_numpy()"
   ]
  },
  {
   "cell_type": "code",
   "execution_count": 93,
   "metadata": {},
   "outputs": [],
   "source": [
    "re_ld = ak.Array(ak.layout.ListOffsetArray64(ld_offsets, ak.layout.NumpyArray(ak.flatten(lds).kt.to_numpy())))"
   ]
  },
  {
   "cell_type": "code",
   "execution_count": 75,
   "metadata": {},
   "outputs": [],
   "source": [
    "lds = ak.flatten(lds, axis=1)"
   ]
  },
  {
   "cell_type": "code",
   "execution_count": 73,
   "metadata": {},
   "outputs": [
    {
     "ename": "TypeError",
     "evalue": "to_rectilinear argument must be iterable",
     "output_type": "error",
     "traceback": [
      "\u001b[0;31m---------------------------------------------------------------------------\u001b[0m",
      "\u001b[0;31mTypeError\u001b[0m                                 Traceback (most recent call last)",
      "Cell \u001b[0;32mIn [73], line 1\u001b[0m\n\u001b[0;32m----> 1\u001b[0m np\u001b[39m.\u001b[39;49msearchsorted([\u001b[39m0\u001b[39;49m, \u001b[39m1\u001b[39;49m, \u001b[39m2\u001b[39;49m], ldsf\u001b[39m.\u001b[39;49mkt, side\u001b[39m=\u001b[39;49m\u001b[39m\"\u001b[39;49m\u001b[39mright\u001b[39;49m\u001b[39m\"\u001b[39;49m)\n",
      "File \u001b[0;32m<__array_function__ internals>:5\u001b[0m, in \u001b[0;36msearchsorted\u001b[0;34m(*args, **kwargs)\u001b[0m\n",
      "File \u001b[0;32m/uscms_data/d3/rkansal/mambaforge/envs/python39/lib/python3.9/site-packages/awkward/highlevel.py:1434\u001b[0m, in \u001b[0;36mArray.__array_function__\u001b[0;34m(self, func, types, args, kwargs)\u001b[0m\n\u001b[1;32m   1417\u001b[0m \u001b[39mdef\u001b[39;00m \u001b[39m__array_function__\u001b[39m(\u001b[39mself\u001b[39m, func, types, args, kwargs):\n\u001b[1;32m   1418\u001b[0m     \u001b[39m\"\"\"\u001b[39;00m\n\u001b[1;32m   1419\u001b[0m \u001b[39m    Intercepts attempts to pass this Array to those NumPy functions other\u001b[39;00m\n\u001b[1;32m   1420\u001b[0m \u001b[39m    than universal functions that have an Awkward equivalent.\u001b[39;00m\n\u001b[0;32m   (...)\u001b[0m\n\u001b[1;32m   1432\u001b[0m \u001b[39m    See also #__array_ufunc__.\u001b[39;00m\n\u001b[1;32m   1433\u001b[0m \u001b[39m    \"\"\"\u001b[39;00m\n\u001b[0;32m-> 1434\u001b[0m     \u001b[39mreturn\u001b[39;00m ak\u001b[39m.\u001b[39;49m_connect\u001b[39m.\u001b[39;49m_numpy\u001b[39m.\u001b[39;49marray_function(func, types, args, kwargs)\n",
      "File \u001b[0;32m/uscms_data/d3/rkansal/mambaforge/envs/python39/lib/python3.9/site-packages/awkward/_connect/_numpy.py:34\u001b[0m, in \u001b[0;36marray_function\u001b[0;34m(func, types, args, kwargs)\u001b[0m\n\u001b[1;32m     32\u001b[0m function \u001b[39m=\u001b[39m implemented\u001b[39m.\u001b[39mget(func)\n\u001b[1;32m     33\u001b[0m \u001b[39mif\u001b[39;00m function \u001b[39mis\u001b[39;00m \u001b[39mNone\u001b[39;00m:\n\u001b[0;32m---> 34\u001b[0m     args \u001b[39m=\u001b[39m \u001b[39mtuple\u001b[39;49m(_to_rectilinear(x) \u001b[39mfor\u001b[39;49;00m x \u001b[39min\u001b[39;49;00m args)\n\u001b[1;32m     35\u001b[0m     kwargs \u001b[39m=\u001b[39m {k: _to_rectilinear(v) \u001b[39mfor\u001b[39;00m k, v \u001b[39min\u001b[39;00m kwargs\u001b[39m.\u001b[39mitems()}\n\u001b[1;32m     36\u001b[0m     out \u001b[39m=\u001b[39m func(\u001b[39m*\u001b[39margs, \u001b[39m*\u001b[39m\u001b[39m*\u001b[39mkwargs)\n",
      "File \u001b[0;32m/uscms_data/d3/rkansal/mambaforge/envs/python39/lib/python3.9/site-packages/awkward/_connect/_numpy.py:34\u001b[0m, in \u001b[0;36m<genexpr>\u001b[0;34m(.0)\u001b[0m\n\u001b[1;32m     32\u001b[0m function \u001b[39m=\u001b[39m implemented\u001b[39m.\u001b[39mget(func)\n\u001b[1;32m     33\u001b[0m \u001b[39mif\u001b[39;00m function \u001b[39mis\u001b[39;00m \u001b[39mNone\u001b[39;00m:\n\u001b[0;32m---> 34\u001b[0m     args \u001b[39m=\u001b[39m \u001b[39mtuple\u001b[39m(_to_rectilinear(x) \u001b[39mfor\u001b[39;00m x \u001b[39min\u001b[39;00m args)\n\u001b[1;32m     35\u001b[0m     kwargs \u001b[39m=\u001b[39m {k: _to_rectilinear(v) \u001b[39mfor\u001b[39;00m k, v \u001b[39min\u001b[39;00m kwargs\u001b[39m.\u001b[39mitems()}\n\u001b[1;32m     36\u001b[0m     out \u001b[39m=\u001b[39m func(\u001b[39m*\u001b[39margs, \u001b[39m*\u001b[39m\u001b[39m*\u001b[39mkwargs)\n",
      "File \u001b[0;32m/uscms_data/d3/rkansal/mambaforge/envs/python39/lib/python3.9/site-packages/awkward/_connect/_numpy.py:26\u001b[0m, in \u001b[0;36m_to_rectilinear\u001b[0;34m(arg)\u001b[0m\n\u001b[1;32m     24\u001b[0m \u001b[39mif\u001b[39;00m \u001b[39misinstance\u001b[39m(arg, Iterable):\n\u001b[1;32m     25\u001b[0m     nplike \u001b[39m=\u001b[39m ak\u001b[39m.\u001b[39mnplike\u001b[39m.\u001b[39mof(arg)\n\u001b[0;32m---> 26\u001b[0m     \u001b[39mreturn\u001b[39;00m nplike\u001b[39m.\u001b[39;49mto_rectilinear(arg, allow_missing\u001b[39m=\u001b[39;49m\u001b[39mFalse\u001b[39;49;00m)\n\u001b[1;32m     27\u001b[0m \u001b[39melse\u001b[39;00m:\n\u001b[1;32m     28\u001b[0m     \u001b[39mreturn\u001b[39;00m arg\n",
      "File \u001b[0;32m/uscms_data/d3/rkansal/mambaforge/envs/python39/lib/python3.9/site-packages/awkward/nplike.py:483\u001b[0m, in \u001b[0;36mNumpy.to_rectilinear\u001b[0;34m(self, array, *args, **kwargs)\u001b[0m\n\u001b[1;32m    480\u001b[0m     \u001b[39mreturn\u001b[39;00m ak\u001b[39m.\u001b[39moperations\u001b[39m.\u001b[39mconvert\u001b[39m.\u001b[39mto_numpy(array, \u001b[39m*\u001b[39margs, \u001b[39m*\u001b[39m\u001b[39m*\u001b[39mkwargs)\n\u001b[1;32m    482\u001b[0m \u001b[39melif\u001b[39;00m \u001b[39misinstance\u001b[39m(array, Iterable):\n\u001b[0;32m--> 483\u001b[0m     \u001b[39mreturn\u001b[39;00m [\u001b[39mself\u001b[39m\u001b[39m.\u001b[39mto_rectilinear(x, \u001b[39m*\u001b[39margs, \u001b[39m*\u001b[39m\u001b[39m*\u001b[39mkwargs) \u001b[39mfor\u001b[39;00m x \u001b[39min\u001b[39;00m array]\n\u001b[1;32m    485\u001b[0m \u001b[39melse\u001b[39;00m:\n\u001b[1;32m    486\u001b[0m     \u001b[39mraise\u001b[39;00m \u001b[39mTypeError\u001b[39;00m(\u001b[39m\"\u001b[39m\u001b[39mto_rectilinear argument must be iterable\u001b[39m\u001b[39m\"\u001b[39m)\n",
      "File \u001b[0;32m/uscms_data/d3/rkansal/mambaforge/envs/python39/lib/python3.9/site-packages/awkward/nplike.py:483\u001b[0m, in \u001b[0;36m<listcomp>\u001b[0;34m(.0)\u001b[0m\n\u001b[1;32m    480\u001b[0m     \u001b[39mreturn\u001b[39;00m ak\u001b[39m.\u001b[39moperations\u001b[39m.\u001b[39mconvert\u001b[39m.\u001b[39mto_numpy(array, \u001b[39m*\u001b[39margs, \u001b[39m*\u001b[39m\u001b[39m*\u001b[39mkwargs)\n\u001b[1;32m    482\u001b[0m \u001b[39melif\u001b[39;00m \u001b[39misinstance\u001b[39m(array, Iterable):\n\u001b[0;32m--> 483\u001b[0m     \u001b[39mreturn\u001b[39;00m [\u001b[39mself\u001b[39;49m\u001b[39m.\u001b[39;49mto_rectilinear(x, \u001b[39m*\u001b[39;49margs, \u001b[39m*\u001b[39;49m\u001b[39m*\u001b[39;49mkwargs) \u001b[39mfor\u001b[39;00m x \u001b[39min\u001b[39;00m array]\n\u001b[1;32m    485\u001b[0m \u001b[39melse\u001b[39;00m:\n\u001b[1;32m    486\u001b[0m     \u001b[39mraise\u001b[39;00m \u001b[39mTypeError\u001b[39;00m(\u001b[39m\"\u001b[39m\u001b[39mto_rectilinear argument must be iterable\u001b[39m\u001b[39m\"\u001b[39m)\n",
      "File \u001b[0;32m/uscms_data/d3/rkansal/mambaforge/envs/python39/lib/python3.9/site-packages/awkward/nplike.py:486\u001b[0m, in \u001b[0;36mNumpy.to_rectilinear\u001b[0;34m(self, array, *args, **kwargs)\u001b[0m\n\u001b[1;32m    483\u001b[0m     \u001b[39mreturn\u001b[39;00m [\u001b[39mself\u001b[39m\u001b[39m.\u001b[39mto_rectilinear(x, \u001b[39m*\u001b[39margs, \u001b[39m*\u001b[39m\u001b[39m*\u001b[39mkwargs) \u001b[39mfor\u001b[39;00m x \u001b[39min\u001b[39;00m array]\n\u001b[1;32m    485\u001b[0m \u001b[39melse\u001b[39;00m:\n\u001b[0;32m--> 486\u001b[0m     \u001b[39mraise\u001b[39;00m \u001b[39mTypeError\u001b[39;00m(\u001b[39m\"\u001b[39m\u001b[39mto_rectilinear argument must be iterable\u001b[39m\u001b[39m\"\u001b[39m)\n",
      "\u001b[0;31mTypeError\u001b[0m: to_rectilinear argument must be iterable"
     ]
    }
   ],
   "source": [
    "np.searchsorted([0, 1, 2], ldsf.kt, side=\"right\")"
   ]
  },
  {
   "cell_type": "code",
   "execution_count": 74,
   "metadata": {},
   "outputs": [
    {
     "ename": "ValueError",
     "evalue": "in ListOffsetArray64, cannot convert to RegularArray because subarray lengths are not regular\n\n(https://github.com/scikit-hep/awkward-1.0/blob/1.10.2/src/cpu-kernels/awkward_ListOffsetArray_toRegularArray.cpp#L22)",
     "output_type": "error",
     "traceback": [
      "\u001b[0;31m---------------------------------------------------------------------------\u001b[0m",
      "\u001b[0;31mValueError\u001b[0m                                Traceback (most recent call last)",
      "Cell \u001b[0;32mIn [74], line 1\u001b[0m\n\u001b[0;32m----> 1\u001b[0m ldsf\u001b[39m.\u001b[39;49mkt\u001b[39m.\u001b[39;49mto_numpy()\n",
      "File \u001b[0;32m/uscms_data/d3/rkansal/mambaforge/envs/python39/lib/python3.9/site-packages/awkward/highlevel.py:464\u001b[0m, in \u001b[0;36mArray.to_numpy\u001b[0;34m(self, allow_missing)\u001b[0m\n\u001b[1;32m    460\u001b[0m \u001b[39mdef\u001b[39;00m \u001b[39mto_numpy\u001b[39m(\u001b[39mself\u001b[39m, allow_missing\u001b[39m=\u001b[39m\u001b[39mTrue\u001b[39;00m):\n\u001b[1;32m    461\u001b[0m     \u001b[39m\"\"\"\u001b[39;00m\n\u001b[1;32m    462\u001b[0m \u001b[39m    Converts this Array into a NumPy array, if possible; same as #ak.to_numpy.\u001b[39;00m\n\u001b[1;32m    463\u001b[0m \u001b[39m    \"\"\"\u001b[39;00m\n\u001b[0;32m--> 464\u001b[0m     \u001b[39mreturn\u001b[39;00m ak\u001b[39m.\u001b[39;49moperations\u001b[39m.\u001b[39;49mconvert\u001b[39m.\u001b[39;49mto_numpy(\u001b[39mself\u001b[39;49m, allow_missing\u001b[39m=\u001b[39;49mallow_missing)\n",
      "File \u001b[0;32m/uscms_data/d3/rkansal/mambaforge/envs/python39/lib/python3.9/site-packages/awkward/operations/convert.py:196\u001b[0m, in \u001b[0;36mto_numpy\u001b[0;34m(array, allow_missing)\u001b[0m\n\u001b[1;32m    193\u001b[0m     \u001b[39mreturn\u001b[39;00m array\n\u001b[1;32m    195\u001b[0m \u001b[39melif\u001b[39;00m \u001b[39misinstance\u001b[39m(array, ak\u001b[39m.\u001b[39mhighlevel\u001b[39m.\u001b[39mArray):\n\u001b[0;32m--> 196\u001b[0m     \u001b[39mreturn\u001b[39;00m to_numpy(array\u001b[39m.\u001b[39;49mlayout, allow_missing\u001b[39m=\u001b[39;49mallow_missing)\n\u001b[1;32m    198\u001b[0m \u001b[39melif\u001b[39;00m \u001b[39misinstance\u001b[39m(array, ak\u001b[39m.\u001b[39mhighlevel\u001b[39m.\u001b[39mRecord):\n\u001b[1;32m    199\u001b[0m     out \u001b[39m=\u001b[39m array\u001b[39m.\u001b[39mlayout\n",
      "File \u001b[0;32m/uscms_data/d3/rkansal/mambaforge/envs/python39/lib/python3.9/site-packages/awkward/operations/convert.py:324\u001b[0m, in \u001b[0;36mto_numpy\u001b[0;34m(array, allow_missing)\u001b[0m\n\u001b[1;32m    321\u001b[0m     \u001b[39mreturn\u001b[39;00m out[: shape[\u001b[39m0\u001b[39m] \u001b[39m*\u001b[39m array\u001b[39m.\u001b[39msize]\u001b[39m.\u001b[39mreshape(shape)\n\u001b[1;32m    323\u001b[0m \u001b[39melif\u001b[39;00m \u001b[39misinstance\u001b[39m(array, ak\u001b[39m.\u001b[39m_util\u001b[39m.\u001b[39mlisttypes):\n\u001b[0;32m--> 324\u001b[0m     \u001b[39mreturn\u001b[39;00m to_numpy(array\u001b[39m.\u001b[39;49mtoRegularArray(), allow_missing\u001b[39m=\u001b[39mallow_missing)\n\u001b[1;32m    326\u001b[0m \u001b[39melif\u001b[39;00m \u001b[39misinstance\u001b[39m(array, ak\u001b[39m.\u001b[39m_util\u001b[39m.\u001b[39mrecordtypes):\n\u001b[1;32m    327\u001b[0m     \u001b[39mif\u001b[39;00m array\u001b[39m.\u001b[39mnumfields \u001b[39m==\u001b[39m \u001b[39m0\u001b[39m:\n",
      "\u001b[0;31mValueError\u001b[0m: in ListOffsetArray64, cannot convert to RegularArray because subarray lengths are not regular\n\n(https://github.com/scikit-hep/awkward-1.0/blob/1.10.2/src/cpu-kernels/awkward_ListOffsetArray_toRegularArray.cpp#L22)"
     ]
    }
   ],
   "source": []
  },
  {
   "cell_type": "code",
   "execution_count": 69,
   "metadata": {},
   "outputs": [],
   "source": [
    "ldsf = ak.flatten(lds, axis=1)"
   ]
  },
  {
   "cell_type": "code",
   "execution_count": null,
   "metadata": {},
   "outputs": [],
   "source": []
  },
  {
   "cell_type": "code",
   "execution_count": 62,
   "metadata": {},
   "outputs": [
    {
     "data": {
      "text/plain": [
       "<Array [[[{Delta: 0.255, ... kt: 0.0205}]]] type='3192 * var * var * {\"Delta\": f...'>"
      ]
     },
     "execution_count": 62,
     "metadata": {},
     "output_type": "execute_result"
    }
   ],
   "source": [
    "lds"
   ]
  },
  {
   "cell_type": "code",
   "execution_count": null,
   "metadata": {},
   "outputs": [],
   "source": []
  }
 ],
 "metadata": {
  "kernelspec": {
   "display_name": "Python 3.9.13 ('python39')",
   "language": "python",
   "name": "python3"
  },
  "language_info": {
   "codemirror_mode": {
    "name": "ipython",
    "version": 3
   },
   "file_extension": ".py",
   "mimetype": "text/x-python",
   "name": "python",
   "nbconvert_exporter": "python",
   "pygments_lexer": "ipython3",
   "version": "3.9.13"
  },
  "orig_nbformat": 4,
  "vscode": {
   "interpreter": {
    "hash": "97945cf51fa9329485ff18a323f15de773e96042f2923ba7c13467944fb10638"
   }
  }
 },
 "nbformat": 4,
 "nbformat_minor": 2
}
