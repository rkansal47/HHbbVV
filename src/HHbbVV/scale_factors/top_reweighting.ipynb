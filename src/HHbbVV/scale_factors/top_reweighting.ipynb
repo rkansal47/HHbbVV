{
 "cells": [
  {
   "cell_type": "code",
   "execution_count": 6,
   "metadata": {},
   "outputs": [],
   "source": [
    "import uproot\n",
    "import awkward as ak\n",
    "from coffea import nanoevents\n",
    "from coffea.nanoevents.methods.base import NanoEventsArray\n",
    "from coffea.analysis_tools import PackedSelection\n",
    "\n",
    "import pickle\n",
    "import numpy as np\n",
    "\n",
    "from typing import Optional, List, Dict\n",
    "from copy import copy\n",
    "\n",
    "import matplotlib.pyplot as plt\n",
    "import mplhep as hep\n",
    "from matplotlib import colors\n",
    "\n",
    "from tqdm import tqdm\n",
    "import fastjet\n",
    "import jetnet\n",
    "import vector\n",
    "\n",
    "import os\n"
   ]
  },
  {
   "cell_type": "code",
   "execution_count": 2,
   "metadata": {},
   "outputs": [],
   "source": [
    "plot_dir = \"../../../plots/ScaleFactors/Nov14/\"\n",
    "_ = os.system(f\"mkdir -p {plot_dir}\")\n"
   ]
  },
  {
   "cell_type": "code",
   "execution_count": 3,
   "metadata": {},
   "outputs": [
    {
     "name": "stderr",
     "output_type": "stream",
     "text": [
      "/uscms_data/d3/rkansal/mambaforge/envs/python39/lib/python3.9/site-packages/coffea/nanoevents/mapping/uproot.py:75: UserWarning: Found duplicate branch FatJetAK15SubJet_nBHadrons in <TTree 'Events' (1950 branches) at 0x7fcfe2495220>, taking first instance\n",
      "  warnings.warn(\n",
      "/uscms_data/d3/rkansal/mambaforge/envs/python39/lib/python3.9/site-packages/coffea/nanoevents/mapping/uproot.py:75: UserWarning: Found duplicate branch FatJetAK15SubJet_nCHadrons in <TTree 'Events' (1950 branches) at 0x7fcfe2495220>, taking first instance\n",
      "  warnings.warn(\n",
      "/uscms_data/d3/rkansal/mambaforge/envs/python39/lib/python3.9/site-packages/coffea/nanoevents/mapping/uproot.py:75: UserWarning: Found duplicate branch FatJetAK15_nBHadrons in <TTree 'Events' (1950 branches) at 0x7fcfe2495220>, taking first instance\n",
      "  warnings.warn(\n",
      "/uscms_data/d3/rkansal/mambaforge/envs/python39/lib/python3.9/site-packages/coffea/nanoevents/mapping/uproot.py:75: UserWarning: Found duplicate branch FatJetAK15_nCHadrons in <TTree 'Events' (1950 branches) at 0x7fcfe2495220>, taking first instance\n",
      "  warnings.warn(\n",
      "/uscms_data/d3/rkansal/mambaforge/envs/python39/lib/python3.9/site-packages/coffea/nanoevents/mapping/uproot.py:75: UserWarning: Found duplicate branch FatJet_btagDDBvLV2 in <TTree 'Events' (1950 branches) at 0x7fcfe2495220>, taking first instance\n",
      "  warnings.warn(\n",
      "/uscms_data/d3/rkansal/mambaforge/envs/python39/lib/python3.9/site-packages/coffea/nanoevents/mapping/uproot.py:75: UserWarning: Found duplicate branch FatJet_btagDDCvBV2 in <TTree 'Events' (1950 branches) at 0x7fcfe2495220>, taking first instance\n",
      "  warnings.warn(\n",
      "/uscms_data/d3/rkansal/mambaforge/envs/python39/lib/python3.9/site-packages/coffea/nanoevents/mapping/uproot.py:75: UserWarning: Found duplicate branch FatJet_btagDDCvLV2 in <TTree 'Events' (1950 branches) at 0x7fcfe2495220>, taking first instance\n",
      "  warnings.warn(\n",
      "/uscms_data/d3/rkansal/mambaforge/envs/python39/lib/python3.9/site-packages/coffea/nanoevents/mapping/uproot.py:75: UserWarning: Found duplicate branch FatJet_nBHadrons in <TTree 'Events' (1950 branches) at 0x7fcfe2495220>, taking first instance\n",
      "  warnings.warn(\n",
      "/uscms_data/d3/rkansal/mambaforge/envs/python39/lib/python3.9/site-packages/coffea/nanoevents/mapping/uproot.py:75: UserWarning: Found duplicate branch FatJet_nCHadrons in <TTree 'Events' (1950 branches) at 0x7fcfe2495220>, taking first instance\n",
      "  warnings.warn(\n",
      "/uscms_data/d3/rkansal/mambaforge/envs/python39/lib/python3.9/site-packages/coffea/nanoevents/mapping/uproot.py:75: UserWarning: Found duplicate branch SubJet_nBHadrons in <TTree 'Events' (1950 branches) at 0x7fcfe2495220>, taking first instance\n",
      "  warnings.warn(\n",
      "/uscms_data/d3/rkansal/mambaforge/envs/python39/lib/python3.9/site-packages/coffea/nanoevents/mapping/uproot.py:75: UserWarning: Found duplicate branch SubJet_nCHadrons in <TTree 'Events' (1950 branches) at 0x7fcfe2495220>, taking first instance\n",
      "  warnings.warn(\n"
     ]
    }
   ],
   "source": [
    "events = nanoevents.NanoEventsFactory.from_root(\n",
    "    # \"/eos/uscms/store/user/lpcpfnano/cmantill/v2_3/2017/HH_gen/GluGluToHHTobbVV_node_cHHH1_TuneCP5_13TeV-powheg-pythia8/GluGluToHHTobbVV_node_cHHH1/221017_221918/0000/nano_mc2017_100.root\",\n",
    "    \"/eos/uscms/store/user/lpcpfnano/drankin/v2_2/2017/TTbar/TTToSemiLeptonic_TuneCP5_13TeV-powheg-pythia8/TTToSemiLeptonic_ext1/211112_132937/0000/nano_mc2017_100.root\",\n",
    "    schemaclass=nanoevents.NanoAODSchema,\n",
    ").events()\n"
   ]
  },
  {
   "cell_type": "markdown",
   "metadata": {},
   "source": [
    "### Boosted Top Pre-selection\n",
    "\n",
    "Based on selection in https://indico.cern.ch/event/1208247/#10-lund-plane-reweighting-for"
   ]
  },
  {
   "cell_type": "code",
   "execution_count": 97,
   "metadata": {},
   "outputs": [],
   "source": [
    "def pad_val(\n",
    "    arr: ak.Array,\n",
    "    target: int,\n",
    "    value: float,\n",
    "    axis: int = 0,\n",
    "    to_numpy: bool = True,\n",
    "    clip: bool = True,\n",
    "):\n",
    "    \"\"\"\n",
    "    pads awkward array up to ``target`` index along axis ``axis`` with value ``value``,\n",
    "    optionally converts to numpy array\n",
    "    \"\"\"\n",
    "    ret = ak.fill_none(ak.pad_none(arr, target, axis=axis, clip=clip), value, axis=axis)\n",
    "    return ret.to_numpy() if to_numpy else ret\n",
    "\n",
    "\n",
    "def add_selection(\n",
    "    name: str,\n",
    "    sel: np.ndarray,\n",
    "    selection: PackedSelection,\n",
    "    cutflow: dict = None,\n",
    "    isData: bool = False,\n",
    "    signGenWeights: ak.Array = None,\n",
    "):\n",
    "    \"\"\"adds selection to PackedSelection object and the cutflow dictionary\"\"\"\n",
    "    selection.add(name, sel)\n",
    "    if cutflow is not None:\n",
    "        cutflow[name] = (\n",
    "            np.sum(selection.all(*selection.names))\n",
    "            if isData\n",
    "            # add up sign of genWeights for MC\n",
    "            else np.sum(signGenWeights[selection.all(*selection.names)])\n",
    "        )\n",
    "\n",
    "\n",
    "preselection_cut_vals = {\"pt\": 250, \"msd\": 20}\n",
    "num_jets = 1\n",
    "\n",
    "preselection_cut = np.prod(\n",
    "    pad_val(\n",
    "        (events.FatJet.pt > preselection_cut_vals[\"pt\"])\n",
    "        * (events.FatJet.msoftdrop > preselection_cut_vals[\"msd\"]),\n",
    "        num_jets,\n",
    "        False,\n",
    "        axis=1,\n",
    "    ),\n",
    "    axis=1,\n",
    ").astype(bool)\n",
    "\n",
    "presel_events = events[preselection_cut]\n"
   ]
  },
  {
   "cell_type": "code",
   "execution_count": 29,
   "metadata": {},
   "outputs": [],
   "source": [
    "isData = False\n",
    "signGenWeights = None if isData else np.sign(presel_events[\"genWeight\"])\n",
    "n_events = len(presel_events) if isData else int(np.sum(signGenWeights))\n",
    "selection = PackedSelection()\n",
    "\n",
    "cutflow = {}\n",
    "cutflow[\"presel\"] = len(presel_events)"
   ]
  },
  {
   "cell_type": "code",
   "execution_count": 8,
   "metadata": {},
   "outputs": [],
   "source": [
    "d_PDGID = 1\n",
    "b_PDGID = 5\n",
    "g_PDGID = 21\n",
    "TOP_PDGID = 6\n",
    "\n",
    "ELE_PDGID = 11\n",
    "vELE_PDGID = 12\n",
    "MU_PDGID = 13\n",
    "vMU_PDGID = 14\n",
    "TAU_PDGID = 15\n",
    "vTAU_PDGID = 16\n",
    "\n",
    "Z_PDGID = 23\n",
    "W_PDGID = 24\n",
    "HIGGS_PDGID = 25\n",
    "\n",
    "b_PDGIDS = [511, 521, 523]\n",
    "\n",
    "GRAV_PDGID = 39\n",
    "\n",
    "GEN_FLAGS = [\"fromHardProcess\", \"isLastCopy\"]\n",
    "\n",
    "FILL_NONE_VALUE = -99999\n",
    "\n",
    "\n",
    "skim_vars = {\n",
    "    \"eta\": \"eta\",\n",
    "    \"phi\": \"phi\",\n",
    "    \"mass\": \"mass\",\n",
    "    \"pt\": \"pt\",\n",
    "}\n",
    "\n",
    "# finding the two gen tops\n",
    "tops = presel_events.GenPart[\n",
    "    (abs(presel_events.GenPart.pdgId) == TOP_PDGID) * presel_events.GenPart.hasFlags(GEN_FLAGS)\n",
    "]"
   ]
  },
  {
   "cell_type": "code",
   "execution_count": 59,
   "metadata": {},
   "outputs": [],
   "source": [
    "deltaR = 0.8"
   ]
  },
  {
   "cell_type": "code",
   "execution_count": 67,
   "metadata": {},
   "outputs": [],
   "source": [
    "tops_children = tops.distinctChildren\n",
    "tops_children = tops_children[tops_children.hasFlags(GEN_FLAGS)]\n",
    "ws = ak.flatten(tops_children[np.abs(tops_children.pdgId) == W_PDGID], axis=2)\n",
    "had_top_sel = np.all(np.abs(ws.children.pdgId) <= 5, axis=2)\n",
    "had_ws = ak.flatten(ws[had_top_sel])\n",
    "had_tops = ak.flatten(tops[had_top_sel])\n",
    "had_top_children = ak.flatten(tops_children[had_top_sel], axis=1)\n",
    "had_bs = had_top_children[np.abs(had_top_children.pdgId) == 5]\n",
    "add_selection(\"hadronic bs\", np.any(had_bs.pdgId, axis=1), selection, cutflow, isData, signGenWeights)\n"
   ]
  },
  {
   "cell_type": "code",
   "execution_count": 100,
   "metadata": {},
   "outputs": [],
   "source": [
    "had_w_jet_match = ak.all(had_ws.children.delta_r(presel_events.FatJet[:, 0]) < deltaR, axis=1)\n",
    "had_b_jet_match = ak.flatten(pad_val(had_bs.delta_r(presel_events.FatJet[:, 0]) < deltaR, 1, False, axis=1, to_numpy=False))"
   ]
  },
  {
   "cell_type": "code",
   "execution_count": 91,
   "metadata": {},
   "outputs": [
    {
     "data": {
      "text/plain": [
       "<Array [[True], [False], ... [False], [False]] type='12352 * option[var * ?bool]'>"
      ]
     },
     "execution_count": 91,
     "metadata": {},
     "output_type": "execute_result"
    }
   ],
   "source": [
    "had_bs.delta_r(presel_events.FatJet[:, 0]) < deltaR"
   ]
  },
  {
   "cell_type": "code",
   "execution_count": 99,
   "metadata": {},
   "outputs": [
    {
     "data": {
      "text/plain": [
       "<Array [True, False, False, ... False, False] type='12352 * bool'>"
      ]
     },
     "execution_count": 99,
     "metadata": {},
     "output_type": "execute_result"
    }
   ],
   "source": [
    "ak.flatten(pad_val(had_bs.delta_r(presel_events.FatJet[:, 0]) < deltaR, 1, False, axis=1, to_numpy=False))"
   ]
  },
  {
   "cell_type": "code",
   "execution_count": null,
   "metadata": {},
   "outputs": [],
   "source": []
  },
  {
   "cell_type": "code",
   "execution_count": 89,
   "metadata": {},
   "outputs": [
    {
     "data": {
      "text/plain": [
       "<Array [[True], [False], ... [False], [False]] type='12352 * union[1 * bool, bool]'>"
      ]
     },
     "execution_count": 89,
     "metadata": {},
     "output_type": "execute_result"
    }
   ],
   "source": [
    "ak.flatten(pad_val(had_bs.delta_r(presel_events.FatJet[:, 0]) < deltaR, 1, False, axis=1, to_numpy=False), axis=0)"
   ]
  },
  {
   "cell_type": "code",
   "execution_count": 65,
   "metadata": {},
   "outputs": [],
   "source": [
    "unmatched_selection = PackedSelection()"
   ]
  },
  {
   "cell_type": "code",
   "execution_count": 66,
   "metadata": {},
   "outputs": [],
   "source": [
    "had_top_jet_match = presel_events.FatJet[:, 0].delta_r(hadronic_tops) < deltaR\n",
    "add_selection(\"jet not matched\", ~had_top_jet_match, unmatched_selection)"
   ]
  },
  {
   "cell_type": "code",
   "execution_count": null,
   "metadata": {},
   "outputs": [],
   "source": []
  },
  {
   "cell_type": "code",
   "execution_count": 63,
   "metadata": {},
   "outputs": [
    {
     "data": {
      "text/plain": [
       "7850"
      ]
     },
     "execution_count": 63,
     "metadata": {},
     "output_type": "execute_result"
    }
   ],
   "source": [
    "np.sum(presel_events.FatJet[:, 0].delta_r(hadronic_tops) < deltaR)"
   ]
  },
  {
   "cell_type": "code",
   "execution_count": 41,
   "metadata": {},
   "outputs": [
    {
     "data": {
      "text/plain": [
       "<Array [[380], [261, 196, ... 218], [308, 189]] type='12352 * var * float32[para...'>"
      ]
     },
     "execution_count": 41,
     "metadata": {},
     "output_type": "execute_result"
    }
   ],
   "source": [
    "presel_events.FatJet.pt"
   ]
  },
  {
   "cell_type": "code",
   "execution_count": 40,
   "metadata": {},
   "outputs": [
    {
     "ename": "ValueError",
     "evalue": "in ListOffsetArray64, cannot broadcast nested list\n\n(https://github.com/scikit-hep/awkward-1.0/blob/1.10.2/src/cpu-kernels/awkward_ListArray_broadcast_tooffsets.cpp#L27)",
     "output_type": "error",
     "traceback": [
      "\u001b[0;31m---------------------------------------------------------------------------\u001b[0m",
      "\u001b[0;31mValueError\u001b[0m                                Traceback (most recent call last)",
      "Cell \u001b[0;32mIn [40], line 1\u001b[0m\n\u001b[0;32m----> 1\u001b[0m presel_events\u001b[39m.\u001b[39;49mFatJet\u001b[39m.\u001b[39;49mdelta_r(had_bs)\n",
      "File \u001b[0;32m/uscms_data/d3/rkansal/mambaforge/envs/python39/lib/python3.9/site-packages/coffea/nanoevents/methods/vector.py:606\u001b[0m, in \u001b[0;36mLorentzVector.delta_r\u001b[0;34m(self, other)\u001b[0m\n\u001b[1;32m    601\u001b[0m \u001b[39mdef\u001b[39;00m \u001b[39mdelta_r\u001b[39m(\u001b[39mself\u001b[39m, other):\n\u001b[1;32m    602\u001b[0m     \u001b[39mr\u001b[39m\u001b[39m\"\"\"Distance between two Lorentz vectors in (eta,phi) plane\u001b[39;00m\n\u001b[1;32m    603\u001b[0m \n\u001b[1;32m    604\u001b[0m \u001b[39m    :math:`\\sqrt{\\Delta\\eta^2 + \\Delta\\phi^2}`\u001b[39;00m\n\u001b[1;32m    605\u001b[0m \u001b[39m    \"\"\"\u001b[39;00m\n\u001b[0;32m--> 606\u001b[0m     \u001b[39mreturn\u001b[39;00m numpy\u001b[39m.\u001b[39mhypot(\u001b[39mself\u001b[39;49m\u001b[39m.\u001b[39;49meta \u001b[39m-\u001b[39;49m other\u001b[39m.\u001b[39;49meta, \u001b[39mself\u001b[39m\u001b[39m.\u001b[39mdelta_phi(other))\n",
      "File \u001b[0;32m/uscms_data/d3/rkansal/mambaforge/envs/python39/lib/python3.9/site-packages/numpy/lib/mixins.py:21\u001b[0m, in \u001b[0;36m_binary_method.<locals>.func\u001b[0;34m(self, other)\u001b[0m\n\u001b[1;32m     19\u001b[0m \u001b[39mif\u001b[39;00m _disables_array_ufunc(other):\n\u001b[1;32m     20\u001b[0m     \u001b[39mreturn\u001b[39;00m \u001b[39mNotImplemented\u001b[39m\n\u001b[0;32m---> 21\u001b[0m \u001b[39mreturn\u001b[39;00m ufunc(\u001b[39mself\u001b[39;49m, other)\n",
      "File \u001b[0;32m/uscms_data/d3/rkansal/mambaforge/envs/python39/lib/python3.9/site-packages/awkward/highlevel.py:1411\u001b[0m, in \u001b[0;36mArray.__array_ufunc__\u001b[0;34m(self, ufunc, method, *inputs, **kwargs)\u001b[0m\n\u001b[1;32m   1354\u001b[0m \u001b[39m\"\"\"\u001b[39;00m\n\u001b[1;32m   1355\u001b[0m \u001b[39mIntercepts attempts to pass this Array to a NumPy\u001b[39;00m\n\u001b[1;32m   1356\u001b[0m \u001b[39m[universal functions](https://docs.scipy.org/doc/numpy/reference/ufuncs.html)\u001b[39;00m\n\u001b[0;32m   (...)\u001b[0m\n\u001b[1;32m   1408\u001b[0m \u001b[39mSee also #__array_function__.\u001b[39;00m\n\u001b[1;32m   1409\u001b[0m \u001b[39m\"\"\"\u001b[39;00m\n\u001b[1;32m   1410\u001b[0m \u001b[39mif\u001b[39;00m \u001b[39mnot\u001b[39;00m \u001b[39mhasattr\u001b[39m(\u001b[39mself\u001b[39m, \u001b[39m\"\u001b[39m\u001b[39m_tracers\u001b[39m\u001b[39m\"\u001b[39m):\n\u001b[0;32m-> 1411\u001b[0m     \u001b[39mreturn\u001b[39;00m ak\u001b[39m.\u001b[39;49m_connect\u001b[39m.\u001b[39;49m_numpy\u001b[39m.\u001b[39;49marray_ufunc(ufunc, method, inputs, kwargs)\n\u001b[1;32m   1412\u001b[0m \u001b[39melse\u001b[39;00m:\n\u001b[1;32m   1413\u001b[0m     \u001b[39mreturn\u001b[39;00m ak\u001b[39m.\u001b[39m_connect\u001b[39m.\u001b[39m_jax\u001b[39m.\u001b[39mjax_utils\u001b[39m.\u001b[39marray_ufunc(\n\u001b[1;32m   1414\u001b[0m         \u001b[39mself\u001b[39m, ufunc, method, inputs, kwargs\n\u001b[1;32m   1415\u001b[0m     )\n",
      "File \u001b[0;32m/uscms_data/d3/rkansal/mambaforge/envs/python39/lib/python3.9/site-packages/awkward/_connect/_numpy.py:250\u001b[0m, in \u001b[0;36marray_ufunc\u001b[0;34m(ufunc, method, inputs, kwargs)\u001b[0m\n\u001b[1;32m    240\u001b[0m         \u001b[39mraise\u001b[39;00m \u001b[39mValueError\u001b[39;00m(\n\u001b[1;32m    241\u001b[0m             \u001b[39m\"\u001b[39m\u001b[39mno overloads for custom types: \u001b[39m\u001b[39m{}\u001b[39;00m\u001b[39m(\u001b[39m\u001b[39m{}\u001b[39;00m\u001b[39m)\u001b[39m\u001b[39m\"\u001b[39m\u001b[39m.\u001b[39mformat(\n\u001b[1;32m    242\u001b[0m                 ufunc\u001b[39m.\u001b[39m\u001b[39m__name__\u001b[39m,\n\u001b[0;32m   (...)\u001b[0m\n\u001b[1;32m    245\u001b[0m             \u001b[39m+\u001b[39m ak\u001b[39m.\u001b[39m_util\u001b[39m.\u001b[39mexception_suffix(\u001b[39m__file__\u001b[39m)\n\u001b[1;32m    246\u001b[0m         )\n\u001b[1;32m    248\u001b[0m     \u001b[39mreturn\u001b[39;00m \u001b[39mNone\u001b[39;00m\n\u001b[0;32m--> 250\u001b[0m out \u001b[39m=\u001b[39m ak\u001b[39m.\u001b[39;49m_util\u001b[39m.\u001b[39;49mbroadcast_and_apply(\n\u001b[1;32m    251\u001b[0m     inputs, getfunction, behavior, allow_records\u001b[39m=\u001b[39;49m\u001b[39mFalse\u001b[39;49;00m, pass_depth\u001b[39m=\u001b[39;49m\u001b[39mFalse\u001b[39;49;00m\n\u001b[1;32m    252\u001b[0m )\n\u001b[1;32m    253\u001b[0m \u001b[39massert\u001b[39;00m \u001b[39misinstance\u001b[39m(out, \u001b[39mtuple\u001b[39m) \u001b[39mand\u001b[39;00m \u001b[39mlen\u001b[39m(out) \u001b[39m==\u001b[39m \u001b[39m1\u001b[39m\n\u001b[1;32m    254\u001b[0m \u001b[39mreturn\u001b[39;00m ak\u001b[39m.\u001b[39m_util\u001b[39m.\u001b[39mwrap(out[\u001b[39m0\u001b[39m], behavior)\n",
      "File \u001b[0;32m/uscms_data/d3/rkansal/mambaforge/envs/python39/lib/python3.9/site-packages/awkward/_util.py:1172\u001b[0m, in \u001b[0;36mbroadcast_and_apply\u001b[0;34m(inputs, getfunction, behavior, allow_records, pass_depth, pass_user, user, left_broadcast, right_broadcast, numpy_to_regular, regular_to_jagged)\u001b[0m\n\u001b[1;32m   1170\u001b[0m \u001b[39melse\u001b[39;00m:\n\u001b[1;32m   1171\u001b[0m     isscalar \u001b[39m=\u001b[39m []\n\u001b[0;32m-> 1172\u001b[0m     out \u001b[39m=\u001b[39m apply(broadcast_pack(inputs, isscalar), \u001b[39m0\u001b[39;49m, user)\n\u001b[1;32m   1173\u001b[0m     \u001b[39massert\u001b[39;00m \u001b[39misinstance\u001b[39m(out, \u001b[39mtuple\u001b[39m)\n\u001b[1;32m   1174\u001b[0m     \u001b[39mreturn\u001b[39;00m \u001b[39mtuple\u001b[39m(broadcast_unpack(x, isscalar) \u001b[39mfor\u001b[39;00m x \u001b[39min\u001b[39;00m out)\n",
      "File \u001b[0;32m/uscms_data/d3/rkansal/mambaforge/envs/python39/lib/python3.9/site-packages/awkward/_util.py:925\u001b[0m, in \u001b[0;36mbroadcast_and_apply.<locals>.apply\u001b[0;34m(inputs, depth, user)\u001b[0m\n\u001b[1;32m    922\u001b[0m     \u001b[39melse\u001b[39;00m:\n\u001b[1;32m    923\u001b[0m         nextinputs\u001b[39m.\u001b[39mappend(x)\n\u001b[0;32m--> 925\u001b[0m outcontent \u001b[39m=\u001b[39m apply(nextinputs, depth \u001b[39m+\u001b[39;49m \u001b[39m1\u001b[39;49m, user)\n\u001b[1;32m    926\u001b[0m \u001b[39massert\u001b[39;00m \u001b[39misinstance\u001b[39m(outcontent, \u001b[39mtuple\u001b[39m)\n\u001b[1;32m    928\u001b[0m length \u001b[39m=\u001b[39m \u001b[39mNone\u001b[39;00m\n",
      "File \u001b[0;32m/uscms_data/d3/rkansal/mambaforge/envs/python39/lib/python3.9/site-packages/awkward/_util.py:782\u001b[0m, in \u001b[0;36mbroadcast_and_apply.<locals>.apply\u001b[0;34m(inputs, depth, user)\u001b[0m\n\u001b[1;32m    780\u001b[0m         \u001b[39melse\u001b[39;00m:\n\u001b[1;32m    781\u001b[0m             nextinputs\u001b[39m.\u001b[39mappend(x)\n\u001b[0;32m--> 782\u001b[0m     \u001b[39mreturn\u001b[39;00m apply(nextinputs, depth, user)\n\u001b[1;32m    784\u001b[0m \u001b[39melif\u001b[39;00m \u001b[39many\u001b[39m(\u001b[39misinstance\u001b[39m(x, uniontypes) \u001b[39mfor\u001b[39;00m x \u001b[39min\u001b[39;00m inputs):\n\u001b[1;32m    785\u001b[0m     tagslist \u001b[39m=\u001b[39m []\n",
      "File \u001b[0;32m/uscms_data/d3/rkansal/mambaforge/envs/python39/lib/python3.9/site-packages/awkward/_util.py:881\u001b[0m, in \u001b[0;36mbroadcast_and_apply.<locals>.apply\u001b[0;34m(inputs, depth, user)\u001b[0m\n\u001b[1;32m    878\u001b[0m     \u001b[39melse\u001b[39;00m:\n\u001b[1;32m    879\u001b[0m         nextinputs\u001b[39m.\u001b[39mappend(x)\n\u001b[0;32m--> 881\u001b[0m outcontent \u001b[39m=\u001b[39m apply(nextinputs, depth, user)\n\u001b[1;32m    882\u001b[0m \u001b[39massert\u001b[39;00m \u001b[39misinstance\u001b[39m(outcontent, \u001b[39mtuple\u001b[39m)\n\u001b[1;32m    883\u001b[0m \u001b[39mreturn\u001b[39;00m \u001b[39mtuple\u001b[39m(\n\u001b[1;32m    884\u001b[0m     ak\u001b[39m.\u001b[39mlayout\u001b[39m.\u001b[39mIndexedOptionArray64(index, x)\u001b[39m.\u001b[39msimplify() \u001b[39mfor\u001b[39;00m x \u001b[39min\u001b[39;00m outcontent\n\u001b[1;32m    885\u001b[0m )\n",
      "File \u001b[0;32m/uscms_data/d3/rkansal/mambaforge/envs/python39/lib/python3.9/site-packages/awkward/_util.py:975\u001b[0m, in \u001b[0;36mbroadcast_and_apply.<locals>.apply\u001b[0;34m(inputs, depth, user)\u001b[0m\n\u001b[1;32m    973\u001b[0m     nextinputs\u001b[39m.\u001b[39mappend(fcn(x, offsets))\n\u001b[1;32m    974\u001b[0m \u001b[39melif\u001b[39;00m \u001b[39misinstance\u001b[39m(x, listtypes):\n\u001b[0;32m--> 975\u001b[0m     nextinputs\u001b[39m.\u001b[39mappend(x\u001b[39m.\u001b[39;49mbroadcast_tooffsets64(offsets)\u001b[39m.\u001b[39mcontent)\n\u001b[1;32m    976\u001b[0m \u001b[39m# handle implicit left-broadcasting (unlike NumPy)\u001b[39;00m\n\u001b[1;32m    977\u001b[0m \u001b[39melif\u001b[39;00m left_broadcast \u001b[39mand\u001b[39;00m \u001b[39misinstance\u001b[39m(x, ak\u001b[39m.\u001b[39mlayout\u001b[39m.\u001b[39mContent):\n",
      "\u001b[0;31mValueError\u001b[0m: in ListOffsetArray64, cannot broadcast nested list\n\n(https://github.com/scikit-hep/awkward-1.0/blob/1.10.2/src/cpu-kernels/awkward_ListArray_broadcast_tooffsets.cpp#L27)"
     ]
    }
   ],
   "source": [
    "presel_events.FatJet.delta_r(had_bs)"
   ]
  },
  {
   "cell_type": "code",
   "execution_count": 46,
   "metadata": {},
   "outputs": [
    {
     "data": {
      "text/plain": [
       "4718"
      ]
     },
     "execution_count": 46,
     "metadata": {},
     "output_type": "execute_result"
    }
   ],
   "source": [
    "np.sum(had_bs.delta_r(presel_events.FatJet[:, 0]) < 0.8)"
   ]
  },
  {
   "cell_type": "code",
   "execution_count": 53,
   "metadata": {},
   "outputs": [
    {
     "data": {
      "text/plain": [
       "1578"
      ]
     },
     "execution_count": 53,
     "metadata": {},
     "output_type": "execute_result"
    }
   ],
   "source": [
    "np.sum(ak.pad_none(presel_events.FatJet, 2, axis=1)[:, 1].delta_r(had_bs) < 1)"
   ]
  },
  {
   "cell_type": "code",
   "execution_count": 47,
   "metadata": {},
   "outputs": [
    {
     "ename": "ValueError",
     "evalue": "no overloads for custom types: less(FatJet, int)\n\n(https://github.com/scikit-hep/awkward-1.0/blob/1.10.2/src/awkward/_connect/_numpy.py#L245)",
     "output_type": "error",
     "traceback": [
      "\u001b[0;31m---------------------------------------------------------------------------\u001b[0m",
      "\u001b[0;31mValueError\u001b[0m                                Traceback (most recent call last)",
      "Cell \u001b[0;32mIn [47], line 1\u001b[0m\n\u001b[0;32m----> 1\u001b[0m had_bs\u001b[39m.\u001b[39mdelta_r(ak\u001b[39m.\u001b[39;49mpad_none(presel_events\u001b[39m.\u001b[39;49mFatJet, \u001b[39m2\u001b[39;49m, axis\u001b[39m=\u001b[39;49m\u001b[39m1\u001b[39;49m)[:, \u001b[39m1\u001b[39;49m] \u001b[39m<\u001b[39;49m \u001b[39m1\u001b[39;49m)\n",
      "File \u001b[0;32m/uscms_data/d3/rkansal/mambaforge/envs/python39/lib/python3.9/site-packages/numpy/lib/mixins.py:21\u001b[0m, in \u001b[0;36m_binary_method.<locals>.func\u001b[0;34m(self, other)\u001b[0m\n\u001b[1;32m     19\u001b[0m \u001b[39mif\u001b[39;00m _disables_array_ufunc(other):\n\u001b[1;32m     20\u001b[0m     \u001b[39mreturn\u001b[39;00m \u001b[39mNotImplemented\u001b[39m\n\u001b[0;32m---> 21\u001b[0m \u001b[39mreturn\u001b[39;00m ufunc(\u001b[39mself\u001b[39;49m, other)\n",
      "File \u001b[0;32m/uscms_data/d3/rkansal/mambaforge/envs/python39/lib/python3.9/site-packages/awkward/highlevel.py:1411\u001b[0m, in \u001b[0;36mArray.__array_ufunc__\u001b[0;34m(self, ufunc, method, *inputs, **kwargs)\u001b[0m\n\u001b[1;32m   1354\u001b[0m \u001b[39m\"\"\"\u001b[39;00m\n\u001b[1;32m   1355\u001b[0m \u001b[39mIntercepts attempts to pass this Array to a NumPy\u001b[39;00m\n\u001b[1;32m   1356\u001b[0m \u001b[39m[universal functions](https://docs.scipy.org/doc/numpy/reference/ufuncs.html)\u001b[39;00m\n\u001b[0;32m   (...)\u001b[0m\n\u001b[1;32m   1408\u001b[0m \u001b[39mSee also #__array_function__.\u001b[39;00m\n\u001b[1;32m   1409\u001b[0m \u001b[39m\"\"\"\u001b[39;00m\n\u001b[1;32m   1410\u001b[0m \u001b[39mif\u001b[39;00m \u001b[39mnot\u001b[39;00m \u001b[39mhasattr\u001b[39m(\u001b[39mself\u001b[39m, \u001b[39m\"\u001b[39m\u001b[39m_tracers\u001b[39m\u001b[39m\"\u001b[39m):\n\u001b[0;32m-> 1411\u001b[0m     \u001b[39mreturn\u001b[39;00m ak\u001b[39m.\u001b[39;49m_connect\u001b[39m.\u001b[39;49m_numpy\u001b[39m.\u001b[39;49marray_ufunc(ufunc, method, inputs, kwargs)\n\u001b[1;32m   1412\u001b[0m \u001b[39melse\u001b[39;00m:\n\u001b[1;32m   1413\u001b[0m     \u001b[39mreturn\u001b[39;00m ak\u001b[39m.\u001b[39m_connect\u001b[39m.\u001b[39m_jax\u001b[39m.\u001b[39mjax_utils\u001b[39m.\u001b[39marray_ufunc(\n\u001b[1;32m   1414\u001b[0m         \u001b[39mself\u001b[39m, ufunc, method, inputs, kwargs\n\u001b[1;32m   1415\u001b[0m     )\n",
      "File \u001b[0;32m/uscms_data/d3/rkansal/mambaforge/envs/python39/lib/python3.9/site-packages/awkward/_connect/_numpy.py:250\u001b[0m, in \u001b[0;36marray_ufunc\u001b[0;34m(ufunc, method, inputs, kwargs)\u001b[0m\n\u001b[1;32m    240\u001b[0m         \u001b[39mraise\u001b[39;00m \u001b[39mValueError\u001b[39;00m(\n\u001b[1;32m    241\u001b[0m             \u001b[39m\"\u001b[39m\u001b[39mno overloads for custom types: \u001b[39m\u001b[39m{}\u001b[39;00m\u001b[39m(\u001b[39m\u001b[39m{}\u001b[39;00m\u001b[39m)\u001b[39m\u001b[39m\"\u001b[39m\u001b[39m.\u001b[39mformat(\n\u001b[1;32m    242\u001b[0m                 ufunc\u001b[39m.\u001b[39m\u001b[39m__name__\u001b[39m,\n\u001b[0;32m   (...)\u001b[0m\n\u001b[1;32m    245\u001b[0m             \u001b[39m+\u001b[39m ak\u001b[39m.\u001b[39m_util\u001b[39m.\u001b[39mexception_suffix(\u001b[39m__file__\u001b[39m)\n\u001b[1;32m    246\u001b[0m         )\n\u001b[1;32m    248\u001b[0m     \u001b[39mreturn\u001b[39;00m \u001b[39mNone\u001b[39;00m\n\u001b[0;32m--> 250\u001b[0m out \u001b[39m=\u001b[39m ak\u001b[39m.\u001b[39;49m_util\u001b[39m.\u001b[39;49mbroadcast_and_apply(\n\u001b[1;32m    251\u001b[0m     inputs, getfunction, behavior, allow_records\u001b[39m=\u001b[39;49m\u001b[39mFalse\u001b[39;49;00m, pass_depth\u001b[39m=\u001b[39;49m\u001b[39mFalse\u001b[39;49;00m\n\u001b[1;32m    252\u001b[0m )\n\u001b[1;32m    253\u001b[0m \u001b[39massert\u001b[39;00m \u001b[39misinstance\u001b[39m(out, \u001b[39mtuple\u001b[39m) \u001b[39mand\u001b[39;00m \u001b[39mlen\u001b[39m(out) \u001b[39m==\u001b[39m \u001b[39m1\u001b[39m\n\u001b[1;32m    254\u001b[0m \u001b[39mreturn\u001b[39;00m ak\u001b[39m.\u001b[39m_util\u001b[39m.\u001b[39mwrap(out[\u001b[39m0\u001b[39m], behavior)\n",
      "File \u001b[0;32m/uscms_data/d3/rkansal/mambaforge/envs/python39/lib/python3.9/site-packages/awkward/_util.py:1172\u001b[0m, in \u001b[0;36mbroadcast_and_apply\u001b[0;34m(inputs, getfunction, behavior, allow_records, pass_depth, pass_user, user, left_broadcast, right_broadcast, numpy_to_regular, regular_to_jagged)\u001b[0m\n\u001b[1;32m   1170\u001b[0m \u001b[39melse\u001b[39;00m:\n\u001b[1;32m   1171\u001b[0m     isscalar \u001b[39m=\u001b[39m []\n\u001b[0;32m-> 1172\u001b[0m     out \u001b[39m=\u001b[39m apply(broadcast_pack(inputs, isscalar), \u001b[39m0\u001b[39;49m, user)\n\u001b[1;32m   1173\u001b[0m     \u001b[39massert\u001b[39;00m \u001b[39misinstance\u001b[39m(out, \u001b[39mtuple\u001b[39m)\n\u001b[1;32m   1174\u001b[0m     \u001b[39mreturn\u001b[39;00m \u001b[39mtuple\u001b[39m(broadcast_unpack(x, isscalar) \u001b[39mfor\u001b[39;00m x \u001b[39min\u001b[39;00m out)\n",
      "File \u001b[0;32m/uscms_data/d3/rkansal/mambaforge/envs/python39/lib/python3.9/site-packages/awkward/_util.py:925\u001b[0m, in \u001b[0;36mbroadcast_and_apply.<locals>.apply\u001b[0;34m(inputs, depth, user)\u001b[0m\n\u001b[1;32m    922\u001b[0m     \u001b[39melse\u001b[39;00m:\n\u001b[1;32m    923\u001b[0m         nextinputs\u001b[39m.\u001b[39mappend(x)\n\u001b[0;32m--> 925\u001b[0m outcontent \u001b[39m=\u001b[39m apply(nextinputs, depth \u001b[39m+\u001b[39;49m \u001b[39m1\u001b[39;49m, user)\n\u001b[1;32m    926\u001b[0m \u001b[39massert\u001b[39;00m \u001b[39misinstance\u001b[39m(outcontent, \u001b[39mtuple\u001b[39m)\n\u001b[1;32m    928\u001b[0m length \u001b[39m=\u001b[39m \u001b[39mNone\u001b[39;00m\n",
      "File \u001b[0;32m/uscms_data/d3/rkansal/mambaforge/envs/python39/lib/python3.9/site-packages/awkward/_util.py:881\u001b[0m, in \u001b[0;36mbroadcast_and_apply.<locals>.apply\u001b[0;34m(inputs, depth, user)\u001b[0m\n\u001b[1;32m    878\u001b[0m     \u001b[39melse\u001b[39;00m:\n\u001b[1;32m    879\u001b[0m         nextinputs\u001b[39m.\u001b[39mappend(x)\n\u001b[0;32m--> 881\u001b[0m outcontent \u001b[39m=\u001b[39m apply(nextinputs, depth, user)\n\u001b[1;32m    882\u001b[0m \u001b[39massert\u001b[39;00m \u001b[39misinstance\u001b[39m(outcontent, \u001b[39mtuple\u001b[39m)\n\u001b[1;32m    883\u001b[0m \u001b[39mreturn\u001b[39;00m \u001b[39mtuple\u001b[39m(\n\u001b[1;32m    884\u001b[0m     ak\u001b[39m.\u001b[39mlayout\u001b[39m.\u001b[39mIndexedOptionArray64(index, x)\u001b[39m.\u001b[39msimplify() \u001b[39mfor\u001b[39;00m x \u001b[39min\u001b[39;00m outcontent\n\u001b[1;32m    885\u001b[0m )\n",
      "File \u001b[0;32m/uscms_data/d3/rkansal/mambaforge/envs/python39/lib/python3.9/site-packages/awkward/_util.py:739\u001b[0m, in \u001b[0;36mbroadcast_and_apply.<locals>.apply\u001b[0;34m(inputs, depth, user)\u001b[0m\n\u001b[1;32m    736\u001b[0m \u001b[39mif\u001b[39;00m pass_user:\n\u001b[1;32m    737\u001b[0m     args \u001b[39m=\u001b[39m args \u001b[39m+\u001b[39m (user,)\n\u001b[0;32m--> 739\u001b[0m custom \u001b[39m=\u001b[39m getfunction(inputs, \u001b[39m*\u001b[39;49margs)\n\u001b[1;32m    740\u001b[0m \u001b[39mif\u001b[39;00m callable(custom):\n\u001b[1;32m    741\u001b[0m     \u001b[39mreturn\u001b[39;00m custom()\n",
      "File \u001b[0;32m/uscms_data/d3/rkansal/mambaforge/envs/python39/lib/python3.9/site-packages/awkward/_connect/_numpy.py:240\u001b[0m, in \u001b[0;36marray_ufunc.<locals>.getfunction\u001b[0;34m(inputs)\u001b[0m\n\u001b[1;32m    238\u001b[0m         \u001b[39melse\u001b[39;00m:\n\u001b[1;32m    239\u001b[0m             custom_types\u001b[39m.\u001b[39mappend(\u001b[39mtype\u001b[39m(x)\u001b[39m.\u001b[39m\u001b[39m__name__\u001b[39m)\n\u001b[0;32m--> 240\u001b[0m     \u001b[39mraise\u001b[39;00m \u001b[39mValueError\u001b[39;00m(\n\u001b[1;32m    241\u001b[0m         \u001b[39m\"\u001b[39m\u001b[39mno overloads for custom types: \u001b[39m\u001b[39m{}\u001b[39;00m\u001b[39m(\u001b[39m\u001b[39m{}\u001b[39;00m\u001b[39m)\u001b[39m\u001b[39m\"\u001b[39m\u001b[39m.\u001b[39mformat(\n\u001b[1;32m    242\u001b[0m             ufunc\u001b[39m.\u001b[39m\u001b[39m__name__\u001b[39m,\n\u001b[1;32m    243\u001b[0m             \u001b[39m\"\u001b[39m\u001b[39m, \u001b[39m\u001b[39m\"\u001b[39m\u001b[39m.\u001b[39mjoin(custom_types),\n\u001b[1;32m    244\u001b[0m         )\n\u001b[1;32m    245\u001b[0m         \u001b[39m+\u001b[39m ak\u001b[39m.\u001b[39m_util\u001b[39m.\u001b[39mexception_suffix(\u001b[39m__file__\u001b[39m)\n\u001b[1;32m    246\u001b[0m     )\n\u001b[1;32m    248\u001b[0m \u001b[39mreturn\u001b[39;00m \u001b[39mNone\u001b[39;00m\n",
      "\u001b[0;31mValueError\u001b[0m: no overloads for custom types: less(FatJet, int)\n\n(https://github.com/scikit-hep/awkward-1.0/blob/1.10.2/src/awkward/_connect/_numpy.py#L245)"
     ]
    }
   ],
   "source": [
    "had_bs.delta_r(ak.pad_none(presel_events.FatJet, 2, axis=1)[:, 1] < 1)"
   ]
  },
  {
   "cell_type": "code",
   "execution_count": 30,
   "metadata": {},
   "outputs": [],
   "source": [
    "add_selection(\"hadronic bs\", np.any(had_bs.pdgId, axis=1), selection, cutflow, isData, signGenWeights)"
   ]
  },
  {
   "cell_type": "code",
   "execution_count": 100,
   "metadata": {},
   "outputs": [
    {
     "data": {
      "text/plain": [
       "<GenParticleArray [[GenParticle], ... [GenParticle]] type='12352 * var * ?genPar...'>"
      ]
     },
     "execution_count": 100,
     "metadata": {},
     "output_type": "execute_result"
    }
   ],
   "source": [
    "ws[np.all(np.abs(ws.children.pdgId) <= 5, axis=2)]"
   ]
  },
  {
   "cell_type": "code",
   "execution_count": null,
   "metadata": {},
   "outputs": [],
   "source": [
    "\n",
    "# saving 4-vector info\n",
    "GenTopsVars = {f\"GenTops{key}\": tops[var].to_numpy() for (var, key) in skim_vars.items()}\n",
    "\n",
    "higgs_children = higgs.children\n",
    "\n",
    "# saving whether H->bb or H->VV\n",
    "GenHiggsVars[\"GenHiggsChildren\"] = abs(higgs_children.pdgId[:, :, 0]).to_numpy()\n",
    "\n",
    "# finding bb and VV children\n",
    "is_bb = abs(higgs_children.pdgId) == b_PDGID\n",
    "is_VV = (abs(higgs_children.pdgId) == W_PDGID) + (abs(higgs_children.pdgId) == Z_PDGID)\n",
    "\n",
    "# checking that there are 2 b's and 2 V's\n",
    "has_bb = ak.sum(ak.flatten(is_bb, axis=2), axis=1) == 2\n",
    "has_VV = ak.sum(ak.flatten(is_VV, axis=2), axis=1) == 2\n",
    "\n",
    "# only select presel_events with 2 b's and 2 V's\n",
    "# add_selection(\"has_bbVV\", has_bb * has_VV, selection, cutflow, False, signGenWeights)\n",
    "\n",
    "# saving bb and VV 4-vector info\n",
    "bb = ak.flatten(higgs_children[is_bb], axis=2)\n",
    "VV = ak.flatten(higgs_children[is_VV], axis=2)\n",
    "\n",
    "# have to pad to 2 because of some 4V presel_events\n",
    "GenbbVars = {\n",
    "    f\"Genbb{key}\": pad_val(bb[var], 2, FILL_NONE_VALUE, axis=1) for (var, key) in skim_vars.items()\n",
    "}\n",
    "\n",
    "# selecting only up to the 2nd index because of some 4V presel_events\n",
    "# (doesn't matter which two are selected since these presel_events will be excluded anyway)\n",
    "GenVVVars = {f\"GenVV{key}\": VV[var][:, :2].to_numpy() for (var, key) in skim_vars.items()}\n",
    "\n",
    "# checking that each V has 2 q children\n",
    "VV_children = VV.children\n",
    "\n",
    "quarks = abs(VV_children.pdgId) <= b_PDGID\n",
    "all_q = ak.all(ak.all(quarks, axis=2), axis=1)\n",
    "# add_selection(\"all_q\", all_q, selection, cutflow, False, signGenWeights)\n",
    "\n",
    "V_has_2q = ak.count(VV_children.pdgId, axis=2) == 2\n",
    "has_4q = ak.values_astype(ak.prod(V_has_2q, axis=1), bool)\n",
    "# add_selection(\"has_4q\", has_4q, selection, cutflow, False, signGenWeights)\n",
    "\n",
    "# saving 4q 4-vector info\n",
    "Gen4qVars = {\n",
    "    f\"Gen4q{key}\": ak.to_numpy(\n",
    "        ak.fill_none(\n",
    "            ak.pad_none(ak.pad_none(VV_children[var], 2, axis=1, clip=True), 2, axis=2, clip=True),\n",
    "            FILL_NONE_VALUE,\n",
    "        )\n",
    "    )\n",
    "    for (var, key) in skim_vars.items()\n",
    "}\n",
    "\n",
    "gen_cut = has_bb * has_VV * all_q * has_4q\n",
    "gen_vars = {**GenHiggsVars, **GenbbVars, **GenVVVars, **Gen4qVars}\n",
    "\n",
    "sel_events = presel_events[gen_cut]\n",
    "gen_vars = {key: np.squeeze(np.array(value[gen_cut])) for (key, value) in gen_vars.items()}\n",
    "\n",
    "is_VV = abs(gen_vars[\"GenHiggsChildren\"] == W_PDGID) + abs(gen_vars[\"GenHiggsChildren\"] == Z_PDGID)\n"
   ]
  }
 ],
 "metadata": {
  "kernelspec": {
   "display_name": "Python 3.9.13 ('python39')",
   "language": "python",
   "name": "python3"
  },
  "language_info": {
   "codemirror_mode": {
    "name": "ipython",
    "version": 3
   },
   "file_extension": ".py",
   "mimetype": "text/x-python",
   "name": "python",
   "nbconvert_exporter": "python",
   "pygments_lexer": "ipython3",
   "version": "3.9.13"
  },
  "orig_nbformat": 4,
  "vscode": {
   "interpreter": {
    "hash": "97945cf51fa9329485ff18a323f15de773e96042f2923ba7c13467944fb10638"
   }
  }
 },
 "nbformat": 4,
 "nbformat_minor": 2
}
