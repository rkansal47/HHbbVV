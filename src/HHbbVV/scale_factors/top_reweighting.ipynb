{
 "cells": [
  {
   "cell_type": "code",
   "execution_count": 26,
   "metadata": {},
   "outputs": [],
   "source": [
    "import uproot\n",
    "import awkward as ak\n",
    "from coffea import nanoevents\n",
    "from coffea.nanoevents.methods.base import NanoEventsArray\n",
    "from coffea.analysis_tools import Weights, PackedSelection\n",
    "\n",
    "from coffea.nanoevents.methods import vector\n",
    "from coffea.lookup_tools.dense_lookup import dense_lookup\n",
    "\n",
    "ak.behavior.update(vector.behavior)\n",
    "\n",
    "import pickle, json\n",
    "import numpy as np\n",
    "\n",
    "from typing import Optional, List, Dict\n",
    "from copy import copy\n",
    "\n",
    "import matplotlib.pyplot as plt\n",
    "import mplhep as hep\n",
    "from matplotlib import colors\n",
    "\n",
    "from tqdm import tqdm\n",
    "import fastjet\n",
    "\n",
    "# import jetnet\n",
    "\n",
    "import os\n",
    "\n",
    "import corrections\n",
    "import correctionlib"
   ]
  },
  {
   "cell_type": "code",
   "execution_count": 5,
   "metadata": {},
   "outputs": [],
   "source": [
    "%load_ext autoreload\n",
    "%autoreload 2"
   ]
  },
  {
   "cell_type": "code",
   "execution_count": 2,
   "metadata": {},
   "outputs": [],
   "source": [
    "plot_dir = \"../../../plots/ScaleFactors/Nov23\"\n",
    "_ = os.system(f\"mkdir -p {plot_dir}\")"
   ]
  },
  {
   "cell_type": "code",
   "execution_count": 2,
   "metadata": {},
   "outputs": [
    {
     "name": "stderr",
     "output_type": "stream",
     "text": [
      "/uscms_data/d3/rkansal/mambaforge/envs/python39/lib/python3.9/site-packages/coffea/nanoevents/mapping/uproot.py:75: UserWarning: Found duplicate branch FatJetAK15SubJet_nBHadrons in <TTree 'Events' (1950 branches) at 0x7f5baebc0f70>, taking first instance\n",
      "  warnings.warn(\n",
      "/uscms_data/d3/rkansal/mambaforge/envs/python39/lib/python3.9/site-packages/coffea/nanoevents/mapping/uproot.py:75: UserWarning: Found duplicate branch FatJetAK15SubJet_nCHadrons in <TTree 'Events' (1950 branches) at 0x7f5baebc0f70>, taking first instance\n",
      "  warnings.warn(\n",
      "/uscms_data/d3/rkansal/mambaforge/envs/python39/lib/python3.9/site-packages/coffea/nanoevents/mapping/uproot.py:75: UserWarning: Found duplicate branch FatJetAK15_nBHadrons in <TTree 'Events' (1950 branches) at 0x7f5baebc0f70>, taking first instance\n",
      "  warnings.warn(\n",
      "/uscms_data/d3/rkansal/mambaforge/envs/python39/lib/python3.9/site-packages/coffea/nanoevents/mapping/uproot.py:75: UserWarning: Found duplicate branch FatJetAK15_nCHadrons in <TTree 'Events' (1950 branches) at 0x7f5baebc0f70>, taking first instance\n",
      "  warnings.warn(\n",
      "/uscms_data/d3/rkansal/mambaforge/envs/python39/lib/python3.9/site-packages/coffea/nanoevents/mapping/uproot.py:75: UserWarning: Found duplicate branch FatJet_btagDDBvLV2 in <TTree 'Events' (1950 branches) at 0x7f5baebc0f70>, taking first instance\n",
      "  warnings.warn(\n",
      "/uscms_data/d3/rkansal/mambaforge/envs/python39/lib/python3.9/site-packages/coffea/nanoevents/mapping/uproot.py:75: UserWarning: Found duplicate branch FatJet_btagDDCvBV2 in <TTree 'Events' (1950 branches) at 0x7f5baebc0f70>, taking first instance\n",
      "  warnings.warn(\n",
      "/uscms_data/d3/rkansal/mambaforge/envs/python39/lib/python3.9/site-packages/coffea/nanoevents/mapping/uproot.py:75: UserWarning: Found duplicate branch FatJet_btagDDCvLV2 in <TTree 'Events' (1950 branches) at 0x7f5baebc0f70>, taking first instance\n",
      "  warnings.warn(\n",
      "/uscms_data/d3/rkansal/mambaforge/envs/python39/lib/python3.9/site-packages/coffea/nanoevents/mapping/uproot.py:75: UserWarning: Found duplicate branch FatJet_nBHadrons in <TTree 'Events' (1950 branches) at 0x7f5baebc0f70>, taking first instance\n",
      "  warnings.warn(\n",
      "/uscms_data/d3/rkansal/mambaforge/envs/python39/lib/python3.9/site-packages/coffea/nanoevents/mapping/uproot.py:75: UserWarning: Found duplicate branch FatJet_nCHadrons in <TTree 'Events' (1950 branches) at 0x7f5baebc0f70>, taking first instance\n",
      "  warnings.warn(\n",
      "/uscms_data/d3/rkansal/mambaforge/envs/python39/lib/python3.9/site-packages/coffea/nanoevents/mapping/uproot.py:75: UserWarning: Found duplicate branch SubJet_nBHadrons in <TTree 'Events' (1950 branches) at 0x7f5baebc0f70>, taking first instance\n",
      "  warnings.warn(\n",
      "/uscms_data/d3/rkansal/mambaforge/envs/python39/lib/python3.9/site-packages/coffea/nanoevents/mapping/uproot.py:75: UserWarning: Found duplicate branch SubJet_nCHadrons in <TTree 'Events' (1950 branches) at 0x7f5baebc0f70>, taking first instance\n",
      "  warnings.warn(\n"
     ]
    }
   ],
   "source": [
    "events = nanoevents.NanoEventsFactory.from_root(\n",
    "    # \"/eos/uscms/store/user/lpcpfnano/cmantill/v2_3/2017/HH_gen/GluGluToHHTobbVV_node_cHHH1_TuneCP5_13TeV-powheg-pythia8/GluGluToHHTobbVV_node_cHHH1/221017_221918/0000/nano_mc2017_100.root\",\n",
    "    \"/eos/uscms/store/user/lpcpfnano/drankin/v2_2/2017/TTbar/TTToSemiLeptonic_TuneCP5_13TeV-powheg-pythia8/TTToSemiLeptonic_ext1/211112_132937/0000/nano_mc2017_100.root\",\n",
    "    schemaclass=nanoevents.NanoAODSchema,\n",
    ").events()"
   ]
  },
  {
   "cell_type": "code",
   "execution_count": 32,
   "metadata": {},
   "outputs": [
    {
     "data": {
      "text/plain": [
       "<MuonArray [[Muon], [], [], ... [], [], []] type='181830 * var * muon'>"
      ]
     },
     "execution_count": 32,
     "metadata": {},
     "output_type": "execute_result"
    }
   ],
   "source": [
    "events.Muon"
   ]
  },
  {
   "cell_type": "markdown",
   "metadata": {},
   "source": [
    "### Boosted Top Pre-selection\n",
    "\n",
    "Based on selection in https://indico.cern.ch/event/1208247/#10-lund-plane-reweighting-for"
   ]
  },
  {
   "cell_type": "code",
   "execution_count": 3,
   "metadata": {},
   "outputs": [],
   "source": [
    "def pad_val(\n",
    "    arr: ak.Array,\n",
    "    target: int,\n",
    "    value: float,\n",
    "    axis: int = 0,\n",
    "    to_numpy: bool = True,\n",
    "    clip: bool = True,\n",
    "):\n",
    "    \"\"\"\n",
    "    pads awkward array up to ``target`` index along axis ``axis`` with value ``value``,\n",
    "    optionally converts to numpy array\n",
    "    \"\"\"\n",
    "    ret = ak.fill_none(ak.pad_none(arr, target, axis=axis, clip=clip), value, axis=axis)\n",
    "    return ret.to_numpy() if to_numpy else ret\n",
    "\n",
    "\n",
    "def add_selection(\n",
    "    name: str,\n",
    "    sel: np.ndarray,\n",
    "    selection: PackedSelection,\n",
    "    cutflow: dict = None,\n",
    "    isData: bool = False,\n",
    "    signGenWeights: ak.Array = None,\n",
    "):\n",
    "    \"\"\"adds selection to PackedSelection object and the cutflow dictionary\"\"\"\n",
    "    selection.add(name, sel)\n",
    "    if cutflow is not None:\n",
    "        cutflow[name] = (\n",
    "            np.sum(selection.all(*selection.names))\n",
    "            if isData\n",
    "            # add up sign of genWeights for MC\n",
    "            else np.sum(signGenWeights[selection.all(*selection.names)])\n",
    "        )\n",
    "\n",
    "\n",
    "preselection_cut_vals = {\"pt\": 250, \"msd\": 20}\n",
    "num_jets = 1\n",
    "\n",
    "preselection_cut = np.prod(\n",
    "    pad_val(\n",
    "        (events.FatJet.pt > preselection_cut_vals[\"pt\"])\n",
    "        * (events.FatJet.msoftdrop > preselection_cut_vals[\"msd\"]),\n",
    "        num_jets,\n",
    "        False,\n",
    "        axis=1,\n",
    "    ),\n",
    "    axis=1,\n",
    ").astype(bool)\n",
    "\n",
    "presel_events = events[preselection_cut]"
   ]
  },
  {
   "cell_type": "code",
   "execution_count": 4,
   "metadata": {},
   "outputs": [],
   "source": [
    "isData = False\n",
    "signGenWeights = None if isData else np.sign(presel_events[\"genWeight\"])\n",
    "n_events = len(presel_events) if isData else int(np.sum(signGenWeights))\n",
    "selection = PackedSelection()\n",
    "\n",
    "cutflow = {}\n",
    "cutflow[\"presel\"] = len(presel_events)"
   ]
  },
  {
   "cell_type": "code",
   "execution_count": 15,
   "metadata": {},
   "outputs": [
    {
     "data": {
      "text/plain": [
       "'/cvmfs/cms.cern.ch/rsync/cms-nanoAOD/jsonpog-integration//POG/MUO/2016preVFP_UL/muon_Z.json.gz'"
      ]
     },
     "execution_count": 15,
     "metadata": {},
     "output_type": "execute_result"
    }
   ],
   "source": [
    "corrections.get_pog_json(\"muon\", \"2016APV\")"
   ]
  },
  {
   "cell_type": "code",
   "execution_count": null,
   "metadata": {},
   "outputs": [],
   "source": [
    "import json, gzip\n",
    "\n",
    "with gzip.open(corrections.get_pog_json(\"muon\", \"2016APV\"), \"r\") as fin:\n",
    "    mu = json.loads(fin.read().decode(\"utf-8\"))\n",
    "\n",
    "for corr in mu[\"corrections\"]:\n",
    "    print(corr[\"name\"])"
   ]
  },
  {
   "cell_type": "code",
   "execution_count": 27,
   "metadata": {},
   "outputs": [],
   "source": [
    "weights = Weights(len(events), storeIndividual=True)"
   ]
  },
  {
   "cell_type": "code",
   "execution_count": 34,
   "metadata": {},
   "outputs": [],
   "source": [
    "corrections.add_pileup_weight(weights, \"2017\", events.Pileup.nPU.to_numpy())"
   ]
  },
  {
   "cell_type": "code",
   "execution_count": 46,
   "metadata": {},
   "outputs": [],
   "source": [
    "muon = ak.pad_none(events.Muon, 1, axis=1)[:, 0]\n",
    "corrections.add_lepton_weights(weights, \"2017\", muon)"
   ]
  },
  {
   "cell_type": "code",
   "execution_count": 49,
   "metadata": {},
   "outputs": [
    {
     "data": {
      "text/plain": [
       "array([0.89658246, 0.91560307, 0.94151195, ..., 1.02624007, 0.94203438,\n",
       "       0.99978582])"
      ]
     },
     "execution_count": 49,
     "metadata": {},
     "output_type": "execute_result"
    }
   ],
   "source": [
    "weights.weight()"
   ]
  },
  {
   "cell_type": "code",
   "execution_count": 69,
   "metadata": {},
   "outputs": [
    {
     "name": "stderr",
     "output_type": "stream",
     "text": [
      "/tmp/ipykernel_29796/837678477.py:2: DeprecationWarning: Please use `interp1d` from the `scipy.interpolate` namespace, the `scipy.interpolate.interpolate` namespace is deprecated.\n",
      "  jec = pickle.load(f)\n"
     ]
    }
   ],
   "source": [
    "with open(\"../data/jec_compiled.pkl\", \"rb\") as f:\n",
    "    jec = pickle.load(f)"
   ]
  },
  {
   "cell_type": "code",
   "execution_count": 70,
   "metadata": {},
   "outputs": [
    {
     "data": {
      "text/plain": [
       "{'jet_factory': {'2016mc': <coffea.jetmet_tools.CorrectedJetsFactory.CorrectedJetsFactory at 0x7f5b6e71a340>,\n",
       "  '2016mcNOJER': <coffea.jetmet_tools.CorrectedJetsFactory.CorrectedJetsFactory at 0x7f5b18ed7dc0>,\n",
       "  '2017mc': <coffea.jetmet_tools.CorrectedJetsFactory.CorrectedJetsFactory at 0x7f5b18e356d0>,\n",
       "  '2017mcNOJER': <coffea.jetmet_tools.CorrectedJetsFactory.CorrectedJetsFactory at 0x7f5b18b01910>,\n",
       "  '2018mc': <coffea.jetmet_tools.CorrectedJetsFactory.CorrectedJetsFactory at 0x7f5b18add3d0>,\n",
       "  '2018mcNOJER': <coffea.jetmet_tools.CorrectedJetsFactory.CorrectedJetsFactory at 0x7f5b18727b50>},\n",
       " 'fatjet_factory': {'2016mc': <coffea.jetmet_tools.CorrectedJetsFactory.CorrectedJetsFactory at 0x7f5b18703610>,\n",
       "  '2016mcNOJER': <coffea.jetmet_tools.CorrectedJetsFactory.CorrectedJetsFactory at 0x7f5ae5189d30>,\n",
       "  '2017mc': <coffea.jetmet_tools.CorrectedJetsFactory.CorrectedJetsFactory at 0x7f5ae51664c0>,\n",
       "  '2017mcNOJER': <coffea.jetmet_tools.CorrectedJetsFactory.CorrectedJetsFactory at 0x7f5ae438aa00>,\n",
       "  '2018mc': <coffea.jetmet_tools.CorrectedJetsFactory.CorrectedJetsFactory at 0x7f5ae4368190>,\n",
       "  '2018mcNOJER': <coffea.jetmet_tools.CorrectedJetsFactory.CorrectedJetsFactory at 0x7f5ae35c5a90>},\n",
       " 'met_factory': <coffea.jetmet_tools.CorrectedMETFactory.CorrectedMETFactory at 0x7f5ae3522250>}"
      ]
     },
     "execution_count": 70,
     "metadata": {},
     "output_type": "execute_result"
    }
   ],
   "source": [
    "jec"
   ]
  },
  {
   "cell_type": "code",
   "execution_count": 50,
   "metadata": {},
   "outputs": [],
   "source": [
    "d_PDGID = 1\n",
    "b_PDGID = 5\n",
    "g_PDGID = 21\n",
    "TOP_PDGID = 6\n",
    "\n",
    "ELE_PDGID = 11\n",
    "vELE_PDGID = 12\n",
    "MU_PDGID = 13\n",
    "vMU_PDGID = 14\n",
    "TAU_PDGID = 15\n",
    "vTAU_PDGID = 16\n",
    "\n",
    "Z_PDGID = 23\n",
    "W_PDGID = 24\n",
    "HIGGS_PDGID = 25\n",
    "\n",
    "b_PDGIDS = [511, 521, 523]\n",
    "\n",
    "GRAV_PDGID = 39\n",
    "\n",
    "GEN_FLAGS = [\"fromHardProcess\", \"isLastCopy\"]\n",
    "\n",
    "FILL_NONE_VALUE = -99999\n",
    "\n",
    "\n",
    "skim_vars = {\n",
    "    \"eta\": \"eta\",\n",
    "    \"phi\": \"phi\",\n",
    "    \"mass\": \"mass\",\n",
    "    \"pt\": \"pt\",\n",
    "}\n",
    "\n",
    "# finding the two gen tops\n",
    "tops = presel_events.GenPart[\n",
    "    (abs(presel_events.GenPart.pdgId) == TOP_PDGID) * presel_events.GenPart.hasFlags(GEN_FLAGS)\n",
    "]"
   ]
  },
  {
   "cell_type": "code",
   "execution_count": 6,
   "metadata": {},
   "outputs": [],
   "source": [
    "deltaR = 0.8"
   ]
  },
  {
   "cell_type": "code",
   "execution_count": 7,
   "metadata": {},
   "outputs": [],
   "source": [
    "tops_children = tops.distinctChildren\n",
    "tops_children = tops_children[tops_children.hasFlags(GEN_FLAGS)]\n",
    "ws = ak.flatten(tops_children[np.abs(tops_children.pdgId) == W_PDGID], axis=2)\n",
    "had_top_sel = np.all(np.abs(ws.children.pdgId) <= 5, axis=2)\n",
    "had_ws = ak.flatten(ws[had_top_sel])\n",
    "had_tops = ak.flatten(tops[had_top_sel])\n",
    "had_top_children = ak.flatten(tops_children[had_top_sel], axis=1)\n",
    "had_bs = had_top_children[np.abs(had_top_children.pdgId) == 5]\n",
    "add_selection(\n",
    "    \"hadronic bs\", np.any(had_bs.pdgId, axis=1), selection, cutflow, isData, signGenWeights\n",
    ")"
   ]
  },
  {
   "cell_type": "code",
   "execution_count": 8,
   "metadata": {},
   "outputs": [],
   "source": [
    "had_w_jet_match = ak.fill_none(\n",
    "    ak.all(had_ws.children.delta_r(presel_events.FatJet[:, 0]) < deltaR, axis=1), False\n",
    ")\n",
    "had_b_jet_match = ak.flatten(\n",
    "    pad_val(had_bs.delta_r(presel_events.FatJet[:, 0]) < deltaR, 1, False, axis=1, to_numpy=False)\n",
    ")\n",
    "merged_top_jet_match = had_w_jet_match * had_b_jet_match"
   ]
  },
  {
   "cell_type": "code",
   "execution_count": 9,
   "metadata": {},
   "outputs": [],
   "source": [
    "top_match_dict = {\n",
    "    \"top_matched\": had_w_jet_match * had_b_jet_match,\n",
    "    \"w_matched\": had_w_jet_match * ~had_b_jet_match,\n",
    "    \"unmatched\": ~had_w_jet_match,\n",
    "}"
   ]
  },
  {
   "cell_type": "code",
   "execution_count": 10,
   "metadata": {},
   "outputs": [],
   "source": [
    "# had_top_jet_match = presel_events.FatJet[:, 0].delta_r(hadronic_tops) < deltaR\n",
    "# add_selection(\"jet not matched\", ~had_top_jet_match, unmatched_selection)"
   ]
  },
  {
   "cell_type": "code",
   "execution_count": 11,
   "metadata": {},
   "outputs": [],
   "source": [
    "merged_top_events = presel_events[merged_top_jet_match]\n",
    "had_top_jets = merged_top_events.FatJet[:, 0]\n",
    "\n",
    "merged_ak8_pfcands = merged_top_events.FatJetPFCands\n",
    "merged_ak8_pfcands = merged_ak8_pfcands[merged_ak8_pfcands.jetIdx == 0]\n",
    "merged_pfcands = merged_top_events.PFCands[merged_ak8_pfcands.pFCandsIdx]"
   ]
  },
  {
   "cell_type": "code",
   "execution_count": 12,
   "metadata": {},
   "outputs": [],
   "source": [
    "merged_pfcands_vector_ptetaphi = ak.Array(\n",
    "    [\n",
    "        [{kin_key: cand[kin_key] for kin_key in skim_vars} for cand in event_cands]\n",
    "        for event_cands in merged_pfcands\n",
    "    ],\n",
    "    with_name=\"PtEtaPhiMLorentzVector\",\n",
    ")"
   ]
  },
  {
   "cell_type": "code",
   "execution_count": 13,
   "metadata": {},
   "outputs": [],
   "source": [
    "# jet definitions\n",
    "dR = 0.8\n",
    "cadef = fastjet.JetDefinition(fastjet.cambridge_algorithm, dR)\n",
    "ktdef = fastjet.JetDefinition(fastjet.kt_algorithm, dR)\n",
    "\n",
    "num_prongs = 3"
   ]
  },
  {
   "cell_type": "code",
   "execution_count": 14,
   "metadata": {},
   "outputs": [
    {
     "name": "stdout",
     "output_type": "stream",
     "text": [
      "#--------------------------------------------------------------------------\n",
      "#                         FastJet release 3.4.0\n",
      "#                 M. Cacciari, G.P. Salam and G. Soyez                  \n",
      "#     A software package for jet finding and analysis at colliders      \n",
      "#                           http://fastjet.fr                           \n",
      "#\t                                                                      \n",
      "# Please cite EPJC72(2012)1896 [arXiv:1111.6097] if you use this package\n",
      "# for scientific work and optionally PLB641(2006)57 [hep-ph/0512210].   \n",
      "#                                                                       \n",
      "# FastJet is provided without warranty under the GNU GPL v2 or higher.  \n",
      "# It uses T. Chan's closest pair algorithm, S. Fortune's Voronoi code,\n",
      "# CGAL and 3rd party plugin jet algorithms. See COPYING file for details.\n",
      "#--------------------------------------------------------------------------\n"
     ]
    },
    {
     "name": "stderr",
     "output_type": "stream",
     "text": [
      "UserWarning: dcut and exclusive jets for jet-finders other than kt, C/A or genkt with p>=0 should be interpreted with care.\n"
     ]
    }
   ],
   "source": [
    "# cluster first with kT\n",
    "kt_clustering = fastjet.ClusterSequence(merged_pfcands_vector_ptetaphi, ktdef)\n",
    "kt_subjets = kt_clustering.exclusive_jets(num_prongs)\n",
    "kt_subjets_pt = np.sqrt(kt_subjets.px**2 + kt_subjets.py**2)\n",
    "kt_subjet_consts = kt_clustering.exclusive_jets_constituents(3)\n",
    "\n",
    "# then re-cluster with CA\n",
    "# won't need to flatten once https://github.com/scikit-hep/fastjet/pull/145 is released\n",
    "ca_clustering = fastjet.ClusterSequence(ak.flatten(kt_subjet_consts, axis=1), cadef)\n",
    "lds = ak.flatten(ca_clustering.exclusive_jets_lund_declusterings(1), axis=1)"
   ]
  },
  {
   "cell_type": "code",
   "execution_count": 15,
   "metadata": {},
   "outputs": [],
   "source": [
    "f = uproot.open(\"/uscms_data/d3/oamram/Misc/LundReweighting/ratio_ktjets_nov7.root\")\n",
    "\n",
    "# 3D histogram: [subjet_pt, ln(0.8/Delta), ln(kT/GeV)]\n",
    "ratio_nom = f[\"ratio_nom\"].to_numpy()\n",
    "ratio_nom_errs = f[\"ratio_nom\"].errors()\n",
    "ratio_nom_edges = ratio_nom[1:]\n",
    "ratio_nom = ratio_nom[0]"
   ]
  },
  {
   "cell_type": "code",
   "execution_count": 29,
   "metadata": {},
   "outputs": [],
   "source": [
    "n_sf_toys = 100\n",
    "np.random.seed(42)\n",
    "rand_noise = np.random.normal(size=[n_sf_toys, *ratio_nom.shape])\n",
    "\n",
    "# produces array of shape ``[n_sf_toys, subjet_pt bins, ln(0.8/Delta) bins, ln(kT/GeV) bins]``\n",
    "ratio_nom_smeared = ratio_nom + (ratio_nom_errs * rand_noise)\n",
    "ratio_smeared_lookups = [\n",
    "    dense_lookup(ratio_nom_smeared[i], ratio_nom_edges) for i in range(n_sf_toys)\n",
    "]"
   ]
  },
  {
   "cell_type": "code",
   "execution_count": 27,
   "metadata": {},
   "outputs": [],
   "source": [
    "# save offsets to recover awkward structure later\n",
    "ld_offsets = lds.kt.layout.offsets\n",
    "flat_logD = np.log(0.8 / ak.flatten(lds).Delta).to_numpy()\n",
    "flat_logkt = np.log(ak.flatten(lds).kt).to_numpy()\n",
    "# repeat subjet pt for each lund declustering\n",
    "flat_subjet_pt = np.repeat(ak.flatten(kt_subjets_pt), ak.count(lds.kt, axis=1)).to_numpy()"
   ]
  },
  {
   "cell_type": "code",
   "execution_count": 38,
   "metadata": {},
   "outputs": [],
   "source": [
    "sf_vals = []\n",
    "# could be parallelised but not sure if memory / time trade-off is worth it\n",
    "for i, ratio_nom_lookup in enumerate(ratio_smeared_lookups):\n",
    "    ratio_nom_vals = ratio_nom_lookup(flat_subjet_pt, flat_logD, flat_logkt)\n",
    "    reshaped_ratio_nom_vals = ak.Array(\n",
    "        ak.layout.ListOffsetArray64(ld_offsets, ak.layout.NumpyArray(ratio_nom_vals))\n",
    "    )\n",
    "    sf_vals.append(\n",
    "        np.prod(ak.prod(reshaped_ratio_nom_vals, axis=1).to_numpy().reshape(-1, num_prongs), axis=1)\n",
    "    )\n",
    "\n",
    "sf_vals = np.array(sf_vals)"
   ]
  },
  {
   "cell_type": "code",
   "execution_count": 39,
   "metadata": {},
   "outputs": [
    {
     "data": {
      "text/plain": [
       "array([[ 0.49796394,  0.        ,  0.22907251, ...,  0.2056961 ,\n",
       "         0.04563967,  0.01188678],\n",
       "       [ 0.72128457,  0.        ,  0.22829882, ...,  0.11487285,\n",
       "         0.47032795, -0.10045313],\n",
       "       [ 0.1410559 ,  0.        ,  0.36949193, ...,  0.37087644,\n",
       "         1.4134961 , -0.09676024],\n",
       "       ...,\n",
       "       [ 0.91281633,  0.        ,  0.84456249, ...,  0.29981497,\n",
       "         0.93717329,  0.00564959],\n",
       "       [ 0.60206094,  0.        ,  0.28694875, ...,  0.62489011,\n",
       "         0.33897339, -0.35602571],\n",
       "       [ 0.17253641,  0.        ,  0.195653  , ...,  0.95647311,\n",
       "         0.22541971, -0.11804788]])"
      ]
     },
     "execution_count": 39,
     "metadata": {},
     "output_type": "execute_result"
    }
   ],
   "source": [
    "sf_vals"
   ]
  },
  {
   "cell_type": "markdown",
   "metadata": {},
   "source": [
    "#### Old way of uncertainty calculation (not taking into account intra-jet correlations)"
   ]
  },
  {
   "cell_type": "code",
   "execution_count": 118,
   "metadata": {},
   "outputs": [],
   "source": [
    "# save offsets to recover awkward structure later\n",
    "ld_offsets = lds.kt.layout.offsets\n",
    "flat_logD = np.log(0.8 / ak.flatten(lds).Delta).to_numpy()\n",
    "flat_logkt = np.log(ak.flatten(lds).kt).to_numpy()\n",
    "# repeat subjet pt for each lund declustering\n",
    "flat_subjet_pt = np.repeat(ak.flatten(kt_subjets_pt), ak.count(lds.kt, axis=1)).to_numpy()"
   ]
  },
  {
   "cell_type": "code",
   "execution_count": 176,
   "metadata": {},
   "outputs": [
    {
     "name": "stderr",
     "output_type": "stream",
     "text": [
      "RuntimeWarning: invalid value encountered in true_divide\n"
     ]
    }
   ],
   "source": [
    "ratio_nom_vals = ratio_nom_lookup(flat_subjet_pt, flat_logD, flat_logkt)\n",
    "ratio_nom_rel_errs = np.nan_to_num(\n",
    "    (ratio_nom_errs_lookup(flat_subjet_pt, flat_logD, flat_logkt) / ratio_nom_vals) ** 2\n",
    ")\n",
    "\n",
    "reshaped_ratio_nom_vals = ak.Array(\n",
    "    ak.layout.ListOffsetArray64(ld_offsets, ak.layout.NumpyArray(ratio_nom_vals))\n",
    ")\n",
    "reshaped_ratio_nom_rel_errs = ak.Array(\n",
    "    ak.layout.ListOffsetArray64(ld_offsets, ak.layout.NumpyArray(ratio_nom_rel_errs))\n",
    ")\n",
    "\n",
    "sf_nom_vals = np.prod(\n",
    "    ak.prod(reshaped_ratio_nom_vals, axis=1).to_numpy().reshape(-1, num_prongs), axis=1\n",
    ")\n",
    "sf_nom_errs = (\n",
    "    np.sqrt(\n",
    "        np.sum(\n",
    "            ak.sum(reshaped_ratio_nom_rel_errs, axis=1).to_numpy().reshape(-1, num_prongs), axis=1\n",
    "        )\n",
    "    )\n",
    "    * sf_nom_vals\n",
    ")"
   ]
  },
  {
   "cell_type": "code",
   "execution_count": 177,
   "metadata": {},
   "outputs": [
    {
     "data": {
      "text/plain": [
       "array([0.2987439 , 0.        , 0.40326303, ..., 0.40680158, 1.0423063 ,\n",
       "       0.00966673], dtype=float32)"
      ]
     },
     "execution_count": 177,
     "metadata": {},
     "output_type": "execute_result"
    }
   ],
   "source": [
    "sf_nom_vals"
   ]
  },
  {
   "cell_type": "code",
   "execution_count": 178,
   "metadata": {},
   "outputs": [
    {
     "data": {
      "text/plain": [
       "array([0.18848526, 0.        , 0.2404116 , ..., 0.42433724, 1.07653282,\n",
       "       0.0865682 ])"
      ]
     },
     "execution_count": 178,
     "metadata": {},
     "output_type": "execute_result"
    }
   ],
   "source": [
    "sf_nom_errs"
   ]
  },
  {
   "cell_type": "code",
   "execution_count": null,
   "metadata": {},
   "outputs": [],
   "source": [
    "def get_ld_indices(vals, edges):\n",
    "    indices = []\n",
    "\n",
    "    for val, edge in zip(vals, edges):\n",
    "        indices.append(\n",
    "            np.clip(\n",
    "                np.searchsorted(edge, val, side=\"right\") - 1,\n",
    "                0,\n",
    "                len(edge) - 2,\n",
    "            )\n",
    "        )\n",
    "\n",
    "    return indices"
   ]
  },
  {
   "cell_type": "code",
   "execution_count": 135,
   "metadata": {},
   "outputs": [],
   "source": [
    "# get lund plane bins\n",
    "inds = get_ld_indices((flat_subjet_pt, flat_logD, flat_logkt), ratio_nom_edges)\n",
    "# convert 3D indices to single scalar\n",
    "scalar_inds = np.ravel_multi_index(inds, ratio_nom.shape)\n",
    "reshaped_inds = ak.Array(ak.layout.ListOffsetArray64(ld_offsets, ak.layout.NumpyArray(scalar_inds)))\n",
    "# reshaped_inds = pad_val(reshaped_inds, 40, -1, axis=1, clip=False)"
   ]
  },
  {
   "cell_type": "code",
   "execution_count": 179,
   "metadata": {},
   "outputs": [
    {
     "name": "stdout",
     "output_type": "stream",
     "text": [
      "Fraction of duplicate splittings: 0.05\n"
     ]
    }
   ],
   "source": [
    "dups = 0\n",
    "for row in reshaped_inds:\n",
    "    _, counts = np.unique(row, return_counts=True)\n",
    "    dups += np.sum(counts - 1)\n",
    "\n",
    "print(f\"Fraction of duplicate splittings: {dups / len(flat_logD):.2f}\")"
   ]
  }
 ],
 "metadata": {
  "kernelspec": {
   "display_name": "Python 3.9.13 ('python39')",
   "language": "python",
   "name": "python3"
  },
  "language_info": {
   "codemirror_mode": {
    "name": "ipython",
    "version": 3
   },
   "file_extension": ".py",
   "mimetype": "text/x-python",
   "name": "python",
   "nbconvert_exporter": "python",
   "pygments_lexer": "ipython3",
   "version": "3.9.13"
  },
  "orig_nbformat": 4,
  "vscode": {
   "interpreter": {
    "hash": "97945cf51fa9329485ff18a323f15de773e96042f2923ba7c13467944fb10638"
   }
  }
 },
 "nbformat": 4,
 "nbformat_minor": 2
}
