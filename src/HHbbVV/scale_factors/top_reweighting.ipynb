{
 "cells": [
  {
   "cell_type": "code",
   "execution_count": 57,
   "metadata": {},
   "outputs": [],
   "source": [
    "import uproot\n",
    "import awkward as ak\n",
    "from coffea import nanoevents\n",
    "from coffea.nanoevents.methods.base import NanoEventsArray\n",
    "from coffea.analysis_tools import PackedSelection\n",
    "\n",
    "from coffea.nanoevents.methods import vector\n",
    "from coffea.lookup_tools.dense_lookup import dense_lookup\n",
    "\n",
    "ak.behavior.update(vector.behavior)\n",
    "\n",
    "import pickle\n",
    "import numpy as np\n",
    "\n",
    "from typing import Optional, List, Dict\n",
    "from copy import copy\n",
    "\n",
    "import matplotlib.pyplot as plt\n",
    "import mplhep as hep\n",
    "from matplotlib import colors\n",
    "\n",
    "from tqdm import tqdm\n",
    "import fastjet\n",
    "import jetnet\n",
    "\n",
    "import os\n"
   ]
  },
  {
   "cell_type": "code",
   "execution_count": 2,
   "metadata": {},
   "outputs": [],
   "source": [
    "plot_dir = \"../../../plots/ScaleFactors/Nov16\"\n",
    "_ = os.system(f\"mkdir -p {plot_dir}\")\n"
   ]
  },
  {
   "cell_type": "code",
   "execution_count": 3,
   "metadata": {},
   "outputs": [
    {
     "name": "stderr",
     "output_type": "stream",
     "text": [
      "/uscms_data/d3/rkansal/mambaforge/envs/python39/lib/python3.9/site-packages/coffea/nanoevents/mapping/uproot.py:75: UserWarning: Found duplicate branch FatJetAK15SubJet_nBHadrons in <TTree 'Events' (1950 branches) at 0x7f2c8441b850>, taking first instance\n",
      "  warnings.warn(\n",
      "/uscms_data/d3/rkansal/mambaforge/envs/python39/lib/python3.9/site-packages/coffea/nanoevents/mapping/uproot.py:75: UserWarning: Found duplicate branch FatJetAK15SubJet_nCHadrons in <TTree 'Events' (1950 branches) at 0x7f2c8441b850>, taking first instance\n",
      "  warnings.warn(\n",
      "/uscms_data/d3/rkansal/mambaforge/envs/python39/lib/python3.9/site-packages/coffea/nanoevents/mapping/uproot.py:75: UserWarning: Found duplicate branch FatJetAK15_nBHadrons in <TTree 'Events' (1950 branches) at 0x7f2c8441b850>, taking first instance\n",
      "  warnings.warn(\n",
      "/uscms_data/d3/rkansal/mambaforge/envs/python39/lib/python3.9/site-packages/coffea/nanoevents/mapping/uproot.py:75: UserWarning: Found duplicate branch FatJetAK15_nCHadrons in <TTree 'Events' (1950 branches) at 0x7f2c8441b850>, taking first instance\n",
      "  warnings.warn(\n",
      "/uscms_data/d3/rkansal/mambaforge/envs/python39/lib/python3.9/site-packages/coffea/nanoevents/mapping/uproot.py:75: UserWarning: Found duplicate branch FatJet_btagDDBvLV2 in <TTree 'Events' (1950 branches) at 0x7f2c8441b850>, taking first instance\n",
      "  warnings.warn(\n",
      "/uscms_data/d3/rkansal/mambaforge/envs/python39/lib/python3.9/site-packages/coffea/nanoevents/mapping/uproot.py:75: UserWarning: Found duplicate branch FatJet_btagDDCvBV2 in <TTree 'Events' (1950 branches) at 0x7f2c8441b850>, taking first instance\n",
      "  warnings.warn(\n",
      "/uscms_data/d3/rkansal/mambaforge/envs/python39/lib/python3.9/site-packages/coffea/nanoevents/mapping/uproot.py:75: UserWarning: Found duplicate branch FatJet_btagDDCvLV2 in <TTree 'Events' (1950 branches) at 0x7f2c8441b850>, taking first instance\n",
      "  warnings.warn(\n",
      "/uscms_data/d3/rkansal/mambaforge/envs/python39/lib/python3.9/site-packages/coffea/nanoevents/mapping/uproot.py:75: UserWarning: Found duplicate branch FatJet_nBHadrons in <TTree 'Events' (1950 branches) at 0x7f2c8441b850>, taking first instance\n",
      "  warnings.warn(\n",
      "/uscms_data/d3/rkansal/mambaforge/envs/python39/lib/python3.9/site-packages/coffea/nanoevents/mapping/uproot.py:75: UserWarning: Found duplicate branch FatJet_nCHadrons in <TTree 'Events' (1950 branches) at 0x7f2c8441b850>, taking first instance\n",
      "  warnings.warn(\n",
      "/uscms_data/d3/rkansal/mambaforge/envs/python39/lib/python3.9/site-packages/coffea/nanoevents/mapping/uproot.py:75: UserWarning: Found duplicate branch SubJet_nBHadrons in <TTree 'Events' (1950 branches) at 0x7f2c8441b850>, taking first instance\n",
      "  warnings.warn(\n",
      "/uscms_data/d3/rkansal/mambaforge/envs/python39/lib/python3.9/site-packages/coffea/nanoevents/mapping/uproot.py:75: UserWarning: Found duplicate branch SubJet_nCHadrons in <TTree 'Events' (1950 branches) at 0x7f2c8441b850>, taking first instance\n",
      "  warnings.warn(\n"
     ]
    }
   ],
   "source": [
    "events = nanoevents.NanoEventsFactory.from_root(\n",
    "    # \"/eos/uscms/store/user/lpcpfnano/cmantill/v2_3/2017/HH_gen/GluGluToHHTobbVV_node_cHHH1_TuneCP5_13TeV-powheg-pythia8/GluGluToHHTobbVV_node_cHHH1/221017_221918/0000/nano_mc2017_100.root\",\n",
    "    \"/eos/uscms/store/user/lpcpfnano/drankin/v2_2/2017/TTbar/TTToSemiLeptonic_TuneCP5_13TeV-powheg-pythia8/TTToSemiLeptonic_ext1/211112_132937/0000/nano_mc2017_100.root\",\n",
    "    schemaclass=nanoevents.NanoAODSchema,\n",
    ").events()\n"
   ]
  },
  {
   "cell_type": "markdown",
   "metadata": {},
   "source": [
    "### Boosted Top Pre-selection\n",
    "\n",
    "Based on selection in https://indico.cern.ch/event/1208247/#10-lund-plane-reweighting-for"
   ]
  },
  {
   "cell_type": "code",
   "execution_count": 4,
   "metadata": {},
   "outputs": [],
   "source": [
    "def pad_val(\n",
    "    arr: ak.Array,\n",
    "    target: int,\n",
    "    value: float,\n",
    "    axis: int = 0,\n",
    "    to_numpy: bool = True,\n",
    "    clip: bool = True,\n",
    "):\n",
    "    \"\"\"\n",
    "    pads awkward array up to ``target`` index along axis ``axis`` with value ``value``,\n",
    "    optionally converts to numpy array\n",
    "    \"\"\"\n",
    "    ret = ak.fill_none(ak.pad_none(arr, target, axis=axis, clip=clip), value, axis=axis)\n",
    "    return ret.to_numpy() if to_numpy else ret\n",
    "\n",
    "\n",
    "def add_selection(\n",
    "    name: str,\n",
    "    sel: np.ndarray,\n",
    "    selection: PackedSelection,\n",
    "    cutflow: dict = None,\n",
    "    isData: bool = False,\n",
    "    signGenWeights: ak.Array = None,\n",
    "):\n",
    "    \"\"\"adds selection to PackedSelection object and the cutflow dictionary\"\"\"\n",
    "    selection.add(name, sel)\n",
    "    if cutflow is not None:\n",
    "        cutflow[name] = (\n",
    "            np.sum(selection.all(*selection.names))\n",
    "            if isData\n",
    "            # add up sign of genWeights for MC\n",
    "            else np.sum(signGenWeights[selection.all(*selection.names)])\n",
    "        )\n",
    "\n",
    "\n",
    "preselection_cut_vals = {\"pt\": 250, \"msd\": 20}\n",
    "num_jets = 1\n",
    "\n",
    "preselection_cut = np.prod(\n",
    "    pad_val(\n",
    "        (events.FatJet.pt > preselection_cut_vals[\"pt\"])\n",
    "        * (events.FatJet.msoftdrop > preselection_cut_vals[\"msd\"]),\n",
    "        num_jets,\n",
    "        False,\n",
    "        axis=1,\n",
    "    ),\n",
    "    axis=1,\n",
    ").astype(bool)\n",
    "\n",
    "presel_events = events[preselection_cut]\n"
   ]
  },
  {
   "cell_type": "code",
   "execution_count": 5,
   "metadata": {},
   "outputs": [],
   "source": [
    "isData = False\n",
    "signGenWeights = None if isData else np.sign(presel_events[\"genWeight\"])\n",
    "n_events = len(presel_events) if isData else int(np.sum(signGenWeights))\n",
    "selection = PackedSelection()\n",
    "\n",
    "cutflow = {}\n",
    "cutflow[\"presel\"] = len(presel_events)\n"
   ]
  },
  {
   "cell_type": "code",
   "execution_count": 6,
   "metadata": {},
   "outputs": [],
   "source": [
    "d_PDGID = 1\n",
    "b_PDGID = 5\n",
    "g_PDGID = 21\n",
    "TOP_PDGID = 6\n",
    "\n",
    "ELE_PDGID = 11\n",
    "vELE_PDGID = 12\n",
    "MU_PDGID = 13\n",
    "vMU_PDGID = 14\n",
    "TAU_PDGID = 15\n",
    "vTAU_PDGID = 16\n",
    "\n",
    "Z_PDGID = 23\n",
    "W_PDGID = 24\n",
    "HIGGS_PDGID = 25\n",
    "\n",
    "b_PDGIDS = [511, 521, 523]\n",
    "\n",
    "GRAV_PDGID = 39\n",
    "\n",
    "GEN_FLAGS = [\"fromHardProcess\", \"isLastCopy\"]\n",
    "\n",
    "FILL_NONE_VALUE = -99999\n",
    "\n",
    "\n",
    "skim_vars = {\n",
    "    \"eta\": \"eta\",\n",
    "    \"phi\": \"phi\",\n",
    "    \"mass\": \"mass\",\n",
    "    \"pt\": \"pt\",\n",
    "}\n",
    "\n",
    "# finding the two gen tops\n",
    "tops = presel_events.GenPart[\n",
    "    (abs(presel_events.GenPart.pdgId) == TOP_PDGID) * presel_events.GenPart.hasFlags(GEN_FLAGS)\n",
    "]\n"
   ]
  },
  {
   "cell_type": "code",
   "execution_count": 7,
   "metadata": {},
   "outputs": [],
   "source": [
    "deltaR = 0.8\n"
   ]
  },
  {
   "cell_type": "code",
   "execution_count": 8,
   "metadata": {},
   "outputs": [],
   "source": [
    "tops_children = tops.distinctChildren\n",
    "tops_children = tops_children[tops_children.hasFlags(GEN_FLAGS)]\n",
    "ws = ak.flatten(tops_children[np.abs(tops_children.pdgId) == W_PDGID], axis=2)\n",
    "had_top_sel = np.all(np.abs(ws.children.pdgId) <= 5, axis=2)\n",
    "had_ws = ak.flatten(ws[had_top_sel])\n",
    "had_tops = ak.flatten(tops[had_top_sel])\n",
    "had_top_children = ak.flatten(tops_children[had_top_sel], axis=1)\n",
    "had_bs = had_top_children[np.abs(had_top_children.pdgId) == 5]\n",
    "add_selection(\n",
    "    \"hadronic bs\", np.any(had_bs.pdgId, axis=1), selection, cutflow, isData, signGenWeights\n",
    ")\n"
   ]
  },
  {
   "cell_type": "code",
   "execution_count": 9,
   "metadata": {},
   "outputs": [],
   "source": [
    "had_w_jet_match = ak.all(had_ws.children.delta_r(presel_events.FatJet[:, 0]) < deltaR, axis=1)\n",
    "had_b_jet_match = ak.flatten(\n",
    "    pad_val(had_bs.delta_r(presel_events.FatJet[:, 0]) < deltaR, 1, False, axis=1, to_numpy=False)\n",
    ")\n",
    "merged_top_jet_match = had_w_jet_match * had_b_jet_match\n"
   ]
  },
  {
   "cell_type": "code",
   "execution_count": null,
   "metadata": {},
   "outputs": [],
   "source": [
    "# had_top_jet_match = presel_events.FatJet[:, 0].delta_r(hadronic_tops) < deltaR\n",
    "# add_selection(\"jet not matched\", ~had_top_jet_match, unmatched_selection)\n"
   ]
  },
  {
   "cell_type": "code",
   "execution_count": 10,
   "metadata": {},
   "outputs": [],
   "source": [
    "merged_top_events = presel_events[merged_top_jet_match]\n",
    "had_top_jets = merged_top_events.FatJet[:, 0]\n",
    "\n",
    "merged_ak8_pfcands = merged_top_events.FatJetPFCands\n",
    "merged_ak8_pfcands = merged_ak8_pfcands[merged_ak8_pfcands.jetIdx == 0]\n",
    "merged_pfcands = merged_top_events.PFCands[merged_ak8_pfcands.pFCandsIdx]\n"
   ]
  },
  {
   "cell_type": "code",
   "execution_count": 11,
   "metadata": {},
   "outputs": [],
   "source": [
    "merged_pfcands_vector_ptetaphi = ak.Array(\n",
    "    [\n",
    "        [{kin_key: cand[kin_key] for kin_key in skim_vars} for cand in event_cands]\n",
    "        for event_cands in merged_pfcands\n",
    "    ],\n",
    "    with_name=\"PtEtaPhiMLorentzVector\",\n",
    ")\n"
   ]
  },
  {
   "cell_type": "code",
   "execution_count": 172,
   "metadata": {},
   "outputs": [],
   "source": [
    "# jet definitions\n",
    "dR = 0.8\n",
    "cadef = fastjet.JetDefinition(fastjet.cambridge_algorithm, dR)\n",
    "ktdef = fastjet.JetDefinition(fastjet.kt_algorithm, dR)\n",
    "\n",
    "num_prongs = 3"
   ]
  },
  {
   "cell_type": "code",
   "execution_count": 35,
   "metadata": {},
   "outputs": [
    {
     "name": "stderr",
     "output_type": "stream",
     "text": [
      "UserWarning: dcut and exclusive jets for jet-finders other than kt, C/A or genkt with p>=0 should be interpreted with care.\n"
     ]
    }
   ],
   "source": [
    "# cluster first with kT\n",
    "kt_clustering = fastjet.ClusterSequence(merged_pfcands_vector_ptetaphi, ktdef)\n",
    "kt_subjets = kt_clustering.exclusive_jets(num_prongs)\n",
    "kt_subjets_pt = np.sqrt(kt_subjets.px ** 2 + kt_subjets.py ** 2)\n",
    "kt_subjet_consts = kt_clustering.exclusive_jets_constituents(3)\n",
    "\n",
    "# then re-cluster with CA\n",
    "# won't need to flatten once https://github.com/scikit-hep/fastjet/pull/145 is released\n",
    "ca_clustering = fastjet.ClusterSequence(ak.flatten(kt_subjet_consts, axis=1), cadef)\n",
    "lds = ak.flatten(ca_clustering.exclusive_jets_lund_declusterings(1), axis=1)\n"
   ]
  },
  {
   "cell_type": "code",
   "execution_count": 120,
   "metadata": {},
   "outputs": [],
   "source": [
    "def get_ld_indices(vals, edges):\n",
    "    indices = []\n",
    "\n",
    "    for val, edge in zip(vals, edges):\n",
    "        indices.append(\n",
    "            np.clip(\n",
    "                np.searchsorted(edge, val, side=\"right\")\n",
    "                - 1,\n",
    "                0,\n",
    "                len(edge) - 2,\n",
    "            )\n",
    "        )\n",
    "\n",
    "    return indices"
   ]
  },
  {
   "cell_type": "code",
   "execution_count": 129,
   "metadata": {},
   "outputs": [],
   "source": [
    "f = uproot.open(\"/uscms_data/d3/oamram/Misc/LundReweighting/ratio_ktjets_nov7.root\")\n",
    "\n",
    "# 3D histogram: [subjet_pt, ln(0.8/Delta), ln(kT/GeV)]\n",
    "ratio_nom = f['ratio_nom'].to_numpy()\n",
    "ratio_nom_edges = ratio_nom[1:]\n",
    "ratio_nom = ratio_nom[0]\n",
    "ratio_nom_lookup = dense_lookup(ratio_nom, ratio_nom_edges)\n",
    "ratio_nom_errs_lookup = dense_lookup(f['ratio_nom'].errors(), ratio_nom_edges)"
   ]
  },
  {
   "cell_type": "code",
   "execution_count": 118,
   "metadata": {},
   "outputs": [],
   "source": [
    "# save offsets to \n",
    "ld_offsets = lds.kt.layout.offsets\n",
    "flat_logD = np.log(0.8/ak.flatten(lds).Delta).to_numpy()\n",
    "flat_logkt = np.log(ak.flatten(lds).kt).to_numpy()\n",
    "# repeat subjet pt for each lund declustering\n",
    "flat_subjet_pt = np.repeat(ak.flatten(kt_subjets_pt), ak.count(lds.kt, axis=1)).to_numpy()"
   ]
  },
  {
   "cell_type": "code",
   "execution_count": 176,
   "metadata": {},
   "outputs": [
    {
     "name": "stderr",
     "output_type": "stream",
     "text": [
      "RuntimeWarning: invalid value encountered in true_divide\n"
     ]
    }
   ],
   "source": [
    "ratio_nom_vals = ratio_nom_lookup(flat_subjet_pt, flat_logD, flat_logkt)\n",
    "ratio_nom_rel_errs = np.nan_to_num((ratio_nom_errs_lookup(flat_subjet_pt, flat_logD, flat_logkt) / ratio_nom_vals) ** 2)\n",
    "\n",
    "reshaped_ratio_nom_vals = ak.Array(ak.layout.ListOffsetArray64(ld_offsets, ak.layout.NumpyArray(ratio_nom_vals)))\n",
    "reshaped_ratio_nom_rel_errs = ak.Array(ak.layout.ListOffsetArray64(ld_offsets, ak.layout.NumpyArray(ratio_nom_rel_errs)))\n",
    "\n",
    "sf_nom_vals = np.prod(ak.prod(reshaped_ratio_nom_vals, axis=1).to_numpy().reshape(-1, num_prongs), axis=1)\n",
    "sf_nom_errs = np.sqrt(np.sum(ak.sum(reshaped_ratio_nom_rel_errs, axis=1).to_numpy().reshape(-1, num_prongs), axis=1)) * sf_nom_vals"
   ]
  },
  {
   "cell_type": "code",
   "execution_count": 177,
   "metadata": {},
   "outputs": [
    {
     "data": {
      "text/plain": [
       "array([0.2987439 , 0.        , 0.40326303, ..., 0.40680158, 1.0423063 ,\n",
       "       0.00966673], dtype=float32)"
      ]
     },
     "execution_count": 177,
     "metadata": {},
     "output_type": "execute_result"
    }
   ],
   "source": [
    "sf_nom_vals"
   ]
  },
  {
   "cell_type": "code",
   "execution_count": 178,
   "metadata": {},
   "outputs": [
    {
     "data": {
      "text/plain": [
       "array([0.18848526, 0.        , 0.2404116 , ..., 0.42433724, 1.07653282,\n",
       "       0.0865682 ])"
      ]
     },
     "execution_count": 178,
     "metadata": {},
     "output_type": "execute_result"
    }
   ],
   "source": [
    "sf_nom_errs"
   ]
  },
  {
   "cell_type": "code",
   "execution_count": 135,
   "metadata": {},
   "outputs": [],
   "source": [
    "# get lund plane bins\n",
    "inds = get_ld_indices((flat_subjet_pt, flat_logD, flat_logkt), ratio_nom_edges)\n",
    "# convert 3D indices to single scalar\n",
    "scalar_inds = np.ravel_multi_index(inds, ratio_nom.shape)\n",
    "reshaped_inds = ak.Array(ak.layout.ListOffsetArray64(ld_offsets, ak.layout.NumpyArray(scalar_inds)))\n",
    "# reshaped_inds = pad_val(reshaped_inds, 40, -1, axis=1, clip=False)"
   ]
  },
  {
   "cell_type": "code",
   "execution_count": 179,
   "metadata": {},
   "outputs": [
    {
     "name": "stdout",
     "output_type": "stream",
     "text": [
      "Fraction of duplicate splittings: 0.05\n"
     ]
    }
   ],
   "source": [
    "dups = 0\n",
    "for row in reshaped_inds:\n",
    "    _, counts = np.unique(row, return_counts=True)\n",
    "    dups += np.sum(counts - 1)\n",
    "\n",
    "print(f\"Fraction of duplicate splittings: {dups / len(flat_logD):.2f}\")"
   ]
  }
 ],
 "metadata": {
  "kernelspec": {
   "display_name": "Python 3.10.4 ('python310')",
   "language": "python",
   "name": "python3"
  },
  "language_info": {
   "codemirror_mode": {
    "name": "ipython",
    "version": 3
   },
   "file_extension": ".py",
   "mimetype": "text/x-python",
   "name": "python",
   "nbconvert_exporter": "python",
   "pygments_lexer": "ipython3",
   "version": "3.10.4"
  },
  "orig_nbformat": 4,
  "vscode": {
   "interpreter": {
    "hash": "31a7b1cb5f073f7a7d37b3db504c6954ce2b88e0f82e412b65ad0b5f2dd17394"
   }
  }
 },
 "nbformat": 4,
 "nbformat_minor": 2
}
