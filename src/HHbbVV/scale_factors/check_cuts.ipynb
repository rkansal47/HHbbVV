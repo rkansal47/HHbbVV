{
 "cells": [
  {
   "cell_type": "code",
   "execution_count": 1,
   "metadata": {},
   "outputs": [],
   "source": [
    "import h5py\n",
    "import pandas as pd\n",
    "import numpy as np\n",
    "import pickle"
   ]
  },
  {
   "cell_type": "code",
   "execution_count": 2,
   "metadata": {},
   "outputs": [],
   "source": [
    "# file = 'root://cmsxrootd.fnal.gov///store/user/lpcpfnano/cmantill/v2_3/2018/TTbar/TTToSemiLeptonic_TuneCP5_13TeV-powheg-pythia8/TTToSemiLeptonic/220808_151244/0000/nano_mc2018_1-196.root'\n",
    "casef = \"../../../../CMSSW_12_4_0/src/CASE/CASEUtils/H5_maker/test.h5\"\n",
    "case_out = h5py.File(casef, \"r\")"
   ]
  },
  {
   "cell_type": "code",
   "execution_count": 3,
   "metadata": {},
   "outputs": [
    {
     "data": {
      "text/plain": [
       "['btag_jet_info',\n",
       " 'd_eta_eff',\n",
       " 'event_info',\n",
       " 'jet1_PFCands',\n",
       " 'jet1_extraInfo',\n",
       " 'jet_kinematics',\n",
       " 'mu_info',\n",
       " 'preselection_eff',\n",
       " 'truth_label']"
      ]
     },
     "execution_count": 3,
     "metadata": {},
     "output_type": "execute_result"
    }
   ],
   "source": [
    "list(case_out.keys())"
   ]
  },
  {
   "cell_type": "code",
   "execution_count": 4,
   "metadata": {},
   "outputs": [
    {
     "data": {
      "text/plain": [
       "<HDF5 dataset \"event_info\": shape (362, 6), type \"<f4\">"
      ]
     },
     "execution_count": 4,
     "metadata": {},
     "output_type": "execute_result"
    }
   ],
   "source": [
    "case_out[\"event_info\"]"
   ]
  },
  {
   "cell_type": "code",
   "execution_count": 5,
   "metadata": {},
   "outputs": [],
   "source": [
    "case_out.close()"
   ]
  },
  {
   "cell_type": "code",
   "execution_count": 6,
   "metadata": {},
   "outputs": [],
   "source": [
    "outf = \"../../../0--1.parquet\"\n",
    "out = pd.read_parquet(outf)\n",
    "\n",
    "with open(\"../../../outfiles/0--1.pkl\", \"rb\") as f:\n",
    "    cutflow = pickle.load(f)"
   ]
  },
  {
   "cell_type": "code",
   "execution_count": 42,
   "metadata": {},
   "outputs": [
    {
     "name": "stdout",
     "output_type": "stream",
     "text": [
      "all 44000\n",
      "muon 3964.0\n",
      "met 2255.0\n",
      "lepW 306.0\n",
      "ak8_jet 170.0\n",
      "ak4_jet 99.0\n"
     ]
    }
   ],
   "source": [
    "for cut in [\"all\", \"muon\", \"met\", \"lepW\", \"ak8_jet\", \"ak4_jet\"]:\n",
    "    print(f\"{cut} {cutflow['2018']['files']['cutflow'][cut]}\")\n",
    "\n",
    "# cutflow['2018']['files']['cutflow']"
   ]
  },
  {
   "cell_type": "code",
   "execution_count": null,
   "metadata": {},
   "outputs": [],
   "source": []
  }
 ],
 "metadata": {
  "kernelspec": {
   "display_name": "bbVV",
   "language": "python",
   "name": "python3"
  },
  "language_info": {
   "codemirror_mode": {
    "name": "ipython",
    "version": 3
   },
   "file_extension": ".py",
   "mimetype": "text/x-python",
   "name": "python",
   "nbconvert_exporter": "python",
   "pygments_lexer": "ipython3",
   "version": "3.10.4"
  },
  "orig_nbformat": 4,
  "vscode": {
   "interpreter": {
    "hash": "5b9eab485576227e6cf1b964bb8855c46cbdf15c3e77cecdb2bb309145d3e8d8"
   }
  }
 },
 "nbformat": 4,
 "nbformat_minor": 2
}
