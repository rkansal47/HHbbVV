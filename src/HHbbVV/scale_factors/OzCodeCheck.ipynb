{
 "cells": [
  {
   "cell_type": "code",
   "execution_count": 1,
   "metadata": {},
   "outputs": [
    {
     "name": "stdout",
     "output_type": "stream",
     "text": [
      "Welcome to JupyROOT 6.26/04\n"
     ]
    }
   ],
   "source": [
    "import sys, os\n",
    "\n",
    "sys.path.insert(0, \"\")\n",
    "sys.path.append(\"../\")\n",
    "from utils.Utils import *"
   ]
  },
  {
   "cell_type": "code",
   "execution_count": 2,
   "metadata": {},
   "outputs": [],
   "source": [
    "import uproot\n",
    "import awkward as ak\n",
    "from collections import OrderedDict\n",
    "import numpy as np\n",
    "\n",
    "from coffea import nanoevents\n",
    "from coffea.nanoevents.methods.base import NanoEventsArray\n",
    "from coffea.analysis_tools import Weights, PackedSelection\n",
    "from coffea.nanoevents.methods import nanoaod\n",
    "from coffea.nanoevents.methods import vector\n",
    "from coffea.lookup_tools.dense_lookup import dense_lookup"
   ]
  },
  {
   "cell_type": "code",
   "execution_count": 3,
   "metadata": {},
   "outputs": [],
   "source": [
    "import HHbbVV\n",
    "from HHbbVV.processors.utils import P4\n",
    "from HHbbVV import run_utils"
   ]
  },
  {
   "cell_type": "code",
   "execution_count": 4,
   "metadata": {},
   "outputs": [],
   "source": [
    "%load_ext autoreload\n",
    "%autoreload 2"
   ]
  },
  {
   "cell_type": "code",
   "execution_count": 5,
   "metadata": {},
   "outputs": [
    {
     "name": "stderr",
     "output_type": "stream",
     "text": [
      "/home/users/rkansal/mambaforge/envs/python39/lib/python3.9/site-packages/coffea/nanoevents/mapping/uproot.py:86: UserWarning: Found duplicate branch FatJetAK15SubJet_nBHadrons in <TTree 'Events' (1937 branches) at 0x7f8a08af98e0>, taking first instance\n",
      "  warnings.warn(\n",
      "/home/users/rkansal/mambaforge/envs/python39/lib/python3.9/site-packages/coffea/nanoevents/mapping/uproot.py:86: UserWarning: Found duplicate branch FatJetAK15SubJet_nCHadrons in <TTree 'Events' (1937 branches) at 0x7f8a08af98e0>, taking first instance\n",
      "  warnings.warn(\n",
      "/home/users/rkansal/mambaforge/envs/python39/lib/python3.9/site-packages/coffea/nanoevents/mapping/uproot.py:86: UserWarning: Found duplicate branch FatJetAK15_nBHadrons in <TTree 'Events' (1937 branches) at 0x7f8a08af98e0>, taking first instance\n",
      "  warnings.warn(\n",
      "/home/users/rkansal/mambaforge/envs/python39/lib/python3.9/site-packages/coffea/nanoevents/mapping/uproot.py:86: UserWarning: Found duplicate branch FatJetAK15_nCHadrons in <TTree 'Events' (1937 branches) at 0x7f8a08af98e0>, taking first instance\n",
      "  warnings.warn(\n",
      "/home/users/rkansal/mambaforge/envs/python39/lib/python3.9/site-packages/coffea/nanoevents/mapping/uproot.py:86: UserWarning: Found duplicate branch FatJet_btagDDBvLV2 in <TTree 'Events' (1937 branches) at 0x7f8a08af98e0>, taking first instance\n",
      "  warnings.warn(\n",
      "/home/users/rkansal/mambaforge/envs/python39/lib/python3.9/site-packages/coffea/nanoevents/mapping/uproot.py:86: UserWarning: Found duplicate branch FatJet_btagDDCvBV2 in <TTree 'Events' (1937 branches) at 0x7f8a08af98e0>, taking first instance\n",
      "  warnings.warn(\n",
      "/home/users/rkansal/mambaforge/envs/python39/lib/python3.9/site-packages/coffea/nanoevents/mapping/uproot.py:86: UserWarning: Found duplicate branch FatJet_btagDDCvLV2 in <TTree 'Events' (1937 branches) at 0x7f8a08af98e0>, taking first instance\n",
      "  warnings.warn(\n",
      "/home/users/rkansal/mambaforge/envs/python39/lib/python3.9/site-packages/coffea/nanoevents/mapping/uproot.py:86: UserWarning: Found duplicate branch FatJet_nBHadrons in <TTree 'Events' (1937 branches) at 0x7f8a08af98e0>, taking first instance\n",
      "  warnings.warn(\n",
      "/home/users/rkansal/mambaforge/envs/python39/lib/python3.9/site-packages/coffea/nanoevents/mapping/uproot.py:86: UserWarning: Found duplicate branch FatJet_nCHadrons in <TTree 'Events' (1937 branches) at 0x7f8a08af98e0>, taking first instance\n",
      "  warnings.warn(\n",
      "/home/users/rkansal/mambaforge/envs/python39/lib/python3.9/site-packages/coffea/nanoevents/mapping/uproot.py:86: UserWarning: Found duplicate branch SubJet_nBHadrons in <TTree 'Events' (1937 branches) at 0x7f8a08af98e0>, taking first instance\n",
      "  warnings.warn(\n",
      "/home/users/rkansal/mambaforge/envs/python39/lib/python3.9/site-packages/coffea/nanoevents/mapping/uproot.py:86: UserWarning: Found duplicate branch SubJet_nCHadrons in <TTree 'Events' (1937 branches) at 0x7f8a08af98e0>, taking first instance\n",
      "  warnings.warn(\n"
     ]
    }
   ],
   "source": [
    "run_utils.add_mixins(nanoevents)\n",
    "\n",
    "events = nanoevents.NanoEventsFactory.from_root(\n",
    "    \"root://cmseos.fnal.gov///store/user/lpcpfnano/cmantill/v2_3/2018/HH/GluGluToHHTobbVV_node_cHHH1_TuneCP5_13TeV-powheg-pythia8/GluGluToHHTobbVV_node_cHHH1/220808_145933/0000/nano_mc2018_1-1.root\",\n",
    "    schemaclass=nanoevents.NanoAODSchema,\n",
    ").events()[:5000]"
   ]
  },
  {
   "cell_type": "code",
   "execution_count": 6,
   "metadata": {},
   "outputs": [],
   "source": [
    "events = events[ak.count(events.FatJet.pt, axis=1) >= 2]"
   ]
  },
  {
   "cell_type": "code",
   "execution_count": 7,
   "metadata": {},
   "outputs": [],
   "source": [
    "gen_weights = np.sign(events[\"genWeight\"])\n",
    "n_events = np.sum(gen_weights)\n",
    "\n",
    "selection = PackedSelection()\n",
    "cutflow = OrderedDict()\n",
    "cutflow[\"all\"] = n_events\n",
    "\n",
    "selection_args = (selection, cutflow, False, gen_weights)"
   ]
  },
  {
   "cell_type": "code",
   "execution_count": 8,
   "metadata": {},
   "outputs": [],
   "source": [
    "gen_vars_dict, (genbb, genq) = HHbbVV.processors.GenSelection.gen_selection_HHbbVV(\n",
    "    events, events.FatJet, selection, cutflow, gen_weights, P4\n",
    ")"
   ]
  },
  {
   "cell_type": "code",
   "execution_count": 9,
   "metadata": {},
   "outputs": [],
   "source": [
    "vvfj1 = gen_vars_dict[\"ak8FatJetHVV\"][:, 0].astype(bool)\n",
    "vvfj4 = gen_vars_dict[\"ak8FatJetHVVNumProngs\"] == 4\n",
    "selector = vvfj1 * vvfj4\n",
    "\n",
    "ak8_pfcands = events[selector].FatJetPFCands\n",
    "ak8_pfcands = ak8_pfcands[ak8_pfcands.jetIdx == 0]\n",
    "pfcands = events[selector].PFCands[ak8_pfcands.pFCandsIdx]\n",
    "pfc4 = ak.fill_none((ak.count(pfcands.pt, axis=1) >= 4), False)\n",
    "selector[selector] = pfc4\n",
    "selector = np.ma.filled(selector, fill_value=False)\n",
    "\n",
    "vv_fatjets = events.FatJet[selector][:, 0:1]\n",
    "gen_quarks = genq[selector]"
   ]
  },
  {
   "cell_type": "code",
   "execution_count": 45,
   "metadata": {},
   "outputs": [],
   "source": [
    "lpsfargs = [\n",
    "    \"2018\",\n",
    "    events[selector],\n",
    "    vv_fatjets,\n",
    "    0,\n",
    "    4,\n",
    "    gen_quarks,\n",
    "    gen_weights[selector],\n",
    "    \"GluGluToHHTobbVV_node_cHHH1\",\n",
    "]\n",
    "\n",
    "# lpsfs, lp_hist = HHbbVV.processors.corrections.get_lund_SFs(\n",
    "# lds, kt_subjets_pt = HHbbVV.processors.corrections.get_lund_SFs(*lpsfargs)"
   ]
  },
  {
   "cell_type": "markdown",
   "metadata": {},
   "source": [
    "## Oz version"
   ]
  },
  {
   "cell_type": "code",
   "execution_count": 11,
   "metadata": {},
   "outputs": [],
   "source": [
    "f_ratio_name = \"data/ratio_2018.root\"\n",
    "f_ratio = ROOT.TFile.Open(f_ratio_name)\n",
    "LP_rw = LundReweighter(f_ratio=f_ratio)"
   ]
  },
  {
   "cell_type": "code",
   "execution_count": 12,
   "metadata": {},
   "outputs": [],
   "source": [
    "ak8_pfcands = events[selector].FatJetPFCands\n",
    "ak8_pfcands = ak8_pfcands[ak8_pfcands.jetIdx == 0]\n",
    "pfcands = events[selector].PFCands[ak8_pfcands.pFCandsIdx]\n",
    "\n",
    "pfcands_vector_ptetaphi = ak.Array(\n",
    "    [\n",
    "        [{kin_key: cand[kin_key] for kin_key in P4} for cand in event_cands]\n",
    "        for event_cands in pfcands\n",
    "    ],\n",
    "    with_name=\"PtEtaPhiMLorentzVector\",\n",
    ")"
   ]
  },
  {
   "cell_type": "code",
   "execution_count": 13,
   "metadata": {},
   "outputs": [],
   "source": [
    "gen_parts_eta_phi = [np.array([[gq.eta, gq.phi] for gq in genqs]) for genqs in gen_quarks]\n",
    "pf_cands = [\n",
    "    np.array([[pfc.px, pfc.py, pfc.pz, pfc.E] for pfc in pcands])\n",
    "    for pcands in pfcands_vector_ptetaphi\n",
    "]\n",
    "ak8_jets = np.array([[fj.pt, fj.eta, fj.phi, fj.mass] for fj in vv_fatjets])"
   ]
  },
  {
   "cell_type": "code",
   "execution_count": 14,
   "metadata": {},
   "outputs": [],
   "source": [
    "ozlpsfs = LP_rw.get_all_weights(pf_cands, gen_parts_eta_phi, ak8_jets)"
   ]
  },
  {
   "cell_type": "code",
   "execution_count": 41,
   "metadata": {},
   "outputs": [],
   "source": [
    "reclust = LP_rw.get_all_weights(pf_cands, gen_parts_eta_phi, ak8_jets)"
   ]
  },
  {
   "cell_type": "code",
   "execution_count": 48,
   "metadata": {},
   "outputs": [
    {
     "data": {
      "text/plain": [
       "138.28075156217162"
      ]
     },
     "execution_count": 48,
     "metadata": {},
     "output_type": "execute_result"
    }
   ],
   "source": [
    "reclust.subjet.pt()"
   ]
  },
  {
   "cell_type": "code",
   "execution_count": 51,
   "metadata": {},
   "outputs": [],
   "source": [
    "tpfc = np.array([[j.pt(), j.eta(), j.phi(), j.m()] for j in reclust.split])"
   ]
  },
  {
   "cell_type": "code",
   "execution_count": 52,
   "metadata": {},
   "outputs": [
    {
     "data": {
      "text/plain": [
       "18"
      ]
     },
     "execution_count": 52,
     "metadata": {},
     "output_type": "execute_result"
    }
   ],
   "source": [
    "len(tpfc)"
   ]
  },
  {
   "cell_type": "code",
   "execution_count": 60,
   "metadata": {},
   "outputs": [
    {
     "name": "stdout",
     "output_type": "stream",
     "text": [
      "pt\n",
      "[ 1.08105469  1.16699219  1.87890625  1.90136719  2.49609375  2.86328125\n",
      "  2.89453125  3.70703125  3.828125    4.11328125  5.17578125  5.28515625\n",
      "  8.53125     9.015625   13.0546875  15.4765625  18.         33.03125   ]\n",
      "eta\n",
      "[2.11474609 2.00732422 1.88720703 1.95385742 1.81274414 2.01464844\n",
      " 1.73510742 1.82543945 1.78662109 1.8203125  1.80273438 1.81591797\n",
      " 1.78393555 1.87451172 1.89013672 1.8527832  1.96264648 1.82177734]\n"
     ]
    }
   ],
   "source": [
    "print(\"pt\")\n",
    "print(np.sort(tpfc[:, 0]))\n",
    "print(\"eta\")\n",
    "print(tpfc[:, 1][np.argsort(tpfc[:, 0])])"
   ]
  },
  {
   "cell_type": "code",
   "execution_count": 61,
   "metadata": {},
   "outputs": [
    {
     "name": "stderr",
     "output_type": "stream",
     "text": [
      "RuntimeWarning: divide by zero encountered in divide\n",
      "RuntimeWarning: invalid value encountered in divide\n"
     ]
    },
    {
     "name": "stdout",
     "output_type": "stream",
     "text": [
      "18\n",
      "[ 1.08105469  1.16699219  1.87890625  1.90136719  2.49609375  2.86328125\n",
      "  2.89453125  3.70703125  3.828125    4.11328125  5.17578125  5.28515625\n",
      "  8.53125     9.015625   13.0546875  15.4765625  18.         33.03125   ]\n",
      "[2.11474609 2.00732422 1.88720703 1.95385742 1.81274414 2.01464844\n",
      " 1.73510742 1.82543945 1.78662109 1.8203125  1.80273438 1.81591797\n",
      " 1.78393555 1.87451172 1.89013672 1.8527832  1.96264648 1.82177734]\n"
     ]
    },
    {
     "name": "stderr",
     "output_type": "stream",
     "text": [
      "UserWarning: dcut and exclusive jets for jet-finders other than kt, C/A or genkt with p>=0 should be interpreted with care.\n"
     ]
    }
   ],
   "source": [
    "_ = HHbbVV.processors.corrections.get_lund_SFs(*lpsfargs)"
   ]
  },
  {
   "cell_type": "code",
   "execution_count": 22,
   "metadata": {},
   "outputs": [
    {
     "data": {
      "text/plain": [
       "[[0, 138.28075156217162, 1, 0.1956627601258767, 4.9420269538016655],\n",
       " [0, 138.28075156217162, 1, 0.1514388488073542, 3.8624906534529724],\n",
       " [0, 138.28075156217162, 1, 0.09953083770982661, 2.650131775631638],\n",
       " [0, 138.28075156217162, 1, 0.046830191907542486, 1.3235363753041678],\n",
       " [1, 117.50006102571415, 1, 0.16621638335369476, 8.607996134456698],\n",
       " [1, 117.50006102571415, 1, 0.15082923347344215, 1.8997184888330756],\n",
       " [1, 117.50006102571415, 1, 0.05398228744291181, 0.696076292379109],\n",
       " [1, 117.50006102571415, 1, 0.026755493322500153, 0.22723847822664928],\n",
       " [1, 117.50006102571415, 1, 0.0070739358315290626, 0.05349663972593853],\n",
       " [2, 78.42901791957688, 1, 0.04653936078386569, 1.2409341700760845],\n",
       " [2, 78.42901791957688, 1, 0.025145833862259527, 0.4844502055025937],\n",
       " [2, 78.42901791957688, 1, 0.03333531917529359, 0.2453663141304665],\n",
       " [2, 78.42901791957688, 1, 0.012506080728565343, 0.1062039824371135],\n",
       " [2, 78.42901791957688, 1, 0.022630861637597744, 0.07262208138783809],\n",
       " [3, 76.75522707125899, 1, 0.15759255711034548, 3.8388217232467583],\n",
       " [3, 76.75522707125899, 1, 0.19224700912057724, 2.181356017358725],\n",
       " [3, 76.75522707125899, 1, 0.08889600579320313, 0.834623614224365]]"
      ]
     },
     "execution_count": 22,
     "metadata": {},
     "output_type": "execute_result"
    }
   ],
   "source": [
    "# [i, pseudojet.subjet_pt, pseudojet.order, delta, kt]\n",
    "reclust.split"
   ]
  },
  {
   "cell_type": "code",
   "execution_count": 29,
   "metadata": {},
   "outputs": [
    {
     "data": {
      "text/plain": [
       "<Array [78.4, 76.8, 118, 138] type='4 * float64'>"
      ]
     },
     "execution_count": 29,
     "metadata": {},
     "output_type": "execute_result"
    }
   ],
   "source": [
    "kt_subjets_pt[0]"
   ]
  },
  {
   "cell_type": "code",
   "execution_count": 38,
   "metadata": {},
   "outputs": [
    {
     "data": {
      "text/plain": [
       "[array([0.41254202, 0.22822895, 0.17873902, 0.14232485, 0.08770532,\n",
       "        0.0542449 , 0.02673373, 0.00707394]),\n",
       " array([2.06754456, 2.39295678, 2.2512468 , 0.80304252, 2.33905017,\n",
       "        0.69946257, 0.21011038, 0.05349664])]"
      ]
     },
     "execution_count": 38,
     "metadata": {},
     "output_type": "execute_result"
    }
   ],
   "source": [
    "[np.array(lds[2][0].Delta), lds[2][0].kt.to_numpy()]"
   ]
  },
  {
   "cell_type": "code",
   "execution_count": 31,
   "metadata": {},
   "outputs": [
    {
     "data": {
      "text/plain": [
       "<Array [0.151, 0.085, ... 0.0178, 0.0088] type='7 * float64'>"
      ]
     },
     "execution_count": 31,
     "metadata": {},
     "output_type": "execute_result"
    }
   ],
   "source": [
    "lds[0].Delta[0]"
   ]
  },
  {
   "cell_type": "markdown",
   "metadata": {},
   "source": [
    "## Comparing"
   ]
  },
  {
   "cell_type": "code",
   "execution_count": 91,
   "metadata": {},
   "outputs": [
    {
     "data": {
      "text/plain": [
       "<Array [1.38, 3.02, 2.16, 1.02] type='4 * float64'>"
      ]
     },
     "execution_count": 91,
     "metadata": {},
     "output_type": "execute_result"
    }
   ],
   "source": [
    "pfcands_vector_ptetaphi[0][1:5].pt"
   ]
  },
  {
   "cell_type": "code",
   "execution_count": 90,
   "metadata": {},
   "outputs": [
    {
     "name": "stdout",
     "output_type": "stream",
     "text": [
      "1.3818359375\n",
      "2.162109375\n",
      "3.0234375\n",
      "1.0185546875\n"
     ]
    },
    {
     "data": {
      "text/plain": [
       "([[8.143427015946497,\n",
       "   1.5774425984579568,\n",
       "   2.8163710340815755,\n",
       "   1.6809782356400331]],\n",
       " [[0, 8.143427015946497, 1, 0.24898153446513818, 0.9932828876177898],\n",
       "  [0, 8.143427015946497, 1, 0.13524651947033228, 0.1868885010258986],\n",
       "  [0, 8.143427015946497, 1, 0.11627923691818055, 0.07369650855458905]])"
      ]
     },
     "execution_count": 90,
     "metadata": {},
     "output_type": "execute_result"
    }
   ],
   "source": [
    "LP_rw.get_splittings(pf_cands[0][:5], num_excjets=1)"
   ]
  },
  {
   "cell_type": "code",
   "execution_count": 78,
   "metadata": {},
   "outputs": [],
   "source": [
    "import fastjet"
   ]
  },
  {
   "cell_type": "code",
   "execution_count": 97,
   "metadata": {},
   "outputs": [],
   "source": [
    "jetdef = fastjet.JetDefinition(fastjet.cambridge_algorithm, 1000.0)\n",
    "cluster = fastjet._pyjet.AwkwardClusterSequence(pfcands_vector_ptetaphi[0][1:5], jetdef)\n",
    "lds = cluster.exclusive_jets_lund_declusterings(1)"
   ]
  },
  {
   "cell_type": "code",
   "execution_count": 100,
   "metadata": {},
   "outputs": [],
   "source": [
    "jet_def = fj.JetDefinition(fj.kt_algorithm, 0.8)\n",
    "cs = fj.ClusterSequence(pfcands_vector_ptetaphi[0][:5], jet_def)\n",
    "ldskt = cs.exclusive_jets_lund_declusterings(1)"
   ]
  },
  {
   "cell_type": "code",
   "execution_count": 98,
   "metadata": {},
   "outputs": [
    {
     "data": {
      "text/plain": [
       "<Array [0.433, 0.174, 0.138] type='3 * float64'>"
      ]
     },
     "execution_count": 98,
     "metadata": {},
     "output_type": "execute_result"
    }
   ],
   "source": [
    "lds[0].Delta"
   ]
  },
  {
   "cell_type": "code",
   "execution_count": 101,
   "metadata": {},
   "outputs": [
    {
     "data": {
      "text/plain": [
       "<Array [0.249, 0.135, 0.116] type='3 * float64'>"
      ]
     },
     "execution_count": 101,
     "metadata": {},
     "output_type": "execute_result"
    }
   ],
   "source": [
    "ldskt[0].Delta"
   ]
  },
  {
   "cell_type": "code",
   "execution_count": 77,
   "metadata": {},
   "outputs": [
    {
     "data": {
      "text/plain": [
       "8.143427015946495"
      ]
     },
     "execution_count": 77,
     "metadata": {},
     "output_type": "execute_result"
    }
   ],
   "source": [
    "(\n",
    "    pfcands_vector_ptetaphi[0][:5][0]\n",
    "    + pfcands_vector_ptetaphi[0][:5][1]\n",
    "    + pfcands_vector_ptetaphi[0][:5][2]\n",
    "    + pfcands_vector_ptetaphi[0][:5][3]\n",
    "    + pfcands_vector_ptetaphi[0][:5][4]\n",
    ").pt"
   ]
  },
  {
   "cell_type": "code",
   "execution_count": 70,
   "metadata": {},
   "outputs": [
    {
     "data": {
      "text/plain": [
       "30.5704345703125"
      ]
     },
     "execution_count": 70,
     "metadata": {},
     "output_type": "execute_result"
    }
   ],
   "source": [
    "ak.sum(pfcands_vector_ptetaphi[0][:5])"
   ]
  },
  {
   "cell_type": "code",
   "execution_count": 16,
   "metadata": {},
   "outputs": [
    {
     "data": {
      "text/plain": [
       "array([1.59664762, 1.72517502, 1.71007049, 2.55584574, 2.03695035,\n",
       "       1.58330703, 0.5383184 , 0.81909859, 0.84185511, 2.19395876,\n",
       "       1.22305071, 2.82662725, 0.70131367, 2.53019452, 0.79218096,\n",
       "       1.58675444, 0.4281795 , 3.03538942, 1.22881413, 1.35652339,\n",
       "       0.79204077, 0.32769871, 0.33464086, 0.46744648, 1.04027224,\n",
       "       0.61499828, 0.65758526, 0.83731133, 1.10940933, 0.52479166,\n",
       "       1.17785251, 0.5491181 , 0.74898654, 1.96120262, 0.50407565,\n",
       "       1.98561716, 1.07194805, 1.01364815, 2.36186337, 0.74234056,\n",
       "       0.76702797, 0.96581626, 0.84862125, 1.15393651, 0.25921842,\n",
       "       0.52934843, 7.43776178, 0.40402088, 2.57607627, 2.1975534 ,\n",
       "       0.27223372, 0.67855448, 1.39450169, 1.07934749, 1.28474534,\n",
       "       1.17779517, 0.39536989, 1.05008006, 3.01214099, 1.06926167,\n",
       "       0.70574486, 1.12219334, 1.09067678, 1.62399828, 0.67055219,\n",
       "       2.77288294, 1.58473039, 2.0658462 , 0.47359353, 0.88764173,\n",
       "       1.52273428, 0.28774986, 0.5345003 , 0.6078521 , 0.48580545,\n",
       "       0.55583817, 3.07790852, 1.76494026, 2.18832445, 2.6694839 ,\n",
       "       0.15879436, 0.77603841, 1.81052899, 1.0649122 , 0.42688239,\n",
       "       1.07476735, 1.2804662 , 0.92965502, 0.68921578, 0.16508286,\n",
       "       1.21778393, 5.53678465, 1.46695709, 1.62468803, 0.26096281,\n",
       "       1.42253578, 1.58273077, 0.44499254, 0.62149096, 0.31077188,\n",
       "       0.78105432, 0.51366961, 0.65127027, 0.72590268, 0.75502551,\n",
       "       0.92664856, 0.56071389, 0.81769967, 1.31767464, 0.79692757,\n",
       "       0.32597017, 0.86366618, 0.69459867, 1.61091888, 0.59222424,\n",
       "       0.63645387, 1.08178949, 0.80431288, 0.08918576, 0.6490342 ,\n",
       "       0.04325151, 0.73555183, 1.10649216, 3.54275417, 0.86959666,\n",
       "       1.40866017, 0.84417349, 1.83155954])"
      ]
     },
     "execution_count": 16,
     "metadata": {},
     "output_type": "execute_result"
    }
   ],
   "source": [
    "lpsfs[\"lp_sf_lnN\"][:, 0]"
   ]
  },
  {
   "cell_type": "code",
   "execution_count": 18,
   "metadata": {},
   "outputs": [
    {
     "data": {
      "text/plain": [
       "array([1.62632169, 1.82717808, 0.91546557, 1.93837607, 0.83245758,\n",
       "       0.62114351, 0.41607224, 0.97186377, 2.83437432, 0.15637381,\n",
       "       1.56576783, 0.79018058, 0.96665743, 0.19860135, 0.7336155 ,\n",
       "       2.34300388, 0.70285453, 1.30197862, 0.52084472, 1.3455701 ,\n",
       "       0.84260438, 0.48554992, 0.64262326, 1.48769367, 0.42802185,\n",
       "       0.3711837 , 0.40266381, 1.95792066, 2.5541874 , 0.88939937,\n",
       "       1.04214817, 1.00643185, 0.57284831, 1.67607046, 0.63892256,\n",
       "       1.50622008, 0.97617031, 0.87225076, 2.15839329, 0.51078798,\n",
       "       0.74474527, 0.56970972, 0.66962036, 1.08035623, 0.3852276 ,\n",
       "       1.32316282, 2.47580554, 0.46748724, 0.92342514, 0.93346814,\n",
       "       1.48472446, 0.44724066, 0.69618738, 0.60351258, 1.38610863,\n",
       "       0.47605923, 0.35093332, 0.65515306, 1.38769367, 0.9708136 ,\n",
       "       0.81401945, 0.65864305, 1.37329229, 1.44569856, 2.14340696,\n",
       "       2.68104449, 0.99423492, 0.60244177, 0.31181099, 0.9249874 ,\n",
       "       0.60483397, 0.49026283, 0.28604989, 1.53383501, 1.64591351,\n",
       "       0.78279489, 2.51147167, 1.68868923, 2.11266777, 1.71730682,\n",
       "       0.84389157, 0.57695746, 0.52121236, 1.11495726, 1.75901192,\n",
       "       0.56556841, 0.5644609 , 0.45409321, 0.78444365, 0.87465534,\n",
       "       0.38283202, 1.23824291, 1.73032614, 1.23567542, 1.08685364,\n",
       "       0.48696624, 0.62250691, 0.27220281, 0.5725048 , 0.94523404,\n",
       "       0.76652409, 0.73348522, 1.02670896, 0.87303832, 0.31507219,\n",
       "       1.0813255 , 1.19214986, 0.76032264, 1.14988975, 0.64439434,\n",
       "       0.77447617, 0.68774142, 1.19005195, 0.50216429, 2.02932921,\n",
       "       0.46456265, 0.8552007 , 0.9740534 , 0.30805042, 0.68086073,\n",
       "       0.30318739, 0.83907219, 1.2433825 , 1.09690471, 0.60320258,\n",
       "       1.46715934, 0.67198168, 1.14747774])"
      ]
     },
     "execution_count": 18,
     "metadata": {},
     "output_type": "execute_result"
    }
   ],
   "source": [
    "ozlpsfs[\"nom\"]"
   ]
  },
  {
   "cell_type": "markdown",
   "metadata": {},
   "source": []
  }
 ],
 "metadata": {
  "kernelspec": {
   "display_name": "python39",
   "language": "python",
   "name": "python3"
  },
  "language_info": {
   "codemirror_mode": {
    "name": "ipython",
    "version": 3
   },
   "file_extension": ".py",
   "mimetype": "text/x-python",
   "name": "python",
   "nbconvert_exporter": "python",
   "pygments_lexer": "ipython3",
   "version": "3.9.15"
  }
 },
 "nbformat": 4,
 "nbformat_minor": 2
}
