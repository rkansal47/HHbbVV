{
 "cells": [
  {
   "cell_type": "code",
   "execution_count": null,
   "metadata": {},
   "outputs": [],
   "source": [
    "import sys, os\n",
    "\n",
    "sys.path.insert(0, \"\")\n",
    "sys.path.append(\"/home/users/rkansal/hhbbvv/LundReweighting\")\n",
    "\n",
    "from utils.Utils import *"
   ]
  },
  {
   "cell_type": "code",
   "execution_count": 1,
   "metadata": {},
   "outputs": [],
   "source": [
    "import uproot\n",
    "import awkward as ak\n",
    "from collections import OrderedDict\n",
    "import numpy as np\n",
    "\n",
    "from coffea import nanoevents\n",
    "from coffea.nanoevents.methods.base import NanoEventsArray\n",
    "from coffea.analysis_tools import Weights, PackedSelection\n",
    "from coffea.nanoevents.methods import nanoaod\n",
    "from coffea.nanoevents.methods import vector\n",
    "from coffea.lookup_tools.dense_lookup import dense_lookup"
   ]
  },
  {
   "cell_type": "code",
   "execution_count": 2,
   "metadata": {},
   "outputs": [],
   "source": [
    "import HHbbVV\n",
    "from HHbbVV.processors.utils import P4\n",
    "from HHbbVV import run_utils"
   ]
  },
  {
   "cell_type": "code",
   "execution_count": 3,
   "metadata": {},
   "outputs": [],
   "source": [
    "%load_ext autoreload\n",
    "%autoreload 2"
   ]
  },
  {
   "cell_type": "code",
   "execution_count": null,
   "metadata": {},
   "outputs": [],
   "source": [
    "run_utils.add_mixins(nanoevents)\n",
    "\n",
    "events = nanoevents.NanoEventsFactory.from_root(\n",
    "    \"root://cmseos.fnal.gov///store/user/lpcpfnano/cmantill/v2_3/2018/HH/GluGluToHHTobbVV_node_cHHH1_TuneCP5_13TeV-powheg-pythia8/GluGluToHHTobbVV_node_cHHH1/220808_145933/0000/nano_mc2018_1-1.root\",\n",
    "    schemaclass=nanoevents.NanoAODSchema,\n",
    ").events()[:5000]"
   ]
  },
  {
   "cell_type": "code",
   "execution_count": 5,
   "metadata": {},
   "outputs": [],
   "source": [
    "events = events[ak.count(events.FatJet.pt, axis=1) >= 2]"
   ]
  },
  {
   "cell_type": "code",
   "execution_count": 6,
   "metadata": {},
   "outputs": [],
   "source": [
    "gen_weights = np.sign(events[\"genWeight\"])\n",
    "n_events = np.sum(gen_weights)\n",
    "\n",
    "selection = PackedSelection()\n",
    "cutflow = OrderedDict()\n",
    "cutflow[\"all\"] = n_events\n",
    "\n",
    "selection_args = (selection, cutflow, False, gen_weights)"
   ]
  },
  {
   "cell_type": "code",
   "execution_count": 7,
   "metadata": {},
   "outputs": [],
   "source": [
    "gen_vars_dict, (genbb, genq) = HHbbVV.processors.GenSelection.gen_selection_HHbbVV(\n",
    "    events, events.FatJet, selection, cutflow, gen_weights, P4\n",
    ")"
   ]
  },
  {
   "cell_type": "code",
   "execution_count": null,
   "metadata": {},
   "outputs": [],
   "source": [
    "vvfj1 = gen_vars_dict[\"ak8FatJetHVV\"][:, 0].astype(bool)\n",
    "vvfj4 = gen_vars_dict[\"ak8FatJetHVVNumProngs\"] == 4\n",
    "selector = vvfj1 * vvfj4\n",
    "\n",
    "ak8_pfcands = events[selector].FatJetPFCands\n",
    "ak8_pfcands = ak8_pfcands[ak8_pfcands.jetIdx == 0]\n",
    "pfcands = events[selector].PFCands[ak8_pfcands.pFCandsIdx]\n",
    "pfc4 = ak.fill_none((ak.count(pfcands.pt, axis=1) >= 4), False)\n",
    "selector[selector] = pfc4\n",
    "selector = np.ma.filled(selector, fill_value=False)\n",
    "\n",
    "vv_fatjets = events.FatJet[selector][:, 0:1]\n",
    "gen_quarks = genq[selector]"
   ]
  },
  {
   "cell_type": "code",
   "execution_count": 10,
   "metadata": {},
   "outputs": [],
   "source": [
    "lpsfargs = [\n",
    "    \"2018\",\n",
    "    events[selector],\n",
    "    vv_fatjets,\n",
    "    0,\n",
    "    4,\n",
    "    gen_quarks,\n",
    "    gen_weights[selector],\n",
    "    \"GluGluToHHTobbVV_node_cHHH1\",\n",
    "]\n",
    "\n",
    "# lpsfs, lp_hist = HHbbVV.processors.corrections.get_lund_SFs(\n",
    "# lpsfs, lp_hist = HHbbVV.processors.corrections.get_lund_SFs(*lpsfargs)\n",
    "outlp = HHbbVV.processors.corrections.get_lund_SFs(*lpsfargs)"
   ]
  },
  {
   "cell_type": "code",
   "execution_count": null,
   "metadata": {},
   "outputs": [],
   "source": [
    "outlp[1][0]"
   ]
  },
  {
   "cell_type": "markdown",
   "metadata": {},
   "source": [
    "## Oz version"
   ]
  },
  {
   "cell_type": "code",
   "execution_count": 15,
   "metadata": {},
   "outputs": [],
   "source": [
    "f_ratio_name = \"../corrections/lp_ratios/ratio_2018.root\"\n",
    "f_ratio = ROOT.TFile.Open(f_ratio_name)\n",
    "LP_rw = LundReweighter(f_ratio=f_ratio)"
   ]
  },
  {
   "cell_type": "code",
   "execution_count": 16,
   "metadata": {},
   "outputs": [],
   "source": [
    "ak8_pfcands = events[selector].FatJetPFCands\n",
    "ak8_pfcands = ak8_pfcands[ak8_pfcands.jetIdx == 0]\n",
    "pfcands = events[selector].PFCands[ak8_pfcands.pFCandsIdx]\n",
    "\n",
    "pfcands_vector_ptetaphi = ak.Array(\n",
    "    [\n",
    "        [{kin_key: cand[kin_key] for kin_key in P4} for cand in event_cands]\n",
    "        for event_cands in pfcands\n",
    "    ],\n",
    "    with_name=\"PtEtaPhiMLorentzVector\",\n",
    ")"
   ]
  },
  {
   "cell_type": "code",
   "execution_count": 17,
   "metadata": {},
   "outputs": [],
   "source": [
    "gen_parts_eta_phi = [np.array([[gq.eta, gq.phi] for gq in genqs]) for genqs in gen_quarks]\n",
    "pf_cands = [\n",
    "    np.array([[pfc.px, pfc.py, pfc.pz, pfc.E] for pfc in pcands])\n",
    "    for pcands in pfcands_vector_ptetaphi\n",
    "]\n",
    "ak8_jets = np.array([[fj.pt, fj.eta, fj.phi, fj.mass] for fj in vv_fatjets])"
   ]
  },
  {
   "cell_type": "code",
   "execution_count": null,
   "metadata": {},
   "outputs": [],
   "source": [
    "ozlpsfs = LP_rw.get_all_weights(pf_cands, gen_parts_eta_phi, ak8_jets, normalize=False)"
   ]
  },
  {
   "cell_type": "markdown",
   "metadata": {},
   "source": [
    "## Comparing"
   ]
  },
  {
   "cell_type": "markdown",
   "metadata": {},
   "source": [
    "#### Check subjets"
   ]
  },
  {
   "cell_type": "code",
   "execution_count": null,
   "metadata": {},
   "outputs": [],
   "source": [
    "np.array(ozlpsfs[\"reclust_nom\"][0].subjet)[:, 0]"
   ]
  },
  {
   "cell_type": "code",
   "execution_count": null,
   "metadata": {},
   "outputs": [],
   "source": [
    "outlp[1][0]"
   ]
  },
  {
   "cell_type": "markdown",
   "metadata": {},
   "source": [
    "Subjets matching"
   ]
  },
  {
   "cell_type": "markdown",
   "metadata": {},
   "source": [
    "#### Check LP variables"
   ]
  },
  {
   "cell_type": "code",
   "execution_count": null,
   "metadata": {},
   "outputs": [],
   "source": [
    "# [i, pseudojet.subjet_pt, pseudojet.order, delta, kt]\n",
    "idx = 4\n",
    "ozlpsfs = LP_rw.get_all_weights(\n",
    "    pf_cands[idx : idx + 1],\n",
    "    gen_parts_eta_phi[idx : idx + 1],\n",
    "    ak8_jets[idx : idx + 1],\n",
    "    normalize=False,\n",
    ")\n",
    "ozlpsfs[\"reclust_nom\"][0].split"
   ]
  },
  {
   "cell_type": "code",
   "execution_count": null,
   "metadata": {},
   "outputs": [],
   "source": [
    "lpsfargs = [\n",
    "    \"2018\",\n",
    "    events[selector][idx : idx + 1],\n",
    "    vv_fatjets[idx : idx + 1],\n",
    "    0,\n",
    "    4,\n",
    "    gen_quarks[idx : idx + 1],\n",
    "    gen_weights[selector][idx : idx + 1],\n",
    "    \"GluGluToHHTobbVV_node_cHHH1\",\n",
    "]\n",
    "\n",
    "# lpsfs, lp_hist = HHbbVV.processors.corrections.get_lund_SFs(\n",
    "# lpsfs, lp_hist = HHbbVV.processors.corrections.get_lund_SFs(*lpsfargs)\n",
    "outlp = HHbbVV.processors.corrections.get_lund_SFs(*lpsfargs)"
   ]
  },
  {
   "cell_type": "code",
   "execution_count": null,
   "metadata": {},
   "outputs": [],
   "source": [
    "[np.array(outlp[2].Delta), outlp[2].kt.to_numpy()]"
   ]
  },
  {
   "cell_type": "markdown",
   "metadata": {},
   "source": [
    "LP variables matching if I remove 1 GeV pf candidate cut"
   ]
  },
  {
   "cell_type": "markdown",
   "metadata": {},
   "source": [
    "### Check SFs"
   ]
  },
  {
   "cell_type": "code",
   "execution_count": null,
   "metadata": {},
   "outputs": [],
   "source": [
    "ozlpsfs = LP_rw.get_all_weights(pf_cands, gen_parts_eta_phi, ak8_jets, normalize=False)\n",
    "ozlpsfs[\"nom\"]"
   ]
  },
  {
   "cell_type": "code",
   "execution_count": null,
   "metadata": {},
   "outputs": [],
   "source": [
    "lpsfargs = [\n",
    "    \"2018\",\n",
    "    events[selector],\n",
    "    vv_fatjets,\n",
    "    0,\n",
    "    4,\n",
    "    gen_quarks,\n",
    "    gen_weights[selector],\n",
    "    \"GluGluToHHTobbVV_node_cHHH1\",\n",
    "]\n",
    "\n",
    "# lpsfs, lp_hist = HHbbVV.processors.corrections.get_lund_SFs(\n",
    "# lpsfs, lp_hist = HHbbVV.processors.corrections.get_lund_SFs(*lpsfargs)\n",
    "outlp = HHbbVV.processors.corrections.get_lund_SFs(*lpsfargs)\n",
    "# outlp['lp_sf_lnN'][:, 0]"
   ]
  },
  {
   "cell_type": "code",
   "execution_count": null,
   "metadata": {},
   "outputs": [],
   "source": [
    "outlp[0][\"lp_sf_lnN\"][:, 0]"
   ]
  },
  {
   "cell_type": "code",
   "execution_count": null,
   "metadata": {},
   "outputs": [],
   "source": [
    "np.mean(np.isclose(outlp[0][\"lp_sf_lnN\"][:, 0], ozlpsfs[\"nom\"], rtol=0.00001))"
   ]
  },
  {
   "cell_type": "code",
   "execution_count": null,
   "metadata": {},
   "outputs": [],
   "source": [
    "print(np.mean(np.isclose(outlp[0][\"lp_sf_sys_up\"][:, 0], ozlpsfs[\"sys_up\"], rtol=0.001)))\n",
    "print(np.mean(np.isclose(outlp[0][\"lp_sf_sys_down\"][:, 0], ozlpsfs[\"sys_down\"], rtol=0.001)))"
   ]
  },
  {
   "cell_type": "code",
   "execution_count": null,
   "metadata": {},
   "outputs": [],
   "source": [
    "np.argmin(np.isclose(outlp[0][\"lp_sf_sys_up\"][:, 0], ozlpsfs[\"sys_up\"], rtol=0.001))"
   ]
  },
  {
   "cell_type": "code",
   "execution_count": null,
   "metadata": {},
   "outputs": [],
   "source": [
    "outlp[0][\"lp_sf_sys_up\"][:, 0][62]"
   ]
  },
  {
   "cell_type": "code",
   "execution_count": null,
   "metadata": {},
   "outputs": [],
   "source": [
    "ozlpsfs[\"sys_up\"][62]"
   ]
  },
  {
   "cell_type": "markdown",
   "metadata": {},
   "source": [
    "### SFs for 1 jet"
   ]
  },
  {
   "cell_type": "code",
   "execution_count": null,
   "metadata": {},
   "outputs": [],
   "source": [
    "# oz subjets [182.61677331494036, 123.00436085912942, 110.07500015490386, 13.654364638246314]\n",
    "idx = 62\n",
    "\n",
    "ozlpsfs = LP_rw.get_all_weights(\n",
    "    pf_cands[idx : idx + 1],\n",
    "    gen_parts_eta_phi[idx : idx + 1],\n",
    "    ak8_jets[idx : idx + 1],\n",
    "    normalize=False,\n",
    ")\n",
    "\n",
    "# print(\"nom:\", ozlpsfs['nom'])\n",
    "print(\"sys_up:\", ozlpsfs[\"sys_up\"])\n",
    "\n",
    "\n",
    "# [1.37, 0.917, 1.05, 1.08, 0.991, 1.08, 1]"
   ]
  },
  {
   "cell_type": "code",
   "execution_count": null,
   "metadata": {},
   "outputs": [],
   "source": [
    "np.log(0.02)"
   ]
  },
  {
   "cell_type": "code",
   "execution_count": null,
   "metadata": {},
   "outputs": [],
   "source": [
    "# my subjets [78.4, 76.8, 118, 138]\n",
    "\n",
    "lpsfargs = [\n",
    "    \"2018\",\n",
    "    events[selector][idx : idx + 1],\n",
    "    vv_fatjets[idx : idx + 1],\n",
    "    0,\n",
    "    4,\n",
    "    gen_quarks[idx : idx + 1],\n",
    "    gen_weights[selector][idx : idx + 1],\n",
    "    \"GluGluToHHTobbVV_node_cHHH1\",\n",
    "]\n",
    "\n",
    "# lpsfs, lp_hist = HHbbVV.processors.corrections.get_lund_SFs(\n",
    "# lpsfs, lp_hist = HHbbVV.processors.corrections.get_lund_SFs(*lpsfargs)\n",
    "outlp = HHbbVV.processors.corrections.get_lund_SFs(*lpsfargs)"
   ]
  },
  {
   "cell_type": "code",
   "execution_count": null,
   "metadata": {},
   "outputs": [],
   "source": [
    "outlp[\"lp_sf_sys_up\"]"
   ]
  },
  {
   "cell_type": "markdown",
   "metadata": {},
   "source": [
    "Matching if I ignore unmatched subjets!"
   ]
  },
  {
   "cell_type": "code",
   "execution_count": 87,
   "metadata": {},
   "outputs": [],
   "source": [
    "num_prongs = 4\n",
    "sj_matched_idx = np.array([[3, 0, 3, 2], [1, 2, 0, 1], [2, 1, 1, 0], [0, 3, 2, 3]])\n",
    "\n",
    "# fill a boolean array of [len(events), num_prongs] with True if the subjet is matched, parallelized\n",
    "\n",
    "\n",
    "# sj_matched = np.sum(sj_matched_idx[:, None, :] == sj_matched_idx[:, :, None], axis=2)"
   ]
  },
  {
   "cell_type": "code",
   "execution_count": 51,
   "metadata": {},
   "outputs": [],
   "source": [
    "tpfc = np.array([[j.pt(), j.eta(), j.phi(), j.m()] for j in reclust.split])"
   ]
  },
  {
   "cell_type": "code",
   "execution_count": null,
   "metadata": {},
   "outputs": [],
   "source": [
    "len(tpfc)"
   ]
  },
  {
   "cell_type": "code",
   "execution_count": null,
   "metadata": {},
   "outputs": [],
   "source": [
    "print(\"pt\")\n",
    "print(np.sort(tpfc[:, 0]))\n",
    "print(\"eta\")\n",
    "print(tpfc[:, 1][np.argsort(tpfc[:, 0])])"
   ]
  },
  {
   "cell_type": "code",
   "execution_count": null,
   "metadata": {},
   "outputs": [],
   "source": [
    "_ = HHbbVV.processors.corrections.get_lund_SFs(*lpsfargs)"
   ]
  },
  {
   "cell_type": "code",
   "execution_count": null,
   "metadata": {},
   "outputs": [],
   "source": [
    "[np.array(lds[2][0].Delta), lds[2][0].kt.to_numpy()]"
   ]
  },
  {
   "cell_type": "code",
   "execution_count": null,
   "metadata": {},
   "outputs": [],
   "source": [
    "lds[0].Delta[0]"
   ]
  },
  {
   "cell_type": "markdown",
   "metadata": {},
   "source": [
    "## Comparing 4 particle jet"
   ]
  },
  {
   "cell_type": "code",
   "execution_count": null,
   "metadata": {},
   "outputs": [],
   "source": [
    "pfcands_vector_ptetaphi[0][1:5].pt"
   ]
  },
  {
   "cell_type": "code",
   "execution_count": null,
   "metadata": {},
   "outputs": [],
   "source": [
    "LP_rw.get_splittings(pf_cands[0][:5], num_excjets=1)"
   ]
  },
  {
   "cell_type": "code",
   "execution_count": 44,
   "metadata": {},
   "outputs": [],
   "source": [
    "import fastjet"
   ]
  },
  {
   "cell_type": "code",
   "execution_count": 97,
   "metadata": {},
   "outputs": [],
   "source": [
    "jetdef = fastjet.JetDefinition(fastjet.cambridge_algorithm, 1000.0)\n",
    "cluster = fastjet._pyjet.AwkwardClusterSequence(pfcands_vector_ptetaphi[0][1:5], jetdef)\n",
    "lds = cluster.exclusive_jets_lund_declusterings(1)"
   ]
  },
  {
   "cell_type": "code",
   "execution_count": 45,
   "metadata": {},
   "outputs": [],
   "source": [
    "jet_def = fastjet.JetDefinition(fastjet.kt_algorithm, 0.8)\n",
    "cs = fastjet.ClusterSequence(pfcands_vector_ptetaphi[0][:5], jet_def)\n",
    "ldskt = cs.exclusive_jets_lund_declusterings(1)"
   ]
  },
  {
   "cell_type": "code",
   "execution_count": null,
   "metadata": {},
   "outputs": [],
   "source": [
    "lds[0].Delta"
   ]
  },
  {
   "cell_type": "code",
   "execution_count": null,
   "metadata": {},
   "outputs": [],
   "source": [
    "ldskt[0].kt"
   ]
  },
  {
   "cell_type": "code",
   "execution_count": null,
   "metadata": {},
   "outputs": [],
   "source": [
    "(\n",
    "    pfcands_vector_ptetaphi[0][:5][0]\n",
    "    + pfcands_vector_ptetaphi[0][:5][1]\n",
    "    + pfcands_vector_ptetaphi[0][:5][2]\n",
    "    + pfcands_vector_ptetaphi[0][:5][3]\n",
    "    + pfcands_vector_ptetaphi[0][:5][4]\n",
    ").pt"
   ]
  },
  {
   "cell_type": "code",
   "execution_count": null,
   "metadata": {},
   "outputs": [],
   "source": [
    "ak.sum(pfcands_vector_ptetaphi[0][:5])"
   ]
  },
  {
   "cell_type": "code",
   "execution_count": null,
   "metadata": {},
   "outputs": [],
   "source": [
    "lpsfs[\"lp_sf_lnN\"][:, 0]"
   ]
  },
  {
   "cell_type": "code",
   "execution_count": null,
   "metadata": {},
   "outputs": [],
   "source": [
    "ozlpsfs[\"nom\"]"
   ]
  },
  {
   "cell_type": "markdown",
   "metadata": {},
   "source": [
    "## Comparing full jet"
   ]
  },
  {
   "cell_type": "code",
   "execution_count": null,
   "metadata": {},
   "outputs": [],
   "source": [
    "# pfcands_vector_ptetaphi[0]\n",
    "LP_rw.get_splittings(pf_cands[0], num_excjets=4)"
   ]
  },
  {
   "cell_type": "code",
   "execution_count": null,
   "metadata": {},
   "outputs": [],
   "source": [
    "jet_def = fastjet.JetDefinition(fastjet.kt_algorithm, 0.8)\n",
    "cs = fastjet.ClusterSequence(pfcands_vector_ptetaphi[0][:5], jet_def)\n",
    "ldskt = cs.exclusive_jets_lund_declusterings(1)\n",
    "\n",
    "kt_clustering = fastjet.ClusterSequence(pfcands_vector_ptetaphi, jet_def)\n",
    "kt_subjets = kt_clustering.exclusive_jets(4)\n",
    "\n",
    "kt_subjets_vec = ak.zip(\n",
    "    {\"x\": kt_subjets.px, \"y\": kt_subjets.py, \"z\": kt_subjets.pz, \"t\": kt_subjets.E},\n",
    "    with_name=\"LorentzVector\",\n",
    ")\n",
    "\n",
    "# save subjet pT * JEC scaling\n",
    "kt_subjets_pt = kt_subjets_vec.pt * 1\n",
    "# get constituents\n",
    "kt_subjet_consts = kt_clustering.exclusive_jets_constituents(4)\n",
    "kt_subjet_consts = kt_subjet_consts[kt_subjet_consts.pt > min_pt]\n",
    "kt_subjet_consts = ak.flatten(kt_subjet_consts, axis=1)\n",
    "\n",
    "# dummy particle to pad empty subjets. SF for these subjets will be 1\n",
    "dummy_particle = ak.Array(\n",
    "    [{kin_key: 0.0 for kin_key in P4}],\n",
    "    with_name=\"PtEtaPhiMLorentzVector\",\n",
    ")\n",
    "\n",
    "# pad empty subjets\n",
    "kt_subjet_consts = ak.fill_none(ak.pad_none(kt_subjet_consts, 1, axis=1), dummy_particle[0])\n",
    "\n",
    "# then re-cluster with CA\n",
    "# won't need to flatten once https://github.com/scikit-hep/fastjet/pull/145 is released\n",
    "reclustering = fastjet.ClusterSequence(kt_subjet_consts, recluster_def)\n",
    "lds = reclustering.exclusive_jets_lund_declusterings(1)"
   ]
  },
  {
   "cell_type": "markdown",
   "metadata": {},
   "source": [
    "## Dist hist filling"
   ]
  },
  {
   "cell_type": "code",
   "execution_count": null,
   "metadata": {},
   "outputs": [],
   "source": [
    "out = HHbbVV.processors.corrections.get_lund_SFs(*lpsfargs)"
   ]
  },
  {
   "cell_type": "code",
   "execution_count": 12,
   "metadata": {},
   "outputs": [],
   "source": [
    "from HHbbVV.postprocessing import plotting"
   ]
  },
  {
   "cell_type": "code",
   "execution_count": null,
   "metadata": {},
   "outputs": [],
   "source": [
    "# won't show if Oz's stuff is imported for some reason\n",
    "plotting.plot_lund_plane_six(out[1], show=True)"
   ]
  },
  {
   "cell_type": "code",
   "execution_count": null,
   "metadata": {},
   "outputs": [],
   "source": [
    "out[1][1, ...]"
   ]
  },
  {
   "cell_type": "code",
   "execution_count": 195,
   "metadata": {},
   "outputs": [],
   "source": [
    "arr = np.array([10, 20, 30])"
   ]
  },
  {
   "cell_type": "code",
   "execution_count": null,
   "metadata": {},
   "outputs": [],
   "source": [
    "np.tile(arr[:, None], (1, 4))"
   ]
  },
  {
   "cell_type": "code",
   "execution_count": null,
   "metadata": {},
   "outputs": [],
   "source": [
    "isinstance(kt_subjets_pt[sj_matched][0], float)"
   ]
  },
  {
   "cell_type": "code",
   "execution_count": null,
   "metadata": {},
   "outputs": [],
   "source": [
    "lds"
   ]
  },
  {
   "cell_type": "code",
   "execution_count": null,
   "metadata": {},
   "outputs": [],
   "source": [
    "ak.flatten(lds[sj_matched.reshape(-1)], axis=1)"
   ]
  },
  {
   "cell_type": "code",
   "execution_count": null,
   "metadata": {},
   "outputs": [],
   "source": [
    "sj_matched"
   ]
  }
 ],
 "metadata": {
  "kernelspec": {
   "display_name": "python39",
   "language": "python",
   "name": "python3"
  },
  "language_info": {
   "codemirror_mode": {
    "name": "ipython",
    "version": 3
   },
   "file_extension": ".py",
   "mimetype": "text/x-python",
   "name": "python",
   "nbconvert_exporter": "python",
   "pygments_lexer": "ipython3",
   "version": "3.9.15"
  }
 },
 "nbformat": 4,
 "nbformat_minor": 2
}
