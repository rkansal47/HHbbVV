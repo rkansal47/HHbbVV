{
 "cells": [
  {
   "cell_type": "code",
   "execution_count": null,
   "metadata": {},
   "outputs": [],
   "source": [
    "import os\n",
    "import yaml"
   ]
  },
  {
   "cell_type": "code",
   "execution_count": null,
   "metadata": {},
   "outputs": [],
   "source": [
    "year_users = {\n",
    "    \"2016\": \"rkansal\",\n",
    "    \"2016APV\": \"rkansal\",\n",
    "    \"2017\": \"ammitra\",\n",
    "    \"2018\": \"cmantill\",\n",
    "}"
   ]
  },
  {
   "cell_type": "code",
   "execution_count": null,
   "metadata": {},
   "outputs": [],
   "source": [
    "for year, user in year_users.items():\n",
    "    print(year)\n",
    "    pfnano_samples = [\n",
    "        sample.split(\"_TuneCP5_13TeV-madgraph-pythia8\")[0]\n",
    "        for sample in os.listdir(f\"/eos/uscms/store/group/lpcpfnano/{user}/v2_3/{year}/XHY\")\n",
    "    ]\n",
    "\n",
    "    with open(f\"parsed_miniaod_{year}.yaml\", \"r\") as f:\n",
    "        mini_samples = list(yaml.safe_load(f)[\"samples\"][\"XHY\"][\"datasets\"].keys())\n",
    "\n",
    "    for sample in mini_samples:\n",
    "        if sample not in pfnano_samples:\n",
    "            print(sample)"
   ]
  }
 ],
 "metadata": {
  "kernelspec": {
   "display_name": "python39",
   "language": "python",
   "name": "python3"
  },
  "language_info": {
   "codemirror_mode": {
    "name": "ipython",
    "version": 3
   },
   "file_extension": ".py",
   "mimetype": "text/x-python",
   "name": "python",
   "nbconvert_exporter": "python",
   "pygments_lexer": "ipython3",
   "version": "3.9.15"
  },
  "orig_nbformat": 4
 },
 "nbformat": 4,
 "nbformat_minor": 2
}
