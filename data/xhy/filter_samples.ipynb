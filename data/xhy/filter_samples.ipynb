{
 "cells": [
  {
   "cell_type": "code",
   "execution_count": null,
   "metadata": {},
   "outputs": [],
   "source": [
    "import yaml"
   ]
  },
  {
   "cell_type": "code",
   "execution_count": null,
   "metadata": {},
   "outputs": [],
   "source": [
    "with open(\"parsed_miniaod_2017.yaml\", \"r\") as f:\n",
    "    files = yaml.safe_load(f)"
   ]
  },
  {
   "cell_type": "code",
   "execution_count": null,
   "metadata": {},
   "outputs": [],
   "source": [
    "samples = list(files[\"samples\"][\"XHY\"][\"datasets\"].keys())"
   ]
  },
  {
   "cell_type": "code",
   "execution_count": null,
   "metadata": {},
   "outputs": [],
   "source": [
    "len(samples)"
   ]
  },
  {
   "cell_type": "code",
   "execution_count": 19,
   "metadata": {},
   "outputs": [],
   "source": [
    "def filters(sample):\n",
    "    mY = int(sample.split(\"-\")[-1])\n",
    "    mX = int(sample.split(\"NMSSM_XToYHTo2W2BTo4Q2B_MX-\")[1].split(\"_\")[0])\n",
    "\n",
    "    return (mY <= 250) and (mX >= 600) and (mY != 70) and (mY != 90) and (mX != 2500)"
   ]
  },
  {
   "cell_type": "code",
   "execution_count": 20,
   "metadata": {},
   "outputs": [],
   "source": [
    "filtered_samples = [sample for sample in samples if filters(sample)]"
   ]
  },
  {
   "cell_type": "code",
   "execution_count": 21,
   "metadata": {},
   "outputs": [
    {
     "data": {
      "text/plain": [
       "115"
      ]
     },
     "execution_count": 21,
     "metadata": {},
     "output_type": "execute_result"
    }
   ],
   "source": [
    "len(filtered_samples)"
   ]
  },
  {
   "cell_type": "code",
   "execution_count": 22,
   "metadata": {},
   "outputs": [
    {
     "data": {
      "text/plain": [
       "['NMSSM_XToYHTo2W2BTo4Q2B_MX-1000_MY-100',\n",
       " 'NMSSM_XToYHTo2W2BTo4Q2B_MX-1000_MY-125',\n",
       " 'NMSSM_XToYHTo2W2BTo4Q2B_MX-1000_MY-150',\n",
       " 'NMSSM_XToYHTo2W2BTo4Q2B_MX-1000_MY-190',\n",
       " 'NMSSM_XToYHTo2W2BTo4Q2B_MX-1000_MY-250',\n",
       " 'NMSSM_XToYHTo2W2BTo4Q2B_MX-1000_MY-60',\n",
       " 'NMSSM_XToYHTo2W2BTo4Q2B_MX-1000_MY-80',\n",
       " 'NMSSM_XToYHTo2W2BTo4Q2B_MX-1200_MY-100',\n",
       " 'NMSSM_XToYHTo2W2BTo4Q2B_MX-1200_MY-125',\n",
       " 'NMSSM_XToYHTo2W2BTo4Q2B_MX-1200_MY-150',\n",
       " 'NMSSM_XToYHTo2W2BTo4Q2B_MX-1200_MY-190',\n",
       " 'NMSSM_XToYHTo2W2BTo4Q2B_MX-1200_MY-250',\n",
       " 'NMSSM_XToYHTo2W2BTo4Q2B_MX-1200_MY-60',\n",
       " 'NMSSM_XToYHTo2W2BTo4Q2B_MX-1200_MY-80',\n",
       " 'NMSSM_XToYHTo2W2BTo4Q2B_MX-1400_MY-100',\n",
       " 'NMSSM_XToYHTo2W2BTo4Q2B_MX-1400_MY-125',\n",
       " 'NMSSM_XToYHTo2W2BTo4Q2B_MX-1400_MY-150',\n",
       " 'NMSSM_XToYHTo2W2BTo4Q2B_MX-1400_MY-190',\n",
       " 'NMSSM_XToYHTo2W2BTo4Q2B_MX-1400_MY-250',\n",
       " 'NMSSM_XToYHTo2W2BTo4Q2B_MX-1400_MY-60',\n",
       " 'NMSSM_XToYHTo2W2BTo4Q2B_MX-1400_MY-80',\n",
       " 'NMSSM_XToYHTo2W2BTo4Q2B_MX-1600_MY-100',\n",
       " 'NMSSM_XToYHTo2W2BTo4Q2B_MX-1600_MY-125',\n",
       " 'NMSSM_XToYHTo2W2BTo4Q2B_MX-1600_MY-150',\n",
       " 'NMSSM_XToYHTo2W2BTo4Q2B_MX-1600_MY-190',\n",
       " 'NMSSM_XToYHTo2W2BTo4Q2B_MX-1600_MY-250',\n",
       " 'NMSSM_XToYHTo2W2BTo4Q2B_MX-1600_MY-60',\n",
       " 'NMSSM_XToYHTo2W2BTo4Q2B_MX-1600_MY-80',\n",
       " 'NMSSM_XToYHTo2W2BTo4Q2B_MX-1800_MY-100',\n",
       " 'NMSSM_XToYHTo2W2BTo4Q2B_MX-1800_MY-125',\n",
       " 'NMSSM_XToYHTo2W2BTo4Q2B_MX-1800_MY-150',\n",
       " 'NMSSM_XToYHTo2W2BTo4Q2B_MX-1800_MY-190',\n",
       " 'NMSSM_XToYHTo2W2BTo4Q2B_MX-1800_MY-250',\n",
       " 'NMSSM_XToYHTo2W2BTo4Q2B_MX-1800_MY-60',\n",
       " 'NMSSM_XToYHTo2W2BTo4Q2B_MX-1800_MY-80',\n",
       " 'NMSSM_XToYHTo2W2BTo4Q2B_MX-2000_MY-100',\n",
       " 'NMSSM_XToYHTo2W2BTo4Q2B_MX-2000_MY-125',\n",
       " 'NMSSM_XToYHTo2W2BTo4Q2B_MX-2000_MY-150',\n",
       " 'NMSSM_XToYHTo2W2BTo4Q2B_MX-2000_MY-190',\n",
       " 'NMSSM_XToYHTo2W2BTo4Q2B_MX-2000_MY-250',\n",
       " 'NMSSM_XToYHTo2W2BTo4Q2B_MX-2000_MY-60',\n",
       " 'NMSSM_XToYHTo2W2BTo4Q2B_MX-2000_MY-80',\n",
       " 'NMSSM_XToYHTo2W2BTo4Q2B_MX-2200_MY-100',\n",
       " 'NMSSM_XToYHTo2W2BTo4Q2B_MX-2200_MY-125',\n",
       " 'NMSSM_XToYHTo2W2BTo4Q2B_MX-2200_MY-150',\n",
       " 'NMSSM_XToYHTo2W2BTo4Q2B_MX-2200_MY-190',\n",
       " 'NMSSM_XToYHTo2W2BTo4Q2B_MX-2200_MY-250',\n",
       " 'NMSSM_XToYHTo2W2BTo4Q2B_MX-2200_MY-60',\n",
       " 'NMSSM_XToYHTo2W2BTo4Q2B_MX-2200_MY-80',\n",
       " 'NMSSM_XToYHTo2W2BTo4Q2B_MX-2400_MY-100',\n",
       " 'NMSSM_XToYHTo2W2BTo4Q2B_MX-2400_MY-125',\n",
       " 'NMSSM_XToYHTo2W2BTo4Q2B_MX-2400_MY-150',\n",
       " 'NMSSM_XToYHTo2W2BTo4Q2B_MX-2400_MY-190',\n",
       " 'NMSSM_XToYHTo2W2BTo4Q2B_MX-2400_MY-250',\n",
       " 'NMSSM_XToYHTo2W2BTo4Q2B_MX-2400_MY-60',\n",
       " 'NMSSM_XToYHTo2W2BTo4Q2B_MX-2400_MY-80',\n",
       " 'NMSSM_XToYHTo2W2BTo4Q2B_MX-2600_MY-100',\n",
       " 'NMSSM_XToYHTo2W2BTo4Q2B_MX-2600_MY-125',\n",
       " 'NMSSM_XToYHTo2W2BTo4Q2B_MX-2600_MY-150',\n",
       " 'NMSSM_XToYHTo2W2BTo4Q2B_MX-2600_MY-190',\n",
       " 'NMSSM_XToYHTo2W2BTo4Q2B_MX-2600_MY-250',\n",
       " 'NMSSM_XToYHTo2W2BTo4Q2B_MX-2600_MY-60',\n",
       " 'NMSSM_XToYHTo2W2BTo4Q2B_MX-2600_MY-80',\n",
       " 'NMSSM_XToYHTo2W2BTo4Q2B_MX-2800_MY-100',\n",
       " 'NMSSM_XToYHTo2W2BTo4Q2B_MX-2800_MY-125',\n",
       " 'NMSSM_XToYHTo2W2BTo4Q2B_MX-2800_MY-150',\n",
       " 'NMSSM_XToYHTo2W2BTo4Q2B_MX-2800_MY-190',\n",
       " 'NMSSM_XToYHTo2W2BTo4Q2B_MX-2800_MY-250',\n",
       " 'NMSSM_XToYHTo2W2BTo4Q2B_MX-2800_MY-60',\n",
       " 'NMSSM_XToYHTo2W2BTo4Q2B_MX-2800_MY-80',\n",
       " 'NMSSM_XToYHTo2W2BTo4Q2B_MX-3000_MY-100',\n",
       " 'NMSSM_XToYHTo2W2BTo4Q2B_MX-3000_MY-125',\n",
       " 'NMSSM_XToYHTo2W2BTo4Q2B_MX-3000_MY-150',\n",
       " 'NMSSM_XToYHTo2W2BTo4Q2B_MX-3000_MY-190',\n",
       " 'NMSSM_XToYHTo2W2BTo4Q2B_MX-3000_MY-250',\n",
       " 'NMSSM_XToYHTo2W2BTo4Q2B_MX-3000_MY-60',\n",
       " 'NMSSM_XToYHTo2W2BTo4Q2B_MX-3000_MY-80',\n",
       " 'NMSSM_XToYHTo2W2BTo4Q2B_MX-3500_MY-100',\n",
       " 'NMSSM_XToYHTo2W2BTo4Q2B_MX-3500_MY-125',\n",
       " 'NMSSM_XToYHTo2W2BTo4Q2B_MX-3500_MY-150',\n",
       " 'NMSSM_XToYHTo2W2BTo4Q2B_MX-3500_MY-190',\n",
       " 'NMSSM_XToYHTo2W2BTo4Q2B_MX-3500_MY-250',\n",
       " 'NMSSM_XToYHTo2W2BTo4Q2B_MX-3500_MY-60',\n",
       " 'NMSSM_XToYHTo2W2BTo4Q2B_MX-3500_MY-80',\n",
       " 'NMSSM_XToYHTo2W2BTo4Q2B_MX-4000_MY-100',\n",
       " 'NMSSM_XToYHTo2W2BTo4Q2B_MX-4000_MY-125',\n",
       " 'NMSSM_XToYHTo2W2BTo4Q2B_MX-4000_MY-150',\n",
       " 'NMSSM_XToYHTo2W2BTo4Q2B_MX-4000_MY-190',\n",
       " 'NMSSM_XToYHTo2W2BTo4Q2B_MX-4000_MY-250',\n",
       " 'NMSSM_XToYHTo2W2BTo4Q2B_MX-4000_MY-60',\n",
       " 'NMSSM_XToYHTo2W2BTo4Q2B_MX-4000_MY-80',\n",
       " 'NMSSM_XToYHTo2W2BTo4Q2B_MX-600_MY-100',\n",
       " 'NMSSM_XToYHTo2W2BTo4Q2B_MX-600_MY-125',\n",
       " 'NMSSM_XToYHTo2W2BTo4Q2B_MX-600_MY-150',\n",
       " 'NMSSM_XToYHTo2W2BTo4Q2B_MX-600_MY-250',\n",
       " 'NMSSM_XToYHTo2W2BTo4Q2B_MX-600_MY-60',\n",
       " 'NMSSM_XToYHTo2W2BTo4Q2B_MX-600_MY-80',\n",
       " 'NMSSM_XToYHTo2W2BTo4Q2B_MX-700_MY-100',\n",
       " 'NMSSM_XToYHTo2W2BTo4Q2B_MX-700_MY-125',\n",
       " 'NMSSM_XToYHTo2W2BTo4Q2B_MX-700_MY-150',\n",
       " 'NMSSM_XToYHTo2W2BTo4Q2B_MX-700_MY-250',\n",
       " 'NMSSM_XToYHTo2W2BTo4Q2B_MX-700_MY-60',\n",
       " 'NMSSM_XToYHTo2W2BTo4Q2B_MX-700_MY-80',\n",
       " 'NMSSM_XToYHTo2W2BTo4Q2B_MX-800_MY-100',\n",
       " 'NMSSM_XToYHTo2W2BTo4Q2B_MX-800_MY-125',\n",
       " 'NMSSM_XToYHTo2W2BTo4Q2B_MX-800_MY-150',\n",
       " 'NMSSM_XToYHTo2W2BTo4Q2B_MX-800_MY-250',\n",
       " 'NMSSM_XToYHTo2W2BTo4Q2B_MX-800_MY-60',\n",
       " 'NMSSM_XToYHTo2W2BTo4Q2B_MX-800_MY-80',\n",
       " 'NMSSM_XToYHTo2W2BTo4Q2B_MX-900_MY-100',\n",
       " 'NMSSM_XToYHTo2W2BTo4Q2B_MX-900_MY-125',\n",
       " 'NMSSM_XToYHTo2W2BTo4Q2B_MX-900_MY-150',\n",
       " 'NMSSM_XToYHTo2W2BTo4Q2B_MX-900_MY-250',\n",
       " 'NMSSM_XToYHTo2W2BTo4Q2B_MX-900_MY-60',\n",
       " 'NMSSM_XToYHTo2W2BTo4Q2B_MX-900_MY-80']"
      ]
     },
     "execution_count": 22,
     "metadata": {},
     "output_type": "execute_result"
    }
   ],
   "source": [
    "filtered_samples"
   ]
  },
  {
   "cell_type": "code",
   "execution_count": null,
   "metadata": {},
   "outputs": [],
   "source": []
  }
 ],
 "metadata": {
  "kernelspec": {
   "display_name": "python310",
   "language": "python",
   "name": "python3"
  },
  "language_info": {
   "codemirror_mode": {
    "name": "ipython",
    "version": 3
   },
   "file_extension": ".py",
   "mimetype": "text/x-python",
   "name": "python",
   "nbconvert_exporter": "python",
   "pygments_lexer": "ipython3",
   "version": "3.10.8"
  },
  "orig_nbformat": 4
 },
 "nbformat": 4,
 "nbformat_minor": 2
}
