{
 "cells": [
  {
   "cell_type": "code",
   "execution_count": 1,
   "metadata": {},
   "outputs": [],
   "source": [
    "import yaml\n",
    "import os"
   ]
  },
  {
   "cell_type": "code",
   "execution_count": null,
   "metadata": {},
   "outputs": [],
   "source": [
    "with open(\"parsed_miniaod_2017.yaml\", \"r\") as f:\n",
    "    files = yaml.safe_load(f)"
   ]
  },
  {
   "cell_type": "code",
   "execution_count": null,
   "metadata": {},
   "outputs": [],
   "source": [
    "samples = list(files[\"samples\"][\"XHY\"][\"datasets\"].keys())"
   ]
  },
  {
   "cell_type": "code",
   "execution_count": null,
   "metadata": {},
   "outputs": [],
   "source": [
    "len(samples)"
   ]
  },
  {
   "cell_type": "code",
   "execution_count": 4,
   "metadata": {},
   "outputs": [],
   "source": [
    "def mxmy(sample):\n",
    "    mY = int(sample.split(\"-\")[-1])\n",
    "    mX = int(sample.split(\"NMSSM_XToYHTo2W2BTo4Q2B_MX-\")[1].split(\"_\")[0])\n",
    "\n",
    "    return (mX, mY)"
   ]
  },
  {
   "cell_type": "code",
   "execution_count": 19,
   "metadata": {},
   "outputs": [],
   "source": [
    "def filters(sample):\n",
    "    mX, mY = mxmy(sample)\n",
    "    return (mY <= 250) and (mX >= 600) and (mY != 70) and (mY != 90) and (mX != 2500)"
   ]
  },
  {
   "cell_type": "code",
   "execution_count": 20,
   "metadata": {},
   "outputs": [],
   "source": [
    "filtered_samples = [sample for sample in samples if filters(sample)]"
   ]
  },
  {
   "cell_type": "code",
   "execution_count": 2,
   "metadata": {},
   "outputs": [],
   "source": [
    "templates = os.listdir(\"/eos/uscms/store/user/rkansal/bbVV/templates/Apr11\")"
   ]
  },
  {
   "cell_type": "code",
   "execution_count": null,
   "metadata": {},
   "outputs": [],
   "source": [
    "templates"
   ]
  },
  {
   "cell_type": "code",
   "execution_count": 7,
   "metadata": {},
   "outputs": [],
   "source": [
    "mps = [mxmy(sample) for sample in templates if sample.startswith(\"NMSSM\")]"
   ]
  },
  {
   "cell_type": "code",
   "execution_count": 8,
   "metadata": {},
   "outputs": [
    {
     "data": {
      "text/plain": [
       "[(1000, 100),\n",
       " (1000, 125),\n",
       " (1000, 150),\n",
       " (1000, 190),\n",
       " (1000, 250),\n",
       " (1000, 60),\n",
       " (1000, 80),\n",
       " (1200, 100),\n",
       " (1200, 150),\n",
       " (1200, 190),\n",
       " (1200, 250),\n",
       " (1200, 60),\n",
       " (1200, 80),\n",
       " (1400, 100),\n",
       " (1400, 125),\n",
       " (1400, 150),\n",
       " (1400, 190),\n",
       " (1400, 250),\n",
       " (1400, 60),\n",
       " (1400, 80),\n",
       " (1600, 100),\n",
       " (1600, 125),\n",
       " (1600, 150),\n",
       " (1600, 190),\n",
       " (1600, 250),\n",
       " (1600, 60),\n",
       " (1600, 80),\n",
       " (1800, 100),\n",
       " (1800, 125),\n",
       " (1800, 150),\n",
       " (1800, 190),\n",
       " (1800, 250),\n",
       " (1800, 60),\n",
       " (1800, 80),\n",
       " (2000, 100),\n",
       " (2000, 125),\n",
       " (2000, 150),\n",
       " (2000, 190),\n",
       " (2000, 250),\n",
       " (2000, 60),\n",
       " (2000, 80),\n",
       " (2200, 100),\n",
       " (2200, 125),\n",
       " (2200, 150),\n",
       " (2200, 190),\n",
       " (2200, 250),\n",
       " (2200, 60),\n",
       " (2200, 80),\n",
       " (2400, 100),\n",
       " (2400, 125),\n",
       " (2400, 150),\n",
       " (2400, 190),\n",
       " (2400, 250),\n",
       " (2400, 60),\n",
       " (2400, 80),\n",
       " (2600, 100),\n",
       " (2600, 125),\n",
       " (2600, 150),\n",
       " (2600, 190),\n",
       " (2600, 250),\n",
       " (2600, 80),\n",
       " (2800, 100),\n",
       " (2800, 125),\n",
       " (2800, 150),\n",
       " (2800, 190),\n",
       " (2800, 250),\n",
       " (2800, 60),\n",
       " (2800, 80),\n",
       " (3000, 100),\n",
       " (3000, 125),\n",
       " (3000, 150),\n",
       " (3000, 190),\n",
       " (3000, 250),\n",
       " (3000, 60),\n",
       " (3000, 80),\n",
       " (3500, 100),\n",
       " (3500, 125),\n",
       " (3500, 150),\n",
       " (3500, 190),\n",
       " (3500, 250),\n",
       " (3500, 60),\n",
       " (3500, 80),\n",
       " (4000, 100),\n",
       " (4000, 125),\n",
       " (4000, 150),\n",
       " (4000, 190),\n",
       " (4000, 250),\n",
       " (4000, 60),\n",
       " (4000, 80),\n",
       " (600, 100),\n",
       " (600, 125),\n",
       " (600, 150),\n",
       " (600, 250),\n",
       " (600, 60),\n",
       " (600, 80),\n",
       " (700, 100),\n",
       " (700, 125),\n",
       " (700, 150),\n",
       " (700, 250),\n",
       " (700, 60),\n",
       " (700, 80),\n",
       " (800, 100),\n",
       " (800, 125),\n",
       " (800, 150),\n",
       " (800, 250),\n",
       " (800, 60),\n",
       " (800, 80),\n",
       " (900, 100),\n",
       " (900, 125),\n",
       " (900, 150),\n",
       " (900, 250),\n",
       " (900, 60),\n",
       " (900, 80)]"
      ]
     },
     "execution_count": 8,
     "metadata": {},
     "output_type": "execute_result"
    }
   ],
   "source": [
    "mps"
   ]
  },
  {
   "cell_type": "code",
   "execution_count": null,
   "metadata": {},
   "outputs": [],
   "source": []
  }
 ],
 "metadata": {
  "kernelspec": {
   "display_name": "python310",
   "language": "python",
   "name": "python3"
  },
  "language_info": {
   "codemirror_mode": {
    "name": "ipython",
    "version": 3
   },
   "file_extension": ".py",
   "mimetype": "text/x-python",
   "name": "python",
   "nbconvert_exporter": "python",
   "pygments_lexer": "ipython3",
   "version": "3.10.8"
  },
  "orig_nbformat": 4
 },
 "nbformat": 4,
 "nbformat_minor": 2
}
