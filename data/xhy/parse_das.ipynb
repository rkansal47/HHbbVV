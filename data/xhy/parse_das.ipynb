{
 "cells": [
  {
   "cell_type": "code",
   "execution_count": 1,
   "metadata": {},
   "outputs": [],
   "source": [
    "with open(\"./miniaod.txt\", \"r\") as f:\n",
    "    samples = f.readlines()"
   ]
  },
  {
   "cell_type": "code",
   "execution_count": 3,
   "metadata": {},
   "outputs": [],
   "source": [
    "year_selectors = {\n",
    "    \"2016APV\": \"UL16MiniAODAPVv2\",\n",
    "    \"2016\": \"UL16MiniAODv2\",\n",
    "    \"2017\": \"UL17MiniAODv2\",\n",
    "    \"2018\": \"UL18MiniAODv2\",\n",
    "}"
   ]
  },
  {
   "cell_type": "code",
   "execution_count": 4,
   "metadata": {},
   "outputs": [],
   "source": [
    "sample_dict = {year: {} for year in year_selectors}\n",
    "\n",
    "for sample in samples:\n",
    "    for year, selector in year_selectors.items():\n",
    "        if selector in sample:\n",
    "            key = \"_\".join(sample[1:].split(\"_\")[:4])\n",
    "            sample_dict[year][key] = sample[:-1]"
   ]
  },
  {
   "cell_type": "code",
   "execution_count": 7,
   "metadata": {},
   "outputs": [],
   "source": [
    "import yaml\n",
    "\n",
    "for year, year_samples in sample_dict.items():\n",
    "    with open(f\"./parsed_miniaod_{year}.yaml\", \"w\") as f:\n",
    "        yaml.dump({\"samples\": {\"XHY\": {\"datasets\": year_samples}}}, f)"
   ]
  }
 ],
 "metadata": {
  "kernelspec": {
   "display_name": "python310",
   "language": "python",
   "name": "python3"
  },
  "language_info": {
   "codemirror_mode": {
    "name": "ipython",
    "version": 3
   },
   "file_extension": ".py",
   "mimetype": "text/x-python",
   "name": "python",
   "nbconvert_exporter": "python",
   "pygments_lexer": "ipython3",
   "version": "3.10.8"
  },
  "orig_nbformat": 4
 },
 "nbformat": 4,
 "nbformat_minor": 2
}
